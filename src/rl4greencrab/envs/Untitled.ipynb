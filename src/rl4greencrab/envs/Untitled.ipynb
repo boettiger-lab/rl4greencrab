{
 "cells": [
  {
   "cell_type": "code",
   "execution_count": 1,
   "id": "df6957f8-c470-43f2-a11b-f3ab396bb6ba",
   "metadata": {},
   "outputs": [],
   "source": [
    "import numpy as np"
   ]
  },
  {
   "cell_type": "code",
   "execution_count": 27,
   "id": "5c5a1fd3-ebe8-488d-afd6-539ed0710afb",
   "metadata": {},
   "outputs": [],
   "source": [
    "def get_biomass(x):\n",
    "    biomass = [-0.071 * y + 0.003 * y**2 + 0.00002 * y**3 for y in x]\n",
    "    return [np.max([0, b]) for b in biomass]"
   ]
  },
  {
   "cell_type": "code",
   "execution_count": 33,
   "id": "55607fea-5684-453e-b16e-6c11b822d7e5",
   "metadata": {},
   "outputs": [
    {
     "data": {
      "text/plain": [
       "5.550000000000002"
      ]
     },
     "execution_count": 33,
     "metadata": {},
     "output_type": "execute_result"
    }
   ],
   "source": [
    "np.sum(get_biomass([20, 30]) * b[0:1])"
   ]
  },
  {
   "cell_type": "code",
   "execution_count": null,
   "id": "910bea4a-5bde-4a95-8ce1-2171cd007e27",
   "metadata": {},
   "outputs": [],
   "source": [
    "init_pop = (norm.cdf(self.bndry[1:(self.nsize+1)],self.init_mean_adult,self.init_sd_adult)"
   ]
  },
  {
   "cell_type": "code",
   "execution_count": 31,
   "id": "887e5da8-bebb-4024-8e45-7a10c5e0d5de",
   "metadata": {},
   "outputs": [
    {
     "data": {
      "text/plain": [
       "array([  5.        ,   9.31818182,  13.63636364,  17.95454545,\n",
       "        22.27272727,  26.59090909,  30.90909091,  35.22727273,\n",
       "        39.54545455,  43.86363636,  48.18181818,  52.5       ,\n",
       "        56.81818182,  61.13636364,  65.45454545,  69.77272727,\n",
       "        74.09090909,  78.40909091,  82.72727273,  87.04545455,\n",
       "        91.36363636,  95.68181818, 100.        ])"
      ]
     },
     "execution_count": 31,
     "metadata": {},
     "output_type": "execute_result"
    }
   ],
   "source": [
    "b = 5+np.arange(0,(22+1),1)*(100-5)/22\n",
    "b"
   ]
  }
 ],
 "metadata": {
  "kernelspec": {
   "display_name": "Python 3 (ipykernel)",
   "language": "python",
   "name": "python3"
  },
  "language_info": {
   "codemirror_mode": {
    "name": "ipython",
    "version": 3
   },
   "file_extension": ".py",
   "mimetype": "text/x-python",
   "name": "python",
   "nbconvert_exporter": "python",
   "pygments_lexer": "ipython3",
   "version": "3.12.8"
  }
 },
 "nbformat": 4,
 "nbformat_minor": 5
}
