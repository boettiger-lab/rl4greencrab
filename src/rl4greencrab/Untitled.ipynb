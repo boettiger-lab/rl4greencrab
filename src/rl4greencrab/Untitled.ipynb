{
 "cells": [
  {
   "cell_type": "code",
   "execution_count": 7,
   "id": "65117229-f44d-42a1-828c-39acfd251a97",
   "metadata": {},
   "outputs": [],
   "source": [
    "from stable_baselines3.common.env_checker import check_env\n",
    "from rl4greencrab import (\n",
    "greenCrabEnv, greenCrabSimplifiedEnv, timeSeriesEnv, greenCrabMonthEnv"
   ]
  },
  {
   "cell_type": "code",
   "execution_count": 8,
   "id": "feb37828-33e2-4c46-a7b7-74685c50224a",
   "metadata": {},
   "outputs": [],
   "source": [
    "check_env(greenCrabMonthEnv(), warn=True)"
   ]
  },
  {
   "cell_type": "code",
   "execution_count": 3,
   "id": "f57b128c-24d4-4e4d-8551-fe41643a953e",
   "metadata": {},
   "outputs": [
    {
     "data": {
      "text/plain": [
       "'/home/rstudio/rl4greencrab/src/rl4greencrab'"
      ]
     },
     "execution_count": 3,
     "metadata": {},
     "output_type": "execute_result"
    }
   ],
   "source": [
    "import os\n",
    "os.getcwd()"
   ]
  },
  {
   "cell_type": "code",
   "execution_count": 9,
   "id": "8b905496-1359-4718-a8dc-4837f01bcd21",
   "metadata": {},
   "outputs": [
    {
     "ename": "SyntaxError",
     "evalue": "trailing comma not allowed without surrounding parentheses (4096066641.py, line 1)",
     "output_type": "error",
     "traceback": [
      "\u001b[0;36m  Cell \u001b[0;32mIn[9], line 1\u001b[0;36m\u001b[0m\n\u001b[0;31m    from rl4greencrab import greenCrabEnv, greenCrabSimplifiedEnv, timeSeriesEnv,\u001b[0m\n\u001b[0m                                                                                  ^\u001b[0m\n\u001b[0;31mSyntaxError\u001b[0m\u001b[0;31m:\u001b[0m trailing comma not allowed without surrounding parentheses\n"
     ]
    }
   ],
   "source": [
    "from rl4greencrab import greenCrabEnv, greenCrabSimplifiedEnv, timeSeriesEnv, \n",
    "greenCrabMonthEnv"
   ]
  },
  {
   "cell_type": "code",
   "execution_count": 4,
   "id": "e1e446c1-2037-484b-af84-822c561efb59",
   "metadata": {},
   "outputs": [],
   "source": [
    "os.chdir(\"/home/rstudio/rl4greencrab/src/\")"
   ]
  },
  {
   "cell_type": "code",
   "execution_count": 9,
   "id": "25ac6cbc-7cf5-4613-9837-1bdca020eda3",
   "metadata": {},
   "outputs": [
    {
     "name": "stdout",
     "output_type": "stream",
     "text": [
      "Collecting ray\n",
      "  Downloading ray-2.42.0-cp312-cp312-manylinux2014_x86_64.whl.metadata (18 kB)\n",
      "Requirement already satisfied: click>=7.0 in /opt/conda/lib/python3.12/site-packages (from ray) (8.1.8)\n",
      "Requirement already satisfied: filelock in /opt/conda/lib/python3.12/site-packages (from ray) (3.17.0)\n",
      "Requirement already satisfied: jsonschema in /opt/conda/lib/python3.12/site-packages (from ray) (4.23.0)\n",
      "Requirement already satisfied: msgpack<2.0.0,>=1.0.0 in /opt/conda/lib/python3.12/site-packages (from ray) (1.1.0)\n",
      "Requirement already satisfied: packaging in /opt/conda/lib/python3.12/site-packages (from ray) (24.2)\n",
      "Requirement already satisfied: protobuf!=3.19.5,>=3.15.3 in /opt/conda/lib/python3.12/site-packages (from ray) (5.28.3)\n",
      "Requirement already satisfied: pyyaml in /opt/conda/lib/python3.12/site-packages (from ray) (6.0.2)\n",
      "Requirement already satisfied: aiosignal in /opt/conda/lib/python3.12/site-packages (from ray) (1.3.2)\n",
      "Requirement already satisfied: frozenlist in /opt/conda/lib/python3.12/site-packages (from ray) (1.5.0)\n",
      "Requirement already satisfied: requests in /opt/conda/lib/python3.12/site-packages (from ray) (2.32.3)\n",
      "Requirement already satisfied: attrs>=22.2.0 in /opt/conda/lib/python3.12/site-packages (from jsonschema->ray) (25.1.0)\n",
      "Requirement already satisfied: jsonschema-specifications>=2023.03.6 in /opt/conda/lib/python3.12/site-packages (from jsonschema->ray) (2024.10.1)\n",
      "Requirement already satisfied: referencing>=0.28.4 in /opt/conda/lib/python3.12/site-packages (from jsonschema->ray) (0.36.2)\n",
      "Requirement already satisfied: rpds-py>=0.7.1 in /opt/conda/lib/python3.12/site-packages (from jsonschema->ray) (0.22.3)\n",
      "Requirement already satisfied: charset_normalizer<4,>=2 in /opt/conda/lib/python3.12/site-packages (from requests->ray) (3.4.1)\n",
      "Requirement already satisfied: idna<4,>=2.5 in /opt/conda/lib/python3.12/site-packages (from requests->ray) (3.10)\n",
      "Requirement already satisfied: urllib3<3,>=1.21.1 in /opt/conda/lib/python3.12/site-packages (from requests->ray) (2.3.0)\n",
      "Requirement already satisfied: certifi>=2017.4.17 in /opt/conda/lib/python3.12/site-packages (from requests->ray) (2024.12.14)\n",
      "Requirement already satisfied: typing-extensions>=4.4.0 in /opt/conda/lib/python3.12/site-packages (from referencing>=0.28.4->jsonschema->ray) (4.12.2)\n",
      "Downloading ray-2.42.0-cp312-cp312-manylinux2014_x86_64.whl (67.4 MB)\n",
      "\u001b[2K   \u001b[90m━━━━━━━━━━━━━━━━━━━━━━━━━━━━━━━━━━━━━━━━\u001b[0m \u001b[32m67.4/67.4 MB\u001b[0m \u001b[31m28.8 MB/s\u001b[0m eta \u001b[36m0:00:00\u001b[0m00:01\u001b[0m:00:01\u001b[0m\n",
      "Installing collected packages: ray\n",
      "Successfully installed ray-2.42.0\n"
     ]
    }
   ],
   "source": [
    "!pip install ray"
   ]
  }
 ],
 "metadata": {
  "kernelspec": {
   "display_name": "Python 3 (ipykernel)",
   "language": "python",
   "name": "python3"
  },
  "language_info": {
   "codemirror_mode": {
    "name": "ipython",
    "version": 3
   },
   "file_extension": ".py",
   "mimetype": "text/x-python",
   "name": "python",
   "nbconvert_exporter": "python",
   "pygments_lexer": "ipython3",
   "version": "3.12.8"
  }
 },
 "nbformat": 4,
 "nbformat_minor": 5
}
