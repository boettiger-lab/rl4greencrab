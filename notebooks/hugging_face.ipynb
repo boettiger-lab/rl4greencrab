{
 "cells": [
  {
   "cell_type": "code",
   "execution_count": 5,
   "id": "ecbd078a-045c-49fc-9fed-5d47f61da754",
   "metadata": {},
   "outputs": [],
   "source": [
    "from huggingface_hub import create_repo, upload_folder, notebook_login"
   ]
  },
  {
   "cell_type": "code",
   "execution_count": 6,
   "id": "55a7693d-72bd-405d-96f0-12d140428b19",
   "metadata": {},
   "outputs": [
    {
     "data": {
      "application/vnd.jupyter.widget-view+json": {
       "model_id": "701e0f409f6e4e8aa79197ce31ae334f",
       "version_major": 2,
       "version_minor": 0
      },
      "text/plain": [
       "VBox(children=(HTML(value='<center> <img\\nsrc=https://huggingface.co/front/assets/huggingface_logo-noborder.sv…"
      ]
     },
     "metadata": {},
     "output_type": "display_data"
    }
   ],
   "source": [
    "notebook_login()"
   ]
  },
  {
   "cell_type": "code",
   "execution_count": 7,
   "id": "9d5e3dba-2149-432b-a0bc-c1d32b1d5953",
   "metadata": {},
   "outputs": [],
   "source": [
    "repo_id = \"boettiger-lab/rl4eco\"\n",
    "local_path = \"./rl4greencrab\""
   ]
  },
  {
   "cell_type": "code",
   "execution_count": 8,
   "id": "12e2acbc-00b6-483b-a9c8-595cee467b00",
   "metadata": {},
   "outputs": [
    {
     "data": {
      "application/vnd.jupyter.widget-view+json": {
       "model_id": "c7edde8a64ae4ee39a0f365fd96c7990",
       "version_major": 2,
       "version_minor": 0
      },
      "text/plain": [
       "optimal_constant_sim_500.csv:   0%|          | 0.00/23.1M [00:00<?, ?B/s]"
      ]
     },
     "metadata": {},
     "output_type": "display_data"
    },
    {
     "data": {
      "application/vnd.jupyter.widget-view+json": {
       "model_id": "3f06466146794db78dba5f8e7d821f8a",
       "version_major": 2,
       "version_minor": 0
      },
      "text/plain": [
       "ppo_sim_500.csv:   0%|          | 0.00/23.0M [00:00<?, ?B/s]"
      ]
     },
     "metadata": {},
     "output_type": "display_data"
    },
    {
     "data": {
      "application/vnd.jupyter.widget-view+json": {
       "model_id": "a8cb065571ee484797955412ba6a9ff5",
       "version_major": 2,
       "version_minor": 0
      },
      "text/plain": [
       "rppo_sim_500.csv:   0%|          | 0.00/22.9M [00:00<?, ?B/s]"
      ]
     },
     "metadata": {},
     "output_type": "display_data"
    },
    {
     "data": {
      "application/vnd.jupyter.widget-view+json": {
       "model_id": "44ac8a7cbd05435e8a5d81d484cbe972",
       "version_major": 2,
       "version_minor": 0
      },
      "text/plain": [
       "Upload 6 LFS files:   0%|          | 0/6 [00:00<?, ?it/s]"
      ]
     },
     "metadata": {},
     "output_type": "display_data"
    },
    {
     "data": {
      "application/vnd.jupyter.widget-view+json": {
       "model_id": "10b43bae9e22489cad0d6d62023b0b9d",
       "version_major": 2,
       "version_minor": 0
      },
      "text/plain": [
       "td3_sim_500.csv:   0%|          | 0.00/23.4M [00:00<?, ?B/s]"
      ]
     },
     "metadata": {},
     "output_type": "display_data"
    },
    {
     "data": {
      "application/vnd.jupyter.widget-view+json": {
       "model_id": "386a1d4d22e74292bd7c91433cc12810",
       "version_major": 2,
       "version_minor": 0
      },
      "text/plain": [
       "tqc_sim_500.csv:   0%|          | 0.00/23.8M [00:00<?, ?B/s]"
      ]
     },
     "metadata": {},
     "output_type": "display_data"
    },
    {
     "data": {
      "application/vnd.jupyter.widget-view+json": {
       "model_id": "5aea9ea79a1e4ba48239faf81c338da9",
       "version_major": 2,
       "version_minor": 0
      },
      "text/plain": [
       "zero_constant_sim_500.csv:   0%|          | 0.00/21.8M [00:00<?, ?B/s]"
      ]
     },
     "metadata": {},
     "output_type": "display_data"
    },
    {
     "data": {
      "text/plain": [
       "CommitInfo(commit_url='https://huggingface.co/boettiger-lab/rl4eco/commit/4f84db16b4acdfad98b9326e50e28d528e8fb752', commit_message='Upload folder using huggingface_hub', commit_description='', oid='4f84db16b4acdfad98b9326e50e28d528e8fb752', pr_url=None, repo_url=RepoUrl('https://huggingface.co/boettiger-lab/rl4eco', endpoint='https://huggingface.co', repo_type='model', repo_id='boettiger-lab/rl4eco'), pr_revision=None, pr_num=None)"
      ]
     },
     "execution_count": 8,
     "metadata": {},
     "output_type": "execute_result"
    }
   ],
   "source": [
    "create_repo(repo_id, exist_ok=True)  # Create on HF\n",
    "upload_folder(repo_id=repo_id, \n",
    "              path_in_repo='rl4greencrab',\n",
    "              folder_path=local_path)"
   ]
  }
 ],
 "metadata": {
  "kernelspec": {
   "display_name": "Python 3 (ipykernel)",
   "language": "python",
   "name": "python3"
  },
  "language_info": {
   "codemirror_mode": {
    "name": "ipython",
    "version": 3
   },
   "file_extension": ".py",
   "mimetype": "text/x-python",
   "name": "python",
   "nbconvert_exporter": "python",
   "pygments_lexer": "ipython3",
   "version": "3.12.10"
  }
 },
 "nbformat": 4,
 "nbformat_minor": 5
}
