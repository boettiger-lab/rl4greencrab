{
 "cells": [
  {
   "cell_type": "code",
   "execution_count": 1,
   "id": "ecbd078a-045c-49fc-9fed-5d47f61da754",
   "metadata": {},
   "outputs": [],
   "source": [
    "from huggingface_hub import create_repo, upload_folder, notebook_login"
   ]
  },
  {
   "cell_type": "code",
   "execution_count": 2,
   "id": "55a7693d-72bd-405d-96f0-12d140428b19",
   "metadata": {},
   "outputs": [
    {
     "data": {
      "application/vnd.jupyter.widget-view+json": {
       "model_id": "8047b0cadb6846ad9b5f62cb530d24c3",
       "version_major": 2,
       "version_minor": 0
      },
      "text/plain": [
       "VBox(children=(HTML(value='<center> <img\\nsrc=https://huggingface.co/front/assets/huggingface_logo-noborder.sv…"
      ]
     },
     "metadata": {},
     "output_type": "display_data"
    }
   ],
   "source": [
    "notebook_login()"
   ]
  },
  {
   "cell_type": "code",
   "execution_count": 3,
   "id": "9d5e3dba-2149-432b-a0bc-c1d32b1d5953",
   "metadata": {},
   "outputs": [],
   "source": [
    "repo_id = \"boettiger-lab/rl4eco\"\n",
    "local_path = \"./rl4greencrab\""
   ]
  },
  {
   "cell_type": "code",
   "execution_count": 4,
   "id": "12e2acbc-00b6-483b-a9c8-595cee467b00",
   "metadata": {},
   "outputs": [
    {
     "data": {
      "application/vnd.jupyter.widget-view+json": {
       "model_id": "6c28b706fb094e8492a4a1ee3e709189",
       "version_major": 2,
       "version_minor": 0
      },
      "text/plain": [
       "constant_sim_500.csv:   0%|          | 0.00/16.5M [00:00<?, ?B/s]"
      ]
     },
     "metadata": {},
     "output_type": "display_data"
    },
    {
     "data": {
      "application/vnd.jupyter.widget-view+json": {
       "model_id": "1b44cf49529e40119f1c2c6fe620cab8",
       "version_major": 2,
       "version_minor": 0
      },
      "text/plain": [
       "ppo_sim_500.csv:   0%|          | 0.00/23.0M [00:00<?, ?B/s]"
      ]
     },
     "metadata": {},
     "output_type": "display_data"
    },
    {
     "data": {
      "application/vnd.jupyter.widget-view+json": {
       "model_id": "62d2e53569494f489d17a2011106198a",
       "version_major": 2,
       "version_minor": 0
      },
      "text/plain": [
       "rppo_sim_500.csv:   0%|          | 0.00/22.9M [00:00<?, ?B/s]"
      ]
     },
     "metadata": {},
     "output_type": "display_data"
    },
    {
     "data": {
      "application/vnd.jupyter.widget-view+json": {
       "model_id": "9c2063b884d94d96bb700711eba5b218",
       "version_major": 2,
       "version_minor": 0
      },
      "text/plain": [
       "td3_sim_500.csv:   0%|          | 0.00/23.4M [00:00<?, ?B/s]"
      ]
     },
     "metadata": {},
     "output_type": "display_data"
    },
    {
     "data": {
      "application/vnd.jupyter.widget-view+json": {
       "model_id": "9780110e67294b85992617167e4b12ce",
       "version_major": 2,
       "version_minor": 0
      },
      "text/plain": [
       "Upload 6 LFS files:   0%|          | 0/6 [00:00<?, ?it/s]"
      ]
     },
     "metadata": {},
     "output_type": "display_data"
    },
    {
     "data": {
      "application/vnd.jupyter.widget-view+json": {
       "model_id": "6bb0ff4bb1a04a78a868e20efebf388a",
       "version_major": 2,
       "version_minor": 0
      },
      "text/plain": [
       "td3_sim_500.csv:   0%|          | 0.00/23.4M [00:00<?, ?B/s]"
      ]
     },
     "metadata": {},
     "output_type": "display_data"
    },
    {
     "data": {
      "application/vnd.jupyter.widget-view+json": {
       "model_id": "44cf0ccd92624ec7a85816673cf05b75",
       "version_major": 2,
       "version_minor": 0
      },
      "text/plain": [
       "tqc_sim_500.csv:   0%|          | 0.00/23.8M [00:00<?, ?B/s]"
      ]
     },
     "metadata": {},
     "output_type": "display_data"
    },
    {
     "data": {
      "text/plain": [
       "CommitInfo(commit_url='https://huggingface.co/boettiger-lab/rl4eco/commit/bdc7587b104d625b439f2dbc8e60cdb573f667e2', commit_message='Upload folder using huggingface_hub', commit_description='', oid='bdc7587b104d625b439f2dbc8e60cdb573f667e2', pr_url=None, repo_url=RepoUrl('https://huggingface.co/boettiger-lab/rl4eco', endpoint='https://huggingface.co', repo_type='model', repo_id='boettiger-lab/rl4eco'), pr_revision=None, pr_num=None)"
      ]
     },
     "execution_count": 4,
     "metadata": {},
     "output_type": "execute_result"
    }
   ],
   "source": [
    "create_repo(repo_id, exist_ok=True)  # Create on HF\n",
    "upload_folder(repo_id=repo_id, \n",
    "              path_in_repo='rl4greencrab',\n",
    "              folder_path=local_path)"
   ]
  }
 ],
 "metadata": {
  "kernelspec": {
   "display_name": "Python 3 (ipykernel)",
   "language": "python",
   "name": "python3"
  },
  "language_info": {
   "codemirror_mode": {
    "name": "ipython",
    "version": 3
   },
   "file_extension": ".py",
   "mimetype": "text/x-python",
   "name": "python",
   "nbconvert_exporter": "python",
   "pygments_lexer": "ipython3",
   "version": "3.12.10"
  }
 },
 "nbformat": 4,
 "nbformat_minor": 5
}
