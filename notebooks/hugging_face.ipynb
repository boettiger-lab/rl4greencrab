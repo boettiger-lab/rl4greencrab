{
 "cells": [
  {
   "cell_type": "code",
   "execution_count": 10,
   "id": "ecbd078a-045c-49fc-9fed-5d47f61da754",
   "metadata": {},
   "outputs": [],
   "source": [
    "from huggingface_hub import create_repo, upload_folder, notebook_login"
   ]
  },
  {
   "cell_type": "code",
   "execution_count": 2,
   "id": "55a7693d-72bd-405d-96f0-12d140428b19",
   "metadata": {},
   "outputs": [
    {
     "data": {
      "application/vnd.jupyter.widget-view+json": {
       "model_id": "4bd6e045623b4dcd8a58657924d5da9a",
       "version_major": 2,
       "version_minor": 0
      },
      "text/plain": [
       "VBox(children=(HTML(value='<center> <img\\nsrc=https://huggingface.co/front/assets/huggingface_logo-noborder.sv…"
      ]
     },
     "metadata": {},
     "output_type": "display_data"
    }
   ],
   "source": [
    "notebook_login()"
   ]
  },
  {
   "cell_type": "code",
   "execution_count": 11,
   "id": "9d5e3dba-2149-432b-a0bc-c1d32b1d5953",
   "metadata": {},
   "outputs": [],
   "source": [
    "repo_id = \"boettiger-lab/rl4eco\"\n",
    "local_path = \"./rl4greencrab\""
   ]
  },
  {
   "cell_type": "code",
   "execution_count": 13,
   "id": "12e2acbc-00b6-483b-a9c8-595cee467b00",
   "metadata": {},
   "outputs": [
    {
     "data": {
      "application/vnd.jupyter.widget-view+json": {
       "model_id": "87ebc17cef0846409e1ccd5c3e539c81",
       "version_major": 2,
       "version_minor": 0
      },
      "text/plain": [
       "Upload 4 LFS files:   0%|          | 0/4 [00:00<?, ?it/s]"
      ]
     },
     "metadata": {},
     "output_type": "display_data"
    },
    {
     "data": {
      "application/vnd.jupyter.widget-view+json": {
       "model_id": "1e9605f98ad7412f903b954548ba74b0",
       "version_major": 2,
       "version_minor": 0
      },
      "text/plain": [
       "RecurrentPPO_gcmenorm_256_1_varR0.3.zip:   0%|          | 0.00/9.90M [00:00<?, ?B/s]"
      ]
     },
     "metadata": {},
     "output_type": "display_data"
    },
    {
     "data": {
      "application/vnd.jupyter.widget-view+json": {
       "model_id": "508d04972ee34befb76ca891d8711241",
       "version_major": 2,
       "version_minor": 0
      },
      "text/plain": [
       "TD3_gcmenorm.zip:   0%|          | 0.00/6.17M [00:00<?, ?B/s]"
      ]
     },
     "metadata": {},
     "output_type": "display_data"
    },
    {
     "data": {
      "application/vnd.jupyter.widget-view+json": {
       "model_id": "73636787a6064a97b6002a9d849c342b",
       "version_major": 2,
       "version_minor": 0
      },
      "text/plain": [
       "PPO_gcmenorm.zip:   0%|          | 0.00/163k [00:00<?, ?B/s]"
      ]
     },
     "metadata": {},
     "output_type": "display_data"
    },
    {
     "data": {
      "application/vnd.jupyter.widget-view+json": {
       "model_id": "df5cfe15f448443caa00fecff0cadeb5",
       "version_major": 2,
       "version_minor": 0
      },
      "text/plain": [
       "TQC_gcmenorm.zip:   0%|          | 0.00/3.36M [00:00<?, ?B/s]"
      ]
     },
     "metadata": {},
     "output_type": "display_data"
    },
    {
     "data": {
      "text/plain": [
       "CommitInfo(commit_url='https://huggingface.co/boettiger-lab/rl4eco/commit/71018828cceb3de834f3cde52ce003694cb48d70', commit_message='Upload folder using huggingface_hub', commit_description='', oid='71018828cceb3de834f3cde52ce003694cb48d70', pr_url=None, repo_url=RepoUrl('https://huggingface.co/boettiger-lab/rl4eco', endpoint='https://huggingface.co', repo_type='model', repo_id='boettiger-lab/rl4eco'), pr_revision=None, pr_num=None)"
      ]
     },
     "execution_count": 13,
     "metadata": {},
     "output_type": "execute_result"
    }
   ],
   "source": [
    "create_repo(repo_id, exist_ok=True)  # Create on HF\n",
    "upload_folder(repo_id=repo_id, \n",
    "              path_in_repo='rl4greencrab',\n",
    "              folder_path=local_path)"
   ]
  }
 ],
 "metadata": {
  "kernelspec": {
   "display_name": "Python 3 (ipykernel)",
   "language": "python",
   "name": "python3"
  },
  "language_info": {
   "codemirror_mode": {
    "name": "ipython",
    "version": 3
   },
   "file_extension": ".py",
   "mimetype": "text/x-python",
   "name": "python",
   "nbconvert_exporter": "python",
   "pygments_lexer": "ipython3",
   "version": "3.12.11"
  }
 },
 "nbformat": 4,
 "nbformat_minor": 5
}
