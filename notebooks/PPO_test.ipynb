{
 "cells": [
  {
   "cell_type": "code",
   "execution_count": 1,
   "id": "6948a7c5-97d2-4895-9d60-b98493d945da",
   "metadata": {},
   "outputs": [
    {
     "name": "stdout",
     "output_type": "stream",
     "text": [
      "Obtaining file:///home/rstudio/rl4greencrab\n",
      "  Installing build dependencies ... \u001b[?25ldone\n",
      "\u001b[?25h  Checking if build backend supports build_editable ... \u001b[?25ldone\n",
      "\u001b[?25h  Getting requirements to build editable ... \u001b[?25ldone\n",
      "\u001b[?25h  Installing backend dependencies ... \u001b[?25ldone\n",
      "\u001b[?25h  Preparing editable metadata (pyproject.toml) ... \u001b[?25ldone\n",
      "\u001b[?25hRequirement already satisfied: gymnasium in /opt/venv/lib/python3.10/site-packages (from rl4greencrab==1.0.0) (0.28.1)\n",
      "Requirement already satisfied: matplotlib in /opt/venv/lib/python3.10/site-packages (from rl4greencrab==1.0.0) (3.9.1.post1)\n",
      "Requirement already satisfied: numpy in /opt/venv/lib/python3.10/site-packages (from rl4greencrab==1.0.0) (1.26.4)\n",
      "Requirement already satisfied: pandas in /opt/venv/lib/python3.10/site-packages (from rl4greencrab==1.0.0) (2.2.2)\n",
      "Requirement already satisfied: pyyaml in /opt/venv/lib/python3.10/site-packages (from rl4greencrab==1.0.0) (6.0.2)\n",
      "Requirement already satisfied: scipy in /opt/venv/lib/python3.10/site-packages (from rl4greencrab==1.0.0) (1.14.0)\n",
      "Collecting typing (from rl4greencrab==1.0.0)\n",
      "  Using cached typing-3.7.4.3-py3-none-any.whl\n",
      "Requirement already satisfied: jax-jumpy>=1.0.0 in /opt/venv/lib/python3.10/site-packages (from gymnasium->rl4greencrab==1.0.0) (1.0.0)\n",
      "Requirement already satisfied: cloudpickle>=1.2.0 in /opt/venv/lib/python3.10/site-packages (from gymnasium->rl4greencrab==1.0.0) (3.0.0)\n",
      "Requirement already satisfied: typing-extensions>=4.3.0 in /opt/venv/lib/python3.10/site-packages (from gymnasium->rl4greencrab==1.0.0) (4.12.2)\n",
      "Requirement already satisfied: farama-notifications>=0.0.1 in /opt/venv/lib/python3.10/site-packages (from gymnasium->rl4greencrab==1.0.0) (0.0.4)\n",
      "Requirement already satisfied: contourpy>=1.0.1 in /opt/venv/lib/python3.10/site-packages (from matplotlib->rl4greencrab==1.0.0) (1.2.1)\n",
      "Requirement already satisfied: cycler>=0.10 in /opt/venv/lib/python3.10/site-packages (from matplotlib->rl4greencrab==1.0.0) (0.12.1)\n",
      "Requirement already satisfied: fonttools>=4.22.0 in /opt/venv/lib/python3.10/site-packages (from matplotlib->rl4greencrab==1.0.0) (4.53.1)\n",
      "Requirement already satisfied: kiwisolver>=1.3.1 in /opt/venv/lib/python3.10/site-packages (from matplotlib->rl4greencrab==1.0.0) (1.4.5)\n",
      "Requirement already satisfied: packaging>=20.0 in /opt/venv/lib/python3.10/site-packages (from matplotlib->rl4greencrab==1.0.0) (24.1)\n",
      "Requirement already satisfied: pillow>=8 in /opt/venv/lib/python3.10/site-packages (from matplotlib->rl4greencrab==1.0.0) (10.4.0)\n",
      "Requirement already satisfied: pyparsing>=2.3.1 in /opt/venv/lib/python3.10/site-packages (from matplotlib->rl4greencrab==1.0.0) (3.1.2)\n",
      "Requirement already satisfied: python-dateutil>=2.7 in /opt/venv/lib/python3.10/site-packages (from matplotlib->rl4greencrab==1.0.0) (2.9.0.post0)\n",
      "Requirement already satisfied: pytz>=2020.1 in /opt/venv/lib/python3.10/site-packages (from pandas->rl4greencrab==1.0.0) (2024.1)\n",
      "Requirement already satisfied: tzdata>=2022.7 in /opt/venv/lib/python3.10/site-packages (from pandas->rl4greencrab==1.0.0) (2024.1)\n",
      "Requirement already satisfied: six>=1.5 in /opt/venv/lib/python3.10/site-packages (from python-dateutil>=2.7->matplotlib->rl4greencrab==1.0.0) (1.16.0)\n",
      "Building wheels for collected packages: rl4greencrab\n",
      "  Building editable for rl4greencrab (pyproject.toml) ... \u001b[?25ldone\n",
      "\u001b[?25h  Created wheel for rl4greencrab: filename=rl4greencrab-1.0.0-py2.py3-none-any.whl size=1073 sha256=b125839fccc41947614acd0fb477a4cd383c45dfc4c4d3f62424b7ba0fe2f36b\n",
      "  Stored in directory: /tmp/pip-ephem-wheel-cache-sgqspq54/wheels/e9/7e/e6/00c4b11a2574abd59d64425d537139e25fadbde37f002c4dba\n",
      "Successfully built rl4greencrab\n",
      "Installing collected packages: typing, rl4greencrab\n",
      "Successfully installed rl4greencrab-1.0.0 typing-3.7.4.3\n",
      "Note: you may need to restart the kernel to use updated packages.\n"
     ]
    }
   ],
   "source": [
    "%pip install -e .."
   ]
  },
  {
   "cell_type": "code",
   "execution_count": null,
   "id": "dc5151d7-628b-4e1f-b767-9dfff51a6d90",
   "metadata": {},
   "outputs": [],
   "source": [
    "%pip install gym\n",
    "%pip install optuna\n",
    "%pip install rl_zoo3"
   ]
  },
  {
   "cell_type": "code",
   "execution_count": 1,
   "id": "2388b9e2-42b5-4edc-9910-ccb9cc2a1381",
   "metadata": {},
   "outputs": [],
   "source": [
    "import numpy as np\n",
    "import pandas as pd\n",
    "from plotnine import ggplot, aes, geom_density, geom_line, geom_point, geom_violin, facet_grid, labs, theme, facet_wrap\n",
    "\n",
    "from stable_baselines3 import PPO, TD3\n",
    "from sb3_contrib import TQC\n",
    "from stable_baselines3.common.env_util import make_vec_env\n",
    "\n",
    "from rl4greencrab import simulator\n",
    "import gym\n",
    "\n",
    "import optuna\n",
    "from optuna.pruners import MedianPruner\n",
    "from optuna.samplers import TPESampler\n",
    "from optuna.visualization import plot_optimization_history, plot_param_importances\n",
    "import gymnasium as gym\n",
    "import logging\n",
    "import numpy as np\n",
    "\n",
    "from gymnasium import spaces\n",
    "from scipy.stats import norm\n",
    "\n",
    "import sample_params"
   ]
  },
  {
   "cell_type": "code",
   "execution_count": 2,
   "id": "8a7f2d58-19da-4980-b0a2-ec0704cd9348",
   "metadata": {},
   "outputs": [],
   "source": [
    "logging.basicConfig(filename=\"/home/rstudio/rl4greencrab/notebooks/env_log.txt\",format='%(levelname)s: %(message)s', level=logging.DEBUG)\n",
    "\n",
    "class greenCrabEnv(gym.Env):\n",
    "    \n",
    "    metadata = {\"render.modes\": [\"human\"]}\n",
    "\n",
    "    def __init__(\n",
    "        self,\n",
    "        config=None,\n",
    "    ):\n",
    "        # if config == {}:\n",
    "        #     config = {\n",
    "        #         \"Tmax\": 100,\n",
    "        #         \"growth_k\": 0.43, \"growth_xinf\": 109, \"growth_sd\": 2.5, \"nmortality\": 0.03,\n",
    "        #         \"trapm_sigma\": 0.15, \"trapm_xmax\": 44, \"trapm_pmax\": 0.0005, \"trapf_pmax\": 0.0008,\n",
    "        #         \"trapf_k\": 0.5, \"trapf_midpoint\": 45, \"init_mean_recruit\": 15, \"init_sd_recruit\": 1.5,\n",
    "        #         \"init_mean_adult\": 65, \"init_sd_adult\": 8, \"init_n_recruit\": 1000, \"init_n_adult\": 1000,\n",
    "        #         \"w_mort_scale\": 5, \"K\": 25000, \"imm\": 10, \"r\": 50, \"area\": 4000,\"loss_a\": 0.265,\n",
    "        #         \"loss_b\": 2.80, \"loss_c\": 2.99, \"minsize\": 5, \"maxsize\": 110, \"nsize\": 21, \"ntime\":9,\"delta_t\": 1/12,\n",
    "        #         \"env_stoch\": 0.1, \"action_reward_scale\":0.001\n",
    "        #     }\n",
    "        \n",
    "        config=config or {}\n",
    "        \n",
    "        # parameters\n",
    "        self.growth_k = np.float32(config.get(\"growth_k\", 0.43))\n",
    "        self.growth_xinf = np.float32(config.get(\"growth_xinf\", 109))\n",
    "        self.growth_sd = np.float32(config.get(\"growth_sd\", 2.5))\n",
    "        self.nmortality = np.float32(config.get(\"nmortality\", 0.03))\n",
    "        \n",
    "        self.trapm_sigma = np.float32(config.get(\"trapm_sigma\", 6))\n",
    "        self.trapm_xmax = np.float32(config.get(\"trapm_xmax\", 47))\n",
    "        self.trapm_pmax = np.float32(config.get(\"trapm_pmax\", 2.26e-6))\n",
    "        #\n",
    "        self.trapf_pmax = np.float32(config.get(\"trapf_pmax\", 8.3e-7))\n",
    "        self.trapf_k = np.float32(config.get(\"trapf_k\", 0.4))\n",
    "        self.trapf_midpoint = np.float32(config.get(\"trapf_midpoint\", 41))\n",
    "        #\n",
    "        self.traps_pmax = np.float32(config.get(\"traps_pmax\", 2.75e-5))\n",
    "        self.traps_k = np.float32(config.get(\"traps_k\", 0.4))\n",
    "        self.traps_midpoint = np.float32(config.get(\"traps_midpoint\", 45))\n",
    "        \n",
    "        self.init_mean_recruit = config.get(\"init_mean_recruit\", 15)\n",
    "        self.init_sd_recruit = config.get(\"init_sd_recruit\", 1.5)\n",
    "        self.init_mean_adult = config.get(\"init_mean_adult\", 65)\n",
    "        self.init_sd_adult = config.get(\"init_sd_adult\", 8)\n",
    "        self.init_n_recruit = config.get(\"init_n_recruit\", 0)\n",
    "        self.init_n_adult = config.get(\"init_n_adult\", 0)\n",
    "        \n",
    "        self.w_mort_scale = config.get(\"w_mort_scale\", 5)\n",
    "        self.K = config.get(\"K\", 25000) #carrying capacity\n",
    "        self.imm = config.get(\"imm\", 1000) #colonization/immigration rate\n",
    "        self.r = config.get(\"r\", 1) #intrinsic rate of growth\n",
    "\n",
    "        self.max_action = config.get(\"max_action\", 2000)\n",
    "        self.max_obs = config.get(\"max_obs\", 2000)\n",
    "        \n",
    "        self.area = config.get(\"area\", 4000)\n",
    "        self.loss_a = config.get(\"loss_a\", 0.265)\n",
    "        self.loss_b = config.get(\"loss_b\", 2.80)\n",
    "        self.loss_c = config.get(\"loss_c\", 2.99)\n",
    "        \n",
    "        self.minsize = config.get(\"minsize\", 5)\n",
    "        self.maxsize = config.get(\"maxsize\", 110)\n",
    "        self.nsize = config.get(\"nsize\", 21)\n",
    "        self.ntime = config.get(\"ntime\", 9)\n",
    "        \n",
    "        self.delta_t = config.get(\"delta_t\", 1/12)\n",
    "        self.env_stoch = config.get(\"env_stoch\", 0.1)\n",
    "        \n",
    "        self.action_reward_scale = np.array(config.get(\"action_reward_scale\", [0.1, 0.1, 10]))\n",
    "        self.action_reward_exponent = config.get(\"action_reward_exponent\", 1)\n",
    "        \n",
    "        self.config = config\n",
    "\n",
    "        # Preserve these for reset\n",
    "        self.observations = np.zeros(shape=9, dtype=np.float32)\n",
    "        self.reward = 0\n",
    "        self.years_passed = 0\n",
    "        self.Tmax = config.get(\"Tmax\", 100)\n",
    "                \n",
    "        # Initial variables\n",
    "        self.bndry = self.boundary()\n",
    "        self.state = self.init_state()\n",
    "        self.midpts = self.midpoints()\n",
    "        self.gm_ker = self.g_m_kernel()\n",
    "        self.w_mort = self.w_mortality()\n",
    "        self.w_mort_exp = np.exp(-self.w_mort)\n",
    "        self.pmort = np.exp(-self.nmortality)\n",
    "\n",
    "        # Action space\n",
    "        # action -- # traps per month\n",
    "        self.action_space = spaces.Box(\n",
    "            np.array([0, 0, 0], dtype=np.float32),\n",
    "            np.array(3*[self.max_action], dtype=np.float32),\n",
    "            dtype=np.float32,\n",
    "        )\n",
    "        \n",
    "        # Observation space\n",
    "        self.observation_space = spaces.Box(\n",
    "            np.zeros(shape=self.ntime, dtype=np.float32),\n",
    "            self.max_obs * np.ones(shape=self.ntime, dtype=np.float32),\n",
    "            dtype=np.float32,\n",
    "        )\n",
    "        \n",
    "    def step(self, action):\n",
    "        # Size selective harvest rate, given action\n",
    "        harvest_rate = (\n",
    "            1 - np.exp(-(\n",
    "                self.size_sel_norm() * action[0] +\n",
    "                self.size_sel_log(self.trapf_pmax, self.trapf_midpoint, self.trapf_k) * action[1] +\n",
    "                self.size_sel_log(self.traps_pmax, self.traps_midpoint, self.traps_k) * action[2]\n",
    "            ))\n",
    "        )\n",
    "        \n",
    "        # Add population at t=1\n",
    "        size_freq = np.zeros(shape=(self.nsize, self.ntime), dtype='object')\n",
    "        size_freq[:, 0] = self.state\n",
    "        \n",
    "        # Create array to store # removed\n",
    "        removed = np.zeros(shape=(self.nsize, self.ntime), dtype='object')\n",
    "        \n",
    "        # Calculate removed and record observation at t=1\n",
    "        removed[:, 0] = [np.random.binomial(size_freq[k, 0], harvest_rate[k]) for k in range(self.nsize)]\n",
    "        self.observations[0] = np.sum(removed[:, 0])\n",
    "        \n",
    "        # Loop through intra-annual change (9 total months), t=2+\n",
    "        for j in range(self.ntime - 1):\n",
    "            n_j = self.gm_ker @ (size_freq[:, j] - removed[:, j])\n",
    "            size_freq[:, j+1] = [np.random.binomial(n=n_j[k], p=self.pmort) for k in range(self.nsize)]\n",
    "            removed[:, j+1] = [np.random.binomial(size_freq[k, j+1], harvest_rate[k]) for k in range(self.nsize)]\n",
    "        \n",
    "        # Record the catch in the observation space\n",
    "        self.observations = np.array([np.sum(removed[:, j]) for j in range(self.ntime)], dtype=np.float32)\n",
    "        \n",
    "        # Calculate new adult population after overwinter mortality\n",
    "        new_adults = [np.random.binomial(size_freq[k, 8], self.w_mort_exp[k]) for k in range(self.nsize)]\n",
    "        \n",
    "        # Simulate new recruits\n",
    "        local_recruits = np.random.normal(self.dd_growth(size_freq[:, self.ntime-1]), self.env_stoch)\n",
    "        nonlocal_recruits = np.random.poisson(self.imm) * (1 - np.sum(size_freq[:, self.ntime-1]) / self.K)\n",
    "        recruit_total = local_recruits + nonlocal_recruits\n",
    "        \n",
    "        # Get sizes of recruits\n",
    "        recruit_sizes = (norm.cdf(self.bndry[1:(self.nsize+1)], self.init_mean_recruit, self.init_sd_recruit) -\n",
    "                         norm.cdf(self.bndry[0:self.nsize], self.init_mean_recruit, self.init_sd_recruit)) * recruit_total\n",
    "        \n",
    "        # Store new population size (and cap off at zero pop)\n",
    "        self.state = np.maximum(recruit_sizes + new_adults, 0)\n",
    "        \n",
    "        # Calculate reward\n",
    "        self.reward = self.reward_func(action)\n",
    "        self.years_passed += 1\n",
    "        \n",
    "        done = bool(self.years_passed > self.Tmax)\n",
    "        \n",
    "        return self.observations, self.reward, done, done, {}\n",
    "\n",
    "\n",
    "        \n",
    "    def reset(self, *, seed=42, options=None):\n",
    "        self.state = self.init_state()\n",
    "        self.years_passed = 0\n",
    "\n",
    "        # for tracking only\n",
    "        self.reward = 0\n",
    "\n",
    "        self.observations = np.zeros(shape=self.ntime, dtype=np.float32)\n",
    "\n",
    "        return self.observations, {}\n",
    "\n",
    "    #################\n",
    "    #helper functions\n",
    "\n",
    "    #set up boundary points of IPM mesh\n",
    "    def boundary(self):\n",
    "        boundary = self.minsize+np.arange(0,(self.nsize+1),1)*(self.maxsize-self.minsize)/self.nsize\n",
    "        return boundary\n",
    "\n",
    "    #set up mid points of IPM mesh\n",
    "    def midpoints(self):\n",
    "        midpoints = 0.5*(self.bndry[0:self.nsize]+self.bndry[1:(self.nsize+1)])\n",
    "        return midpoints\n",
    "\n",
    "    #function for initial state\n",
    "    def init_state(self):\n",
    "        init_pop = (norm.cdf(self.bndry[1:(self.nsize+1)],self.init_mean_adult,self.init_sd_adult)-\\\n",
    "         norm.cdf(self.bndry[0:self.nsize],self.init_mean_adult,self.init_sd_adult))*self.init_n_adult+\\\n",
    "        (norm.cdf(self.bndry[1:(self.nsize+1)],self.init_mean_recruit,self.init_sd_recruit)-\\\n",
    "         norm.cdf(self.bndry[0:self.nsize],self.init_mean_recruit,self.init_sd_recruit))*self.init_n_recruit\n",
    "        return init_pop\n",
    "\n",
    "    #function for logistic size selectivity curve\n",
    "    def size_sel_log(self, trap_pmax, trap_midpts, trap_k):\n",
    "        size_sel = trap_pmax/(1+np.exp(-trap_k*(self.midpts-trap_midpts)))\n",
    "        return size_sel\n",
    "\n",
    "    #function for gaussian size selectivity curve\n",
    "    def size_sel_norm(self):\n",
    "        size_sel = self.trapm_pmax*np.exp(-(self.midpts-self.trapm_xmax)**2/(2*self.trapm_sigma**2))\n",
    "        return size_sel\n",
    "\n",
    "    #function for growth/mortality kernel\n",
    "    def g_m_kernel(self):\n",
    "        array = np.empty(shape=(self.nsize,self.nsize),dtype='object')\n",
    "        for i in range(self.nsize):\n",
    "            mean = (self.growth_xinf-self.midpts[i])*(1-np.exp(-self.growth_k*self.delta_t)) + self.midpts[i]\n",
    "            array[:,i] = (norm.cdf(self.bndry[1:(self.nsize+1)],mean,self.growth_sd)-\\\n",
    "                          norm.cdf(self.bndry[0:self.nsize],mean,self.growth_sd))\n",
    "        return array\n",
    "\n",
    "    #function for overwinter mortality\n",
    "    def w_mortality(self):\n",
    "        wmort = self.w_mort_scale/self.midpts\n",
    "        return wmort\n",
    "\n",
    "    #function for density dependent growth\n",
    "    def dd_growth(self,popsize):\n",
    "        dd_recruits = np.sum(popsize)*self.r*(1-np.sum(popsize)/self.K)\n",
    "        return dd_recruits\n",
    "\n",
    "    #function for reward\n",
    "    # two part reward function:\n",
    "    # 1. impact on environment (function of crab density)\n",
    "    # 2. penalty for how much effort we expended (function of action)\n",
    "    def reward_func(self,action):\n",
    "        def trap_cost(action, max_action, exponent):\n",
    "            return np.array(\n",
    "                [\n",
    "                    (action[0]/max_action) ** exponent,\n",
    "                    (action[1]/max_action) ** exponent,\n",
    "                    (action[2]/max_action) ** exponent,\n",
    "                ]\n",
    "            )\n",
    "        reward = (\n",
    "            -self.loss_a \n",
    "            /\n",
    "            (\n",
    "                1+np.exp(-self.loss_b*(np.sum(self.state)/self.area-self.loss_c))\n",
    "            )\n",
    "            - np.sum(\n",
    "                self.action_reward_scale \n",
    "                * trap_cost(action, self.max_action, self.action_reward_exponent) \n",
    "            )\n",
    "        )\n",
    "        return reward\n",
    "\n",
    "\n",
    "class greenCrabSimplifiedEnv(greenCrabEnv):\n",
    "    \"\"\" like invasive_IPM but with simplified observations and normalized to -1, 1 space. \"\"\"\n",
    "    def __init__(self, config={}):\n",
    "        super().__init__(config=config)\n",
    "        self.observation_space = spaces.Box(\n",
    "            np.array([-1,-1], dtype=np.float32),\n",
    "            np.array([1,1], dtype=np.float32),\n",
    "            dtype=np.float32,\n",
    "        )\n",
    "        self.action_space = spaces.Box(\n",
    "            np.float32([-1, -1, -1]),\n",
    "            np.float32([1, 1, 1]),\n",
    "            dtype=np.float32,\n",
    "        )\n",
    "        self.max_action = config.get('max_action', 2000) # ad hoc based on previous values\n",
    "        self.cpue_normalization = config.get('cpue_normalization', 100)\n",
    "        \n",
    "    def step(self, action):\n",
    "        action_natural_units = np.maximum( self.max_action * (1 + action)/2 , 0.)\n",
    "        obs, rew, term, trunc, info = super().step(\n",
    "            np.float32(action_natural_units)\n",
    "        )\n",
    "        normalized_cpue = 2 * self.cpue_2(obs, action_natural_units) - 1\n",
    "        # observation = np.float32(np.append(normalized_cpue, action))\n",
    "        observation = normalized_cpue\n",
    "\n",
    "        #sign_reward_zero = any(action == 0) * 10000  # Add a fixed penalty if any action component is 0.\n",
    "        #sign_penalty_extreme = any(abs(action) == 1) * 10000\n",
    "        \n",
    "        rew = 10 * rew # use larger rewards, possibly makes trainer easier?\n",
    "\n",
    "        # print(f'aciton is {action}')\n",
    "        return observation, rew, term, trunc, info\n",
    "\n",
    "    def reset(self, *, seed=42, options=None):\n",
    "        _, info = super().reset(seed=seed, options=options)\n",
    "\n",
    "        # completely new  obs\n",
    "        return - np.ones(shape=self.observation_space.shape, dtype=np.float32), info\n",
    "\n",
    "    def cpue_2(self, obs, action_natural_units):\n",
    "        # If you don't set traps, the catch-per-effort is 0/0.  Should be NaN, but we call it 0\n",
    "        if np.sum(action_natural_units) <= 0:\n",
    "            return np.float32([0,0])\n",
    "        #return np.float32([np.NaN,np.NaN])\n",
    "        # can't tell which traps caught each number of crabs here. Perhaps too simple but maybe realistic \n",
    "        cpue_2 = np.float32([\n",
    "            np.sum(obs[0:5]) / (self.cpue_normalization * np.sum(action_natural_units)),\n",
    "            np.sum(obs[5:]) / (self.cpue_normalization * np.sum(action_natural_units))\n",
    "        ])\n",
    "        return cpue_2"
   ]
  },
  {
   "cell_type": "code",
   "execution_count": 3,
   "id": "58a22be8-ef61-468d-95fa-5f563d597198",
   "metadata": {},
   "outputs": [],
   "source": [
    "config = {\n",
    "        'action_reward_scale': np.array([0.08, 0.08, 0.4]),\n",
    "        'max_action': 3000,\n",
    "        # 'env_stoch': 0.,\n",
    "        'trapm_pmax': 10 * 0.1 * 2.75e-5, #2.26e-6,\n",
    "        'trapf_pmax': 10 * 0.03 * 2.75e-5, #8.3e-7,\n",
    "        'traps_pmax': 10 * 2.75e-5, #2.75e-5,\n",
    "\n",
    "        'loss_a': 0.2,\n",
    "        'loss_b': 5,\n",
    "        'loss_c': 5,\n",
    "        \n",
    "        'action_reward_exponent': 10,\n",
    "    }"
   ]
  },
  {
   "cell_type": "code",
   "execution_count": 4,
   "id": "3aca9d7a-ff9f-472c-8eb4-0cde1026cd0a",
   "metadata": {},
   "outputs": [],
   "source": [
    "gcse = greenCrabSimplifiedEnv(config)\n",
    "vec_env = make_vec_env(greenCrabSimplifiedEnv, n_envs=12)"
   ]
  },
  {
   "cell_type": "code",
   "execution_count": 9,
   "id": "6d2174ce-1ed6-41d5-a1ea-b004b501f621",
   "metadata": {},
   "outputs": [
    {
     "data": {
      "text/plain": [
       "(array([-1., -1.], dtype=float32), -72.43522614947211, False, False, {})"
      ]
     },
     "execution_count": 9,
     "metadata": {},
     "output_type": "execute_result"
    }
   ],
   "source": [
    "gcse.step(np.float32([0.0, 3.3306690738754696e-13, 0.0]))"
   ]
  },
  {
   "cell_type": "code",
   "execution_count": 11,
   "id": "e0a479e6-6437-4cdd-9333-87fb358cf360",
   "metadata": {},
   "outputs": [
    {
     "data": {
      "text/plain": [
       "array([1.35424417e+00, 1.57679702e+03, 1.58179702e+03, 5.73542442e+01,\n",
       "       1.82000000e+02, 4.10000000e+02, 5.61000000e+02, 4.95000000e+02,\n",
       "       2.71000000e+02, 1.18000000e+02, 5.00000000e+01, 2.20000000e+01,\n",
       "       1.00000000e+01, 2.00000000e+00, 0.00000000e+00, 0.00000000e+00,\n",
       "       0.00000000e+00, 0.00000000e+00, 0.00000000e+00, 0.00000000e+00,\n",
       "       0.00000000e+00])"
      ]
     },
     "execution_count": 11,
     "metadata": {},
     "output_type": "execute_result"
    }
   ],
   "source": [
    "gcse.state"
   ]
  },
  {
   "cell_type": "code",
   "execution_count": 12,
   "id": "fe5f6233-69d0-49f1-a7ac-123bac9e70bb",
   "metadata": {},
   "outputs": [
    {
     "data": {
      "text/plain": [
       "array([-0.99461776, -0.9957733 ], dtype=float32)"
      ]
     },
     "execution_count": 12,
     "metadata": {},
     "output_type": "execute_result"
    }
   ],
   "source": [
    "observation"
   ]
  },
  {
   "cell_type": "code",
   "execution_count": 13,
   "id": "027e19dd-4fac-4170-8ae2-a3c0fe3803b5",
   "metadata": {},
   "outputs": [
    {
     "data": {
      "text/plain": [
       "-999.7681232549211"
      ]
     },
     "execution_count": 13,
     "metadata": {},
     "output_type": "execute_result"
    }
   ],
   "source": [
    "reward"
   ]
  },
  {
   "cell_type": "code",
   "execution_count": null,
   "id": "d4d54cb5-c8cc-4336-b373-0890be552e2f",
   "metadata": {
    "scrolled": true
   },
   "outputs": [
    {
     "data": {
      "application/vnd.jupyter.widget-view+json": {
       "model_id": "1c661b9ee13540e19aa070932e1ea2eb",
       "version_major": 2,
       "version_minor": 0
      },
      "text/plain": [
       "Output()"
      ]
     },
     "metadata": {},
     "output_type": "display_data"
    }
   ],
   "source": [
    "model = PPO(\"MlpPolicy\", vec_env, verbose=0, \n",
    "            batch_size =  64, \n",
    "            n_steps = 32, \n",
    "            gamma = 0.9999, \n",
    "            learning_rate = 0.020439420278073966, \n",
    "            ent_coef = 7.676877009214456e-07, \n",
    "            clip_range =  0.1, \n",
    "            n_epochs = 20, \n",
    "            gae_lambda = 0.9, \n",
    "            max_grad_norm = 5, \n",
    "            vf_coef = 0.9694540149524578, \n",
    "            tensorboard_log=\"/home/rstudio/logs\")\n",
    "model.learn(\n",
    "\ttotal_timesteps= 500_000, \n",
    "\tprogress_bar=True,\n",
    ")\n",
    "model.save(\"ppo_gcse_short\")"
   ]
  },
  {
   "cell_type": "code",
   "execution_count": 7,
   "id": "bcc0a0ff-63b8-40c4-b589-01f76104dab7",
   "metadata": {},
   "outputs": [],
   "source": [
    "hyperparameter = {'gamma': 0.9999, \n",
    "                  'learning_rate': 0.020439420278073966, \n",
    "                  'batch_size': 16, \n",
    "                  'buffer_size': 10000, \n",
    "                  'learning_starts': 0, \n",
    "                  'train_freq': 16, \n",
    "                  'tau': 0.05, \n",
    "                  'log_std_init': -2.392885376919297, \n",
    "                  'net_arch': 'big', \n",
    "                  'n_quantiles': 31, \n",
    "                  'top_quantiles_to_drop_per_net': 1}"
   ]
  },
  {
   "cell_type": "code",
   "execution_count": 8,
   "id": "a1953e8f-e498-4a01-8a93-d91f04ae6a3f",
   "metadata": {},
   "outputs": [],
   "source": [
    "from stable_baselines3.common.evaluation import evaluate_policy"
   ]
  },
  {
   "cell_type": "code",
   "execution_count": 10,
   "id": "e1895163-5082-404d-a778-b7b00c4877e7",
   "metadata": {},
   "outputs": [],
   "source": [
    "ppoAgent = PPO.load(\"ppo_gcse_short\")\n",
    "# tunningAgent = TD3.load(\"tunning_best_gcse\")\n",
    "evalEnv = greenCrabSimplifiedEnv(config)"
   ]
  },
  {
   "cell_type": "code",
   "execution_count": 23,
   "id": "75c6fd38-0402-40f9-a68d-0d225b2f67b5",
   "metadata": {
    "scrolled": true
   },
   "outputs": [
    {
     "data": {
      "text/html": [
       "<pre style=\"white-space:pre;overflow-x:auto;line-height:normal;font-family:Menlo,'DejaVu Sans Mono',consolas,'Courier New',monospace\">/opt/venv/lib/python3.10/site-packages/stable_baselines3/common/evaluation.py:67: UserWarning: Evaluation \n",
       "environment is not wrapped with a ``Monitor`` wrapper. This may result in reporting modified episode lengths and \n",
       "rewards, if other wrappers happen to modify these. Consider wrapping environment first with ``Monitor`` wrapper.\n",
       "</pre>\n"
      ],
      "text/plain": [
       "/opt/venv/lib/python3.10/site-packages/stable_baselines3/common/evaluation.py:67: UserWarning: Evaluation \n",
       "environment is not wrapped with a ``Monitor`` wrapper. This may result in reporting modified episode lengths and \n",
       "rewards, if other wrappers happen to modify these. Consider wrapping environment first with ``Monitor`` wrapper.\n"
      ]
     },
     "metadata": {},
     "output_type": "display_data"
    },
    {
     "data": {
      "text/html": [
       "<pre style=\"white-space:pre;overflow-x:auto;line-height:normal;font-family:Menlo,'DejaVu Sans Mono',consolas,'Courier New',monospace\">PPO reward = -127.54202 +/- 0.50037\n",
       "</pre>\n"
      ],
      "text/plain": [
       "PPO reward = -127.54202 +/- 0.50037\n"
      ]
     },
     "metadata": {},
     "output_type": "display_data"
    }
   ],
   "source": [
    "mean_rew, std_rew = evaluate_policy(ppoAgent, evalEnv)\n",
    "print(f\"PPO reward = {mean_rew:.5f} +/- {std_rew:.5f}\")"
   ]
  },
  {
   "cell_type": "code",
   "execution_count": 24,
   "id": "c79406e4-34d1-401a-a91d-29e16906d633",
   "metadata": {
    "scrolled": true
   },
   "outputs": [
    {
     "data": {
      "text/html": [
       "<div>\n",
       "<style scoped>\n",
       "    .dataframe tbody tr th:only-of-type {\n",
       "        vertical-align: middle;\n",
       "    }\n",
       "\n",
       "    .dataframe tbody tr th {\n",
       "        vertical-align: top;\n",
       "    }\n",
       "\n",
       "    .dataframe thead th {\n",
       "        text-align: right;\n",
       "    }\n",
       "</style>\n",
       "<table border=\"1\" class=\"dataframe\">\n",
       "  <thead>\n",
       "    <tr style=\"text-align: right;\">\n",
       "      <th></th>\n",
       "      <th>t</th>\n",
       "      <th>obs0</th>\n",
       "      <th>obs1</th>\n",
       "      <th>act0</th>\n",
       "      <th>act1</th>\n",
       "      <th>act2</th>\n",
       "      <th>rew</th>\n",
       "      <th>rep</th>\n",
       "    </tr>\n",
       "  </thead>\n",
       "  <tbody>\n",
       "    <tr>\n",
       "      <th>0</th>\n",
       "      <td>0</td>\n",
       "      <td>-1.0</td>\n",
       "      <td>-1.0</td>\n",
       "      <td>-1.0</td>\n",
       "      <td>-1.0</td>\n",
       "      <td>-1.0</td>\n",
       "      <td>0.000000e+00</td>\n",
       "      <td>0</td>\n",
       "    </tr>\n",
       "    <tr>\n",
       "      <th>1</th>\n",
       "      <td>1</td>\n",
       "      <td>-1.0</td>\n",
       "      <td>-1.0</td>\n",
       "      <td>-1.0</td>\n",
       "      <td>-1.0</td>\n",
       "      <td>-1.0</td>\n",
       "      <td>-9.658372e-11</td>\n",
       "      <td>0</td>\n",
       "    </tr>\n",
       "    <tr>\n",
       "      <th>2</th>\n",
       "      <td>2</td>\n",
       "      <td>-1.0</td>\n",
       "      <td>-1.0</td>\n",
       "      <td>-1.0</td>\n",
       "      <td>-1.0</td>\n",
       "      <td>-1.0</td>\n",
       "      <td>-6.107395e-10</td>\n",
       "      <td>0</td>\n",
       "    </tr>\n",
       "    <tr>\n",
       "      <th>3</th>\n",
       "      <td>3</td>\n",
       "      <td>-1.0</td>\n",
       "      <td>-1.0</td>\n",
       "      <td>-1.0</td>\n",
       "      <td>-1.0</td>\n",
       "      <td>-1.0</td>\n",
       "      <td>-5.530218e-09</td>\n",
       "      <td>0</td>\n",
       "    </tr>\n",
       "    <tr>\n",
       "      <th>4</th>\n",
       "      <td>4</td>\n",
       "      <td>-1.0</td>\n",
       "      <td>-1.0</td>\n",
       "      <td>-1.0</td>\n",
       "      <td>-1.0</td>\n",
       "      <td>-1.0</td>\n",
       "      <td>-9.672240e-08</td>\n",
       "      <td>0</td>\n",
       "    </tr>\n",
       "  </tbody>\n",
       "</table>\n",
       "</div>"
      ],
      "text/plain": [
       "   t  obs0  obs1  act0  act1  act2           rew  rep\n",
       "0  0  -1.0  -1.0  -1.0  -1.0  -1.0  0.000000e+00    0\n",
       "1  1  -1.0  -1.0  -1.0  -1.0  -1.0 -9.658372e-11    0\n",
       "2  2  -1.0  -1.0  -1.0  -1.0  -1.0 -6.107395e-10    0\n",
       "3  3  -1.0  -1.0  -1.0  -1.0  -1.0 -5.530218e-09    0\n",
       "4  4  -1.0  -1.0  -1.0  -1.0  -1.0 -9.672240e-08    0"
      ]
     },
     "execution_count": 24,
     "metadata": {},
     "output_type": "execute_result"
    }
   ],
   "source": [
    "ppoData = simulator(env = evalEnv, agent = ppoAgent).simulate_full_named_obs_acts()\n",
    "ppoDataDF = pd.DataFrame(ppoData)\n",
    "ppoDataDF.head()"
   ]
  },
  {
   "cell_type": "code",
   "execution_count": 18,
   "id": "5e66f370-7b08-4a89-9112-45f80c7e3329",
   "metadata": {},
   "outputs": [
    {
     "data": {
      "text/plain": [
       "<Axes: xlabel='t'>"
      ]
     },
     "execution_count": 18,
     "metadata": {},
     "output_type": "execute_result"
    },
    {
     "data": {
      "image/png": "[encoded data removed]",
      "text/plain": [
       "<Figure size 640x480 with 1 Axes>"
      ]
     },
     "metadata": {},
     "output_type": "display_data"
    }
   ],
   "source": [
    "ppoDataDF[ppoDataDF.rep == 0].plot(x='t', y =['obs0', 'obs1'])"
   ]
  },
  {
   "cell_type": "code",
   "execution_count": 19,
   "id": "0bd7351b-21eb-4049-9591-92f568691072",
   "metadata": {},
   "outputs": [
    {
     "data": {
      "text/plain": [
       "<Axes: xlabel='t'>"
      ]
     },
     "execution_count": 19,
     "metadata": {},
     "output_type": "execute_result"
    },
    {
     "data": {
      "image/png": "[encoded data removed]",
      "text/plain": [
       "<Figure size 640x480 with 1 Axes>"
      ]
     },
     "metadata": {},
     "output_type": "display_data"
    }
   ],
   "source": [
    "ppoDataDF[ppoDataDF.rep == 0].plot(x='t', y =['act0', 'act1', 'act2'])"
   ]
  },
  {
   "cell_type": "code",
   "execution_count": 15,
   "id": "76d56702-568c-443b-9375-4b8d6299fedf",
   "metadata": {
    "scrolled": true
   },
   "outputs": [
    {
     "data": {
      "application/vnd.jupyter.widget-view+json": {
       "model_id": "c4ab12ed7118434ea13c14d930717cfe",
       "version_major": 2,
       "version_minor": 0
      },
      "text/plain": [
       "Output()"
      ]
     },
     "metadata": {},
     "output_type": "display_data"
    },
    {
     "data": {
      "text/html": [
       "<pre style=\"white-space:pre;overflow-x:auto;line-height:normal;font-family:Menlo,'DejaVu Sans Mono',consolas,'Courier New',monospace\"></pre>\n"
      ],
      "text/plain": []
     },
     "metadata": {},
     "output_type": "display_data"
    },
    {
     "data": {
      "text/html": [
       "<pre style=\"white-space:pre;overflow-x:auto;line-height:normal;font-family:Menlo,'DejaVu Sans Mono',consolas,'Courier New',monospace\">\n",
       "</pre>\n"
      ],
      "text/plain": [
       "\n"
      ]
     },
     "metadata": {},
     "output_type": "display_data"
    }
   ],
   "source": [
    "model = TQC(\"MlpPolicy\", \n",
    "            vec_env, \n",
    "            verbose=0, \n",
    "            gamma= 0.9999, \n",
    "            learning_rate = 0.020439420278073966, \n",
    "            batch_size = 16, \n",
    "            buffer_size = 10000, \n",
    "            learning_starts= 0, \n",
    "            train_freq = 16, \n",
    "            tau = 0.05, \n",
    "            top_quantiles_to_drop_per_net = 1)\n",
    "model.learn(\n",
    "\ttotal_timesteps=250_000, \n",
    "\tprogress_bar=True,\n",
    ")\n",
    "model.save(\"tqc_gcse_short\")"
   ]
  },
  {
   "cell_type": "code",
   "execution_count": 8,
   "id": "c7f4a094-7cc2-4eff-a992-7a9a2849c66c",
   "metadata": {},
   "outputs": [
    {
     "name": "stdout",
     "output_type": "stream",
     "text": [
      "TQC reward = -0.00470 +/- 0.00011\n"
     ]
    }
   ],
   "source": [
    "tqcAgent = TQC.load(\"./study_results/tunning_best_gcse_tqc_config_2\")\n",
    "mean_rew, std_rew = evaluate_policy(tqcAgent, evalEnv)\n",
    "print(f\"TQC reward = {mean_rew:.5f} +/- {std_rew:.5f}\")"
   ]
  },
  {
   "cell_type": "code",
   "execution_count": 9,
   "id": "a305d3db-e967-40bd-a946-f050bef86130",
   "metadata": {
    "scrolled": true
   },
   "outputs": [
    {
     "data": {
      "text/plain": [
       "(   t      obs0      obs1      act0      act1      act2           rew  rep\n",
       " 0  0 -1.000000 -1.000000 -0.729967 -0.564515 -0.739773  0.000000e+00    0\n",
       " 1  1 -1.000000 -1.000000 -0.729967 -0.564515 -0.739773 -1.989208e-07    0\n",
       " 2  2 -1.000000 -0.999475 -0.729887 -0.564445 -0.739707 -3.982536e-07    0\n",
       " 3  3 -0.998426 -0.996880 -0.729298 -0.563955 -0.739245 -6.001561e-07    0\n",
       " 4  4 -0.995135 -0.995163 -0.728631 -0.563427 -0.738744 -8.168965e-07    0,\n",
       " <Axes: xlabel='t'>,\n",
       " <Axes: xlabel='t'>)"
      ]
     },
     "execution_count": 9,
     "metadata": {},
     "output_type": "execute_result"
    },
    {
     "data": {
      "image/png": "[encoded data removed]",
      "text/plain": [
       "<Figure size 640x480 with 1 Axes>"
      ]
     },
     "metadata": {},
     "output_type": "display_data"
    },
    {
     "data": {
      "image/png": "[encoded data removed]",
      "text/plain": [
       "<Figure size 640x480 with 1 Axes>"
      ]
     },
     "metadata": {},
     "output_type": "display_data"
    }
   ],
   "source": [
    "tqcData = simulator(env = evalEnv, agent = tqcAgent).simulate_full_named_obs_acts()\n",
    "tqcDataDF = pd.DataFrame(tqcData)\n",
    "(\n",
    "    tqcDataDF.head(),\n",
    "    tqcDataDF[tqcDataDF.rep == 0].plot(x='t', y =['obs0', 'obs1']),\n",
    "    tqcDataDF[tqcDataDF.rep == 0].plot(x='t', y =['act0','act1','act2']),\n",
    ")"
   ]
  },
  {
   "cell_type": "code",
   "execution_count": 5,
   "id": "84e187c0-e69d-423b-99d1-d84f1b63d1df",
   "metadata": {},
   "outputs": [
    {
     "data": {
      "application/vnd.jupyter.widget-view+json": {
       "model_id": "b5d3a55525864ef4bbad40aabfc6d0e4",
       "version_major": 2,
       "version_minor": 0
      },
      "text/plain": [
       "Output()"
      ]
     },
     "metadata": {},
     "output_type": "display_data"
    },
    {
     "data": {
      "text/html": [
       "<pre style=\"white-space:pre;overflow-x:auto;line-height:normal;font-family:Menlo,'DejaVu Sans Mono',consolas,'Courier New',monospace\"></pre>\n"
      ],
      "text/plain": []
     },
     "metadata": {},
     "output_type": "display_data"
    },
    {
     "data": {
      "text/html": [
       "<pre style=\"white-space:pre;overflow-x:auto;line-height:normal;font-family:Menlo,'DejaVu Sans Mono',consolas,'Courier New',monospace\">\n",
       "</pre>\n"
      ],
      "text/plain": [
       "\n"
      ]
     },
     "metadata": {},
     "output_type": "display_data"
    }
   ],
   "source": [
    "model = TD3(\"MlpPolicy\", gcse, verbose=0, tensorboard_log=\"/home/rstudio/logs\")\n",
    "model.learn(\n",
    "\ttotal_timesteps=250_000, \n",
    "\tprogress_bar=True,\n",
    ")\n",
    "model.save(\"td3_gcse_short\")"
   ]
  },
  {
   "cell_type": "code",
   "execution_count": 11,
   "id": "10ba2509-e780-47d6-9b6a-eaf539638998",
   "metadata": {},
   "outputs": [
    {
     "name": "stderr",
     "output_type": "stream",
     "text": [
      "/opt/venv/lib/python3.10/site-packages/stable_baselines3/common/evaluation.py:67: UserWarning: Evaluation environment is not wrapped with a ``Monitor`` wrapper. This may result in reporting modified episode lengths and rewards, if other wrappers happen to modify these. Consider wrapping environment first with ``Monitor`` wrapper.\n"
     ]
    },
    {
     "name": "stdout",
     "output_type": "stream",
     "text": [
      "TD3 reward = -0.00151 +/- 0.00000\n"
     ]
    }
   ],
   "source": [
    "td3Agent = TD3.load(\"td3_gcse_short\")\n",
    "mean_rew, std_rew = evaluate_policy(td3Agent, evalEnv)\n",
    "print(f\"TD3 reward = {mean_rew:.5f} +/- {std_rew:.5f}\")"
   ]
  },
  {
   "cell_type": "code",
   "execution_count": 13,
   "id": "611df473-09bc-44d6-9c08-f043c46286b4",
   "metadata": {},
   "outputs": [
    {
     "data": {
      "text/plain": [
       "(<Axes: xlabel='t'>, <Axes: xlabel='t'>)"
      ]
     },
     "execution_count": 13,
     "metadata": {},
     "output_type": "execute_result"
    },
    {
     "data": {
      "image/png": "[encoded data removed]",
      "text/plain": [
       "<Figure size 640x480 with 1 Axes>"
      ]
     },
     "metadata": {},
     "output_type": "display_data"
    },
    {
     "data": {
      "image/png": "[encoded data removed]",
      "text/plain": [
       "<Figure size 640x480 with 1 Axes>"
      ]
     },
     "metadata": {},
     "output_type": "display_data"
    }
   ],
   "source": [
    "td3Data = simulator(env = evalEnv, agent = td3Agent).simulate_full_named_obs_acts()\n",
    "td3DataDF = pd.DataFrame(td3Data)\n",
    "(\n",
    "    td3DataDF[td3DataDF.rep == 0].plot(x='t', y =['obs0', 'obs1']),\n",
    "    td3DataDF[td3DataDF.rep == 0].plot(x='t', y =['act0', 'act1', 'act2']),\n",
    ")"
   ]
  },
  {
   "cell_type": "markdown",
   "id": "64578d44-1c3a-49d7-a1d4-944ef0584950",
   "metadata": {},
   "source": [
    "## Constant Action"
   ]
  },
  {
   "cell_type": "code",
   "execution_count": 10,
   "id": "e147a463-7e5a-4259-a471-dd44b2dbd2f3",
   "metadata": {},
   "outputs": [],
   "source": [
    "import numpy as np\n",
    "import pandas as pd\n",
    "from plotnine import (\n",
    "    ggplot, aes, geom_density, geom_line, geom_point, \n",
    "    geom_violin, facet_grid, labs, theme, facet_wrap,\n",
    ")\n",
    "from rl4greencrab import greenCrabEnv, greenCrabSimplifiedEnv\n",
    "from rl4greencrab import simulator, constAction, multiConstAction, constActionNatUnits, evaluate_agent\n",
    "from skopt import gp_minimize, gbrt_minimize \n",
    "from skopt.plots import plot_convergence, plot_objective"
   ]
  },
  {
   "cell_type": "code",
   "execution_count": 11,
   "id": "69a98c3e-bd0c-4c48-845d-edb77ee03970",
   "metadata": {},
   "outputs": [],
   "source": [
    "def evaluateConstAct(x):\n",
    "    config = {\n",
    "        'action_reward_scale': np.array([0.08, 0.08, 0.4]),\n",
    "        'max_action': 3000,\n",
    "        # 'env_stoch': 0.,\n",
    "        'trapm_pmax': 10 * 0.1 * 2.75e-5, #2.26e-6,\n",
    "        'trapf_pmax': 10 * 0.03 * 2.75e-5, #8.3e-7,\n",
    "        'traps_pmax': 10 * 2.75e-5, #2.75e-5,\n",
    "\n",
    "        'loss_a': 100,\n",
    "        'loss_b': 10,\n",
    "        'loss_c': 0.5,\n",
    "        \n",
    "        'action_reward_exponent': 10,\n",
    "    }\n",
    "    env = greenCrabSimplifiedEnv(config=config)\n",
    "    agent = multiConstAction(env=env, action=np.array(x))\n",
    "    # rewards = simulator(env, agent).simulate()\n",
    "    # out = np.mean(rewards)\n",
    "    m_reward = evaluate_agent(agent=agent, ray_remote=True).evaluate(n_eval_episodes=200)\n",
    "    print(m_reward)\n",
    "    return - m_reward"
   ]
  },
  {
   "cell_type": "code",
   "execution_count": null,
   "id": "0cdf78c1-4e27-4c4b-aca8-9022149a787f",
   "metadata": {},
   "outputs": [],
   "source": [
    "%%time\n",
    "max_action = 3000\n",
    "res = gp_minimize(evaluateConstAct, 3*[(0.0, max_action)], n_calls = 100, verbose=True)\n",
    "res.x"
   ]
  },
  {
   "cell_type": "code",
   "execution_count": 26,
   "id": "b71e1998-7910-47e1-bb69-80d07d251f37",
   "metadata": {},
   "outputs": [
    {
     "name": "stdout",
     "output_type": "stream",
     "text": [
      "-2.579183694045056e+30\n"
     ]
    },
    {
     "data": {
      "text/plain": [
       "2.579183694045056e+30"
      ]
     },
     "execution_count": 26,
     "metadata": {},
     "output_type": "execute_result"
    }
   ],
   "source": [
    "evaluateConstAct(\n",
    "    [0.0, 1222.9571833609382, 1175.8018447601435]\n",
    ")\n",
    "# [0.0, 3.3306690738754696e-13, 0.0]"
   ]
  },
  {
   "cell_type": "code",
   "execution_count": 30,
   "id": "c52415d3-1c65-40ac-b32f-5a8c0ca65643",
   "metadata": {},
   "outputs": [],
   "source": [
    "ep_rew = 0\n",
    "for i in range(100):\n",
    "    observation, reward, terminated, truncated, info = gcse.step(np.array([0.0, 3.3306690738754696e-13, 0.0]))\n",
    "    ep_rew += reward"
   ]
  },
  {
   "cell_type": "code",
   "execution_count": 31,
   "id": "5e71efdb-6a0f-436f-bad4-405295a24706",
   "metadata": {},
   "outputs": [
    {
     "data": {
      "text/plain": [
       "-99981.84222500451"
      ]
     },
     "execution_count": 31,
     "metadata": {},
     "output_type": "execute_result"
    }
   ],
   "source": [
    "ep_rew"
   ]
  }
 ],
 "metadata": {
  "kernelspec": {
   "display_name": "Python 3 (ipykernel)",
   "language": "python",
   "name": "python3"
  },
  "language_info": {
   "codemirror_mode": {
    "name": "ipython",
    "version": 3
   },
   "file_extension": ".py",
   "mimetype": "text/x-python",
   "name": "python",
   "nbconvert_exporter": "python",
   "pygments_lexer": "ipython3",
   "version": "3.10.12"
  }
 },
 "nbformat": 4,
 "nbformat_minor": 5
}
