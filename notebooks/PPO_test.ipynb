{
 "cells": [
  {
   "cell_type": "code",
   "execution_count": null,
   "id": "6948a7c5-97d2-4895-9d60-b98493d945da",
   "metadata": {},
   "outputs": [],
   "source": [
    "%pip install -e .."
   ]
  },
  {
   "cell_type": "code",
   "execution_count": null,
   "id": "dc5151d7-628b-4e1f-b767-9dfff51a6d90",
   "metadata": {},
   "outputs": [],
   "source": [
    "%pip install gym\n",
    "%pip install optuna\n",
    "%pip install rl_zoo3"
   ]
  },
  {
   "cell_type": "code",
   "execution_count": 1,
   "id": "2388b9e2-42b5-4edc-9910-ccb9cc2a1381",
   "metadata": {},
   "outputs": [],
   "source": [
    "import numpy as np\n",
    "import pandas as pd\n",
    "from plotnine import ggplot, aes, geom_density, geom_line, geom_point, geom_violin, facet_grid, labs, theme, facet_wrap\n",
    "\n",
    "from stable_baselines3 import PPO, TD3\n",
    "from sb3_contrib import TQC\n",
    "from stable_baselines3.common.env_util import make_vec_env\n",
    "\n",
    "from rl4greencrab import greenCrabSimplifiedEnv, simulator\n",
    "import gym\n",
    "\n",
    "import optuna\n",
    "from optuna.pruners import MedianPruner\n",
    "from optuna.samplers import TPESampler\n",
    "from optuna.visualization import plot_optimization_history, plot_param_importances"
   ]
  },
  {
   "cell_type": "code",
   "execution_count": 2,
   "id": "3aca9d7a-ff9f-472c-8eb4-0cde1026cd0a",
   "metadata": {},
   "outputs": [],
   "source": [
    "gcse = greenCrabSimplifiedEnv()\n",
    "vec_env = make_vec_env(greenCrabSimplifiedEnv, n_envs=12)\n",
    "eval_envs = vec_env"
   ]
  },
  {
   "cell_type": "code",
   "execution_count": 3,
   "id": "d4d54cb5-c8cc-4336-b373-0890be552e2f",
   "metadata": {},
   "outputs": [
    {
     "data": {
      "application/vnd.jupyter.widget-view+json": {
       "model_id": "750bcbf6900a4f5b8c0e0395bf414050",
       "version_major": 2,
       "version_minor": 0
      },
      "text/plain": [
       "Output()"
      ]
     },
     "metadata": {},
     "output_type": "display_data"
    },
    {
     "data": {
      "text/html": [
       "<pre style=\"white-space:pre;overflow-x:auto;line-height:normal;font-family:Menlo,'DejaVu Sans Mono',consolas,'Courier New',monospace\"></pre>\n"
      ],
      "text/plain": []
     },
     "metadata": {},
     "output_type": "display_data"
    },
    {
     "data": {
      "text/html": [
       "<pre style=\"white-space:pre;overflow-x:auto;line-height:normal;font-family:Menlo,'DejaVu Sans Mono',consolas,'Courier New',monospace\">\n",
       "</pre>\n"
      ],
      "text/plain": [
       "\n"
      ]
     },
     "metadata": {},
     "output_type": "display_data"
    }
   ],
   "source": [
    "model = PPO(\"MlpPolicy\", vec_env, verbose=0, \n",
    "            batch_size =  64, # no\n",
    "            n_steps = 32, # no\n",
    "            gamma = 0.95, # no\n",
    "            learning_rate =  0.1, # orginal = 0.9447561168646137\n",
    "            ent_coef = 7.676877009214456e-07, # no\n",
    "            clip_range =  0.1, # no\n",
    "            n_epochs = 20, \n",
    "            gae_lambda = 0.9, # no\n",
    "            max_grad_norm = 5, # no\n",
    "            vf_coef = 0.9694540149524578, # no\n",
    "            tensorboard_log=\"/home/rstudio/logs\")\n",
    "model.learn(\n",
    "\ttotal_timesteps=250_000, \n",
    "\tprogress_bar=True,\n",
    ")\n",
    "model.save(\"ppo_gcse\")"
   ]
  },
  {
   "cell_type": "code",
   "execution_count": 5,
   "id": "e548def8-cdc5-48e2-bbbf-a48c681e3456",
   "metadata": {},
   "outputs": [
    {
     "data": {
      "application/vnd.jupyter.widget-view+json": {
       "model_id": "27cfda4ac0454b4f9ee8606574302fae",
       "version_major": 2,
       "version_minor": 0
      },
      "text/plain": [
       "Output()"
      ]
     },
     "metadata": {},
     "output_type": "display_data"
    },
    {
     "data": {
      "text/html": [
       "<pre style=\"white-space:pre;overflow-x:auto;line-height:normal;font-family:Menlo,'DejaVu Sans Mono',consolas,'Courier New',monospace\"></pre>\n"
      ],
      "text/plain": []
     },
     "metadata": {},
     "output_type": "display_data"
    },
    {
     "data": {
      "text/html": [
       "<pre style=\"white-space:pre;overflow-x:auto;line-height:normal;font-family:Menlo,'DejaVu Sans Mono',consolas,'Courier New',monospace\">\n",
       "</pre>\n"
      ],
      "text/plain": [
       "\n"
      ]
     },
     "metadata": {},
     "output_type": "display_data"
    }
   ],
   "source": [
    "model = PPO(\"MlpPolicy\", vec_env, verbose=0, \n",
    "            learning_rate =  0.1, # orginal = 0.9447561168646137\n",
    "            tensorboard_log=\"/home/rstudio/logs\")\n",
    "model.learn(\n",
    "\ttotal_timesteps=250_000, \n",
    "\tprogress_bar=True,\n",
    ")\n",
    "model.save(\"ppo_gcse\")"
   ]
  }
 ],
 "metadata": {
  "kernelspec": {
   "display_name": "Python 3 (ipykernel)",
   "language": "python",
   "name": "python3"
  },
  "language_info": {
   "codemirror_mode": {
    "name": "ipython",
    "version": 3
   },
   "file_extension": ".py",
   "mimetype": "text/x-python",
   "name": "python",
   "nbconvert_exporter": "python",
   "pygments_lexer": "ipython3",
   "version": "3.10.12"
  }
 },
 "nbformat": 4,
 "nbformat_minor": 5
}
