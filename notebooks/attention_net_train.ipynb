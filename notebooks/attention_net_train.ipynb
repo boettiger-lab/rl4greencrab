{
 "cells": [
  {
   "cell_type": "code",
   "execution_count": 10,
   "id": "d1087c8e-be94-4a9a-b7c1-833c037e663d",
   "metadata": {},
   "outputs": [],
   "source": [
    "import ray\n",
    "from ray import tune\n",
    "from ray.rllib.models.catalog import ModelCatalog\n",
    "from rl4greencrab import greenCrabSimplifiedEnv, simulator\n",
    "import numpy as np"
   ]
  },
  {
   "cell_type": "code",
   "execution_count": 11,
   "id": "c38c9097-b735-4f26-a257-0f95f1bb1620",
   "metadata": {},
   "outputs": [],
   "source": [
    "config = {\n",
    "        'action_reward_scale': np.array([0.08, 0.08, 0.4]),\n",
    "        'max_action': 3000,\n",
    "        # 'env_stoch': 0.,\n",
    "        'trapm_pmax': 10 * 0.1 * 2.75e-5, #2.26e-6,\n",
    "        'trapf_pmax': 10 * 0.03 * 2.75e-5, #8.3e-7,\n",
    "        'traps_pmax': 10 * 2.75e-5, #2.75e-5,\n",
    "\n",
    "        'loss_a': 0.2,\n",
    "        'loss_b': 5,\n",
    "        'loss_c': 5,\n",
    "        \n",
    "        'action_reward_exponent': 10,\n",
    "    }"
   ]
  },
  {
   "cell_type": "code",
   "execution_count": null,
   "id": "0132676a-2721-4645-815d-7d3998b64db2",
   "metadata": {},
   "outputs": [],
   "source": [
    "ray.init()"
   ]
  },
  {
   "cell_type": "code",
   "execution_count": 15,
   "id": "7930b22d-e178-40f2-894e-75da5b50ab76",
   "metadata": {},
   "outputs": [
    {
     "name": "stderr",
     "output_type": "stream",
     "text": [
      "2024-10-08 06:09:04,592\tINFO tune.py:616 -- [output] This uses the legacy output and progress reporter, as Jupyter notebooks are not supported by the new engine, yet. For more information, please see https://github.com/ray-project/ray/issues/36949\n"
     ]
    },
    {
     "data": {
      "text/html": [
       "<div class=\"tuneStatus\">\n",
       "  <div style=\"display: flex;flex-direction: row\">\n",
       "    <div style=\"display: flex;flex-direction: column;\">\n",
       "      <h3>Tune Status</h3>\n",
       "      <table>\n",
       "<tbody>\n",
       "<tr><td>Current time:</td><td>2024-10-08 06:18:46</td></tr>\n",
       "<tr><td>Running for: </td><td>00:09:41.94        </td></tr>\n",
       "<tr><td>Memory:      </td><td>123.4/251.5 GiB    </td></tr>\n",
       "</tbody>\n",
       "</table>\n",
       "    </div>\n",
       "    <div class=\"vDivider\"></div>\n",
       "    <div class=\"systemInfo\">\n",
       "      <h3>System Info</h3>\n",
       "      Using FIFO scheduling algorithm.<br>Logical resource usage: 3.0/128 CPUs, 0/2 GPUs (0.0/1.0 accelerator_type:RTX)\n",
       "    </div>\n",
       "    \n",
       "  </div>\n",
       "  <div class=\"hDivider\"></div>\n",
       "  <div class=\"trialStatus\">\n",
       "    <h3>Trial Status</h3>\n",
       "    <table>\n",
       "<thead>\n",
       "<tr><th>Trial name          </th><th>status    </th><th>loc              </th><th style=\"text-align: right;\">  iter</th><th style=\"text-align: right;\">  total time (s)</th><th style=\"text-align: right;\">    ts</th><th style=\"text-align: right;\">  num_healthy_workers</th><th style=\"text-align: right;\">  num_in_flight_async_\n",
       "sample_reqs</th><th style=\"text-align: right;\">  num_remote_worker_re\n",
       "starts</th></tr>\n",
       "</thead>\n",
       "<tbody>\n",
       "<tr><td>PPO_gcse_d2158_00000</td><td>TERMINATED</td><td>10.42.0.188:18233</td><td style=\"text-align: right;\">    25</td><td style=\"text-align: right;\">         568.812</td><td style=\"text-align: right;\">100000</td><td style=\"text-align: right;\">                    2</td><td style=\"text-align: right;\">0</td><td style=\"text-align: right;\">0</td></tr>\n",
       "</tbody>\n",
       "</table>\n",
       "  </div>\n",
       "</div>\n",
       "<style>\n",
       ".tuneStatus {\n",
       "  color: var(--jp-ui-font-color1);\n",
       "}\n",
       ".tuneStatus .systemInfo {\n",
       "  display: flex;\n",
       "  flex-direction: column;\n",
       "}\n",
       ".tuneStatus td {\n",
       "  white-space: nowrap;\n",
       "}\n",
       ".tuneStatus .trialStatus {\n",
       "  display: flex;\n",
       "  flex-direction: column;\n",
       "}\n",
       ".tuneStatus h3 {\n",
       "  font-weight: bold;\n",
       "}\n",
       ".tuneStatus .hDivider {\n",
       "  border-bottom-width: var(--jp-border-width);\n",
       "  border-bottom-color: var(--jp-border-color0);\n",
       "  border-bottom-style: solid;\n",
       "}\n",
       ".tuneStatus .vDivider {\n",
       "  border-left-width: var(--jp-border-width);\n",
       "  border-left-color: var(--jp-border-color0);\n",
       "  border-left-style: solid;\n",
       "  margin: 0.5em 1em 0.5em 1em;\n",
       "}\n",
       "</style>\n"
      ],
      "text/plain": [
       "<IPython.core.display.HTML object>"
      ]
     },
     "metadata": {},
     "output_type": "display_data"
    },
    {
     "data": {
      "text/html": [
       "<div class=\"trialProgress\">\n",
       "  <h3>Trial Progress</h3>\n",
       "  <table>\n",
       "<thead>\n",
       "<tr><th>Trial name          </th><th style=\"text-align: right;\">  agent_timesteps_total</th><th>counters                                                                                                                                </th><th>custom_metrics  </th><th>env_runners                                                                                                                                                                                                                                                                                                                                                                                                                                                                                                                                                                                                                                                                                                                                                                                                                                                                                                                                                                                                                                                                                                                                                                                                                                                                                                                                                                                                                                                                                                                                                                                                                                                                                                                                                                                                                                                                                                                                                                                                                                                                                                                                                                                                                                                                                                                                                                                                                                                                                                                                                                                                                                                                                                                                                                                                                                                                                                                                                                                                                                                                                                                                                                                                                                                                                                                                                                                                                                                                                                                                                                                                                                                                                                                                                                                                                                                                                                                                                                                                                                                                                                                                                                                                                                                                                                                                                                                                                                                                                                                                                                                                                                                                                                                                                                                                                                                                                                                                                                                                                                                                                                                                                                                                                                                                                                                                                                                                                                                                                                                                                                                                                                                                                                                                                                                                                                                        </th><th>episode_media  </th><th>info                                                                                                                                                                                                                                                                                                                                                                                                                                                                                                                                                                                                                                                                                                                                  </th><th style=\"text-align: right;\">  num_agent_steps_sampled</th><th style=\"text-align: right;\">  num_agent_steps_sampled_lifetime</th><th style=\"text-align: right;\">  num_agent_steps_trained</th><th style=\"text-align: right;\">  num_env_steps_sampled</th><th style=\"text-align: right;\">  num_env_steps_sampled_lifetime</th><th style=\"text-align: right;\">  num_env_steps_sampled_this_iter</th><th style=\"text-align: right;\">  num_env_steps_sampled_throughput_per_sec</th><th style=\"text-align: right;\">  num_env_steps_trained</th><th style=\"text-align: right;\">  num_env_steps_trained_this_iter</th><th style=\"text-align: right;\">  num_env_steps_trained_throughput_per_sec</th><th style=\"text-align: right;\">  num_healthy_workers</th><th style=\"text-align: right;\">  num_in_flight_async_sample_reqs</th><th style=\"text-align: right;\">  num_remote_worker_restarts</th><th style=\"text-align: right;\">  num_steps_trained_this_iter</th><th>perf                                                                                                                                                                                                                        </th><th>timers                                                                                                                                                                                                                                                                                   </th></tr>\n",
       "</thead>\n",
       "<tbody>\n",
       "<tr><td>PPO_gcse_d2158_00000</td><td style=\"text-align: right;\">                 100000</td><td>{&#x27;num_env_steps_sampled&#x27;: 100000, &#x27;num_env_steps_trained&#x27;: 100000, &#x27;num_agent_steps_sampled&#x27;: 100000, &#x27;num_agent_steps_trained&#x27;: 100000}</td><td>{}              </td><td>{&#x27;episode_reward_max&#x27;: -23.725916038984423, &#x27;episode_reward_min&#x27;: -103.0634637632135, &#x27;episode_reward_mean&#x27;: -56.64671970298419, &#x27;episode_len_mean&#x27;: 101.0, &#x27;episode_media&#x27;: {}, &#x27;episodes_timesteps_total&#x27;: 10100, &#x27;policy_reward_min&#x27;: {&#x27;default_policy&#x27;: -103.0634637632135}, &#x27;policy_reward_max&#x27;: {&#x27;default_policy&#x27;: -23.725916038984423}, &#x27;policy_reward_mean&#x27;: {&#x27;default_policy&#x27;: -56.64671970298419}, &#x27;custom_metrics&#x27;: {}, &#x27;hist_stats&#x27;: {&#x27;episode_reward&#x27;: [-58.57609968928765, -71.01180507410375, -52.83072775113937, -68.68366377949886, -63.88111477288608, -51.70442566491228, -80.54048176655726, -103.0634637632135, -27.69986051572147, -49.79129122718156, -79.28080935189746, -68.92284237654114, -86.22266973610773, -64.68391806589744, -79.39119853992503, -74.54815084318014, -78.58194446451488, -58.127013539196994, -46.215218656610865, -60.144863283565705, -56.73726483117958, -40.487241343992224, -49.05246017823137, -50.1611694758346, -72.6788091476739, -47.00543981316632, -79.31851616086003, -50.94275849735836, -59.00915296097517, -57.44771792536592, -54.10226451766146, -72.30774199221443, -78.5108790170423, -44.44626760554906, -36.98613319881863, -57.325943028556765, -66.81439742781718, -59.809778275136956, -62.36115410924808, -50.691888256895666, -38.58584691370354, -78.04587199596344, -75.24259582807127, -62.51599852528996, -53.949167461530855, -67.62293527156645, -52.82086572504298, -51.69940903316001, -56.60297369099177, -65.51905298508179, -67.64153872757285, -72.8115024069876, -57.74512456249842, -77.61708195801562, -53.48432740138772, -46.45235634099589, -82.84850291388528, -45.60602695946779, -55.25855297909242, -51.88798662552567, -63.40496242100808, -55.42896583283796, -48.599314570040356, -50.80573739212052, -47.67236667241183, -35.45146637047598, -35.61437679265319, -57.82515765445025, -66.96725048112525, -51.69832624480679, -33.24497077314757, -34.286408929240494, -62.95320189100648, -42.062258916118786, -68.572348870827, -69.50005574005299, -39.257637455065, -48.10269111527835, -59.81074470058902, -38.60847118127052, -53.97885657912166, -36.381062059115365, -61.26596691033406, -23.725916038984423, -32.017563576386486, -50.5916708282557, -37.572977520769044, -54.089290602870086, -50.543147819308246, -48.102256393990935, -48.341261522562036, -50.06310511127837, -30.77955748441129, -64.28133155214404, -42.53919360914905, -62.48506693390626, -62.351375855398956, -66.16886490335126, -53.14368298184763, -42.32684907935928], &#x27;episode_lengths&#x27;: [101, 101, 101, 101, 101, 101, 101, 101, 101, 101, 101, 101, 101, 101, 101, 101, 101, 101, 101, 101, 101, 101, 101, 101, 101, 101, 101, 101, 101, 101, 101, 101, 101, 101, 101, 101, 101, 101, 101, 101, 101, 101, 101, 101, 101, 101, 101, 101, 101, 101, 101, 101, 101, 101, 101, 101, 101, 101, 101, 101, 101, 101, 101, 101, 101, 101, 101, 101, 101, 101, 101, 101, 101, 101, 101, 101, 101, 101, 101, 101, 101, 101, 101, 101, 101, 101, 101, 101, 101, 101, 101, 101, 101, 101, 101, 101, 101, 101, 101, 101], &#x27;policy_default_policy_reward&#x27;: [-58.57609968928765, -71.01180507410375, -52.83072775113937, -68.68366377949886, -63.88111477288608, -51.70442566491228, -80.54048176655726, -103.0634637632135, -27.69986051572147, -49.79129122718156, -79.28080935189746, -68.92284237654114, -86.22266973610773, -64.68391806589744, -79.39119853992503, -74.54815084318014, -78.58194446451488, -58.127013539196994, -46.215218656610865, -60.144863283565705, -56.73726483117958, -40.487241343992224, -49.05246017823137, -50.1611694758346, -72.6788091476739, -47.00543981316632, -79.31851616086003, -50.94275849735836, -59.00915296097517, -57.44771792536592, -54.10226451766146, -72.30774199221443, -78.5108790170423, -44.44626760554906, -36.98613319881863, -57.325943028556765, -66.81439742781718, -59.809778275136956, -62.36115410924808, -50.691888256895666, -38.58584691370354, -78.04587199596344, -75.24259582807127, -62.51599852528996, -53.949167461530855, -67.62293527156645, -52.82086572504298, -51.69940903316001, -56.60297369099177, -65.51905298508179, -67.64153872757285, -72.8115024069876, -57.74512456249842, -77.61708195801562, -53.48432740138772, -46.45235634099589, -82.84850291388528, -45.60602695946779, -55.25855297909242, -51.88798662552567, -63.40496242100808, -55.42896583283796, -48.599314570040356, -50.80573739212052, -47.67236667241183, -35.45146637047598, -35.61437679265319, -57.82515765445025, -66.96725048112525, -51.69832624480679, -33.24497077314757, -34.286408929240494, -62.95320189100648, -42.062258916118786, -68.572348870827, -69.50005574005299, -39.257637455065, -48.10269111527835, -59.81074470058902, -38.60847118127052, -53.97885657912166, -36.381062059115365, -61.26596691033406, -23.725916038984423, -32.017563576386486, -50.5916708282557, -37.572977520769044, -54.089290602870086, -50.543147819308246, -48.102256393990935, -48.341261522562036, -50.06310511127837, -30.77955748441129, -64.28133155214404, -42.53919360914905, -62.48506693390626, -62.351375855398956, -66.16886490335126, -53.14368298184763, -42.32684907935928]}, &#x27;sampler_perf&#x27;: {&#x27;mean_raw_obs_processing_ms&#x27;: 0.3738743286762673, &#x27;mean_inference_ms&#x27;: 2.249881235647532, &#x27;mean_action_processing_ms&#x27;: 0.1563688363520023, &#x27;mean_env_wait_ms&#x27;: 1.2566196142468558, &#x27;mean_env_render_ms&#x27;: 0.0}, &#x27;num_faulty_episodes&#x27;: 0, &#x27;connector_metrics&#x27;: {&#x27;ObsPreprocessorConnector_ms&#x27;: 0.00411224365234375, &#x27;StateBufferConnector_ms&#x27;: 0.00468897819519043, &#x27;ViewRequirementAgentConnector_ms&#x27;: 0.17021799087524414}, &#x27;num_episodes&#x27;: 40, &#x27;episode_return_max&#x27;: -23.725916038984423, &#x27;episode_return_min&#x27;: -103.0634637632135, &#x27;episode_return_mean&#x27;: -56.64671970298419, &#x27;episodes_this_iter&#x27;: 40}</td><td>{}             </td><td>{&#x27;learner&#x27;: {&#x27;default_policy&#x27;: {&#x27;learner_stats&#x27;: {&#x27;allreduce_latency&#x27;: 0.0, &#x27;grad_gnorm&#x27;: 6.474800370585534, &#x27;cur_kl_coeff&#x27;: 0.6750000000000002, &#x27;cur_lr&#x27;: 5.0000000000000016e-05, &#x27;total_loss&#x27;: 8.425408523313461, &#x27;policy_loss&#x27;: -0.0027698714459773095, &#x27;vf_loss&#x27;: 8.42006253632166, &#x27;vf_explained_var&#x27;: 0.22255167300983142, &#x27;kl&#x27;: 0.012023466579260565, &#x27;entropy&#x27;: 3.7397730952949932, &#x27;entropy_coeff&#x27;: 0.0}, &#x27;model&#x27;: {}, &#x27;custom_metrics&#x27;: {}, &#x27;num_agent_steps_trained&#x27;: 127.54838709677419, &#x27;num_grad_updates_lifetime&#x27;: 22785.5, &#x27;diff_num_grad_updates_vs_sampler_policy&#x27;: 464.5}}, &#x27;num_env_steps_sampled&#x27;: 100000, &#x27;num_env_steps_trained&#x27;: 100000, &#x27;num_agent_steps_sampled&#x27;: 100000, &#x27;num_agent_steps_trained&#x27;: 100000}</td><td style=\"text-align: right;\">                   100000</td><td style=\"text-align: right;\">                            100000</td><td style=\"text-align: right;\">                   100000</td><td style=\"text-align: right;\">                 100000</td><td style=\"text-align: right;\">                          100000</td><td style=\"text-align: right;\">                             4000</td><td style=\"text-align: right;\">                                   180.278</td><td style=\"text-align: right;\">                 100000</td><td style=\"text-align: right;\">                             4000</td><td style=\"text-align: right;\">                                   180.278</td><td style=\"text-align: right;\">                    2</td><td style=\"text-align: right;\">                                0</td><td style=\"text-align: right;\">                           0</td><td style=\"text-align: right;\">                         4000</td><td>{&#x27;cpu_util_percent&#x27;: 98.68620689655174, &#x27;ram_util_percent&#x27;: 49.07931034482757, &#x27;gpu_util_percent0&#x27;: 0.0, &#x27;vram_util_percent0&#x27;: 2.034505208333334e-05, &#x27;gpu_util_percent1&#x27;: 0.0, &#x27;vram_util_percent1&#x27;: 2.034505208333334e-05}</td><td>{&#x27;training_iteration_time_ms&#x27;: 21386.928, &#x27;restore_workers_time_ms&#x27;: 0.014, &#x27;training_step_time_ms&#x27;: 21386.891, &#x27;sample_time_ms&#x27;: 7947.62, &#x27;load_time_ms&#x27;: 33.758, &#x27;load_throughput&#x27;: 118491.365, &#x27;learn_time_ms&#x27;: 13398.521, &#x27;learn_throughput&#x27;: 298.54, &#x27;synch_weights_time_ms&#x27;: 6.437}</td></tr>\n",
       "</tbody>\n",
       "</table>\n",
       "</div>\n",
       "<style>\n",
       ".trialProgress {\n",
       "  display: flex;\n",
       "  flex-direction: column;\n",
       "  color: var(--jp-ui-font-color1);\n",
       "}\n",
       ".trialProgress h3 {\n",
       "  font-weight: bold;\n",
       "}\n",
       ".trialProgress td {\n",
       "  white-space: nowrap;\n",
       "}\n",
       "</style>\n"
      ],
      "text/plain": [
       "<IPython.core.display.HTML object>"
      ]
     },
     "metadata": {},
     "output_type": "display_data"
    },
    {
     "name": "stderr",
     "output_type": "stream",
     "text": [
      "2024-10-08 06:18:46,545\tINFO tune.py:1009 -- Wrote the latest version of all result files and experiment state to '/home/rstudio/logs/PPO_2024-10-08_06-09-04' in 0.0163s.\n",
      "2024-10-08 06:18:47,053\tINFO tune.py:1041 -- Total run time: 582.46 seconds (581.93 seconds for the tuning loop).\n"
     ]
    },
    {
     "data": {
      "text/plain": [
       "<ray.tune.analysis.experiment_analysis.ExperimentAnalysis at 0x7ff5bc322410>"
      ]
     },
     "execution_count": 15,
     "metadata": {},
     "output_type": "execute_result"
    }
   ],
   "source": [
    "tune.register_env(\"gcse\", lambda c: greenCrabSimplifiedEnv(config))\n",
    "\n",
    "tune.run(\"PPO\", config={\n",
    "    \"env\": \"gcse\",\n",
    "    \"model\": {\n",
    "        \"use_attention\": True\n",
    "    },\n",
    "    \"framework\": \"torch\",\n",
    "},\n",
    "storage_path = \"/home/rstudio/logs\",\n",
    "stop={\n",
    "    \"timesteps_total\": 100000  # Set a limit of 100,000 timesteps for training\n",
    "})"
   ]
  }
 ],
 "metadata": {
  "kernelspec": {
   "display_name": "Python 3 (ipykernel)",
   "language": "python",
   "name": "python3"
  },
  "language_info": {
   "codemirror_mode": {
    "name": "ipython",
    "version": 3
   },
   "file_extension": ".py",
   "mimetype": "text/x-python",
   "name": "python",
   "nbconvert_exporter": "python",
   "pygments_lexer": "ipython3",
   "version": "3.11.10"
  }
 },
 "nbformat": 4,
 "nbformat_minor": 5
}
