{
 "cells": [
  {
   "cell_type": "markdown",
   "id": "9c5f89cf-cee3-498d-8a83-4a05e1bd53b8",
   "metadata": {},
   "source": [
    "# Intro to this package\n",
    "---\n",
    "\n",
    "Here we introduce the functionalities of our package and the dynamical models it uses."
   ]
  },
  {
   "cell_type": "markdown",
   "id": "146823b9-fb59-437b-899c-b487291afa24",
   "metadata": {},
   "source": [
    "# 1. Setup\n",
    "---\n",
    "Uncomment the following line to install `rl4greencrab`. \n",
    "After installation you need to restart the jupyter kernel in order to use the package and run this notebook."
   ]
  },
  {
   "cell_type": "code",
   "execution_count": 5,
   "id": "9059df7d-6045-4834-a9cf-fcf32edac655",
   "metadata": {},
   "outputs": [],
   "source": [
    "# %pip install -e .."
   ]
  },
  {
   "cell_type": "markdown",
   "id": "b73ea14c-9712-4eba-bf44-5dfba45005be",
   "metadata": {},
   "source": [
    "# 2. Integral projection model\n",
    "---\n",
    "\n",
    "Here we conceptually describe our integral projection model (IPM) of the crab population dynamics.\n",
    "\n",
    "Our model describes the process in which an agent observes green crab counts by laying traps to catch the crabs. \n",
    "Each time-step corresponds to a year's worth of data, and has two components: \n",
    "First, for 9 months crabs are caught using traps laid by the agent.\n",
    "Second, for the last 3 months of the year, the crabs undergo a gestation period and no crabs are caught during this time.\n",
    "This is the timeline of a time-step:\n",
    "1. The agent receives an observation (nine months' worth of catch data).\n",
    "2. The agent decides a density of traps to lay for the next year.\n",
    "3. The population dynamics model evolves somatically for nine months, each month producing an overall catch count observation. This observation is sampled from a distribution that depends on the size-structure of the crab population.\n",
    "5. New crabs are spawned and grow for 3 months. The number of new-borns is determined by a logistic function (plus a random term). During this timeline, too, new crabs immigrate with a fixed immigration rate.\n",
    "\n",
    "The following code block shows the input and output of this model.\n",
    "Our model is encoded as a `gymnasium env` class in order to leverage existing RL algorithms."
   ]
  },
  {
   "cell_type": "code",
   "execution_count": 2,
   "id": "cab72c67-653f-4aee-8bfe-f13fbebd02c9",
   "metadata": {},
   "outputs": [],
   "source": [
    "from rl4greencrab import greenCrabEnv\n",
    "\n",
    "gce = greenCrabEnv()"
   ]
  },
  {
   "cell_type": "markdown",
   "id": "f353ac81-20b4-4083-879a-44ecaa04c3e4",
   "metadata": {},
   "source": [
    "After declaring `gce`, the `.reset()` function sets the state of the crab population to its initial value, and produces the following output:\n",
    "\n",
    "`initial observation`, `info`.\n",
    "\n",
    "Currently, `initial observation` is a random sequence of numbers for simplicity's sake."
   ]
  },
  {
   "cell_type": "code",
   "execution_count": 10,
   "id": "693a9ba4-b422-47b6-9d5a-04b9006ac094",
   "metadata": {},
   "outputs": [
    {
     "data": {
      "text/plain": [
       "array([17., 20., 52., 45., 78., 74., 65., 25., 40.], dtype=float32)"
      ]
     },
     "execution_count": 10,
     "metadata": {},
     "output_type": "execute_result"
    }
   ],
   "source": [
    "observation, info = gce.reset()\n",
    "observation"
   ]
  },
  {
   "cell_type": "markdown",
   "id": "188dedf0-864f-4133-bca0-d88dfd519374",
   "metadata": {},
   "source": [
    "A dynamical step for the IPM is produced by  the `.step(action)` function.\n",
    "Here, the `action` argument takes values in [0, 2000] and corresponds to the number of traps laid.\n",
    "The output is\n",
    "\n",
    "`observation`, `reward`, `terminated`, `truncated`, `info`\n",
    "\n",
    "The latter three outputs are beyond the scope of this notebook.\n",
    "The `reward` output is used by the agent to train---the agent looks for strategies that lead to high average rewards over 100 time-steps.\n",
    "\n",
    "The following call of the step function returns a null observation since no traps were laid."
   ]
  },
  {
   "cell_type": "code",
   "execution_count": 14,
   "id": "9d1b0d77-895f-4b19-8d3d-3da878a6704a",
   "metadata": {},
   "outputs": [
    {
     "data": {
      "text/plain": [
       "array([0., 0., 0., 0., 0., 0., 0., 0., 0.], dtype=float32)"
      ]
     },
     "execution_count": 14,
     "metadata": {},
     "output_type": "execute_result"
    }
   ],
   "source": [
    "observation, reward, terminated, truncated, info = gce.step([0])\n",
    "observation"
   ]
  },
  {
   "cell_type": "markdown",
   "id": "6c8bed72-996d-4e68-b850-67117830f3b7",
   "metadata": {},
   "source": [
    "Lets try some other action values and see what observations we obtain:"
   ]
  },
  {
   "cell_type": "code",
   "execution_count": 18,
   "id": "862dceed-6947-416c-9de7-0c2ba38d8fe5",
   "metadata": {},
   "outputs": [
    {
     "data": {
      "text/plain": [
       "array([0., 1., 0., 2., 1., 1., 0., 2., 1.], dtype=float32)"
      ]
     },
     "execution_count": 18,
     "metadata": {},
     "output_type": "execute_result"
    }
   ],
   "source": [
    "# 1.\n",
    "_ = gce.reset()\n",
    "observation, reward, terminated, truncated, info = gce.step([1])\n",
    "observation"
   ]
  },
  {
   "cell_type": "code",
   "execution_count": 19,
   "id": "fd41a3d4-f50b-4f9a-bad5-29a2089c1631",
   "metadata": {},
   "outputs": [
    {
     "data": {
      "text/plain": [
       "array([ 7.,  4., 11.,  5.,  8.,  9.,  7.,  3.,  6.], dtype=float32)"
      ]
     },
     "execution_count": 19,
     "metadata": {},
     "output_type": "execute_result"
    }
   ],
   "source": [
    "# 2.\n",
    "_ = gce.reset()\n",
    "observation, reward, terminated, truncated, info = gce.step([10])\n",
    "observation"
   ]
  },
  {
   "cell_type": "code",
   "execution_count": 20,
   "id": "fbffb33f-4b7f-4cc1-a7f7-824d12207a51",
   "metadata": {},
   "outputs": [
    {
     "data": {
      "text/plain": [
       "array([87., 76., 58., 58., 43., 49., 61., 55., 63.], dtype=float32)"
      ]
     },
     "execution_count": 20,
     "metadata": {},
     "output_type": "execute_result"
    }
   ],
   "source": [
    "# 3.\n",
    "_ = gce.reset()\n",
    "observation, reward, terminated, truncated, info = gce.step([100])\n",
    "observation"
   ]
  },
  {
   "cell_type": "code",
   "execution_count": null,
   "id": "ed44b534-9b72-4e4c-a7d3-6e7c069e7293",
   "metadata": {},
   "outputs": [],
   "source": []
  }
 ],
 "metadata": {
  "kernelspec": {
   "display_name": "Python 3 (ipykernel)",
   "language": "python",
   "name": "python3"
  },
  "language_info": {
   "codemirror_mode": {
    "name": "ipython",
    "version": 3
   },
   "file_extension": ".py",
   "mimetype": "text/x-python",
   "name": "python",
   "nbconvert_exporter": "python",
   "pygments_lexer": "ipython3",
   "version": "3.10.12"
  }
 },
 "nbformat": 4,
 "nbformat_minor": 5
}
