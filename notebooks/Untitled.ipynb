{
 "cells": [
  {
   "cell_type": "code",
   "execution_count": 1,
   "id": "86c45fdc-1d05-4617-ace2-2efd0f4cae21",
   "metadata": {},
   "outputs": [],
   "source": [
    "import numpy as np\n",
    "import pandas as pd\n",
    "from plotnine import (\n",
    "    ggplot, aes, geom_density, geom_line, geom_point, \n",
    "    geom_violin, facet_grid, labs, theme, facet_wrap,\n",
    ")\n",
    "\n",
    "# for rl training\n",
    "from stable_baselines3 import PPO, TD3\n",
    "from sb3_contrib import TQC\n",
    "from stable_baselines3.common.env_util import make_vec_env\n",
    "from stable_baselines3.common.evaluation import evaluate_policy\n",
    "\n",
    "# the rl environment\n",
    "from rl4greencrab.envs.green_crab_monthly_env import greenCrabMonthEnv\n",
    "from rl4greencrab.envs.green_crab_monthly_env_norm import greenCrabMonthEnvNormalized\n",
    "\n",
    "# helper that paralelizes episode simulations for evaluation purposes (agent -> reward)\n",
    "from rl4greencrab import evaluate_agent\n",
    "\n",
    "# helper that creates a single episode simulation keeping track of many variables\n",
    "# of the internal env state\n",
    "from rl4greencrab import simulator"
   ]
  },
  {
   "cell_type": "code",
   "execution_count": 2,
   "id": "56aaa8cd-5d91-4cc7-b6e6-9bf25d741ba1",
   "metadata": {},
   "outputs": [],
   "source": [
    "config = {\"init_n_adult\": 0}\n",
    "gmonth = greenCrabMonthEnv()\n",
    "gmonthNorm = greenCrabMonthEnvNormalized()\n",
    "vec_env = make_vec_env(greenCrabMonthEnvNormalized, n_envs=12)"
   ]
  },
  {
   "cell_type": "code",
   "execution_count": 38,
   "id": "f8a0de4e-35e3-4255-9213-10edceb4660e",
   "metadata": {},
   "outputs": [
    {
     "data": {
      "text/plain": [
       "(array([-0.9983733], dtype=float32), -0.0062514270011736865, False, False, {})"
      ]
     },
     "execution_count": 38,
     "metadata": {},
     "output_type": "execute_result"
    }
   ],
   "source": [
    "gmonthNorm.step(np.float32([-0.5, -0.5, -0.5]))"
   ]
  },
  {
   "cell_type": "code",
   "execution_count": 3,
   "id": "f0bc42bc-bd68-4811-aafb-a83ccedff6c5",
   "metadata": {},
   "outputs": [
    {
     "data": {
      "application/vnd.jupyter.widget-view+json": {
       "model_id": "354aa7ed45eb47d9baa462df40b7586a",
       "version_major": 2,
       "version_minor": 0
      },
      "text/plain": [
       "Output()"
      ]
     },
     "metadata": {},
     "output_type": "display_data"
    },
    {
     "name": "stderr",
     "output_type": "stream",
     "text": [
      "/opt/conda/lib/python3.12/site-packages/stable_baselines3/common/on_policy_algorithm.py:150: UserWarning: You are trying to run PPO on the GPU, but it is primarily intended to run on the CPU when not using a CNN policy (you are using ActorCriticPolicy which should be a MlpPolicy). See https://github.com/DLR-RM/stable-baselines3/issues/1245 for more info. You can pass `device='cpu'` or `export CUDA_VISIBLE_DEVICES=` to force using the CPU.Note: The model will train, but the GPU utilization will be poor and the training might take longer than on CPU.\n"
     ]
    },
    {
     "data": {
      "text/html": [
       "<pre style=\"white-space:pre;overflow-x:auto;line-height:normal;font-family:Menlo,'DejaVu Sans Mono',consolas,'Courier New',monospace\"></pre>\n"
      ],
      "text/plain": []
     },
     "metadata": {},
     "output_type": "display_data"
    }
   ],
   "source": [
    "model = PPO(\"MlpPolicy\", vec_env, verbose=0, tensorboard_log=\"/home/rstudio/logs\")\n",
    "model.learn(\n",
    "\ttotal_timesteps=250_000, \n",
    "\tprogress_bar=True,\n",
    ")\n",
    "model.save(\"ppo_gcse_month_norm\")"
   ]
  },
  {
   "cell_type": "code",
   "execution_count": 3,
   "id": "0f3a8c25-4366-4b35-9411-742f011bf9d2",
   "metadata": {},
   "outputs": [],
   "source": [
    "evalEnv = greenCrabMonthEnvNormalized()"
   ]
  },
  {
   "cell_type": "code",
   "execution_count": 17,
   "id": "8c5befbd-82c5-442a-9291-1016c61571ed",
   "metadata": {},
   "outputs": [
    {
     "name": "stdout",
     "output_type": "stream",
     "text": [
      "PPO reward = -3.59045 +/- 1.05691\n"
     ]
    }
   ],
   "source": [
    "ppoAgent = PPO.load(\"PPO_gcmenorm\", device=\"cpu\")\n",
    "mean_rew, std_rew = evaluate_policy(ppoAgent, evalEnv)\n",
    "print(f\"PPO reward = {mean_rew:.5f} +/- {std_rew:.5f}\")"
   ]
  },
  {
   "cell_type": "code",
   "execution_count": 9,
   "id": "4a5521d3-c810-486b-ac7b-3cd72e5a5db7",
   "metadata": {},
   "outputs": [
    {
     "name": "stderr",
     "output_type": "stream",
     "text": [
      "/opt/conda/lib/python3.12/site-packages/stable_baselines3/common/evaluation.py:67: UserWarning: Evaluation environment is not wrapped with a ``Monitor`` wrapper. This may result in reporting modified episode lengths and rewards, if other wrappers happen to modify these. Consider wrapping environment first with ``Monitor`` wrapper.\n"
     ]
    },
    {
     "name": "stdout",
     "output_type": "stream",
     "text": [
      "TD3 reward = -3.13760 +/- 1.02406\n"
     ]
    }
   ],
   "source": [
    "td3Agent = TD3.load(\"TD3_gcmenorm\", device=\"cpu\")\n",
    "mean_rew, std_rew = evaluate_policy(td3Agent, evalEnv)\n",
    "print(f\"TD3 reward = {mean_rew:.5f} +/- {std_rew:.5f}\")"
   ]
  },
  {
   "cell_type": "code",
   "execution_count": 20,
   "id": "edb06bbe-06bf-4700-a267-541167405e87",
   "metadata": {},
   "outputs": [
    {
     "data": {
      "text/plain": [
       "-3.5265259674679212"
      ]
     },
     "execution_count": 20,
     "metadata": {},
     "output_type": "execute_result"
    }
   ],
   "source": [
    "evaluate_agent(agent=td3Agent,  env=evalEnv, ray_remote=True).evaluate(n_eval_episodes=200)"
   ]
  },
  {
   "cell_type": "code",
   "execution_count": 21,
   "id": "8af3a883-218f-4802-a2be-28f8959b42cc",
   "metadata": {},
   "outputs": [],
   "source": [
    "import ray\n",
    "ray.shutdown()"
   ]
  },
  {
   "cell_type": "code",
   "execution_count": 8,
   "id": "961f6d39-ab77-4ad6-9820-d52147f684f1",
   "metadata": {},
   "outputs": [
    {
     "data": {
      "text/html": [
       "<div>\n",
       "<style scoped>\n",
       "    .dataframe tbody tr th:only-of-type {\n",
       "        vertical-align: middle;\n",
       "    }\n",
       "\n",
       "    .dataframe tbody tr th {\n",
       "        vertical-align: top;\n",
       "    }\n",
       "\n",
       "    .dataframe thead th {\n",
       "        text-align: right;\n",
       "    }\n",
       "</style>\n",
       "<table border=\"1\" class=\"dataframe\">\n",
       "  <thead>\n",
       "    <tr style=\"text-align: right;\">\n",
       "      <th></th>\n",
       "      <th>t</th>\n",
       "      <th>obs0</th>\n",
       "      <th>act0</th>\n",
       "      <th>act1</th>\n",
       "      <th>act2</th>\n",
       "      <th>rew</th>\n",
       "      <th>rep</th>\n",
       "    </tr>\n",
       "  </thead>\n",
       "  <tbody>\n",
       "    <tr>\n",
       "      <th>0</th>\n",
       "      <td>0</td>\n",
       "      <td>-1.000000</td>\n",
       "      <td>0.081903</td>\n",
       "      <td>-0.272859</td>\n",
       "      <td>-0.025227</td>\n",
       "      <td>0.000000</td>\n",
       "      <td>0</td>\n",
       "    </tr>\n",
       "    <tr>\n",
       "      <th>1</th>\n",
       "      <td>1</td>\n",
       "      <td>-0.998362</td>\n",
       "      <td>0.081903</td>\n",
       "      <td>-0.272859</td>\n",
       "      <td>-0.025227</td>\n",
       "      <td>-0.021630</td>\n",
       "      <td>0</td>\n",
       "    </tr>\n",
       "    <tr>\n",
       "      <th>2</th>\n",
       "      <td>2</td>\n",
       "      <td>-0.998154</td>\n",
       "      <td>0.081903</td>\n",
       "      <td>-0.272859</td>\n",
       "      <td>-0.025227</td>\n",
       "      <td>-0.039316</td>\n",
       "      <td>0</td>\n",
       "    </tr>\n",
       "    <tr>\n",
       "      <th>3</th>\n",
       "      <td>3</td>\n",
       "      <td>-0.998283</td>\n",
       "      <td>0.081903</td>\n",
       "      <td>-0.272859</td>\n",
       "      <td>-0.025227</td>\n",
       "      <td>-0.054094</td>\n",
       "      <td>0</td>\n",
       "    </tr>\n",
       "    <tr>\n",
       "      <th>4</th>\n",
       "      <td>4</td>\n",
       "      <td>-0.998304</td>\n",
       "      <td>0.081903</td>\n",
       "      <td>-0.272859</td>\n",
       "      <td>-0.025227</td>\n",
       "      <td>-0.066722</td>\n",
       "      <td>0</td>\n",
       "    </tr>\n",
       "  </tbody>\n",
       "</table>\n",
       "</div>"
      ],
      "text/plain": [
       "   t      obs0      act0      act1      act2       rew  rep\n",
       "0  0 -1.000000  0.081903 -0.272859 -0.025227  0.000000    0\n",
       "1  1 -0.998362  0.081903 -0.272859 -0.025227 -0.021630    0\n",
       "2  2 -0.998154  0.081903 -0.272859 -0.025227 -0.039316    0\n",
       "3  3 -0.998283  0.081903 -0.272859 -0.025227 -0.054094    0\n",
       "4  4 -0.998304  0.081903 -0.272859 -0.025227 -0.066722    0"
      ]
     },
     "execution_count": 8,
     "metadata": {},
     "output_type": "execute_result"
    }
   ],
   "source": [
    "td3Data = simulator(env = evalEnv, agent = td3Agent).simulate_full_named_obs_acts()\n",
    "td3DataDF = pd.DataFrame(td3Data)\n",
    "td3DataDF.head()"
   ]
  },
  {
   "cell_type": "code",
   "execution_count": 9,
   "id": "ec21b44c-00f2-45ea-957a-2777e7424c5f",
   "metadata": {},
   "outputs": [
    {
     "data": {
      "text/plain": [
       "<Axes: xlabel='t'>"
      ]
     },
     "execution_count": 9,
     "metadata": {},
     "output_type": "execute_result"
    },
    {
     "data": {
      "image/png": "[encoded data removed]",
      "text/plain": [
       "<Figure size 640x480 with 1 Axes>"
      ]
     },
     "metadata": {},
     "output_type": "display_data"
    }
   ],
   "source": [
    "td3DataDF[td3DataDF.rep == 0].plot(x='t', y =['obs0'])"
   ]
  },
  {
   "cell_type": "code",
   "execution_count": 19,
   "id": "257a492c-428d-4543-8523-0c1b9335d599",
   "metadata": {},
   "outputs": [
    {
     "data": {
      "text/html": [
       "<div>\n",
       "<style scoped>\n",
       "    .dataframe tbody tr th:only-of-type {\n",
       "        vertical-align: middle;\n",
       "    }\n",
       "\n",
       "    .dataframe tbody tr th {\n",
       "        vertical-align: top;\n",
       "    }\n",
       "\n",
       "    .dataframe thead th {\n",
       "        text-align: right;\n",
       "    }\n",
       "</style>\n",
       "<table border=\"1\" class=\"dataframe\">\n",
       "  <thead>\n",
       "    <tr style=\"text-align: right;\">\n",
       "      <th></th>\n",
       "      <th>t</th>\n",
       "      <th>obs0</th>\n",
       "      <th>act0</th>\n",
       "      <th>act1</th>\n",
       "      <th>act2</th>\n",
       "      <th>rew</th>\n",
       "      <th>rep</th>\n",
       "    </tr>\n",
       "  </thead>\n",
       "  <tbody>\n",
       "    <tr>\n",
       "      <th>0</th>\n",
       "      <td>0</td>\n",
       "      <td>-1.000000</td>\n",
       "      <td>-0.606706</td>\n",
       "      <td>-0.880899</td>\n",
       "      <td>-0.249603</td>\n",
       "      <td>0.000000</td>\n",
       "      <td>0</td>\n",
       "    </tr>\n",
       "    <tr>\n",
       "      <th>1</th>\n",
       "      <td>1</td>\n",
       "      <td>-0.995423</td>\n",
       "      <td>-0.605517</td>\n",
       "      <td>-0.879170</td>\n",
       "      <td>-0.249243</td>\n",
       "      <td>-0.064581</td>\n",
       "      <td>0</td>\n",
       "    </tr>\n",
       "    <tr>\n",
       "      <th>2</th>\n",
       "      <td>2</td>\n",
       "      <td>-0.996035</td>\n",
       "      <td>-0.605676</td>\n",
       "      <td>-0.879401</td>\n",
       "      <td>-0.249291</td>\n",
       "      <td>-0.111151</td>\n",
       "      <td>0</td>\n",
       "    </tr>\n",
       "    <tr>\n",
       "      <th>3</th>\n",
       "      <td>3</td>\n",
       "      <td>-0.994959</td>\n",
       "      <td>-0.605396</td>\n",
       "      <td>-0.878994</td>\n",
       "      <td>-0.249206</td>\n",
       "      <td>-0.143909</td>\n",
       "      <td>0</td>\n",
       "    </tr>\n",
       "    <tr>\n",
       "      <th>4</th>\n",
       "      <td>4</td>\n",
       "      <td>-0.995404</td>\n",
       "      <td>-0.605512</td>\n",
       "      <td>-0.879163</td>\n",
       "      <td>-0.249241</td>\n",
       "      <td>-0.167351</td>\n",
       "      <td>0</td>\n",
       "    </tr>\n",
       "  </tbody>\n",
       "</table>\n",
       "</div>"
      ],
      "text/plain": [
       "   t      obs0      act0      act1      act2       rew  rep\n",
       "0  0 -1.000000 -0.606706 -0.880899 -0.249603  0.000000    0\n",
       "1  1 -0.995423 -0.605517 -0.879170 -0.249243 -0.064581    0\n",
       "2  2 -0.996035 -0.605676 -0.879401 -0.249291 -0.111151    0\n",
       "3  3 -0.994959 -0.605396 -0.878994 -0.249206 -0.143909    0\n",
       "4  4 -0.995404 -0.605512 -0.879163 -0.249241 -0.167351    0"
      ]
     },
     "execution_count": 19,
     "metadata": {},
     "output_type": "execute_result"
    }
   ],
   "source": [
    "ppoData = simulator(env = evalEnv, agent = ppoAgent).simulate_full_named_obs_acts()\n",
    "ppoDataDF = pd.DataFrame(ppoData)\n",
    "ppoDataDF.head()"
   ]
  },
  {
   "cell_type": "code",
   "execution_count": 17,
   "id": "cdca1e7b-9a2f-454b-82f7-bf58699d402c",
   "metadata": {},
   "outputs": [
    {
     "data": {
      "text/plain": [
       "<Axes: xlabel='t'>"
      ]
     },
     "execution_count": 17,
     "metadata": {},
     "output_type": "execute_result"
    },
    {
     "data": {
      "image/png": "[encoded data removed]",
      "text/plain": [
       "<Figure size 640x480 with 1 Axes>"
      ]
     },
     "metadata": {},
     "output_type": "display_data"
    }
   ],
   "source": [
    "ppoDataDF[ppoDataDF.rep == 0].plot(x='t', y =['obs0'])"
   ]
  }
 ],
 "metadata": {
  "kernelspec": {
   "display_name": "Python 3 (ipykernel)",
   "language": "python",
   "name": "python3"
  },
  "language_info": {
   "codemirror_mode": {
    "name": "ipython",
    "version": 3
   },
   "file_extension": ".py",
   "mimetype": "text/x-python",
   "name": "python",
   "nbconvert_exporter": "python",
   "pygments_lexer": "ipython3",
   "version": "3.12.8"
  }
 },
 "nbformat": 4,
 "nbformat_minor": 5
}
