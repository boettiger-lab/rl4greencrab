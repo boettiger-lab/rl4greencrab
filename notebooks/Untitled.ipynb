{
 "cells": [
  {
   "cell_type": "code",
   "execution_count": 2,
   "id": "86c45fdc-1d05-4617-ace2-2efd0f4cae21",
   "metadata": {},
   "outputs": [
    {
     "ename": "ModuleNotFoundError",
     "evalue": "No module named 'rl4greencrab'",
     "output_type": "error",
     "traceback": [
      "\u001b[0;31m---------------------------------------------------------------------------\u001b[0m",
      "\u001b[0;31mModuleNotFoundError\u001b[0m                       Traceback (most recent call last)",
      "Cell \u001b[0;32mIn[2], line 15\u001b[0m\n\u001b[1;32m     12\u001b[0m \u001b[38;5;28;01mfrom\u001b[39;00m \u001b[38;5;21;01mstable_baselines3\u001b[39;00m\u001b[38;5;21;01m.\u001b[39;00m\u001b[38;5;21;01mcommon\u001b[39;00m\u001b[38;5;21;01m.\u001b[39;00m\u001b[38;5;21;01mevaluation\u001b[39;00m \u001b[38;5;28;01mimport\u001b[39;00m evaluate_policy\n\u001b[1;32m     14\u001b[0m \u001b[38;5;66;03m# the rl environment\u001b[39;00m\n\u001b[0;32m---> 15\u001b[0m \u001b[38;5;28;01mfrom\u001b[39;00m \u001b[38;5;21;01mrl4greencrab\u001b[39;00m\u001b[38;5;21;01m.\u001b[39;00m\u001b[38;5;21;01menvs\u001b[39;00m\u001b[38;5;21;01m.\u001b[39;00m\u001b[38;5;21;01mgreen_crab_monthly_env\u001b[39;00m \u001b[38;5;28;01mimport\u001b[39;00m greenCrabMonthEnv\n\u001b[1;32m     17\u001b[0m \u001b[38;5;66;03m# helper that paralelizes episode simulations for evaluation purposes (agent -> reward)\u001b[39;00m\n\u001b[1;32m     18\u001b[0m \u001b[38;5;28;01mfrom\u001b[39;00m \u001b[38;5;21;01mrl4greencrab\u001b[39;00m \u001b[38;5;28;01mimport\u001b[39;00m evaluate_agent\n",
      "\u001b[0;31mModuleNotFoundError\u001b[0m: No module named 'rl4greencrab'"
     ]
    }
   ],
   "source": [
    "import numpy as np\n",
    "import pandas as pd\n",
    "from plotnine import (\n",
    "    ggplot, aes, geom_density, geom_line, geom_point, \n",
    "    geom_violin, facet_grid, labs, theme, facet_wrap,\n",
    ")\n",
    "\n",
    "# for rl training\n",
    "from stable_baselines3 import PPO, TD3\n",
    "from sb3_contrib import TQC\n",
    "from stable_baselines3.common.env_util import make_vec_env\n",
    "from stable_baselines3.common.evaluation import evaluate_policy\n",
    "\n",
    "# the rl environment\n",
    "from rl4greencrab.envs.green_crab_monthly_env import greenCrabMonthEnv\n",
    "\n",
    "# helper that paralelizes episode simulations for evaluation purposes (agent -> reward)\n",
    "from rl4greencrab import evaluate_agent\n",
    "\n",
    "# helper that creates a single episode simulation keeping track of many variables\n",
    "# of the internal env state\n",
    "from rl4greencrab import simulator"
   ]
  },
  {
   "cell_type": "code",
   "execution_count": 8,
   "id": "56aaa8cd-5d91-4cc7-b6e6-9bf25d741ba1",
   "metadata": {},
   "outputs": [],
   "source": [
    "config = {\"init_n_adult\": 0}\n",
    "gmonth = greenCrabMonthEnv()\n",
    "vec_env = make_vec_env(greenCrabMonthEnv, n_envs=12)"
   ]
  },
  {
   "cell_type": "code",
   "execution_count": 9,
   "id": "f0bc42bc-bd68-4811-aafb-a83ccedff6c5",
   "metadata": {},
   "outputs": [
    {
     "data": {
      "application/vnd.jupyter.widget-view+json": {
       "model_id": "9d777cff068846f9bd1db80a687c1a50",
       "version_major": 2,
       "version_minor": 0
      },
      "text/plain": [
       "Output()"
      ]
     },
     "metadata": {},
     "output_type": "display_data"
    },
    {
     "data": {
      "text/html": [
       "<pre style=\"white-space:pre;overflow-x:auto;line-height:normal;font-family:Menlo,'DejaVu Sans Mono',consolas,'Courier New',monospace\"></pre>\n"
      ],
      "text/plain": []
     },
     "metadata": {},
     "output_type": "display_data"
    }
   ],
   "source": [
    "model = PPO(\"MlpPolicy\", vec_env, verbose=0, tensorboard_log=\"/home/rstudio/logs\")\n",
    "model.learn(\n",
    "\ttotal_timesteps=250_000, \n",
    "\tprogress_bar=True,\n",
    ")\n",
    "model.save(\"ppo_gcse_month\")"
   ]
  },
  {
   "cell_type": "code",
   "execution_count": 3,
   "id": "8c5befbd-82c5-442a-9291-1016c61571ed",
   "metadata": {},
   "outputs": [
    {
     "name": "stderr",
     "output_type": "stream",
     "text": [
      "/opt/conda/lib/python3.11/site-packages/stable_baselines3/common/evaluation.py:67: UserWarning: Evaluation environment is not wrapped with a ``Monitor`` wrapper. This may result in reporting modified episode lengths and rewards, if other wrappers happen to modify these. Consider wrapping environment first with ``Monitor`` wrapper.\n"
     ]
    },
    {
     "name": "stdout",
     "output_type": "stream",
     "text": [
      "PPO reward = -22.97501 +/- 6.42140\n"
     ]
    }
   ],
   "source": [
    "evalEnv = greenCrabMonthEnv()\n",
    "ppoAgent = PPO.load(\"ppo_gcse_month\")\n",
    "mean_rew, std_rew = evaluate_policy(ppoAgent, evalEnv)\n",
    "print(f\"PPO reward = {mean_rew:.5f} +/- {std_rew:.5f}\")"
   ]
  },
  {
   "cell_type": "code",
   "execution_count": null,
   "id": "4a5521d3-c810-486b-ac7b-3cd72e5a5db7",
   "metadata": {},
   "outputs": [],
   "source": [
    "td3Agent = TD3.load(\"TD3_gcme\")\n",
    "mean_rew, std_rew = evaluate_policy(td3Agent, evalEnv)\n",
    "print(f\"TD3 reward = {mean_rew:.5f} +/- {std_rew:.5f}\")"
   ]
  },
  {
   "cell_type": "code",
   "execution_count": 5,
   "id": "257a492c-428d-4543-8523-0c1b9335d599",
   "metadata": {},
   "outputs": [
    {
     "data": {
      "text/html": [
       "<div>\n",
       "<style scoped>\n",
       "    .dataframe tbody tr th:only-of-type {\n",
       "        vertical-align: middle;\n",
       "    }\n",
       "\n",
       "    .dataframe tbody tr th {\n",
       "        vertical-align: top;\n",
       "    }\n",
       "\n",
       "    .dataframe thead th {\n",
       "        text-align: right;\n",
       "    }\n",
       "</style>\n",
       "<table border=\"1\" class=\"dataframe\">\n",
       "  <thead>\n",
       "    <tr style=\"text-align: right;\">\n",
       "      <th></th>\n",
       "      <th>t</th>\n",
       "      <th>obs0</th>\n",
       "      <th>act0</th>\n",
       "      <th>act1</th>\n",
       "      <th>act2</th>\n",
       "      <th>rew</th>\n",
       "      <th>rep</th>\n",
       "    </tr>\n",
       "  </thead>\n",
       "  <tbody>\n",
       "    <tr>\n",
       "      <th>0</th>\n",
       "      <td>0</td>\n",
       "      <td>0.0</td>\n",
       "      <td>0.0</td>\n",
       "      <td>0.056337</td>\n",
       "      <td>0.057689</td>\n",
       "      <td>0.000000</td>\n",
       "      <td>0</td>\n",
       "    </tr>\n",
       "    <tr>\n",
       "      <th>1</th>\n",
       "      <td>1</td>\n",
       "      <td>0.0</td>\n",
       "      <td>0.0</td>\n",
       "      <td>0.056337</td>\n",
       "      <td>0.057689</td>\n",
       "      <td>-0.262198</td>\n",
       "      <td>0</td>\n",
       "    </tr>\n",
       "    <tr>\n",
       "      <th>2</th>\n",
       "      <td>2</td>\n",
       "      <td>0.0</td>\n",
       "      <td>0.0</td>\n",
       "      <td>0.056337</td>\n",
       "      <td>0.057689</td>\n",
       "      <td>-0.523036</td>\n",
       "      <td>0</td>\n",
       "    </tr>\n",
       "    <tr>\n",
       "      <th>3</th>\n",
       "      <td>3</td>\n",
       "      <td>0.0</td>\n",
       "      <td>0.0</td>\n",
       "      <td>0.056337</td>\n",
       "      <td>0.057689</td>\n",
       "      <td>-0.781887</td>\n",
       "      <td>0</td>\n",
       "    </tr>\n",
       "    <tr>\n",
       "      <th>4</th>\n",
       "      <td>4</td>\n",
       "      <td>1.0</td>\n",
       "      <td>0.0</td>\n",
       "      <td>0.055197</td>\n",
       "      <td>0.053569</td>\n",
       "      <td>-1.037871</td>\n",
       "      <td>0</td>\n",
       "    </tr>\n",
       "  </tbody>\n",
       "</table>\n",
       "</div>"
      ],
      "text/plain": [
       "   t  obs0  act0      act1      act2       rew  rep\n",
       "0  0   0.0   0.0  0.056337  0.057689  0.000000    0\n",
       "1  1   0.0   0.0  0.056337  0.057689 -0.262198    0\n",
       "2  2   0.0   0.0  0.056337  0.057689 -0.523036    0\n",
       "3  3   0.0   0.0  0.056337  0.057689 -0.781887    0\n",
       "4  4   1.0   0.0  0.055197  0.053569 -1.037871    0"
      ]
     },
     "execution_count": 5,
     "metadata": {},
     "output_type": "execute_result"
    }
   ],
   "source": [
    "ppoData = simulator(env = evalEnv, agent = ppoAgent).simulate_full_named_obs_acts()\n",
    "ppoDataDF = pd.DataFrame(ppoData)\n",
    "ppoDataDF.head()"
   ]
  },
  {
   "cell_type": "code",
   "execution_count": 6,
   "id": "cdca1e7b-9a2f-454b-82f7-bf58699d402c",
   "metadata": {},
   "outputs": [
    {
     "data": {
      "text/plain": [
       "<Axes: xlabel='t'>"
      ]
     },
     "execution_count": 6,
     "metadata": {},
     "output_type": "execute_result"
    },
    {
     "data": {
      "image/png": "[encoded data removed]",
      "text/plain": [
       "<Figure size 640x480 with 1 Axes>"
      ]
     },
     "metadata": {},
     "output_type": "display_data"
    }
   ],
   "source": [
    "ppoDataDF[ppoDataDF.rep == 0].plot(x='t', y =['obs0'])"
   ]
  }
 ],
 "metadata": {
  "kernelspec": {
   "display_name": "Python 3 (ipykernel)",
   "language": "python",
   "name": "python3"
  },
  "language_info": {
   "codemirror_mode": {
    "name": "ipython",
    "version": 3
   },
   "file_extension": ".py",
   "mimetype": "text/x-python",
   "name": "python",
   "nbconvert_exporter": "python",
   "pygments_lexer": "ipython3",
   "version": "3.12.7"
  }
 },
 "nbformat": 4,
 "nbformat_minor": 5
}
