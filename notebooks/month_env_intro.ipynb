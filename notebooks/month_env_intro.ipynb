{
 "cells": [
  {
   "cell_type": "code",
   "execution_count": 1,
   "id": "c85d89eb-6b4a-4d74-b542-a56758bbce90",
   "metadata": {
    "scrolled": true
   },
   "outputs": [
    {
     "name": "stdout",
     "output_type": "stream",
     "text": [
      "Obtaining file:///home/rstudio/rl4greencrab\n",
      "  Installing build dependencies ... \u001b[?25ldone\n",
      "\u001b[?25h  Checking if build backend supports build_editable ... \u001b[?25ldone\n",
      "\u001b[?25h  Getting requirements to build editable ... \u001b[?25ldone\n",
      "\u001b[?25h  Installing backend dependencies ... \u001b[?25ldone\n",
      "\u001b[?25h  Preparing editable metadata (pyproject.toml) ... \u001b[?25ldone\n",
      "\u001b[?25hCollecting gymnasium (from rl4greencrab==1.0.0)\n",
      "  Using cached gymnasium-1.1.1-py3-none-any.whl.metadata (9.4 kB)\n",
      "Requirement already satisfied: matplotlib in /opt/conda/lib/python3.12/site-packages (from rl4greencrab==1.0.0) (3.10.3)\n",
      "Requirement already satisfied: numpy in /opt/conda/lib/python3.12/site-packages (from rl4greencrab==1.0.0) (1.26.4)\n",
      "Collecting optuna (from rl4greencrab==1.0.0)\n",
      "  Using cached optuna-4.4.0-py3-none-any.whl.metadata (17 kB)\n",
      "Requirement already satisfied: pandas in /opt/conda/lib/python3.12/site-packages (from rl4greencrab==1.0.0) (2.2.2)\n",
      "Requirement already satisfied: pyyaml in /opt/conda/lib/python3.12/site-packages (from rl4greencrab==1.0.0) (6.0.2)\n",
      "Collecting ray (from rl4greencrab==1.0.0)\n",
      "  Downloading ray-2.47.0-cp312-cp312-manylinux2014_x86_64.whl.metadata (20 kB)\n",
      "Collecting sb3-contrib (from rl4greencrab==1.0.0)\n",
      "  Using cached sb3_contrib-2.6.0-py3-none-any.whl.metadata (4.1 kB)\n",
      "Collecting scikit-optimize (from rl4greencrab==1.0.0)\n",
      "  Using cached scikit_optimize-0.10.2-py2.py3-none-any.whl.metadata (9.7 kB)\n",
      "Collecting scikit-plot (from rl4greencrab==1.0.0)\n",
      "  Using cached scikit_plot-0.3.7-py3-none-any.whl.metadata (7.1 kB)\n",
      "Requirement already satisfied: scipy in /opt/conda/lib/python3.12/site-packages (from rl4greencrab==1.0.0) (1.15.2)\n",
      "Collecting stable-baselines3 (from rl4greencrab==1.0.0)\n",
      "  Using cached stable_baselines3-2.6.0-py3-none-any.whl.metadata (4.8 kB)\n",
      "Collecting typing (from rl4greencrab==1.0.0)\n",
      "  Using cached typing-3.7.4.3-py3-none-any.whl\n",
      "Requirement already satisfied: cloudpickle>=1.2.0 in /opt/conda/lib/python3.12/site-packages (from gymnasium->rl4greencrab==1.0.0) (3.1.1)\n",
      "Requirement already satisfied: typing-extensions>=4.3.0 in /opt/conda/lib/python3.12/site-packages (from gymnasium->rl4greencrab==1.0.0) (4.13.2)\n",
      "Collecting farama-notifications>=0.0.1 (from gymnasium->rl4greencrab==1.0.0)\n",
      "  Using cached Farama_Notifications-0.0.4-py3-none-any.whl.metadata (558 bytes)\n",
      "Requirement already satisfied: contourpy>=1.0.1 in /opt/conda/lib/python3.12/site-packages (from matplotlib->rl4greencrab==1.0.0) (1.3.2)\n",
      "Requirement already satisfied: cycler>=0.10 in /opt/conda/lib/python3.12/site-packages (from matplotlib->rl4greencrab==1.0.0) (0.12.1)\n",
      "Requirement already satisfied: fonttools>=4.22.0 in /opt/conda/lib/python3.12/site-packages (from matplotlib->rl4greencrab==1.0.0) (4.58.0)\n",
      "Requirement already satisfied: kiwisolver>=1.3.1 in /opt/conda/lib/python3.12/site-packages (from matplotlib->rl4greencrab==1.0.0) (1.4.8)\n",
      "Requirement already satisfied: packaging>=20.0 in /opt/conda/lib/python3.12/site-packages (from matplotlib->rl4greencrab==1.0.0) (24.2)\n",
      "Requirement already satisfied: pillow>=8 in /opt/conda/lib/python3.12/site-packages (from matplotlib->rl4greencrab==1.0.0) (11.2.1)\n",
      "Requirement already satisfied: pyparsing>=2.3.1 in /opt/conda/lib/python3.12/site-packages (from matplotlib->rl4greencrab==1.0.0) (3.2.3)\n",
      "Requirement already satisfied: python-dateutil>=2.7 in /opt/conda/lib/python3.12/site-packages (from matplotlib->rl4greencrab==1.0.0) (2.9.0.post0)\n",
      "Requirement already satisfied: six>=1.5 in /opt/conda/lib/python3.12/site-packages (from python-dateutil>=2.7->matplotlib->rl4greencrab==1.0.0) (1.17.0)\n",
      "Requirement already satisfied: alembic>=1.5.0 in /opt/conda/lib/python3.12/site-packages (from optuna->rl4greencrab==1.0.0) (1.15.2)\n",
      "Collecting colorlog (from optuna->rl4greencrab==1.0.0)\n",
      "  Using cached colorlog-6.9.0-py3-none-any.whl.metadata (10 kB)\n",
      "Requirement already satisfied: sqlalchemy>=1.4.2 in /opt/conda/lib/python3.12/site-packages (from optuna->rl4greencrab==1.0.0) (2.0.41)\n",
      "Requirement already satisfied: tqdm in /opt/conda/lib/python3.12/site-packages (from optuna->rl4greencrab==1.0.0) (4.67.1)\n",
      "Requirement already satisfied: Mako in /opt/conda/lib/python3.12/site-packages (from alembic>=1.5.0->optuna->rl4greencrab==1.0.0) (1.3.10)\n",
      "Requirement already satisfied: greenlet>=1 in /opt/conda/lib/python3.12/site-packages (from sqlalchemy>=1.4.2->optuna->rl4greencrab==1.0.0) (3.2.2)\n",
      "Requirement already satisfied: MarkupSafe>=0.9.2 in /opt/conda/lib/python3.12/site-packages (from Mako->alembic>=1.5.0->optuna->rl4greencrab==1.0.0) (3.0.2)\n",
      "Requirement already satisfied: pytz>=2020.1 in /opt/conda/lib/python3.12/site-packages (from pandas->rl4greencrab==1.0.0) (2025.2)\n",
      "Requirement already satisfied: tzdata>=2022.7 in /opt/conda/lib/python3.12/site-packages (from pandas->rl4greencrab==1.0.0) (2025.2)\n",
      "Requirement already satisfied: click>=7.0 in /opt/conda/lib/python3.12/site-packages (from ray->rl4greencrab==1.0.0) (8.2.1)\n",
      "Requirement already satisfied: filelock in /opt/conda/lib/python3.12/site-packages (from ray->rl4greencrab==1.0.0) (3.18.0)\n",
      "Requirement already satisfied: jsonschema in /opt/conda/lib/python3.12/site-packages (from ray->rl4greencrab==1.0.0) (4.23.0)\n",
      "Requirement already satisfied: msgpack<2.0.0,>=1.0.0 in /opt/conda/lib/python3.12/site-packages (from ray->rl4greencrab==1.0.0) (1.1.0)\n",
      "Requirement already satisfied: protobuf!=3.19.5,>=3.15.3 in /opt/conda/lib/python3.12/site-packages (from ray->rl4greencrab==1.0.0) (5.29.3)\n",
      "Requirement already satisfied: requests in /opt/conda/lib/python3.12/site-packages (from ray->rl4greencrab==1.0.0) (2.32.3)\n",
      "Requirement already satisfied: attrs>=22.2.0 in /opt/conda/lib/python3.12/site-packages (from jsonschema->ray->rl4greencrab==1.0.0) (25.3.0)\n",
      "Requirement already satisfied: jsonschema-specifications>=2023.03.6 in /opt/conda/lib/python3.12/site-packages (from jsonschema->ray->rl4greencrab==1.0.0) (2025.4.1)\n",
      "Requirement already satisfied: referencing>=0.28.4 in /opt/conda/lib/python3.12/site-packages (from jsonschema->ray->rl4greencrab==1.0.0) (0.36.2)\n",
      "Requirement already satisfied: rpds-py>=0.7.1 in /opt/conda/lib/python3.12/site-packages (from jsonschema->ray->rl4greencrab==1.0.0) (0.25.0)\n",
      "Requirement already satisfied: charset_normalizer<4,>=2 in /opt/conda/lib/python3.12/site-packages (from requests->ray->rl4greencrab==1.0.0) (3.4.2)\n",
      "Requirement already satisfied: idna<4,>=2.5 in /opt/conda/lib/python3.12/site-packages (from requests->ray->rl4greencrab==1.0.0) (3.10)\n",
      "Requirement already satisfied: urllib3<3,>=1.21.1 in /opt/conda/lib/python3.12/site-packages (from requests->ray->rl4greencrab==1.0.0) (2.4.0)\n",
      "Requirement already satisfied: certifi>=2017.4.17 in /opt/conda/lib/python3.12/site-packages (from requests->ray->rl4greencrab==1.0.0) (2025.4.26)\n",
      "Collecting torch<3.0,>=2.3 (from stable-baselines3->rl4greencrab==1.0.0)\n",
      "  Downloading torch-2.7.1-cp312-cp312-manylinux_2_28_x86_64.whl.metadata (29 kB)\n",
      "Requirement already satisfied: setuptools in /opt/conda/lib/python3.12/site-packages (from torch<3.0,>=2.3->stable-baselines3->rl4greencrab==1.0.0) (80.1.0)\n",
      "Collecting sympy>=1.13.3 (from torch<3.0,>=2.3->stable-baselines3->rl4greencrab==1.0.0)\n",
      "  Using cached sympy-1.14.0-py3-none-any.whl.metadata (12 kB)\n",
      "Requirement already satisfied: networkx in /opt/conda/lib/python3.12/site-packages (from torch<3.0,>=2.3->stable-baselines3->rl4greencrab==1.0.0) (3.4.2)\n",
      "Requirement already satisfied: jinja2 in /opt/conda/lib/python3.12/site-packages (from torch<3.0,>=2.3->stable-baselines3->rl4greencrab==1.0.0) (3.1.6)\n",
      "Requirement already satisfied: fsspec in /opt/conda/lib/python3.12/site-packages (from torch<3.0,>=2.3->stable-baselines3->rl4greencrab==1.0.0) (2025.5.0)\n",
      "Collecting nvidia-cuda-nvrtc-cu12==12.6.77 (from torch<3.0,>=2.3->stable-baselines3->rl4greencrab==1.0.0)\n",
      "  Using cached nvidia_cuda_nvrtc_cu12-12.6.77-py3-none-manylinux2014_x86_64.whl.metadata (1.5 kB)\n",
      "Collecting nvidia-cuda-runtime-cu12==12.6.77 (from torch<3.0,>=2.3->stable-baselines3->rl4greencrab==1.0.0)\n",
      "  Using cached nvidia_cuda_runtime_cu12-12.6.77-py3-none-manylinux2014_x86_64.manylinux_2_17_x86_64.whl.metadata (1.5 kB)\n",
      "Collecting nvidia-cuda-cupti-cu12==12.6.80 (from torch<3.0,>=2.3->stable-baselines3->rl4greencrab==1.0.0)\n",
      "  Using cached nvidia_cuda_cupti_cu12-12.6.80-py3-none-manylinux2014_x86_64.manylinux_2_17_x86_64.whl.metadata (1.6 kB)\n",
      "Collecting nvidia-cudnn-cu12==9.5.1.17 (from torch<3.0,>=2.3->stable-baselines3->rl4greencrab==1.0.0)\n",
      "  Using cached nvidia_cudnn_cu12-9.5.1.17-py3-none-manylinux_2_28_x86_64.whl.metadata (1.6 kB)\n",
      "Collecting nvidia-cublas-cu12==12.6.4.1 (from torch<3.0,>=2.3->stable-baselines3->rl4greencrab==1.0.0)\n",
      "  Using cached nvidia_cublas_cu12-12.6.4.1-py3-none-manylinux2014_x86_64.manylinux_2_17_x86_64.whl.metadata (1.5 kB)\n",
      "Collecting nvidia-cufft-cu12==11.3.0.4 (from torch<3.0,>=2.3->stable-baselines3->rl4greencrab==1.0.0)\n",
      "  Using cached nvidia_cufft_cu12-11.3.0.4-py3-none-manylinux2014_x86_64.manylinux_2_17_x86_64.whl.metadata (1.5 kB)\n",
      "Collecting nvidia-curand-cu12==10.3.7.77 (from torch<3.0,>=2.3->stable-baselines3->rl4greencrab==1.0.0)\n",
      "  Using cached nvidia_curand_cu12-10.3.7.77-py3-none-manylinux2014_x86_64.manylinux_2_17_x86_64.whl.metadata (1.5 kB)\n",
      "Collecting nvidia-cusolver-cu12==11.7.1.2 (from torch<3.0,>=2.3->stable-baselines3->rl4greencrab==1.0.0)\n",
      "  Using cached nvidia_cusolver_cu12-11.7.1.2-py3-none-manylinux2014_x86_64.manylinux_2_17_x86_64.whl.metadata (1.6 kB)\n",
      "Collecting nvidia-cusparse-cu12==12.5.4.2 (from torch<3.0,>=2.3->stable-baselines3->rl4greencrab==1.0.0)\n",
      "  Using cached nvidia_cusparse_cu12-12.5.4.2-py3-none-manylinux2014_x86_64.manylinux_2_17_x86_64.whl.metadata (1.6 kB)\n",
      "Collecting nvidia-cusparselt-cu12==0.6.3 (from torch<3.0,>=2.3->stable-baselines3->rl4greencrab==1.0.0)\n",
      "  Using cached nvidia_cusparselt_cu12-0.6.3-py3-none-manylinux2014_x86_64.whl.metadata (6.8 kB)\n",
      "Collecting nvidia-nccl-cu12==2.26.2 (from torch<3.0,>=2.3->stable-baselines3->rl4greencrab==1.0.0)\n",
      "  Using cached nvidia_nccl_cu12-2.26.2-py3-none-manylinux2014_x86_64.manylinux_2_17_x86_64.whl.metadata (2.0 kB)\n",
      "Collecting nvidia-nvtx-cu12==12.6.77 (from torch<3.0,>=2.3->stable-baselines3->rl4greencrab==1.0.0)\n",
      "  Using cached nvidia_nvtx_cu12-12.6.77-py3-none-manylinux2014_x86_64.manylinux_2_17_x86_64.whl.metadata (1.6 kB)\n",
      "Collecting nvidia-nvjitlink-cu12==12.6.85 (from torch<3.0,>=2.3->stable-baselines3->rl4greencrab==1.0.0)\n",
      "  Using cached nvidia_nvjitlink_cu12-12.6.85-py3-none-manylinux2010_x86_64.manylinux_2_12_x86_64.whl.metadata (1.5 kB)\n",
      "Collecting nvidia-cufile-cu12==1.11.1.6 (from torch<3.0,>=2.3->stable-baselines3->rl4greencrab==1.0.0)\n",
      "  Using cached nvidia_cufile_cu12-1.11.1.6-py3-none-manylinux2014_x86_64.manylinux_2_17_x86_64.whl.metadata (1.5 kB)\n",
      "Collecting triton==3.3.1 (from torch<3.0,>=2.3->stable-baselines3->rl4greencrab==1.0.0)\n",
      "  Downloading triton-3.3.1-cp312-cp312-manylinux_2_27_x86_64.manylinux_2_28_x86_64.whl.metadata (1.5 kB)\n",
      "Collecting mpmath<1.4,>=1.1.0 (from sympy>=1.13.3->torch<3.0,>=2.3->stable-baselines3->rl4greencrab==1.0.0)\n",
      "  Using cached mpmath-1.3.0-py3-none-any.whl.metadata (8.6 kB)\n",
      "Requirement already satisfied: joblib>=0.11 in /opt/conda/lib/python3.12/site-packages (from scikit-optimize->rl4greencrab==1.0.0) (1.5.1)\n",
      "Collecting pyaml>=16.9 (from scikit-optimize->rl4greencrab==1.0.0)\n",
      "  Downloading pyaml-25.5.0-py3-none-any.whl.metadata (12 kB)\n",
      "Requirement already satisfied: scikit-learn>=1.0.0 in /opt/conda/lib/python3.12/site-packages (from scikit-optimize->rl4greencrab==1.0.0) (1.6.1)\n",
      "Requirement already satisfied: threadpoolctl>=3.1.0 in /opt/conda/lib/python3.12/site-packages (from scikit-learn>=1.0.0->scikit-optimize->rl4greencrab==1.0.0) (3.6.0)\n",
      "Using cached gymnasium-1.1.1-py3-none-any.whl (965 kB)\n",
      "Using cached Farama_Notifications-0.0.4-py3-none-any.whl (2.5 kB)\n",
      "Using cached optuna-4.4.0-py3-none-any.whl (395 kB)\n",
      "Using cached colorlog-6.9.0-py3-none-any.whl (11 kB)\n",
      "Downloading ray-2.47.0-cp312-cp312-manylinux2014_x86_64.whl (68.9 MB)\n",
      "\u001b[2K   \u001b[90m━━━━━━━━━━━━━━━━━━━━━━━━━━━━━━━━━━━━━━━━\u001b[0m \u001b[32m68.9/68.9 MB\u001b[0m \u001b[31m80.5 MB/s\u001b[0m eta \u001b[36m0:00:00\u001b[0m00:01\u001b[0m00:01\u001b[0mm\n",
      "\u001b[?25hUsing cached sb3_contrib-2.6.0-py3-none-any.whl (92 kB)\n",
      "Using cached stable_baselines3-2.6.0-py3-none-any.whl (184 kB)\n",
      "Downloading torch-2.7.1-cp312-cp312-manylinux_2_28_x86_64.whl (821.0 MB)\n",
      "\u001b[2K   \u001b[90m━━━━━━━━━━━━━━━━━━━━━━━━━━━━━━━━━━━━━━━━\u001b[0m \u001b[32m821.0/821.0 MB\u001b[0m \u001b[31m78.5 MB/s\u001b[0m eta \u001b[36m0:00:00\u001b[0m00:01\u001b[0m00:01\u001b[0m\n",
      "\u001b[?25hUsing cached nvidia_cublas_cu12-12.6.4.1-py3-none-manylinux2014_x86_64.manylinux_2_17_x86_64.whl (393.1 MB)\n",
      "Using cached nvidia_cuda_cupti_cu12-12.6.80-py3-none-manylinux2014_x86_64.manylinux_2_17_x86_64.whl (8.9 MB)\n",
      "Using cached nvidia_cuda_nvrtc_cu12-12.6.77-py3-none-manylinux2014_x86_64.whl (23.7 MB)\n",
      "Using cached nvidia_cuda_runtime_cu12-12.6.77-py3-none-manylinux2014_x86_64.manylinux_2_17_x86_64.whl (897 kB)\n",
      "Using cached nvidia_cudnn_cu12-9.5.1.17-py3-none-manylinux_2_28_x86_64.whl (571.0 MB)\n",
      "Using cached nvidia_cufft_cu12-11.3.0.4-py3-none-manylinux2014_x86_64.manylinux_2_17_x86_64.whl (200.2 MB)\n",
      "Using cached nvidia_cufile_cu12-1.11.1.6-py3-none-manylinux2014_x86_64.manylinux_2_17_x86_64.whl (1.1 MB)\n",
      "Using cached nvidia_curand_cu12-10.3.7.77-py3-none-manylinux2014_x86_64.manylinux_2_17_x86_64.whl (56.3 MB)\n",
      "Using cached nvidia_cusolver_cu12-11.7.1.2-py3-none-manylinux2014_x86_64.manylinux_2_17_x86_64.whl (158.2 MB)\n",
      "Using cached nvidia_cusparse_cu12-12.5.4.2-py3-none-manylinux2014_x86_64.manylinux_2_17_x86_64.whl (216.6 MB)\n",
      "Using cached nvidia_cusparselt_cu12-0.6.3-py3-none-manylinux2014_x86_64.whl (156.8 MB)\n",
      "Using cached nvidia_nccl_cu12-2.26.2-py3-none-manylinux2014_x86_64.manylinux_2_17_x86_64.whl (201.3 MB)\n",
      "Using cached nvidia_nvjitlink_cu12-12.6.85-py3-none-manylinux2010_x86_64.manylinux_2_12_x86_64.whl (19.7 MB)\n",
      "Using cached nvidia_nvtx_cu12-12.6.77-py3-none-manylinux2014_x86_64.manylinux_2_17_x86_64.whl (89 kB)\n",
      "Downloading triton-3.3.1-cp312-cp312-manylinux_2_27_x86_64.manylinux_2_28_x86_64.whl (155.7 MB)\n",
      "\u001b[2K   \u001b[90m━━━━━━━━━━━━━━━━━━━━━━━━━━━━━━━━━━━━━━━━\u001b[0m \u001b[32m155.7/155.7 MB\u001b[0m \u001b[31m85.7 MB/s\u001b[0m eta \u001b[36m0:00:00\u001b[0m00:01\u001b[0m00:01\u001b[0m\n",
      "\u001b[?25hUsing cached sympy-1.14.0-py3-none-any.whl (6.3 MB)\n",
      "Using cached mpmath-1.3.0-py3-none-any.whl (536 kB)\n",
      "Using cached scikit_optimize-0.10.2-py2.py3-none-any.whl (107 kB)\n",
      "Downloading pyaml-25.5.0-py3-none-any.whl (26 kB)\n",
      "Using cached scikit_plot-0.3.7-py3-none-any.whl (33 kB)\n",
      "Building wheels for collected packages: rl4greencrab\n",
      "  Building editable for rl4greencrab (pyproject.toml) ... \u001b[?25ldone\n",
      "\u001b[?25h  Created wheel for rl4greencrab: filename=rl4greencrab-1.0.0-py2.py3-none-any.whl size=1108 sha256=83ecfa75d00a6a86f29a61633700f400a0063fb8830d620c4b02a2368bfee688\n",
      "  Stored in directory: /tmp/pip-ephem-wheel-cache-2kko_rfl/wheels/77/22/bf/1fa8ed58576be030eee5dae5ac3492fdad354cd6536f6804a3\n",
      "Successfully built rl4greencrab\n",
      "Installing collected packages: nvidia-cusparselt-cu12, mpmath, farama-notifications, typing, triton, sympy, pyaml, nvidia-nvtx-cu12, nvidia-nvjitlink-cu12, nvidia-nccl-cu12, nvidia-curand-cu12, nvidia-cufile-cu12, nvidia-cuda-runtime-cu12, nvidia-cuda-nvrtc-cu12, nvidia-cuda-cupti-cu12, nvidia-cublas-cu12, gymnasium, colorlog, nvidia-cusparse-cu12, nvidia-cufft-cu12, nvidia-cudnn-cu12, scikit-plot, scikit-optimize, optuna, nvidia-cusolver-cu12, torch, ray, stable-baselines3, sb3-contrib, rl4greencrab\n",
      "\u001b[2K   \u001b[90m━━━━━━━━━━━━━━━━━━━━━━━━━━━━━━━━━━━━━━━━\u001b[0m \u001b[32m30/30\u001b[0m [rl4greencrab][0m [stable-baselines3]12]2]\n",
      "\u001b[1A\u001b[2KSuccessfully installed colorlog-6.9.0 farama-notifications-0.0.4 gymnasium-1.1.1 mpmath-1.3.0 nvidia-cublas-cu12-12.6.4.1 nvidia-cuda-cupti-cu12-12.6.80 nvidia-cuda-nvrtc-cu12-12.6.77 nvidia-cuda-runtime-cu12-12.6.77 nvidia-cudnn-cu12-9.5.1.17 nvidia-cufft-cu12-11.3.0.4 nvidia-cufile-cu12-1.11.1.6 nvidia-curand-cu12-10.3.7.77 nvidia-cusolver-cu12-11.7.1.2 nvidia-cusparse-cu12-12.5.4.2 nvidia-cusparselt-cu12-0.6.3 nvidia-nccl-cu12-2.26.2 nvidia-nvjitlink-cu12-12.6.85 nvidia-nvtx-cu12-12.6.77 optuna-4.4.0 pyaml-25.5.0 ray-2.47.0 rl4greencrab-1.0.0 sb3-contrib-2.6.0 scikit-optimize-0.10.2 scikit-plot-0.3.7 stable-baselines3-2.6.0 sympy-1.14.0 torch-2.7.1 triton-3.3.1 typing-3.7.4.3\n",
      "Note: you may need to restart the kernel to use updated packages.\n"
     ]
    }
   ],
   "source": [
    "%pip install -e .."
   ]
  },
  {
   "cell_type": "code",
   "execution_count": 1,
   "id": "203cd164-965f-4066-967e-1a14c0d3e1f9",
   "metadata": {},
   "outputs": [],
   "source": [
    "import numpy as np\n",
    "import pandas as pd\n",
    "from skopt import gp_minimize, gbrt_minimize \n",
    "from skopt.plots import plot_convergence, plot_objective\n",
    "from rl4greencrab.envs.green_crab_monthly_env import greenCrabMonthEnv\n",
    "from rl4greencrab.envs.green_crab_monthly_env_norm import greenCrabMonthEnvNormalized\n",
    "from rl4greencrab import evaluate_agent, multiConstAction, simulator, environment_simulation, plot_selected_sizes\n",
    "import matplotlib.pyplot as plt\n",
    "from ipywidgets import interact, widgets\n",
    "from huggingface_hub import hf_hub_download\n",
    "from stable_baselines3 import PPO, TD3\n",
    "from sb3_contrib import TQC, RecurrentPPO"
   ]
  },
  {
   "cell_type": "markdown",
   "id": "7a14e4e3-4071-4350-a4f4-ce43fb1c7725",
   "metadata": {},
   "source": [
    "## Monthly Environment Simulation"
   ]
  },
  {
   "cell_type": "code",
   "execution_count": 2,
   "id": "7c088df6-5948-4b7a-a9a4-92893c212eb6",
   "metadata": {},
   "outputs": [],
   "source": [
    "config = {\n",
    "    \"w_mort_scale\" : 600,\n",
    "    \"growth_k\": 0.70,\n",
    "    'random_start':True,\n",
    "    # \"curriculum\": True\n",
    "}"
   ]
  },
  {
   "cell_type": "code",
   "execution_count": 45,
   "id": "80743822-87cd-4d33-a7f9-fd180fabee2b",
   "metadata": {},
   "outputs": [],
   "source": [
    "def evaluateConstAct(x):\n",
    "    config = {\n",
    "        \"w_mort_scale\" : 600,\n",
    "        \"growth_k\": 0.70,\n",
    "        'random_start':True,\n",
    "        \"curriculum\": True\n",
    "    }\n",
    "    env = greenCrabMonthEnv(config)\n",
    "    agent = multiConstAction(env=env, action=np.array(x))\n",
    "    # rewards = simulator(env, agent).simulate()\n",
    "    # out = np.mean(rewards)\n",
    "    m_reward = evaluate_agent(agent=agent, ray_remote=True).evaluate(n_eval_episodes=200)\n",
    "    \n",
    "    return - m_reward"
   ]
  },
  {
   "cell_type": "code",
   "execution_count": 4,
   "id": "cf63d20f-53e1-467b-8700-fe9a42ca4324",
   "metadata": {
    "scrolled": true
   },
   "outputs": [
    {
     "name": "stdout",
     "output_type": "stream",
     "text": [
      "Iteration No: 1 started. Evaluating function at random point.\n"
     ]
    },
    {
     "name": "stderr",
     "output_type": "stream",
     "text": [
      "/opt/conda/lib/python3.12/site-packages/gymnasium/spaces/box.py:305: UserWarning: \u001b[33mWARN: Box high's precision lowered by casting to float32, current high.dtype=float64\u001b[0m\n",
      "  gym.logger.warn(\n",
      "2025-06-16 19:05:12,512\tINFO worker.py:1917 -- Started a local Ray instance.\n"
     ]
    },
    {
     "name": "stdout",
     "output_type": "stream",
     "text": [
      "Iteration No: 1 ended. Evaluation done at random point.\n",
      "Time taken: 10.9418\n",
      "Function value obtained: 49.5922\n",
      "Current minimum: 49.5922\n",
      "Iteration No: 2 started. Evaluating function at random point.\n"
     ]
    },
    {
     "name": "stderr",
     "output_type": "stream",
     "text": [
      "/opt/conda/lib/python3.12/site-packages/gymnasium/spaces/box.py:305: UserWarning: \u001b[33mWARN: Box high's precision lowered by casting to float32, current high.dtype=float64\u001b[0m\n",
      "  gym.logger.warn(\n"
     ]
    },
    {
     "name": "stdout",
     "output_type": "stream",
     "text": [
      "Iteration No: 2 ended. Evaluation done at random point.\n",
      "Time taken: 0.4086\n",
      "Function value obtained: 18.6053\n",
      "Current minimum: 18.6053\n",
      "Iteration No: 3 started. Evaluating function at random point.\n",
      "Iteration No: 3 ended. Evaluation done at random point.\n",
      "Time taken: 0.3730\n",
      "Function value obtained: 40.8044\n",
      "Current minimum: 18.6053\n",
      "Iteration No: 4 started. Evaluating function at random point.\n",
      "Iteration No: 4 ended. Evaluation done at random point.\n",
      "Time taken: 0.3860\n",
      "Function value obtained: 46.0228\n",
      "Current minimum: 18.6053\n",
      "Iteration No: 5 started. Evaluating function at random point.\n",
      "Iteration No: 5 ended. Evaluation done at random point.\n",
      "Time taken: 0.3808\n",
      "Function value obtained: 7.1590\n",
      "Current minimum: 7.1590\n",
      "Iteration No: 6 started. Evaluating function at random point.\n",
      "Iteration No: 6 ended. Evaluation done at random point.\n",
      "Time taken: 0.3888\n",
      "Function value obtained: 42.5286\n",
      "Current minimum: 7.1590\n",
      "Iteration No: 7 started. Evaluating function at random point.\n",
      "Iteration No: 7 ended. Evaluation done at random point.\n",
      "Time taken: 0.3776\n",
      "Function value obtained: 22.9386\n",
      "Current minimum: 7.1590\n",
      "Iteration No: 8 started. Evaluating function at random point.\n",
      "Iteration No: 8 ended. Evaluation done at random point.\n",
      "Time taken: 0.3930\n",
      "Function value obtained: 42.4498\n",
      "Current minimum: 7.1590\n",
      "Iteration No: 9 started. Evaluating function at random point.\n",
      "Iteration No: 9 ended. Evaluation done at random point.\n",
      "Time taken: 0.3875\n",
      "Function value obtained: 39.2383\n",
      "Current minimum: 7.1590\n",
      "Iteration No: 10 started. Evaluating function at random point.\n",
      "Iteration No: 10 ended. Evaluation done at random point.\n",
      "Time taken: 0.5226\n",
      "Function value obtained: 29.7332\n",
      "Current minimum: 7.1590\n",
      "Iteration No: 11 started. Searching for the next optimal point.\n"
     ]
    },
    {
     "name": "stderr",
     "output_type": "stream",
     "text": [
      "/opt/conda/lib/python3.12/site-packages/gymnasium/spaces/box.py:305: UserWarning: \u001b[33mWARN: Box high's precision lowered by casting to float32, current high.dtype=float64\u001b[0m\n",
      "  gym.logger.warn(\n"
     ]
    },
    {
     "name": "stdout",
     "output_type": "stream",
     "text": [
      "Iteration No: 11 ended. Search finished for the next optimal point.\n",
      "Time taken: 0.5526\n",
      "Function value obtained: 21.0165\n",
      "Current minimum: 7.1590\n",
      "Iteration No: 12 started. Searching for the next optimal point.\n"
     ]
    },
    {
     "name": "stderr",
     "output_type": "stream",
     "text": [
      "/opt/conda/lib/python3.12/site-packages/gymnasium/spaces/box.py:305: UserWarning: \u001b[33mWARN: Box high's precision lowered by casting to float32, current high.dtype=float64\u001b[0m\n",
      "  gym.logger.warn(\n"
     ]
    },
    {
     "name": "stdout",
     "output_type": "stream",
     "text": [
      "Iteration No: 12 ended. Search finished for the next optimal point.\n",
      "Time taken: 0.5585\n",
      "Function value obtained: 6.3416\n",
      "Current minimum: 6.3416\n",
      "Iteration No: 13 started. Searching for the next optimal point.\n"
     ]
    },
    {
     "name": "stderr",
     "output_type": "stream",
     "text": [
      "/opt/conda/lib/python3.12/site-packages/gymnasium/spaces/box.py:305: UserWarning: \u001b[33mWARN: Box high's precision lowered by casting to float32, current high.dtype=float64\u001b[0m\n",
      "  gym.logger.warn(\n"
     ]
    },
    {
     "name": "stdout",
     "output_type": "stream",
     "text": [
      "Iteration No: 13 ended. Search finished for the next optimal point.\n",
      "Time taken: 0.6287\n",
      "Function value obtained: 6.4873\n",
      "Current minimum: 6.3416\n",
      "Iteration No: 14 started. Searching for the next optimal point.\n"
     ]
    },
    {
     "name": "stderr",
     "output_type": "stream",
     "text": [
      "/opt/conda/lib/python3.12/site-packages/gymnasium/spaces/box.py:305: UserWarning: \u001b[33mWARN: Box high's precision lowered by casting to float32, current high.dtype=float64\u001b[0m\n",
      "  gym.logger.warn(\n"
     ]
    },
    {
     "name": "stdout",
     "output_type": "stream",
     "text": [
      "Iteration No: 14 ended. Search finished for the next optimal point.\n",
      "Time taken: 0.5448\n",
      "Function value obtained: 6.5075\n",
      "Current minimum: 6.3416\n",
      "Iteration No: 15 started. Searching for the next optimal point.\n"
     ]
    },
    {
     "name": "stderr",
     "output_type": "stream",
     "text": [
      "/opt/conda/lib/python3.12/site-packages/gymnasium/spaces/box.py:305: UserWarning: \u001b[33mWARN: Box high's precision lowered by casting to float32, current high.dtype=float64\u001b[0m\n",
      "  gym.logger.warn(\n"
     ]
    },
    {
     "name": "stdout",
     "output_type": "stream",
     "text": [
      "Iteration No: 15 ended. Search finished for the next optimal point.\n",
      "Time taken: 0.5251\n",
      "Function value obtained: 11.3055\n",
      "Current minimum: 6.3416\n",
      "Iteration No: 16 started. Searching for the next optimal point.\n"
     ]
    },
    {
     "name": "stderr",
     "output_type": "stream",
     "text": [
      "/opt/conda/lib/python3.12/site-packages/gymnasium/spaces/box.py:305: UserWarning: \u001b[33mWARN: Box high's precision lowered by casting to float32, current high.dtype=float64\u001b[0m\n",
      "  gym.logger.warn(\n"
     ]
    },
    {
     "name": "stdout",
     "output_type": "stream",
     "text": [
      "Iteration No: 16 ended. Search finished for the next optimal point.\n",
      "Time taken: 0.6158\n",
      "Function value obtained: 6.2819\n",
      "Current minimum: 6.2819\n",
      "Iteration No: 17 started. Searching for the next optimal point.\n"
     ]
    },
    {
     "name": "stderr",
     "output_type": "stream",
     "text": [
      "/opt/conda/lib/python3.12/site-packages/gymnasium/spaces/box.py:305: UserWarning: \u001b[33mWARN: Box high's precision lowered by casting to float32, current high.dtype=float64\u001b[0m\n",
      "  gym.logger.warn(\n"
     ]
    },
    {
     "name": "stdout",
     "output_type": "stream",
     "text": [
      "Iteration No: 17 ended. Search finished for the next optimal point.\n",
      "Time taken: 0.4859\n",
      "Function value obtained: 7.3175\n",
      "Current minimum: 6.2819\n",
      "Iteration No: 18 started. Searching for the next optimal point.\n"
     ]
    },
    {
     "name": "stderr",
     "output_type": "stream",
     "text": [
      "/opt/conda/lib/python3.12/site-packages/gymnasium/spaces/box.py:305: UserWarning: \u001b[33mWARN: Box high's precision lowered by casting to float32, current high.dtype=float64\u001b[0m\n",
      "  gym.logger.warn(\n"
     ]
    },
    {
     "name": "stdout",
     "output_type": "stream",
     "text": [
      "Iteration No: 18 ended. Search finished for the next optimal point.\n",
      "Time taken: 0.5843\n",
      "Function value obtained: 8.9079\n",
      "Current minimum: 6.2819\n",
      "Iteration No: 19 started. Searching for the next optimal point.\n"
     ]
    },
    {
     "name": "stderr",
     "output_type": "stream",
     "text": [
      "/opt/conda/lib/python3.12/site-packages/gymnasium/spaces/box.py:305: UserWarning: \u001b[33mWARN: Box high's precision lowered by casting to float32, current high.dtype=float64\u001b[0m\n",
      "  gym.logger.warn(\n"
     ]
    },
    {
     "name": "stdout",
     "output_type": "stream",
     "text": [
      "Iteration No: 19 ended. Search finished for the next optimal point.\n",
      "Time taken: 0.6329\n",
      "Function value obtained: 6.2714\n",
      "Current minimum: 6.2714\n",
      "Iteration No: 20 started. Searching for the next optimal point.\n"
     ]
    },
    {
     "name": "stderr",
     "output_type": "stream",
     "text": [
      "/opt/conda/lib/python3.12/site-packages/gymnasium/spaces/box.py:305: UserWarning: \u001b[33mWARN: Box high's precision lowered by casting to float32, current high.dtype=float64\u001b[0m\n",
      "  gym.logger.warn(\n"
     ]
    },
    {
     "name": "stdout",
     "output_type": "stream",
     "text": [
      "Iteration No: 20 ended. Search finished for the next optimal point.\n",
      "Time taken: 0.5776\n",
      "Function value obtained: 6.3752\n",
      "Current minimum: 6.2714\n",
      "Iteration No: 21 started. Searching for the next optimal point.\n"
     ]
    },
    {
     "name": "stderr",
     "output_type": "stream",
     "text": [
      "/opt/conda/lib/python3.12/site-packages/gymnasium/spaces/box.py:305: UserWarning: \u001b[33mWARN: Box high's precision lowered by casting to float32, current high.dtype=float64\u001b[0m\n",
      "  gym.logger.warn(\n"
     ]
    },
    {
     "name": "stdout",
     "output_type": "stream",
     "text": [
      "Iteration No: 21 ended. Search finished for the next optimal point.\n",
      "Time taken: 0.6165\n",
      "Function value obtained: 7.9911\n",
      "Current minimum: 6.2714\n",
      "Iteration No: 22 started. Searching for the next optimal point.\n"
     ]
    },
    {
     "name": "stderr",
     "output_type": "stream",
     "text": [
      "/opt/conda/lib/python3.12/site-packages/gymnasium/spaces/box.py:305: UserWarning: \u001b[33mWARN: Box high's precision lowered by casting to float32, current high.dtype=float64\u001b[0m\n",
      "  gym.logger.warn(\n"
     ]
    },
    {
     "name": "stdout",
     "output_type": "stream",
     "text": [
      "Iteration No: 22 ended. Search finished for the next optimal point.\n",
      "Time taken: 0.6154\n",
      "Function value obtained: 6.5040\n",
      "Current minimum: 6.2714\n",
      "Iteration No: 23 started. Searching for the next optimal point.\n"
     ]
    },
    {
     "name": "stderr",
     "output_type": "stream",
     "text": [
      "/opt/conda/lib/python3.12/site-packages/gymnasium/spaces/box.py:305: UserWarning: \u001b[33mWARN: Box high's precision lowered by casting to float32, current high.dtype=float64\u001b[0m\n",
      "  gym.logger.warn(\n"
     ]
    },
    {
     "name": "stdout",
     "output_type": "stream",
     "text": [
      "Iteration No: 23 ended. Search finished for the next optimal point.\n",
      "Time taken: 0.6215\n",
      "Function value obtained: 6.7086\n",
      "Current minimum: 6.2714\n",
      "Iteration No: 24 started. Searching for the next optimal point.\n"
     ]
    },
    {
     "name": "stderr",
     "output_type": "stream",
     "text": [
      "/opt/conda/lib/python3.12/site-packages/gymnasium/spaces/box.py:305: UserWarning: \u001b[33mWARN: Box high's precision lowered by casting to float32, current high.dtype=float64\u001b[0m\n",
      "  gym.logger.warn(\n"
     ]
    },
    {
     "name": "stdout",
     "output_type": "stream",
     "text": [
      "Iteration No: 24 ended. Search finished for the next optimal point.\n",
      "Time taken: 0.5804\n",
      "Function value obtained: 7.9351\n",
      "Current minimum: 6.2714\n",
      "Iteration No: 25 started. Searching for the next optimal point.\n"
     ]
    },
    {
     "name": "stderr",
     "output_type": "stream",
     "text": [
      "/opt/conda/lib/python3.12/site-packages/gymnasium/spaces/box.py:305: UserWarning: \u001b[33mWARN: Box high's precision lowered by casting to float32, current high.dtype=float64\u001b[0m\n",
      "  gym.logger.warn(\n"
     ]
    },
    {
     "name": "stdout",
     "output_type": "stream",
     "text": [
      "Iteration No: 25 ended. Search finished for the next optimal point.\n",
      "Time taken: 0.5910\n",
      "Function value obtained: 6.4065\n",
      "Current minimum: 6.2714\n",
      "Iteration No: 26 started. Searching for the next optimal point.\n"
     ]
    },
    {
     "name": "stderr",
     "output_type": "stream",
     "text": [
      "/opt/conda/lib/python3.12/site-packages/gymnasium/spaces/box.py:305: UserWarning: \u001b[33mWARN: Box high's precision lowered by casting to float32, current high.dtype=float64\u001b[0m\n",
      "  gym.logger.warn(\n"
     ]
    },
    {
     "name": "stdout",
     "output_type": "stream",
     "text": [
      "Iteration No: 26 ended. Search finished for the next optimal point.\n",
      "Time taken: 0.5912\n",
      "Function value obtained: 7.2840\n",
      "Current minimum: 6.2714\n",
      "Iteration No: 27 started. Searching for the next optimal point.\n"
     ]
    },
    {
     "name": "stderr",
     "output_type": "stream",
     "text": [
      "/opt/conda/lib/python3.12/site-packages/gymnasium/spaces/box.py:305: UserWarning: \u001b[33mWARN: Box high's precision lowered by casting to float32, current high.dtype=float64\u001b[0m\n",
      "  gym.logger.warn(\n"
     ]
    },
    {
     "name": "stdout",
     "output_type": "stream",
     "text": [
      "Iteration No: 27 ended. Search finished for the next optimal point.\n",
      "Time taken: 0.5725\n",
      "Function value obtained: 6.4023\n",
      "Current minimum: 6.2714\n",
      "Iteration No: 28 started. Searching for the next optimal point.\n"
     ]
    },
    {
     "name": "stderr",
     "output_type": "stream",
     "text": [
      "/opt/conda/lib/python3.12/site-packages/gymnasium/spaces/box.py:305: UserWarning: \u001b[33mWARN: Box high's precision lowered by casting to float32, current high.dtype=float64\u001b[0m\n",
      "  gym.logger.warn(\n"
     ]
    },
    {
     "name": "stdout",
     "output_type": "stream",
     "text": [
      "Iteration No: 28 ended. Search finished for the next optimal point.\n",
      "Time taken: 0.5560\n",
      "Function value obtained: 8.4259\n",
      "Current minimum: 6.2714\n",
      "Iteration No: 29 started. Searching for the next optimal point.\n"
     ]
    },
    {
     "name": "stderr",
     "output_type": "stream",
     "text": [
      "/opt/conda/lib/python3.12/site-packages/gymnasium/spaces/box.py:305: UserWarning: \u001b[33mWARN: Box high's precision lowered by casting to float32, current high.dtype=float64\u001b[0m\n",
      "  gym.logger.warn(\n"
     ]
    },
    {
     "name": "stdout",
     "output_type": "stream",
     "text": [
      "Iteration No: 29 ended. Search finished for the next optimal point.\n",
      "Time taken: 0.6008\n",
      "Function value obtained: 8.1501\n",
      "Current minimum: 6.2714\n",
      "Iteration No: 30 started. Searching for the next optimal point.\n"
     ]
    },
    {
     "name": "stderr",
     "output_type": "stream",
     "text": [
      "/opt/conda/lib/python3.12/site-packages/gymnasium/spaces/box.py:305: UserWarning: \u001b[33mWARN: Box high's precision lowered by casting to float32, current high.dtype=float64\u001b[0m\n",
      "  gym.logger.warn(\n"
     ]
    },
    {
     "name": "stdout",
     "output_type": "stream",
     "text": [
      "Iteration No: 30 ended. Search finished for the next optimal point.\n",
      "Time taken: 0.5775\n",
      "Function value obtained: 6.4148\n",
      "Current minimum: 6.2714\n",
      "Iteration No: 31 started. Searching for the next optimal point.\n"
     ]
    },
    {
     "name": "stderr",
     "output_type": "stream",
     "text": [
      "/opt/conda/lib/python3.12/site-packages/gymnasium/spaces/box.py:305: UserWarning: \u001b[33mWARN: Box high's precision lowered by casting to float32, current high.dtype=float64\u001b[0m\n",
      "  gym.logger.warn(\n"
     ]
    },
    {
     "name": "stdout",
     "output_type": "stream",
     "text": [
      "Iteration No: 31 ended. Search finished for the next optimal point.\n",
      "Time taken: 0.5553\n",
      "Function value obtained: 6.6544\n",
      "Current minimum: 6.2714\n",
      "Iteration No: 32 started. Searching for the next optimal point.\n"
     ]
    },
    {
     "name": "stderr",
     "output_type": "stream",
     "text": [
      "/opt/conda/lib/python3.12/site-packages/gymnasium/spaces/box.py:305: UserWarning: \u001b[33mWARN: Box high's precision lowered by casting to float32, current high.dtype=float64\u001b[0m\n",
      "  gym.logger.warn(\n"
     ]
    },
    {
     "name": "stdout",
     "output_type": "stream",
     "text": [
      "Iteration No: 32 ended. Search finished for the next optimal point.\n",
      "Time taken: 0.6768\n",
      "Function value obtained: 16.4288\n",
      "Current minimum: 6.2714\n",
      "Iteration No: 33 started. Searching for the next optimal point.\n"
     ]
    },
    {
     "name": "stderr",
     "output_type": "stream",
     "text": [
      "/opt/conda/lib/python3.12/site-packages/gymnasium/spaces/box.py:305: UserWarning: \u001b[33mWARN: Box high's precision lowered by casting to float32, current high.dtype=float64\u001b[0m\n",
      "  gym.logger.warn(\n"
     ]
    },
    {
     "name": "stdout",
     "output_type": "stream",
     "text": [
      "Iteration No: 33 ended. Search finished for the next optimal point.\n",
      "Time taken: 0.7575\n",
      "Function value obtained: 6.6791\n",
      "Current minimum: 6.2714\n",
      "Iteration No: 34 started. Searching for the next optimal point.\n"
     ]
    },
    {
     "name": "stderr",
     "output_type": "stream",
     "text": [
      "/opt/conda/lib/python3.12/site-packages/gymnasium/spaces/box.py:305: UserWarning: \u001b[33mWARN: Box high's precision lowered by casting to float32, current high.dtype=float64\u001b[0m\n",
      "  gym.logger.warn(\n"
     ]
    },
    {
     "name": "stdout",
     "output_type": "stream",
     "text": [
      "Iteration No: 34 ended. Search finished for the next optimal point.\n",
      "Time taken: 0.8158\n",
      "Function value obtained: 6.5679\n",
      "Current minimum: 6.2714\n",
      "Iteration No: 35 started. Searching for the next optimal point.\n"
     ]
    },
    {
     "name": "stderr",
     "output_type": "stream",
     "text": [
      "/opt/conda/lib/python3.12/site-packages/gymnasium/spaces/box.py:305: UserWarning: \u001b[33mWARN: Box high's precision lowered by casting to float32, current high.dtype=float64\u001b[0m\n",
      "  gym.logger.warn(\n"
     ]
    },
    {
     "name": "stdout",
     "output_type": "stream",
     "text": [
      "Iteration No: 35 ended. Search finished for the next optimal point.\n",
      "Time taken: 0.6708\n",
      "Function value obtained: 9.5534\n",
      "Current minimum: 6.2714\n",
      "Iteration No: 36 started. Searching for the next optimal point.\n"
     ]
    },
    {
     "name": "stderr",
     "output_type": "stream",
     "text": [
      "/opt/conda/lib/python3.12/site-packages/gymnasium/spaces/box.py:305: UserWarning: \u001b[33mWARN: Box high's precision lowered by casting to float32, current high.dtype=float64\u001b[0m\n",
      "  gym.logger.warn(\n"
     ]
    },
    {
     "name": "stdout",
     "output_type": "stream",
     "text": [
      "Iteration No: 36 ended. Search finished for the next optimal point.\n",
      "Time taken: 0.7416\n",
      "Function value obtained: 12.1138\n",
      "Current minimum: 6.2714\n",
      "Iteration No: 37 started. Searching for the next optimal point.\n"
     ]
    },
    {
     "name": "stderr",
     "output_type": "stream",
     "text": [
      "/opt/conda/lib/python3.12/site-packages/gymnasium/spaces/box.py:305: UserWarning: \u001b[33mWARN: Box high's precision lowered by casting to float32, current high.dtype=float64\u001b[0m\n",
      "  gym.logger.warn(\n"
     ]
    },
    {
     "name": "stdout",
     "output_type": "stream",
     "text": [
      "Iteration No: 37 ended. Search finished for the next optimal point.\n",
      "Time taken: 0.7715\n",
      "Function value obtained: 6.4466\n",
      "Current minimum: 6.2714\n",
      "Iteration No: 38 started. Searching for the next optimal point.\n"
     ]
    },
    {
     "name": "stderr",
     "output_type": "stream",
     "text": [
      "/opt/conda/lib/python3.12/site-packages/gymnasium/spaces/box.py:305: UserWarning: \u001b[33mWARN: Box high's precision lowered by casting to float32, current high.dtype=float64\u001b[0m\n",
      "  gym.logger.warn(\n"
     ]
    },
    {
     "name": "stdout",
     "output_type": "stream",
     "text": [
      "Iteration No: 38 ended. Search finished for the next optimal point.\n",
      "Time taken: 0.7832\n",
      "Function value obtained: 7.5051\n",
      "Current minimum: 6.2714\n",
      "Iteration No: 39 started. Searching for the next optimal point.\n"
     ]
    },
    {
     "name": "stderr",
     "output_type": "stream",
     "text": [
      "/opt/conda/lib/python3.12/site-packages/gymnasium/spaces/box.py:305: UserWarning: \u001b[33mWARN: Box high's precision lowered by casting to float32, current high.dtype=float64\u001b[0m\n",
      "  gym.logger.warn(\n"
     ]
    },
    {
     "name": "stdout",
     "output_type": "stream",
     "text": [
      "Iteration No: 39 ended. Search finished for the next optimal point.\n",
      "Time taken: 0.7427\n",
      "Function value obtained: 6.9990\n",
      "Current minimum: 6.2714\n",
      "Iteration No: 40 started. Searching for the next optimal point.\n"
     ]
    },
    {
     "name": "stderr",
     "output_type": "stream",
     "text": [
      "/opt/conda/lib/python3.12/site-packages/gymnasium/spaces/box.py:305: UserWarning: \u001b[33mWARN: Box high's precision lowered by casting to float32, current high.dtype=float64\u001b[0m\n",
      "  gym.logger.warn(\n"
     ]
    },
    {
     "name": "stdout",
     "output_type": "stream",
     "text": [
      "Iteration No: 40 ended. Search finished for the next optimal point.\n",
      "Time taken: 0.7573\n",
      "Function value obtained: 6.3492\n",
      "Current minimum: 6.2714\n",
      "Iteration No: 41 started. Searching for the next optimal point.\n"
     ]
    },
    {
     "name": "stderr",
     "output_type": "stream",
     "text": [
      "/opt/conda/lib/python3.12/site-packages/gymnasium/spaces/box.py:305: UserWarning: \u001b[33mWARN: Box high's precision lowered by casting to float32, current high.dtype=float64\u001b[0m\n",
      "  gym.logger.warn(\n"
     ]
    },
    {
     "name": "stdout",
     "output_type": "stream",
     "text": [
      "Iteration No: 41 ended. Search finished for the next optimal point.\n",
      "Time taken: 0.7228\n",
      "Function value obtained: 6.8208\n",
      "Current minimum: 6.2714\n",
      "Iteration No: 42 started. Searching for the next optimal point.\n"
     ]
    },
    {
     "name": "stderr",
     "output_type": "stream",
     "text": [
      "/opt/conda/lib/python3.12/site-packages/gymnasium/spaces/box.py:305: UserWarning: \u001b[33mWARN: Box high's precision lowered by casting to float32, current high.dtype=float64\u001b[0m\n",
      "  gym.logger.warn(\n"
     ]
    },
    {
     "name": "stdout",
     "output_type": "stream",
     "text": [
      "Iteration No: 42 ended. Search finished for the next optimal point.\n",
      "Time taken: 0.6596\n",
      "Function value obtained: 12.3966\n",
      "Current minimum: 6.2714\n",
      "Iteration No: 43 started. Searching for the next optimal point.\n"
     ]
    },
    {
     "name": "stderr",
     "output_type": "stream",
     "text": [
      "/opt/conda/lib/python3.12/site-packages/gymnasium/spaces/box.py:305: UserWarning: \u001b[33mWARN: Box high's precision lowered by casting to float32, current high.dtype=float64\u001b[0m\n",
      "  gym.logger.warn(\n"
     ]
    },
    {
     "name": "stdout",
     "output_type": "stream",
     "text": [
      "Iteration No: 43 ended. Search finished for the next optimal point.\n",
      "Time taken: 0.6984\n",
      "Function value obtained: 7.4090\n",
      "Current minimum: 6.2714\n",
      "Iteration No: 44 started. Searching for the next optimal point.\n"
     ]
    },
    {
     "name": "stderr",
     "output_type": "stream",
     "text": [
      "/opt/conda/lib/python3.12/site-packages/gymnasium/spaces/box.py:305: UserWarning: \u001b[33mWARN: Box high's precision lowered by casting to float32, current high.dtype=float64\u001b[0m\n",
      "  gym.logger.warn(\n"
     ]
    },
    {
     "name": "stdout",
     "output_type": "stream",
     "text": [
      "Iteration No: 44 ended. Search finished for the next optimal point.\n",
      "Time taken: 0.6930\n",
      "Function value obtained: 6.5252\n",
      "Current minimum: 6.2714\n",
      "Iteration No: 45 started. Searching for the next optimal point.\n"
     ]
    },
    {
     "name": "stderr",
     "output_type": "stream",
     "text": [
      "/opt/conda/lib/python3.12/site-packages/gymnasium/spaces/box.py:305: UserWarning: \u001b[33mWARN: Box high's precision lowered by casting to float32, current high.dtype=float64\u001b[0m\n",
      "  gym.logger.warn(\n"
     ]
    },
    {
     "name": "stdout",
     "output_type": "stream",
     "text": [
      "Iteration No: 45 ended. Search finished for the next optimal point.\n",
      "Time taken: 0.7607\n",
      "Function value obtained: 6.2199\n",
      "Current minimum: 6.2199\n",
      "Iteration No: 46 started. Searching for the next optimal point.\n"
     ]
    },
    {
     "name": "stderr",
     "output_type": "stream",
     "text": [
      "/opt/conda/lib/python3.12/site-packages/gymnasium/spaces/box.py:305: UserWarning: \u001b[33mWARN: Box high's precision lowered by casting to float32, current high.dtype=float64\u001b[0m\n",
      "  gym.logger.warn(\n"
     ]
    },
    {
     "name": "stdout",
     "output_type": "stream",
     "text": [
      "Iteration No: 46 ended. Search finished for the next optimal point.\n",
      "Time taken: 0.7157\n",
      "Function value obtained: 6.6583\n",
      "Current minimum: 6.2199\n",
      "Iteration No: 47 started. Searching for the next optimal point.\n"
     ]
    },
    {
     "name": "stderr",
     "output_type": "stream",
     "text": [
      "/opt/conda/lib/python3.12/site-packages/gymnasium/spaces/box.py:305: UserWarning: \u001b[33mWARN: Box high's precision lowered by casting to float32, current high.dtype=float64\u001b[0m\n",
      "  gym.logger.warn(\n"
     ]
    },
    {
     "name": "stdout",
     "output_type": "stream",
     "text": [
      "Iteration No: 47 ended. Search finished for the next optimal point.\n",
      "Time taken: 0.8714\n",
      "Function value obtained: 6.4924\n",
      "Current minimum: 6.2199\n",
      "Iteration No: 48 started. Searching for the next optimal point.\n"
     ]
    },
    {
     "name": "stderr",
     "output_type": "stream",
     "text": [
      "/opt/conda/lib/python3.12/site-packages/gymnasium/spaces/box.py:305: UserWarning: \u001b[33mWARN: Box high's precision lowered by casting to float32, current high.dtype=float64\u001b[0m\n",
      "  gym.logger.warn(\n"
     ]
    },
    {
     "name": "stdout",
     "output_type": "stream",
     "text": [
      "Iteration No: 48 ended. Search finished for the next optimal point.\n",
      "Time taken: 0.8662\n",
      "Function value obtained: 6.6686\n",
      "Current minimum: 6.2199\n",
      "Iteration No: 49 started. Searching for the next optimal point.\n"
     ]
    },
    {
     "name": "stderr",
     "output_type": "stream",
     "text": [
      "/opt/conda/lib/python3.12/site-packages/gymnasium/spaces/box.py:305: UserWarning: \u001b[33mWARN: Box high's precision lowered by casting to float32, current high.dtype=float64\u001b[0m\n",
      "  gym.logger.warn(\n"
     ]
    },
    {
     "name": "stdout",
     "output_type": "stream",
     "text": [
      "Iteration No: 49 ended. Search finished for the next optimal point.\n",
      "Time taken: 0.9124\n",
      "Function value obtained: 8.2943\n",
      "Current minimum: 6.2199\n",
      "Iteration No: 50 started. Searching for the next optimal point.\n"
     ]
    },
    {
     "name": "stderr",
     "output_type": "stream",
     "text": [
      "/opt/conda/lib/python3.12/site-packages/gymnasium/spaces/box.py:305: UserWarning: \u001b[33mWARN: Box high's precision lowered by casting to float32, current high.dtype=float64\u001b[0m\n",
      "  gym.logger.warn(\n"
     ]
    },
    {
     "name": "stdout",
     "output_type": "stream",
     "text": [
      "Iteration No: 50 ended. Search finished for the next optimal point.\n",
      "Time taken: 0.9729\n",
      "Function value obtained: 6.3560\n",
      "Current minimum: 6.2199\n",
      "Iteration No: 51 started. Searching for the next optimal point.\n"
     ]
    },
    {
     "name": "stderr",
     "output_type": "stream",
     "text": [
      "/opt/conda/lib/python3.12/site-packages/gymnasium/spaces/box.py:305: UserWarning: \u001b[33mWARN: Box high's precision lowered by casting to float32, current high.dtype=float64\u001b[0m\n",
      "  gym.logger.warn(\n"
     ]
    },
    {
     "name": "stdout",
     "output_type": "stream",
     "text": [
      "Iteration No: 51 ended. Search finished for the next optimal point.\n",
      "Time taken: 0.9054\n",
      "Function value obtained: 6.7567\n",
      "Current minimum: 6.2199\n",
      "Iteration No: 52 started. Searching for the next optimal point.\n"
     ]
    },
    {
     "name": "stderr",
     "output_type": "stream",
     "text": [
      "/opt/conda/lib/python3.12/site-packages/gymnasium/spaces/box.py:305: UserWarning: \u001b[33mWARN: Box high's precision lowered by casting to float32, current high.dtype=float64\u001b[0m\n",
      "  gym.logger.warn(\n"
     ]
    },
    {
     "name": "stdout",
     "output_type": "stream",
     "text": [
      "Iteration No: 52 ended. Search finished for the next optimal point.\n",
      "Time taken: 0.7920\n",
      "Function value obtained: 6.5018\n",
      "Current minimum: 6.2199\n",
      "Iteration No: 53 started. Searching for the next optimal point.\n"
     ]
    },
    {
     "name": "stderr",
     "output_type": "stream",
     "text": [
      "/opt/conda/lib/python3.12/site-packages/gymnasium/spaces/box.py:305: UserWarning: \u001b[33mWARN: Box high's precision lowered by casting to float32, current high.dtype=float64\u001b[0m\n",
      "  gym.logger.warn(\n"
     ]
    },
    {
     "name": "stdout",
     "output_type": "stream",
     "text": [
      "Iteration No: 53 ended. Search finished for the next optimal point.\n",
      "Time taken: 1.0415\n",
      "Function value obtained: 16.1303\n",
      "Current minimum: 6.2199\n",
      "Iteration No: 54 started. Searching for the next optimal point.\n"
     ]
    },
    {
     "name": "stderr",
     "output_type": "stream",
     "text": [
      "/opt/conda/lib/python3.12/site-packages/gymnasium/spaces/box.py:305: UserWarning: \u001b[33mWARN: Box high's precision lowered by casting to float32, current high.dtype=float64\u001b[0m\n",
      "  gym.logger.warn(\n"
     ]
    },
    {
     "name": "stdout",
     "output_type": "stream",
     "text": [
      "Iteration No: 54 ended. Search finished for the next optimal point.\n",
      "Time taken: 0.9055\n",
      "Function value obtained: 6.4908\n",
      "Current minimum: 6.2199\n",
      "Iteration No: 55 started. Searching for the next optimal point.\n"
     ]
    },
    {
     "name": "stderr",
     "output_type": "stream",
     "text": [
      "/opt/conda/lib/python3.12/site-packages/gymnasium/spaces/box.py:305: UserWarning: \u001b[33mWARN: Box high's precision lowered by casting to float32, current high.dtype=float64\u001b[0m\n",
      "  gym.logger.warn(\n"
     ]
    },
    {
     "name": "stdout",
     "output_type": "stream",
     "text": [
      "Iteration No: 55 ended. Search finished for the next optimal point.\n",
      "Time taken: 0.9102\n",
      "Function value obtained: 6.5817\n",
      "Current minimum: 6.2199\n",
      "Iteration No: 56 started. Searching for the next optimal point.\n"
     ]
    },
    {
     "name": "stderr",
     "output_type": "stream",
     "text": [
      "/opt/conda/lib/python3.12/site-packages/gymnasium/spaces/box.py:305: UserWarning: \u001b[33mWARN: Box high's precision lowered by casting to float32, current high.dtype=float64\u001b[0m\n",
      "  gym.logger.warn(\n"
     ]
    },
    {
     "name": "stdout",
     "output_type": "stream",
     "text": [
      "Iteration No: 56 ended. Search finished for the next optimal point.\n",
      "Time taken: 0.9765\n",
      "Function value obtained: 6.4321\n",
      "Current minimum: 6.2199\n",
      "Iteration No: 57 started. Searching for the next optimal point.\n"
     ]
    },
    {
     "name": "stderr",
     "output_type": "stream",
     "text": [
      "/opt/conda/lib/python3.12/site-packages/gymnasium/spaces/box.py:305: UserWarning: \u001b[33mWARN: Box high's precision lowered by casting to float32, current high.dtype=float64\u001b[0m\n",
      "  gym.logger.warn(\n"
     ]
    },
    {
     "name": "stdout",
     "output_type": "stream",
     "text": [
      "Iteration No: 57 ended. Search finished for the next optimal point.\n",
      "Time taken: 0.8875\n",
      "Function value obtained: 6.5683\n",
      "Current minimum: 6.2199\n",
      "Iteration No: 58 started. Searching for the next optimal point.\n"
     ]
    },
    {
     "name": "stderr",
     "output_type": "stream",
     "text": [
      "/opt/conda/lib/python3.12/site-packages/gymnasium/spaces/box.py:305: UserWarning: \u001b[33mWARN: Box high's precision lowered by casting to float32, current high.dtype=float64\u001b[0m\n",
      "  gym.logger.warn(\n"
     ]
    },
    {
     "name": "stdout",
     "output_type": "stream",
     "text": [
      "Iteration No: 58 ended. Search finished for the next optimal point.\n",
      "Time taken: 0.9581\n",
      "Function value obtained: 6.6548\n",
      "Current minimum: 6.2199\n",
      "Iteration No: 59 started. Searching for the next optimal point.\n"
     ]
    },
    {
     "name": "stderr",
     "output_type": "stream",
     "text": [
      "/opt/conda/lib/python3.12/site-packages/gymnasium/spaces/box.py:305: UserWarning: \u001b[33mWARN: Box high's precision lowered by casting to float32, current high.dtype=float64\u001b[0m\n",
      "  gym.logger.warn(\n"
     ]
    },
    {
     "name": "stdout",
     "output_type": "stream",
     "text": [
      "Iteration No: 59 ended. Search finished for the next optimal point.\n",
      "Time taken: 0.8501\n",
      "Function value obtained: 6.3800\n",
      "Current minimum: 6.2199\n",
      "Iteration No: 60 started. Searching for the next optimal point.\n"
     ]
    },
    {
     "name": "stderr",
     "output_type": "stream",
     "text": [
      "/opt/conda/lib/python3.12/site-packages/gymnasium/spaces/box.py:305: UserWarning: \u001b[33mWARN: Box high's precision lowered by casting to float32, current high.dtype=float64\u001b[0m\n",
      "  gym.logger.warn(\n"
     ]
    },
    {
     "name": "stdout",
     "output_type": "stream",
     "text": [
      "Iteration No: 60 ended. Search finished for the next optimal point.\n",
      "Time taken: 1.0141\n",
      "Function value obtained: 14.5071\n",
      "Current minimum: 6.2199\n",
      "Iteration No: 61 started. Searching for the next optimal point.\n"
     ]
    },
    {
     "name": "stderr",
     "output_type": "stream",
     "text": [
      "/opt/conda/lib/python3.12/site-packages/gymnasium/spaces/box.py:305: UserWarning: \u001b[33mWARN: Box high's precision lowered by casting to float32, current high.dtype=float64\u001b[0m\n",
      "  gym.logger.warn(\n"
     ]
    },
    {
     "name": "stdout",
     "output_type": "stream",
     "text": [
      "Iteration No: 61 ended. Search finished for the next optimal point.\n",
      "Time taken: 0.9906\n",
      "Function value obtained: 6.4217\n",
      "Current minimum: 6.2199\n",
      "Iteration No: 62 started. Searching for the next optimal point.\n"
     ]
    },
    {
     "name": "stderr",
     "output_type": "stream",
     "text": [
      "/opt/conda/lib/python3.12/site-packages/gymnasium/spaces/box.py:305: UserWarning: \u001b[33mWARN: Box high's precision lowered by casting to float32, current high.dtype=float64\u001b[0m\n",
      "  gym.logger.warn(\n"
     ]
    },
    {
     "name": "stdout",
     "output_type": "stream",
     "text": [
      "Iteration No: 62 ended. Search finished for the next optimal point.\n",
      "Time taken: 0.9446\n",
      "Function value obtained: 6.3736\n",
      "Current minimum: 6.2199\n",
      "Iteration No: 63 started. Searching for the next optimal point.\n"
     ]
    },
    {
     "name": "stderr",
     "output_type": "stream",
     "text": [
      "/opt/conda/lib/python3.12/site-packages/gymnasium/spaces/box.py:305: UserWarning: \u001b[33mWARN: Box high's precision lowered by casting to float32, current high.dtype=float64\u001b[0m\n",
      "  gym.logger.warn(\n"
     ]
    },
    {
     "name": "stdout",
     "output_type": "stream",
     "text": [
      "Iteration No: 63 ended. Search finished for the next optimal point.\n",
      "Time taken: 0.8868\n",
      "Function value obtained: 6.4878\n",
      "Current minimum: 6.2199\n",
      "Iteration No: 64 started. Searching for the next optimal point.\n"
     ]
    },
    {
     "name": "stderr",
     "output_type": "stream",
     "text": [
      "/opt/conda/lib/python3.12/site-packages/gymnasium/spaces/box.py:305: UserWarning: \u001b[33mWARN: Box high's precision lowered by casting to float32, current high.dtype=float64\u001b[0m\n",
      "  gym.logger.warn(\n"
     ]
    },
    {
     "name": "stdout",
     "output_type": "stream",
     "text": [
      "Iteration No: 64 ended. Search finished for the next optimal point.\n",
      "Time taken: 0.9142\n",
      "Function value obtained: 9.4375\n",
      "Current minimum: 6.2199\n",
      "Iteration No: 65 started. Searching for the next optimal point.\n"
     ]
    },
    {
     "name": "stderr",
     "output_type": "stream",
     "text": [
      "/opt/conda/lib/python3.12/site-packages/gymnasium/spaces/box.py:305: UserWarning: \u001b[33mWARN: Box high's precision lowered by casting to float32, current high.dtype=float64\u001b[0m\n",
      "  gym.logger.warn(\n"
     ]
    },
    {
     "name": "stdout",
     "output_type": "stream",
     "text": [
      "Iteration No: 65 ended. Search finished for the next optimal point.\n",
      "Time taken: 0.9605\n",
      "Function value obtained: 27.6223\n",
      "Current minimum: 6.2199\n",
      "Iteration No: 66 started. Searching for the next optimal point.\n"
     ]
    },
    {
     "name": "stderr",
     "output_type": "stream",
     "text": [
      "/opt/conda/lib/python3.12/site-packages/gymnasium/spaces/box.py:305: UserWarning: \u001b[33mWARN: Box high's precision lowered by casting to float32, current high.dtype=float64\u001b[0m\n",
      "  gym.logger.warn(\n"
     ]
    },
    {
     "name": "stdout",
     "output_type": "stream",
     "text": [
      "Iteration No: 66 ended. Search finished for the next optimal point.\n",
      "Time taken: 0.9362\n",
      "Function value obtained: 6.4106\n",
      "Current minimum: 6.2199\n",
      "Iteration No: 67 started. Searching for the next optimal point.\n"
     ]
    },
    {
     "name": "stderr",
     "output_type": "stream",
     "text": [
      "/opt/conda/lib/python3.12/site-packages/gymnasium/spaces/box.py:305: UserWarning: \u001b[33mWARN: Box high's precision lowered by casting to float32, current high.dtype=float64\u001b[0m\n",
      "  gym.logger.warn(\n"
     ]
    },
    {
     "name": "stdout",
     "output_type": "stream",
     "text": [
      "Iteration No: 67 ended. Search finished for the next optimal point.\n",
      "Time taken: 0.9569\n",
      "Function value obtained: 8.1272\n",
      "Current minimum: 6.2199\n",
      "Iteration No: 68 started. Searching for the next optimal point.\n"
     ]
    },
    {
     "name": "stderr",
     "output_type": "stream",
     "text": [
      "/opt/conda/lib/python3.12/site-packages/gymnasium/spaces/box.py:305: UserWarning: \u001b[33mWARN: Box high's precision lowered by casting to float32, current high.dtype=float64\u001b[0m\n",
      "  gym.logger.warn(\n"
     ]
    },
    {
     "name": "stdout",
     "output_type": "stream",
     "text": [
      "Iteration No: 68 ended. Search finished for the next optimal point.\n",
      "Time taken: 1.0101\n",
      "Function value obtained: 29.0649\n",
      "Current minimum: 6.2199\n",
      "Iteration No: 69 started. Searching for the next optimal point.\n"
     ]
    },
    {
     "name": "stderr",
     "output_type": "stream",
     "text": [
      "/opt/conda/lib/python3.12/site-packages/gymnasium/spaces/box.py:305: UserWarning: \u001b[33mWARN: Box high's precision lowered by casting to float32, current high.dtype=float64\u001b[0m\n",
      "  gym.logger.warn(\n"
     ]
    },
    {
     "name": "stdout",
     "output_type": "stream",
     "text": [
      "Iteration No: 69 ended. Search finished for the next optimal point.\n",
      "Time taken: 1.0620\n",
      "Function value obtained: 6.8614\n",
      "Current minimum: 6.2199\n",
      "Iteration No: 70 started. Searching for the next optimal point.\n"
     ]
    },
    {
     "name": "stderr",
     "output_type": "stream",
     "text": [
      "/opt/conda/lib/python3.12/site-packages/gymnasium/spaces/box.py:305: UserWarning: \u001b[33mWARN: Box high's precision lowered by casting to float32, current high.dtype=float64\u001b[0m\n",
      "  gym.logger.warn(\n"
     ]
    },
    {
     "name": "stdout",
     "output_type": "stream",
     "text": [
      "Iteration No: 70 ended. Search finished for the next optimal point.\n",
      "Time taken: 1.0363\n",
      "Function value obtained: 6.5564\n",
      "Current minimum: 6.2199\n",
      "Iteration No: 71 started. Searching for the next optimal point.\n"
     ]
    },
    {
     "name": "stderr",
     "output_type": "stream",
     "text": [
      "/opt/conda/lib/python3.12/site-packages/gymnasium/spaces/box.py:305: UserWarning: \u001b[33mWARN: Box high's precision lowered by casting to float32, current high.dtype=float64\u001b[0m\n",
      "  gym.logger.warn(\n"
     ]
    },
    {
     "name": "stdout",
     "output_type": "stream",
     "text": [
      "Iteration No: 71 ended. Search finished for the next optimal point.\n",
      "Time taken: 1.1769\n",
      "Function value obtained: 6.5021\n",
      "Current minimum: 6.2199\n",
      "Iteration No: 72 started. Searching for the next optimal point.\n"
     ]
    },
    {
     "name": "stderr",
     "output_type": "stream",
     "text": [
      "/opt/conda/lib/python3.12/site-packages/gymnasium/spaces/box.py:305: UserWarning: \u001b[33mWARN: Box high's precision lowered by casting to float32, current high.dtype=float64\u001b[0m\n",
      "  gym.logger.warn(\n"
     ]
    },
    {
     "name": "stdout",
     "output_type": "stream",
     "text": [
      "Iteration No: 72 ended. Search finished for the next optimal point.\n",
      "Time taken: 1.0182\n",
      "Function value obtained: 6.4299\n",
      "Current minimum: 6.2199\n",
      "Iteration No: 73 started. Searching for the next optimal point.\n"
     ]
    },
    {
     "name": "stderr",
     "output_type": "stream",
     "text": [
      "/opt/conda/lib/python3.12/site-packages/gymnasium/spaces/box.py:305: UserWarning: \u001b[33mWARN: Box high's precision lowered by casting to float32, current high.dtype=float64\u001b[0m\n",
      "  gym.logger.warn(\n"
     ]
    },
    {
     "name": "stdout",
     "output_type": "stream",
     "text": [
      "Iteration No: 73 ended. Search finished for the next optimal point.\n",
      "Time taken: 1.0948\n",
      "Function value obtained: 6.3863\n",
      "Current minimum: 6.2199\n",
      "Iteration No: 74 started. Searching for the next optimal point.\n"
     ]
    },
    {
     "name": "stderr",
     "output_type": "stream",
     "text": [
      "/opt/conda/lib/python3.12/site-packages/gymnasium/spaces/box.py:305: UserWarning: \u001b[33mWARN: Box high's precision lowered by casting to float32, current high.dtype=float64\u001b[0m\n",
      "  gym.logger.warn(\n"
     ]
    },
    {
     "name": "stdout",
     "output_type": "stream",
     "text": [
      "Iteration No: 74 ended. Search finished for the next optimal point.\n",
      "Time taken: 1.0988\n",
      "Function value obtained: 6.2353\n",
      "Current minimum: 6.2199\n",
      "Iteration No: 75 started. Searching for the next optimal point.\n"
     ]
    },
    {
     "name": "stderr",
     "output_type": "stream",
     "text": [
      "/opt/conda/lib/python3.12/site-packages/gymnasium/spaces/box.py:305: UserWarning: \u001b[33mWARN: Box high's precision lowered by casting to float32, current high.dtype=float64\u001b[0m\n",
      "  gym.logger.warn(\n"
     ]
    },
    {
     "name": "stdout",
     "output_type": "stream",
     "text": [
      "Iteration No: 75 ended. Search finished for the next optimal point.\n",
      "Time taken: 1.1147\n",
      "Function value obtained: 6.3040\n",
      "Current minimum: 6.2199\n",
      "Iteration No: 76 started. Searching for the next optimal point.\n"
     ]
    },
    {
     "name": "stderr",
     "output_type": "stream",
     "text": [
      "/opt/conda/lib/python3.12/site-packages/gymnasium/spaces/box.py:305: UserWarning: \u001b[33mWARN: Box high's precision lowered by casting to float32, current high.dtype=float64\u001b[0m\n",
      "  gym.logger.warn(\n"
     ]
    },
    {
     "name": "stdout",
     "output_type": "stream",
     "text": [
      "Iteration No: 76 ended. Search finished for the next optimal point.\n",
      "Time taken: 1.0608\n",
      "Function value obtained: 6.2889\n",
      "Current minimum: 6.2199\n",
      "Iteration No: 77 started. Searching for the next optimal point.\n"
     ]
    },
    {
     "name": "stderr",
     "output_type": "stream",
     "text": [
      "/opt/conda/lib/python3.12/site-packages/gymnasium/spaces/box.py:305: UserWarning: \u001b[33mWARN: Box high's precision lowered by casting to float32, current high.dtype=float64\u001b[0m\n",
      "  gym.logger.warn(\n"
     ]
    },
    {
     "name": "stdout",
     "output_type": "stream",
     "text": [
      "Iteration No: 77 ended. Search finished for the next optimal point.\n",
      "Time taken: 1.1019\n",
      "Function value obtained: 6.4773\n",
      "Current minimum: 6.2199\n",
      "Iteration No: 78 started. Searching for the next optimal point.\n"
     ]
    },
    {
     "name": "stderr",
     "output_type": "stream",
     "text": [
      "/opt/conda/lib/python3.12/site-packages/gymnasium/spaces/box.py:305: UserWarning: \u001b[33mWARN: Box high's precision lowered by casting to float32, current high.dtype=float64\u001b[0m\n",
      "  gym.logger.warn(\n"
     ]
    },
    {
     "name": "stdout",
     "output_type": "stream",
     "text": [
      "Iteration No: 78 ended. Search finished for the next optimal point.\n",
      "Time taken: 1.0980\n",
      "Function value obtained: 6.3501\n",
      "Current minimum: 6.2199\n",
      "Iteration No: 79 started. Searching for the next optimal point.\n"
     ]
    },
    {
     "name": "stderr",
     "output_type": "stream",
     "text": [
      "/opt/conda/lib/python3.12/site-packages/gymnasium/spaces/box.py:305: UserWarning: \u001b[33mWARN: Box high's precision lowered by casting to float32, current high.dtype=float64\u001b[0m\n",
      "  gym.logger.warn(\n"
     ]
    },
    {
     "name": "stdout",
     "output_type": "stream",
     "text": [
      "Iteration No: 79 ended. Search finished for the next optimal point.\n",
      "Time taken: 1.0965\n",
      "Function value obtained: 6.1958\n",
      "Current minimum: 6.1958\n",
      "Iteration No: 80 started. Searching for the next optimal point.\n"
     ]
    },
    {
     "name": "stderr",
     "output_type": "stream",
     "text": [
      "/opt/conda/lib/python3.12/site-packages/gymnasium/spaces/box.py:305: UserWarning: \u001b[33mWARN: Box high's precision lowered by casting to float32, current high.dtype=float64\u001b[0m\n",
      "  gym.logger.warn(\n"
     ]
    },
    {
     "name": "stdout",
     "output_type": "stream",
     "text": [
      "Iteration No: 80 ended. Search finished for the next optimal point.\n",
      "Time taken: 1.1298\n",
      "Function value obtained: 6.4082\n",
      "Current minimum: 6.1958\n",
      "Iteration No: 81 started. Searching for the next optimal point.\n"
     ]
    },
    {
     "name": "stderr",
     "output_type": "stream",
     "text": [
      "/opt/conda/lib/python3.12/site-packages/gymnasium/spaces/box.py:305: UserWarning: \u001b[33mWARN: Box high's precision lowered by casting to float32, current high.dtype=float64\u001b[0m\n",
      "  gym.logger.warn(\n"
     ]
    },
    {
     "name": "stdout",
     "output_type": "stream",
     "text": [
      "Iteration No: 81 ended. Search finished for the next optimal point.\n",
      "Time taken: 1.0914\n",
      "Function value obtained: 6.2571\n",
      "Current minimum: 6.1958\n",
      "Iteration No: 82 started. Searching for the next optimal point.\n"
     ]
    },
    {
     "name": "stderr",
     "output_type": "stream",
     "text": [
      "/opt/conda/lib/python3.12/site-packages/gymnasium/spaces/box.py:305: UserWarning: \u001b[33mWARN: Box high's precision lowered by casting to float32, current high.dtype=float64\u001b[0m\n",
      "  gym.logger.warn(\n"
     ]
    },
    {
     "name": "stdout",
     "output_type": "stream",
     "text": [
      "Iteration No: 82 ended. Search finished for the next optimal point.\n",
      "Time taken: 1.0819\n",
      "Function value obtained: 6.1216\n",
      "Current minimum: 6.1216\n",
      "Iteration No: 83 started. Searching for the next optimal point.\n"
     ]
    },
    {
     "name": "stderr",
     "output_type": "stream",
     "text": [
      "/opt/conda/lib/python3.12/site-packages/gymnasium/spaces/box.py:305: UserWarning: \u001b[33mWARN: Box high's precision lowered by casting to float32, current high.dtype=float64\u001b[0m\n",
      "  gym.logger.warn(\n"
     ]
    },
    {
     "name": "stdout",
     "output_type": "stream",
     "text": [
      "Iteration No: 83 ended. Search finished for the next optimal point.\n",
      "Time taken: 1.0948\n",
      "Function value obtained: 6.6405\n",
      "Current minimum: 6.1216\n",
      "Iteration No: 84 started. Searching for the next optimal point.\n"
     ]
    },
    {
     "name": "stderr",
     "output_type": "stream",
     "text": [
      "/opt/conda/lib/python3.12/site-packages/gymnasium/spaces/box.py:305: UserWarning: \u001b[33mWARN: Box high's precision lowered by casting to float32, current high.dtype=float64\u001b[0m\n",
      "  gym.logger.warn(\n"
     ]
    },
    {
     "name": "stdout",
     "output_type": "stream",
     "text": [
      "Iteration No: 84 ended. Search finished for the next optimal point.\n",
      "Time taken: 1.0682\n",
      "Function value obtained: 6.4398\n",
      "Current minimum: 6.1216\n",
      "Iteration No: 85 started. Searching for the next optimal point.\n"
     ]
    },
    {
     "name": "stderr",
     "output_type": "stream",
     "text": [
      "/opt/conda/lib/python3.12/site-packages/gymnasium/spaces/box.py:305: UserWarning: \u001b[33mWARN: Box high's precision lowered by casting to float32, current high.dtype=float64\u001b[0m\n",
      "  gym.logger.warn(\n"
     ]
    },
    {
     "name": "stdout",
     "output_type": "stream",
     "text": [
      "Iteration No: 85 ended. Search finished for the next optimal point.\n",
      "Time taken: 1.0890\n",
      "Function value obtained: 6.4921\n",
      "Current minimum: 6.1216\n",
      "Iteration No: 86 started. Searching for the next optimal point.\n"
     ]
    },
    {
     "name": "stderr",
     "output_type": "stream",
     "text": [
      "/opt/conda/lib/python3.12/site-packages/gymnasium/spaces/box.py:305: UserWarning: \u001b[33mWARN: Box high's precision lowered by casting to float32, current high.dtype=float64\u001b[0m\n",
      "  gym.logger.warn(\n"
     ]
    },
    {
     "name": "stdout",
     "output_type": "stream",
     "text": [
      "Iteration No: 86 ended. Search finished for the next optimal point.\n",
      "Time taken: 1.0766\n",
      "Function value obtained: 9.6482\n",
      "Current minimum: 6.1216\n",
      "Iteration No: 87 started. Searching for the next optimal point.\n"
     ]
    },
    {
     "name": "stderr",
     "output_type": "stream",
     "text": [
      "/opt/conda/lib/python3.12/site-packages/gymnasium/spaces/box.py:305: UserWarning: \u001b[33mWARN: Box high's precision lowered by casting to float32, current high.dtype=float64\u001b[0m\n",
      "  gym.logger.warn(\n"
     ]
    },
    {
     "name": "stdout",
     "output_type": "stream",
     "text": [
      "Iteration No: 87 ended. Search finished for the next optimal point.\n",
      "Time taken: 1.1027\n",
      "Function value obtained: 6.5717\n",
      "Current minimum: 6.1216\n",
      "Iteration No: 88 started. Searching for the next optimal point.\n"
     ]
    },
    {
     "name": "stderr",
     "output_type": "stream",
     "text": [
      "/opt/conda/lib/python3.12/site-packages/gymnasium/spaces/box.py:305: UserWarning: \u001b[33mWARN: Box high's precision lowered by casting to float32, current high.dtype=float64\u001b[0m\n",
      "  gym.logger.warn(\n"
     ]
    },
    {
     "name": "stdout",
     "output_type": "stream",
     "text": [
      "Iteration No: 88 ended. Search finished for the next optimal point.\n",
      "Time taken: 1.0870\n",
      "Function value obtained: 6.4204\n",
      "Current minimum: 6.1216\n",
      "Iteration No: 89 started. Searching for the next optimal point.\n"
     ]
    },
    {
     "name": "stderr",
     "output_type": "stream",
     "text": [
      "/opt/conda/lib/python3.12/site-packages/gymnasium/spaces/box.py:305: UserWarning: \u001b[33mWARN: Box high's precision lowered by casting to float32, current high.dtype=float64\u001b[0m\n",
      "  gym.logger.warn(\n"
     ]
    },
    {
     "name": "stdout",
     "output_type": "stream",
     "text": [
      "Iteration No: 89 ended. Search finished for the next optimal point.\n",
      "Time taken: 1.1268\n",
      "Function value obtained: 6.5051\n",
      "Current minimum: 6.1216\n",
      "Iteration No: 90 started. Searching for the next optimal point.\n"
     ]
    },
    {
     "name": "stderr",
     "output_type": "stream",
     "text": [
      "/opt/conda/lib/python3.12/site-packages/gymnasium/spaces/box.py:305: UserWarning: \u001b[33mWARN: Box high's precision lowered by casting to float32, current high.dtype=float64\u001b[0m\n",
      "  gym.logger.warn(\n"
     ]
    },
    {
     "name": "stdout",
     "output_type": "stream",
     "text": [
      "Iteration No: 90 ended. Search finished for the next optimal point.\n",
      "Time taken: 1.2338\n",
      "Function value obtained: 6.3482\n",
      "Current minimum: 6.1216\n",
      "Iteration No: 91 started. Searching for the next optimal point.\n"
     ]
    },
    {
     "name": "stderr",
     "output_type": "stream",
     "text": [
      "/opt/conda/lib/python3.12/site-packages/gymnasium/spaces/box.py:305: UserWarning: \u001b[33mWARN: Box high's precision lowered by casting to float32, current high.dtype=float64\u001b[0m\n",
      "  gym.logger.warn(\n"
     ]
    },
    {
     "name": "stdout",
     "output_type": "stream",
     "text": [
      "Iteration No: 91 ended. Search finished for the next optimal point.\n",
      "Time taken: 1.1734\n",
      "Function value obtained: 6.3555\n",
      "Current minimum: 6.1216\n",
      "Iteration No: 92 started. Searching for the next optimal point.\n"
     ]
    },
    {
     "name": "stderr",
     "output_type": "stream",
     "text": [
      "/opt/conda/lib/python3.12/site-packages/gymnasium/spaces/box.py:305: UserWarning: \u001b[33mWARN: Box high's precision lowered by casting to float32, current high.dtype=float64\u001b[0m\n",
      "  gym.logger.warn(\n"
     ]
    },
    {
     "name": "stdout",
     "output_type": "stream",
     "text": [
      "Iteration No: 92 ended. Search finished for the next optimal point.\n",
      "Time taken: 1.2032\n",
      "Function value obtained: 6.2337\n",
      "Current minimum: 6.1216\n",
      "Iteration No: 93 started. Searching for the next optimal point.\n"
     ]
    },
    {
     "name": "stderr",
     "output_type": "stream",
     "text": [
      "/opt/conda/lib/python3.12/site-packages/gymnasium/spaces/box.py:305: UserWarning: \u001b[33mWARN: Box high's precision lowered by casting to float32, current high.dtype=float64\u001b[0m\n",
      "  gym.logger.warn(\n"
     ]
    },
    {
     "name": "stdout",
     "output_type": "stream",
     "text": [
      "Iteration No: 93 ended. Search finished for the next optimal point.\n",
      "Time taken: 1.1871\n",
      "Function value obtained: 6.5388\n",
      "Current minimum: 6.1216\n",
      "Iteration No: 94 started. Searching for the next optimal point.\n"
     ]
    },
    {
     "name": "stderr",
     "output_type": "stream",
     "text": [
      "/opt/conda/lib/python3.12/site-packages/gymnasium/spaces/box.py:305: UserWarning: \u001b[33mWARN: Box high's precision lowered by casting to float32, current high.dtype=float64\u001b[0m\n",
      "  gym.logger.warn(\n"
     ]
    },
    {
     "name": "stdout",
     "output_type": "stream",
     "text": [
      "Iteration No: 94 ended. Search finished for the next optimal point.\n",
      "Time taken: 1.2624\n",
      "Function value obtained: 14.3061\n",
      "Current minimum: 6.1216\n",
      "Iteration No: 95 started. Searching for the next optimal point.\n"
     ]
    },
    {
     "name": "stderr",
     "output_type": "stream",
     "text": [
      "/opt/conda/lib/python3.12/site-packages/gymnasium/spaces/box.py:305: UserWarning: \u001b[33mWARN: Box high's precision lowered by casting to float32, current high.dtype=float64\u001b[0m\n",
      "  gym.logger.warn(\n"
     ]
    },
    {
     "name": "stdout",
     "output_type": "stream",
     "text": [
      "Iteration No: 95 ended. Search finished for the next optimal point.\n",
      "Time taken: 1.2687\n",
      "Function value obtained: 6.4972\n",
      "Current minimum: 6.1216\n",
      "Iteration No: 96 started. Searching for the next optimal point.\n"
     ]
    },
    {
     "name": "stderr",
     "output_type": "stream",
     "text": [
      "/opt/conda/lib/python3.12/site-packages/gymnasium/spaces/box.py:305: UserWarning: \u001b[33mWARN: Box high's precision lowered by casting to float32, current high.dtype=float64\u001b[0m\n",
      "  gym.logger.warn(\n"
     ]
    },
    {
     "name": "stdout",
     "output_type": "stream",
     "text": [
      "Iteration No: 96 ended. Search finished for the next optimal point.\n",
      "Time taken: 1.2701\n",
      "Function value obtained: 40.8747\n",
      "Current minimum: 6.1216\n",
      "Iteration No: 97 started. Searching for the next optimal point.\n"
     ]
    },
    {
     "name": "stderr",
     "output_type": "stream",
     "text": [
      "/opt/conda/lib/python3.12/site-packages/gymnasium/spaces/box.py:305: UserWarning: \u001b[33mWARN: Box high's precision lowered by casting to float32, current high.dtype=float64\u001b[0m\n",
      "  gym.logger.warn(\n"
     ]
    },
    {
     "name": "stdout",
     "output_type": "stream",
     "text": [
      "Iteration No: 97 ended. Search finished for the next optimal point.\n",
      "Time taken: 1.2847\n",
      "Function value obtained: 6.2081\n",
      "Current minimum: 6.1216\n",
      "Iteration No: 98 started. Searching for the next optimal point.\n"
     ]
    },
    {
     "name": "stderr",
     "output_type": "stream",
     "text": [
      "/opt/conda/lib/python3.12/site-packages/gymnasium/spaces/box.py:305: UserWarning: \u001b[33mWARN: Box high's precision lowered by casting to float32, current high.dtype=float64\u001b[0m\n",
      "  gym.logger.warn(\n"
     ]
    },
    {
     "name": "stdout",
     "output_type": "stream",
     "text": [
      "Iteration No: 98 ended. Search finished for the next optimal point.\n",
      "Time taken: 1.2517\n",
      "Function value obtained: 8.5569\n",
      "Current minimum: 6.1216\n",
      "Iteration No: 99 started. Searching for the next optimal point.\n"
     ]
    },
    {
     "name": "stderr",
     "output_type": "stream",
     "text": [
      "/opt/conda/lib/python3.12/site-packages/gymnasium/spaces/box.py:305: UserWarning: \u001b[33mWARN: Box high's precision lowered by casting to float32, current high.dtype=float64\u001b[0m\n",
      "  gym.logger.warn(\n"
     ]
    },
    {
     "name": "stdout",
     "output_type": "stream",
     "text": [
      "Iteration No: 99 ended. Search finished for the next optimal point.\n",
      "Time taken: 1.2814\n",
      "Function value obtained: 6.5656\n",
      "Current minimum: 6.1216\n",
      "Iteration No: 100 started. Searching for the next optimal point.\n"
     ]
    },
    {
     "name": "stderr",
     "output_type": "stream",
     "text": [
      "/opt/conda/lib/python3.12/site-packages/gymnasium/spaces/box.py:305: UserWarning: \u001b[33mWARN: Box high's precision lowered by casting to float32, current high.dtype=float64\u001b[0m\n",
      "  gym.logger.warn(\n"
     ]
    },
    {
     "name": "stdout",
     "output_type": "stream",
     "text": [
      "Iteration No: 100 ended. Search finished for the next optimal point.\n",
      "Time taken: 1.3744\n",
      "Function value obtained: 6.8495\n",
      "Current minimum: 6.1216\n",
      "CPU times: user 49min 10s, sys: 9.13 s, total: 49min 19s\n",
      "Wall time: 1min 34s\n"
     ]
    },
    {
     "data": {
      "text/plain": [
       "[439.98733586238234, 794.1018039403413, 0.0]"
      ]
     },
     "execution_count": 4,
     "metadata": {},
     "output_type": "execute_result"
    }
   ],
   "source": [
    "%%time\n",
    "max_action = 3000\n",
    "res = gp_minimize(evaluateConstAct, 3*[(0.0, max_action)], n_calls = 100, verbose=True)\n",
    "res.x"
   ]
  },
  {
   "cell_type": "code",
   "execution_count": 46,
   "id": "c8634cea-8f5c-42e1-98ae-4c7ab75eb115",
   "metadata": {},
   "outputs": [
    {
     "name": "stderr",
     "output_type": "stream",
     "text": [
      "/opt/conda/lib/python3.12/site-packages/gymnasium/spaces/box.py:305: UserWarning: \u001b[33mWARN: Box high's precision lowered by casting to float32, current high.dtype=float64\u001b[0m\n",
      "  gym.logger.warn(\n",
      "2025-06-17 00:32:49,587\tINFO worker.py:1917 -- Started a local Ray instance.\n"
     ]
    },
    {
     "data": {
      "text/plain": [
       "6.3741998580596055"
      ]
     },
     "execution_count": 46,
     "metadata": {},
     "output_type": "execute_result"
    }
   ],
   "source": [
    "# with nonNormalized env\n",
    "evaluateConstAct(\n",
    "    [439.98733586238234, 794.1018039403413, 0.0]\n",
    ")"
   ]
  },
  {
   "cell_type": "code",
   "execution_count": 47,
   "id": "6c67eced-2308-4d2d-95bf-f5024bc5175d",
   "metadata": {},
   "outputs": [],
   "source": [
    "import ray\n",
    "ray.shutdown()"
   ]
  },
  {
   "cell_type": "code",
   "execution_count": 48,
   "id": "46694fd6-05c5-47a7-ba0d-aa6ec1225cf2",
   "metadata": {},
   "outputs": [
    {
     "data": {
      "text/html": [
       "<div>\n",
       "<style scoped>\n",
       "    .dataframe tbody tr th:only-of-type {\n",
       "        vertical-align: middle;\n",
       "    }\n",
       "\n",
       "    .dataframe tbody tr th {\n",
       "        vertical-align: top;\n",
       "    }\n",
       "\n",
       "    .dataframe thead th {\n",
       "        text-align: right;\n",
       "    }\n",
       "</style>\n",
       "<table border=\"1\" class=\"dataframe\">\n",
       "  <thead>\n",
       "    <tr style=\"text-align: right;\">\n",
       "      <th></th>\n",
       "      <th>t</th>\n",
       "      <th>obs0</th>\n",
       "      <th>obs1</th>\n",
       "      <th>act0</th>\n",
       "      <th>act1</th>\n",
       "      <th>act2</th>\n",
       "      <th>rew</th>\n",
       "      <th>rep</th>\n",
       "    </tr>\n",
       "  </thead>\n",
       "  <tbody>\n",
       "    <tr>\n",
       "      <th>0</th>\n",
       "      <td>0</td>\n",
       "      <td>0.0</td>\n",
       "      <td>0.0</td>\n",
       "      <td>0.0</td>\n",
       "      <td>265.678801</td>\n",
       "      <td>0.0</td>\n",
       "      <td>0.000000</td>\n",
       "      <td>0</td>\n",
       "    </tr>\n",
       "    <tr>\n",
       "      <th>1</th>\n",
       "      <td>1</td>\n",
       "      <td>0.0</td>\n",
       "      <td>0.0</td>\n",
       "      <td>0.0</td>\n",
       "      <td>265.678801</td>\n",
       "      <td>0.0</td>\n",
       "      <td>-0.007146</td>\n",
       "      <td>0</td>\n",
       "    </tr>\n",
       "    <tr>\n",
       "      <th>2</th>\n",
       "      <td>2</td>\n",
       "      <td>0.0</td>\n",
       "      <td>0.0</td>\n",
       "      <td>0.0</td>\n",
       "      <td>265.678801</td>\n",
       "      <td>0.0</td>\n",
       "      <td>-0.014292</td>\n",
       "      <td>0</td>\n",
       "    </tr>\n",
       "    <tr>\n",
       "      <th>3</th>\n",
       "      <td>3</td>\n",
       "      <td>0.0</td>\n",
       "      <td>0.0</td>\n",
       "      <td>0.0</td>\n",
       "      <td>265.678801</td>\n",
       "      <td>0.0</td>\n",
       "      <td>-0.021438</td>\n",
       "      <td>0</td>\n",
       "    </tr>\n",
       "    <tr>\n",
       "      <th>4</th>\n",
       "      <td>4</td>\n",
       "      <td>0.0</td>\n",
       "      <td>0.0</td>\n",
       "      <td>0.0</td>\n",
       "      <td>265.678801</td>\n",
       "      <td>0.0</td>\n",
       "      <td>-0.028584</td>\n",
       "      <td>0</td>\n",
       "    </tr>\n",
       "  </tbody>\n",
       "</table>\n",
       "</div>"
      ],
      "text/plain": [
       "   t  obs0  obs1  act0        act1  act2       rew  rep\n",
       "0  0   0.0   0.0   0.0  265.678801   0.0  0.000000    0\n",
       "1  1   0.0   0.0   0.0  265.678801   0.0 -0.007146    0\n",
       "2  2   0.0   0.0   0.0  265.678801   0.0 -0.014292    0\n",
       "3  3   0.0   0.0   0.0  265.678801   0.0 -0.021438    0\n",
       "4  4   0.0   0.0   0.0  265.678801   0.0 -0.028584    0"
      ]
     },
     "execution_count": 48,
     "metadata": {},
     "output_type": "execute_result"
    }
   ],
   "source": [
    "env = greenCrabMonthEnv(config)\n",
    "agent = multiConstAction(env=env, action=np.array([0.0, 265.6788011729134, 0.0]))\n",
    "constantData = simulator(env = env, agent = agent).simulate_full_named_dict_obs_acts()\n",
    "constantDataDF = pd.DataFrame(constantData)\n",
    "constantDataDF.head()"
   ]
  },
  {
   "cell_type": "code",
   "execution_count": 49,
   "id": "f89b76f7-3786-4e7c-a357-de689969ad69",
   "metadata": {},
   "outputs": [
    {
     "data": {
      "text/plain": [
       "<Axes: xlabel='t'>"
      ]
     },
     "execution_count": 49,
     "metadata": {},
     "output_type": "execute_result"
    },
    {
     "data": {
      "image/png": "[encoded data removed]",
      "text/plain": [
       "<Figure size 640x480 with 1 Axes>"
      ]
     },
     "metadata": {},
     "output_type": "display_data"
    }
   ],
   "source": [
    "constantDataDF[constantDataDF.rep == 0].plot(x='t', y =['obs0'])"
   ]
  },
  {
   "cell_type": "code",
   "execution_count": 50,
   "id": "9487aaa9-06fd-4dd0-94f9-072822510ade",
   "metadata": {},
   "outputs": [
    {
     "data": {
      "text/html": [
       "<div>\n",
       "<style scoped>\n",
       "    .dataframe tbody tr th:only-of-type {\n",
       "        vertical-align: middle;\n",
       "    }\n",
       "\n",
       "    .dataframe tbody tr th {\n",
       "        vertical-align: top;\n",
       "    }\n",
       "\n",
       "    .dataframe thead th {\n",
       "        text-align: right;\n",
       "    }\n",
       "</style>\n",
       "<table border=\"1\" class=\"dataframe\">\n",
       "  <thead>\n",
       "    <tr style=\"text-align: right;\">\n",
       "      <th></th>\n",
       "      <th>t</th>\n",
       "      <th>obs0</th>\n",
       "      <th>obs1</th>\n",
       "      <th>act0</th>\n",
       "      <th>act1</th>\n",
       "      <th>act2</th>\n",
       "      <th>rew</th>\n",
       "      <th>rep</th>\n",
       "      <th>crab_pop</th>\n",
       "    </tr>\n",
       "  </thead>\n",
       "  <tbody>\n",
       "    <tr>\n",
       "      <th>0</th>\n",
       "      <td>0</td>\n",
       "      <td>0.0</td>\n",
       "      <td>0.0</td>\n",
       "      <td>0.0</td>\n",
       "      <td>0.0</td>\n",
       "      <td>0.0</td>\n",
       "      <td>0.000000</td>\n",
       "      <td>0</td>\n",
       "      <td>[0.0002598560294824107, 0.004307844136430026, ...</td>\n",
       "    </tr>\n",
       "    <tr>\n",
       "      <th>1</th>\n",
       "      <td>1</td>\n",
       "      <td>0.0</td>\n",
       "      <td>0.0</td>\n",
       "      <td>0.0</td>\n",
       "      <td>0.0</td>\n",
       "      <td>0.0</td>\n",
       "      <td>-0.264998</td>\n",
       "      <td>0</td>\n",
       "      <td>[303.75259653145457, 4592.876555410989, 18142....</td>\n",
       "    </tr>\n",
       "    <tr>\n",
       "      <th>2</th>\n",
       "      <td>2</td>\n",
       "      <td>0.0</td>\n",
       "      <td>0.0</td>\n",
       "      <td>0.0</td>\n",
       "      <td>0.0</td>\n",
       "      <td>0.0</td>\n",
       "      <td>-0.529998</td>\n",
       "      <td>0</td>\n",
       "      <td>[31.5861204411194, 734.0905708981785, 5572.546...</td>\n",
       "    </tr>\n",
       "    <tr>\n",
       "      <th>3</th>\n",
       "      <td>3</td>\n",
       "      <td>0.0</td>\n",
       "      <td>0.0</td>\n",
       "      <td>0.0</td>\n",
       "      <td>0.0</td>\n",
       "      <td>0.0</td>\n",
       "      <td>-0.794998</td>\n",
       "      <td>0</td>\n",
       "      <td>[3.4017319538243362, 109.18791950483491, 1269....</td>\n",
       "    </tr>\n",
       "    <tr>\n",
       "      <th>4</th>\n",
       "      <td>4</td>\n",
       "      <td>0.0</td>\n",
       "      <td>0.0</td>\n",
       "      <td>0.0</td>\n",
       "      <td>0.0</td>\n",
       "      <td>0.0</td>\n",
       "      <td>-1.059998</td>\n",
       "      <td>0</td>\n",
       "      <td>[0.3657273962692726, 15.7893150734233, 255.326...</td>\n",
       "    </tr>\n",
       "  </tbody>\n",
       "</table>\n",
       "</div>"
      ],
      "text/plain": [
       "   t  obs0  obs1  act0  act1  act2       rew  rep  \\\n",
       "0  0   0.0   0.0   0.0   0.0   0.0  0.000000    0   \n",
       "1  1   0.0   0.0   0.0   0.0   0.0 -0.264998    0   \n",
       "2  2   0.0   0.0   0.0   0.0   0.0 -0.529998    0   \n",
       "3  3   0.0   0.0   0.0   0.0   0.0 -0.794998    0   \n",
       "4  4   0.0   0.0   0.0   0.0   0.0 -1.059998    0   \n",
       "\n",
       "                                            crab_pop  \n",
       "0  [0.0002598560294824107, 0.004307844136430026, ...  \n",
       "1  [303.75259653145457, 4592.876555410989, 18142....  \n",
       "2  [31.5861204411194, 734.0905708981785, 5572.546...  \n",
       "3  [3.4017319538243362, 109.18791950483491, 1269....  \n",
       "4  [0.3657273962692726, 15.7893150734233, 255.326...  "
      ]
     },
     "execution_count": 50,
     "metadata": {},
     "output_type": "execute_result"
    }
   ],
   "source": [
    "agent = multiConstAction(env=env, action=np.array([0.0, 0, 0.0]))\n",
    "constantData = environment_simulation(env, agent)\n",
    "constantDataDF = pd.DataFrame(constantData)\n",
    "constantDataDF.head()"
   ]
  },
  {
   "cell_type": "code",
   "execution_count": 51,
   "id": "cf24a058-3436-4964-bdfd-92e884b8f11a",
   "metadata": {},
   "outputs": [
    {
     "data": {
      "text/html": [
       "<div>\n",
       "<style scoped>\n",
       "    .dataframe tbody tr th:only-of-type {\n",
       "        vertical-align: middle;\n",
       "    }\n",
       "\n",
       "    .dataframe tbody tr th {\n",
       "        vertical-align: top;\n",
       "    }\n",
       "\n",
       "    .dataframe thead th {\n",
       "        text-align: right;\n",
       "    }\n",
       "</style>\n",
       "<table border=\"1\" class=\"dataframe\">\n",
       "  <thead>\n",
       "    <tr style=\"text-align: right;\">\n",
       "      <th></th>\n",
       "      <th>crab_pop_0</th>\n",
       "      <th>crab_pop_1</th>\n",
       "      <th>crab_pop_2</th>\n",
       "      <th>crab_pop_3</th>\n",
       "      <th>crab_pop_4</th>\n",
       "      <th>crab_pop_5</th>\n",
       "      <th>crab_pop_6</th>\n",
       "      <th>crab_pop_7</th>\n",
       "      <th>crab_pop_8</th>\n",
       "      <th>crab_pop_9</th>\n",
       "      <th>...</th>\n",
       "      <th>crab_pop_12</th>\n",
       "      <th>crab_pop_13</th>\n",
       "      <th>crab_pop_14</th>\n",
       "      <th>crab_pop_15</th>\n",
       "      <th>crab_pop_16</th>\n",
       "      <th>crab_pop_17</th>\n",
       "      <th>crab_pop_18</th>\n",
       "      <th>crab_pop_19</th>\n",
       "      <th>crab_pop_20</th>\n",
       "      <th>t</th>\n",
       "    </tr>\n",
       "  </thead>\n",
       "  <tbody>\n",
       "    <tr>\n",
       "      <th>0</th>\n",
       "      <td>0.000260</td>\n",
       "      <td>0.004308</td>\n",
       "      <td>0.049211</td>\n",
       "      <td>0.387660</td>\n",
       "      <td>2.107241</td>\n",
       "      <td>7.908961</td>\n",
       "      <td>20.506623</td>\n",
       "      <td>36.746259</td>\n",
       "      <td>45.518556</td>\n",
       "      <td>38.981839</td>\n",
       "      <td>...</td>\n",
       "      <td>2.669452</td>\n",
       "      <td>0.521091</td>\n",
       "      <td>0.070198</td>\n",
       "      <td>0.006522</td>\n",
       "      <td>0.000418</td>\n",
       "      <td>0.000018</td>\n",
       "      <td>5.587596e-07</td>\n",
       "      <td>1.166134e-08</td>\n",
       "      <td>1.672906e-10</td>\n",
       "      <td>0</td>\n",
       "    </tr>\n",
       "    <tr>\n",
       "      <th>1</th>\n",
       "      <td>303.752597</td>\n",
       "      <td>4592.876555</td>\n",
       "      <td>18142.817528</td>\n",
       "      <td>16943.492887</td>\n",
       "      <td>5260.709502</td>\n",
       "      <td>522.431161</td>\n",
       "      <td>8.449192</td>\n",
       "      <td>0.498955</td>\n",
       "      <td>8.642530</td>\n",
       "      <td>59.911103</td>\n",
       "      <td>...</td>\n",
       "      <td>1490.671166</td>\n",
       "      <td>2056.174308</td>\n",
       "      <td>1992.222180</td>\n",
       "      <td>1392.212997</td>\n",
       "      <td>757.373005</td>\n",
       "      <td>393.864979</td>\n",
       "      <td>2.430827e+02</td>\n",
       "      <td>1.649208e+02</td>\n",
       "      <td>8.572222e+01</td>\n",
       "      <td>1</td>\n",
       "    </tr>\n",
       "    <tr>\n",
       "      <th>2</th>\n",
       "      <td>31.586120</td>\n",
       "      <td>734.090571</td>\n",
       "      <td>5572.546923</td>\n",
       "      <td>15678.052302</td>\n",
       "      <td>15318.092912</td>\n",
       "      <td>6031.602825</td>\n",
       "      <td>986.949294</td>\n",
       "      <td>60.141346</td>\n",
       "      <td>4.225230</td>\n",
       "      <td>30.522772</td>\n",
       "      <td>...</td>\n",
       "      <td>1157.137212</td>\n",
       "      <td>1835.683910</td>\n",
       "      <td>2044.575096</td>\n",
       "      <td>1614.193595</td>\n",
       "      <td>965.283292</td>\n",
       "      <td>503.477400</td>\n",
       "      <td>2.826378e+02</td>\n",
       "      <td>1.770177e+02</td>\n",
       "      <td>8.940761e+01</td>\n",
       "      <td>2</td>\n",
       "    </tr>\n",
       "    <tr>\n",
       "      <th>3</th>\n",
       "      <td>3.401732</td>\n",
       "      <td>109.187920</td>\n",
       "      <td>1269.073938</td>\n",
       "      <td>6389.384889</td>\n",
       "      <td>14275.076830</td>\n",
       "      <td>13679.520986</td>\n",
       "      <td>6004.279820</td>\n",
       "      <td>1251.257253</td>\n",
       "      <td>122.160243</td>\n",
       "      <td>19.580556</td>\n",
       "      <td>...</td>\n",
       "      <td>868.197699</td>\n",
       "      <td>1566.872548</td>\n",
       "      <td>1984.331199</td>\n",
       "      <td>1782.032781</td>\n",
       "      <td>1180.313867</td>\n",
       "      <td>636.462799</td>\n",
       "      <td>3.375904e+02</td>\n",
       "      <td>1.945085e+02</td>\n",
       "      <td>9.322659e+01</td>\n",
       "      <td>3</td>\n",
       "    </tr>\n",
       "    <tr>\n",
       "      <th>4</th>\n",
       "      <td>0.365727</td>\n",
       "      <td>15.789315</td>\n",
       "      <td>255.326523</td>\n",
       "      <td>1926.594834</td>\n",
       "      <td>7205.685086</td>\n",
       "      <td>13352.116484</td>\n",
       "      <td>12095.730417</td>\n",
       "      <td>5503.975918</td>\n",
       "      <td>1293.869069</td>\n",
       "      <td>164.046927</td>\n",
       "      <td>...</td>\n",
       "      <td>630.635042</td>\n",
       "      <td>1293.199171</td>\n",
       "      <td>1845.984842</td>\n",
       "      <td>1872.014144</td>\n",
       "      <td>1377.718808</td>\n",
       "      <td>787.289434</td>\n",
       "      <td>4.097538e+02</td>\n",
       "      <td>2.187356e+02</td>\n",
       "      <td>9.923867e+01</td>\n",
       "      <td>4</td>\n",
       "    </tr>\n",
       "  </tbody>\n",
       "</table>\n",
       "<p>5 rows × 22 columns</p>\n",
       "</div>"
      ],
      "text/plain": [
       "   crab_pop_0   crab_pop_1    crab_pop_2    crab_pop_3    crab_pop_4  \\\n",
       "0    0.000260     0.004308      0.049211      0.387660      2.107241   \n",
       "1  303.752597  4592.876555  18142.817528  16943.492887   5260.709502   \n",
       "2   31.586120   734.090571   5572.546923  15678.052302  15318.092912   \n",
       "3    3.401732   109.187920   1269.073938   6389.384889  14275.076830   \n",
       "4    0.365727    15.789315    255.326523   1926.594834   7205.685086   \n",
       "\n",
       "     crab_pop_5    crab_pop_6   crab_pop_7   crab_pop_8  crab_pop_9  ...  \\\n",
       "0      7.908961     20.506623    36.746259    45.518556   38.981839  ...   \n",
       "1    522.431161      8.449192     0.498955     8.642530   59.911103  ...   \n",
       "2   6031.602825    986.949294    60.141346     4.225230   30.522772  ...   \n",
       "3  13679.520986   6004.279820  1251.257253   122.160243   19.580556  ...   \n",
       "4  13352.116484  12095.730417  5503.975918  1293.869069  164.046927  ...   \n",
       "\n",
       "   crab_pop_12  crab_pop_13  crab_pop_14  crab_pop_15  crab_pop_16  \\\n",
       "0     2.669452     0.521091     0.070198     0.006522     0.000418   \n",
       "1  1490.671166  2056.174308  1992.222180  1392.212997   757.373005   \n",
       "2  1157.137212  1835.683910  2044.575096  1614.193595   965.283292   \n",
       "3   868.197699  1566.872548  1984.331199  1782.032781  1180.313867   \n",
       "4   630.635042  1293.199171  1845.984842  1872.014144  1377.718808   \n",
       "\n",
       "   crab_pop_17   crab_pop_18   crab_pop_19   crab_pop_20  t  \n",
       "0     0.000018  5.587596e-07  1.166134e-08  1.672906e-10  0  \n",
       "1   393.864979  2.430827e+02  1.649208e+02  8.572222e+01  1  \n",
       "2   503.477400  2.826378e+02  1.770177e+02  8.940761e+01  2  \n",
       "3   636.462799  3.375904e+02  1.945085e+02  9.322659e+01  3  \n",
       "4   787.289434  4.097538e+02  2.187356e+02  9.923867e+01  4  \n",
       "\n",
       "[5 rows x 22 columns]"
      ]
     },
     "execution_count": 51,
     "metadata": {},
     "output_type": "execute_result"
    }
   ],
   "source": [
    "crab_pop_df = pd.DataFrame(constantDataDF[constantDataDF['rep']==0]['crab_pop'].tolist(), columns=[f'crab_pop_{i}' for i in range(len(constantDataDF['crab_pop'][0]))])\n",
    "crab_pop_df['t'] = constantDataDF['t']\n",
    "crab_pop_df.head()"
   ]
  },
  {
   "cell_type": "code",
   "execution_count": 54,
   "id": "71601a25-44e0-4f86-8aef-efc26575fb16",
   "metadata": {},
   "outputs": [
    {
     "data": {
      "application/vnd.jupyter.widget-view+json": {
       "model_id": "27bf3dff68bc405ea4b862284d5d8ef4",
       "version_major": 2,
       "version_minor": 0
      },
      "text/plain": [
       "interactive(children=(SelectMultiple(description='Sizes', index=(0,), options=('crab_pop_0', 'crab_pop_1', 'cr…"
      ]
     },
     "metadata": {},
     "output_type": "display_data"
    }
   ],
   "source": [
    "# Create a multi-select widget for crab size columns\n",
    "crab_pop_columns = [col for col in crab_pop_df.columns if col.startswith('crab_pop_')]\n",
    "size_selector = widgets.SelectMultiple(\n",
    "    options=crab_pop_columns,\n",
    "    value=[crab_pop_columns[0]],  # Default selection\n",
    "    description='Sizes',\n",
    "    disabled=False\n",
    ")\n",
    "# Create an interactive plot\n",
    "interact(lambda selected_sizes: plot_selected_sizes(crab_pop_df, selected_sizes), selected_sizes=size_selector);"
   ]
  },
  {
   "cell_type": "markdown",
   "id": "c0852a14-2acc-4afc-8079-46626f92894a",
   "metadata": {},
   "source": [
    "### normalized environment"
   ]
  },
  {
   "cell_type": "code",
   "execution_count": 29,
   "id": "94705762-dc07-4984-915a-7f2d61ec11d7",
   "metadata": {},
   "outputs": [],
   "source": [
    "config = {\n",
    "    \"w_mort_scale\" : 600,\n",
    "    \"growth_k\": 0.70,\n",
    "    'random_start':True,\n",
    "    # \"curriculum\": True\n",
    "}"
   ]
  },
  {
   "cell_type": "code",
   "execution_count": 30,
   "id": "b49d5502-9f0e-44de-a700-7d7aaa64ea87",
   "metadata": {},
   "outputs": [],
   "source": [
    "env = greenCrabMonthEnvNormalized(config)"
   ]
  },
  {
   "cell_type": "code",
   "execution_count": 31,
   "id": "37bcada9-eca2-4542-9641-de641121e71a",
   "metadata": {},
   "outputs": [],
   "source": [
    "def evaluateConstAct(x):\n",
    "    env = greenCrabMonthEnvNormalized(config)\n",
    "    agent = multiConstAction(env=env, action=np.array(x))\n",
    "    # rewards = simulator(env, agent).simulate()\n",
    "    # out = np.mean(rewards)\n",
    "    rewards = evaluate_agent(agent=agent, ray_remote=True).evaluate(n_eval_episodes=200, return_episode_rewards=True)\n",
    "    m_reward = np.mean(rewards)\n",
    "    return -m_reward, rewards"
   ]
  },
  {
   "cell_type": "code",
   "execution_count": 32,
   "id": "69f71926-51ff-453d-9e95-e6d6c823152b",
   "metadata": {},
   "outputs": [],
   "source": [
    "# normalized constant action\n",
    "def normalized_action(act, max_act):\n",
    "    max_action = max_act\n",
    "    constant_act = np.array(act)\n",
    "    return constant_act * 2 / max_action - 1 "
   ]
  },
  {
   "cell_type": "code",
   "execution_count": 33,
   "id": "4e00aec9-2718-48c2-925d-b0926e03ff2a",
   "metadata": {},
   "outputs": [
    {
     "name": "stderr",
     "output_type": "stream",
     "text": [
      "2025-06-16 19:12:27,937\tINFO worker.py:1917 -- Started a local Ray instance.\n"
     ]
    },
    {
     "data": {
      "text/plain": [
       "-6.265168740010433"
      ]
     },
     "execution_count": 33,
     "metadata": {},
     "output_type": "execute_result"
    }
   ],
   "source": [
    "norm_act = normalized_action([439.98733586238234, 794.1018039403413, 0.0], 3000)\n",
    "m_reward, const_rews = evaluateConstAct(norm_act)\n",
    "np.mean(const_rews)"
   ]
  },
  {
   "cell_type": "code",
   "execution_count": 34,
   "id": "17163dae-c66a-4b3f-a90d-16db535ac136",
   "metadata": {},
   "outputs": [],
   "source": [
    "import ray\n",
    "ray.shutdown()"
   ]
  },
  {
   "cell_type": "code",
   "execution_count": 35,
   "id": "77a6150a-314c-41fd-b1f6-42144bb191bf",
   "metadata": {},
   "outputs": [],
   "source": [
    "agent = multiConstAction(env=env, action=np.array(norm_act))"
   ]
  },
  {
   "cell_type": "code",
   "execution_count": 36,
   "id": "5807d82e-931c-4d45-866c-91c7da308dd9",
   "metadata": {},
   "outputs": [
    {
     "data": {
      "text/html": [
       "<div>\n",
       "<style scoped>\n",
       "    .dataframe tbody tr th:only-of-type {\n",
       "        vertical-align: middle;\n",
       "    }\n",
       "\n",
       "    .dataframe tbody tr th {\n",
       "        vertical-align: top;\n",
       "    }\n",
       "\n",
       "    .dataframe thead th {\n",
       "        text-align: right;\n",
       "    }\n",
       "</style>\n",
       "<table border=\"1\" class=\"dataframe\">\n",
       "  <thead>\n",
       "    <tr style=\"text-align: right;\">\n",
       "      <th></th>\n",
       "      <th>t</th>\n",
       "      <th>obs0</th>\n",
       "      <th>obs1</th>\n",
       "      <th>act0</th>\n",
       "      <th>act1</th>\n",
       "      <th>act2</th>\n",
       "      <th>rew</th>\n",
       "      <th>rep</th>\n",
       "    </tr>\n",
       "  </thead>\n",
       "  <tbody>\n",
       "    <tr>\n",
       "      <th>0</th>\n",
       "      <td>0</td>\n",
       "      <td>-1.0</td>\n",
       "      <td>-1.0</td>\n",
       "      <td>-0.706675</td>\n",
       "      <td>-0.470599</td>\n",
       "      <td>-1.0</td>\n",
       "      <td>0.000000</td>\n",
       "      <td>0</td>\n",
       "    </tr>\n",
       "    <tr>\n",
       "      <th>1</th>\n",
       "      <td>1</td>\n",
       "      <td>-1.0</td>\n",
       "      <td>-1.0</td>\n",
       "      <td>-0.706675</td>\n",
       "      <td>-0.470599</td>\n",
       "      <td>-1.0</td>\n",
       "      <td>-0.032970</td>\n",
       "      <td>0</td>\n",
       "    </tr>\n",
       "    <tr>\n",
       "      <th>2</th>\n",
       "      <td>2</td>\n",
       "      <td>-1.0</td>\n",
       "      <td>-1.0</td>\n",
       "      <td>-0.706675</td>\n",
       "      <td>-0.470599</td>\n",
       "      <td>-1.0</td>\n",
       "      <td>-0.065941</td>\n",
       "      <td>0</td>\n",
       "    </tr>\n",
       "    <tr>\n",
       "      <th>3</th>\n",
       "      <td>3</td>\n",
       "      <td>-1.0</td>\n",
       "      <td>-1.0</td>\n",
       "      <td>-0.706675</td>\n",
       "      <td>-0.470599</td>\n",
       "      <td>-1.0</td>\n",
       "      <td>-0.098911</td>\n",
       "      <td>0</td>\n",
       "    </tr>\n",
       "    <tr>\n",
       "      <th>4</th>\n",
       "      <td>4</td>\n",
       "      <td>-1.0</td>\n",
       "      <td>-1.0</td>\n",
       "      <td>-0.706675</td>\n",
       "      <td>-0.470599</td>\n",
       "      <td>-1.0</td>\n",
       "      <td>-0.131881</td>\n",
       "      <td>0</td>\n",
       "    </tr>\n",
       "  </tbody>\n",
       "</table>\n",
       "</div>"
      ],
      "text/plain": [
       "   t  obs0  obs1      act0      act1  act2       rew  rep\n",
       "0  0  -1.0  -1.0 -0.706675 -0.470599  -1.0  0.000000    0\n",
       "1  1  -1.0  -1.0 -0.706675 -0.470599  -1.0 -0.032970    0\n",
       "2  2  -1.0  -1.0 -0.706675 -0.470599  -1.0 -0.065941    0\n",
       "3  3  -1.0  -1.0 -0.706675 -0.470599  -1.0 -0.098911    0\n",
       "4  4  -1.0  -1.0 -0.706675 -0.470599  -1.0 -0.131881    0"
      ]
     },
     "execution_count": 36,
     "metadata": {},
     "output_type": "execute_result"
    }
   ],
   "source": [
    "constantData = simulator(env = env, agent = agent).simulate_full_named_dict_obs_acts()\n",
    "constantDataDF = pd.DataFrame(constantData)\n",
    "constantDataDF.head()"
   ]
  },
  {
   "cell_type": "code",
   "execution_count": 37,
   "id": "e56118ac-3163-4e9b-9f28-f3689dd5477d",
   "metadata": {},
   "outputs": [
    {
     "data": {
      "text/plain": [
       "<Axes: xlabel='t'>"
      ]
     },
     "execution_count": 37,
     "metadata": {},
     "output_type": "execute_result"
    },
    {
     "data": {
      "image/png": "[encoded data removed]",
      "text/plain": [
       "<Figure size 640x480 with 1 Axes>"
      ]
     },
     "metadata": {},
     "output_type": "display_data"
    }
   ],
   "source": [
    "constantDataDF[constantDataDF.rep == 0].plot(x='t', y =['obs0'])"
   ]
  },
  {
   "cell_type": "markdown",
   "id": "c5b194bd-ffd2-441e-acda-66f1a2dfc923",
   "metadata": {},
   "source": [
    "## Loading and evaluating trained models"
   ]
  },
  {
   "cell_type": "code",
   "execution_count": 52,
   "id": "740a90b6-afa1-40de-969c-60c5f6279788",
   "metadata": {},
   "outputs": [],
   "source": [
    "repo_id = \"jimjiang203/greencrabPPO\"\n",
    "td3_path = hf_hub_download(repo_id=repo_id, filename='td3_gcmonthnorm.zip')\n",
    "ppo_path = hf_hub_download(repo_id=repo_id, filename='PPO_gcmenorm.zip')\n",
    "reppo_path = hf_hub_download(repo_id=repo_id, filename='RecurrentPPO_gcmenorm.zip')\n",
    "tqc_path = hf_hub_download(repo_id=repo_id, filename='TQC_gcmenorm.zip')"
   ]
  },
  {
   "cell_type": "code",
   "execution_count": 55,
   "id": "a05fa17f-1c54-48bf-84bf-3c3ae573df7e",
   "metadata": {},
   "outputs": [
    {
     "name": "stderr",
     "output_type": "stream",
     "text": [
      "/opt/conda/lib/python3.12/site-packages/gymnasium/spaces/box.py:305: UserWarning: \u001b[33mWARN: Box high's precision lowered by casting to float32, current high.dtype=float64\u001b[0m\n",
      "  gym.logger.warn(\n"
     ]
    }
   ],
   "source": [
    "evalEnv = greenCrabMonthEnvNormalized(config)"
   ]
  },
  {
   "cell_type": "code",
   "execution_count": 56,
   "id": "d7e69073-702f-4cc3-a73b-b6d32c3d2494",
   "metadata": {},
   "outputs": [],
   "source": [
    "path = \"../saved_agents\"\n",
    "td3Agent = TD3.load(f\"TD3_gcmenorm\", device=\"cpu\")\n",
    "ppoAgent = PPO.load(f\"PPO_gcmenorm\", device=\"cpu\")\n",
    "tqcAgent = TQC.load(f\"TQC_gcmenorm\", device=\"cpu\")\n",
    "recurrentPPOAgent = RecurrentPPO.load(\"RecurrentPPO_gcmenorm\", device=\"cpu\")"
   ]
  },
  {
   "cell_type": "code",
   "execution_count": 57,
   "id": "835a9162-9cb4-4112-9005-9f88a5d142c6",
   "metadata": {},
   "outputs": [
    {
     "name": "stderr",
     "output_type": "stream",
     "text": [
      "2025-06-17 17:03:26,505\tINFO worker.py:1917 -- Started a local Ray instance.\n"
     ]
    }
   ],
   "source": [
    "N_EPS = 30\n",
    "\n",
    "ppo_rew = evaluate_agent(agent=ppoAgent, env=evalEnv, ray_remote=True).evaluate(n_eval_episodes=N_EPS)\n",
    "td3_rew = evaluate_agent(agent=td3Agent, env=evalEnv, ray_remote=True).evaluate(n_eval_episodes=N_EPS)\n",
    "tqc_rew = evaluate_agent(agent=tqcAgent, env=evalEnv, ray_remote=True).evaluate(n_eval_episodes=N_EPS)\n",
    "reppo_rew = evaluate_agent(agent=recurrentPPOAgent, env=evalEnv, ray_remote=True).evaluate(n_eval_episodes=N_EPS)"
   ]
  },
  {
   "cell_type": "code",
   "execution_count": 58,
   "id": "ce42ad17-c9fb-4cd4-966e-d9bf3d0fcd33",
   "metadata": {},
   "outputs": [],
   "source": [
    "N_EPS = 200\n",
    "\n",
    "ppo_rews = evaluate_agent(agent=ppoAgent, env=evalEnv, ray_remote=True).evaluate(n_eval_episodes=N_EPS, return_episode_rewards=True)\n",
    "td3_rews = evaluate_agent(agent=td3Agent, env=evalEnv, ray_remote=True).evaluate(n_eval_episodes=N_EPS, return_episode_rewards=True)\n",
    "tqc_rews = evaluate_agent(agent=tqcAgent, env=evalEnv, ray_remote=True).evaluate(n_eval_episodes=N_EPS, return_episode_rewards=True)\n",
    "reppo_rews = evaluate_agent(agent=recurrentPPOAgent, env=evalEnv, ray_remote=True).evaluate(n_eval_episodes=N_EPS, return_episode_rewards=True)"
   ]
  },
  {
   "cell_type": "code",
   "execution_count": 59,
   "id": "8732b206-528c-4a87-89f9-cffadebbaa18",
   "metadata": {},
   "outputs": [],
   "source": [
    "import ray\n",
    "ray.shutdown()"
   ]
  },
  {
   "cell_type": "code",
   "execution_count": 60,
   "id": "32055210-7a7c-4198-81b6-c9b0fab56f6d",
   "metadata": {},
   "outputs": [
    {
     "data": {
      "image/png": "[encoded data removed]",
      "text/plain": [
       "<Figure size 640x480 with 1 Axes>"
      ]
     },
     "metadata": {},
     "output_type": "display_data"
    }
   ],
   "source": [
    "plt.hist(ppo_rews, alpha=0.6, label='PPO')\n",
    "plt.hist(td3_rews, alpha=0.6, label='TD3')\n",
    "plt.hist(tqc_rews, alpha=0.6, label='TQC')\n",
    "plt.hist(reppo_rews , alpha=0.6, label='RecurentPPO')\n",
    "plt.hist(const_rews, alpha=0.6, label='Constant')\n",
    "\n",
    "# Mark means with vertical lines\n",
    "plt.axvline(np.mean(ppo_rews), color='blue', linestyle='dashed', linewidth=2, label='PPO Mean')\n",
    "plt.axvline(np.mean(td3_rews), color='orange', linestyle='dashed', linewidth=2, label='TD3 Mean')\n",
    "plt.axvline(np.mean(tqc_rews), color='green', linestyle='dashed', linewidth=2, label='TQC Mean')\n",
    "plt.axvline(np.mean(const_rews), color='red', linestyle='dashed', linewidth=2, label='Constant Mean')\n",
    "\n",
    "plt.legend()\n",
    "plt.xlabel(\"Reward\")\n",
    "plt.ylabel(\"Frequency\")\n",
    "plt.title(\"Reward Distribution Comparison\")\n",
    "plt.show()"
   ]
  },
  {
   "cell_type": "code",
   "execution_count": 61,
   "id": "1e84308f-dd0c-4a44-bf70-e7e2a275bc25",
   "metadata": {},
   "outputs": [
    {
     "data": {
      "image/png": "[encoded data removed]",
      "text/plain": [
       "<Figure size 1200x800 with 4 Axes>"
      ]
     },
     "metadata": {},
     "output_type": "display_data"
    }
   ],
   "source": [
    "models = {\n",
    "    'PPO': ppo_rews,\n",
    "    'TD3': td3_rews,\n",
    "    'TQC': tqc_rews,\n",
    "    'RecurrentPPO': reppo_rews,\n",
    "}\n",
    "constant_rewards = const_rews\n",
    "\n",
    "colors = {\n",
    "    'PPO': 'blue',\n",
    "    'TD3': 'orange',\n",
    "    'TQC': 'green',\n",
    "    'RecurrentPPO': 'purple',\n",
    "    'Constant': 'red'\n",
    "}\n",
    "\n",
    "fig, axes = plt.subplots(nrows=2, ncols=2, figsize=(12, 8))\n",
    "axes = axes.flatten()\n",
    "\n",
    "for i, (model_name, rewards) in enumerate(models.items()):\n",
    "    ax = axes[i]\n",
    "    # Plot current model\n",
    "    ax.hist(rewards, alpha=0.6, color=colors[model_name], label=model_name)\n",
    "    ax.axvline(np.mean(rewards), color=colors[model_name], linestyle='dashed', linewidth=2, label=f'{model_name} Mean')\n",
    "\n",
    "    # Plot constant model\n",
    "    ax.hist(constant_rewards, alpha=0.3, color=colors['Constant'], label='Constant')\n",
    "    ax.axvline(np.mean(constant_rewards), color=colors['Constant'], linestyle='dashed', linewidth=2, label='Constant Mean')\n",
    "\n",
    "    ax.set_title(f\"{model_name} vs Constant\")\n",
    "    ax.set_xlabel(\"Reward\")\n",
    "    ax.set_ylabel(\"Frequency\")\n",
    "    ax.legend()\n",
    "    ax.grid(True)\n",
    "\n",
    "plt.tight_layout()\n",
    "plt.show()"
   ]
  },
  {
   "cell_type": "code",
   "execution_count": 26,
   "id": "bf7fa33f-4853-4ed2-b112-93470036bd6a",
   "metadata": {},
   "outputs": [
    {
     "data": {
      "text/plain": [
       "(0.49128625727392095,\n",
       " 0.4300019395754943,\n",
       " 0.30248493616568156,\n",
       " 1.5750607451925227)"
      ]
     },
     "execution_count": 26,
     "metadata": {},
     "output_type": "execute_result"
    }
   ],
   "source": [
    "np.std(ppo_rews), np.std(td3_rews), np.std(tqc_rews), np.std(reppo_rews)"
   ]
  },
  {
   "cell_type": "code",
   "execution_count": 69,
   "id": "942a4052-11d8-4f93-bbad-fb46c8951eaf",
   "metadata": {},
   "outputs": [
    {
     "data": {
      "text/plain": [
       "(-4.560745831476809, -5.06953504210659, -5.543690708228613, -5.302503810449402)"
      ]
     },
     "execution_count": 69,
     "metadata": {},
     "output_type": "execute_result"
    }
   ],
   "source": [
    "np.mean(ppo_rews), np.mean(td3_rews), np.mean(tqc_rews), np.mean(reppo_rews)"
   ]
  },
  {
   "cell_type": "code",
   "execution_count": 62,
   "id": "6500edbb-55e0-42d9-93cd-8f613827551c",
   "metadata": {},
   "outputs": [
    {
     "name": "stdout",
     "output_type": "stream",
     "text": [
      "\n",
      "PPO mean rew = -4.966421639589972\n",
      "TQC mean rew = -5.681620240714175\n",
      "TD3 mean rew = -4.888475699825501\n",
      "RecurrentPPO mean rew = -5.53858242899152\n",
      "\n"
     ]
    }
   ],
   "source": [
    "print(f\"\"\"\n",
    "PPO mean rew = {ppo_rew}\n",
    "TQC mean rew = {tqc_rew}\n",
    "TD3 mean rew = {td3_rew}\n",
    "RecurrentPPO mean rew = {reppo_rew}\n",
    "\"\"\")"
   ]
  },
  {
   "cell_type": "markdown",
   "id": "7cfa998d-c82f-45cb-859d-e356a3fc5b69",
   "metadata": {},
   "source": [
    "### RL action plots"
   ]
  },
  {
   "cell_type": "code",
   "execution_count": 63,
   "id": "05d0821b-87c0-4c4e-91f7-8e0d175cf41a",
   "metadata": {},
   "outputs": [
    {
     "data": {
      "text/html": [
       "<div>\n",
       "<style scoped>\n",
       "    .dataframe tbody tr th:only-of-type {\n",
       "        vertical-align: middle;\n",
       "    }\n",
       "\n",
       "    .dataframe tbody tr th {\n",
       "        vertical-align: top;\n",
       "    }\n",
       "\n",
       "    .dataframe thead th {\n",
       "        text-align: right;\n",
       "    }\n",
       "</style>\n",
       "<table border=\"1\" class=\"dataframe\">\n",
       "  <thead>\n",
       "    <tr style=\"text-align: right;\">\n",
       "      <th></th>\n",
       "      <th>t</th>\n",
       "      <th>obs0</th>\n",
       "      <th>obs1</th>\n",
       "      <th>act0</th>\n",
       "      <th>act1</th>\n",
       "      <th>act2</th>\n",
       "      <th>rew</th>\n",
       "      <th>rep</th>\n",
       "    </tr>\n",
       "  </thead>\n",
       "  <tbody>\n",
       "    <tr>\n",
       "      <th>0</th>\n",
       "      <td>0</td>\n",
       "      <td>-1.0</td>\n",
       "      <td>-1.0</td>\n",
       "      <td>-0.847923</td>\n",
       "      <td>-0.785029</td>\n",
       "      <td>-1.0</td>\n",
       "      <td>0.000000</td>\n",
       "      <td>0</td>\n",
       "    </tr>\n",
       "    <tr>\n",
       "      <th>1</th>\n",
       "      <td>1</td>\n",
       "      <td>-1.0</td>\n",
       "      <td>-1.0</td>\n",
       "      <td>-0.469561</td>\n",
       "      <td>-0.546114</td>\n",
       "      <td>-1.0</td>\n",
       "      <td>-0.014743</td>\n",
       "      <td>0</td>\n",
       "    </tr>\n",
       "    <tr>\n",
       "      <th>2</th>\n",
       "      <td>2</td>\n",
       "      <td>-1.0</td>\n",
       "      <td>-1.0</td>\n",
       "      <td>-0.810173</td>\n",
       "      <td>-0.604385</td>\n",
       "      <td>-1.0</td>\n",
       "      <td>-0.054177</td>\n",
       "      <td>0</td>\n",
       "    </tr>\n",
       "    <tr>\n",
       "      <th>3</th>\n",
       "      <td>3</td>\n",
       "      <td>-1.0</td>\n",
       "      <td>-1.0</td>\n",
       "      <td>-0.771991</td>\n",
       "      <td>-0.776256</td>\n",
       "      <td>-1.0</td>\n",
       "      <td>-0.077656</td>\n",
       "      <td>0</td>\n",
       "    </tr>\n",
       "    <tr>\n",
       "      <th>4</th>\n",
       "      <td>4</td>\n",
       "      <td>-1.0</td>\n",
       "      <td>-1.0</td>\n",
       "      <td>-0.256207</td>\n",
       "      <td>-0.645503</td>\n",
       "      <td>-1.0</td>\n",
       "      <td>-0.095788</td>\n",
       "      <td>0</td>\n",
       "    </tr>\n",
       "  </tbody>\n",
       "</table>\n",
       "</div>"
      ],
      "text/plain": [
       "   t  obs0  obs1      act0      act1  act2       rew  rep\n",
       "0  0  -1.0  -1.0 -0.847923 -0.785029  -1.0  0.000000    0\n",
       "1  1  -1.0  -1.0 -0.469561 -0.546114  -1.0 -0.014743    0\n",
       "2  2  -1.0  -1.0 -0.810173 -0.604385  -1.0 -0.054177    0\n",
       "3  3  -1.0  -1.0 -0.771991 -0.776256  -1.0 -0.077656    0\n",
       "4  4  -1.0  -1.0 -0.256207 -0.645503  -1.0 -0.095788    0"
      ]
     },
     "execution_count": 63,
     "metadata": {},
     "output_type": "execute_result"
    }
   ],
   "source": [
    "ppoData = simulator(env = evalEnv, agent = ppoAgent).simulate_full_named_dict_obs_acts()\n",
    "ppoDataDF = pd.DataFrame(ppoData)\n",
    "ppoDataDF.head()"
   ]
  },
  {
   "cell_type": "code",
   "execution_count": 64,
   "id": "518abe28-4c17-4ee1-8fa4-e79c92387f7d",
   "metadata": {},
   "outputs": [
    {
     "data": {
      "text/plain": [
       "<Axes: xlabel='t'>"
      ]
     },
     "execution_count": 64,
     "metadata": {},
     "output_type": "execute_result"
    },
    {
     "data": {
      "image/png": "[encoded data removed]",
      "text/plain": [
       "<Figure size 640x480 with 1 Axes>"
      ]
     },
     "metadata": {},
     "output_type": "display_data"
    }
   ],
   "source": [
    "ppoDataDF[ppoDataDF.rep == 0].plot(x='t', y =['act0', 'act1', 'act2'])"
   ]
  },
  {
   "cell_type": "code",
   "execution_count": 65,
   "id": "3272a210-f841-43ed-8a84-bdfb11a720bd",
   "metadata": {},
   "outputs": [
    {
     "data": {
      "text/plain": [
       "<Axes: xlabel='t'>"
      ]
     },
     "execution_count": 65,
     "metadata": {},
     "output_type": "execute_result"
    },
    {
     "data": {
      "image/png": "[encoded data removed]",
      "text/plain": [
       "<Figure size 640x480 with 1 Axes>"
      ]
     },
     "metadata": {},
     "output_type": "display_data"
    }
   ],
   "source": [
    "ppoDataDF[ppoDataDF.rep == 0].plot(x='t', y =['obs0'])"
   ]
  },
  {
   "cell_type": "code",
   "execution_count": 66,
   "id": "23bfebf6-ef97-42b1-bf7e-a144aced2dc5",
   "metadata": {},
   "outputs": [
    {
     "data": {
      "text/html": [
       "<div>\n",
       "<style scoped>\n",
       "    .dataframe tbody tr th:only-of-type {\n",
       "        vertical-align: middle;\n",
       "    }\n",
       "\n",
       "    .dataframe tbody tr th {\n",
       "        vertical-align: top;\n",
       "    }\n",
       "\n",
       "    .dataframe thead th {\n",
       "        text-align: right;\n",
       "    }\n",
       "</style>\n",
       "<table border=\"1\" class=\"dataframe\">\n",
       "  <thead>\n",
       "    <tr style=\"text-align: right;\">\n",
       "      <th></th>\n",
       "      <th>t</th>\n",
       "      <th>obs0</th>\n",
       "      <th>obs1</th>\n",
       "      <th>act0</th>\n",
       "      <th>act1</th>\n",
       "      <th>act2</th>\n",
       "      <th>rew</th>\n",
       "      <th>rep</th>\n",
       "    </tr>\n",
       "  </thead>\n",
       "  <tbody>\n",
       "    <tr>\n",
       "      <th>0</th>\n",
       "      <td>0</td>\n",
       "      <td>-1.000000</td>\n",
       "      <td>-1.000000</td>\n",
       "      <td>-1.000000</td>\n",
       "      <td>-1.000000</td>\n",
       "      <td>-0.721052</td>\n",
       "      <td>0.000000</td>\n",
       "      <td>0</td>\n",
       "    </tr>\n",
       "    <tr>\n",
       "      <th>1</th>\n",
       "      <td>1</td>\n",
       "      <td>-0.903973</td>\n",
       "      <td>-0.978074</td>\n",
       "      <td>-0.995995</td>\n",
       "      <td>-0.756041</td>\n",
       "      <td>-1.000000</td>\n",
       "      <td>-0.055951</td>\n",
       "      <td>0</td>\n",
       "    </tr>\n",
       "    <tr>\n",
       "      <th>2</th>\n",
       "      <td>2</td>\n",
       "      <td>-0.994730</td>\n",
       "      <td>3.071748</td>\n",
       "      <td>-0.813516</td>\n",
       "      <td>-0.738470</td>\n",
       "      <td>-1.000000</td>\n",
       "      <td>-0.066103</td>\n",
       "      <td>0</td>\n",
       "    </tr>\n",
       "    <tr>\n",
       "      <th>3</th>\n",
       "      <td>3</td>\n",
       "      <td>-0.993840</td>\n",
       "      <td>1.670866</td>\n",
       "      <td>-1.000000</td>\n",
       "      <td>-1.000000</td>\n",
       "      <td>-1.000000</td>\n",
       "      <td>-0.084414</td>\n",
       "      <td>0</td>\n",
       "    </tr>\n",
       "    <tr>\n",
       "      <th>4</th>\n",
       "      <td>4</td>\n",
       "      <td>-1.000000</td>\n",
       "      <td>-1.000000</td>\n",
       "      <td>-0.164519</td>\n",
       "      <td>-1.000000</td>\n",
       "      <td>-1.000000</td>\n",
       "      <td>-0.085233</td>\n",
       "      <td>0</td>\n",
       "    </tr>\n",
       "  </tbody>\n",
       "</table>\n",
       "</div>"
      ],
      "text/plain": [
       "   t      obs0      obs1      act0      act1      act2       rew  rep\n",
       "0  0 -1.000000 -1.000000 -1.000000 -1.000000 -0.721052  0.000000    0\n",
       "1  1 -0.903973 -0.978074 -0.995995 -0.756041 -1.000000 -0.055951    0\n",
       "2  2 -0.994730  3.071748 -0.813516 -0.738470 -1.000000 -0.066103    0\n",
       "3  3 -0.993840  1.670866 -1.000000 -1.000000 -1.000000 -0.084414    0\n",
       "4  4 -1.000000 -1.000000 -0.164519 -1.000000 -1.000000 -0.085233    0"
      ]
     },
     "execution_count": 66,
     "metadata": {},
     "output_type": "execute_result"
    }
   ],
   "source": [
    "ppoData = simulator(env = evalEnv, agent = recurrentPPOAgent).simulate_full_named_dict_obs_acts()\n",
    "ppoDataDF = pd.DataFrame(ppoData)\n",
    "ppoDataDF.head()"
   ]
  },
  {
   "cell_type": "code",
   "execution_count": 67,
   "id": "368d3e72-1187-4de1-b42f-c24248fb10a6",
   "metadata": {},
   "outputs": [
    {
     "data": {
      "text/plain": [
       "<Axes: xlabel='t'>"
      ]
     },
     "execution_count": 67,
     "metadata": {},
     "output_type": "execute_result"
    },
    {
     "data": {
      "image/png": "[encoded data removed]",
      "text/plain": [
       "<Figure size 640x480 with 1 Axes>"
      ]
     },
     "metadata": {},
     "output_type": "display_data"
    }
   ],
   "source": [
    "ppoDataDF[ppoDataDF.rep == 0].plot(x='t', y =['act0', 'act1', 'act2'])"
   ]
  },
  {
   "cell_type": "code",
   "execution_count": 68,
   "id": "88783aaf-1a74-42be-a567-7a7d0c29e4de",
   "metadata": {},
   "outputs": [
    {
     "data": {
      "text/plain": [
       "<Axes: xlabel='t'>"
      ]
     },
     "execution_count": 68,
     "metadata": {},
     "output_type": "execute_result"
    },
    {
     "data": {
      "image/png": "[encoded data removed]",
      "text/plain": [
       "<Figure size 640x480 with 1 Axes>"
      ]
     },
     "metadata": {},
     "output_type": "display_data"
    }
   ],
   "source": [
    "ppoDataDF[ppoDataDF.rep == 0].plot(x='t', y =['obs0'])"
   ]
  },
  {
   "cell_type": "markdown",
   "id": "6af31c9f-be59-49c0-b6ce-7080b4f8ca6d",
   "metadata": {},
   "source": [
    "## Special Section: Testing ensemble PPO"
   ]
  },
  {
   "cell_type": "code",
   "execution_count": 9,
   "id": "231b3dd4-2a7f-4516-9ed4-66706d2c6481",
   "metadata": {},
   "outputs": [],
   "source": [
    "from ensemble_ppo import *"
   ]
  },
  {
   "cell_type": "code",
   "execution_count": 56,
   "id": "16b7ff74-0936-481b-9264-02b588ff6481",
   "metadata": {},
   "outputs": [
    {
     "name": "stdout",
     "output_type": "stream",
     "text": [
      "Loading ensemblePPO_gcmenorm/model_1.zip …\n"
     ]
    }
   ],
   "source": [
    "eppoAgent = EnsemblePPO.load('ensemblePPO_gcmenorm')"
   ]
  },
  {
   "cell_type": "code",
   "execution_count": 57,
   "id": "a2d5c8e1-c82f-4bf3-99c2-36120a295932",
   "metadata": {},
   "outputs": [
    {
     "data": {
      "text/plain": [
       "(array([-0.03874406,  0.3987172 ,  1.        ], dtype=float32), None)"
      ]
     },
     "execution_count": 57,
     "metadata": {},
     "output_type": "execute_result"
    }
   ],
   "source": [
    "obs = {\n",
    "    \"crabs\": np.array([1, 1]),\n",
    "    \"months\" : 4 \n",
    "}\n",
    "eppoAgent.predict(obs)"
   ]
  },
  {
   "cell_type": "code",
   "execution_count": 58,
   "id": "539bc463-ec9e-405f-9a4b-ced8a2a4e11e",
   "metadata": {},
   "outputs": [
    {
     "name": "stderr",
     "output_type": "stream",
     "text": [
      "2025-06-16 18:37:01,363\tINFO worker.py:1888 -- Started a local Ray instance.\n"
     ]
    }
   ],
   "source": [
    "N_EPS = 30\n",
    "eppo_rews = evaluate_agent(agent=eppoAgent, env=evalEnv, ray_remote=True).evaluate(n_eval_episodes=N_EPS, return_episode_rewards=True)"
   ]
  },
  {
   "cell_type": "code",
   "execution_count": 59,
   "id": "fe52441d-d2bd-4703-84b2-ed07bfdf4472",
   "metadata": {},
   "outputs": [],
   "source": [
    "import ray\n",
    "ray.shutdown()"
   ]
  },
  {
   "cell_type": "code",
   "execution_count": 60,
   "id": "450ee572-6eb5-4269-859a-3b0106f0330c",
   "metadata": {},
   "outputs": [
    {
     "data": {
      "text/plain": [
       "-2.4034102689903323"
      ]
     },
     "execution_count": 60,
     "metadata": {},
     "output_type": "execute_result"
    }
   ],
   "source": [
    "np.mean(eppo_rews)"
   ]
  },
  {
   "cell_type": "code",
   "execution_count": 61,
   "id": "09fa32d7-060b-43fe-80f3-f8779871bb41",
   "metadata": {},
   "outputs": [
    {
     "data": {
      "text/html": [
       "<div>\n",
       "<style scoped>\n",
       "    .dataframe tbody tr th:only-of-type {\n",
       "        vertical-align: middle;\n",
       "    }\n",
       "\n",
       "    .dataframe tbody tr th {\n",
       "        vertical-align: top;\n",
       "    }\n",
       "\n",
       "    .dataframe thead th {\n",
       "        text-align: right;\n",
       "    }\n",
       "</style>\n",
       "<table border=\"1\" class=\"dataframe\">\n",
       "  <thead>\n",
       "    <tr style=\"text-align: right;\">\n",
       "      <th></th>\n",
       "      <th>t</th>\n",
       "      <th>obs0</th>\n",
       "      <th>obs1</th>\n",
       "      <th>act0</th>\n",
       "      <th>act1</th>\n",
       "      <th>act2</th>\n",
       "      <th>rew</th>\n",
       "      <th>rep</th>\n",
       "    </tr>\n",
       "  </thead>\n",
       "  <tbody>\n",
       "    <tr>\n",
       "      <th>0</th>\n",
       "      <td>0</td>\n",
       "      <td>-1.000000</td>\n",
       "      <td>-1.000000</td>\n",
       "      <td>-0.974713</td>\n",
       "      <td>-0.849815</td>\n",
       "      <td>-1.0</td>\n",
       "      <td>0.000000</td>\n",
       "      <td>0</td>\n",
       "    </tr>\n",
       "    <tr>\n",
       "      <th>1</th>\n",
       "      <td>1</td>\n",
       "      <td>-0.979864</td>\n",
       "      <td>0.376640</td>\n",
       "      <td>-1.000000</td>\n",
       "      <td>1.000000</td>\n",
       "      <td>-1.0</td>\n",
       "      <td>-0.011415</td>\n",
       "      <td>0</td>\n",
       "    </tr>\n",
       "    <tr>\n",
       "      <th>2</th>\n",
       "      <td>2</td>\n",
       "      <td>-0.979767</td>\n",
       "      <td>-0.416228</td>\n",
       "      <td>-0.637097</td>\n",
       "      <td>-0.391289</td>\n",
       "      <td>-1.0</td>\n",
       "      <td>-0.092169</td>\n",
       "      <td>0</td>\n",
       "    </tr>\n",
       "    <tr>\n",
       "      <th>3</th>\n",
       "      <td>3</td>\n",
       "      <td>-0.983821</td>\n",
       "      <td>-0.119736</td>\n",
       "      <td>-1.000000</td>\n",
       "      <td>-1.000000</td>\n",
       "      <td>-1.0</td>\n",
       "      <td>-0.131576</td>\n",
       "      <td>0</td>\n",
       "    </tr>\n",
       "    <tr>\n",
       "      <th>4</th>\n",
       "      <td>4</td>\n",
       "      <td>-1.000000</td>\n",
       "      <td>-1.000000</td>\n",
       "      <td>-1.000000</td>\n",
       "      <td>-1.000000</td>\n",
       "      <td>-1.0</td>\n",
       "      <td>-0.132317</td>\n",
       "      <td>0</td>\n",
       "    </tr>\n",
       "  </tbody>\n",
       "</table>\n",
       "</div>"
      ],
      "text/plain": [
       "   t      obs0      obs1      act0      act1  act2       rew  rep\n",
       "0  0 -1.000000 -1.000000 -0.974713 -0.849815  -1.0  0.000000    0\n",
       "1  1 -0.979864  0.376640 -1.000000  1.000000  -1.0 -0.011415    0\n",
       "2  2 -0.979767 -0.416228 -0.637097 -0.391289  -1.0 -0.092169    0\n",
       "3  3 -0.983821 -0.119736 -1.000000 -1.000000  -1.0 -0.131576    0\n",
       "4  4 -1.000000 -1.000000 -1.000000 -1.000000  -1.0 -0.132317    0"
      ]
     },
     "execution_count": 61,
     "metadata": {},
     "output_type": "execute_result"
    }
   ],
   "source": [
    "ppoData = simulator(env = evalEnv, agent = eppoAgent).simulate_full_named_dict_obs_acts()\n",
    "ppoDataDF = pd.DataFrame(ppoData)\n",
    "ppoDataDF.head()"
   ]
  },
  {
   "cell_type": "code",
   "execution_count": 62,
   "id": "f73a25bc-2e2e-4ca9-ad0b-373ab0226c64",
   "metadata": {},
   "outputs": [
    {
     "data": {
      "text/plain": [
       "<Axes: xlabel='t'>"
      ]
     },
     "execution_count": 62,
     "metadata": {},
     "output_type": "execute_result"
    },
    {
     "data": {
      "image/png": "[encoded data removed]",
      "text/plain": [
       "<Figure size 640x480 with 1 Axes>"
      ]
     },
     "metadata": {},
     "output_type": "display_data"
    }
   ],
   "source": [
    "ppoDataDF[ppoDataDF.rep == 0].plot(x='t', y =['act0', 'act1', 'act2'])"
   ]
  }
 ],
 "metadata": {
  "kernelspec": {
   "display_name": "Python 3 (ipykernel)",
   "language": "python",
   "name": "python3"
  },
  "language_info": {
   "codemirror_mode": {
    "name": "ipython",
    "version": 3
   },
   "file_extension": ".py",
   "mimetype": "text/x-python",
   "name": "python",
   "nbconvert_exporter": "python",
   "pygments_lexer": "ipython3",
   "version": "3.12.10"
  }
 },
 "nbformat": 4,
 "nbformat_minor": 5
}
