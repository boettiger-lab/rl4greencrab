{
 "cells": [
  {
   "cell_type": "code",
   "execution_count": 1,
   "id": "c85d89eb-6b4a-4d74-b542-a56758bbce90",
   "metadata": {
    "scrolled": true
   },
   "outputs": [
    {
     "name": "stdout",
     "output_type": "stream",
     "text": [
      "Obtaining file:///home/rstudio/rl4greencrab\n",
      "  Installing build dependencies ... \u001b[?25ldone\n",
      "\u001b[?25h  Checking if build backend supports build_editable ... \u001b[?25ldone\n",
      "\u001b[?25h  Getting requirements to build editable ... \u001b[?25ldone\n",
      "\u001b[?25h  Installing backend dependencies ... \u001b[?25ldone\n",
      "\u001b[?25h  Preparing editable metadata (pyproject.toml) ... \u001b[?25ldone\n",
      "\u001b[?25hCollecting gymnasium (from rl4greencrab==1.0.0)\n",
      "  Using cached gymnasium-1.1.1-py3-none-any.whl.metadata (9.4 kB)\n",
      "Requirement already satisfied: matplotlib in /opt/conda/lib/python3.12/site-packages (from rl4greencrab==1.0.0) (3.10.3)\n",
      "Requirement already satisfied: numpy in /opt/conda/lib/python3.12/site-packages (from rl4greencrab==1.0.0) (1.26.4)\n",
      "Collecting optuna (from rl4greencrab==1.0.0)\n",
      "  Using cached optuna-4.4.0-py3-none-any.whl.metadata (17 kB)\n",
      "Requirement already satisfied: pandas in /opt/conda/lib/python3.12/site-packages (from rl4greencrab==1.0.0) (2.2.2)\n",
      "Requirement already satisfied: pyyaml in /opt/conda/lib/python3.12/site-packages (from rl4greencrab==1.0.0) (6.0.2)\n",
      "Collecting ray (from rl4greencrab==1.0.0)\n",
      "  Downloading ray-2.47.0-cp312-cp312-manylinux2014_x86_64.whl.metadata (20 kB)\n",
      "Collecting sb3-contrib (from rl4greencrab==1.0.0)\n",
      "  Using cached sb3_contrib-2.6.0-py3-none-any.whl.metadata (4.1 kB)\n",
      "Collecting scikit-optimize (from rl4greencrab==1.0.0)\n",
      "  Using cached scikit_optimize-0.10.2-py2.py3-none-any.whl.metadata (9.7 kB)\n",
      "Collecting scikit-plot (from rl4greencrab==1.0.0)\n",
      "  Using cached scikit_plot-0.3.7-py3-none-any.whl.metadata (7.1 kB)\n",
      "Requirement already satisfied: scipy in /opt/conda/lib/python3.12/site-packages (from rl4greencrab==1.0.0) (1.15.2)\n",
      "Collecting stable-baselines3 (from rl4greencrab==1.0.0)\n",
      "  Using cached stable_baselines3-2.6.0-py3-none-any.whl.metadata (4.8 kB)\n",
      "Collecting typing (from rl4greencrab==1.0.0)\n",
      "  Using cached typing-3.7.4.3-py3-none-any.whl\n",
      "Requirement already satisfied: cloudpickle>=1.2.0 in /opt/conda/lib/python3.12/site-packages (from gymnasium->rl4greencrab==1.0.0) (3.1.1)\n",
      "Requirement already satisfied: typing-extensions>=4.3.0 in /opt/conda/lib/python3.12/site-packages (from gymnasium->rl4greencrab==1.0.0) (4.13.2)\n",
      "Collecting farama-notifications>=0.0.1 (from gymnasium->rl4greencrab==1.0.0)\n",
      "  Using cached Farama_Notifications-0.0.4-py3-none-any.whl.metadata (558 bytes)\n",
      "Requirement already satisfied: contourpy>=1.0.1 in /opt/conda/lib/python3.12/site-packages (from matplotlib->rl4greencrab==1.0.0) (1.3.2)\n",
      "Requirement already satisfied: cycler>=0.10 in /opt/conda/lib/python3.12/site-packages (from matplotlib->rl4greencrab==1.0.0) (0.12.1)\n",
      "Requirement already satisfied: fonttools>=4.22.0 in /opt/conda/lib/python3.12/site-packages (from matplotlib->rl4greencrab==1.0.0) (4.58.0)\n",
      "Requirement already satisfied: kiwisolver>=1.3.1 in /opt/conda/lib/python3.12/site-packages (from matplotlib->rl4greencrab==1.0.0) (1.4.8)\n",
      "Requirement already satisfied: packaging>=20.0 in /opt/conda/lib/python3.12/site-packages (from matplotlib->rl4greencrab==1.0.0) (24.2)\n",
      "Requirement already satisfied: pillow>=8 in /opt/conda/lib/python3.12/site-packages (from matplotlib->rl4greencrab==1.0.0) (11.2.1)\n",
      "Requirement already satisfied: pyparsing>=2.3.1 in /opt/conda/lib/python3.12/site-packages (from matplotlib->rl4greencrab==1.0.0) (3.2.3)\n",
      "Requirement already satisfied: python-dateutil>=2.7 in /opt/conda/lib/python3.12/site-packages (from matplotlib->rl4greencrab==1.0.0) (2.9.0.post0)\n",
      "Requirement already satisfied: six>=1.5 in /opt/conda/lib/python3.12/site-packages (from python-dateutil>=2.7->matplotlib->rl4greencrab==1.0.0) (1.17.0)\n",
      "Requirement already satisfied: alembic>=1.5.0 in /opt/conda/lib/python3.12/site-packages (from optuna->rl4greencrab==1.0.0) (1.15.2)\n",
      "Collecting colorlog (from optuna->rl4greencrab==1.0.0)\n",
      "  Using cached colorlog-6.9.0-py3-none-any.whl.metadata (10 kB)\n",
      "Requirement already satisfied: sqlalchemy>=1.4.2 in /opt/conda/lib/python3.12/site-packages (from optuna->rl4greencrab==1.0.0) (2.0.41)\n",
      "Requirement already satisfied: tqdm in /opt/conda/lib/python3.12/site-packages (from optuna->rl4greencrab==1.0.0) (4.67.1)\n",
      "Requirement already satisfied: Mako in /opt/conda/lib/python3.12/site-packages (from alembic>=1.5.0->optuna->rl4greencrab==1.0.0) (1.3.10)\n",
      "Requirement already satisfied: greenlet>=1 in /opt/conda/lib/python3.12/site-packages (from sqlalchemy>=1.4.2->optuna->rl4greencrab==1.0.0) (3.2.2)\n",
      "Requirement already satisfied: MarkupSafe>=0.9.2 in /opt/conda/lib/python3.12/site-packages (from Mako->alembic>=1.5.0->optuna->rl4greencrab==1.0.0) (3.0.2)\n",
      "Requirement already satisfied: pytz>=2020.1 in /opt/conda/lib/python3.12/site-packages (from pandas->rl4greencrab==1.0.0) (2025.2)\n",
      "Requirement already satisfied: tzdata>=2022.7 in /opt/conda/lib/python3.12/site-packages (from pandas->rl4greencrab==1.0.0) (2025.2)\n",
      "Requirement already satisfied: click>=7.0 in /opt/conda/lib/python3.12/site-packages (from ray->rl4greencrab==1.0.0) (8.2.1)\n",
      "Requirement already satisfied: filelock in /opt/conda/lib/python3.12/site-packages (from ray->rl4greencrab==1.0.0) (3.18.0)\n",
      "Requirement already satisfied: jsonschema in /opt/conda/lib/python3.12/site-packages (from ray->rl4greencrab==1.0.0) (4.23.0)\n",
      "Requirement already satisfied: msgpack<2.0.0,>=1.0.0 in /opt/conda/lib/python3.12/site-packages (from ray->rl4greencrab==1.0.0) (1.1.0)\n",
      "Requirement already satisfied: protobuf!=3.19.5,>=3.15.3 in /opt/conda/lib/python3.12/site-packages (from ray->rl4greencrab==1.0.0) (5.29.3)\n",
      "Requirement already satisfied: requests in /opt/conda/lib/python3.12/site-packages (from ray->rl4greencrab==1.0.0) (2.32.3)\n",
      "Requirement already satisfied: attrs>=22.2.0 in /opt/conda/lib/python3.12/site-packages (from jsonschema->ray->rl4greencrab==1.0.0) (25.3.0)\n",
      "Requirement already satisfied: jsonschema-specifications>=2023.03.6 in /opt/conda/lib/python3.12/site-packages (from jsonschema->ray->rl4greencrab==1.0.0) (2025.4.1)\n",
      "Requirement already satisfied: referencing>=0.28.4 in /opt/conda/lib/python3.12/site-packages (from jsonschema->ray->rl4greencrab==1.0.0) (0.36.2)\n",
      "Requirement already satisfied: rpds-py>=0.7.1 in /opt/conda/lib/python3.12/site-packages (from jsonschema->ray->rl4greencrab==1.0.0) (0.25.0)\n",
      "Requirement already satisfied: charset_normalizer<4,>=2 in /opt/conda/lib/python3.12/site-packages (from requests->ray->rl4greencrab==1.0.0) (3.4.2)\n",
      "Requirement already satisfied: idna<4,>=2.5 in /opt/conda/lib/python3.12/site-packages (from requests->ray->rl4greencrab==1.0.0) (3.10)\n",
      "Requirement already satisfied: urllib3<3,>=1.21.1 in /opt/conda/lib/python3.12/site-packages (from requests->ray->rl4greencrab==1.0.0) (2.4.0)\n",
      "Requirement already satisfied: certifi>=2017.4.17 in /opt/conda/lib/python3.12/site-packages (from requests->ray->rl4greencrab==1.0.0) (2025.4.26)\n",
      "Collecting torch<3.0,>=2.3 (from stable-baselines3->rl4greencrab==1.0.0)\n",
      "  Downloading torch-2.7.1-cp312-cp312-manylinux_2_28_x86_64.whl.metadata (29 kB)\n",
      "Requirement already satisfied: setuptools in /opt/conda/lib/python3.12/site-packages (from torch<3.0,>=2.3->stable-baselines3->rl4greencrab==1.0.0) (80.1.0)\n",
      "Collecting sympy>=1.13.3 (from torch<3.0,>=2.3->stable-baselines3->rl4greencrab==1.0.0)\n",
      "  Using cached sympy-1.14.0-py3-none-any.whl.metadata (12 kB)\n",
      "Requirement already satisfied: networkx in /opt/conda/lib/python3.12/site-packages (from torch<3.0,>=2.3->stable-baselines3->rl4greencrab==1.0.0) (3.4.2)\n",
      "Requirement already satisfied: jinja2 in /opt/conda/lib/python3.12/site-packages (from torch<3.0,>=2.3->stable-baselines3->rl4greencrab==1.0.0) (3.1.6)\n",
      "Requirement already satisfied: fsspec in /opt/conda/lib/python3.12/site-packages (from torch<3.0,>=2.3->stable-baselines3->rl4greencrab==1.0.0) (2025.5.0)\n",
      "Collecting nvidia-cuda-nvrtc-cu12==12.6.77 (from torch<3.0,>=2.3->stable-baselines3->rl4greencrab==1.0.0)\n",
      "  Using cached nvidia_cuda_nvrtc_cu12-12.6.77-py3-none-manylinux2014_x86_64.whl.metadata (1.5 kB)\n",
      "Collecting nvidia-cuda-runtime-cu12==12.6.77 (from torch<3.0,>=2.3->stable-baselines3->rl4greencrab==1.0.0)\n",
      "  Using cached nvidia_cuda_runtime_cu12-12.6.77-py3-none-manylinux2014_x86_64.manylinux_2_17_x86_64.whl.metadata (1.5 kB)\n",
      "Collecting nvidia-cuda-cupti-cu12==12.6.80 (from torch<3.0,>=2.3->stable-baselines3->rl4greencrab==1.0.0)\n",
      "  Using cached nvidia_cuda_cupti_cu12-12.6.80-py3-none-manylinux2014_x86_64.manylinux_2_17_x86_64.whl.metadata (1.6 kB)\n",
      "Collecting nvidia-cudnn-cu12==9.5.1.17 (from torch<3.0,>=2.3->stable-baselines3->rl4greencrab==1.0.0)\n",
      "  Using cached nvidia_cudnn_cu12-9.5.1.17-py3-none-manylinux_2_28_x86_64.whl.metadata (1.6 kB)\n",
      "Collecting nvidia-cublas-cu12==12.6.4.1 (from torch<3.0,>=2.3->stable-baselines3->rl4greencrab==1.0.0)\n",
      "  Using cached nvidia_cublas_cu12-12.6.4.1-py3-none-manylinux2014_x86_64.manylinux_2_17_x86_64.whl.metadata (1.5 kB)\n",
      "Collecting nvidia-cufft-cu12==11.3.0.4 (from torch<3.0,>=2.3->stable-baselines3->rl4greencrab==1.0.0)\n",
      "  Using cached nvidia_cufft_cu12-11.3.0.4-py3-none-manylinux2014_x86_64.manylinux_2_17_x86_64.whl.metadata (1.5 kB)\n",
      "Collecting nvidia-curand-cu12==10.3.7.77 (from torch<3.0,>=2.3->stable-baselines3->rl4greencrab==1.0.0)\n",
      "  Using cached nvidia_curand_cu12-10.3.7.77-py3-none-manylinux2014_x86_64.manylinux_2_17_x86_64.whl.metadata (1.5 kB)\n",
      "Collecting nvidia-cusolver-cu12==11.7.1.2 (from torch<3.0,>=2.3->stable-baselines3->rl4greencrab==1.0.0)\n",
      "  Using cached nvidia_cusolver_cu12-11.7.1.2-py3-none-manylinux2014_x86_64.manylinux_2_17_x86_64.whl.metadata (1.6 kB)\n",
      "Collecting nvidia-cusparse-cu12==12.5.4.2 (from torch<3.0,>=2.3->stable-baselines3->rl4greencrab==1.0.0)\n",
      "  Using cached nvidia_cusparse_cu12-12.5.4.2-py3-none-manylinux2014_x86_64.manylinux_2_17_x86_64.whl.metadata (1.6 kB)\n",
      "Collecting nvidia-cusparselt-cu12==0.6.3 (from torch<3.0,>=2.3->stable-baselines3->rl4greencrab==1.0.0)\n",
      "  Using cached nvidia_cusparselt_cu12-0.6.3-py3-none-manylinux2014_x86_64.whl.metadata (6.8 kB)\n",
      "Collecting nvidia-nccl-cu12==2.26.2 (from torch<3.0,>=2.3->stable-baselines3->rl4greencrab==1.0.0)\n",
      "  Using cached nvidia_nccl_cu12-2.26.2-py3-none-manylinux2014_x86_64.manylinux_2_17_x86_64.whl.metadata (2.0 kB)\n",
      "Collecting nvidia-nvtx-cu12==12.6.77 (from torch<3.0,>=2.3->stable-baselines3->rl4greencrab==1.0.0)\n",
      "  Using cached nvidia_nvtx_cu12-12.6.77-py3-none-manylinux2014_x86_64.manylinux_2_17_x86_64.whl.metadata (1.6 kB)\n",
      "Collecting nvidia-nvjitlink-cu12==12.6.85 (from torch<3.0,>=2.3->stable-baselines3->rl4greencrab==1.0.0)\n",
      "  Using cached nvidia_nvjitlink_cu12-12.6.85-py3-none-manylinux2010_x86_64.manylinux_2_12_x86_64.whl.metadata (1.5 kB)\n",
      "Collecting nvidia-cufile-cu12==1.11.1.6 (from torch<3.0,>=2.3->stable-baselines3->rl4greencrab==1.0.0)\n",
      "  Using cached nvidia_cufile_cu12-1.11.1.6-py3-none-manylinux2014_x86_64.manylinux_2_17_x86_64.whl.metadata (1.5 kB)\n",
      "Collecting triton==3.3.1 (from torch<3.0,>=2.3->stable-baselines3->rl4greencrab==1.0.0)\n",
      "  Downloading triton-3.3.1-cp312-cp312-manylinux_2_27_x86_64.manylinux_2_28_x86_64.whl.metadata (1.5 kB)\n",
      "Collecting mpmath<1.4,>=1.1.0 (from sympy>=1.13.3->torch<3.0,>=2.3->stable-baselines3->rl4greencrab==1.0.0)\n",
      "  Using cached mpmath-1.3.0-py3-none-any.whl.metadata (8.6 kB)\n",
      "Requirement already satisfied: joblib>=0.11 in /opt/conda/lib/python3.12/site-packages (from scikit-optimize->rl4greencrab==1.0.0) (1.5.1)\n",
      "Collecting pyaml>=16.9 (from scikit-optimize->rl4greencrab==1.0.0)\n",
      "  Downloading pyaml-25.5.0-py3-none-any.whl.metadata (12 kB)\n",
      "Requirement already satisfied: scikit-learn>=1.0.0 in /opt/conda/lib/python3.12/site-packages (from scikit-optimize->rl4greencrab==1.0.0) (1.6.1)\n",
      "Requirement already satisfied: threadpoolctl>=3.1.0 in /opt/conda/lib/python3.12/site-packages (from scikit-learn>=1.0.0->scikit-optimize->rl4greencrab==1.0.0) (3.6.0)\n",
      "Using cached gymnasium-1.1.1-py3-none-any.whl (965 kB)\n",
      "Using cached Farama_Notifications-0.0.4-py3-none-any.whl (2.5 kB)\n",
      "Using cached optuna-4.4.0-py3-none-any.whl (395 kB)\n",
      "Using cached colorlog-6.9.0-py3-none-any.whl (11 kB)\n",
      "Downloading ray-2.47.0-cp312-cp312-manylinux2014_x86_64.whl (68.9 MB)\n",
      "\u001b[2K   \u001b[90m━━━━━━━━━━━━━━━━━━━━━━━━━━━━━━━━━━━━━━━━\u001b[0m \u001b[32m68.9/68.9 MB\u001b[0m \u001b[31m80.5 MB/s\u001b[0m eta \u001b[36m0:00:00\u001b[0m00:01\u001b[0m00:01\u001b[0mm\n",
      "\u001b[?25hUsing cached sb3_contrib-2.6.0-py3-none-any.whl (92 kB)\n",
      "Using cached stable_baselines3-2.6.0-py3-none-any.whl (184 kB)\n",
      "Downloading torch-2.7.1-cp312-cp312-manylinux_2_28_x86_64.whl (821.0 MB)\n",
      "\u001b[2K   \u001b[90m━━━━━━━━━━━━━━━━━━━━━━━━━━━━━━━━━━━━━━━━\u001b[0m \u001b[32m821.0/821.0 MB\u001b[0m \u001b[31m78.5 MB/s\u001b[0m eta \u001b[36m0:00:00\u001b[0m00:01\u001b[0m00:01\u001b[0m\n",
      "\u001b[?25hUsing cached nvidia_cublas_cu12-12.6.4.1-py3-none-manylinux2014_x86_64.manylinux_2_17_x86_64.whl (393.1 MB)\n",
      "Using cached nvidia_cuda_cupti_cu12-12.6.80-py3-none-manylinux2014_x86_64.manylinux_2_17_x86_64.whl (8.9 MB)\n",
      "Using cached nvidia_cuda_nvrtc_cu12-12.6.77-py3-none-manylinux2014_x86_64.whl (23.7 MB)\n",
      "Using cached nvidia_cuda_runtime_cu12-12.6.77-py3-none-manylinux2014_x86_64.manylinux_2_17_x86_64.whl (897 kB)\n",
      "Using cached nvidia_cudnn_cu12-9.5.1.17-py3-none-manylinux_2_28_x86_64.whl (571.0 MB)\n",
      "Using cached nvidia_cufft_cu12-11.3.0.4-py3-none-manylinux2014_x86_64.manylinux_2_17_x86_64.whl (200.2 MB)\n",
      "Using cached nvidia_cufile_cu12-1.11.1.6-py3-none-manylinux2014_x86_64.manylinux_2_17_x86_64.whl (1.1 MB)\n",
      "Using cached nvidia_curand_cu12-10.3.7.77-py3-none-manylinux2014_x86_64.manylinux_2_17_x86_64.whl (56.3 MB)\n",
      "Using cached nvidia_cusolver_cu12-11.7.1.2-py3-none-manylinux2014_x86_64.manylinux_2_17_x86_64.whl (158.2 MB)\n",
      "Using cached nvidia_cusparse_cu12-12.5.4.2-py3-none-manylinux2014_x86_64.manylinux_2_17_x86_64.whl (216.6 MB)\n",
      "Using cached nvidia_cusparselt_cu12-0.6.3-py3-none-manylinux2014_x86_64.whl (156.8 MB)\n",
      "Using cached nvidia_nccl_cu12-2.26.2-py3-none-manylinux2014_x86_64.manylinux_2_17_x86_64.whl (201.3 MB)\n",
      "Using cached nvidia_nvjitlink_cu12-12.6.85-py3-none-manylinux2010_x86_64.manylinux_2_12_x86_64.whl (19.7 MB)\n",
      "Using cached nvidia_nvtx_cu12-12.6.77-py3-none-manylinux2014_x86_64.manylinux_2_17_x86_64.whl (89 kB)\n",
      "Downloading triton-3.3.1-cp312-cp312-manylinux_2_27_x86_64.manylinux_2_28_x86_64.whl (155.7 MB)\n",
      "\u001b[2K   \u001b[90m━━━━━━━━━━━━━━━━━━━━━━━━━━━━━━━━━━━━━━━━\u001b[0m \u001b[32m155.7/155.7 MB\u001b[0m \u001b[31m85.7 MB/s\u001b[0m eta \u001b[36m0:00:00\u001b[0m00:01\u001b[0m00:01\u001b[0m\n",
      "\u001b[?25hUsing cached sympy-1.14.0-py3-none-any.whl (6.3 MB)\n",
      "Using cached mpmath-1.3.0-py3-none-any.whl (536 kB)\n",
      "Using cached scikit_optimize-0.10.2-py2.py3-none-any.whl (107 kB)\n",
      "Downloading pyaml-25.5.0-py3-none-any.whl (26 kB)\n",
      "Using cached scikit_plot-0.3.7-py3-none-any.whl (33 kB)\n",
      "Building wheels for collected packages: rl4greencrab\n",
      "  Building editable for rl4greencrab (pyproject.toml) ... \u001b[?25ldone\n",
      "\u001b[?25h  Created wheel for rl4greencrab: filename=rl4greencrab-1.0.0-py2.py3-none-any.whl size=1108 sha256=83ecfa75d00a6a86f29a61633700f400a0063fb8830d620c4b02a2368bfee688\n",
      "  Stored in directory: /tmp/pip-ephem-wheel-cache-2kko_rfl/wheels/77/22/bf/1fa8ed58576be030eee5dae5ac3492fdad354cd6536f6804a3\n",
      "Successfully built rl4greencrab\n",
      "Installing collected packages: nvidia-cusparselt-cu12, mpmath, farama-notifications, typing, triton, sympy, pyaml, nvidia-nvtx-cu12, nvidia-nvjitlink-cu12, nvidia-nccl-cu12, nvidia-curand-cu12, nvidia-cufile-cu12, nvidia-cuda-runtime-cu12, nvidia-cuda-nvrtc-cu12, nvidia-cuda-cupti-cu12, nvidia-cublas-cu12, gymnasium, colorlog, nvidia-cusparse-cu12, nvidia-cufft-cu12, nvidia-cudnn-cu12, scikit-plot, scikit-optimize, optuna, nvidia-cusolver-cu12, torch, ray, stable-baselines3, sb3-contrib, rl4greencrab\n",
      "\u001b[2K   \u001b[90m━━━━━━━━━━━━━━━━━━━━━━━━━━━━━━━━━━━━━━━━\u001b[0m \u001b[32m30/30\u001b[0m [rl4greencrab][0m [stable-baselines3]12]2]\n",
      "\u001b[1A\u001b[2KSuccessfully installed colorlog-6.9.0 farama-notifications-0.0.4 gymnasium-1.1.1 mpmath-1.3.0 nvidia-cublas-cu12-12.6.4.1 nvidia-cuda-cupti-cu12-12.6.80 nvidia-cuda-nvrtc-cu12-12.6.77 nvidia-cuda-runtime-cu12-12.6.77 nvidia-cudnn-cu12-9.5.1.17 nvidia-cufft-cu12-11.3.0.4 nvidia-cufile-cu12-1.11.1.6 nvidia-curand-cu12-10.3.7.77 nvidia-cusolver-cu12-11.7.1.2 nvidia-cusparse-cu12-12.5.4.2 nvidia-cusparselt-cu12-0.6.3 nvidia-nccl-cu12-2.26.2 nvidia-nvjitlink-cu12-12.6.85 nvidia-nvtx-cu12-12.6.77 optuna-4.4.0 pyaml-25.5.0 ray-2.47.0 rl4greencrab-1.0.0 sb3-contrib-2.6.0 scikit-optimize-0.10.2 scikit-plot-0.3.7 stable-baselines3-2.6.0 sympy-1.14.0 torch-2.7.1 triton-3.3.1 typing-3.7.4.3\n",
      "Note: you may need to restart the kernel to use updated packages.\n"
     ]
    }
   ],
   "source": [
    "%pip install -e .."
   ]
  },
  {
   "cell_type": "code",
   "execution_count": 77,
   "id": "203cd164-965f-4066-967e-1a14c0d3e1f9",
   "metadata": {},
   "outputs": [],
   "source": [
    "import numpy as np\n",
    "import pandas as pd\n",
    "from skopt import gp_minimize, gbrt_minimize \n",
    "from skopt.plots import plot_convergence, plot_objective\n",
    "from rl4greencrab.envs.green_crab_monthly_env import greenCrabMonthEnv\n",
    "from rl4greencrab.envs.green_crab_monthly_env_norm import greenCrabMonthEnvNormalized\n",
    "from rl4greencrab.envs.green_crab_movingAvg import greenCrabMonthNormalizedMoving\n",
    "from rl4greencrab import evaluate_agent, multiConstAction, simulator, environment_simulation, plot_selected_sizes\n",
    "import matplotlib.pyplot as plt\n",
    "from ipywidgets import interact, widgets\n",
    "from huggingface_hub import hf_hub_download\n",
    "from stable_baselines3 import PPO, TD3\n",
    "from sb3_contrib import TQC, RecurrentPPO\n",
    "from LipschitzPPO import LipschitzPPO"
   ]
  },
  {
   "cell_type": "markdown",
   "id": "7a14e4e3-4071-4350-a4f4-ce43fb1c7725",
   "metadata": {},
   "source": [
    "## Monthly Environment Simulation"
   ]
  },
  {
   "cell_type": "code",
   "execution_count": 2,
   "id": "7c088df6-5948-4b7a-a9a4-92893c212eb6",
   "metadata": {},
   "outputs": [],
   "source": [
    "config = {\n",
    "    \"w_mort_scale\" : 600,\n",
    "    \"growth_k\": 0.70,\n",
    "    'random_start':True,\n",
    "    # \"curriculum\": True\n",
    "}"
   ]
  },
  {
   "cell_type": "code",
   "execution_count": 3,
   "id": "80743822-87cd-4d33-a7f9-fd180fabee2b",
   "metadata": {},
   "outputs": [],
   "source": [
    "def evaluateConstAct(x):\n",
    "    config = {\n",
    "        \"w_mort_scale\" : 600,\n",
    "        \"growth_k\": 0.70,\n",
    "        'random_start':True,\n",
    "        \"curriculum\": True\n",
    "    }\n",
    "    env = greenCrabMonthEnv(config)\n",
    "    agent = multiConstAction(env=env, action=np.array(x))\n",
    "    # rewards = simulator(env, agent).simulate()\n",
    "    # out = np.mean(rewards)\n",
    "    m_reward = evaluate_agent(agent=agent, ray_remote=True).evaluate(n_eval_episodes=200)\n",
    "    \n",
    "    return - m_reward"
   ]
  },
  {
   "cell_type": "code",
   "execution_count": 4,
   "id": "cf63d20f-53e1-467b-8700-fe9a42ca4324",
   "metadata": {
    "scrolled": true
   },
   "outputs": [
    {
     "name": "stdout",
     "output_type": "stream",
     "text": [
      "Iteration No: 1 started. Evaluating function at random point.\n"
     ]
    },
    {
     "name": "stderr",
     "output_type": "stream",
     "text": [
      "/opt/conda/lib/python3.12/site-packages/gymnasium/spaces/box.py:305: UserWarning: \u001b[33mWARN: Box high's precision lowered by casting to float32, current high.dtype=float64\u001b[0m\n",
      "  gym.logger.warn(\n",
      "2025-06-21 04:44:03,507\tINFO worker.py:1917 -- Started a local Ray instance.\n"
     ]
    },
    {
     "name": "stdout",
     "output_type": "stream",
     "text": [
      "Iteration No: 1 ended. Evaluation done at random point.\n",
      "Time taken: 19.2097\n",
      "Function value obtained: 7.1927\n",
      "Current minimum: 7.1927\n",
      "Iteration No: 2 started. Evaluating function at random point.\n"
     ]
    },
    {
     "name": "stderr",
     "output_type": "stream",
     "text": [
      "/opt/conda/lib/python3.12/site-packages/gymnasium/spaces/box.py:305: UserWarning: \u001b[33mWARN: Box high's precision lowered by casting to float32, current high.dtype=float64\u001b[0m\n",
      "  gym.logger.warn(\n"
     ]
    },
    {
     "name": "stdout",
     "output_type": "stream",
     "text": [
      "Iteration No: 2 ended. Evaluation done at random point.\n",
      "Time taken: 0.3791\n",
      "Function value obtained: 13.1632\n",
      "Current minimum: 7.1927\n",
      "Iteration No: 3 started. Evaluating function at random point.\n",
      "Iteration No: 3 ended. Evaluation done at random point.\n",
      "Time taken: 0.3902\n",
      "Function value obtained: 33.5008\n",
      "Current minimum: 7.1927\n",
      "Iteration No: 4 started. Evaluating function at random point.\n",
      "Iteration No: 4 ended. Evaluation done at random point.\n",
      "Time taken: 0.3888\n",
      "Function value obtained: 16.5777\n",
      "Current minimum: 7.1927\n",
      "Iteration No: 5 started. Evaluating function at random point.\n",
      "Iteration No: 5 ended. Evaluation done at random point.\n",
      "Time taken: 0.3841\n",
      "Function value obtained: 38.3841\n",
      "Current minimum: 7.1927\n",
      "Iteration No: 6 started. Evaluating function at random point.\n",
      "Iteration No: 6 ended. Evaluation done at random point.\n",
      "Time taken: 0.3836\n",
      "Function value obtained: 48.3455\n",
      "Current minimum: 7.1927\n",
      "Iteration No: 7 started. Evaluating function at random point.\n",
      "Iteration No: 7 ended. Evaluation done at random point.\n",
      "Time taken: 0.3814\n",
      "Function value obtained: 18.0408\n",
      "Current minimum: 7.1927\n",
      "Iteration No: 8 started. Evaluating function at random point.\n",
      "Iteration No: 8 ended. Evaluation done at random point.\n",
      "Time taken: 0.3687\n",
      "Function value obtained: 39.6812\n",
      "Current minimum: 7.1927\n",
      "Iteration No: 9 started. Evaluating function at random point.\n",
      "Iteration No: 9 ended. Evaluation done at random point.\n",
      "Time taken: 0.3779\n",
      "Function value obtained: 25.0009\n",
      "Current minimum: 7.1927\n",
      "Iteration No: 10 started. Evaluating function at random point.\n",
      "Iteration No: 10 ended. Evaluation done at random point.\n",
      "Time taken: 0.5465\n",
      "Function value obtained: 48.0207\n",
      "Current minimum: 7.1927\n",
      "Iteration No: 11 started. Searching for the next optimal point.\n"
     ]
    },
    {
     "name": "stderr",
     "output_type": "stream",
     "text": [
      "/opt/conda/lib/python3.12/site-packages/gymnasium/spaces/box.py:305: UserWarning: \u001b[33mWARN: Box high's precision lowered by casting to float32, current high.dtype=float64\u001b[0m\n",
      "  gym.logger.warn(\n"
     ]
    },
    {
     "name": "stdout",
     "output_type": "stream",
     "text": [
      "Iteration No: 11 ended. Search finished for the next optimal point.\n",
      "Time taken: 0.5643\n",
      "Function value obtained: 21.0308\n",
      "Current minimum: 7.1927\n",
      "Iteration No: 12 started. Searching for the next optimal point.\n"
     ]
    },
    {
     "name": "stderr",
     "output_type": "stream",
     "text": [
      "/opt/conda/lib/python3.12/site-packages/gymnasium/spaces/box.py:305: UserWarning: \u001b[33mWARN: Box high's precision lowered by casting to float32, current high.dtype=float64\u001b[0m\n",
      "  gym.logger.warn(\n"
     ]
    },
    {
     "name": "stdout",
     "output_type": "stream",
     "text": [
      "Iteration No: 12 ended. Search finished for the next optimal point.\n",
      "Time taken: 0.5789\n",
      "Function value obtained: 6.7891\n",
      "Current minimum: 6.7891\n",
      "Iteration No: 13 started. Searching for the next optimal point.\n"
     ]
    },
    {
     "name": "stderr",
     "output_type": "stream",
     "text": [
      "/opt/conda/lib/python3.12/site-packages/gymnasium/spaces/box.py:305: UserWarning: \u001b[33mWARN: Box high's precision lowered by casting to float32, current high.dtype=float64\u001b[0m\n",
      "  gym.logger.warn(\n"
     ]
    },
    {
     "name": "stdout",
     "output_type": "stream",
     "text": [
      "Iteration No: 13 ended. Search finished for the next optimal point.\n",
      "Time taken: 0.6523\n",
      "Function value obtained: 6.6572\n",
      "Current minimum: 6.6572\n",
      "Iteration No: 14 started. Searching for the next optimal point.\n"
     ]
    },
    {
     "name": "stderr",
     "output_type": "stream",
     "text": [
      "/opt/conda/lib/python3.12/site-packages/gymnasium/spaces/box.py:305: UserWarning: \u001b[33mWARN: Box high's precision lowered by casting to float32, current high.dtype=float64\u001b[0m\n",
      "  gym.logger.warn(\n"
     ]
    },
    {
     "name": "stdout",
     "output_type": "stream",
     "text": [
      "Iteration No: 14 ended. Search finished for the next optimal point.\n",
      "Time taken: 0.6011\n",
      "Function value obtained: 6.8073\n",
      "Current minimum: 6.6572\n",
      "Iteration No: 15 started. Searching for the next optimal point.\n"
     ]
    },
    {
     "name": "stderr",
     "output_type": "stream",
     "text": [
      "/opt/conda/lib/python3.12/site-packages/gymnasium/spaces/box.py:305: UserWarning: \u001b[33mWARN: Box high's precision lowered by casting to float32, current high.dtype=float64\u001b[0m\n",
      "  gym.logger.warn(\n"
     ]
    },
    {
     "name": "stdout",
     "output_type": "stream",
     "text": [
      "Iteration No: 15 ended. Search finished for the next optimal point.\n",
      "Time taken: 0.5551\n",
      "Function value obtained: 6.5582\n",
      "Current minimum: 6.5582\n",
      "Iteration No: 16 started. Searching for the next optimal point.\n"
     ]
    },
    {
     "name": "stderr",
     "output_type": "stream",
     "text": [
      "/opt/conda/lib/python3.12/site-packages/gymnasium/spaces/box.py:305: UserWarning: \u001b[33mWARN: Box high's precision lowered by casting to float32, current high.dtype=float64\u001b[0m\n",
      "  gym.logger.warn(\n"
     ]
    },
    {
     "name": "stdout",
     "output_type": "stream",
     "text": [
      "Iteration No: 16 ended. Search finished for the next optimal point.\n",
      "Time taken: 0.8189\n",
      "Function value obtained: 9.3469\n",
      "Current minimum: 6.5582\n",
      "Iteration No: 17 started. Searching for the next optimal point.\n"
     ]
    },
    {
     "name": "stderr",
     "output_type": "stream",
     "text": [
      "/opt/conda/lib/python3.12/site-packages/gymnasium/spaces/box.py:305: UserWarning: \u001b[33mWARN: Box high's precision lowered by casting to float32, current high.dtype=float64\u001b[0m\n",
      "  gym.logger.warn(\n"
     ]
    },
    {
     "name": "stdout",
     "output_type": "stream",
     "text": [
      "Iteration No: 17 ended. Search finished for the next optimal point.\n",
      "Time taken: 0.6505\n",
      "Function value obtained: 6.4190\n",
      "Current minimum: 6.4190\n",
      "Iteration No: 18 started. Searching for the next optimal point.\n"
     ]
    },
    {
     "name": "stderr",
     "output_type": "stream",
     "text": [
      "/opt/conda/lib/python3.12/site-packages/gymnasium/spaces/box.py:305: UserWarning: \u001b[33mWARN: Box high's precision lowered by casting to float32, current high.dtype=float64\u001b[0m\n",
      "  gym.logger.warn(\n"
     ]
    },
    {
     "name": "stdout",
     "output_type": "stream",
     "text": [
      "Iteration No: 18 ended. Search finished for the next optimal point.\n",
      "Time taken: 0.6057\n",
      "Function value obtained: 6.4541\n",
      "Current minimum: 6.4190\n",
      "Iteration No: 19 started. Searching for the next optimal point.\n"
     ]
    },
    {
     "name": "stderr",
     "output_type": "stream",
     "text": [
      "/opt/conda/lib/python3.12/site-packages/gymnasium/spaces/box.py:305: UserWarning: \u001b[33mWARN: Box high's precision lowered by casting to float32, current high.dtype=float64\u001b[0m\n",
      "  gym.logger.warn(\n"
     ]
    },
    {
     "name": "stdout",
     "output_type": "stream",
     "text": [
      "Iteration No: 19 ended. Search finished for the next optimal point.\n",
      "Time taken: 0.6321\n",
      "Function value obtained: 11.5735\n",
      "Current minimum: 6.4190\n",
      "Iteration No: 20 started. Searching for the next optimal point.\n"
     ]
    },
    {
     "name": "stderr",
     "output_type": "stream",
     "text": [
      "/opt/conda/lib/python3.12/site-packages/gymnasium/spaces/box.py:305: UserWarning: \u001b[33mWARN: Box high's precision lowered by casting to float32, current high.dtype=float64\u001b[0m\n",
      "  gym.logger.warn(\n"
     ]
    },
    {
     "name": "stdout",
     "output_type": "stream",
     "text": [
      "Iteration No: 20 ended. Search finished for the next optimal point.\n",
      "Time taken: 0.6505\n",
      "Function value obtained: 6.3449\n",
      "Current minimum: 6.3449\n",
      "Iteration No: 21 started. Searching for the next optimal point.\n"
     ]
    },
    {
     "name": "stderr",
     "output_type": "stream",
     "text": [
      "/opt/conda/lib/python3.12/site-packages/gymnasium/spaces/box.py:305: UserWarning: \u001b[33mWARN: Box high's precision lowered by casting to float32, current high.dtype=float64\u001b[0m\n",
      "  gym.logger.warn(\n"
     ]
    },
    {
     "name": "stdout",
     "output_type": "stream",
     "text": [
      "Iteration No: 21 ended. Search finished for the next optimal point.\n",
      "Time taken: 0.5150\n",
      "Function value obtained: 6.4981\n",
      "Current minimum: 6.3449\n",
      "Iteration No: 22 started. Searching for the next optimal point.\n"
     ]
    },
    {
     "name": "stderr",
     "output_type": "stream",
     "text": [
      "/opt/conda/lib/python3.12/site-packages/gymnasium/spaces/box.py:305: UserWarning: \u001b[33mWARN: Box high's precision lowered by casting to float32, current high.dtype=float64\u001b[0m\n",
      "  gym.logger.warn(\n"
     ]
    },
    {
     "name": "stdout",
     "output_type": "stream",
     "text": [
      "Iteration No: 22 ended. Search finished for the next optimal point.\n",
      "Time taken: 0.5414\n",
      "Function value obtained: 8.9417\n",
      "Current minimum: 6.3449\n",
      "Iteration No: 23 started. Searching for the next optimal point.\n"
     ]
    },
    {
     "name": "stderr",
     "output_type": "stream",
     "text": [
      "/opt/conda/lib/python3.12/site-packages/gymnasium/spaces/box.py:305: UserWarning: \u001b[33mWARN: Box high's precision lowered by casting to float32, current high.dtype=float64\u001b[0m\n",
      "  gym.logger.warn(\n"
     ]
    },
    {
     "name": "stdout",
     "output_type": "stream",
     "text": [
      "Iteration No: 23 ended. Search finished for the next optimal point.\n",
      "Time taken: 0.6057\n",
      "Function value obtained: 16.4820\n",
      "Current minimum: 6.3449\n",
      "Iteration No: 24 started. Searching for the next optimal point.\n"
     ]
    },
    {
     "name": "stderr",
     "output_type": "stream",
     "text": [
      "/opt/conda/lib/python3.12/site-packages/gymnasium/spaces/box.py:305: UserWarning: \u001b[33mWARN: Box high's precision lowered by casting to float32, current high.dtype=float64\u001b[0m\n",
      "  gym.logger.warn(\n"
     ]
    },
    {
     "name": "stdout",
     "output_type": "stream",
     "text": [
      "Iteration No: 24 ended. Search finished for the next optimal point.\n",
      "Time taken: 0.6147\n",
      "Function value obtained: 7.8299\n",
      "Current minimum: 6.3449\n",
      "Iteration No: 25 started. Searching for the next optimal point.\n"
     ]
    },
    {
     "name": "stderr",
     "output_type": "stream",
     "text": [
      "/opt/conda/lib/python3.12/site-packages/gymnasium/spaces/box.py:305: UserWarning: \u001b[33mWARN: Box high's precision lowered by casting to float32, current high.dtype=float64\u001b[0m\n",
      "  gym.logger.warn(\n"
     ]
    },
    {
     "name": "stdout",
     "output_type": "stream",
     "text": [
      "Iteration No: 25 ended. Search finished for the next optimal point.\n",
      "Time taken: 0.6737\n",
      "Function value obtained: 6.5753\n",
      "Current minimum: 6.3449\n",
      "Iteration No: 26 started. Searching for the next optimal point.\n"
     ]
    },
    {
     "name": "stderr",
     "output_type": "stream",
     "text": [
      "/opt/conda/lib/python3.12/site-packages/gymnasium/spaces/box.py:305: UserWarning: \u001b[33mWARN: Box high's precision lowered by casting to float32, current high.dtype=float64\u001b[0m\n",
      "  gym.logger.warn(\n"
     ]
    },
    {
     "name": "stdout",
     "output_type": "stream",
     "text": [
      "Iteration No: 26 ended. Search finished for the next optimal point.\n",
      "Time taken: 0.6088\n",
      "Function value obtained: 6.8604\n",
      "Current minimum: 6.3449\n",
      "Iteration No: 27 started. Searching for the next optimal point.\n"
     ]
    },
    {
     "name": "stderr",
     "output_type": "stream",
     "text": [
      "/opt/conda/lib/python3.12/site-packages/gymnasium/spaces/box.py:305: UserWarning: \u001b[33mWARN: Box high's precision lowered by casting to float32, current high.dtype=float64\u001b[0m\n",
      "  gym.logger.warn(\n"
     ]
    },
    {
     "name": "stdout",
     "output_type": "stream",
     "text": [
      "Iteration No: 27 ended. Search finished for the next optimal point.\n",
      "Time taken: 0.6263\n",
      "Function value obtained: 9.5603\n",
      "Current minimum: 6.3449\n",
      "Iteration No: 28 started. Searching for the next optimal point.\n"
     ]
    },
    {
     "name": "stderr",
     "output_type": "stream",
     "text": [
      "/opt/conda/lib/python3.12/site-packages/gymnasium/spaces/box.py:305: UserWarning: \u001b[33mWARN: Box high's precision lowered by casting to float32, current high.dtype=float64\u001b[0m\n",
      "  gym.logger.warn(\n"
     ]
    },
    {
     "name": "stdout",
     "output_type": "stream",
     "text": [
      "Iteration No: 28 ended. Search finished for the next optimal point.\n",
      "Time taken: 0.6703\n",
      "Function value obtained: 9.9135\n",
      "Current minimum: 6.3449\n",
      "Iteration No: 29 started. Searching for the next optimal point.\n"
     ]
    },
    {
     "name": "stderr",
     "output_type": "stream",
     "text": [
      "/opt/conda/lib/python3.12/site-packages/gymnasium/spaces/box.py:305: UserWarning: \u001b[33mWARN: Box high's precision lowered by casting to float32, current high.dtype=float64\u001b[0m\n",
      "  gym.logger.warn(\n"
     ]
    },
    {
     "name": "stdout",
     "output_type": "stream",
     "text": [
      "Iteration No: 29 ended. Search finished for the next optimal point.\n",
      "Time taken: 0.6717\n",
      "Function value obtained: 6.5312\n",
      "Current minimum: 6.3449\n",
      "Iteration No: 30 started. Searching for the next optimal point.\n"
     ]
    },
    {
     "name": "stderr",
     "output_type": "stream",
     "text": [
      "/opt/conda/lib/python3.12/site-packages/gymnasium/spaces/box.py:305: UserWarning: \u001b[33mWARN: Box high's precision lowered by casting to float32, current high.dtype=float64\u001b[0m\n",
      "  gym.logger.warn(\n"
     ]
    },
    {
     "name": "stdout",
     "output_type": "stream",
     "text": [
      "Iteration No: 30 ended. Search finished for the next optimal point.\n",
      "Time taken: 0.7446\n",
      "Function value obtained: 6.7334\n",
      "Current minimum: 6.3449\n",
      "Iteration No: 31 started. Searching for the next optimal point.\n"
     ]
    },
    {
     "name": "stderr",
     "output_type": "stream",
     "text": [
      "/opt/conda/lib/python3.12/site-packages/gymnasium/spaces/box.py:305: UserWarning: \u001b[33mWARN: Box high's precision lowered by casting to float32, current high.dtype=float64\u001b[0m\n",
      "  gym.logger.warn(\n"
     ]
    },
    {
     "name": "stdout",
     "output_type": "stream",
     "text": [
      "Iteration No: 31 ended. Search finished for the next optimal point.\n",
      "Time taken: 0.7522\n",
      "Function value obtained: 6.4002\n",
      "Current minimum: 6.3449\n",
      "Iteration No: 32 started. Searching for the next optimal point.\n"
     ]
    },
    {
     "name": "stderr",
     "output_type": "stream",
     "text": [
      "/opt/conda/lib/python3.12/site-packages/gymnasium/spaces/box.py:305: UserWarning: \u001b[33mWARN: Box high's precision lowered by casting to float32, current high.dtype=float64\u001b[0m\n",
      "  gym.logger.warn(\n"
     ]
    },
    {
     "name": "stdout",
     "output_type": "stream",
     "text": [
      "Iteration No: 32 ended. Search finished for the next optimal point.\n",
      "Time taken: 0.7516\n",
      "Function value obtained: 6.3806\n",
      "Current minimum: 6.3449\n",
      "Iteration No: 33 started. Searching for the next optimal point.\n"
     ]
    },
    {
     "name": "stderr",
     "output_type": "stream",
     "text": [
      "/opt/conda/lib/python3.12/site-packages/gymnasium/spaces/box.py:305: UserWarning: \u001b[33mWARN: Box high's precision lowered by casting to float32, current high.dtype=float64\u001b[0m\n",
      "  gym.logger.warn(\n"
     ]
    },
    {
     "name": "stdout",
     "output_type": "stream",
     "text": [
      "Iteration No: 33 ended. Search finished for the next optimal point.\n",
      "Time taken: 0.7660\n",
      "Function value obtained: 6.5700\n",
      "Current minimum: 6.3449\n",
      "Iteration No: 34 started. Searching for the next optimal point.\n"
     ]
    },
    {
     "name": "stderr",
     "output_type": "stream",
     "text": [
      "/opt/conda/lib/python3.12/site-packages/gymnasium/spaces/box.py:305: UserWarning: \u001b[33mWARN: Box high's precision lowered by casting to float32, current high.dtype=float64\u001b[0m\n",
      "  gym.logger.warn(\n"
     ]
    },
    {
     "name": "stdout",
     "output_type": "stream",
     "text": [
      "Iteration No: 34 ended. Search finished for the next optimal point.\n",
      "Time taken: 0.8474\n",
      "Function value obtained: 6.5043\n",
      "Current minimum: 6.3449\n",
      "Iteration No: 35 started. Searching for the next optimal point.\n"
     ]
    },
    {
     "name": "stderr",
     "output_type": "stream",
     "text": [
      "/opt/conda/lib/python3.12/site-packages/gymnasium/spaces/box.py:305: UserWarning: \u001b[33mWARN: Box high's precision lowered by casting to float32, current high.dtype=float64\u001b[0m\n",
      "  gym.logger.warn(\n"
     ]
    },
    {
     "name": "stdout",
     "output_type": "stream",
     "text": [
      "Iteration No: 35 ended. Search finished for the next optimal point.\n",
      "Time taken: 0.7487\n",
      "Function value obtained: 6.7494\n",
      "Current minimum: 6.3449\n",
      "Iteration No: 36 started. Searching for the next optimal point.\n"
     ]
    },
    {
     "name": "stderr",
     "output_type": "stream",
     "text": [
      "/opt/conda/lib/python3.12/site-packages/gymnasium/spaces/box.py:305: UserWarning: \u001b[33mWARN: Box high's precision lowered by casting to float32, current high.dtype=float64\u001b[0m\n",
      "  gym.logger.warn(\n"
     ]
    },
    {
     "name": "stdout",
     "output_type": "stream",
     "text": [
      "Iteration No: 36 ended. Search finished for the next optimal point.\n",
      "Time taken: 0.7166\n",
      "Function value obtained: 6.7991\n",
      "Current minimum: 6.3449\n",
      "Iteration No: 37 started. Searching for the next optimal point.\n"
     ]
    },
    {
     "name": "stderr",
     "output_type": "stream",
     "text": [
      "/opt/conda/lib/python3.12/site-packages/gymnasium/spaces/box.py:305: UserWarning: \u001b[33mWARN: Box high's precision lowered by casting to float32, current high.dtype=float64\u001b[0m\n",
      "  gym.logger.warn(\n"
     ]
    },
    {
     "name": "stdout",
     "output_type": "stream",
     "text": [
      "Iteration No: 37 ended. Search finished for the next optimal point.\n",
      "Time taken: 0.7264\n",
      "Function value obtained: 6.5141\n",
      "Current minimum: 6.3449\n",
      "Iteration No: 38 started. Searching for the next optimal point.\n"
     ]
    },
    {
     "name": "stderr",
     "output_type": "stream",
     "text": [
      "/opt/conda/lib/python3.12/site-packages/gymnasium/spaces/box.py:305: UserWarning: \u001b[33mWARN: Box high's precision lowered by casting to float32, current high.dtype=float64\u001b[0m\n",
      "  gym.logger.warn(\n"
     ]
    },
    {
     "name": "stdout",
     "output_type": "stream",
     "text": [
      "Iteration No: 38 ended. Search finished for the next optimal point.\n",
      "Time taken: 0.7066\n",
      "Function value obtained: 6.8185\n",
      "Current minimum: 6.3449\n",
      "Iteration No: 39 started. Searching for the next optimal point.\n"
     ]
    },
    {
     "name": "stderr",
     "output_type": "stream",
     "text": [
      "/opt/conda/lib/python3.12/site-packages/gymnasium/spaces/box.py:305: UserWarning: \u001b[33mWARN: Box high's precision lowered by casting to float32, current high.dtype=float64\u001b[0m\n",
      "  gym.logger.warn(\n"
     ]
    },
    {
     "name": "stdout",
     "output_type": "stream",
     "text": [
      "Iteration No: 39 ended. Search finished for the next optimal point.\n",
      "Time taken: 0.7018\n",
      "Function value obtained: 7.7504\n",
      "Current minimum: 6.3449\n",
      "Iteration No: 40 started. Searching for the next optimal point.\n"
     ]
    },
    {
     "name": "stderr",
     "output_type": "stream",
     "text": [
      "/opt/conda/lib/python3.12/site-packages/gymnasium/spaces/box.py:305: UserWarning: \u001b[33mWARN: Box high's precision lowered by casting to float32, current high.dtype=float64\u001b[0m\n",
      "  gym.logger.warn(\n"
     ]
    },
    {
     "name": "stdout",
     "output_type": "stream",
     "text": [
      "Iteration No: 40 ended. Search finished for the next optimal point.\n",
      "Time taken: 0.7174\n",
      "Function value obtained: 6.6559\n",
      "Current minimum: 6.3449\n",
      "Iteration No: 41 started. Searching for the next optimal point.\n"
     ]
    },
    {
     "name": "stderr",
     "output_type": "stream",
     "text": [
      "/opt/conda/lib/python3.12/site-packages/gymnasium/spaces/box.py:305: UserWarning: \u001b[33mWARN: Box high's precision lowered by casting to float32, current high.dtype=float64\u001b[0m\n",
      "  gym.logger.warn(\n"
     ]
    },
    {
     "name": "stdout",
     "output_type": "stream",
     "text": [
      "Iteration No: 41 ended. Search finished for the next optimal point.\n",
      "Time taken: 0.6985\n",
      "Function value obtained: 6.9318\n",
      "Current minimum: 6.3449\n",
      "Iteration No: 42 started. Searching for the next optimal point.\n"
     ]
    },
    {
     "name": "stderr",
     "output_type": "stream",
     "text": [
      "/opt/conda/lib/python3.12/site-packages/gymnasium/spaces/box.py:305: UserWarning: \u001b[33mWARN: Box high's precision lowered by casting to float32, current high.dtype=float64\u001b[0m\n",
      "  gym.logger.warn(\n"
     ]
    },
    {
     "name": "stdout",
     "output_type": "stream",
     "text": [
      "Iteration No: 42 ended. Search finished for the next optimal point.\n",
      "Time taken: 0.7286\n",
      "Function value obtained: 7.4967\n",
      "Current minimum: 6.3449\n",
      "Iteration No: 43 started. Searching for the next optimal point.\n"
     ]
    },
    {
     "name": "stderr",
     "output_type": "stream",
     "text": [
      "/opt/conda/lib/python3.12/site-packages/gymnasium/spaces/box.py:305: UserWarning: \u001b[33mWARN: Box high's precision lowered by casting to float32, current high.dtype=float64\u001b[0m\n",
      "  gym.logger.warn(\n"
     ]
    },
    {
     "name": "stdout",
     "output_type": "stream",
     "text": [
      "Iteration No: 43 ended. Search finished for the next optimal point.\n",
      "Time taken: 0.7898\n",
      "Function value obtained: 6.5312\n",
      "Current minimum: 6.3449\n",
      "Iteration No: 44 started. Searching for the next optimal point.\n"
     ]
    },
    {
     "name": "stderr",
     "output_type": "stream",
     "text": [
      "/opt/conda/lib/python3.12/site-packages/gymnasium/spaces/box.py:305: UserWarning: \u001b[33mWARN: Box high's precision lowered by casting to float32, current high.dtype=float64\u001b[0m\n",
      "  gym.logger.warn(\n"
     ]
    },
    {
     "name": "stdout",
     "output_type": "stream",
     "text": [
      "Iteration No: 44 ended. Search finished for the next optimal point.\n",
      "Time taken: 0.7239\n",
      "Function value obtained: 6.3074\n",
      "Current minimum: 6.3074\n",
      "Iteration No: 45 started. Searching for the next optimal point.\n"
     ]
    },
    {
     "name": "stderr",
     "output_type": "stream",
     "text": [
      "/opt/conda/lib/python3.12/site-packages/gymnasium/spaces/box.py:305: UserWarning: \u001b[33mWARN: Box high's precision lowered by casting to float32, current high.dtype=float64\u001b[0m\n",
      "  gym.logger.warn(\n"
     ]
    },
    {
     "name": "stdout",
     "output_type": "stream",
     "text": [
      "Iteration No: 45 ended. Search finished for the next optimal point.\n",
      "Time taken: 0.7918\n",
      "Function value obtained: 6.3259\n",
      "Current minimum: 6.3074\n",
      "Iteration No: 46 started. Searching for the next optimal point.\n"
     ]
    },
    {
     "name": "stderr",
     "output_type": "stream",
     "text": [
      "/opt/conda/lib/python3.12/site-packages/gymnasium/spaces/box.py:305: UserWarning: \u001b[33mWARN: Box high's precision lowered by casting to float32, current high.dtype=float64\u001b[0m\n",
      "  gym.logger.warn(\n"
     ]
    },
    {
     "name": "stdout",
     "output_type": "stream",
     "text": [
      "Iteration No: 46 ended. Search finished for the next optimal point.\n",
      "Time taken: 0.8567\n",
      "Function value obtained: 6.2815\n",
      "Current minimum: 6.2815\n",
      "Iteration No: 47 started. Searching for the next optimal point.\n"
     ]
    },
    {
     "name": "stderr",
     "output_type": "stream",
     "text": [
      "/opt/conda/lib/python3.12/site-packages/gymnasium/spaces/box.py:305: UserWarning: \u001b[33mWARN: Box high's precision lowered by casting to float32, current high.dtype=float64\u001b[0m\n",
      "  gym.logger.warn(\n"
     ]
    },
    {
     "name": "stdout",
     "output_type": "stream",
     "text": [
      "Iteration No: 47 ended. Search finished for the next optimal point.\n",
      "Time taken: 0.9344\n",
      "Function value obtained: 6.3222\n",
      "Current minimum: 6.2815\n",
      "Iteration No: 48 started. Searching for the next optimal point.\n"
     ]
    },
    {
     "name": "stderr",
     "output_type": "stream",
     "text": [
      "/opt/conda/lib/python3.12/site-packages/gymnasium/spaces/box.py:305: UserWarning: \u001b[33mWARN: Box high's precision lowered by casting to float32, current high.dtype=float64\u001b[0m\n",
      "  gym.logger.warn(\n"
     ]
    },
    {
     "name": "stdout",
     "output_type": "stream",
     "text": [
      "Iteration No: 48 ended. Search finished for the next optimal point.\n",
      "Time taken: 0.9474\n",
      "Function value obtained: 6.5140\n",
      "Current minimum: 6.2815\n",
      "Iteration No: 49 started. Searching for the next optimal point.\n"
     ]
    },
    {
     "name": "stderr",
     "output_type": "stream",
     "text": [
      "/opt/conda/lib/python3.12/site-packages/gymnasium/spaces/box.py:305: UserWarning: \u001b[33mWARN: Box high's precision lowered by casting to float32, current high.dtype=float64\u001b[0m\n",
      "  gym.logger.warn(\n"
     ]
    },
    {
     "name": "stdout",
     "output_type": "stream",
     "text": [
      "Iteration No: 49 ended. Search finished for the next optimal point.\n",
      "Time taken: 0.9213\n",
      "Function value obtained: 6.5727\n",
      "Current minimum: 6.2815\n",
      "Iteration No: 50 started. Searching for the next optimal point.\n"
     ]
    },
    {
     "name": "stderr",
     "output_type": "stream",
     "text": [
      "/opt/conda/lib/python3.12/site-packages/gymnasium/spaces/box.py:305: UserWarning: \u001b[33mWARN: Box high's precision lowered by casting to float32, current high.dtype=float64\u001b[0m\n",
      "  gym.logger.warn(\n"
     ]
    },
    {
     "name": "stdout",
     "output_type": "stream",
     "text": [
      "Iteration No: 50 ended. Search finished for the next optimal point.\n",
      "Time taken: 0.8780\n",
      "Function value obtained: 6.4600\n",
      "Current minimum: 6.2815\n",
      "Iteration No: 51 started. Searching for the next optimal point.\n"
     ]
    },
    {
     "name": "stderr",
     "output_type": "stream",
     "text": [
      "/opt/conda/lib/python3.12/site-packages/gymnasium/spaces/box.py:305: UserWarning: \u001b[33mWARN: Box high's precision lowered by casting to float32, current high.dtype=float64\u001b[0m\n",
      "  gym.logger.warn(\n"
     ]
    },
    {
     "name": "stdout",
     "output_type": "stream",
     "text": [
      "Iteration No: 51 ended. Search finished for the next optimal point.\n",
      "Time taken: 0.9944\n",
      "Function value obtained: 12.3313\n",
      "Current minimum: 6.2815\n",
      "Iteration No: 52 started. Searching for the next optimal point.\n"
     ]
    },
    {
     "name": "stderr",
     "output_type": "stream",
     "text": [
      "/opt/conda/lib/python3.12/site-packages/gymnasium/spaces/box.py:305: UserWarning: \u001b[33mWARN: Box high's precision lowered by casting to float32, current high.dtype=float64\u001b[0m\n",
      "  gym.logger.warn(\n"
     ]
    },
    {
     "name": "stdout",
     "output_type": "stream",
     "text": [
      "Iteration No: 52 ended. Search finished for the next optimal point.\n",
      "Time taken: 0.9152\n",
      "Function value obtained: 6.7178\n",
      "Current minimum: 6.2815\n",
      "Iteration No: 53 started. Searching for the next optimal point.\n"
     ]
    },
    {
     "name": "stderr",
     "output_type": "stream",
     "text": [
      "/opt/conda/lib/python3.12/site-packages/gymnasium/spaces/box.py:305: UserWarning: \u001b[33mWARN: Box high's precision lowered by casting to float32, current high.dtype=float64\u001b[0m\n",
      "  gym.logger.warn(\n"
     ]
    },
    {
     "name": "stdout",
     "output_type": "stream",
     "text": [
      "Iteration No: 53 ended. Search finished for the next optimal point.\n",
      "Time taken: 1.0371\n",
      "Function value obtained: 6.6227\n",
      "Current minimum: 6.2815\n",
      "Iteration No: 54 started. Searching for the next optimal point.\n"
     ]
    },
    {
     "name": "stderr",
     "output_type": "stream",
     "text": [
      "/opt/conda/lib/python3.12/site-packages/gymnasium/spaces/box.py:305: UserWarning: \u001b[33mWARN: Box high's precision lowered by casting to float32, current high.dtype=float64\u001b[0m\n",
      "  gym.logger.warn(\n"
     ]
    },
    {
     "name": "stdout",
     "output_type": "stream",
     "text": [
      "Iteration No: 54 ended. Search finished for the next optimal point.\n",
      "Time taken: 0.9350\n",
      "Function value obtained: 6.8540\n",
      "Current minimum: 6.2815\n",
      "Iteration No: 55 started. Searching for the next optimal point.\n"
     ]
    },
    {
     "name": "stderr",
     "output_type": "stream",
     "text": [
      "/opt/conda/lib/python3.12/site-packages/gymnasium/spaces/box.py:305: UserWarning: \u001b[33mWARN: Box high's precision lowered by casting to float32, current high.dtype=float64\u001b[0m\n",
      "  gym.logger.warn(\n"
     ]
    },
    {
     "name": "stdout",
     "output_type": "stream",
     "text": [
      "Iteration No: 55 ended. Search finished for the next optimal point.\n",
      "Time taken: 0.8641\n",
      "Function value obtained: 6.2260\n",
      "Current minimum: 6.2260\n",
      "Iteration No: 56 started. Searching for the next optimal point.\n"
     ]
    },
    {
     "name": "stderr",
     "output_type": "stream",
     "text": [
      "/opt/conda/lib/python3.12/site-packages/gymnasium/spaces/box.py:305: UserWarning: \u001b[33mWARN: Box high's precision lowered by casting to float32, current high.dtype=float64\u001b[0m\n",
      "  gym.logger.warn(\n"
     ]
    },
    {
     "name": "stdout",
     "output_type": "stream",
     "text": [
      "Iteration No: 56 ended. Search finished for the next optimal point.\n",
      "Time taken: 0.9184\n",
      "Function value obtained: 6.1814\n",
      "Current minimum: 6.1814\n",
      "Iteration No: 57 started. Searching for the next optimal point.\n"
     ]
    },
    {
     "name": "stderr",
     "output_type": "stream",
     "text": [
      "/opt/conda/lib/python3.12/site-packages/gymnasium/spaces/box.py:305: UserWarning: \u001b[33mWARN: Box high's precision lowered by casting to float32, current high.dtype=float64\u001b[0m\n",
      "  gym.logger.warn(\n"
     ]
    },
    {
     "name": "stdout",
     "output_type": "stream",
     "text": [
      "Iteration No: 57 ended. Search finished for the next optimal point.\n",
      "Time taken: 1.0566\n",
      "Function value obtained: 6.5802\n",
      "Current minimum: 6.1814\n",
      "Iteration No: 58 started. Searching for the next optimal point.\n"
     ]
    },
    {
     "name": "stderr",
     "output_type": "stream",
     "text": [
      "/opt/conda/lib/python3.12/site-packages/gymnasium/spaces/box.py:305: UserWarning: \u001b[33mWARN: Box high's precision lowered by casting to float32, current high.dtype=float64\u001b[0m\n",
      "  gym.logger.warn(\n"
     ]
    },
    {
     "name": "stdout",
     "output_type": "stream",
     "text": [
      "Iteration No: 58 ended. Search finished for the next optimal point.\n",
      "Time taken: 1.0145\n",
      "Function value obtained: 6.2552\n",
      "Current minimum: 6.1814\n",
      "Iteration No: 59 started. Searching for the next optimal point.\n"
     ]
    },
    {
     "name": "stderr",
     "output_type": "stream",
     "text": [
      "/opt/conda/lib/python3.12/site-packages/gymnasium/spaces/box.py:305: UserWarning: \u001b[33mWARN: Box high's precision lowered by casting to float32, current high.dtype=float64\u001b[0m\n",
      "  gym.logger.warn(\n"
     ]
    },
    {
     "name": "stdout",
     "output_type": "stream",
     "text": [
      "Iteration No: 59 ended. Search finished for the next optimal point.\n",
      "Time taken: 0.9353\n",
      "Function value obtained: 9.5018\n",
      "Current minimum: 6.1814\n",
      "Iteration No: 60 started. Searching for the next optimal point.\n"
     ]
    },
    {
     "name": "stderr",
     "output_type": "stream",
     "text": [
      "/opt/conda/lib/python3.12/site-packages/gymnasium/spaces/box.py:305: UserWarning: \u001b[33mWARN: Box high's precision lowered by casting to float32, current high.dtype=float64\u001b[0m\n",
      "  gym.logger.warn(\n"
     ]
    },
    {
     "name": "stdout",
     "output_type": "stream",
     "text": [
      "Iteration No: 60 ended. Search finished for the next optimal point.\n",
      "Time taken: 0.8871\n",
      "Function value obtained: 6.3696\n",
      "Current minimum: 6.1814\n",
      "Iteration No: 61 started. Searching for the next optimal point.\n"
     ]
    },
    {
     "name": "stderr",
     "output_type": "stream",
     "text": [
      "/opt/conda/lib/python3.12/site-packages/gymnasium/spaces/box.py:305: UserWarning: \u001b[33mWARN: Box high's precision lowered by casting to float32, current high.dtype=float64\u001b[0m\n",
      "  gym.logger.warn(\n"
     ]
    },
    {
     "name": "stdout",
     "output_type": "stream",
     "text": [
      "Iteration No: 61 ended. Search finished for the next optimal point.\n",
      "Time taken: 0.9439\n",
      "Function value obtained: 6.3207\n",
      "Current minimum: 6.1814\n",
      "Iteration No: 62 started. Searching for the next optimal point.\n"
     ]
    },
    {
     "name": "stderr",
     "output_type": "stream",
     "text": [
      "/opt/conda/lib/python3.12/site-packages/gymnasium/spaces/box.py:305: UserWarning: \u001b[33mWARN: Box high's precision lowered by casting to float32, current high.dtype=float64\u001b[0m\n",
      "  gym.logger.warn(\n"
     ]
    },
    {
     "name": "stdout",
     "output_type": "stream",
     "text": [
      "Iteration No: 62 ended. Search finished for the next optimal point.\n",
      "Time taken: 0.9803\n",
      "Function value obtained: 6.3726\n",
      "Current minimum: 6.1814\n",
      "Iteration No: 63 started. Searching for the next optimal point.\n"
     ]
    },
    {
     "name": "stderr",
     "output_type": "stream",
     "text": [
      "/opt/conda/lib/python3.12/site-packages/gymnasium/spaces/box.py:305: UserWarning: \u001b[33mWARN: Box high's precision lowered by casting to float32, current high.dtype=float64\u001b[0m\n",
      "  gym.logger.warn(\n"
     ]
    },
    {
     "name": "stdout",
     "output_type": "stream",
     "text": [
      "Iteration No: 63 ended. Search finished for the next optimal point.\n",
      "Time taken: 0.8716\n",
      "Function value obtained: 6.6584\n",
      "Current minimum: 6.1814\n",
      "Iteration No: 64 started. Searching for the next optimal point.\n"
     ]
    },
    {
     "name": "stderr",
     "output_type": "stream",
     "text": [
      "/opt/conda/lib/python3.12/site-packages/gymnasium/spaces/box.py:305: UserWarning: \u001b[33mWARN: Box high's precision lowered by casting to float32, current high.dtype=float64\u001b[0m\n",
      "  gym.logger.warn(\n"
     ]
    },
    {
     "name": "stdout",
     "output_type": "stream",
     "text": [
      "Iteration No: 64 ended. Search finished for the next optimal point.\n",
      "Time taken: 0.9238\n",
      "Function value obtained: 6.3789\n",
      "Current minimum: 6.1814\n",
      "Iteration No: 65 started. Searching for the next optimal point.\n"
     ]
    },
    {
     "name": "stderr",
     "output_type": "stream",
     "text": [
      "/opt/conda/lib/python3.12/site-packages/gymnasium/spaces/box.py:305: UserWarning: \u001b[33mWARN: Box high's precision lowered by casting to float32, current high.dtype=float64\u001b[0m\n",
      "  gym.logger.warn(\n"
     ]
    },
    {
     "name": "stdout",
     "output_type": "stream",
     "text": [
      "Iteration No: 65 ended. Search finished for the next optimal point.\n",
      "Time taken: 0.9112\n",
      "Function value obtained: 12.3904\n",
      "Current minimum: 6.1814\n",
      "Iteration No: 66 started. Searching for the next optimal point.\n"
     ]
    },
    {
     "name": "stderr",
     "output_type": "stream",
     "text": [
      "/opt/conda/lib/python3.12/site-packages/gymnasium/spaces/box.py:305: UserWarning: \u001b[33mWARN: Box high's precision lowered by casting to float32, current high.dtype=float64\u001b[0m\n",
      "  gym.logger.warn(\n"
     ]
    },
    {
     "name": "stdout",
     "output_type": "stream",
     "text": [
      "Iteration No: 66 ended. Search finished for the next optimal point.\n",
      "Time taken: 0.8947\n",
      "Function value obtained: 6.2057\n",
      "Current minimum: 6.1814\n",
      "Iteration No: 67 started. Searching for the next optimal point.\n"
     ]
    },
    {
     "name": "stderr",
     "output_type": "stream",
     "text": [
      "/opt/conda/lib/python3.12/site-packages/gymnasium/spaces/box.py:305: UserWarning: \u001b[33mWARN: Box high's precision lowered by casting to float32, current high.dtype=float64\u001b[0m\n",
      "  gym.logger.warn(\n"
     ]
    },
    {
     "name": "stdout",
     "output_type": "stream",
     "text": [
      "Iteration No: 67 ended. Search finished for the next optimal point.\n",
      "Time taken: 0.9934\n",
      "Function value obtained: 6.4498\n",
      "Current minimum: 6.1814\n",
      "Iteration No: 68 started. Searching for the next optimal point.\n"
     ]
    },
    {
     "name": "stderr",
     "output_type": "stream",
     "text": [
      "/opt/conda/lib/python3.12/site-packages/gymnasium/spaces/box.py:305: UserWarning: \u001b[33mWARN: Box high's precision lowered by casting to float32, current high.dtype=float64\u001b[0m\n",
      "  gym.logger.warn(\n"
     ]
    },
    {
     "name": "stdout",
     "output_type": "stream",
     "text": [
      "Iteration No: 68 ended. Search finished for the next optimal point.\n",
      "Time taken: 1.0228\n",
      "Function value obtained: 6.4158\n",
      "Current minimum: 6.1814\n",
      "Iteration No: 69 started. Searching for the next optimal point.\n"
     ]
    },
    {
     "name": "stderr",
     "output_type": "stream",
     "text": [
      "/opt/conda/lib/python3.12/site-packages/gymnasium/spaces/box.py:305: UserWarning: \u001b[33mWARN: Box high's precision lowered by casting to float32, current high.dtype=float64\u001b[0m\n",
      "  gym.logger.warn(\n"
     ]
    },
    {
     "name": "stdout",
     "output_type": "stream",
     "text": [
      "Iteration No: 69 ended. Search finished for the next optimal point.\n",
      "Time taken: 1.0080\n",
      "Function value obtained: 6.5376\n",
      "Current minimum: 6.1814\n",
      "Iteration No: 70 started. Searching for the next optimal point.\n"
     ]
    },
    {
     "name": "stderr",
     "output_type": "stream",
     "text": [
      "/opt/conda/lib/python3.12/site-packages/gymnasium/spaces/box.py:305: UserWarning: \u001b[33mWARN: Box high's precision lowered by casting to float32, current high.dtype=float64\u001b[0m\n",
      "  gym.logger.warn(\n"
     ]
    },
    {
     "name": "stdout",
     "output_type": "stream",
     "text": [
      "Iteration No: 70 ended. Search finished for the next optimal point.\n",
      "Time taken: 1.0166\n",
      "Function value obtained: 6.2373\n",
      "Current minimum: 6.1814\n",
      "Iteration No: 71 started. Searching for the next optimal point.\n"
     ]
    },
    {
     "name": "stderr",
     "output_type": "stream",
     "text": [
      "/opt/conda/lib/python3.12/site-packages/gymnasium/spaces/box.py:305: UserWarning: \u001b[33mWARN: Box high's precision lowered by casting to float32, current high.dtype=float64\u001b[0m\n",
      "  gym.logger.warn(\n"
     ]
    },
    {
     "name": "stdout",
     "output_type": "stream",
     "text": [
      "Iteration No: 71 ended. Search finished for the next optimal point.\n",
      "Time taken: 1.1049\n",
      "Function value obtained: 6.4519\n",
      "Current minimum: 6.1814\n",
      "Iteration No: 72 started. Searching for the next optimal point.\n"
     ]
    },
    {
     "name": "stderr",
     "output_type": "stream",
     "text": [
      "/opt/conda/lib/python3.12/site-packages/gymnasium/spaces/box.py:305: UserWarning: \u001b[33mWARN: Box high's precision lowered by casting to float32, current high.dtype=float64\u001b[0m\n",
      "  gym.logger.warn(\n"
     ]
    },
    {
     "name": "stdout",
     "output_type": "stream",
     "text": [
      "Iteration No: 72 ended. Search finished for the next optimal point.\n",
      "Time taken: 0.9839\n",
      "Function value obtained: 7.9078\n",
      "Current minimum: 6.1814\n",
      "Iteration No: 73 started. Searching for the next optimal point.\n"
     ]
    },
    {
     "name": "stderr",
     "output_type": "stream",
     "text": [
      "/opt/conda/lib/python3.12/site-packages/gymnasium/spaces/box.py:305: UserWarning: \u001b[33mWARN: Box high's precision lowered by casting to float32, current high.dtype=float64\u001b[0m\n",
      "  gym.logger.warn(\n"
     ]
    },
    {
     "name": "stdout",
     "output_type": "stream",
     "text": [
      "Iteration No: 73 ended. Search finished for the next optimal point.\n",
      "Time taken: 1.0364\n",
      "Function value obtained: 6.5269\n",
      "Current minimum: 6.1814\n",
      "Iteration No: 74 started. Searching for the next optimal point.\n"
     ]
    },
    {
     "name": "stderr",
     "output_type": "stream",
     "text": [
      "/opt/conda/lib/python3.12/site-packages/gymnasium/spaces/box.py:305: UserWarning: \u001b[33mWARN: Box high's precision lowered by casting to float32, current high.dtype=float64\u001b[0m\n",
      "  gym.logger.warn(\n"
     ]
    },
    {
     "name": "stdout",
     "output_type": "stream",
     "text": [
      "Iteration No: 74 ended. Search finished for the next optimal point.\n",
      "Time taken: 1.0728\n",
      "Function value obtained: 6.2489\n",
      "Current minimum: 6.1814\n",
      "Iteration No: 75 started. Searching for the next optimal point.\n"
     ]
    },
    {
     "name": "stderr",
     "output_type": "stream",
     "text": [
      "/opt/conda/lib/python3.12/site-packages/gymnasium/spaces/box.py:305: UserWarning: \u001b[33mWARN: Box high's precision lowered by casting to float32, current high.dtype=float64\u001b[0m\n",
      "  gym.logger.warn(\n"
     ]
    },
    {
     "name": "stdout",
     "output_type": "stream",
     "text": [
      "Iteration No: 75 ended. Search finished for the next optimal point.\n",
      "Time taken: 0.9593\n",
      "Function value obtained: 6.2717\n",
      "Current minimum: 6.1814\n",
      "Iteration No: 76 started. Searching for the next optimal point.\n"
     ]
    },
    {
     "name": "stderr",
     "output_type": "stream",
     "text": [
      "/opt/conda/lib/python3.12/site-packages/gymnasium/spaces/box.py:305: UserWarning: \u001b[33mWARN: Box high's precision lowered by casting to float32, current high.dtype=float64\u001b[0m\n",
      "  gym.logger.warn(\n"
     ]
    },
    {
     "name": "stdout",
     "output_type": "stream",
     "text": [
      "Iteration No: 76 ended. Search finished for the next optimal point.\n",
      "Time taken: 1.1698\n",
      "Function value obtained: 9.9201\n",
      "Current minimum: 6.1814\n",
      "Iteration No: 77 started. Searching for the next optimal point.\n"
     ]
    },
    {
     "name": "stderr",
     "output_type": "stream",
     "text": [
      "/opt/conda/lib/python3.12/site-packages/gymnasium/spaces/box.py:305: UserWarning: \u001b[33mWARN: Box high's precision lowered by casting to float32, current high.dtype=float64\u001b[0m\n",
      "  gym.logger.warn(\n"
     ]
    },
    {
     "name": "stdout",
     "output_type": "stream",
     "text": [
      "Iteration No: 77 ended. Search finished for the next optimal point.\n",
      "Time taken: 1.1292\n",
      "Function value obtained: 6.3433\n",
      "Current minimum: 6.1814\n",
      "Iteration No: 78 started. Searching for the next optimal point.\n"
     ]
    },
    {
     "name": "stderr",
     "output_type": "stream",
     "text": [
      "/opt/conda/lib/python3.12/site-packages/gymnasium/spaces/box.py:305: UserWarning: \u001b[33mWARN: Box high's precision lowered by casting to float32, current high.dtype=float64\u001b[0m\n",
      "  gym.logger.warn(\n"
     ]
    },
    {
     "name": "stdout",
     "output_type": "stream",
     "text": [
      "Iteration No: 78 ended. Search finished for the next optimal point.\n",
      "Time taken: 1.0616\n",
      "Function value obtained: 6.4973\n",
      "Current minimum: 6.1814\n",
      "Iteration No: 79 started. Searching for the next optimal point.\n"
     ]
    },
    {
     "name": "stderr",
     "output_type": "stream",
     "text": [
      "/opt/conda/lib/python3.12/site-packages/gymnasium/spaces/box.py:305: UserWarning: \u001b[33mWARN: Box high's precision lowered by casting to float32, current high.dtype=float64\u001b[0m\n",
      "  gym.logger.warn(\n"
     ]
    },
    {
     "name": "stdout",
     "output_type": "stream",
     "text": [
      "Iteration No: 79 ended. Search finished for the next optimal point.\n",
      "Time taken: 0.9935\n",
      "Function value obtained: 6.4190\n",
      "Current minimum: 6.1814\n",
      "Iteration No: 80 started. Searching for the next optimal point.\n"
     ]
    },
    {
     "name": "stderr",
     "output_type": "stream",
     "text": [
      "/opt/conda/lib/python3.12/site-packages/gymnasium/spaces/box.py:305: UserWarning: \u001b[33mWARN: Box high's precision lowered by casting to float32, current high.dtype=float64\u001b[0m\n",
      "  gym.logger.warn(\n"
     ]
    },
    {
     "name": "stdout",
     "output_type": "stream",
     "text": [
      "Iteration No: 80 ended. Search finished for the next optimal point.\n",
      "Time taken: 1.0547\n",
      "Function value obtained: 8.7413\n",
      "Current minimum: 6.1814\n",
      "Iteration No: 81 started. Searching for the next optimal point.\n"
     ]
    },
    {
     "name": "stderr",
     "output_type": "stream",
     "text": [
      "/opt/conda/lib/python3.12/site-packages/gymnasium/spaces/box.py:305: UserWarning: \u001b[33mWARN: Box high's precision lowered by casting to float32, current high.dtype=float64\u001b[0m\n",
      "  gym.logger.warn(\n"
     ]
    },
    {
     "name": "stdout",
     "output_type": "stream",
     "text": [
      "Iteration No: 81 ended. Search finished for the next optimal point.\n",
      "Time taken: 1.0825\n",
      "Function value obtained: 6.3715\n",
      "Current minimum: 6.1814\n",
      "Iteration No: 82 started. Searching for the next optimal point.\n"
     ]
    },
    {
     "name": "stderr",
     "output_type": "stream",
     "text": [
      "/opt/conda/lib/python3.12/site-packages/gymnasium/spaces/box.py:305: UserWarning: \u001b[33mWARN: Box high's precision lowered by casting to float32, current high.dtype=float64\u001b[0m\n",
      "  gym.logger.warn(\n"
     ]
    },
    {
     "name": "stdout",
     "output_type": "stream",
     "text": [
      "Iteration No: 82 ended. Search finished for the next optimal point.\n",
      "Time taken: 1.1091\n",
      "Function value obtained: 6.3200\n",
      "Current minimum: 6.1814\n",
      "Iteration No: 83 started. Searching for the next optimal point.\n"
     ]
    },
    {
     "name": "stderr",
     "output_type": "stream",
     "text": [
      "/opt/conda/lib/python3.12/site-packages/gymnasium/spaces/box.py:305: UserWarning: \u001b[33mWARN: Box high's precision lowered by casting to float32, current high.dtype=float64\u001b[0m\n",
      "  gym.logger.warn(\n"
     ]
    },
    {
     "name": "stdout",
     "output_type": "stream",
     "text": [
      "Iteration No: 83 ended. Search finished for the next optimal point.\n",
      "Time taken: 1.1119\n",
      "Function value obtained: 6.7228\n",
      "Current minimum: 6.1814\n",
      "Iteration No: 84 started. Searching for the next optimal point.\n"
     ]
    },
    {
     "name": "stderr",
     "output_type": "stream",
     "text": [
      "/opt/conda/lib/python3.12/site-packages/gymnasium/spaces/box.py:305: UserWarning: \u001b[33mWARN: Box high's precision lowered by casting to float32, current high.dtype=float64\u001b[0m\n",
      "  gym.logger.warn(\n"
     ]
    },
    {
     "name": "stdout",
     "output_type": "stream",
     "text": [
      "Iteration No: 84 ended. Search finished for the next optimal point.\n",
      "Time taken: 1.1083\n",
      "Function value obtained: 6.4256\n",
      "Current minimum: 6.1814\n",
      "Iteration No: 85 started. Searching for the next optimal point.\n"
     ]
    },
    {
     "name": "stderr",
     "output_type": "stream",
     "text": [
      "/opt/conda/lib/python3.12/site-packages/gymnasium/spaces/box.py:305: UserWarning: \u001b[33mWARN: Box high's precision lowered by casting to float32, current high.dtype=float64\u001b[0m\n",
      "  gym.logger.warn(\n"
     ]
    },
    {
     "name": "stdout",
     "output_type": "stream",
     "text": [
      "Iteration No: 85 ended. Search finished for the next optimal point.\n",
      "Time taken: 1.1190\n",
      "Function value obtained: 6.4597\n",
      "Current minimum: 6.1814\n",
      "Iteration No: 86 started. Searching for the next optimal point.\n"
     ]
    },
    {
     "name": "stderr",
     "output_type": "stream",
     "text": [
      "/opt/conda/lib/python3.12/site-packages/gymnasium/spaces/box.py:305: UserWarning: \u001b[33mWARN: Box high's precision lowered by casting to float32, current high.dtype=float64\u001b[0m\n",
      "  gym.logger.warn(\n"
     ]
    },
    {
     "name": "stdout",
     "output_type": "stream",
     "text": [
      "Iteration No: 86 ended. Search finished for the next optimal point.\n",
      "Time taken: 1.0819\n",
      "Function value obtained: 6.6617\n",
      "Current minimum: 6.1814\n",
      "Iteration No: 87 started. Searching for the next optimal point.\n"
     ]
    },
    {
     "name": "stderr",
     "output_type": "stream",
     "text": [
      "/opt/conda/lib/python3.12/site-packages/gymnasium/spaces/box.py:305: UserWarning: \u001b[33mWARN: Box high's precision lowered by casting to float32, current high.dtype=float64\u001b[0m\n",
      "  gym.logger.warn(\n"
     ]
    },
    {
     "name": "stdout",
     "output_type": "stream",
     "text": [
      "Iteration No: 87 ended. Search finished for the next optimal point.\n",
      "Time taken: 1.0779\n",
      "Function value obtained: 6.3720\n",
      "Current minimum: 6.1814\n",
      "Iteration No: 88 started. Searching for the next optimal point.\n"
     ]
    },
    {
     "name": "stderr",
     "output_type": "stream",
     "text": [
      "/opt/conda/lib/python3.12/site-packages/gymnasium/spaces/box.py:305: UserWarning: \u001b[33mWARN: Box high's precision lowered by casting to float32, current high.dtype=float64\u001b[0m\n",
      "  gym.logger.warn(\n"
     ]
    },
    {
     "name": "stdout",
     "output_type": "stream",
     "text": [
      "Iteration No: 88 ended. Search finished for the next optimal point.\n",
      "Time taken: 1.0987\n",
      "Function value obtained: 6.3388\n",
      "Current minimum: 6.1814\n",
      "Iteration No: 89 started. Searching for the next optimal point.\n"
     ]
    },
    {
     "name": "stderr",
     "output_type": "stream",
     "text": [
      "/opt/conda/lib/python3.12/site-packages/gymnasium/spaces/box.py:305: UserWarning: \u001b[33mWARN: Box high's precision lowered by casting to float32, current high.dtype=float64\u001b[0m\n",
      "  gym.logger.warn(\n"
     ]
    },
    {
     "name": "stdout",
     "output_type": "stream",
     "text": [
      "Iteration No: 89 ended. Search finished for the next optimal point.\n",
      "Time taken: 1.2122\n",
      "Function value obtained: 6.3955\n",
      "Current minimum: 6.1814\n",
      "Iteration No: 90 started. Searching for the next optimal point.\n"
     ]
    },
    {
     "name": "stderr",
     "output_type": "stream",
     "text": [
      "/opt/conda/lib/python3.12/site-packages/gymnasium/spaces/box.py:305: UserWarning: \u001b[33mWARN: Box high's precision lowered by casting to float32, current high.dtype=float64\u001b[0m\n",
      "  gym.logger.warn(\n"
     ]
    },
    {
     "name": "stdout",
     "output_type": "stream",
     "text": [
      "Iteration No: 90 ended. Search finished for the next optimal point.\n",
      "Time taken: 1.3199\n",
      "Function value obtained: 6.4678\n",
      "Current minimum: 6.1814\n",
      "Iteration No: 91 started. Searching for the next optimal point.\n"
     ]
    },
    {
     "name": "stderr",
     "output_type": "stream",
     "text": [
      "/opt/conda/lib/python3.12/site-packages/gymnasium/spaces/box.py:305: UserWarning: \u001b[33mWARN: Box high's precision lowered by casting to float32, current high.dtype=float64\u001b[0m\n",
      "  gym.logger.warn(\n"
     ]
    },
    {
     "name": "stdout",
     "output_type": "stream",
     "text": [
      "Iteration No: 91 ended. Search finished for the next optimal point.\n",
      "Time taken: 1.3750\n",
      "Function value obtained: 6.2524\n",
      "Current minimum: 6.1814\n",
      "Iteration No: 92 started. Searching for the next optimal point.\n"
     ]
    },
    {
     "name": "stderr",
     "output_type": "stream",
     "text": [
      "/opt/conda/lib/python3.12/site-packages/gymnasium/spaces/box.py:305: UserWarning: \u001b[33mWARN: Box high's precision lowered by casting to float32, current high.dtype=float64\u001b[0m\n",
      "  gym.logger.warn(\n"
     ]
    },
    {
     "name": "stdout",
     "output_type": "stream",
     "text": [
      "Iteration No: 92 ended. Search finished for the next optimal point.\n",
      "Time taken: 1.2893\n",
      "Function value obtained: 6.3117\n",
      "Current minimum: 6.1814\n",
      "Iteration No: 93 started. Searching for the next optimal point.\n"
     ]
    },
    {
     "name": "stderr",
     "output_type": "stream",
     "text": [
      "/opt/conda/lib/python3.12/site-packages/gymnasium/spaces/box.py:305: UserWarning: \u001b[33mWARN: Box high's precision lowered by casting to float32, current high.dtype=float64\u001b[0m\n",
      "  gym.logger.warn(\n"
     ]
    },
    {
     "name": "stdout",
     "output_type": "stream",
     "text": [
      "Iteration No: 93 ended. Search finished for the next optimal point.\n",
      "Time taken: 1.3484\n",
      "Function value obtained: 6.2082\n",
      "Current minimum: 6.1814\n",
      "Iteration No: 94 started. Searching for the next optimal point.\n"
     ]
    },
    {
     "name": "stderr",
     "output_type": "stream",
     "text": [
      "/opt/conda/lib/python3.12/site-packages/gymnasium/spaces/box.py:305: UserWarning: \u001b[33mWARN: Box high's precision lowered by casting to float32, current high.dtype=float64\u001b[0m\n",
      "  gym.logger.warn(\n"
     ]
    },
    {
     "name": "stdout",
     "output_type": "stream",
     "text": [
      "Iteration No: 94 ended. Search finished for the next optimal point.\n",
      "Time taken: 1.3912\n",
      "Function value obtained: 6.4072\n",
      "Current minimum: 6.1814\n",
      "Iteration No: 95 started. Searching for the next optimal point.\n"
     ]
    },
    {
     "name": "stderr",
     "output_type": "stream",
     "text": [
      "/opt/conda/lib/python3.12/site-packages/gymnasium/spaces/box.py:305: UserWarning: \u001b[33mWARN: Box high's precision lowered by casting to float32, current high.dtype=float64\u001b[0m\n",
      "  gym.logger.warn(\n"
     ]
    },
    {
     "name": "stdout",
     "output_type": "stream",
     "text": [
      "Iteration No: 95 ended. Search finished for the next optimal point.\n",
      "Time taken: 1.4103\n",
      "Function value obtained: 6.2059\n",
      "Current minimum: 6.1814\n",
      "Iteration No: 96 started. Searching for the next optimal point.\n"
     ]
    },
    {
     "name": "stderr",
     "output_type": "stream",
     "text": [
      "/opt/conda/lib/python3.12/site-packages/gymnasium/spaces/box.py:305: UserWarning: \u001b[33mWARN: Box high's precision lowered by casting to float32, current high.dtype=float64\u001b[0m\n",
      "  gym.logger.warn(\n"
     ]
    },
    {
     "name": "stdout",
     "output_type": "stream",
     "text": [
      "Iteration No: 96 ended. Search finished for the next optimal point.\n",
      "Time taken: 1.3852\n",
      "Function value obtained: 6.3034\n",
      "Current minimum: 6.1814\n",
      "Iteration No: 97 started. Searching for the next optimal point.\n"
     ]
    },
    {
     "name": "stderr",
     "output_type": "stream",
     "text": [
      "/opt/conda/lib/python3.12/site-packages/gymnasium/spaces/box.py:305: UserWarning: \u001b[33mWARN: Box high's precision lowered by casting to float32, current high.dtype=float64\u001b[0m\n",
      "  gym.logger.warn(\n"
     ]
    },
    {
     "name": "stdout",
     "output_type": "stream",
     "text": [
      "Iteration No: 97 ended. Search finished for the next optimal point.\n",
      "Time taken: 1.4291\n",
      "Function value obtained: 6.2968\n",
      "Current minimum: 6.1814\n",
      "Iteration No: 98 started. Searching for the next optimal point.\n"
     ]
    },
    {
     "name": "stderr",
     "output_type": "stream",
     "text": [
      "/opt/conda/lib/python3.12/site-packages/gymnasium/spaces/box.py:305: UserWarning: \u001b[33mWARN: Box high's precision lowered by casting to float32, current high.dtype=float64\u001b[0m\n",
      "  gym.logger.warn(\n"
     ]
    },
    {
     "name": "stdout",
     "output_type": "stream",
     "text": [
      "Iteration No: 98 ended. Search finished for the next optimal point.\n",
      "Time taken: 1.4213\n",
      "Function value obtained: 6.3014\n",
      "Current minimum: 6.1814\n",
      "Iteration No: 99 started. Searching for the next optimal point.\n"
     ]
    },
    {
     "name": "stderr",
     "output_type": "stream",
     "text": [
      "/opt/conda/lib/python3.12/site-packages/gymnasium/spaces/box.py:305: UserWarning: \u001b[33mWARN: Box high's precision lowered by casting to float32, current high.dtype=float64\u001b[0m\n",
      "  gym.logger.warn(\n"
     ]
    },
    {
     "name": "stdout",
     "output_type": "stream",
     "text": [
      "Iteration No: 99 ended. Search finished for the next optimal point.\n",
      "Time taken: 1.3442\n",
      "Function value obtained: 6.4291\n",
      "Current minimum: 6.1814\n",
      "Iteration No: 100 started. Searching for the next optimal point.\n"
     ]
    },
    {
     "name": "stderr",
     "output_type": "stream",
     "text": [
      "/opt/conda/lib/python3.12/site-packages/gymnasium/spaces/box.py:305: UserWarning: \u001b[33mWARN: Box high's precision lowered by casting to float32, current high.dtype=float64\u001b[0m\n",
      "  gym.logger.warn(\n"
     ]
    },
    {
     "name": "stdout",
     "output_type": "stream",
     "text": [
      "Iteration No: 100 ended. Search finished for the next optimal point.\n",
      "Time taken: 1.4610\n",
      "Function value obtained: 6.4475\n",
      "Current minimum: 6.1814\n",
      "CPU times: user 50min 5s, sys: 9.76 s, total: 50min 15s\n",
      "Wall time: 1min 45s\n"
     ]
    },
    {
     "data": {
      "text/plain": [
       "[234.1763524346601, 943.2079115173758, 0.0]"
      ]
     },
     "execution_count": 4,
     "metadata": {},
     "output_type": "execute_result"
    }
   ],
   "source": [
    "%%time\n",
    "max_action = 3000\n",
    "res = gp_minimize(evaluateConstAct, 3*[(0.0, max_action)], n_calls = 100, verbose=True)\n",
    "res.x"
   ]
  },
  {
   "cell_type": "code",
   "execution_count": 4,
   "id": "c8634cea-8f5c-42e1-98ae-4c7ab75eb115",
   "metadata": {},
   "outputs": [
    {
     "name": "stderr",
     "output_type": "stream",
     "text": [
      "/opt/conda/lib/python3.12/site-packages/gymnasium/spaces/box.py:305: UserWarning: \u001b[33mWARN: Box high's precision lowered by casting to float32, current high.dtype=float64\u001b[0m\n",
      "  gym.logger.warn(\n",
      "2025-06-21 05:16:20,188\tINFO worker.py:1917 -- Started a local Ray instance.\n"
     ]
    },
    {
     "data": {
      "text/plain": [
       "6.300109327542129"
      ]
     },
     "execution_count": 4,
     "metadata": {},
     "output_type": "execute_result"
    }
   ],
   "source": [
    "# with nonNormalized env\n",
    "evaluateConstAct(\n",
    "    [234.1763524346601, 943.2079115173758, 0.0]\n",
    ")"
   ]
  },
  {
   "cell_type": "code",
   "execution_count": 5,
   "id": "6c67eced-2308-4d2d-95bf-f5024bc5175d",
   "metadata": {},
   "outputs": [],
   "source": [
    "import ray\n",
    "ray.shutdown()"
   ]
  },
  {
   "cell_type": "code",
   "execution_count": 6,
   "id": "46694fd6-05c5-47a7-ba0d-aa6ec1225cf2",
   "metadata": {},
   "outputs": [
    {
     "name": "stderr",
     "output_type": "stream",
     "text": [
      "/opt/conda/lib/python3.12/site-packages/gymnasium/spaces/box.py:305: UserWarning: \u001b[33mWARN: Box high's precision lowered by casting to float32, current high.dtype=float64\u001b[0m\n",
      "  gym.logger.warn(\n"
     ]
    },
    {
     "data": {
      "text/html": [
       "<div>\n",
       "<style scoped>\n",
       "    .dataframe tbody tr th:only-of-type {\n",
       "        vertical-align: middle;\n",
       "    }\n",
       "\n",
       "    .dataframe tbody tr th {\n",
       "        vertical-align: top;\n",
       "    }\n",
       "\n",
       "    .dataframe thead th {\n",
       "        text-align: right;\n",
       "    }\n",
       "</style>\n",
       "<table border=\"1\" class=\"dataframe\">\n",
       "  <thead>\n",
       "    <tr style=\"text-align: right;\">\n",
       "      <th></th>\n",
       "      <th>t</th>\n",
       "      <th>obs0</th>\n",
       "      <th>obs1</th>\n",
       "      <th>act0</th>\n",
       "      <th>act1</th>\n",
       "      <th>act2</th>\n",
       "      <th>rew</th>\n",
       "      <th>rep</th>\n",
       "    </tr>\n",
       "  </thead>\n",
       "  <tbody>\n",
       "    <tr>\n",
       "      <th>0</th>\n",
       "      <td>0</td>\n",
       "      <td>0.0</td>\n",
       "      <td>0.0</td>\n",
       "      <td>234.176352</td>\n",
       "      <td>943.207912</td>\n",
       "      <td>0.0</td>\n",
       "      <td>0.000000</td>\n",
       "      <td>0</td>\n",
       "    </tr>\n",
       "    <tr>\n",
       "      <th>1</th>\n",
       "      <td>1</td>\n",
       "      <td>0.0</td>\n",
       "      <td>0.0</td>\n",
       "      <td>234.176352</td>\n",
       "      <td>943.207912</td>\n",
       "      <td>0.0</td>\n",
       "      <td>-0.031458</td>\n",
       "      <td>0</td>\n",
       "    </tr>\n",
       "    <tr>\n",
       "      <th>2</th>\n",
       "      <td>2</td>\n",
       "      <td>0.0</td>\n",
       "      <td>0.0</td>\n",
       "      <td>234.176352</td>\n",
       "      <td>943.207912</td>\n",
       "      <td>0.0</td>\n",
       "      <td>-0.062916</td>\n",
       "      <td>0</td>\n",
       "    </tr>\n",
       "    <tr>\n",
       "      <th>3</th>\n",
       "      <td>3</td>\n",
       "      <td>0.0</td>\n",
       "      <td>0.0</td>\n",
       "      <td>234.176352</td>\n",
       "      <td>943.207912</td>\n",
       "      <td>0.0</td>\n",
       "      <td>-0.094375</td>\n",
       "      <td>0</td>\n",
       "    </tr>\n",
       "    <tr>\n",
       "      <th>4</th>\n",
       "      <td>4</td>\n",
       "      <td>0.0</td>\n",
       "      <td>0.0</td>\n",
       "      <td>234.176352</td>\n",
       "      <td>943.207912</td>\n",
       "      <td>0.0</td>\n",
       "      <td>-0.125833</td>\n",
       "      <td>0</td>\n",
       "    </tr>\n",
       "  </tbody>\n",
       "</table>\n",
       "</div>"
      ],
      "text/plain": [
       "   t  obs0  obs1        act0        act1  act2       rew  rep\n",
       "0  0   0.0   0.0  234.176352  943.207912   0.0  0.000000    0\n",
       "1  1   0.0   0.0  234.176352  943.207912   0.0 -0.031458    0\n",
       "2  2   0.0   0.0  234.176352  943.207912   0.0 -0.062916    0\n",
       "3  3   0.0   0.0  234.176352  943.207912   0.0 -0.094375    0\n",
       "4  4   0.0   0.0  234.176352  943.207912   0.0 -0.125833    0"
      ]
     },
     "execution_count": 6,
     "metadata": {},
     "output_type": "execute_result"
    }
   ],
   "source": [
    "env = greenCrabMonthEnv(config)\n",
    "agent = multiConstAction(env=env, action=np.array([234.1763524346601, 943.2079115173758, 0.0]))\n",
    "constantData = simulator(env = env, agent = agent).simulate_full_named_dict_obs_acts()\n",
    "constantDataDF = pd.DataFrame(constantData)\n",
    "constantDataDF.head()"
   ]
  },
  {
   "cell_type": "code",
   "execution_count": 7,
   "id": "f89b76f7-3786-4e7c-a357-de689969ad69",
   "metadata": {},
   "outputs": [
    {
     "data": {
      "text/plain": [
       "<Axes: xlabel='t'>"
      ]
     },
     "execution_count": 7,
     "metadata": {},
     "output_type": "execute_result"
    },
    {
     "data": {
      "image/png": "[encoded data removed]",
      "text/plain": [
       "<Figure size 640x480 with 1 Axes>"
      ]
     },
     "metadata": {},
     "output_type": "display_data"
    }
   ],
   "source": [
    "constantDataDF[constantDataDF.rep == 0].plot(x='t', y =['obs0'])"
   ]
  },
  {
   "cell_type": "code",
   "execution_count": 8,
   "id": "9487aaa9-06fd-4dd0-94f9-072822510ade",
   "metadata": {},
   "outputs": [
    {
     "data": {
      "text/html": [
       "<div>\n",
       "<style scoped>\n",
       "    .dataframe tbody tr th:only-of-type {\n",
       "        vertical-align: middle;\n",
       "    }\n",
       "\n",
       "    .dataframe tbody tr th {\n",
       "        vertical-align: top;\n",
       "    }\n",
       "\n",
       "    .dataframe thead th {\n",
       "        text-align: right;\n",
       "    }\n",
       "</style>\n",
       "<table border=\"1\" class=\"dataframe\">\n",
       "  <thead>\n",
       "    <tr style=\"text-align: right;\">\n",
       "      <th></th>\n",
       "      <th>t</th>\n",
       "      <th>obs0</th>\n",
       "      <th>obs1</th>\n",
       "      <th>act0</th>\n",
       "      <th>act1</th>\n",
       "      <th>act2</th>\n",
       "      <th>rew</th>\n",
       "      <th>rep</th>\n",
       "      <th>crab_pop</th>\n",
       "    </tr>\n",
       "  </thead>\n",
       "  <tbody>\n",
       "    <tr>\n",
       "      <th>0</th>\n",
       "      <td>0</td>\n",
       "      <td>0.0</td>\n",
       "      <td>0.0</td>\n",
       "      <td>0.0</td>\n",
       "      <td>0.0</td>\n",
       "      <td>0.0</td>\n",
       "      <td>0.000000</td>\n",
       "      <td>0</td>\n",
       "      <td>[0.0002598560294824107, 0.004307844136430026, ...</td>\n",
       "    </tr>\n",
       "    <tr>\n",
       "      <th>1</th>\n",
       "      <td>1</td>\n",
       "      <td>0.0</td>\n",
       "      <td>0.0</td>\n",
       "      <td>0.0</td>\n",
       "      <td>0.0</td>\n",
       "      <td>0.0</td>\n",
       "      <td>-0.258254</td>\n",
       "      <td>0</td>\n",
       "      <td>[3.388442265121167e-12, 7.029325152444069e-07,...</td>\n",
       "    </tr>\n",
       "    <tr>\n",
       "      <th>2</th>\n",
       "      <td>2</td>\n",
       "      <td>0.0</td>\n",
       "      <td>0.0</td>\n",
       "      <td>0.0</td>\n",
       "      <td>0.0</td>\n",
       "      <td>0.0</td>\n",
       "      <td>-0.522083</td>\n",
       "      <td>0</td>\n",
       "      <td>[4.4845403811843764e-18, 3.763792122035883e-11...</td>\n",
       "    </tr>\n",
       "    <tr>\n",
       "      <th>3</th>\n",
       "      <td>3</td>\n",
       "      <td>0.0</td>\n",
       "      <td>0.0</td>\n",
       "      <td>0.0</td>\n",
       "      <td>0.0</td>\n",
       "      <td>0.0</td>\n",
       "      <td>-0.786873</td>\n",
       "      <td>0</td>\n",
       "      <td>[8.969081115005298e-19, 7.52759654217566e-12, ...</td>\n",
       "    </tr>\n",
       "    <tr>\n",
       "      <th>4</th>\n",
       "      <td>4</td>\n",
       "      <td>0.0</td>\n",
       "      <td>0.0</td>\n",
       "      <td>0.0</td>\n",
       "      <td>0.0</td>\n",
       "      <td>0.0</td>\n",
       "      <td>-1.051833</td>\n",
       "      <td>0</td>\n",
       "      <td>[3.5263654548988596e-26, 1.2298103500697757e-1...</td>\n",
       "    </tr>\n",
       "  </tbody>\n",
       "</table>\n",
       "</div>"
      ],
      "text/plain": [
       "   t  obs0  obs1  act0  act1  act2       rew  rep  \\\n",
       "0  0   0.0   0.0   0.0   0.0   0.0  0.000000    0   \n",
       "1  1   0.0   0.0   0.0   0.0   0.0 -0.258254    0   \n",
       "2  2   0.0   0.0   0.0   0.0   0.0 -0.522083    0   \n",
       "3  3   0.0   0.0   0.0   0.0   0.0 -0.786873    0   \n",
       "4  4   0.0   0.0   0.0   0.0   0.0 -1.051833    0   \n",
       "\n",
       "                                            crab_pop  \n",
       "0  [0.0002598560294824107, 0.004307844136430026, ...  \n",
       "1  [3.388442265121167e-12, 7.029325152444069e-07,...  \n",
       "2  [4.4845403811843764e-18, 3.763792122035883e-11...  \n",
       "3  [8.969081115005298e-19, 7.52759654217566e-12, ...  \n",
       "4  [3.5263654548988596e-26, 1.2298103500697757e-1...  "
      ]
     },
     "execution_count": 8,
     "metadata": {},
     "output_type": "execute_result"
    }
   ],
   "source": [
    "agent = multiConstAction(env=env, action=np.array([0.0, 0, 0.0]))\n",
    "constantData = environment_simulation(env, agent)\n",
    "constantDataDF = pd.DataFrame(constantData)\n",
    "constantDataDF.head()"
   ]
  },
  {
   "cell_type": "code",
   "execution_count": 9,
   "id": "cf24a058-3436-4964-bdfd-92e884b8f11a",
   "metadata": {},
   "outputs": [
    {
     "data": {
      "text/html": [
       "<div>\n",
       "<style scoped>\n",
       "    .dataframe tbody tr th:only-of-type {\n",
       "        vertical-align: middle;\n",
       "    }\n",
       "\n",
       "    .dataframe tbody tr th {\n",
       "        vertical-align: top;\n",
       "    }\n",
       "\n",
       "    .dataframe thead th {\n",
       "        text-align: right;\n",
       "    }\n",
       "</style>\n",
       "<table border=\"1\" class=\"dataframe\">\n",
       "  <thead>\n",
       "    <tr style=\"text-align: right;\">\n",
       "      <th></th>\n",
       "      <th>crab_pop_0</th>\n",
       "      <th>crab_pop_1</th>\n",
       "      <th>crab_pop_2</th>\n",
       "      <th>crab_pop_3</th>\n",
       "      <th>crab_pop_4</th>\n",
       "      <th>crab_pop_5</th>\n",
       "      <th>crab_pop_6</th>\n",
       "      <th>crab_pop_7</th>\n",
       "      <th>crab_pop_8</th>\n",
       "      <th>crab_pop_9</th>\n",
       "      <th>...</th>\n",
       "      <th>crab_pop_12</th>\n",
       "      <th>crab_pop_13</th>\n",
       "      <th>crab_pop_14</th>\n",
       "      <th>crab_pop_15</th>\n",
       "      <th>crab_pop_16</th>\n",
       "      <th>crab_pop_17</th>\n",
       "      <th>crab_pop_18</th>\n",
       "      <th>crab_pop_19</th>\n",
       "      <th>crab_pop_20</th>\n",
       "      <th>t</th>\n",
       "    </tr>\n",
       "  </thead>\n",
       "  <tbody>\n",
       "    <tr>\n",
       "      <th>0</th>\n",
       "      <td>2.598560e-04</td>\n",
       "      <td>4.307844e-03</td>\n",
       "      <td>4.921121e-02</td>\n",
       "      <td>0.387660</td>\n",
       "      <td>2.107241</td>\n",
       "      <td>7.908961</td>\n",
       "      <td>20.506623</td>\n",
       "      <td>36.746259</td>\n",
       "      <td>45.518556</td>\n",
       "      <td>38.981839</td>\n",
       "      <td>...</td>\n",
       "      <td>2.669452</td>\n",
       "      <td>0.521091</td>\n",
       "      <td>0.070198</td>\n",
       "      <td>0.006522</td>\n",
       "      <td>0.000418</td>\n",
       "      <td>0.000018</td>\n",
       "      <td>5.587596e-07</td>\n",
       "      <td>1.166134e-08</td>\n",
       "      <td>1.672906e-10</td>\n",
       "      <td>0</td>\n",
       "    </tr>\n",
       "    <tr>\n",
       "      <th>1</th>\n",
       "      <td>3.388442e-12</td>\n",
       "      <td>7.029325e-07</td>\n",
       "      <td>3.095431e-03</td>\n",
       "      <td>0.424451</td>\n",
       "      <td>10.526237</td>\n",
       "      <td>116.367106</td>\n",
       "      <td>683.975693</td>\n",
       "      <td>2197.779767</td>\n",
       "      <td>4003.938659</td>\n",
       "      <td>4450.219581</td>\n",
       "      <td>...</td>\n",
       "      <td>515.216841</td>\n",
       "      <td>130.342672</td>\n",
       "      <td>45.400893</td>\n",
       "      <td>23.189408</td>\n",
       "      <td>10.628582</td>\n",
       "      <td>3.525707</td>\n",
       "      <td>5.646722e-01</td>\n",
       "      <td>8.657805e-03</td>\n",
       "      <td>3.727925e-06</td>\n",
       "      <td>1</td>\n",
       "    </tr>\n",
       "    <tr>\n",
       "      <th>2</th>\n",
       "      <td>4.484540e-18</td>\n",
       "      <td>3.763792e-11</td>\n",
       "      <td>6.259693e-06</td>\n",
       "      <td>0.022169</td>\n",
       "      <td>2.323185</td>\n",
       "      <td>35.956845</td>\n",
       "      <td>265.711810</td>\n",
       "      <td>1115.187543</td>\n",
       "      <td>2754.142060</td>\n",
       "      <td>4151.070677</td>\n",
       "      <td>...</td>\n",
       "      <td>1120.703374</td>\n",
       "      <td>334.471146</td>\n",
       "      <td>86.826430</td>\n",
       "      <td>32.381663</td>\n",
       "      <td>13.494420</td>\n",
       "      <td>4.522775</td>\n",
       "      <td>8.320258e-01</td>\n",
       "      <td>1.297871e-02</td>\n",
       "      <td>5.591796e-06</td>\n",
       "      <td>2</td>\n",
       "    </tr>\n",
       "    <tr>\n",
       "      <th>3</th>\n",
       "      <td>8.969081e-19</td>\n",
       "      <td>7.527597e-12</td>\n",
       "      <td>1.252021e-06</td>\n",
       "      <td>0.004445</td>\n",
       "      <td>0.496158</td>\n",
       "      <td>10.029920</td>\n",
       "      <td>96.968886</td>\n",
       "      <td>519.679299</td>\n",
       "      <td>1652.998861</td>\n",
       "      <td>3258.798255</td>\n",
       "      <td>...</td>\n",
       "      <td>1923.329043</td>\n",
       "      <td>737.305200</td>\n",
       "      <td>206.867286</td>\n",
       "      <td>55.752558</td>\n",
       "      <td>19.542204</td>\n",
       "      <td>6.720702</td>\n",
       "      <td>1.123335e+00</td>\n",
       "      <td>1.731241e-02</td>\n",
       "      <td>7.455814e-06</td>\n",
       "      <td>3</td>\n",
       "    </tr>\n",
       "    <tr>\n",
       "      <th>4</th>\n",
       "      <td>3.526365e-26</td>\n",
       "      <td>1.229810e-17</td>\n",
       "      <td>8.256767e-11</td>\n",
       "      <td>0.000011</td>\n",
       "      <td>0.031458</td>\n",
       "      <td>2.693294</td>\n",
       "      <td>34.230088</td>\n",
       "      <td>227.643641</td>\n",
       "      <td>903.938509</td>\n",
       "      <td>2242.889487</td>\n",
       "      <td>...</td>\n",
       "      <td>2735.370151</td>\n",
       "      <td>1329.919834</td>\n",
       "      <td>454.490004</td>\n",
       "      <td>118.830345</td>\n",
       "      <td>32.491409</td>\n",
       "      <td>10.101468</td>\n",
       "      <td>2.348487e+00</td>\n",
       "      <td>2.527383e-01</td>\n",
       "      <td>3.088216e-03</td>\n",
       "      <td>4</td>\n",
       "    </tr>\n",
       "  </tbody>\n",
       "</table>\n",
       "<p>5 rows × 22 columns</p>\n",
       "</div>"
      ],
      "text/plain": [
       "     crab_pop_0    crab_pop_1    crab_pop_2  crab_pop_3  crab_pop_4  \\\n",
       "0  2.598560e-04  4.307844e-03  4.921121e-02    0.387660    2.107241   \n",
       "1  3.388442e-12  7.029325e-07  3.095431e-03    0.424451   10.526237   \n",
       "2  4.484540e-18  3.763792e-11  6.259693e-06    0.022169    2.323185   \n",
       "3  8.969081e-19  7.527597e-12  1.252021e-06    0.004445    0.496158   \n",
       "4  3.526365e-26  1.229810e-17  8.256767e-11    0.000011    0.031458   \n",
       "\n",
       "   crab_pop_5  crab_pop_6   crab_pop_7   crab_pop_8   crab_pop_9  ...  \\\n",
       "0    7.908961   20.506623    36.746259    45.518556    38.981839  ...   \n",
       "1  116.367106  683.975693  2197.779767  4003.938659  4450.219581  ...   \n",
       "2   35.956845  265.711810  1115.187543  2754.142060  4151.070677  ...   \n",
       "3   10.029920   96.968886   519.679299  1652.998861  3258.798255  ...   \n",
       "4    2.693294   34.230088   227.643641   903.938509  2242.889487  ...   \n",
       "\n",
       "   crab_pop_12  crab_pop_13  crab_pop_14  crab_pop_15  crab_pop_16  \\\n",
       "0     2.669452     0.521091     0.070198     0.006522     0.000418   \n",
       "1   515.216841   130.342672    45.400893    23.189408    10.628582   \n",
       "2  1120.703374   334.471146    86.826430    32.381663    13.494420   \n",
       "3  1923.329043   737.305200   206.867286    55.752558    19.542204   \n",
       "4  2735.370151  1329.919834   454.490004   118.830345    32.491409   \n",
       "\n",
       "   crab_pop_17   crab_pop_18   crab_pop_19   crab_pop_20  t  \n",
       "0     0.000018  5.587596e-07  1.166134e-08  1.672906e-10  0  \n",
       "1     3.525707  5.646722e-01  8.657805e-03  3.727925e-06  1  \n",
       "2     4.522775  8.320258e-01  1.297871e-02  5.591796e-06  2  \n",
       "3     6.720702  1.123335e+00  1.731241e-02  7.455814e-06  3  \n",
       "4    10.101468  2.348487e+00  2.527383e-01  3.088216e-03  4  \n",
       "\n",
       "[5 rows x 22 columns]"
      ]
     },
     "execution_count": 9,
     "metadata": {},
     "output_type": "execute_result"
    }
   ],
   "source": [
    "crab_pop_df = pd.DataFrame(constantDataDF[constantDataDF['rep']==0]['crab_pop'].tolist(), columns=[f'crab_pop_{i}' for i in range(len(constantDataDF['crab_pop'][0]))])\n",
    "crab_pop_df['t'] = constantDataDF['t']\n",
    "crab_pop_df.head()"
   ]
  },
  {
   "cell_type": "code",
   "execution_count": 10,
   "id": "71601a25-44e0-4f86-8aef-efc26575fb16",
   "metadata": {},
   "outputs": [
    {
     "data": {
      "application/vnd.jupyter.widget-view+json": {
       "model_id": "f9307ca0ebb44b6396950b37f8149675",
       "version_major": 2,
       "version_minor": 0
      },
      "text/plain": [
       "interactive(children=(SelectMultiple(description='Sizes', index=(0,), options=('crab_pop_0', 'crab_pop_1', 'cr…"
      ]
     },
     "metadata": {},
     "output_type": "display_data"
    }
   ],
   "source": [
    "# Create a multi-select widget for crab size columns\n",
    "crab_pop_columns = [col for col in crab_pop_df.columns if col.startswith('crab_pop_')]\n",
    "size_selector = widgets.SelectMultiple(\n",
    "    options=crab_pop_columns,\n",
    "    value=[crab_pop_columns[0]],  # Default selection\n",
    "    description='Sizes',\n",
    "    disabled=False\n",
    ")\n",
    "# Create an interactive plot\n",
    "interact(lambda selected_sizes: plot_selected_sizes(crab_pop_df, selected_sizes), selected_sizes=size_selector);"
   ]
  },
  {
   "cell_type": "markdown",
   "id": "c0852a14-2acc-4afc-8079-46626f92894a",
   "metadata": {},
   "source": [
    "### normalized environment"
   ]
  },
  {
   "cell_type": "code",
   "execution_count": 11,
   "id": "94705762-dc07-4984-915a-7f2d61ec11d7",
   "metadata": {},
   "outputs": [],
   "source": [
    "config = {\n",
    "    \"w_mort_scale\" : 600,\n",
    "    \"growth_k\": 0.70,\n",
    "    'random_start':True,\n",
    "    # \"curriculum\": True\n",
    "}"
   ]
  },
  {
   "cell_type": "code",
   "execution_count": 12,
   "id": "b49d5502-9f0e-44de-a700-7d7aaa64ea87",
   "metadata": {},
   "outputs": [
    {
     "name": "stderr",
     "output_type": "stream",
     "text": [
      "/opt/conda/lib/python3.12/site-packages/gymnasium/spaces/box.py:305: UserWarning: \u001b[33mWARN: Box high's precision lowered by casting to float32, current high.dtype=float64\u001b[0m\n",
      "  gym.logger.warn(\n"
     ]
    }
   ],
   "source": [
    "env = greenCrabMonthEnvNormalized(config)"
   ]
  },
  {
   "cell_type": "code",
   "execution_count": 13,
   "id": "37bcada9-eca2-4542-9641-de641121e71a",
   "metadata": {},
   "outputs": [],
   "source": [
    "def evaluateConstAct(x):\n",
    "    env = greenCrabMonthEnvNormalized(config)\n",
    "    agent = multiConstAction(env=env, action=np.array(x))\n",
    "    # rewards = simulator(env, agent).simulate()\n",
    "    # out = np.mean(rewards)\n",
    "    rewards = evaluate_agent(agent=agent, ray_remote=True).evaluate(n_eval_episodes=200, return_episode_rewards=True)\n",
    "    m_reward = np.mean(rewards)\n",
    "    return -m_reward, rewards"
   ]
  },
  {
   "cell_type": "code",
   "execution_count": 14,
   "id": "69f71926-51ff-453d-9e95-e6d6c823152b",
   "metadata": {},
   "outputs": [],
   "source": [
    "# normalized constant action\n",
    "def normalized_action(act, max_act):\n",
    "    max_action = max_act\n",
    "    constant_act = np.array(act)\n",
    "    return constant_act * 2 / max_action - 1 "
   ]
  },
  {
   "cell_type": "code",
   "execution_count": 15,
   "id": "4e00aec9-2718-48c2-925d-b0926e03ff2a",
   "metadata": {},
   "outputs": [
    {
     "name": "stderr",
     "output_type": "stream",
     "text": [
      "2025-06-21 05:16:37,250\tINFO worker.py:1917 -- Started a local Ray instance.\n"
     ]
    },
    {
     "data": {
      "text/plain": [
       "-6.483442495324676"
      ]
     },
     "execution_count": 15,
     "metadata": {},
     "output_type": "execute_result"
    }
   ],
   "source": [
    "norm_act = normalized_action([234.1763524346601, 943.2079115173758, 0.0], 3000)\n",
    "m_reward, const_rews = evaluateConstAct(norm_act)\n",
    "np.mean(const_rews)"
   ]
  },
  {
   "cell_type": "code",
   "execution_count": 16,
   "id": "17163dae-c66a-4b3f-a90d-16db535ac136",
   "metadata": {},
   "outputs": [],
   "source": [
    "import ray\n",
    "ray.shutdown()"
   ]
  },
  {
   "cell_type": "code",
   "execution_count": 17,
   "id": "77a6150a-314c-41fd-b1f6-42144bb191bf",
   "metadata": {},
   "outputs": [],
   "source": [
    "agent = multiConstAction(env=env, action=np.array(norm_act))"
   ]
  },
  {
   "cell_type": "code",
   "execution_count": 18,
   "id": "5807d82e-931c-4d45-866c-91c7da308dd9",
   "metadata": {},
   "outputs": [
    {
     "data": {
      "text/html": [
       "<div>\n",
       "<style scoped>\n",
       "    .dataframe tbody tr th:only-of-type {\n",
       "        vertical-align: middle;\n",
       "    }\n",
       "\n",
       "    .dataframe tbody tr th {\n",
       "        vertical-align: top;\n",
       "    }\n",
       "\n",
       "    .dataframe thead th {\n",
       "        text-align: right;\n",
       "    }\n",
       "</style>\n",
       "<table border=\"1\" class=\"dataframe\">\n",
       "  <thead>\n",
       "    <tr style=\"text-align: right;\">\n",
       "      <th></th>\n",
       "      <th>t</th>\n",
       "      <th>obs0</th>\n",
       "      <th>obs1</th>\n",
       "      <th>act0</th>\n",
       "      <th>act1</th>\n",
       "      <th>act2</th>\n",
       "      <th>rew</th>\n",
       "      <th>rep</th>\n",
       "    </tr>\n",
       "  </thead>\n",
       "  <tbody>\n",
       "    <tr>\n",
       "      <th>0</th>\n",
       "      <td>0</td>\n",
       "      <td>-1.0</td>\n",
       "      <td>-1.0</td>\n",
       "      <td>-0.843882</td>\n",
       "      <td>-0.371195</td>\n",
       "      <td>-1.0</td>\n",
       "      <td>0.000000</td>\n",
       "      <td>0</td>\n",
       "    </tr>\n",
       "    <tr>\n",
       "      <th>1</th>\n",
       "      <td>1</td>\n",
       "      <td>-1.0</td>\n",
       "      <td>-1.0</td>\n",
       "      <td>-0.843882</td>\n",
       "      <td>-0.371195</td>\n",
       "      <td>-1.0</td>\n",
       "      <td>-0.031458</td>\n",
       "      <td>0</td>\n",
       "    </tr>\n",
       "    <tr>\n",
       "      <th>2</th>\n",
       "      <td>2</td>\n",
       "      <td>-1.0</td>\n",
       "      <td>-1.0</td>\n",
       "      <td>-0.843882</td>\n",
       "      <td>-0.371195</td>\n",
       "      <td>-1.0</td>\n",
       "      <td>-0.062916</td>\n",
       "      <td>0</td>\n",
       "    </tr>\n",
       "    <tr>\n",
       "      <th>3</th>\n",
       "      <td>3</td>\n",
       "      <td>-1.0</td>\n",
       "      <td>-1.0</td>\n",
       "      <td>-0.843882</td>\n",
       "      <td>-0.371195</td>\n",
       "      <td>-1.0</td>\n",
       "      <td>-0.094375</td>\n",
       "      <td>0</td>\n",
       "    </tr>\n",
       "    <tr>\n",
       "      <th>4</th>\n",
       "      <td>4</td>\n",
       "      <td>-1.0</td>\n",
       "      <td>-1.0</td>\n",
       "      <td>-0.843882</td>\n",
       "      <td>-0.371195</td>\n",
       "      <td>-1.0</td>\n",
       "      <td>-0.125833</td>\n",
       "      <td>0</td>\n",
       "    </tr>\n",
       "  </tbody>\n",
       "</table>\n",
       "</div>"
      ],
      "text/plain": [
       "   t  obs0  obs1      act0      act1  act2       rew  rep\n",
       "0  0  -1.0  -1.0 -0.843882 -0.371195  -1.0  0.000000    0\n",
       "1  1  -1.0  -1.0 -0.843882 -0.371195  -1.0 -0.031458    0\n",
       "2  2  -1.0  -1.0 -0.843882 -0.371195  -1.0 -0.062916    0\n",
       "3  3  -1.0  -1.0 -0.843882 -0.371195  -1.0 -0.094375    0\n",
       "4  4  -1.0  -1.0 -0.843882 -0.371195  -1.0 -0.125833    0"
      ]
     },
     "execution_count": 18,
     "metadata": {},
     "output_type": "execute_result"
    }
   ],
   "source": [
    "constantData = simulator(env = env, agent = agent).simulate_full_named_dict_obs_acts()\n",
    "constantDataDF = pd.DataFrame(constantData)\n",
    "constantDataDF.head()"
   ]
  },
  {
   "cell_type": "code",
   "execution_count": 19,
   "id": "e56118ac-3163-4e9b-9f28-f3689dd5477d",
   "metadata": {},
   "outputs": [
    {
     "data": {
      "text/plain": [
       "<Axes: xlabel='t'>"
      ]
     },
     "execution_count": 19,
     "metadata": {},
     "output_type": "execute_result"
    },
    {
     "data": {
      "image/png": "[encoded data removed]",
      "text/plain": [
       "<Figure size 640x480 with 1 Axes>"
      ]
     },
     "metadata": {},
     "output_type": "display_data"
    }
   ],
   "source": [
    "constantDataDF[constantDataDF.rep == 0].plot(x='t', y =['obs0'])"
   ]
  },
  {
   "cell_type": "markdown",
   "id": "c5b194bd-ffd2-441e-acda-66f1a2dfc923",
   "metadata": {},
   "source": [
    "## Loading and evaluating trained models"
   ]
  },
  {
   "cell_type": "code",
   "execution_count": 52,
   "id": "740a90b6-afa1-40de-969c-60c5f6279788",
   "metadata": {},
   "outputs": [],
   "source": [
    "repo_id = \"jimjiang203/greencrabPPO\"\n",
    "td3_path = hf_hub_download(repo_id=repo_id, filename='td3_gcmonthnorm.zip')\n",
    "ppo_path = hf_hub_download(repo_id=repo_id, filename='PPO_gcmenorm.zip')\n",
    "reppo_path = hf_hub_download(repo_id=repo_id, filename='RecurrentPPO_gcmenorm.zip')\n",
    "tqc_path = hf_hub_download(repo_id=repo_id, filename='TQC_gcmenorm.zip')"
   ]
  },
  {
   "cell_type": "code",
   "execution_count": 198,
   "id": "a05fa17f-1c54-48bf-84bf-3c3ae573df7e",
   "metadata": {},
   "outputs": [
    {
     "name": "stderr",
     "output_type": "stream",
     "text": [
      "/opt/conda/lib/python3.12/site-packages/gymnasium/spaces/box.py:305: UserWarning: \u001b[33mWARN: Box high's precision lowered by casting to float32, current high.dtype=float64\u001b[0m\n",
      "  gym.logger.warn(\n"
     ]
    }
   ],
   "source": [
    "evalEnv =  greenCrabMonthEnvNormalized(config)"
   ]
  },
  {
   "cell_type": "code",
   "execution_count": 201,
   "id": "d7e69073-702f-4cc3-a73b-b6d32c3d2494",
   "metadata": {},
   "outputs": [],
   "source": [
    "path = \"../saved_agents\"\n",
    "#td3Agent = TD3.load(f\"TD3_gcmemoving\", device=\"cpu\")\n",
    "ppoAgent = PPO.load(f\"PPO_gcmenorm_0\", device=\"cpu\")\n",
    "# tqcAgent = TQC.load(f\"TQC_gcmemoving\", device=\"cpu\")\n",
    "recurrentPPOAgent = RecurrentPPO.load(\"RecurrentPPO_gcmenorm_256_1_{'pi': [256, 256], 'vf': [256, 256]}_False\", device=\"cpu\")\n",
    "lppoAgent = LipschitzPPO.load(\"LipschitzPPO_gcmemoving_0.1_0.5\", device=\"cpu\")"
   ]
  },
  {
   "cell_type": "code",
   "execution_count": 206,
   "id": "835a9162-9cb4-4112-9005-9f88a5d142c6",
   "metadata": {},
   "outputs": [
    {
     "name": "stderr",
     "output_type": "stream",
     "text": [
      "2025-06-28 02:59:25,251\tINFO worker.py:1917 -- Started a local Ray instance.\n"
     ]
    }
   ],
   "source": [
    "N_EPS = 30\n",
    "\n",
    "ppo_rew = evaluate_agent(agent=ppoAgent, env=evalEnv, ray_remote=True).evaluate(n_eval_episodes=N_EPS)\n",
    "td3_rew = evaluate_agent(agent=td3Agent, env=evalEnv, ray_remote=True).evaluate(n_eval_episodes=N_EPS)\n",
    "tqc_rew = evaluate_agent(agent=tqcAgent, env=evalEnv, ray_remote=True).evaluate(n_eval_episodes=N_EPS)\n",
    "reppo_rew = evaluate_agent(agent=recurrentPPOAgent, env=evalEnv, ray_remote=True).evaluate(n_eval_episodes=N_EPS)\n",
    "lppo_rew = evaluate_agent(agent=lppoAgent, env=evalEnv, ray_remote=True).evaluate(n_eval_episodes=N_EPS)"
   ]
  },
  {
   "cell_type": "code",
   "execution_count": 207,
   "id": "ce42ad17-c9fb-4cd4-966e-d9bf3d0fcd33",
   "metadata": {},
   "outputs": [],
   "source": [
    "N_EPS = 200\n",
    "\n",
    "ppo_rews = evaluate_agent(agent=ppoAgent, env=evalEnv, ray_remote=True).evaluate(n_eval_episodes=N_EPS, return_episode_rewards=True)\n",
    "td3_rews = evaluate_agent(agent=td3Agent, env=evalEnv, ray_remote=True).evaluate(n_eval_episodes=N_EPS, return_episode_rewards=True)\n",
    "tqc_rews = evaluate_agent(agent=tqcAgent, env=evalEnv, ray_remote=True).evaluate(n_eval_episodes=N_EPS, return_episode_rewards=True)\n",
    "reppo_rews = evaluate_agent(agent=recurrentPPOAgent, env=evalEnv, ray_remote=True).evaluate(n_eval_episodes=N_EPS, return_episode_rewards=True)\n",
    "lppo_rews = evaluate_agent(agent=lppoAgent, env=evalEnv, ray_remote=True).evaluate(n_eval_episodes=N_EPS, return_episode_rewards=True)"
   ]
  },
  {
   "cell_type": "code",
   "execution_count": 208,
   "id": "8732b206-528c-4a87-89f9-cffadebbaa18",
   "metadata": {},
   "outputs": [],
   "source": [
    "import ray\n",
    "ray.shutdown()"
   ]
  },
  {
   "cell_type": "code",
   "execution_count": 209,
   "id": "32055210-7a7c-4198-81b6-c9b0fab56f6d",
   "metadata": {},
   "outputs": [
    {
     "data": {
      "image/png": "[encoded data removed]",
      "text/plain": [
       "<Figure size 640x480 with 1 Axes>"
      ]
     },
     "metadata": {},
     "output_type": "display_data"
    }
   ],
   "source": [
    "plt.hist(ppo_rews, alpha=0.6, label='PPO')\n",
    "plt.hist(td3_rews, alpha=0.6, label='TD3')\n",
    "plt.hist(tqc_rews, alpha=0.6, label='TQC')\n",
    "plt.hist(reppo_rews , alpha=0.6, label='RecurentPPO')\n",
    "plt.hist(lppo_rews , alpha=0.6, label='LipschitzPPO')\n",
    "plt.hist(const_rews, alpha=0.6, label='Constant')\n",
    "\n",
    "# # Mark means with vertical lines\n",
    "plt.axvline(np.mean(ppo_rews), color='blue', linestyle='dashed', linewidth=2, label='PPO Mean')\n",
    "plt.axvline(np.mean(td3_rews), color='orange', linestyle='dashed', linewidth=2, label='TD3 Mean')\n",
    "plt.axvline(np.mean(tqc_rews), color='green', linestyle='dashed', linewidth=2, label='TQC Mean')\n",
    "plt.axvline(np.mean(const_rews), color='red', linestyle='dashed', linewidth=2, label='Constant Mean')\n",
    "\n",
    "plt.legend()\n",
    "plt.xlabel(\"Reward\")\n",
    "plt.ylabel(\"Frequency\")\n",
    "plt.title(\"Reward Distribution Comparison\")\n",
    "plt.show()"
   ]
  },
  {
   "cell_type": "code",
   "execution_count": 210,
   "id": "1e84308f-dd0c-4a44-bf70-e7e2a275bc25",
   "metadata": {},
   "outputs": [
    {
     "data": {
      "image/png": "[encoded data removed]",
      "text/plain": [
       "<Figure size 1200x800 with 6 Axes>"
      ]
     },
     "metadata": {},
     "output_type": "display_data"
    }
   ],
   "source": [
    "models = {\n",
    "    'PPO': ppo_rews,\n",
    "    'TD3': td3_rews,\n",
    "    'TQC': tqc_rews,\n",
    "    'RecurrentPPO': reppo_rews,\n",
    "    'LipschitzPPO': lppo_rews\n",
    "}\n",
    "constant_rewards = const_rews\n",
    "\n",
    "colors = {\n",
    "    'PPO': 'blue',\n",
    "    'TD3': 'orange',\n",
    "    'TQC': 'green',\n",
    "    'RecurrentPPO': 'purple',\n",
    "    'LipschitzPPO': 'yellow',\n",
    "    'Constant': 'red'\n",
    "}\n",
    "\n",
    "fig, axes = plt.subplots(nrows=3, ncols=2, figsize=(12, 8))\n",
    "axes = axes.flatten()\n",
    "\n",
    "for i, (model_name, rewards) in enumerate(models.items()):\n",
    "    ax = axes[i]\n",
    "    # Plot current model\n",
    "    ax.hist(rewards, alpha=0.6, color=colors[model_name], label=model_name)\n",
    "    ax.axvline(np.mean(rewards), color=colors[model_name], linestyle='dashed', linewidth=2, label=f'{model_name} Mean')\n",
    "\n",
    "    # Plot constant model\n",
    "    ax.hist(constant_rewards, alpha=0.3, color=colors['Constant'], label='Constant')\n",
    "    ax.axvline(np.mean(constant_rewards), color=colors['Constant'], linestyle='dashed', linewidth=2, label='Constant Mean')\n",
    "\n",
    "    ax.set_title(f\"{model_name} vs Constant\")\n",
    "    ax.set_xlabel(\"Reward\")\n",
    "    ax.set_ylabel(\"Frequency\")\n",
    "    ax.legend()\n",
    "    ax.grid(True)\n",
    "\n",
    "plt.tight_layout()\n",
    "plt.show()"
   ]
  },
  {
   "cell_type": "code",
   "execution_count": 211,
   "id": "bf7fa33f-4853-4ed2-b112-93470036bd6a",
   "metadata": {},
   "outputs": [
    {
     "data": {
      "text/plain": [
       "(1.180772573131701, 1.0757263034290885, 0.5730831637209762, 1.588192094655999)"
      ]
     },
     "execution_count": 211,
     "metadata": {},
     "output_type": "execute_result"
    }
   ],
   "source": [
    "np.std(ppo_rews), np.std(td3_rews), np.std(tqc_rews), np.std(reppo_rews)"
   ]
  },
  {
   "cell_type": "code",
   "execution_count": 212,
   "id": "942a4052-11d8-4f93-bbad-fb46c8951eaf",
   "metadata": {},
   "outputs": [
    {
     "data": {
      "text/plain": [
       "(-4.523005975413819,\n",
       " -4.75592139674759,\n",
       " -6.984706941254688,\n",
       " -7.788354326285068,\n",
       " -7.300591331360639)"
      ]
     },
     "execution_count": 212,
     "metadata": {},
     "output_type": "execute_result"
    }
   ],
   "source": [
    "np.mean(ppo_rews), np.mean(td3_rews), np.mean(tqc_rews), np.mean(reppo_rews), np.mean(lppo_rew)"
   ]
  },
  {
   "cell_type": "code",
   "execution_count": 150,
   "id": "6500edbb-55e0-42d9-93cd-8f613827551c",
   "metadata": {},
   "outputs": [
    {
     "name": "stdout",
     "output_type": "stream",
     "text": [
      "\n",
      "PPO mean rew = -5.760916770918344\n",
      "TQC mean rew = -9.047067300795222\n",
      "TD3 mean rew = -5.860920372921737\n",
      "RecurrentPPO mean rew = -7.749452310276779\n",
      "LipschitzPPO mean rew = -7.93536753949572\n",
      "\n"
     ]
    }
   ],
   "source": [
    "print(f\"\"\"\n",
    "PPO mean rew = {ppo_rew}\n",
    "TQC mean rew = {tqc_rew}\n",
    "TD3 mean rew = {td3_rew}\n",
    "RecurrentPPO mean rew = {reppo_rew}\n",
    "LipschitzPPO mean rew = {lppo_rew}\n",
    "\"\"\")"
   ]
  },
  {
   "cell_type": "markdown",
   "id": "7cfa998d-c82f-45cb-859d-e356a3fc5b69",
   "metadata": {},
   "source": [
    "### RL action plots"
   ]
  },
  {
   "cell_type": "code",
   "execution_count": 181,
   "id": "f623d2f7-2320-4c52-9fb4-33bdd7cf5796",
   "metadata": {},
   "outputs": [
    {
     "name": "stderr",
     "output_type": "stream",
     "text": [
      "/opt/conda/lib/python3.12/site-packages/gymnasium/spaces/box.py:305: UserWarning: \u001b[33mWARN: Box high's precision lowered by casting to float32, current high.dtype=float64\u001b[0m\n",
      "  gym.logger.warn(\n"
     ]
    }
   ],
   "source": [
    "evalEnv =  greenCrabMonthEnvNormalized(config)"
   ]
  },
  {
   "cell_type": "code",
   "execution_count": 170,
   "id": "f66e305e-fcb1-44fa-b3c7-7c8fa91a8b73",
   "metadata": {},
   "outputs": [
    {
     "name": "stderr",
     "output_type": "stream",
     "text": [
      "2025-06-26 19:21:45,894\tINFO worker.py:1917 -- Started a local Ray instance.\n"
     ]
    }
   ],
   "source": [
    "lppo_rew = evaluate_agent(agent=ppoAgent, env=evalEnv, ray_remote=True).evaluate(n_eval_episodes=N_EPS)"
   ]
  },
  {
   "cell_type": "code",
   "execution_count": 171,
   "id": "32b8125d-0536-4314-8ace-b491bb73dd8b",
   "metadata": {},
   "outputs": [],
   "source": [
    "import ray\n",
    "ray.shutdown()"
   ]
  },
  {
   "cell_type": "code",
   "execution_count": 176,
   "id": "e9821de8-8ebf-4997-b534-c41fb6a2e267",
   "metadata": {},
   "outputs": [
    {
     "data": {
      "text/plain": [
       "-5.492446558696904"
      ]
     },
     "execution_count": 176,
     "metadata": {},
     "output_type": "execute_result"
    }
   ],
   "source": [
    "lppo_rew"
   ]
  },
  {
   "cell_type": "code",
   "execution_count": 188,
   "id": "85caa45a-4a8e-4b9b-9c21-de92ea3a8e0a",
   "metadata": {},
   "outputs": [],
   "source": [
    "ppoAgent = PPO.load(f\"PPO_gcmenorm_0\", device=\"cpu\")"
   ]
  },
  {
   "cell_type": "code",
   "execution_count": 189,
   "id": "05d0821b-87c0-4c4e-91f7-8e0d175cf41a",
   "metadata": {},
   "outputs": [
    {
     "data": {
      "text/html": [
       "<div>\n",
       "<style scoped>\n",
       "    .dataframe tbody tr th:only-of-type {\n",
       "        vertical-align: middle;\n",
       "    }\n",
       "\n",
       "    .dataframe tbody tr th {\n",
       "        vertical-align: top;\n",
       "    }\n",
       "\n",
       "    .dataframe thead th {\n",
       "        text-align: right;\n",
       "    }\n",
       "</style>\n",
       "<table border=\"1\" class=\"dataframe\">\n",
       "  <thead>\n",
       "    <tr style=\"text-align: right;\">\n",
       "      <th></th>\n",
       "      <th>t</th>\n",
       "      <th>obs0</th>\n",
       "      <th>obs1</th>\n",
       "      <th>act0</th>\n",
       "      <th>act1</th>\n",
       "      <th>act2</th>\n",
       "      <th>rew</th>\n",
       "      <th>rep</th>\n",
       "    </tr>\n",
       "  </thead>\n",
       "  <tbody>\n",
       "    <tr>\n",
       "      <th>0</th>\n",
       "      <td>0</td>\n",
       "      <td>-1.000000</td>\n",
       "      <td>-1.000000</td>\n",
       "      <td>-0.847923</td>\n",
       "      <td>-0.785029</td>\n",
       "      <td>-1.0</td>\n",
       "      <td>0.000000</td>\n",
       "      <td>0</td>\n",
       "    </tr>\n",
       "    <tr>\n",
       "      <th>1</th>\n",
       "      <td>1</td>\n",
       "      <td>-0.991936</td>\n",
       "      <td>-0.049068</td>\n",
       "      <td>-1.000000</td>\n",
       "      <td>-1.000000</td>\n",
       "      <td>-1.0</td>\n",
       "      <td>-0.015145</td>\n",
       "      <td>0</td>\n",
       "    </tr>\n",
       "    <tr>\n",
       "      <th>2</th>\n",
       "      <td>2</td>\n",
       "      <td>-1.000000</td>\n",
       "      <td>-1.000000</td>\n",
       "      <td>-0.256207</td>\n",
       "      <td>-0.645503</td>\n",
       "      <td>-1.0</td>\n",
       "      <td>-0.016207</td>\n",
       "      <td>0</td>\n",
       "    </tr>\n",
       "    <tr>\n",
       "      <th>3</th>\n",
       "      <td>3</td>\n",
       "      <td>-0.983854</td>\n",
       "      <td>-0.112750</td>\n",
       "      <td>-0.400603</td>\n",
       "      <td>-0.943157</td>\n",
       "      <td>-1.0</td>\n",
       "      <td>-0.061568</td>\n",
       "      <td>0</td>\n",
       "    </tr>\n",
       "    <tr>\n",
       "      <th>4</th>\n",
       "      <td>4</td>\n",
       "      <td>-0.974400</td>\n",
       "      <td>0.034184</td>\n",
       "      <td>-0.095539</td>\n",
       "      <td>-0.885252</td>\n",
       "      <td>-1.0</td>\n",
       "      <td>-0.089892</td>\n",
       "      <td>0</td>\n",
       "    </tr>\n",
       "    <tr>\n",
       "      <th>5</th>\n",
       "      <td>5</td>\n",
       "      <td>-0.970775</td>\n",
       "      <td>-0.347419</td>\n",
       "      <td>-0.361047</td>\n",
       "      <td>-0.987354</td>\n",
       "      <td>-1.0</td>\n",
       "      <td>-0.132295</td>\n",
       "      <td>0</td>\n",
       "    </tr>\n",
       "    <tr>\n",
       "      <th>6</th>\n",
       "      <td>6</td>\n",
       "      <td>-0.973951</td>\n",
       "      <td>0.067398</td>\n",
       "      <td>-0.919294</td>\n",
       "      <td>-1.000000</td>\n",
       "      <td>-1.0</td>\n",
       "      <td>-0.159965</td>\n",
       "      <td>0</td>\n",
       "    </tr>\n",
       "    <tr>\n",
       "      <th>7</th>\n",
       "      <td>7</td>\n",
       "      <td>-0.975384</td>\n",
       "      <td>8.070525</td>\n",
       "      <td>-0.694602</td>\n",
       "      <td>-1.000000</td>\n",
       "      <td>-1.0</td>\n",
       "      <td>-0.236418</td>\n",
       "      <td>0</td>\n",
       "    </tr>\n",
       "    <tr>\n",
       "      <th>8</th>\n",
       "      <td>8</td>\n",
       "      <td>-0.982580</td>\n",
       "      <td>1.625734</td>\n",
       "      <td>-0.828936</td>\n",
       "      <td>-0.460555</td>\n",
       "      <td>-1.0</td>\n",
       "      <td>-0.249623</td>\n",
       "      <td>0</td>\n",
       "    </tr>\n",
       "    <tr>\n",
       "      <th>9</th>\n",
       "      <td>9</td>\n",
       "      <td>-0.985794</td>\n",
       "      <td>0.519867</td>\n",
       "      <td>-0.754187</td>\n",
       "      <td>-0.825910</td>\n",
       "      <td>-1.0</td>\n",
       "      <td>-0.278821</td>\n",
       "      <td>0</td>\n",
       "    </tr>\n",
       "    <tr>\n",
       "      <th>10</th>\n",
       "      <td>10</td>\n",
       "      <td>-0.990029</td>\n",
       "      <td>2.345449</td>\n",
       "      <td>-0.936843</td>\n",
       "      <td>-0.735916</td>\n",
       "      <td>-1.0</td>\n",
       "      <td>-0.296788</td>\n",
       "      <td>0</td>\n",
       "    </tr>\n",
       "    <tr>\n",
       "      <th>11</th>\n",
       "      <td>11</td>\n",
       "      <td>-0.987980</td>\n",
       "      <td>3.136685</td>\n",
       "      <td>-0.611816</td>\n",
       "      <td>-0.648881</td>\n",
       "      <td>-1.0</td>\n",
       "      <td>-0.311913</td>\n",
       "      <td>0</td>\n",
       "    </tr>\n",
       "  </tbody>\n",
       "</table>\n",
       "</div>"
      ],
      "text/plain": [
       "     t      obs0      obs1      act0      act1  act2       rew  rep\n",
       "0    0 -1.000000 -1.000000 -0.847923 -0.785029  -1.0  0.000000    0\n",
       "1    1 -0.991936 -0.049068 -1.000000 -1.000000  -1.0 -0.015145    0\n",
       "2    2 -1.000000 -1.000000 -0.256207 -0.645503  -1.0 -0.016207    0\n",
       "3    3 -0.983854 -0.112750 -0.400603 -0.943157  -1.0 -0.061568    0\n",
       "4    4 -0.974400  0.034184 -0.095539 -0.885252  -1.0 -0.089892    0\n",
       "5    5 -0.970775 -0.347419 -0.361047 -0.987354  -1.0 -0.132295    0\n",
       "6    6 -0.973951  0.067398 -0.919294 -1.000000  -1.0 -0.159965    0\n",
       "7    7 -0.975384  8.070525 -0.694602 -1.000000  -1.0 -0.236418    0\n",
       "8    8 -0.982580  1.625734 -0.828936 -0.460555  -1.0 -0.249623    0\n",
       "9    9 -0.985794  0.519867 -0.754187 -0.825910  -1.0 -0.278821    0\n",
       "10  10 -0.990029  2.345449 -0.936843 -0.735916  -1.0 -0.296788    0\n",
       "11  11 -0.987980  3.136685 -0.611816 -0.648881  -1.0 -0.311913    0"
      ]
     },
     "execution_count": 189,
     "metadata": {},
     "output_type": "execute_result"
    }
   ],
   "source": [
    "ppoData = simulator(env = evalEnv, agent = ppoAgent).simulate_full_named_dict_obs_acts()\n",
    "ppoDataDF = pd.DataFrame(ppoData)\n",
    "ppoDataDF.head(12)"
   ]
  },
  {
   "cell_type": "code",
   "execution_count": 197,
   "id": "518abe28-4c17-4ee1-8fa4-e79c92387f7d",
   "metadata": {},
   "outputs": [
    {
     "data": {
      "text/plain": [
       "<Axes: xlabel='t'>"
      ]
     },
     "execution_count": 197,
     "metadata": {},
     "output_type": "execute_result"
    },
    {
     "data": {
      "image/png": "[encoded data removed]",
      "text/plain": [
       "<Figure size 640x480 with 1 Axes>"
      ]
     },
     "metadata": {},
     "output_type": "display_data"
    }
   ],
   "source": [
    "ppoDataDF[ppoDataDF.rep == 0].loc[80:, :].plot(x='t', y =['act0', 'act1', 'act2'])"
   ]
  },
  {
   "cell_type": "code",
   "execution_count": 191,
   "id": "3272a210-f841-43ed-8a84-bdfb11a720bd",
   "metadata": {},
   "outputs": [
    {
     "data": {
      "text/plain": [
       "<Axes: xlabel='t'>"
      ]
     },
     "execution_count": 191,
     "metadata": {},
     "output_type": "execute_result"
    },
    {
     "data": {
      "image/png": "[encoded data removed]",
      "text/plain": [
       "<Figure size 640x480 with 1 Axes>"
      ]
     },
     "metadata": {},
     "output_type": "display_data"
    }
   ],
   "source": [
    "ppoDataDF[ppoDataDF.rep == 0].head(30).plot(x='t', y =['obs0'])"
   ]
  },
  {
   "cell_type": "code",
   "execution_count": 193,
   "id": "039aab32-b2a5-469c-995f-8366ad682844",
   "metadata": {},
   "outputs": [
    {
     "data": {
      "text/plain": [
       "<matplotlib.collections.PathCollection at 0x71c2014ac7a0>"
      ]
     },
     "execution_count": 193,
     "metadata": {},
     "output_type": "execute_result"
    },
    {
     "data": {
      "image/png": "[encoded data removed]",
      "text/plain": [
       "<Figure size 640x480 with 1 Axes>"
      ]
     },
     "metadata": {},
     "output_type": "display_data"
    }
   ],
   "source": [
    "plt.scatter(x=ppoDataDF[ppoDataDF.rep == 0]['act0'], y =ppoDataDF[ppoDataDF.rep == 0]['obs0'])"
   ]
  },
  {
   "cell_type": "code",
   "execution_count": 213,
   "id": "23bfebf6-ef97-42b1-bf7e-a144aced2dc5",
   "metadata": {},
   "outputs": [
    {
     "data": {
      "text/html": [
       "<div>\n",
       "<style scoped>\n",
       "    .dataframe tbody tr th:only-of-type {\n",
       "        vertical-align: middle;\n",
       "    }\n",
       "\n",
       "    .dataframe tbody tr th {\n",
       "        vertical-align: top;\n",
       "    }\n",
       "\n",
       "    .dataframe thead th {\n",
       "        text-align: right;\n",
       "    }\n",
       "</style>\n",
       "<table border=\"1\" class=\"dataframe\">\n",
       "  <thead>\n",
       "    <tr style=\"text-align: right;\">\n",
       "      <th></th>\n",
       "      <th>t</th>\n",
       "      <th>obs0</th>\n",
       "      <th>obs1</th>\n",
       "      <th>act0</th>\n",
       "      <th>act1</th>\n",
       "      <th>act2</th>\n",
       "      <th>rew</th>\n",
       "      <th>rep</th>\n",
       "    </tr>\n",
       "  </thead>\n",
       "  <tbody>\n",
       "    <tr>\n",
       "      <th>0</th>\n",
       "      <td>0</td>\n",
       "      <td>-1.0</td>\n",
       "      <td>-1.0</td>\n",
       "      <td>-0.369732</td>\n",
       "      <td>-0.139582</td>\n",
       "      <td>-1.0</td>\n",
       "      <td>0.000000</td>\n",
       "      <td>0</td>\n",
       "    </tr>\n",
       "    <tr>\n",
       "      <th>1</th>\n",
       "      <td>1</td>\n",
       "      <td>-1.0</td>\n",
       "      <td>-1.0</td>\n",
       "      <td>-0.393677</td>\n",
       "      <td>-0.147579</td>\n",
       "      <td>-1.0</td>\n",
       "      <td>-0.059689</td>\n",
       "      <td>0</td>\n",
       "    </tr>\n",
       "    <tr>\n",
       "      <th>2</th>\n",
       "      <td>2</td>\n",
       "      <td>-1.0</td>\n",
       "      <td>-1.0</td>\n",
       "      <td>-0.387808</td>\n",
       "      <td>-0.144999</td>\n",
       "      <td>-1.0</td>\n",
       "      <td>-0.118100</td>\n",
       "      <td>0</td>\n",
       "    </tr>\n",
       "    <tr>\n",
       "      <th>3</th>\n",
       "      <td>3</td>\n",
       "      <td>-1.0</td>\n",
       "      <td>-1.0</td>\n",
       "      <td>-0.404405</td>\n",
       "      <td>-0.144547</td>\n",
       "      <td>-1.0</td>\n",
       "      <td>-0.176849</td>\n",
       "      <td>0</td>\n",
       "    </tr>\n",
       "    <tr>\n",
       "      <th>4</th>\n",
       "      <td>4</td>\n",
       "      <td>-1.0</td>\n",
       "      <td>-1.0</td>\n",
       "      <td>-0.402586</td>\n",
       "      <td>-0.139751</td>\n",
       "      <td>-1.0</td>\n",
       "      <td>-0.234952</td>\n",
       "      <td>0</td>\n",
       "    </tr>\n",
       "  </tbody>\n",
       "</table>\n",
       "</div>"
      ],
      "text/plain": [
       "   t  obs0  obs1      act0      act1  act2       rew  rep\n",
       "0  0  -1.0  -1.0 -0.369732 -0.139582  -1.0  0.000000    0\n",
       "1  1  -1.0  -1.0 -0.393677 -0.147579  -1.0 -0.059689    0\n",
       "2  2  -1.0  -1.0 -0.387808 -0.144999  -1.0 -0.118100    0\n",
       "3  3  -1.0  -1.0 -0.404405 -0.144547  -1.0 -0.176849    0\n",
       "4  4  -1.0  -1.0 -0.402586 -0.139751  -1.0 -0.234952    0"
      ]
     },
     "execution_count": 213,
     "metadata": {},
     "output_type": "execute_result"
    }
   ],
   "source": [
    "ppoData = simulator(env = evalEnv, agent = lppoAgent).simulate_full_named_dict_obs_acts()\n",
    "ppoDataDF = pd.DataFrame(ppoData)\n",
    "ppoDataDF.head()"
   ]
  },
  {
   "cell_type": "code",
   "execution_count": 216,
   "id": "368d3e72-1187-4de1-b42f-c24248fb10a6",
   "metadata": {},
   "outputs": [
    {
     "data": {
      "text/plain": [
       "<Axes: xlabel='t'>"
      ]
     },
     "execution_count": 216,
     "metadata": {},
     "output_type": "execute_result"
    },
    {
     "data": {
      "image/png": "[encoded data removed]",
      "text/plain": [
       "<Figure size 640x480 with 1 Axes>"
      ]
     },
     "metadata": {},
     "output_type": "display_data"
    }
   ],
   "source": [
    "ppoDataDF[ppoDataDF.rep == 0].plot(x='t', y =['act0', 'act1', 'act2'])"
   ]
  },
  {
   "cell_type": "code",
   "execution_count": 217,
   "id": "88783aaf-1a74-42be-a567-7a7d0c29e4de",
   "metadata": {},
   "outputs": [
    {
     "data": {
      "text/plain": [
       "<Axes: xlabel='t'>"
      ]
     },
     "execution_count": 217,
     "metadata": {},
     "output_type": "execute_result"
    },
    {
     "data": {
      "image/png": "[encoded data removed]",
      "text/plain": [
       "<Figure size 640x480 with 1 Axes>"
      ]
     },
     "metadata": {},
     "output_type": "display_data"
    }
   ],
   "source": [
    "ppoDataDF[ppoDataDF.rep == 0].plot(x='t', y =['obs0'])"
   ]
  },
  {
   "cell_type": "markdown",
   "id": "6af31c9f-be59-49c0-b6ce-7080b4f8ca6d",
   "metadata": {},
   "source": [
    "## Special Section: Testing ensemble PPO"
   ]
  },
  {
   "cell_type": "code",
   "execution_count": 9,
   "id": "231b3dd4-2a7f-4516-9ed4-66706d2c6481",
   "metadata": {},
   "outputs": [],
   "source": [
    "from ensemble_ppo import *"
   ]
  },
  {
   "cell_type": "code",
   "execution_count": 56,
   "id": "16b7ff74-0936-481b-9264-02b588ff6481",
   "metadata": {},
   "outputs": [
    {
     "name": "stdout",
     "output_type": "stream",
     "text": [
      "Loading ensemblePPO_gcmenorm/model_1.zip …\n"
     ]
    }
   ],
   "source": [
    "eppoAgent = EnsemblePPO.load('ensemblePPO_gcmenorm')"
   ]
  },
  {
   "cell_type": "code",
   "execution_count": 57,
   "id": "a2d5c8e1-c82f-4bf3-99c2-36120a295932",
   "metadata": {},
   "outputs": [
    {
     "data": {
      "text/plain": [
       "(array([-0.03874406,  0.3987172 ,  1.        ], dtype=float32), None)"
      ]
     },
     "execution_count": 57,
     "metadata": {},
     "output_type": "execute_result"
    }
   ],
   "source": [
    "obs = {\n",
    "    \"crabs\": np.array([1, 1]),\n",
    "    \"months\" : 4 \n",
    "}\n",
    "eppoAgent.predict(obs)"
   ]
  },
  {
   "cell_type": "code",
   "execution_count": 58,
   "id": "539bc463-ec9e-405f-9a4b-ced8a2a4e11e",
   "metadata": {},
   "outputs": [
    {
     "name": "stderr",
     "output_type": "stream",
     "text": [
      "2025-06-16 18:37:01,363\tINFO worker.py:1888 -- Started a local Ray instance.\n"
     ]
    }
   ],
   "source": [
    "N_EPS = 30\n",
    "eppo_rews = evaluate_agent(agent=eppoAgent, env=evalEnv, ray_remote=True).evaluate(n_eval_episodes=N_EPS, return_episode_rewards=True)"
   ]
  },
  {
   "cell_type": "code",
   "execution_count": 59,
   "id": "fe52441d-d2bd-4703-84b2-ed07bfdf4472",
   "metadata": {},
   "outputs": [],
   "source": [
    "import ray\n",
    "ray.shutdown()"
   ]
  },
  {
   "cell_type": "code",
   "execution_count": 60,
   "id": "450ee572-6eb5-4269-859a-3b0106f0330c",
   "metadata": {},
   "outputs": [
    {
     "data": {
      "text/plain": [
       "-2.4034102689903323"
      ]
     },
     "execution_count": 60,
     "metadata": {},
     "output_type": "execute_result"
    }
   ],
   "source": [
    "np.mean(eppo_rews)"
   ]
  },
  {
   "cell_type": "code",
   "execution_count": 61,
   "id": "09fa32d7-060b-43fe-80f3-f8779871bb41",
   "metadata": {},
   "outputs": [
    {
     "data": {
      "text/html": [
       "<div>\n",
       "<style scoped>\n",
       "    .dataframe tbody tr th:only-of-type {\n",
       "        vertical-align: middle;\n",
       "    }\n",
       "\n",
       "    .dataframe tbody tr th {\n",
       "        vertical-align: top;\n",
       "    }\n",
       "\n",
       "    .dataframe thead th {\n",
       "        text-align: right;\n",
       "    }\n",
       "</style>\n",
       "<table border=\"1\" class=\"dataframe\">\n",
       "  <thead>\n",
       "    <tr style=\"text-align: right;\">\n",
       "      <th></th>\n",
       "      <th>t</th>\n",
       "      <th>obs0</th>\n",
       "      <th>obs1</th>\n",
       "      <th>act0</th>\n",
       "      <th>act1</th>\n",
       "      <th>act2</th>\n",
       "      <th>rew</th>\n",
       "      <th>rep</th>\n",
       "    </tr>\n",
       "  </thead>\n",
       "  <tbody>\n",
       "    <tr>\n",
       "      <th>0</th>\n",
       "      <td>0</td>\n",
       "      <td>-1.000000</td>\n",
       "      <td>-1.000000</td>\n",
       "      <td>-0.974713</td>\n",
       "      <td>-0.849815</td>\n",
       "      <td>-1.0</td>\n",
       "      <td>0.000000</td>\n",
       "      <td>0</td>\n",
       "    </tr>\n",
       "    <tr>\n",
       "      <th>1</th>\n",
       "      <td>1</td>\n",
       "      <td>-0.979864</td>\n",
       "      <td>0.376640</td>\n",
       "      <td>-1.000000</td>\n",
       "      <td>1.000000</td>\n",
       "      <td>-1.0</td>\n",
       "      <td>-0.011415</td>\n",
       "      <td>0</td>\n",
       "    </tr>\n",
       "    <tr>\n",
       "      <th>2</th>\n",
       "      <td>2</td>\n",
       "      <td>-0.979767</td>\n",
       "      <td>-0.416228</td>\n",
       "      <td>-0.637097</td>\n",
       "      <td>-0.391289</td>\n",
       "      <td>-1.0</td>\n",
       "      <td>-0.092169</td>\n",
       "      <td>0</td>\n",
       "    </tr>\n",
       "    <tr>\n",
       "      <th>3</th>\n",
       "      <td>3</td>\n",
       "      <td>-0.983821</td>\n",
       "      <td>-0.119736</td>\n",
       "      <td>-1.000000</td>\n",
       "      <td>-1.000000</td>\n",
       "      <td>-1.0</td>\n",
       "      <td>-0.131576</td>\n",
       "      <td>0</td>\n",
       "    </tr>\n",
       "    <tr>\n",
       "      <th>4</th>\n",
       "      <td>4</td>\n",
       "      <td>-1.000000</td>\n",
       "      <td>-1.000000</td>\n",
       "      <td>-1.000000</td>\n",
       "      <td>-1.000000</td>\n",
       "      <td>-1.0</td>\n",
       "      <td>-0.132317</td>\n",
       "      <td>0</td>\n",
       "    </tr>\n",
       "  </tbody>\n",
       "</table>\n",
       "</div>"
      ],
      "text/plain": [
       "   t      obs0      obs1      act0      act1  act2       rew  rep\n",
       "0  0 -1.000000 -1.000000 -0.974713 -0.849815  -1.0  0.000000    0\n",
       "1  1 -0.979864  0.376640 -1.000000  1.000000  -1.0 -0.011415    0\n",
       "2  2 -0.979767 -0.416228 -0.637097 -0.391289  -1.0 -0.092169    0\n",
       "3  3 -0.983821 -0.119736 -1.000000 -1.000000  -1.0 -0.131576    0\n",
       "4  4 -1.000000 -1.000000 -1.000000 -1.000000  -1.0 -0.132317    0"
      ]
     },
     "execution_count": 61,
     "metadata": {},
     "output_type": "execute_result"
    }
   ],
   "source": [
    "ppoData = simulator(env = evalEnv, agent = eppoAgent).simulate_full_named_dict_obs_acts()\n",
    "ppoDataDF = pd.DataFrame(ppoData)\n",
    "ppoDataDF.head()"
   ]
  },
  {
   "cell_type": "code",
   "execution_count": 62,
   "id": "f73a25bc-2e2e-4ca9-ad0b-373ab0226c64",
   "metadata": {},
   "outputs": [
    {
     "data": {
      "text/plain": [
       "<Axes: xlabel='t'>"
      ]
     },
     "execution_count": 62,
     "metadata": {},
     "output_type": "execute_result"
    },
    {
     "data": {
      "image/png": "[encoded data removed]",
      "text/plain": [
       "<Figure size 640x480 with 1 Axes>"
      ]
     },
     "metadata": {},
     "output_type": "display_data"
    }
   ],
   "source": [
    "ppoDataDF[ppoDataDF.rep == 0].plot(x='t', y =['act0', 'act1', 'act2'])"
   ]
  }
 ],
 "metadata": {
  "kernelspec": {
   "display_name": "Python 3 (ipykernel)",
   "language": "python",
   "name": "python3"
  },
  "language_info": {
   "codemirror_mode": {
    "name": "ipython",
    "version": 3
   },
   "file_extension": ".py",
   "mimetype": "text/x-python",
   "name": "python",
   "nbconvert_exporter": "python",
   "pygments_lexer": "ipython3",
   "version": "3.12.10"
  }
 },
 "nbformat": 4,
 "nbformat_minor": 5
}
