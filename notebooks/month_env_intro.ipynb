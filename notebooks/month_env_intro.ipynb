{
 "cells": [
  {
   "cell_type": "code",
   "execution_count": 2,
   "id": "203cd164-965f-4066-967e-1a14c0d3e1f9",
   "metadata": {},
   "outputs": [],
   "source": [
    "import numpy as np\n",
    "import pandas as pd\n",
    "from skopt import gp_minimize, gbrt_minimize \n",
    "from skopt.plots import plot_convergence, plot_objective\n",
    "from rl4greencrab.envs.green_crab_monthly_env import greenCrabMonthEnv\n",
    "from rl4greencrab.envs.green_crab_monthly_env_norm import greenCrabMonthEnvNormalized\n",
    "from rl4greencrab import evaluate_agent, multiConstAction, simulator\n",
    "import matplotlib.pyplot as plt\n",
    "from ipywidgets import interact, widgets\n",
    "from huggingface_hub import hf_hub_download\n",
    "from stable_baselines3 import PPO, TD3\n",
    "from sb3_contrib import TQC, RecurrentPPO"
   ]
  },
  {
   "cell_type": "markdown",
   "id": "7a14e4e3-4071-4350-a4f4-ce43fb1c7725",
   "metadata": {},
   "source": [
    "## Monthly Environment Simulation"
   ]
  },
  {
   "cell_type": "code",
   "execution_count": 3,
   "id": "80743822-87cd-4d33-a7f9-fd180fabee2b",
   "metadata": {},
   "outputs": [],
   "source": [
    "def evaluateConstAct(x):\n",
    "    config = {\n",
    "        'action_reward_scale': np.array([0.08, 0.08, 0.4]),\n",
    "        'max_action': 3000,\n",
    "        # 'env_stoch': 0.,\n",
    "        'trapm_pmax': 10 * 0.1 * 2.75e-5, #2.26e-6,\n",
    "        'trapf_pmax': 10 * 0.03 * 2.75e-5, #8.3e-7,\n",
    "        'traps_pmax': 10 * 2.75e-5, #2.75e-5,\n",
    "\n",
    "        'loss_a': 0.2,\n",
    "        'loss_b': 5,\n",
    "        'loss_c': 5,\n",
    "        \n",
    "        'action_reward_exponent': 10,\n",
    "    }\n",
    "    env = greenCrabMonthEnvNormalized()\n",
    "    agent = multiConstAction(env=env, action=np.array(x))\n",
    "    # rewards = simulator(env, agent).simulate()\n",
    "    # out = np.mean(rewards)\n",
    "    m_reward = evaluate_agent(agent=agent, ray_remote=True).evaluate(n_eval_episodes=200)\n",
    "    \n",
    "    return - m_reward"
   ]
  },
  {
   "cell_type": "code",
   "execution_count": 4,
   "id": "2acb55bb-fbbf-41a3-b4b8-b91ad02c5da2",
   "metadata": {},
   "outputs": [],
   "source": [
    "# normalized constant action\n",
    "def normalized_action(act, max_act):\n",
    "    max_action = max_act\n",
    "    constant_act = np.array(act)\n",
    "    return constant_act * 2 / max_action - 1 "
   ]
  },
  {
   "cell_type": "code",
   "execution_count": 20,
   "id": "cf63d20f-53e1-467b-8700-fe9a42ca4324",
   "metadata": {
    "scrolled": true
   },
   "outputs": [
    {
     "name": "stdout",
     "output_type": "stream",
     "text": [
      "Iteration No: 1 started. Evaluating function at random point.\n",
      "Iteration No: 1 ended. Evaluation done at random point.\n",
      "Time taken: 0.5964\n",
      "Function value obtained: 1.8079\n",
      "Current minimum: 1.8079\n",
      "Iteration No: 2 started. Evaluating function at random point.\n",
      "Iteration No: 2 ended. Evaluation done at random point.\n",
      "Time taken: 1.0309\n",
      "Function value obtained: 400.6285\n",
      "Current minimum: 1.8079\n",
      "Iteration No: 3 started. Evaluating function at random point.\n",
      "Iteration No: 3 ended. Evaluation done at random point.\n",
      "Time taken: 1.1196\n",
      "Function value obtained: 81.6338\n",
      "Current minimum: 1.8079\n",
      "Iteration No: 4 started. Evaluating function at random point.\n",
      "Iteration No: 4 ended. Evaluation done at random point.\n",
      "Time taken: 0.9755\n",
      "Function value obtained: 1.5520\n",
      "Current minimum: 1.5520\n",
      "Iteration No: 5 started. Evaluating function at random point.\n",
      "Iteration No: 5 ended. Evaluation done at random point.\n",
      "Time taken: 0.8672\n",
      "Function value obtained: 123.9622\n",
      "Current minimum: 1.5520\n",
      "Iteration No: 6 started. Evaluating function at random point.\n",
      "Iteration No: 6 ended. Evaluation done at random point.\n",
      "Time taken: 1.1051\n",
      "Function value obtained: 1.5613\n",
      "Current minimum: 1.5520\n",
      "Iteration No: 7 started. Evaluating function at random point.\n",
      "Iteration No: 7 ended. Evaluation done at random point.\n",
      "Time taken: 0.9662\n",
      "Function value obtained: 81.6218\n",
      "Current minimum: 1.5520\n",
      "Iteration No: 8 started. Evaluating function at random point.\n",
      "Iteration No: 8 ended. Evaluation done at random point.\n",
      "Time taken: 0.8884\n",
      "Function value obtained: 81.2693\n",
      "Current minimum: 1.5520\n",
      "Iteration No: 9 started. Evaluating function at random point.\n",
      "Iteration No: 9 ended. Evaluation done at random point.\n",
      "Time taken: 1.1944\n",
      "Function value obtained: 81.3190\n",
      "Current minimum: 1.5520\n",
      "Iteration No: 10 started. Evaluating function at random point.\n",
      "Iteration No: 10 ended. Evaluation done at random point.\n",
      "Time taken: 0.8723\n",
      "Function value obtained: 1.7929\n",
      "Current minimum: 1.5520\n",
      "Iteration No: 11 started. Searching for the next optimal point.\n",
      "Iteration No: 11 ended. Search finished for the next optimal point.\n",
      "Time taken: 1.1297\n",
      "Function value obtained: 1.7793\n",
      "Current minimum: 1.5520\n",
      "Iteration No: 12 started. Searching for the next optimal point.\n",
      "Iteration No: 12 ended. Search finished for the next optimal point.\n",
      "Time taken: 0.7850\n",
      "Function value obtained: 98.2734\n",
      "Current minimum: 1.5520\n",
      "Iteration No: 13 started. Searching for the next optimal point.\n",
      "Iteration No: 13 ended. Search finished for the next optimal point.\n",
      "Time taken: 1.3747\n",
      "Function value obtained: 153.0299\n",
      "Current minimum: 1.5520\n",
      "Iteration No: 14 started. Searching for the next optimal point.\n",
      "Iteration No: 14 ended. Search finished for the next optimal point.\n",
      "Time taken: 0.5169\n",
      "Function value obtained: 1.6107\n",
      "Current minimum: 1.5520\n",
      "Iteration No: 15 started. Searching for the next optimal point.\n",
      "Iteration No: 15 ended. Search finished for the next optimal point.\n",
      "Time taken: 1.2681\n",
      "Function value obtained: 138.6688\n",
      "Current minimum: 1.5520\n",
      "Iteration No: 16 started. Searching for the next optimal point.\n"
     ]
    },
    {
     "name": "stderr",
     "output_type": "stream",
     "text": [
      "/opt/conda/lib/python3.12/site-packages/skopt/optimizer/optimizer.py:517: UserWarning: The objective has been evaluated at point [0, 0, 0] before, using random point [1, 0, 1]\n",
      "  warnings.warn(\n"
     ]
    },
    {
     "name": "stdout",
     "output_type": "stream",
     "text": [
      "Iteration No: 16 ended. Search finished for the next optimal point.\n",
      "Time taken: 0.6290\n",
      "Function value obtained: 480.5539\n",
      "Current minimum: 1.5520\n",
      "Iteration No: 17 started. Searching for the next optimal point.\n"
     ]
    },
    {
     "name": "stderr",
     "output_type": "stream",
     "text": [
      "/opt/conda/lib/python3.12/site-packages/skopt/optimizer/optimizer.py:517: UserWarning: The objective has been evaluated at point [0, 0, 0] before, using random point [-1, 1, 0]\n",
      "  warnings.warn(\n"
     ]
    },
    {
     "name": "stdout",
     "output_type": "stream",
     "text": [
      "Iteration No: 17 ended. Search finished for the next optimal point.\n",
      "Time taken: 1.2347\n",
      "Function value obtained: 81.5879\n",
      "Current minimum: 1.5520\n",
      "Iteration No: 18 started. Searching for the next optimal point.\n"
     ]
    },
    {
     "name": "stderr",
     "output_type": "stream",
     "text": [
      "/opt/conda/lib/python3.12/site-packages/skopt/optimizer/optimizer.py:517: UserWarning: The objective has been evaluated at point [0, 0, 0] before, using random point [0, 0, 0]\n",
      "  warnings.warn(\n"
     ]
    },
    {
     "name": "stdout",
     "output_type": "stream",
     "text": [
      "Iteration No: 18 ended. Search finished for the next optimal point.\n",
      "Time taken: 0.6725\n",
      "Function value obtained: 1.5568\n",
      "Current minimum: 1.5520\n",
      "Iteration No: 19 started. Searching for the next optimal point.\n"
     ]
    },
    {
     "name": "stderr",
     "output_type": "stream",
     "text": [
      "/opt/conda/lib/python3.12/site-packages/skopt/optimizer/optimizer.py:517: UserWarning: The objective has been evaluated at point [0, 0, 0] before, using random point [1, -1, 0]\n",
      "  warnings.warn(\n"
     ]
    },
    {
     "name": "stdout",
     "output_type": "stream",
     "text": [
      "Iteration No: 19 ended. Search finished for the next optimal point.\n",
      "Time taken: 1.2038\n",
      "Function value obtained: 81.2469\n",
      "Current minimum: 1.5520\n",
      "Iteration No: 20 started. Searching for the next optimal point.\n"
     ]
    },
    {
     "name": "stderr",
     "output_type": "stream",
     "text": [
      "/opt/conda/lib/python3.12/site-packages/skopt/optimizer/optimizer.py:517: UserWarning: The objective has been evaluated at point [0, 0, 0] before, using random point [1, 0, 0]\n",
      "  warnings.warn(\n"
     ]
    },
    {
     "name": "stdout",
     "output_type": "stream",
     "text": [
      "Iteration No: 20 ended. Search finished for the next optimal point.\n",
      "Time taken: 0.7105\n",
      "Function value obtained: 81.3136\n",
      "Current minimum: 1.5520\n",
      "Iteration No: 21 started. Searching for the next optimal point.\n"
     ]
    },
    {
     "name": "stderr",
     "output_type": "stream",
     "text": [
      "/opt/conda/lib/python3.12/site-packages/skopt/optimizer/optimizer.py:517: UserWarning: The objective has been evaluated at point [0, 0, 0] before, using random point [-1, 0, 0]\n",
      "  warnings.warn(\n"
     ]
    },
    {
     "name": "stdout",
     "output_type": "stream",
     "text": [
      "Iteration No: 21 ended. Search finished for the next optimal point.\n",
      "Time taken: 1.3386\n",
      "Function value obtained: 1.7128\n",
      "Current minimum: 1.5520\n",
      "Iteration No: 22 started. Searching for the next optimal point.\n",
      "Iteration No: 22 ended. Search finished for the next optimal point.\n",
      "Time taken: 0.5303\n",
      "Function value obtained: 480.5307\n",
      "Current minimum: 1.5520\n",
      "Iteration No: 23 started. Searching for the next optimal point.\n"
     ]
    },
    {
     "name": "stderr",
     "output_type": "stream",
     "text": [
      "/opt/conda/lib/python3.12/site-packages/skopt/optimizer/optimizer.py:517: UserWarning: The objective has been evaluated at point [0, 0, 0] before, using random point [1, 0, 1]\n",
      "  warnings.warn(\n"
     ]
    },
    {
     "name": "stdout",
     "output_type": "stream",
     "text": [
      "Iteration No: 23 ended. Search finished for the next optimal point.\n",
      "Time taken: 1.2061\n",
      "Function value obtained: 480.5367\n",
      "Current minimum: 1.5520\n",
      "Iteration No: 24 started. Searching for the next optimal point.\n"
     ]
    },
    {
     "name": "stderr",
     "output_type": "stream",
     "text": [
      "/opt/conda/lib/python3.12/site-packages/skopt/optimizer/optimizer.py:517: UserWarning: The objective has been evaluated at point [0, 0, 0] before, using random point [0, -1, 1]\n",
      "  warnings.warn(\n"
     ]
    },
    {
     "name": "stdout",
     "output_type": "stream",
     "text": [
      "Iteration No: 24 ended. Search finished for the next optimal point.\n",
      "Time taken: 0.6958\n",
      "Function value obtained: 400.5820\n",
      "Current minimum: 1.5520\n",
      "Iteration No: 25 started. Searching for the next optimal point.\n"
     ]
    },
    {
     "name": "stderr",
     "output_type": "stream",
     "text": [
      "/opt/conda/lib/python3.12/site-packages/skopt/optimizer/optimizer.py:517: UserWarning: The objective has been evaluated at point [0, 0, 0] before, using random point [1, 1, 0]\n",
      "  warnings.warn(\n"
     ]
    },
    {
     "name": "stdout",
     "output_type": "stream",
     "text": [
      "Iteration No: 25 ended. Search finished for the next optimal point.\n",
      "Time taken: 1.2519\n",
      "Function value obtained: 161.2057\n",
      "Current minimum: 1.5520\n",
      "Iteration No: 26 started. Searching for the next optimal point.\n"
     ]
    },
    {
     "name": "stderr",
     "output_type": "stream",
     "text": [
      "/opt/conda/lib/python3.12/site-packages/skopt/optimizer/optimizer.py:517: UserWarning: The objective has been evaluated at point [0, 0, 0] before, using random point [-1, 0, 1]\n",
      "  warnings.warn(\n"
     ]
    },
    {
     "name": "stdout",
     "output_type": "stream",
     "text": [
      "Iteration No: 26 ended. Search finished for the next optimal point.\n",
      "Time taken: 0.6800\n",
      "Function value obtained: 400.6361\n",
      "Current minimum: 1.5520\n",
      "Iteration No: 27 started. Searching for the next optimal point.\n"
     ]
    },
    {
     "name": "stderr",
     "output_type": "stream",
     "text": [
      "/opt/conda/lib/python3.12/site-packages/skopt/optimizer/optimizer.py:517: UserWarning: The objective has been evaluated at point [0, 0, 0] before, using random point [-1, 0, 0]\n",
      "  warnings.warn(\n"
     ]
    },
    {
     "name": "stdout",
     "output_type": "stream",
     "text": [
      "Iteration No: 27 ended. Search finished for the next optimal point.\n",
      "Time taken: 1.3826\n",
      "Function value obtained: 1.7918\n",
      "Current minimum: 1.5520\n",
      "Iteration No: 28 started. Searching for the next optimal point.\n"
     ]
    },
    {
     "name": "stderr",
     "output_type": "stream",
     "text": [
      "/opt/conda/lib/python3.12/site-packages/skopt/optimizer/optimizer.py:517: UserWarning: The objective has been evaluated at point [0, 0, 0] before, using random point [0, 1, -1]\n",
      "  warnings.warn(\n"
     ]
    },
    {
     "name": "stdout",
     "output_type": "stream",
     "text": [
      "Iteration No: 28 ended. Search finished for the next optimal point.\n",
      "Time taken: 0.4979\n",
      "Function value obtained: 132.6215\n",
      "Current minimum: 1.5520\n",
      "Iteration No: 29 started. Searching for the next optimal point.\n"
     ]
    },
    {
     "name": "stderr",
     "output_type": "stream",
     "text": [
      "/opt/conda/lib/python3.12/site-packages/skopt/optimizer/optimizer.py:517: UserWarning: The objective has been evaluated at point [0, 0, 0] before, using random point [-1, 0, 0]\n",
      "  warnings.warn(\n"
     ]
    },
    {
     "name": "stdout",
     "output_type": "stream",
     "text": [
      "Iteration No: 29 ended. Search finished for the next optimal point.\n",
      "Time taken: 1.3311\n",
      "Function value obtained: 1.7640\n",
      "Current minimum: 1.5520\n",
      "Iteration No: 30 started. Searching for the next optimal point.\n"
     ]
    },
    {
     "name": "stderr",
     "output_type": "stream",
     "text": [
      "/opt/conda/lib/python3.12/site-packages/skopt/optimizer/optimizer.py:517: UserWarning: The objective has been evaluated at point [0, 0, 0] before, using random point [1, -1, 0]\n",
      "  warnings.warn(\n"
     ]
    },
    {
     "name": "stdout",
     "output_type": "stream",
     "text": [
      "Iteration No: 30 ended. Search finished for the next optimal point.\n",
      "Time taken: 0.6316\n",
      "Function value obtained: 81.3184\n",
      "Current minimum: 1.5520\n",
      "Iteration No: 31 started. Searching for the next optimal point.\n"
     ]
    },
    {
     "name": "stderr",
     "output_type": "stream",
     "text": [
      "/opt/conda/lib/python3.12/site-packages/skopt/optimizer/optimizer.py:517: UserWarning: The objective has been evaluated at point [0, 0, 0] before, using random point [0, -1, 0]\n",
      "  warnings.warn(\n"
     ]
    },
    {
     "name": "stdout",
     "output_type": "stream",
     "text": [
      "Iteration No: 31 ended. Search finished for the next optimal point.\n",
      "Time taken: 1.2800\n",
      "Function value obtained: 1.5305\n",
      "Current minimum: 1.5305\n",
      "Iteration No: 32 started. Searching for the next optimal point.\n"
     ]
    },
    {
     "name": "stderr",
     "output_type": "stream",
     "text": [
      "/opt/conda/lib/python3.12/site-packages/skopt/optimizer/optimizer.py:517: UserWarning: The objective has been evaluated at point [0, 0, 0] before, using random point [0, 0, 1]\n",
      "  warnings.warn(\n"
     ]
    },
    {
     "name": "stdout",
     "output_type": "stream",
     "text": [
      "Iteration No: 32 ended. Search finished for the next optimal point.\n",
      "Time taken: 0.9254\n",
      "Function value obtained: 400.6946\n",
      "Current minimum: 1.5305\n",
      "Iteration No: 33 started. Searching for the next optimal point.\n"
     ]
    },
    {
     "name": "stderr",
     "output_type": "stream",
     "text": [
      "/opt/conda/lib/python3.12/site-packages/skopt/optimizer/optimizer.py:517: UserWarning: The objective has been evaluated at point [0, 0, 0] before, using random point [-1, 0, 0]\n",
      "  warnings.warn(\n"
     ]
    },
    {
     "name": "stdout",
     "output_type": "stream",
     "text": [
      "Iteration No: 33 ended. Search finished for the next optimal point.\n",
      "Time taken: 1.4629\n",
      "Function value obtained: 1.7891\n",
      "Current minimum: 1.5305\n",
      "Iteration No: 34 started. Searching for the next optimal point.\n"
     ]
    },
    {
     "name": "stderr",
     "output_type": "stream",
     "text": [
      "/opt/conda/lib/python3.12/site-packages/skopt/optimizer/optimizer.py:517: UserWarning: The objective has been evaluated at point [0, 0, 0] before, using random point [1, 1, 0]\n",
      "  warnings.warn(\n"
     ]
    },
    {
     "name": "stdout",
     "output_type": "stream",
     "text": [
      "Iteration No: 34 ended. Search finished for the next optimal point.\n",
      "Time taken: 0.8750\n",
      "Function value obtained: 161.1878\n",
      "Current minimum: 1.5305\n",
      "Iteration No: 35 started. Searching for the next optimal point.\n"
     ]
    },
    {
     "name": "stderr",
     "output_type": "stream",
     "text": [
      "/opt/conda/lib/python3.12/site-packages/skopt/optimizer/optimizer.py:517: UserWarning: The objective has been evaluated at point [0, 0, 0] before, using random point [-1, 0, 1]\n",
      "  warnings.warn(\n"
     ]
    },
    {
     "name": "stdout",
     "output_type": "stream",
     "text": [
      "Iteration No: 35 ended. Search finished for the next optimal point.\n",
      "Time taken: 0.8198\n",
      "Function value obtained: 400.6420\n",
      "Current minimum: 1.5305\n",
      "Iteration No: 36 started. Searching for the next optimal point.\n"
     ]
    },
    {
     "name": "stderr",
     "output_type": "stream",
     "text": [
      "/opt/conda/lib/python3.12/site-packages/skopt/optimizer/optimizer.py:517: UserWarning: The objective has been evaluated at point [0, 0, 0] before, using random point [0, 1, 0]\n",
      "  warnings.warn(\n"
     ]
    },
    {
     "name": "stdout",
     "output_type": "stream",
     "text": [
      "Iteration No: 36 ended. Search finished for the next optimal point.\n",
      "Time taken: 1.3849\n",
      "Function value obtained: 81.4188\n",
      "Current minimum: 1.5305\n",
      "Iteration No: 37 started. Searching for the next optimal point.\n"
     ]
    },
    {
     "name": "stderr",
     "output_type": "stream",
     "text": [
      "/opt/conda/lib/python3.12/site-packages/skopt/optimizer/optimizer.py:517: UserWarning: The objective has been evaluated at point [0, 0, 0] before, using random point [1, 0, 0]\n",
      "  warnings.warn(\n"
     ]
    },
    {
     "name": "stdout",
     "output_type": "stream",
     "text": [
      "Iteration No: 37 ended. Search finished for the next optimal point.\n",
      "Time taken: 0.6183\n",
      "Function value obtained: 81.2665\n",
      "Current minimum: 1.5305\n",
      "Iteration No: 38 started. Searching for the next optimal point.\n"
     ]
    },
    {
     "name": "stderr",
     "output_type": "stream",
     "text": [
      "/opt/conda/lib/python3.12/site-packages/skopt/optimizer/optimizer.py:517: UserWarning: The objective has been evaluated at point [0, 0, 0] before, using random point [0, 0, -1]\n",
      "  warnings.warn(\n"
     ]
    },
    {
     "name": "stdout",
     "output_type": "stream",
     "text": [
      "Iteration No: 38 ended. Search finished for the next optimal point.\n",
      "Time taken: 1.1901\n",
      "Function value obtained: 66.3119\n",
      "Current minimum: 1.5305\n",
      "Iteration No: 39 started. Searching for the next optimal point.\n",
      "Iteration No: 39 ended. Search finished for the next optimal point.\n",
      "Time taken: 0.7799\n",
      "Function value obtained: 78.7331\n",
      "Current minimum: 1.5305\n",
      "Iteration No: 40 started. Searching for the next optimal point.\n"
     ]
    },
    {
     "name": "stderr",
     "output_type": "stream",
     "text": [
      "/opt/conda/lib/python3.12/site-packages/skopt/optimizer/optimizer.py:517: UserWarning: The objective has been evaluated at point [0, 0, 0] before, using random point [0, 0, 1]\n",
      "  warnings.warn(\n"
     ]
    },
    {
     "name": "stdout",
     "output_type": "stream",
     "text": [
      "Iteration No: 40 ended. Search finished for the next optimal point.\n",
      "Time taken: 1.3137\n",
      "Function value obtained: 400.6455\n",
      "Current minimum: 1.5305\n",
      "Iteration No: 41 started. Searching for the next optimal point.\n"
     ]
    },
    {
     "name": "stderr",
     "output_type": "stream",
     "text": [
      "/opt/conda/lib/python3.12/site-packages/skopt/optimizer/optimizer.py:517: UserWarning: The objective has been evaluated at point [0, 0, 0] before, using random point [1, 0, 0]\n",
      "  warnings.warn(\n"
     ]
    },
    {
     "name": "stdout",
     "output_type": "stream",
     "text": [
      "Iteration No: 41 ended. Search finished for the next optimal point.\n",
      "Time taken: 0.6397\n",
      "Function value obtained: 81.2909\n",
      "Current minimum: 1.5305\n",
      "Iteration No: 42 started. Searching for the next optimal point.\n"
     ]
    },
    {
     "name": "stderr",
     "output_type": "stream",
     "text": [
      "/opt/conda/lib/python3.12/site-packages/skopt/optimizer/optimizer.py:517: UserWarning: The objective has been evaluated at point [0, 0, 0] before, using random point [0, 0, -1]\n",
      "  warnings.warn(\n"
     ]
    },
    {
     "name": "stdout",
     "output_type": "stream",
     "text": [
      "Iteration No: 42 ended. Search finished for the next optimal point.\n",
      "Time taken: 1.2206\n",
      "Function value obtained: 65.8573\n",
      "Current minimum: 1.5305\n",
      "Iteration No: 43 started. Searching for the next optimal point.\n"
     ]
    },
    {
     "name": "stderr",
     "output_type": "stream",
     "text": [
      "/opt/conda/lib/python3.12/site-packages/skopt/optimizer/optimizer.py:517: UserWarning: The objective has been evaluated at point [0, 0, 0] before, using random point [1, 1, 0]\n",
      "  warnings.warn(\n"
     ]
    },
    {
     "name": "stdout",
     "output_type": "stream",
     "text": [
      "Iteration No: 43 ended. Search finished for the next optimal point.\n",
      "Time taken: 1.0972\n",
      "Function value obtained: 161.1645\n",
      "Current minimum: 1.5305\n",
      "Iteration No: 44 started. Searching for the next optimal point.\n"
     ]
    },
    {
     "name": "stderr",
     "output_type": "stream",
     "text": [
      "/opt/conda/lib/python3.12/site-packages/skopt/optimizer/optimizer.py:517: UserWarning: The objective has been evaluated at point [-1, -1, 0] before, using random point [0, 0, 1]\n",
      "  warnings.warn(\n"
     ]
    },
    {
     "name": "stdout",
     "output_type": "stream",
     "text": [
      "Iteration No: 44 ended. Search finished for the next optimal point.\n",
      "Time taken: 0.7343\n",
      "Function value obtained: 400.6648\n",
      "Current minimum: 1.5305\n",
      "Iteration No: 45 started. Searching for the next optimal point.\n"
     ]
    },
    {
     "name": "stderr",
     "output_type": "stream",
     "text": [
      "/opt/conda/lib/python3.12/site-packages/skopt/optimizer/optimizer.py:517: UserWarning: The objective has been evaluated at point [0, 0, 0] before, using random point [1, 0, 0]\n",
      "  warnings.warn(\n"
     ]
    },
    {
     "name": "stdout",
     "output_type": "stream",
     "text": [
      "Iteration No: 45 ended. Search finished for the next optimal point.\n",
      "Time taken: 1.2375\n",
      "Function value obtained: 81.3154\n",
      "Current minimum: 1.5305\n",
      "Iteration No: 46 started. Searching for the next optimal point.\n"
     ]
    },
    {
     "name": "stderr",
     "output_type": "stream",
     "text": [
      "/opt/conda/lib/python3.12/site-packages/skopt/optimizer/optimizer.py:517: UserWarning: The objective has been evaluated at point [0, 0, 0] before, using random point [0, 1, 1]\n",
      "  warnings.warn(\n"
     ]
    },
    {
     "name": "stdout",
     "output_type": "stream",
     "text": [
      "Iteration No: 46 ended. Search finished for the next optimal point.\n",
      "Time taken: 0.7298\n",
      "Function value obtained: 480.5687\n",
      "Current minimum: 1.5305\n",
      "Iteration No: 47 started. Searching for the next optimal point.\n",
      "Iteration No: 47 ended. Search finished for the next optimal point.\n",
      "Time taken: 1.4331\n",
      "Function value obtained: 85.9262\n",
      "Current minimum: 1.5305\n",
      "Iteration No: 48 started. Searching for the next optimal point.\n"
     ]
    },
    {
     "name": "stderr",
     "output_type": "stream",
     "text": [
      "/opt/conda/lib/python3.12/site-packages/skopt/optimizer/optimizer.py:517: UserWarning: The objective has been evaluated at point [0, 0, 0] before, using random point [-1, 1, 1]\n",
      "  warnings.warn(\n"
     ]
    },
    {
     "name": "stdout",
     "output_type": "stream",
     "text": [
      "Iteration No: 48 ended. Search finished for the next optimal point.\n",
      "Time taken: 0.7888\n",
      "Function value obtained: 480.5289\n",
      "Current minimum: 1.5305\n",
      "Iteration No: 49 started. Searching for the next optimal point.\n"
     ]
    },
    {
     "name": "stderr",
     "output_type": "stream",
     "text": [
      "/opt/conda/lib/python3.12/site-packages/skopt/optimizer/optimizer.py:517: UserWarning: The objective has been evaluated at point [0, 0, 0] before, using random point [0, 0, 0]\n",
      "  warnings.warn(\n"
     ]
    },
    {
     "name": "stdout",
     "output_type": "stream",
     "text": [
      "Iteration No: 49 ended. Search finished for the next optimal point.\n",
      "Time taken: 1.3904\n",
      "Function value obtained: 1.5688\n",
      "Current minimum: 1.5305\n",
      "Iteration No: 50 started. Searching for the next optimal point.\n"
     ]
    },
    {
     "name": "stderr",
     "output_type": "stream",
     "text": [
      "/opt/conda/lib/python3.12/site-packages/skopt/optimizer/optimizer.py:517: UserWarning: The objective has been evaluated at point [0, 0, 0] before, using random point [-1, 0, 0]\n",
      "  warnings.warn(\n"
     ]
    },
    {
     "name": "stdout",
     "output_type": "stream",
     "text": [
      "Iteration No: 50 ended. Search finished for the next optimal point.\n",
      "Time taken: 0.7980\n",
      "Function value obtained: 1.7784\n",
      "Current minimum: 1.5305\n",
      "Iteration No: 51 started. Searching for the next optimal point.\n"
     ]
    },
    {
     "name": "stderr",
     "output_type": "stream",
     "text": [
      "/opt/conda/lib/python3.12/site-packages/skopt/optimizer/optimizer.py:517: UserWarning: The objective has been evaluated at point [0, 0, 0] before, using random point [-1, 1, -1]\n",
      "  warnings.warn(\n"
     ]
    },
    {
     "name": "stdout",
     "output_type": "stream",
     "text": [
      "Iteration No: 51 ended. Search finished for the next optimal point.\n",
      "Time taken: 1.3323\n",
      "Function value obtained: 155.5981\n",
      "Current minimum: 1.5305\n",
      "Iteration No: 52 started. Searching for the next optimal point.\n"
     ]
    },
    {
     "name": "stderr",
     "output_type": "stream",
     "text": [
      "/opt/conda/lib/python3.12/site-packages/skopt/optimizer/optimizer.py:517: UserWarning: The objective has been evaluated at point [0, 0, 0] before, using random point [-1, 0, 0]\n",
      "  warnings.warn(\n"
     ]
    },
    {
     "name": "stdout",
     "output_type": "stream",
     "text": [
      "Iteration No: 52 ended. Search finished for the next optimal point.\n",
      "Time taken: 0.8028\n",
      "Function value obtained: 1.7587\n",
      "Current minimum: 1.5305\n",
      "Iteration No: 53 started. Searching for the next optimal point.\n"
     ]
    },
    {
     "name": "stderr",
     "output_type": "stream",
     "text": [
      "/opt/conda/lib/python3.12/site-packages/skopt/optimizer/optimizer.py:517: UserWarning: The objective has been evaluated at point [0, 0, 0] before, using random point [1, -1, 1]\n",
      "  warnings.warn(\n"
     ]
    },
    {
     "name": "stdout",
     "output_type": "stream",
     "text": [
      "Iteration No: 53 ended. Search finished for the next optimal point.\n",
      "Time taken: 1.0532\n",
      "Function value obtained: 480.4719\n",
      "Current minimum: 1.5305\n",
      "Iteration No: 54 started. Searching for the next optimal point.\n"
     ]
    },
    {
     "name": "stderr",
     "output_type": "stream",
     "text": [
      "/opt/conda/lib/python3.12/site-packages/skopt/optimizer/optimizer.py:517: UserWarning: The objective has been evaluated at point [0, 0, 0] before, using random point [0, 0, -1]\n",
      "  warnings.warn(\n"
     ]
    },
    {
     "name": "stdout",
     "output_type": "stream",
     "text": [
      "Iteration No: 54 ended. Search finished for the next optimal point.\n",
      "Time taken: 1.3337\n",
      "Function value obtained: 65.3118\n",
      "Current minimum: 1.5305\n",
      "Iteration No: 55 started. Searching for the next optimal point.\n"
     ]
    },
    {
     "name": "stderr",
     "output_type": "stream",
     "text": [
      "/opt/conda/lib/python3.12/site-packages/skopt/optimizer/optimizer.py:517: UserWarning: The objective has been evaluated at point [0, 0, 0] before, using random point [0, 0, -1]\n",
      "  warnings.warn(\n"
     ]
    },
    {
     "name": "stdout",
     "output_type": "stream",
     "text": [
      "Iteration No: 55 ended. Search finished for the next optimal point.\n",
      "Time taken: 0.8202\n",
      "Function value obtained: 66.2738\n",
      "Current minimum: 1.5305\n",
      "Iteration No: 56 started. Searching for the next optimal point.\n"
     ]
    },
    {
     "name": "stderr",
     "output_type": "stream",
     "text": [
      "/opt/conda/lib/python3.12/site-packages/skopt/optimizer/optimizer.py:517: UserWarning: The objective has been evaluated at point [1, -1, 0] before, using random point [1, 0, 0]\n",
      "  warnings.warn(\n"
     ]
    },
    {
     "name": "stdout",
     "output_type": "stream",
     "text": [
      "Iteration No: 56 ended. Search finished for the next optimal point.\n",
      "Time taken: 1.4591\n",
      "Function value obtained: 81.2901\n",
      "Current minimum: 1.5305\n",
      "Iteration No: 57 started. Searching for the next optimal point.\n"
     ]
    },
    {
     "name": "stderr",
     "output_type": "stream",
     "text": [
      "/opt/conda/lib/python3.12/site-packages/skopt/optimizer/optimizer.py:517: UserWarning: The objective has been evaluated at point [1, -1, 1] before, using random point [-1, 0, -1]\n",
      "  warnings.warn(\n"
     ]
    },
    {
     "name": "stdout",
     "output_type": "stream",
     "text": [
      "Iteration No: 57 ended. Search finished for the next optimal point.\n",
      "Time taken: 1.0615\n",
      "Function value obtained: 87.9100\n",
      "Current minimum: 1.5305\n",
      "Iteration No: 58 started. Searching for the next optimal point.\n"
     ]
    },
    {
     "name": "stderr",
     "output_type": "stream",
     "text": [
      "/opt/conda/lib/python3.12/site-packages/skopt/optimizer/optimizer.py:517: UserWarning: The objective has been evaluated at point [0, 0, 0] before, using random point [1, 0, 1]\n",
      "  warnings.warn(\n"
     ]
    },
    {
     "name": "stdout",
     "output_type": "stream",
     "text": [
      "Iteration No: 58 ended. Search finished for the next optimal point.\n",
      "Time taken: 0.8700\n",
      "Function value obtained: 480.5503\n",
      "Current minimum: 1.5305\n",
      "Iteration No: 59 started. Searching for the next optimal point.\n"
     ]
    },
    {
     "name": "stderr",
     "output_type": "stream",
     "text": [
      "/opt/conda/lib/python3.12/site-packages/skopt/optimizer/optimizer.py:517: UserWarning: The objective has been evaluated at point [-1, 0, 0] before, using random point [0, 0, 0]\n",
      "  warnings.warn(\n"
     ]
    },
    {
     "name": "stdout",
     "output_type": "stream",
     "text": [
      "Iteration No: 59 ended. Search finished for the next optimal point.\n",
      "Time taken: 1.3789\n",
      "Function value obtained: 1.6064\n",
      "Current minimum: 1.5305\n",
      "Iteration No: 60 started. Searching for the next optimal point.\n"
     ]
    },
    {
     "name": "stderr",
     "output_type": "stream",
     "text": [
      "/opt/conda/lib/python3.12/site-packages/skopt/optimizer/optimizer.py:517: UserWarning: The objective has been evaluated at point [0, 0, 0] before, using random point [1, 0, 0]\n",
      "  warnings.warn(\n"
     ]
    },
    {
     "name": "stdout",
     "output_type": "stream",
     "text": [
      "Iteration No: 60 ended. Search finished for the next optimal point.\n",
      "Time taken: 0.8221\n",
      "Function value obtained: 81.3102\n",
      "Current minimum: 1.5305\n",
      "Iteration No: 61 started. Searching for the next optimal point.\n"
     ]
    },
    {
     "name": "stderr",
     "output_type": "stream",
     "text": [
      "/opt/conda/lib/python3.12/site-packages/skopt/optimizer/optimizer.py:517: UserWarning: The objective has been evaluated at point [0, 0, 0] before, using random point [0, 0, -1]\n",
      "  warnings.warn(\n"
     ]
    },
    {
     "name": "stdout",
     "output_type": "stream",
     "text": [
      "Iteration No: 61 ended. Search finished for the next optimal point.\n",
      "Time taken: 0.7715\n",
      "Function value obtained: 65.8473\n",
      "Current minimum: 1.5305\n",
      "Iteration No: 62 started. Searching for the next optimal point.\n"
     ]
    },
    {
     "name": "stderr",
     "output_type": "stream",
     "text": [
      "/opt/conda/lib/python3.12/site-packages/skopt/optimizer/optimizer.py:517: UserWarning: The objective has been evaluated at point [0, 0, 0] before, using random point [0, 0, -1]\n",
      "  warnings.warn(\n"
     ]
    },
    {
     "name": "stdout",
     "output_type": "stream",
     "text": [
      "Iteration No: 62 ended. Search finished for the next optimal point.\n",
      "Time taken: 1.2000\n",
      "Function value obtained: 65.7434\n",
      "Current minimum: 1.5305\n",
      "Iteration No: 63 started. Searching for the next optimal point.\n"
     ]
    },
    {
     "name": "stderr",
     "output_type": "stream",
     "text": [
      "/opt/conda/lib/python3.12/site-packages/skopt/optimizer/optimizer.py:517: UserWarning: The objective has been evaluated at point [0, 0, 0] before, using random point [1, 1, 0]\n",
      "  warnings.warn(\n"
     ]
    },
    {
     "name": "stdout",
     "output_type": "stream",
     "text": [
      "Iteration No: 63 ended. Search finished for the next optimal point.\n",
      "Time taken: 1.4077\n",
      "Function value obtained: 161.1808\n",
      "Current minimum: 1.5305\n",
      "Iteration No: 64 started. Searching for the next optimal point.\n"
     ]
    },
    {
     "name": "stderr",
     "output_type": "stream",
     "text": [
      "/opt/conda/lib/python3.12/site-packages/skopt/optimizer/optimizer.py:517: UserWarning: The objective has been evaluated at point [0, 0, 0] before, using random point [0, 1, -1]\n",
      "  warnings.warn(\n"
     ]
    },
    {
     "name": "stdout",
     "output_type": "stream",
     "text": [
      "Iteration No: 64 ended. Search finished for the next optimal point.\n",
      "Time taken: 0.8430\n",
      "Function value obtained: 133.0361\n",
      "Current minimum: 1.5305\n",
      "Iteration No: 65 started. Searching for the next optimal point.\n"
     ]
    },
    {
     "name": "stderr",
     "output_type": "stream",
     "text": [
      "/opt/conda/lib/python3.12/site-packages/skopt/optimizer/optimizer.py:517: UserWarning: The objective has been evaluated at point [0, 1, 1] before, using random point [0, 0, 0]\n",
      "  warnings.warn(\n"
     ]
    },
    {
     "name": "stdout",
     "output_type": "stream",
     "text": [
      "Iteration No: 65 ended. Search finished for the next optimal point.\n",
      "Time taken: 1.3538\n",
      "Function value obtained: 1.5430\n",
      "Current minimum: 1.5305\n",
      "Iteration No: 66 started. Searching for the next optimal point.\n"
     ]
    },
    {
     "name": "stderr",
     "output_type": "stream",
     "text": [
      "/opt/conda/lib/python3.12/site-packages/skopt/optimizer/optimizer.py:517: UserWarning: The objective has been evaluated at point [0, 0, 0] before, using random point [-1, 1, 0]\n",
      "  warnings.warn(\n"
     ]
    },
    {
     "name": "stdout",
     "output_type": "stream",
     "text": [
      "Iteration No: 66 ended. Search finished for the next optimal point.\n",
      "Time taken: 0.8945\n",
      "Function value obtained: 81.5596\n",
      "Current minimum: 1.5305\n",
      "Iteration No: 67 started. Searching for the next optimal point.\n"
     ]
    },
    {
     "name": "stderr",
     "output_type": "stream",
     "text": [
      "/opt/conda/lib/python3.12/site-packages/skopt/optimizer/optimizer.py:517: UserWarning: The objective has been evaluated at point [0, 0, 0] before, using random point [1, 1, -1]\n",
      "  warnings.warn(\n"
     ]
    },
    {
     "name": "stdout",
     "output_type": "stream",
     "text": [
      "Iteration No: 67 ended. Search finished for the next optimal point.\n",
      "Time taken: 3.6381\n",
      "Function value obtained: 193.0558\n",
      "Current minimum: 1.5305\n",
      "Iteration No: 68 started. Searching for the next optimal point.\n"
     ]
    },
    {
     "name": "stderr",
     "output_type": "stream",
     "text": [
      "/opt/conda/lib/python3.12/site-packages/skopt/optimizer/optimizer.py:517: UserWarning: The objective has been evaluated at point [0, 0, 0] before, using random point [-1, -1, 0]\n",
      "  warnings.warn(\n"
     ]
    },
    {
     "name": "stdout",
     "output_type": "stream",
     "text": [
      "Iteration No: 68 ended. Search finished for the next optimal point.\n",
      "Time taken: 1.8704\n",
      "Function value obtained: 1.8257\n",
      "Current minimum: 1.5305\n",
      "Iteration No: 69 started. Searching for the next optimal point.\n"
     ]
    },
    {
     "name": "stderr",
     "output_type": "stream",
     "text": [
      "/opt/conda/lib/python3.12/site-packages/skopt/optimizer/optimizer.py:517: UserWarning: The objective has been evaluated at point [0, 0, 0] before, using random point [0, 0, 1]\n",
      "  warnings.warn(\n"
     ]
    },
    {
     "name": "stdout",
     "output_type": "stream",
     "text": [
      "Iteration No: 69 ended. Search finished for the next optimal point.\n",
      "Time taken: 1.5192\n",
      "Function value obtained: 400.6589\n",
      "Current minimum: 1.5305\n",
      "Iteration No: 70 started. Searching for the next optimal point.\n"
     ]
    },
    {
     "name": "stderr",
     "output_type": "stream",
     "text": [
      "/opt/conda/lib/python3.12/site-packages/skopt/optimizer/optimizer.py:517: UserWarning: The objective has been evaluated at point [0, 0, 0] before, using random point [-1, -1, 1]\n",
      "  warnings.warn(\n"
     ]
    },
    {
     "name": "stdout",
     "output_type": "stream",
     "text": [
      "Iteration No: 70 ended. Search finished for the next optimal point.\n",
      "Time taken: 1.4923\n",
      "Function value obtained: 400.5591\n",
      "Current minimum: 1.5305\n",
      "Iteration No: 71 started. Searching for the next optimal point.\n"
     ]
    },
    {
     "name": "stderr",
     "output_type": "stream",
     "text": [
      "/opt/conda/lib/python3.12/site-packages/skopt/optimizer/optimizer.py:517: UserWarning: The objective has been evaluated at point [0, 0, 0] before, using random point [0, 1, -1]\n",
      "  warnings.warn(\n"
     ]
    },
    {
     "name": "stdout",
     "output_type": "stream",
     "text": [
      "Iteration No: 71 ended. Search finished for the next optimal point.\n",
      "Time taken: 1.4917\n",
      "Function value obtained: 132.9276\n",
      "Current minimum: 1.5305\n",
      "Iteration No: 72 started. Searching for the next optimal point.\n"
     ]
    },
    {
     "name": "stderr",
     "output_type": "stream",
     "text": [
      "/opt/conda/lib/python3.12/site-packages/skopt/optimizer/optimizer.py:517: UserWarning: The objective has been evaluated at point [0, 0, 0] before, using random point [1, -1, 0]\n",
      "  warnings.warn(\n"
     ]
    },
    {
     "name": "stdout",
     "output_type": "stream",
     "text": [
      "Iteration No: 72 ended. Search finished for the next optimal point.\n",
      "Time taken: 1.9072\n",
      "Function value obtained: 81.2546\n",
      "Current minimum: 1.5305\n",
      "Iteration No: 73 started. Searching for the next optimal point.\n"
     ]
    },
    {
     "name": "stderr",
     "output_type": "stream",
     "text": [
      "/opt/conda/lib/python3.12/site-packages/skopt/optimizer/optimizer.py:517: UserWarning: The objective has been evaluated at point [0, 0, 0] before, using random point [-1, 1, -1]\n",
      "  warnings.warn(\n"
     ]
    },
    {
     "name": "stdout",
     "output_type": "stream",
     "text": [
      "Iteration No: 73 ended. Search finished for the next optimal point.\n",
      "Time taken: 1.7547\n",
      "Function value obtained: 152.4384\n",
      "Current minimum: 1.5305\n",
      "Iteration No: 74 started. Searching for the next optimal point.\n"
     ]
    },
    {
     "name": "stderr",
     "output_type": "stream",
     "text": [
      "/opt/conda/lib/python3.12/site-packages/skopt/optimizer/optimizer.py:517: UserWarning: The objective has been evaluated at point [0, 0, 0] before, using random point [0, -1, -1]\n",
      "  warnings.warn(\n"
     ]
    },
    {
     "name": "stdout",
     "output_type": "stream",
     "text": [
      "Iteration No: 74 ended. Search finished for the next optimal point.\n",
      "Time taken: 1.7889\n",
      "Function value obtained: 78.5590\n",
      "Current minimum: 1.5305\n",
      "Iteration No: 75 started. Searching for the next optimal point.\n"
     ]
    },
    {
     "name": "stderr",
     "output_type": "stream",
     "text": [
      "/opt/conda/lib/python3.12/site-packages/skopt/optimizer/optimizer.py:517: UserWarning: The objective has been evaluated at point [0, 0, 0] before, using random point [-1, 0, 0]\n",
      "  warnings.warn(\n"
     ]
    },
    {
     "name": "stdout",
     "output_type": "stream",
     "text": [
      "Iteration No: 75 ended. Search finished for the next optimal point.\n",
      "Time taken: 0.9253\n",
      "Function value obtained: 1.7061\n",
      "Current minimum: 1.5305\n",
      "Iteration No: 76 started. Searching for the next optimal point.\n"
     ]
    },
    {
     "name": "stderr",
     "output_type": "stream",
     "text": [
      "/opt/conda/lib/python3.12/site-packages/skopt/optimizer/optimizer.py:517: UserWarning: The objective has been evaluated at point [0, 0, 0] before, using random point [0, 0, 1]\n",
      "  warnings.warn(\n"
     ]
    },
    {
     "name": "stdout",
     "output_type": "stream",
     "text": [
      "Iteration No: 76 ended. Search finished for the next optimal point.\n",
      "Time taken: 1.2247\n",
      "Function value obtained: 400.6754\n",
      "Current minimum: 1.5305\n",
      "Iteration No: 77 started. Searching for the next optimal point.\n"
     ]
    },
    {
     "name": "stderr",
     "output_type": "stream",
     "text": [
      "/opt/conda/lib/python3.12/site-packages/skopt/optimizer/optimizer.py:517: UserWarning: The objective has been evaluated at point [0, 0, 0] before, using random point [1, 0, 1]\n",
      "  warnings.warn(\n"
     ]
    },
    {
     "name": "stdout",
     "output_type": "stream",
     "text": [
      "Iteration No: 77 ended. Search finished for the next optimal point.\n",
      "Time taken: 0.9413\n",
      "Function value obtained: 480.5515\n",
      "Current minimum: 1.5305\n",
      "Iteration No: 78 started. Searching for the next optimal point.\n"
     ]
    },
    {
     "name": "stderr",
     "output_type": "stream",
     "text": [
      "/opt/conda/lib/python3.12/site-packages/skopt/optimizer/optimizer.py:517: UserWarning: The objective has been evaluated at point [0, 0, 0] before, using random point [0, 0, -1]\n",
      "  warnings.warn(\n"
     ]
    },
    {
     "name": "stdout",
     "output_type": "stream",
     "text": [
      "Iteration No: 78 ended. Search finished for the next optimal point.\n",
      "Time taken: 1.3373\n",
      "Function value obtained: 65.4061\n",
      "Current minimum: 1.5305\n",
      "Iteration No: 79 started. Searching for the next optimal point.\n"
     ]
    },
    {
     "name": "stderr",
     "output_type": "stream",
     "text": [
      "/opt/conda/lib/python3.12/site-packages/skopt/optimizer/optimizer.py:517: UserWarning: The objective has been evaluated at point [0, 0, 0] before, using random point [-1, -1, 0]\n",
      "  warnings.warn(\n"
     ]
    },
    {
     "name": "stdout",
     "output_type": "stream",
     "text": [
      "Iteration No: 79 ended. Search finished for the next optimal point.\n",
      "Time taken: 1.5122\n",
      "Function value obtained: 1.8108\n",
      "Current minimum: 1.5305\n",
      "Iteration No: 80 started. Searching for the next optimal point.\n"
     ]
    },
    {
     "name": "stderr",
     "output_type": "stream",
     "text": [
      "/opt/conda/lib/python3.12/site-packages/skopt/optimizer/optimizer.py:517: UserWarning: The objective has been evaluated at point [0, 0, 0] before, using random point [0, 0, -1]\n",
      "  warnings.warn(\n"
     ]
    },
    {
     "name": "stdout",
     "output_type": "stream",
     "text": [
      "Iteration No: 80 ended. Search finished for the next optimal point.\n",
      "Time taken: 0.9908\n",
      "Function value obtained: 65.8789\n",
      "Current minimum: 1.5305\n",
      "Iteration No: 81 started. Searching for the next optimal point.\n"
     ]
    },
    {
     "name": "stderr",
     "output_type": "stream",
     "text": [
      "/opt/conda/lib/python3.12/site-packages/skopt/optimizer/optimizer.py:517: UserWarning: The objective has been evaluated at point [0, 0, 0] before, using random point [0, -1, 1]\n",
      "  warnings.warn(\n"
     ]
    },
    {
     "name": "stdout",
     "output_type": "stream",
     "text": [
      "Iteration No: 81 ended. Search finished for the next optimal point.\n",
      "Time taken: 1.4191\n",
      "Function value obtained: 400.5987\n",
      "Current minimum: 1.5305\n",
      "Iteration No: 82 started. Searching for the next optimal point.\n"
     ]
    },
    {
     "name": "stderr",
     "output_type": "stream",
     "text": [
      "/opt/conda/lib/python3.12/site-packages/skopt/optimizer/optimizer.py:517: UserWarning: The objective has been evaluated at point [0, 0, 0] before, using random point [1, 0, 0]\n",
      "  warnings.warn(\n"
     ]
    },
    {
     "name": "stdout",
     "output_type": "stream",
     "text": [
      "Iteration No: 82 ended. Search finished for the next optimal point.\n",
      "Time taken: 1.5757\n",
      "Function value obtained: 81.3234\n",
      "Current minimum: 1.5305\n",
      "Iteration No: 83 started. Searching for the next optimal point.\n"
     ]
    },
    {
     "name": "stderr",
     "output_type": "stream",
     "text": [
      "/opt/conda/lib/python3.12/site-packages/skopt/optimizer/optimizer.py:517: UserWarning: The objective has been evaluated at point [0, 0, 0] before, using random point [0, 0, 0]\n",
      "  warnings.warn(\n"
     ]
    },
    {
     "name": "stdout",
     "output_type": "stream",
     "text": [
      "Iteration No: 83 ended. Search finished for the next optimal point.\n",
      "Time taken: 1.4847\n",
      "Function value obtained: 1.5709\n",
      "Current minimum: 1.5305\n",
      "Iteration No: 84 started. Searching for the next optimal point.\n"
     ]
    },
    {
     "name": "stderr",
     "output_type": "stream",
     "text": [
      "/opt/conda/lib/python3.12/site-packages/skopt/optimizer/optimizer.py:517: UserWarning: The objective has been evaluated at point [0, 0, 0] before, using random point [-1, 0, 0]\n",
      "  warnings.warn(\n"
     ]
    },
    {
     "name": "stdout",
     "output_type": "stream",
     "text": [
      "Iteration No: 84 ended. Search finished for the next optimal point.\n",
      "Time taken: 1.7230\n",
      "Function value obtained: 1.7609\n",
      "Current minimum: 1.5305\n",
      "Iteration No: 85 started. Searching for the next optimal point.\n"
     ]
    },
    {
     "name": "stderr",
     "output_type": "stream",
     "text": [
      "/opt/conda/lib/python3.12/site-packages/skopt/optimizer/optimizer.py:517: UserWarning: The objective has been evaluated at point [0, 0, 0] before, using random point [1, -1, 0]\n",
      "  warnings.warn(\n"
     ]
    },
    {
     "name": "stdout",
     "output_type": "stream",
     "text": [
      "Iteration No: 85 ended. Search finished for the next optimal point.\n",
      "Time taken: 1.9398\n",
      "Function value obtained: 81.3005\n",
      "Current minimum: 1.5305\n",
      "Iteration No: 86 started. Searching for the next optimal point.\n"
     ]
    },
    {
     "name": "stderr",
     "output_type": "stream",
     "text": [
      "/opt/conda/lib/python3.12/site-packages/skopt/optimizer/optimizer.py:517: UserWarning: The objective has been evaluated at point [0, 0, 0] before, using random point [0, 0, -1]\n",
      "  warnings.warn(\n"
     ]
    },
    {
     "name": "stdout",
     "output_type": "stream",
     "text": [
      "Iteration No: 86 ended. Search finished for the next optimal point.\n",
      "Time taken: 1.9277\n",
      "Function value obtained: 66.1497\n",
      "Current minimum: 1.5305\n",
      "Iteration No: 87 started. Searching for the next optimal point.\n"
     ]
    },
    {
     "name": "stderr",
     "output_type": "stream",
     "text": [
      "/opt/conda/lib/python3.12/site-packages/skopt/optimizer/optimizer.py:517: UserWarning: The objective has been evaluated at point [0, 0, 0] before, using random point [-1, -1, 1]\n",
      "  warnings.warn(\n"
     ]
    },
    {
     "name": "stdout",
     "output_type": "stream",
     "text": [
      "Iteration No: 87 ended. Search finished for the next optimal point.\n",
      "Time taken: 1.8929\n",
      "Function value obtained: 400.5718\n",
      "Current minimum: 1.5305\n",
      "Iteration No: 88 started. Searching for the next optimal point.\n"
     ]
    },
    {
     "name": "stderr",
     "output_type": "stream",
     "text": [
      "/opt/conda/lib/python3.12/site-packages/skopt/optimizer/optimizer.py:517: UserWarning: The objective has been evaluated at point [0, 0, 0] before, using random point [1, 1, 1]\n",
      "  warnings.warn(\n"
     ]
    },
    {
     "name": "stdout",
     "output_type": "stream",
     "text": [
      "Iteration No: 88 ended. Search finished for the next optimal point.\n",
      "Time taken: 1.9850\n",
      "Function value obtained: 560.4666\n",
      "Current minimum: 1.5305\n",
      "Iteration No: 89 started. Searching for the next optimal point.\n"
     ]
    },
    {
     "name": "stderr",
     "output_type": "stream",
     "text": [
      "/opt/conda/lib/python3.12/site-packages/skopt/optimizer/optimizer.py:517: UserWarning: The objective has been evaluated at point [0, 0, 0] before, using random point [0, 0, 0]\n",
      "  warnings.warn(\n"
     ]
    },
    {
     "name": "stdout",
     "output_type": "stream",
     "text": [
      "Iteration No: 89 ended. Search finished for the next optimal point.\n",
      "Time taken: 1.8270\n",
      "Function value obtained: 1.5572\n",
      "Current minimum: 1.5305\n",
      "Iteration No: 90 started. Searching for the next optimal point.\n"
     ]
    },
    {
     "name": "stderr",
     "output_type": "stream",
     "text": [
      "/opt/conda/lib/python3.12/site-packages/skopt/optimizer/optimizer.py:517: UserWarning: The objective has been evaluated at point [0, 0, 0] before, using random point [0, 0, 1]\n",
      "  warnings.warn(\n",
      "/opt/conda/lib/python3.12/site-packages/skopt/optimizer/optimizer.py:517: UserWarning: The objective has been evaluated at point [0, 0, 0] before, using random point [0, -1, 0]\n",
      "  warnings.warn(\n"
     ]
    },
    {
     "name": "stdout",
     "output_type": "stream",
     "text": [
      "Iteration No: 90 ended. Search finished for the next optimal point.\n",
      "Time taken: 1.9771\n",
      "Function value obtained: 400.6584\n",
      "Current minimum: 1.5305\n",
      "Iteration No: 91 started. Searching for the next optimal point.\n",
      "Iteration No: 91 ended. Search finished for the next optimal point.\n",
      "Time taken: 1.9781\n",
      "Function value obtained: 1.5647\n",
      "Current minimum: 1.5305\n",
      "Iteration No: 92 started. Searching for the next optimal point.\n"
     ]
    },
    {
     "name": "stderr",
     "output_type": "stream",
     "text": [
      "/opt/conda/lib/python3.12/site-packages/skopt/optimizer/optimizer.py:517: UserWarning: The objective has been evaluated at point [0, 0, 0] before, using random point [0, 0, 0]\n",
      "  warnings.warn(\n"
     ]
    },
    {
     "ename": "KeyboardInterrupt",
     "evalue": "",
     "output_type": "error",
     "traceback": [
      "\u001b[0;31m---------------------------------------------------------------------------\u001b[0m",
      "\u001b[0;31mKeyboardInterrupt\u001b[0m                         Traceback (most recent call last)",
      "File \u001b[0;32m<timed exec>:2\u001b[0m\n",
      "File \u001b[0;32m/opt/conda/lib/python3.12/site-packages/skopt/optimizer/gp.py:281\u001b[0m, in \u001b[0;36mgp_minimize\u001b[0;34m(func, dimensions, base_estimator, n_calls, n_random_starts, n_initial_points, initial_point_generator, acq_func, acq_optimizer, x0, y0, random_state, verbose, callback, n_points, n_restarts_optimizer, xi, kappa, noise, n_jobs, model_queue_size, space_constraint)\u001b[0m\n\u001b[1;32m    273\u001b[0m \u001b[38;5;28;01mif\u001b[39;00m base_estimator \u001b[38;5;129;01mis\u001b[39;00m \u001b[38;5;28;01mNone\u001b[39;00m:\n\u001b[1;32m    274\u001b[0m     base_estimator \u001b[38;5;241m=\u001b[39m cook_estimator(\n\u001b[1;32m    275\u001b[0m         \u001b[38;5;124m\"\u001b[39m\u001b[38;5;124mGP\u001b[39m\u001b[38;5;124m\"\u001b[39m,\n\u001b[1;32m    276\u001b[0m         space\u001b[38;5;241m=\u001b[39mspace,\n\u001b[1;32m    277\u001b[0m         random_state\u001b[38;5;241m=\u001b[39mrng\u001b[38;5;241m.\u001b[39mrandint(\u001b[38;5;241m0\u001b[39m, np\u001b[38;5;241m.\u001b[39miinfo(np\u001b[38;5;241m.\u001b[39mint32)\u001b[38;5;241m.\u001b[39mmax),\n\u001b[1;32m    278\u001b[0m         noise\u001b[38;5;241m=\u001b[39mnoise,\n\u001b[1;32m    279\u001b[0m     )\n\u001b[0;32m--> 281\u001b[0m \u001b[38;5;28;01mreturn\u001b[39;00m \u001b[43mbase_minimize\u001b[49m\u001b[43m(\u001b[49m\n\u001b[1;32m    282\u001b[0m \u001b[43m    \u001b[49m\u001b[43mfunc\u001b[49m\u001b[43m,\u001b[49m\n\u001b[1;32m    283\u001b[0m \u001b[43m    \u001b[49m\u001b[43mspace\u001b[49m\u001b[43m,\u001b[49m\n\u001b[1;32m    284\u001b[0m \u001b[43m    \u001b[49m\u001b[43mbase_estimator\u001b[49m\u001b[38;5;241;43m=\u001b[39;49m\u001b[43mbase_estimator\u001b[49m\u001b[43m,\u001b[49m\n\u001b[1;32m    285\u001b[0m \u001b[43m    \u001b[49m\u001b[43macq_func\u001b[49m\u001b[38;5;241;43m=\u001b[39;49m\u001b[43macq_func\u001b[49m\u001b[43m,\u001b[49m\n\u001b[1;32m    286\u001b[0m \u001b[43m    \u001b[49m\u001b[43mxi\u001b[49m\u001b[38;5;241;43m=\u001b[39;49m\u001b[43mxi\u001b[49m\u001b[43m,\u001b[49m\n\u001b[1;32m    287\u001b[0m \u001b[43m    \u001b[49m\u001b[43mkappa\u001b[49m\u001b[38;5;241;43m=\u001b[39;49m\u001b[43mkappa\u001b[49m\u001b[43m,\u001b[49m\n\u001b[1;32m    288\u001b[0m \u001b[43m    \u001b[49m\u001b[43macq_optimizer\u001b[49m\u001b[38;5;241;43m=\u001b[39;49m\u001b[43macq_optimizer\u001b[49m\u001b[43m,\u001b[49m\n\u001b[1;32m    289\u001b[0m \u001b[43m    \u001b[49m\u001b[43mn_calls\u001b[49m\u001b[38;5;241;43m=\u001b[39;49m\u001b[43mn_calls\u001b[49m\u001b[43m,\u001b[49m\n\u001b[1;32m    290\u001b[0m \u001b[43m    \u001b[49m\u001b[43mn_points\u001b[49m\u001b[38;5;241;43m=\u001b[39;49m\u001b[43mn_points\u001b[49m\u001b[43m,\u001b[49m\n\u001b[1;32m    291\u001b[0m \u001b[43m    \u001b[49m\u001b[43mn_random_starts\u001b[49m\u001b[38;5;241;43m=\u001b[39;49m\u001b[43mn_random_starts\u001b[49m\u001b[43m,\u001b[49m\n\u001b[1;32m    292\u001b[0m \u001b[43m    \u001b[49m\u001b[43mn_initial_points\u001b[49m\u001b[38;5;241;43m=\u001b[39;49m\u001b[43mn_initial_points\u001b[49m\u001b[43m,\u001b[49m\n\u001b[1;32m    293\u001b[0m \u001b[43m    \u001b[49m\u001b[43minitial_point_generator\u001b[49m\u001b[38;5;241;43m=\u001b[39;49m\u001b[43minitial_point_generator\u001b[49m\u001b[43m,\u001b[49m\n\u001b[1;32m    294\u001b[0m \u001b[43m    \u001b[49m\u001b[43mn_restarts_optimizer\u001b[49m\u001b[38;5;241;43m=\u001b[39;49m\u001b[43mn_restarts_optimizer\u001b[49m\u001b[43m,\u001b[49m\n\u001b[1;32m    295\u001b[0m \u001b[43m    \u001b[49m\u001b[43mx0\u001b[49m\u001b[38;5;241;43m=\u001b[39;49m\u001b[43mx0\u001b[49m\u001b[43m,\u001b[49m\n\u001b[1;32m    296\u001b[0m \u001b[43m    \u001b[49m\u001b[43my0\u001b[49m\u001b[38;5;241;43m=\u001b[39;49m\u001b[43my0\u001b[49m\u001b[43m,\u001b[49m\n\u001b[1;32m    297\u001b[0m \u001b[43m    \u001b[49m\u001b[43mrandom_state\u001b[49m\u001b[38;5;241;43m=\u001b[39;49m\u001b[43mrng\u001b[49m\u001b[43m,\u001b[49m\n\u001b[1;32m    298\u001b[0m \u001b[43m    \u001b[49m\u001b[43mverbose\u001b[49m\u001b[38;5;241;43m=\u001b[39;49m\u001b[43mverbose\u001b[49m\u001b[43m,\u001b[49m\n\u001b[1;32m    299\u001b[0m \u001b[43m    \u001b[49m\u001b[43mspace_constraint\u001b[49m\u001b[38;5;241;43m=\u001b[39;49m\u001b[43mspace_constraint\u001b[49m\u001b[43m,\u001b[49m\n\u001b[1;32m    300\u001b[0m \u001b[43m    \u001b[49m\u001b[43mcallback\u001b[49m\u001b[38;5;241;43m=\u001b[39;49m\u001b[43mcallback\u001b[49m\u001b[43m,\u001b[49m\n\u001b[1;32m    301\u001b[0m \u001b[43m    \u001b[49m\u001b[43mn_jobs\u001b[49m\u001b[38;5;241;43m=\u001b[39;49m\u001b[43mn_jobs\u001b[49m\u001b[43m,\u001b[49m\n\u001b[1;32m    302\u001b[0m \u001b[43m    \u001b[49m\u001b[43mmodel_queue_size\u001b[49m\u001b[38;5;241;43m=\u001b[39;49m\u001b[43mmodel_queue_size\u001b[49m\u001b[43m,\u001b[49m\n\u001b[1;32m    303\u001b[0m \u001b[43m\u001b[49m\u001b[43m)\u001b[49m\n",
      "File \u001b[0;32m/opt/conda/lib/python3.12/site-packages/skopt/optimizer/base.py:333\u001b[0m, in \u001b[0;36mbase_minimize\u001b[0;34m(func, dimensions, base_estimator, n_calls, n_random_starts, n_initial_points, initial_point_generator, acq_func, acq_optimizer, x0, y0, random_state, verbose, callback, n_points, n_restarts_optimizer, xi, kappa, n_jobs, model_queue_size, space_constraint)\u001b[0m\n\u001b[1;32m    331\u001b[0m next_x \u001b[38;5;241m=\u001b[39m optimizer\u001b[38;5;241m.\u001b[39mask()\n\u001b[1;32m    332\u001b[0m next_y \u001b[38;5;241m=\u001b[39m func(next_x)\n\u001b[0;32m--> 333\u001b[0m result \u001b[38;5;241m=\u001b[39m \u001b[43moptimizer\u001b[49m\u001b[38;5;241;43m.\u001b[39;49m\u001b[43mtell\u001b[49m\u001b[43m(\u001b[49m\u001b[43mnext_x\u001b[49m\u001b[43m,\u001b[49m\u001b[43m \u001b[49m\u001b[43mnext_y\u001b[49m\u001b[43m)\u001b[49m\n\u001b[1;32m    334\u001b[0m result\u001b[38;5;241m.\u001b[39mspecs \u001b[38;5;241m=\u001b[39m specs\n\u001b[1;32m    335\u001b[0m \u001b[38;5;28;01mif\u001b[39;00m eval_callbacks(callbacks, result):\n",
      "File \u001b[0;32m/opt/conda/lib/python3.12/site-packages/skopt/optimizer/optimizer.py:570\u001b[0m, in \u001b[0;36mOptimizer.tell\u001b[0;34m(self, x, y, fit)\u001b[0m\n\u001b[1;32m    567\u001b[0m         y \u001b[38;5;241m=\u001b[39m \u001b[38;5;28mlist\u001b[39m(y)\n\u001b[1;32m    568\u001b[0m         y[\u001b[38;5;241m1\u001b[39m] \u001b[38;5;241m=\u001b[39m log(y[\u001b[38;5;241m1\u001b[39m])\n\u001b[0;32m--> 570\u001b[0m \u001b[38;5;28;01mreturn\u001b[39;00m \u001b[38;5;28;43mself\u001b[39;49m\u001b[38;5;241;43m.\u001b[39;49m\u001b[43m_tell\u001b[49m\u001b[43m(\u001b[49m\u001b[43mx\u001b[49m\u001b[43m,\u001b[49m\u001b[43m \u001b[49m\u001b[43my\u001b[49m\u001b[43m,\u001b[49m\u001b[43m \u001b[49m\u001b[43mfit\u001b[49m\u001b[38;5;241;43m=\u001b[39;49m\u001b[43mfit\u001b[49m\u001b[43m)\u001b[49m\n",
      "File \u001b[0;32m/opt/conda/lib/python3.12/site-packages/skopt/optimizer/optimizer.py:615\u001b[0m, in \u001b[0;36mOptimizer._tell\u001b[0;34m(self, x, y, fit)\u001b[0m\n\u001b[1;32m    613\u001b[0m \u001b[38;5;28;01mwith\u001b[39;00m warnings\u001b[38;5;241m.\u001b[39mcatch_warnings():\n\u001b[1;32m    614\u001b[0m     warnings\u001b[38;5;241m.\u001b[39msimplefilter(\u001b[38;5;124m\"\u001b[39m\u001b[38;5;124mignore\u001b[39m\u001b[38;5;124m\"\u001b[39m)\n\u001b[0;32m--> 615\u001b[0m     \u001b[43mest\u001b[49m\u001b[38;5;241;43m.\u001b[39;49m\u001b[43mfit\u001b[49m\u001b[43m(\u001b[49m\u001b[38;5;28;43mself\u001b[39;49m\u001b[38;5;241;43m.\u001b[39;49m\u001b[43mspace\u001b[49m\u001b[38;5;241;43m.\u001b[39;49m\u001b[43mtransform\u001b[49m\u001b[43m(\u001b[49m\u001b[38;5;28;43mself\u001b[39;49m\u001b[38;5;241;43m.\u001b[39;49m\u001b[43mXi\u001b[49m\u001b[43m)\u001b[49m\u001b[43m,\u001b[49m\u001b[43m \u001b[49m\u001b[38;5;28;43mself\u001b[39;49m\u001b[38;5;241;43m.\u001b[39;49m\u001b[43myi\u001b[49m\u001b[43m)\u001b[49m\n\u001b[1;32m    617\u001b[0m \u001b[38;5;28;01mif\u001b[39;00m \u001b[38;5;28mhasattr\u001b[39m(\u001b[38;5;28mself\u001b[39m, \u001b[38;5;124m\"\u001b[39m\u001b[38;5;124mnext_xs_\u001b[39m\u001b[38;5;124m\"\u001b[39m) \u001b[38;5;129;01mand\u001b[39;00m \u001b[38;5;28mself\u001b[39m\u001b[38;5;241m.\u001b[39macq_func \u001b[38;5;241m==\u001b[39m \u001b[38;5;124m\"\u001b[39m\u001b[38;5;124mgp_hedge\u001b[39m\u001b[38;5;124m\"\u001b[39m:\n\u001b[1;32m    618\u001b[0m     \u001b[38;5;28mself\u001b[39m\u001b[38;5;241m.\u001b[39mgains_ \u001b[38;5;241m-\u001b[39m\u001b[38;5;241m=\u001b[39m est\u001b[38;5;241m.\u001b[39mpredict(np\u001b[38;5;241m.\u001b[39mvstack(\u001b[38;5;28mself\u001b[39m\u001b[38;5;241m.\u001b[39mnext_xs_))\n",
      "File \u001b[0;32m/opt/conda/lib/python3.12/site-packages/skopt/learning/gaussian_process/gpr.py:203\u001b[0m, in \u001b[0;36mGaussianProcessRegressor.fit\u001b[0;34m(self, X, y)\u001b[0m\n\u001b[1;32m    199\u001b[0m     \u001b[38;5;28;01melif\u001b[39;00m \u001b[38;5;28mself\u001b[39m\u001b[38;5;241m.\u001b[39mnoise:\n\u001b[1;32m    200\u001b[0m         \u001b[38;5;28mself\u001b[39m\u001b[38;5;241m.\u001b[39mkernel \u001b[38;5;241m=\u001b[39m \u001b[38;5;28mself\u001b[39m\u001b[38;5;241m.\u001b[39mkernel \u001b[38;5;241m+\u001b[39m WhiteKernel(\n\u001b[1;32m    201\u001b[0m             noise_level\u001b[38;5;241m=\u001b[39m\u001b[38;5;28mself\u001b[39m\u001b[38;5;241m.\u001b[39mnoise, noise_level_bounds\u001b[38;5;241m=\u001b[39m\u001b[38;5;124m\"\u001b[39m\u001b[38;5;124mfixed\u001b[39m\u001b[38;5;124m\"\u001b[39m\n\u001b[1;32m    202\u001b[0m         )\n\u001b[0;32m--> 203\u001b[0m \u001b[38;5;28;43msuper\u001b[39;49m\u001b[43m(\u001b[49m\u001b[43m)\u001b[49m\u001b[38;5;241;43m.\u001b[39;49m\u001b[43mfit\u001b[49m\u001b[43m(\u001b[49m\u001b[43mX\u001b[49m\u001b[43m,\u001b[49m\u001b[43m \u001b[49m\u001b[43my\u001b[49m\u001b[43m)\u001b[49m\n\u001b[1;32m    205\u001b[0m \u001b[38;5;28mself\u001b[39m\u001b[38;5;241m.\u001b[39mnoise_ \u001b[38;5;241m=\u001b[39m \u001b[38;5;28;01mNone\u001b[39;00m\n\u001b[1;32m    207\u001b[0m \u001b[38;5;28;01mif\u001b[39;00m \u001b[38;5;28mself\u001b[39m\u001b[38;5;241m.\u001b[39mnoise:\n\u001b[1;32m    208\u001b[0m     \u001b[38;5;66;03m# The noise component of this kernel should be set to zero\u001b[39;00m\n\u001b[1;32m    209\u001b[0m     \u001b[38;5;66;03m# while estimating K(X_test, X_test)\u001b[39;00m\n\u001b[0;32m   (...)\u001b[0m\n\u001b[1;32m    214\u001b[0m     \u001b[38;5;66;03m# http://www.gaussianprocess.org/gpml/chapters/RW2.pdf\u001b[39;00m\n\u001b[1;32m    215\u001b[0m     \u001b[38;5;66;03m# Hence this hack\u001b[39;00m\n",
      "File \u001b[0;32m/opt/conda/lib/python3.12/site-packages/sklearn/base.py:1473\u001b[0m, in \u001b[0;36m_fit_context.<locals>.decorator.<locals>.wrapper\u001b[0;34m(estimator, *args, **kwargs)\u001b[0m\n\u001b[1;32m   1466\u001b[0m     estimator\u001b[38;5;241m.\u001b[39m_validate_params()\n\u001b[1;32m   1468\u001b[0m \u001b[38;5;28;01mwith\u001b[39;00m config_context(\n\u001b[1;32m   1469\u001b[0m     skip_parameter_validation\u001b[38;5;241m=\u001b[39m(\n\u001b[1;32m   1470\u001b[0m         prefer_skip_nested_validation \u001b[38;5;129;01mor\u001b[39;00m global_skip_validation\n\u001b[1;32m   1471\u001b[0m     )\n\u001b[1;32m   1472\u001b[0m ):\n\u001b[0;32m-> 1473\u001b[0m     \u001b[38;5;28;01mreturn\u001b[39;00m \u001b[43mfit_method\u001b[49m\u001b[43m(\u001b[49m\u001b[43mestimator\u001b[49m\u001b[43m,\u001b[49m\u001b[43m \u001b[49m\u001b[38;5;241;43m*\u001b[39;49m\u001b[43margs\u001b[49m\u001b[43m,\u001b[49m\u001b[43m \u001b[49m\u001b[38;5;241;43m*\u001b[39;49m\u001b[38;5;241;43m*\u001b[39;49m\u001b[43mkwargs\u001b[49m\u001b[43m)\u001b[49m\n",
      "File \u001b[0;32m/opt/conda/lib/python3.12/site-packages/sklearn/gaussian_process/_gpr.py:325\u001b[0m, in \u001b[0;36mGaussianProcessRegressor.fit\u001b[0;34m(self, X, y)\u001b[0m\n\u001b[1;32m    322\u001b[0m     \u001b[38;5;28;01mfor\u001b[39;00m iteration \u001b[38;5;129;01min\u001b[39;00m \u001b[38;5;28mrange\u001b[39m(\u001b[38;5;28mself\u001b[39m\u001b[38;5;241m.\u001b[39mn_restarts_optimizer):\n\u001b[1;32m    323\u001b[0m         theta_initial \u001b[38;5;241m=\u001b[39m \u001b[38;5;28mself\u001b[39m\u001b[38;5;241m.\u001b[39m_rng\u001b[38;5;241m.\u001b[39muniform(bounds[:, \u001b[38;5;241m0\u001b[39m], bounds[:, \u001b[38;5;241m1\u001b[39m])\n\u001b[1;32m    324\u001b[0m         optima\u001b[38;5;241m.\u001b[39mappend(\n\u001b[0;32m--> 325\u001b[0m             \u001b[38;5;28;43mself\u001b[39;49m\u001b[38;5;241;43m.\u001b[39;49m\u001b[43m_constrained_optimization\u001b[49m\u001b[43m(\u001b[49m\u001b[43mobj_func\u001b[49m\u001b[43m,\u001b[49m\u001b[43m \u001b[49m\u001b[43mtheta_initial\u001b[49m\u001b[43m,\u001b[49m\u001b[43m \u001b[49m\u001b[43mbounds\u001b[49m\u001b[43m)\u001b[49m\n\u001b[1;32m    326\u001b[0m         )\n\u001b[1;32m    327\u001b[0m \u001b[38;5;66;03m# Select result from run with minimal (negative) log-marginal\u001b[39;00m\n\u001b[1;32m    328\u001b[0m \u001b[38;5;66;03m# likelihood\u001b[39;00m\n\u001b[1;32m    329\u001b[0m lml_values \u001b[38;5;241m=\u001b[39m \u001b[38;5;28mlist\u001b[39m(\u001b[38;5;28mmap\u001b[39m(itemgetter(\u001b[38;5;241m1\u001b[39m), optima))\n",
      "File \u001b[0;32m/opt/conda/lib/python3.12/site-packages/sklearn/gaussian_process/_gpr.py:652\u001b[0m, in \u001b[0;36mGaussianProcessRegressor._constrained_optimization\u001b[0;34m(self, obj_func, initial_theta, bounds)\u001b[0m\n\u001b[1;32m    650\u001b[0m \u001b[38;5;28;01mdef\u001b[39;00m \u001b[38;5;21m_constrained_optimization\u001b[39m(\u001b[38;5;28mself\u001b[39m, obj_func, initial_theta, bounds):\n\u001b[1;32m    651\u001b[0m     \u001b[38;5;28;01mif\u001b[39;00m \u001b[38;5;28mself\u001b[39m\u001b[38;5;241m.\u001b[39moptimizer \u001b[38;5;241m==\u001b[39m \u001b[38;5;124m\"\u001b[39m\u001b[38;5;124mfmin_l_bfgs_b\u001b[39m\u001b[38;5;124m\"\u001b[39m:\n\u001b[0;32m--> 652\u001b[0m         opt_res \u001b[38;5;241m=\u001b[39m \u001b[43mscipy\u001b[49m\u001b[38;5;241;43m.\u001b[39;49m\u001b[43moptimize\u001b[49m\u001b[38;5;241;43m.\u001b[39;49m\u001b[43mminimize\u001b[49m\u001b[43m(\u001b[49m\n\u001b[1;32m    653\u001b[0m \u001b[43m            \u001b[49m\u001b[43mobj_func\u001b[49m\u001b[43m,\u001b[49m\n\u001b[1;32m    654\u001b[0m \u001b[43m            \u001b[49m\u001b[43minitial_theta\u001b[49m\u001b[43m,\u001b[49m\n\u001b[1;32m    655\u001b[0m \u001b[43m            \u001b[49m\u001b[43mmethod\u001b[49m\u001b[38;5;241;43m=\u001b[39;49m\u001b[38;5;124;43m\"\u001b[39;49m\u001b[38;5;124;43mL-BFGS-B\u001b[39;49m\u001b[38;5;124;43m\"\u001b[39;49m\u001b[43m,\u001b[49m\n\u001b[1;32m    656\u001b[0m \u001b[43m            \u001b[49m\u001b[43mjac\u001b[49m\u001b[38;5;241;43m=\u001b[39;49m\u001b[38;5;28;43;01mTrue\u001b[39;49;00m\u001b[43m,\u001b[49m\n\u001b[1;32m    657\u001b[0m \u001b[43m            \u001b[49m\u001b[43mbounds\u001b[49m\u001b[38;5;241;43m=\u001b[39;49m\u001b[43mbounds\u001b[49m\u001b[43m,\u001b[49m\n\u001b[1;32m    658\u001b[0m \u001b[43m        \u001b[49m\u001b[43m)\u001b[49m\n\u001b[1;32m    659\u001b[0m         _check_optimize_result(\u001b[38;5;124m\"\u001b[39m\u001b[38;5;124mlbfgs\u001b[39m\u001b[38;5;124m\"\u001b[39m, opt_res)\n\u001b[1;32m    660\u001b[0m         theta_opt, func_min \u001b[38;5;241m=\u001b[39m opt_res\u001b[38;5;241m.\u001b[39mx, opt_res\u001b[38;5;241m.\u001b[39mfun\n",
      "File \u001b[0;32m/opt/conda/lib/python3.12/site-packages/scipy/optimize/_minimize.py:731\u001b[0m, in \u001b[0;36mminimize\u001b[0;34m(fun, x0, args, method, jac, hess, hessp, bounds, constraints, tol, callback, options)\u001b[0m\n\u001b[1;32m    728\u001b[0m     res \u001b[38;5;241m=\u001b[39m _minimize_newtoncg(fun, x0, args, jac, hess, hessp, callback,\n\u001b[1;32m    729\u001b[0m                              \u001b[38;5;241m*\u001b[39m\u001b[38;5;241m*\u001b[39moptions)\n\u001b[1;32m    730\u001b[0m \u001b[38;5;28;01melif\u001b[39;00m meth \u001b[38;5;241m==\u001b[39m \u001b[38;5;124m'\u001b[39m\u001b[38;5;124ml-bfgs-b\u001b[39m\u001b[38;5;124m'\u001b[39m:\n\u001b[0;32m--> 731\u001b[0m     res \u001b[38;5;241m=\u001b[39m \u001b[43m_minimize_lbfgsb\u001b[49m\u001b[43m(\u001b[49m\u001b[43mfun\u001b[49m\u001b[43m,\u001b[49m\u001b[43m \u001b[49m\u001b[43mx0\u001b[49m\u001b[43m,\u001b[49m\u001b[43m \u001b[49m\u001b[43margs\u001b[49m\u001b[43m,\u001b[49m\u001b[43m \u001b[49m\u001b[43mjac\u001b[49m\u001b[43m,\u001b[49m\u001b[43m \u001b[49m\u001b[43mbounds\u001b[49m\u001b[43m,\u001b[49m\n\u001b[1;32m    732\u001b[0m \u001b[43m                           \u001b[49m\u001b[43mcallback\u001b[49m\u001b[38;5;241;43m=\u001b[39;49m\u001b[43mcallback\u001b[49m\u001b[43m,\u001b[49m\u001b[43m \u001b[49m\u001b[38;5;241;43m*\u001b[39;49m\u001b[38;5;241;43m*\u001b[39;49m\u001b[43moptions\u001b[49m\u001b[43m)\u001b[49m\n\u001b[1;32m    733\u001b[0m \u001b[38;5;28;01melif\u001b[39;00m meth \u001b[38;5;241m==\u001b[39m \u001b[38;5;124m'\u001b[39m\u001b[38;5;124mtnc\u001b[39m\u001b[38;5;124m'\u001b[39m:\n\u001b[1;32m    734\u001b[0m     res \u001b[38;5;241m=\u001b[39m _minimize_tnc(fun, x0, args, jac, bounds, callback\u001b[38;5;241m=\u001b[39mcallback,\n\u001b[1;32m    735\u001b[0m                         \u001b[38;5;241m*\u001b[39m\u001b[38;5;241m*\u001b[39moptions)\n",
      "File \u001b[0;32m/opt/conda/lib/python3.12/site-packages/scipy/optimize/_lbfgsb_py.py:407\u001b[0m, in \u001b[0;36m_minimize_lbfgsb\u001b[0;34m(fun, x0, args, jac, bounds, disp, maxcor, ftol, gtol, eps, maxfun, maxiter, iprint, callback, maxls, finite_diff_rel_step, **unknown_options)\u001b[0m\n\u001b[1;32m    401\u001b[0m task_str \u001b[38;5;241m=\u001b[39m task\u001b[38;5;241m.\u001b[39mtobytes()\n\u001b[1;32m    402\u001b[0m \u001b[38;5;28;01mif\u001b[39;00m task_str\u001b[38;5;241m.\u001b[39mstartswith(\u001b[38;5;124mb\u001b[39m\u001b[38;5;124m'\u001b[39m\u001b[38;5;124mFG\u001b[39m\u001b[38;5;124m'\u001b[39m):\n\u001b[1;32m    403\u001b[0m     \u001b[38;5;66;03m# The minimization routine wants f and g at the current x.\u001b[39;00m\n\u001b[1;32m    404\u001b[0m     \u001b[38;5;66;03m# Note that interruptions due to maxfun are postponed\u001b[39;00m\n\u001b[1;32m    405\u001b[0m     \u001b[38;5;66;03m# until the completion of the current minimization iteration.\u001b[39;00m\n\u001b[1;32m    406\u001b[0m     \u001b[38;5;66;03m# Overwrite f and g:\u001b[39;00m\n\u001b[0;32m--> 407\u001b[0m     f, g \u001b[38;5;241m=\u001b[39m \u001b[43mfunc_and_grad\u001b[49m\u001b[43m(\u001b[49m\u001b[43mx\u001b[49m\u001b[43m)\u001b[49m\n\u001b[1;32m    408\u001b[0m \u001b[38;5;28;01melif\u001b[39;00m task_str\u001b[38;5;241m.\u001b[39mstartswith(\u001b[38;5;124mb\u001b[39m\u001b[38;5;124m'\u001b[39m\u001b[38;5;124mNEW_X\u001b[39m\u001b[38;5;124m'\u001b[39m):\n\u001b[1;32m    409\u001b[0m     \u001b[38;5;66;03m# new iteration\u001b[39;00m\n\u001b[1;32m    410\u001b[0m     n_iterations \u001b[38;5;241m+\u001b[39m\u001b[38;5;241m=\u001b[39m \u001b[38;5;241m1\u001b[39m\n",
      "File \u001b[0;32m/opt/conda/lib/python3.12/site-packages/scipy/optimize/_differentiable_functions.py:343\u001b[0m, in \u001b[0;36mScalarFunction.fun_and_grad\u001b[0;34m(self, x)\u001b[0m\n\u001b[1;32m    341\u001b[0m \u001b[38;5;28;01mif\u001b[39;00m \u001b[38;5;129;01mnot\u001b[39;00m np\u001b[38;5;241m.\u001b[39marray_equal(x, \u001b[38;5;28mself\u001b[39m\u001b[38;5;241m.\u001b[39mx):\n\u001b[1;32m    342\u001b[0m     \u001b[38;5;28mself\u001b[39m\u001b[38;5;241m.\u001b[39m_update_x(x)\n\u001b[0;32m--> 343\u001b[0m \u001b[38;5;28;43mself\u001b[39;49m\u001b[38;5;241;43m.\u001b[39;49m\u001b[43m_update_fun\u001b[49m\u001b[43m(\u001b[49m\u001b[43m)\u001b[49m\n\u001b[1;32m    344\u001b[0m \u001b[38;5;28mself\u001b[39m\u001b[38;5;241m.\u001b[39m_update_grad()\n\u001b[1;32m    345\u001b[0m \u001b[38;5;28;01mreturn\u001b[39;00m \u001b[38;5;28mself\u001b[39m\u001b[38;5;241m.\u001b[39mf, \u001b[38;5;28mself\u001b[39m\u001b[38;5;241m.\u001b[39mg\n",
      "File \u001b[0;32m/opt/conda/lib/python3.12/site-packages/scipy/optimize/_differentiable_functions.py:294\u001b[0m, in \u001b[0;36mScalarFunction._update_fun\u001b[0;34m(self)\u001b[0m\n\u001b[1;32m    292\u001b[0m \u001b[38;5;28;01mdef\u001b[39;00m \u001b[38;5;21m_update_fun\u001b[39m(\u001b[38;5;28mself\u001b[39m):\n\u001b[1;32m    293\u001b[0m     \u001b[38;5;28;01mif\u001b[39;00m \u001b[38;5;129;01mnot\u001b[39;00m \u001b[38;5;28mself\u001b[39m\u001b[38;5;241m.\u001b[39mf_updated:\n\u001b[0;32m--> 294\u001b[0m         fx \u001b[38;5;241m=\u001b[39m \u001b[38;5;28;43mself\u001b[39;49m\u001b[38;5;241;43m.\u001b[39;49m\u001b[43m_wrapped_fun\u001b[49m\u001b[43m(\u001b[49m\u001b[38;5;28;43mself\u001b[39;49m\u001b[38;5;241;43m.\u001b[39;49m\u001b[43mx\u001b[49m\u001b[43m)\u001b[49m\n\u001b[1;32m    295\u001b[0m         \u001b[38;5;28;01mif\u001b[39;00m fx \u001b[38;5;241m<\u001b[39m \u001b[38;5;28mself\u001b[39m\u001b[38;5;241m.\u001b[39m_lowest_f:\n\u001b[1;32m    296\u001b[0m             \u001b[38;5;28mself\u001b[39m\u001b[38;5;241m.\u001b[39m_lowest_x \u001b[38;5;241m=\u001b[39m \u001b[38;5;28mself\u001b[39m\u001b[38;5;241m.\u001b[39mx\n",
      "File \u001b[0;32m/opt/conda/lib/python3.12/site-packages/scipy/optimize/_differentiable_functions.py:20\u001b[0m, in \u001b[0;36m_wrapper_fun.<locals>.wrapped\u001b[0;34m(x)\u001b[0m\n\u001b[1;32m     16\u001b[0m ncalls[\u001b[38;5;241m0\u001b[39m] \u001b[38;5;241m+\u001b[39m\u001b[38;5;241m=\u001b[39m \u001b[38;5;241m1\u001b[39m\n\u001b[1;32m     17\u001b[0m \u001b[38;5;66;03m# Send a copy because the user may overwrite it.\u001b[39;00m\n\u001b[1;32m     18\u001b[0m \u001b[38;5;66;03m# Overwriting results in undefined behaviour because\u001b[39;00m\n\u001b[1;32m     19\u001b[0m \u001b[38;5;66;03m# fun(self.x) will change self.x, with the two no longer linked.\u001b[39;00m\n\u001b[0;32m---> 20\u001b[0m fx \u001b[38;5;241m=\u001b[39m \u001b[43mfun\u001b[49m\u001b[43m(\u001b[49m\u001b[43mnp\u001b[49m\u001b[38;5;241;43m.\u001b[39;49m\u001b[43mcopy\u001b[49m\u001b[43m(\u001b[49m\u001b[43mx\u001b[49m\u001b[43m)\u001b[49m\u001b[43m,\u001b[49m\u001b[43m \u001b[49m\u001b[38;5;241;43m*\u001b[39;49m\u001b[43margs\u001b[49m\u001b[43m)\u001b[49m\n\u001b[1;32m     21\u001b[0m \u001b[38;5;66;03m# Make sure the function returns a true scalar\u001b[39;00m\n\u001b[1;32m     22\u001b[0m \u001b[38;5;28;01mif\u001b[39;00m \u001b[38;5;129;01mnot\u001b[39;00m np\u001b[38;5;241m.\u001b[39misscalar(fx):\n",
      "File \u001b[0;32m/opt/conda/lib/python3.12/site-packages/scipy/optimize/_optimize.py:79\u001b[0m, in \u001b[0;36mMemoizeJac.__call__\u001b[0;34m(self, x, *args)\u001b[0m\n\u001b[1;32m     77\u001b[0m \u001b[38;5;28;01mdef\u001b[39;00m \u001b[38;5;21m__call__\u001b[39m(\u001b[38;5;28mself\u001b[39m, x, \u001b[38;5;241m*\u001b[39margs):\n\u001b[1;32m     78\u001b[0m \u001b[38;5;250m    \u001b[39m\u001b[38;5;124;03m\"\"\" returns the function value \"\"\"\u001b[39;00m\n\u001b[0;32m---> 79\u001b[0m     \u001b[38;5;28;43mself\u001b[39;49m\u001b[38;5;241;43m.\u001b[39;49m\u001b[43m_compute_if_needed\u001b[49m\u001b[43m(\u001b[49m\u001b[43mx\u001b[49m\u001b[43m,\u001b[49m\u001b[43m \u001b[49m\u001b[38;5;241;43m*\u001b[39;49m\u001b[43margs\u001b[49m\u001b[43m)\u001b[49m\n\u001b[1;32m     80\u001b[0m     \u001b[38;5;28;01mreturn\u001b[39;00m \u001b[38;5;28mself\u001b[39m\u001b[38;5;241m.\u001b[39m_value\n",
      "File \u001b[0;32m/opt/conda/lib/python3.12/site-packages/scipy/optimize/_optimize.py:73\u001b[0m, in \u001b[0;36mMemoizeJac._compute_if_needed\u001b[0;34m(self, x, *args)\u001b[0m\n\u001b[1;32m     71\u001b[0m \u001b[38;5;28;01mif\u001b[39;00m \u001b[38;5;129;01mnot\u001b[39;00m np\u001b[38;5;241m.\u001b[39mall(x \u001b[38;5;241m==\u001b[39m \u001b[38;5;28mself\u001b[39m\u001b[38;5;241m.\u001b[39mx) \u001b[38;5;129;01mor\u001b[39;00m \u001b[38;5;28mself\u001b[39m\u001b[38;5;241m.\u001b[39m_value \u001b[38;5;129;01mis\u001b[39;00m \u001b[38;5;28;01mNone\u001b[39;00m \u001b[38;5;129;01mor\u001b[39;00m \u001b[38;5;28mself\u001b[39m\u001b[38;5;241m.\u001b[39mjac \u001b[38;5;129;01mis\u001b[39;00m \u001b[38;5;28;01mNone\u001b[39;00m:\n\u001b[1;32m     72\u001b[0m     \u001b[38;5;28mself\u001b[39m\u001b[38;5;241m.\u001b[39mx \u001b[38;5;241m=\u001b[39m np\u001b[38;5;241m.\u001b[39masarray(x)\u001b[38;5;241m.\u001b[39mcopy()\n\u001b[0;32m---> 73\u001b[0m     fg \u001b[38;5;241m=\u001b[39m \u001b[38;5;28;43mself\u001b[39;49m\u001b[38;5;241;43m.\u001b[39;49m\u001b[43mfun\u001b[49m\u001b[43m(\u001b[49m\u001b[43mx\u001b[49m\u001b[43m,\u001b[49m\u001b[43m \u001b[49m\u001b[38;5;241;43m*\u001b[39;49m\u001b[43margs\u001b[49m\u001b[43m)\u001b[49m\n\u001b[1;32m     74\u001b[0m     \u001b[38;5;28mself\u001b[39m\u001b[38;5;241m.\u001b[39mjac \u001b[38;5;241m=\u001b[39m fg[\u001b[38;5;241m1\u001b[39m]\n\u001b[1;32m     75\u001b[0m     \u001b[38;5;28mself\u001b[39m\u001b[38;5;241m.\u001b[39m_value \u001b[38;5;241m=\u001b[39m fg[\u001b[38;5;241m0\u001b[39m]\n",
      "File \u001b[0;32m/opt/conda/lib/python3.12/site-packages/sklearn/gaussian_process/_gpr.py:297\u001b[0m, in \u001b[0;36mGaussianProcessRegressor.fit.<locals>.obj_func\u001b[0;34m(theta, eval_gradient)\u001b[0m\n\u001b[1;32m    295\u001b[0m \u001b[38;5;28;01mdef\u001b[39;00m \u001b[38;5;21mobj_func\u001b[39m(theta, eval_gradient\u001b[38;5;241m=\u001b[39m\u001b[38;5;28;01mTrue\u001b[39;00m):\n\u001b[1;32m    296\u001b[0m     \u001b[38;5;28;01mif\u001b[39;00m eval_gradient:\n\u001b[0;32m--> 297\u001b[0m         lml, grad \u001b[38;5;241m=\u001b[39m \u001b[38;5;28;43mself\u001b[39;49m\u001b[38;5;241;43m.\u001b[39;49m\u001b[43mlog_marginal_likelihood\u001b[49m\u001b[43m(\u001b[49m\n\u001b[1;32m    298\u001b[0m \u001b[43m            \u001b[49m\u001b[43mtheta\u001b[49m\u001b[43m,\u001b[49m\u001b[43m \u001b[49m\u001b[43meval_gradient\u001b[49m\u001b[38;5;241;43m=\u001b[39;49m\u001b[38;5;28;43;01mTrue\u001b[39;49;00m\u001b[43m,\u001b[49m\u001b[43m \u001b[49m\u001b[43mclone_kernel\u001b[49m\u001b[38;5;241;43m=\u001b[39;49m\u001b[38;5;28;43;01mFalse\u001b[39;49;00m\n\u001b[1;32m    299\u001b[0m \u001b[43m        \u001b[49m\u001b[43m)\u001b[49m\n\u001b[1;32m    300\u001b[0m         \u001b[38;5;28;01mreturn\u001b[39;00m \u001b[38;5;241m-\u001b[39mlml, \u001b[38;5;241m-\u001b[39mgrad\n\u001b[1;32m    301\u001b[0m     \u001b[38;5;28;01melse\u001b[39;00m:\n",
      "File \u001b[0;32m/opt/conda/lib/python3.12/site-packages/sklearn/gaussian_process/_gpr.py:576\u001b[0m, in \u001b[0;36mGaussianProcessRegressor.log_marginal_likelihood\u001b[0;34m(self, theta, eval_gradient, clone_kernel)\u001b[0m\n\u001b[1;32m    573\u001b[0m     kernel\u001b[38;5;241m.\u001b[39mtheta \u001b[38;5;241m=\u001b[39m theta\n\u001b[1;32m    575\u001b[0m \u001b[38;5;28;01mif\u001b[39;00m eval_gradient:\n\u001b[0;32m--> 576\u001b[0m     K, K_gradient \u001b[38;5;241m=\u001b[39m \u001b[43mkernel\u001b[49m\u001b[43m(\u001b[49m\u001b[38;5;28;43mself\u001b[39;49m\u001b[38;5;241;43m.\u001b[39;49m\u001b[43mX_train_\u001b[49m\u001b[43m,\u001b[49m\u001b[43m \u001b[49m\u001b[43meval_gradient\u001b[49m\u001b[38;5;241;43m=\u001b[39;49m\u001b[38;5;28;43;01mTrue\u001b[39;49;00m\u001b[43m)\u001b[49m\n\u001b[1;32m    577\u001b[0m \u001b[38;5;28;01melse\u001b[39;00m:\n\u001b[1;32m    578\u001b[0m     K \u001b[38;5;241m=\u001b[39m kernel(\u001b[38;5;28mself\u001b[39m\u001b[38;5;241m.\u001b[39mX_train_)\n",
      "File \u001b[0;32m/opt/conda/lib/python3.12/site-packages/sklearn/gaussian_process/kernels.py:864\u001b[0m, in \u001b[0;36mSum.__call__\u001b[0;34m(self, X, Y, eval_gradient)\u001b[0m\n\u001b[1;32m    836\u001b[0m \u001b[38;5;250m\u001b[39m\u001b[38;5;124;03m\"\"\"Return the kernel k(X, Y) and optionally its gradient.\u001b[39;00m\n\u001b[1;32m    837\u001b[0m \n\u001b[1;32m    838\u001b[0m \u001b[38;5;124;03mParameters\u001b[39;00m\n\u001b[0;32m   (...)\u001b[0m\n\u001b[1;32m    861\u001b[0m \u001b[38;5;124;03m    is True.\u001b[39;00m\n\u001b[1;32m    862\u001b[0m \u001b[38;5;124;03m\"\"\"\u001b[39;00m\n\u001b[1;32m    863\u001b[0m \u001b[38;5;28;01mif\u001b[39;00m eval_gradient:\n\u001b[0;32m--> 864\u001b[0m     K1, K1_gradient \u001b[38;5;241m=\u001b[39m \u001b[38;5;28;43mself\u001b[39;49m\u001b[38;5;241;43m.\u001b[39;49m\u001b[43mk1\u001b[49m\u001b[43m(\u001b[49m\u001b[43mX\u001b[49m\u001b[43m,\u001b[49m\u001b[43m \u001b[49m\u001b[43mY\u001b[49m\u001b[43m,\u001b[49m\u001b[43m \u001b[49m\u001b[43meval_gradient\u001b[49m\u001b[38;5;241;43m=\u001b[39;49m\u001b[38;5;28;43;01mTrue\u001b[39;49;00m\u001b[43m)\u001b[49m\n\u001b[1;32m    865\u001b[0m     K2, K2_gradient \u001b[38;5;241m=\u001b[39m \u001b[38;5;28mself\u001b[39m\u001b[38;5;241m.\u001b[39mk2(X, Y, eval_gradient\u001b[38;5;241m=\u001b[39m\u001b[38;5;28;01mTrue\u001b[39;00m)\n\u001b[1;32m    866\u001b[0m     \u001b[38;5;28;01mreturn\u001b[39;00m K1 \u001b[38;5;241m+\u001b[39m K2, np\u001b[38;5;241m.\u001b[39mdstack((K1_gradient, K2_gradient))\n",
      "File \u001b[0;32m/opt/conda/lib/python3.12/site-packages/sklearn/gaussian_process/kernels.py:963\u001b[0m, in \u001b[0;36mProduct.__call__\u001b[0;34m(self, X, Y, eval_gradient)\u001b[0m\n\u001b[1;32m    961\u001b[0m \u001b[38;5;28;01mif\u001b[39;00m eval_gradient:\n\u001b[1;32m    962\u001b[0m     K1, K1_gradient \u001b[38;5;241m=\u001b[39m \u001b[38;5;28mself\u001b[39m\u001b[38;5;241m.\u001b[39mk1(X, Y, eval_gradient\u001b[38;5;241m=\u001b[39m\u001b[38;5;28;01mTrue\u001b[39;00m)\n\u001b[0;32m--> 963\u001b[0m     K2, K2_gradient \u001b[38;5;241m=\u001b[39m \u001b[38;5;28;43mself\u001b[39;49m\u001b[38;5;241;43m.\u001b[39;49m\u001b[43mk2\u001b[49m\u001b[43m(\u001b[49m\u001b[43mX\u001b[49m\u001b[43m,\u001b[49m\u001b[43m \u001b[49m\u001b[43mY\u001b[49m\u001b[43m,\u001b[49m\u001b[43m \u001b[49m\u001b[43meval_gradient\u001b[49m\u001b[38;5;241;43m=\u001b[39;49m\u001b[38;5;28;43;01mTrue\u001b[39;49;00m\u001b[43m)\u001b[49m\n\u001b[1;32m    964\u001b[0m     \u001b[38;5;28;01mreturn\u001b[39;00m K1 \u001b[38;5;241m*\u001b[39m K2, np\u001b[38;5;241m.\u001b[39mdstack(\n\u001b[1;32m    965\u001b[0m         (K1_gradient \u001b[38;5;241m*\u001b[39m K2[:, :, np\u001b[38;5;241m.\u001b[39mnewaxis], K2_gradient \u001b[38;5;241m*\u001b[39m K1[:, :, np\u001b[38;5;241m.\u001b[39mnewaxis])\n\u001b[1;32m    966\u001b[0m     )\n\u001b[1;32m    967\u001b[0m \u001b[38;5;28;01melse\u001b[39;00m:\n",
      "File \u001b[0;32m/opt/conda/lib/python3.12/site-packages/sklearn/gaussian_process/kernels.py:1767\u001b[0m, in \u001b[0;36mMatern.__call__\u001b[0;34m(self, X, Y, eval_gradient)\u001b[0m\n\u001b[1;32m   1765\u001b[0m     K_gradient \u001b[38;5;241m=\u001b[39m \u001b[38;5;241m3\u001b[39m \u001b[38;5;241m*\u001b[39m D \u001b[38;5;241m*\u001b[39m np\u001b[38;5;241m.\u001b[39mexp(\u001b[38;5;241m-\u001b[39mnp\u001b[38;5;241m.\u001b[39msqrt(\u001b[38;5;241m3\u001b[39m \u001b[38;5;241m*\u001b[39m D\u001b[38;5;241m.\u001b[39msum(\u001b[38;5;241m-\u001b[39m\u001b[38;5;241m1\u001b[39m)))[\u001b[38;5;241m.\u001b[39m\u001b[38;5;241m.\u001b[39m\u001b[38;5;241m.\u001b[39m, np\u001b[38;5;241m.\u001b[39mnewaxis]\n\u001b[1;32m   1766\u001b[0m \u001b[38;5;28;01melif\u001b[39;00m \u001b[38;5;28mself\u001b[39m\u001b[38;5;241m.\u001b[39mnu \u001b[38;5;241m==\u001b[39m \u001b[38;5;241m2.5\u001b[39m:\n\u001b[0;32m-> 1767\u001b[0m     tmp \u001b[38;5;241m=\u001b[39m np\u001b[38;5;241m.\u001b[39msqrt(\u001b[38;5;241m5\u001b[39m \u001b[38;5;241m*\u001b[39m \u001b[43mD\u001b[49m\u001b[38;5;241;43m.\u001b[39;49m\u001b[43msum\u001b[49m\u001b[43m(\u001b[49m\u001b[38;5;241;43m-\u001b[39;49m\u001b[38;5;241;43m1\u001b[39;49m\u001b[43m)\u001b[49m)[\u001b[38;5;241m.\u001b[39m\u001b[38;5;241m.\u001b[39m\u001b[38;5;241m.\u001b[39m, np\u001b[38;5;241m.\u001b[39mnewaxis]\n\u001b[1;32m   1768\u001b[0m     K_gradient \u001b[38;5;241m=\u001b[39m \u001b[38;5;241m5.0\u001b[39m \u001b[38;5;241m/\u001b[39m \u001b[38;5;241m3.0\u001b[39m \u001b[38;5;241m*\u001b[39m D \u001b[38;5;241m*\u001b[39m (tmp \u001b[38;5;241m+\u001b[39m \u001b[38;5;241m1\u001b[39m) \u001b[38;5;241m*\u001b[39m np\u001b[38;5;241m.\u001b[39mexp(\u001b[38;5;241m-\u001b[39mtmp)\n\u001b[1;32m   1769\u001b[0m \u001b[38;5;28;01melif\u001b[39;00m \u001b[38;5;28mself\u001b[39m\u001b[38;5;241m.\u001b[39mnu \u001b[38;5;241m==\u001b[39m np\u001b[38;5;241m.\u001b[39minf:\n",
      "File \u001b[0;32m/opt/conda/lib/python3.12/site-packages/numpy/core/_methods.py:47\u001b[0m, in \u001b[0;36m_sum\u001b[0;34m(a, axis, dtype, out, keepdims, initial, where)\u001b[0m\n\u001b[1;32m     43\u001b[0m \u001b[38;5;28;01mdef\u001b[39;00m \u001b[38;5;21m_amin\u001b[39m(a, axis\u001b[38;5;241m=\u001b[39m\u001b[38;5;28;01mNone\u001b[39;00m, out\u001b[38;5;241m=\u001b[39m\u001b[38;5;28;01mNone\u001b[39;00m, keepdims\u001b[38;5;241m=\u001b[39m\u001b[38;5;28;01mFalse\u001b[39;00m,\n\u001b[1;32m     44\u001b[0m           initial\u001b[38;5;241m=\u001b[39m_NoValue, where\u001b[38;5;241m=\u001b[39m\u001b[38;5;28;01mTrue\u001b[39;00m):\n\u001b[1;32m     45\u001b[0m     \u001b[38;5;28;01mreturn\u001b[39;00m umr_minimum(a, axis, \u001b[38;5;28;01mNone\u001b[39;00m, out, keepdims, initial, where)\n\u001b[0;32m---> 47\u001b[0m \u001b[38;5;28;01mdef\u001b[39;00m \u001b[38;5;21m_sum\u001b[39m(a, axis\u001b[38;5;241m=\u001b[39m\u001b[38;5;28;01mNone\u001b[39;00m, dtype\u001b[38;5;241m=\u001b[39m\u001b[38;5;28;01mNone\u001b[39;00m, out\u001b[38;5;241m=\u001b[39m\u001b[38;5;28;01mNone\u001b[39;00m, keepdims\u001b[38;5;241m=\u001b[39m\u001b[38;5;28;01mFalse\u001b[39;00m,\n\u001b[1;32m     48\u001b[0m          initial\u001b[38;5;241m=\u001b[39m_NoValue, where\u001b[38;5;241m=\u001b[39m\u001b[38;5;28;01mTrue\u001b[39;00m):\n\u001b[1;32m     49\u001b[0m     \u001b[38;5;28;01mreturn\u001b[39;00m umr_sum(a, axis, dtype, out, keepdims, initial, where)\n\u001b[1;32m     51\u001b[0m \u001b[38;5;28;01mdef\u001b[39;00m \u001b[38;5;21m_prod\u001b[39m(a, axis\u001b[38;5;241m=\u001b[39m\u001b[38;5;28;01mNone\u001b[39;00m, dtype\u001b[38;5;241m=\u001b[39m\u001b[38;5;28;01mNone\u001b[39;00m, out\u001b[38;5;241m=\u001b[39m\u001b[38;5;28;01mNone\u001b[39;00m, keepdims\u001b[38;5;241m=\u001b[39m\u001b[38;5;28;01mFalse\u001b[39;00m,\n\u001b[1;32m     52\u001b[0m           initial\u001b[38;5;241m=\u001b[39m_NoValue, where\u001b[38;5;241m=\u001b[39m\u001b[38;5;28;01mTrue\u001b[39;00m):\n",
      "\u001b[0;31mKeyboardInterrupt\u001b[0m: "
     ]
    }
   ],
   "source": [
    "%%time\n",
    "max_action = 3000\n",
    "res = gp_minimize(evaluateConstAct, 3*[(-1, 1)], n_calls = 100, verbose=True)\n",
    "res.x"
   ]
  },
  {
   "cell_type": "code",
   "execution_count": 14,
   "id": "c8634cea-8f5c-42e1-98ae-4c7ab75eb115",
   "metadata": {},
   "outputs": [
    {
     "data": {
      "text/plain": [
       "0.08643379909223413"
      ]
     },
     "execution_count": 14,
     "metadata": {},
     "output_type": "execute_result"
    }
   ],
   "source": [
    "# with nonNormalized env\n",
    "evaluateConstAct(\n",
    "    [1159.3031132772392, 1184.1524632666515, 1259.4498917568628]\n",
    ")"
   ]
  },
  {
   "cell_type": "code",
   "execution_count": 4,
   "id": "6c67eced-2308-4d2d-95bf-f5024bc5175d",
   "metadata": {},
   "outputs": [],
   "source": [
    "import ray\n",
    "ray.shutdown()"
   ]
  },
  {
   "cell_type": "code",
   "execution_count": 4,
   "id": "46694fd6-05c5-47a7-ba0d-aa6ec1225cf2",
   "metadata": {},
   "outputs": [
    {
     "data": {
      "text/html": [
       "<div>\n",
       "<style scoped>\n",
       "    .dataframe tbody tr th:only-of-type {\n",
       "        vertical-align: middle;\n",
       "    }\n",
       "\n",
       "    .dataframe tbody tr th {\n",
       "        vertical-align: top;\n",
       "    }\n",
       "\n",
       "    .dataframe thead th {\n",
       "        text-align: right;\n",
       "    }\n",
       "</style>\n",
       "<table border=\"1\" class=\"dataframe\">\n",
       "  <thead>\n",
       "    <tr style=\"text-align: right;\">\n",
       "      <th></th>\n",
       "      <th>t</th>\n",
       "      <th>obs0</th>\n",
       "      <th>act0</th>\n",
       "      <th>act1</th>\n",
       "      <th>act2</th>\n",
       "      <th>rew</th>\n",
       "      <th>rep</th>\n",
       "    </tr>\n",
       "  </thead>\n",
       "  <tbody>\n",
       "    <tr>\n",
       "      <th>0</th>\n",
       "      <td>0</td>\n",
       "      <td>0.0</td>\n",
       "      <td>1159.303113</td>\n",
       "      <td>1184.152463</td>\n",
       "      <td>1259.449892</td>\n",
       "      <td>0.000000</td>\n",
       "      <td>0</td>\n",
       "    </tr>\n",
       "    <tr>\n",
       "      <th>1</th>\n",
       "      <td>1</td>\n",
       "      <td>0.0</td>\n",
       "      <td>1159.303113</td>\n",
       "      <td>1184.152463</td>\n",
       "      <td>1259.449892</td>\n",
       "      <td>-0.000143</td>\n",
       "      <td>0</td>\n",
       "    </tr>\n",
       "    <tr>\n",
       "      <th>2</th>\n",
       "      <td>2</td>\n",
       "      <td>0.0</td>\n",
       "      <td>1159.303113</td>\n",
       "      <td>1184.152463</td>\n",
       "      <td>1259.449892</td>\n",
       "      <td>-0.000285</td>\n",
       "      <td>0</td>\n",
       "    </tr>\n",
       "    <tr>\n",
       "      <th>3</th>\n",
       "      <td>3</td>\n",
       "      <td>0.0</td>\n",
       "      <td>1159.303113</td>\n",
       "      <td>1184.152463</td>\n",
       "      <td>1259.449892</td>\n",
       "      <td>-0.000428</td>\n",
       "      <td>0</td>\n",
       "    </tr>\n",
       "    <tr>\n",
       "      <th>4</th>\n",
       "      <td>4</td>\n",
       "      <td>0.0</td>\n",
       "      <td>1159.303113</td>\n",
       "      <td>1184.152463</td>\n",
       "      <td>1259.449892</td>\n",
       "      <td>-0.000570</td>\n",
       "      <td>0</td>\n",
       "    </tr>\n",
       "  </tbody>\n",
       "</table>\n",
       "</div>"
      ],
      "text/plain": [
       "   t  obs0         act0         act1         act2       rew  rep\n",
       "0  0   0.0  1159.303113  1184.152463  1259.449892  0.000000    0\n",
       "1  1   0.0  1159.303113  1184.152463  1259.449892 -0.000143    0\n",
       "2  2   0.0  1159.303113  1184.152463  1259.449892 -0.000285    0\n",
       "3  3   0.0  1159.303113  1184.152463  1259.449892 -0.000428    0\n",
       "4  4   0.0  1159.303113  1184.152463  1259.449892 -0.000570    0"
      ]
     },
     "execution_count": 4,
     "metadata": {},
     "output_type": "execute_result"
    }
   ],
   "source": [
    "env = greenCrabMonthEnv()\n",
    "agent = multiConstAction(env=env, action=np.array([1159.3031132772392, 1184.1524632666515, 1259.4498917568628]))\n",
    "constantData = simulator(env = env, agent = agent).simulate_full_named_obs_acts()\n",
    "constantDataDF = pd.DataFrame(constantData)\n",
    "constantDataDF.head()"
   ]
  },
  {
   "cell_type": "code",
   "execution_count": 5,
   "id": "f89b76f7-3786-4e7c-a357-de689969ad69",
   "metadata": {},
   "outputs": [
    {
     "data": {
      "text/plain": [
       "<Axes: xlabel='t'>"
      ]
     },
     "execution_count": 5,
     "metadata": {},
     "output_type": "execute_result"
    },
    {
     "data": {
      "image/png": "[encoded data removed]",
      "text/plain": [
       "<Figure size 640x480 with 1 Axes>"
      ]
     },
     "metadata": {},
     "output_type": "display_data"
    }
   ],
   "source": [
    "constantDataDF[constantDataDF.rep == 0].plot(x='t', y =['obs0'])"
   ]
  },
  {
   "cell_type": "code",
   "execution_count": 6,
   "id": "28fd223e-0916-44c2-be53-5f2b888d52b7",
   "metadata": {},
   "outputs": [],
   "source": [
    "def environment_simulation(env, agent, reps=10, obs_names = None, acts_names = None):\n",
    "    num_obs = np.prod(env.observation_space.shape)\n",
    "    num_acts = np.prod(env.action_space.shape)\n",
    "    obs_names = obs_names or [f'obs{i}' for i in range(num_obs)]\n",
    "    acts_names = acts_names or [f'act{i}' for i in range(num_acts)]\n",
    "    #\n",
    "    data = {\n",
    "        't': [],\n",
    "        **{obsn: [] for obsn in obs_names},\n",
    "        **{actn: [] for actn in acts_names},\n",
    "        'rew': [],\n",
    "        'rep': [],\n",
    "        'crab_pop':[]\n",
    "    }\n",
    "    env = env\n",
    "    agent = agent\n",
    "    for rep in range(reps): # try score as average of 100 replicates, still a noisy measure\n",
    "        episode_reward = 0.0\n",
    "        observation, _ = env.reset()\n",
    "        for t in range(env.Tmax):\n",
    "            action, _ = agent.predict(observation, deterministic=True)\n",
    "            #\n",
    "            data['rew'].append(episode_reward)\n",
    "            data['rep'].append(rep)\n",
    "            data['t'].append(t)\n",
    "            data['crab_pop'].append(env.state)\n",
    "            for idx, obs_name in enumerate(obs_names):\n",
    "                data[obs_name].append(observation[idx])\n",
    "            for idx, act_name in enumerate(acts_names):\n",
    "                data[act_name].append(action[idx])\n",
    "            #\n",
    "            observation, reward, terminated, done, info = env.step(action)\n",
    "            episode_reward += reward\n",
    "            #\n",
    "            if terminated or done:\n",
    "                break\n",
    "    return data"
   ]
  },
  {
   "cell_type": "code",
   "execution_count": 7,
   "id": "9487aaa9-06fd-4dd0-94f9-072822510ade",
   "metadata": {},
   "outputs": [
    {
     "data": {
      "text/html": [
       "<div>\n",
       "<style scoped>\n",
       "    .dataframe tbody tr th:only-of-type {\n",
       "        vertical-align: middle;\n",
       "    }\n",
       "\n",
       "    .dataframe tbody tr th {\n",
       "        vertical-align: top;\n",
       "    }\n",
       "\n",
       "    .dataframe thead th {\n",
       "        text-align: right;\n",
       "    }\n",
       "</style>\n",
       "<table border=\"1\" class=\"dataframe\">\n",
       "  <thead>\n",
       "    <tr style=\"text-align: right;\">\n",
       "      <th></th>\n",
       "      <th>t</th>\n",
       "      <th>obs0</th>\n",
       "      <th>act0</th>\n",
       "      <th>act1</th>\n",
       "      <th>act2</th>\n",
       "      <th>rew</th>\n",
       "      <th>rep</th>\n",
       "      <th>crab_pop</th>\n",
       "    </tr>\n",
       "  </thead>\n",
       "  <tbody>\n",
       "    <tr>\n",
       "      <th>0</th>\n",
       "      <td>0</td>\n",
       "      <td>0.0</td>\n",
       "      <td>0</td>\n",
       "      <td>0</td>\n",
       "      <td>0</td>\n",
       "      <td>0.000000</td>\n",
       "      <td>0</td>\n",
       "      <td>[0.0, 0.0, 0.0, 0.0, 0.0, 0.0, 0.0, 0.0, 0.0, ...</td>\n",
       "    </tr>\n",
       "    <tr>\n",
       "      <th>1</th>\n",
       "      <td>1</td>\n",
       "      <td>0.0</td>\n",
       "      <td>0</td>\n",
       "      <td>0</td>\n",
       "      <td>0</td>\n",
       "      <td>-0.003379</td>\n",
       "      <td>0</td>\n",
       "      <td>[10.132375360797672, 225.8567578852788, 921.34...</td>\n",
       "    </tr>\n",
       "    <tr>\n",
       "      <th>2</th>\n",
       "      <td>2</td>\n",
       "      <td>0.0</td>\n",
       "      <td>0</td>\n",
       "      <td>0</td>\n",
       "      <td>0</td>\n",
       "      <td>-0.006351</td>\n",
       "      <td>0</td>\n",
       "      <td>[4.970467148436807, 92.8716399820499, 482.9856...</td>\n",
       "    </tr>\n",
       "    <tr>\n",
       "      <th>3</th>\n",
       "      <td>3</td>\n",
       "      <td>0.0</td>\n",
       "      <td>0</td>\n",
       "      <td>0</td>\n",
       "      <td>0</td>\n",
       "      <td>-0.008967</td>\n",
       "      <td>0</td>\n",
       "      <td>[2.134437260485081, 39.23893673658648, 244.246...</td>\n",
       "    </tr>\n",
       "    <tr>\n",
       "      <th>4</th>\n",
       "      <td>4</td>\n",
       "      <td>0.0</td>\n",
       "      <td>0</td>\n",
       "      <td>0</td>\n",
       "      <td>0</td>\n",
       "      <td>-0.011292</td>\n",
       "      <td>0</td>\n",
       "      <td>[0.9939239357333701, 16.832227474919236, 120.3...</td>\n",
       "    </tr>\n",
       "  </tbody>\n",
       "</table>\n",
       "</div>"
      ],
      "text/plain": [
       "   t  obs0  act0  act1  act2       rew  rep  \\\n",
       "0  0   0.0     0     0     0  0.000000    0   \n",
       "1  1   0.0     0     0     0 -0.003379    0   \n",
       "2  2   0.0     0     0     0 -0.006351    0   \n",
       "3  3   0.0     0     0     0 -0.008967    0   \n",
       "4  4   0.0     0     0     0 -0.011292    0   \n",
       "\n",
       "                                            crab_pop  \n",
       "0  [0.0, 0.0, 0.0, 0.0, 0.0, 0.0, 0.0, 0.0, 0.0, ...  \n",
       "1  [10.132375360797672, 225.8567578852788, 921.34...  \n",
       "2  [4.970467148436807, 92.8716399820499, 482.9856...  \n",
       "3  [2.134437260485081, 39.23893673658648, 244.246...  \n",
       "4  [0.9939239357333701, 16.832227474919236, 120.3...  "
      ]
     },
     "execution_count": 7,
     "metadata": {},
     "output_type": "execute_result"
    }
   ],
   "source": [
    "agent = multiConstAction(env=env, action=np.array([0, 0, 0]))\n",
    "constantData = environment_simulation(env, agent)\n",
    "constantDataDF = pd.DataFrame(constantData)\n",
    "constantDataDF.head()"
   ]
  },
  {
   "cell_type": "code",
   "execution_count": 8,
   "id": "cf24a058-3436-4964-bdfd-92e884b8f11a",
   "metadata": {},
   "outputs": [
    {
     "data": {
      "text/html": [
       "<div>\n",
       "<style scoped>\n",
       "    .dataframe tbody tr th:only-of-type {\n",
       "        vertical-align: middle;\n",
       "    }\n",
       "\n",
       "    .dataframe tbody tr th {\n",
       "        vertical-align: top;\n",
       "    }\n",
       "\n",
       "    .dataframe thead th {\n",
       "        text-align: right;\n",
       "    }\n",
       "</style>\n",
       "<table border=\"1\" class=\"dataframe\">\n",
       "  <thead>\n",
       "    <tr style=\"text-align: right;\">\n",
       "      <th></th>\n",
       "      <th>crab_pop_0</th>\n",
       "      <th>crab_pop_1</th>\n",
       "      <th>crab_pop_2</th>\n",
       "      <th>crab_pop_3</th>\n",
       "      <th>crab_pop_4</th>\n",
       "      <th>crab_pop_5</th>\n",
       "      <th>crab_pop_6</th>\n",
       "      <th>crab_pop_7</th>\n",
       "      <th>crab_pop_8</th>\n",
       "      <th>crab_pop_9</th>\n",
       "      <th>...</th>\n",
       "      <th>crab_pop_12</th>\n",
       "      <th>crab_pop_13</th>\n",
       "      <th>crab_pop_14</th>\n",
       "      <th>crab_pop_15</th>\n",
       "      <th>crab_pop_16</th>\n",
       "      <th>crab_pop_17</th>\n",
       "      <th>crab_pop_18</th>\n",
       "      <th>crab_pop_19</th>\n",
       "      <th>crab_pop_20</th>\n",
       "      <th>t</th>\n",
       "    </tr>\n",
       "  </thead>\n",
       "  <tbody>\n",
       "    <tr>\n",
       "      <th>0</th>\n",
       "      <td>0.000000</td>\n",
       "      <td>0.000000</td>\n",
       "      <td>0.000000</td>\n",
       "      <td>0.000000</td>\n",
       "      <td>0.000000</td>\n",
       "      <td>0.000000</td>\n",
       "      <td>0.000000</td>\n",
       "      <td>0.000000</td>\n",
       "      <td>0.000000</td>\n",
       "      <td>0.000000</td>\n",
       "      <td>...</td>\n",
       "      <td>0.000000</td>\n",
       "      <td>0.000000</td>\n",
       "      <td>0.000000</td>\n",
       "      <td>0.000000</td>\n",
       "      <td>0.000000</td>\n",
       "      <td>0.000000</td>\n",
       "      <td>0.000000e+00</td>\n",
       "      <td>0.000000e+00</td>\n",
       "      <td>0.000000</td>\n",
       "      <td>0</td>\n",
       "    </tr>\n",
       "    <tr>\n",
       "      <th>1</th>\n",
       "      <td>10.132375</td>\n",
       "      <td>225.856758</td>\n",
       "      <td>921.340346</td>\n",
       "      <td>1307.743958</td>\n",
       "      <td>727.289201</td>\n",
       "      <td>337.958230</td>\n",
       "      <td>513.815628</td>\n",
       "      <td>650.805013</td>\n",
       "      <td>538.050540</td>\n",
       "      <td>300.614729</td>\n",
       "      <td>...</td>\n",
       "      <td>20.465621</td>\n",
       "      <td>9.418167</td>\n",
       "      <td>3.532266</td>\n",
       "      <td>0.612549</td>\n",
       "      <td>0.010593</td>\n",
       "      <td>0.000005</td>\n",
       "      <td>5.508771e-11</td>\n",
       "      <td>0.000000e+00</td>\n",
       "      <td>0.000000</td>\n",
       "      <td>1</td>\n",
       "    </tr>\n",
       "    <tr>\n",
       "      <th>2</th>\n",
       "      <td>4.970467</td>\n",
       "      <td>92.871640</td>\n",
       "      <td>482.985623</td>\n",
       "      <td>1038.319372</td>\n",
       "      <td>1041.037389</td>\n",
       "      <td>577.745141</td>\n",
       "      <td>440.282561</td>\n",
       "      <td>576.059157</td>\n",
       "      <td>576.145887</td>\n",
       "      <td>398.914507</td>\n",
       "      <td>...</td>\n",
       "      <td>31.871131</td>\n",
       "      <td>12.911575</td>\n",
       "      <td>4.830099</td>\n",
       "      <td>0.909137</td>\n",
       "      <td>0.015885</td>\n",
       "      <td>0.000008</td>\n",
       "      <td>8.263157e-11</td>\n",
       "      <td>0.000000e+00</td>\n",
       "      <td>0.000000</td>\n",
       "      <td>2</td>\n",
       "    </tr>\n",
       "    <tr>\n",
       "      <th>3</th>\n",
       "      <td>2.134437</td>\n",
       "      <td>39.238937</td>\n",
       "      <td>244.246037</td>\n",
       "      <td>691.729281</td>\n",
       "      <td>1008.716881</td>\n",
       "      <td>825.375195</td>\n",
       "      <td>530.575853</td>\n",
       "      <td>519.087865</td>\n",
       "      <td>571.060257</td>\n",
       "      <td>467.147712</td>\n",
       "      <td>...</td>\n",
       "      <td>49.394828</td>\n",
       "      <td>18.136000</td>\n",
       "      <td>6.167224</td>\n",
       "      <td>1.205751</td>\n",
       "      <td>0.021176</td>\n",
       "      <td>0.000010</td>\n",
       "      <td>1.101754e-10</td>\n",
       "      <td>0.000000e+00</td>\n",
       "      <td>0.000000</td>\n",
       "      <td>3</td>\n",
       "    </tr>\n",
       "    <tr>\n",
       "      <th>4</th>\n",
       "      <td>0.993924</td>\n",
       "      <td>16.832227</td>\n",
       "      <td>120.305116</td>\n",
       "      <td>424.020491</td>\n",
       "      <td>809.261890</td>\n",
       "      <td>905.563490</td>\n",
       "      <td>688.215214</td>\n",
       "      <td>535.515007</td>\n",
       "      <td>548.152065</td>\n",
       "      <td>508.049891</td>\n",
       "      <td>...</td>\n",
       "      <td>76.365250</td>\n",
       "      <td>28.358920</td>\n",
       "      <td>9.799777</td>\n",
       "      <td>2.468085</td>\n",
       "      <td>0.292826</td>\n",
       "      <td>0.004322</td>\n",
       "      <td>1.856123e-06</td>\n",
       "      <td>1.714151e-11</td>\n",
       "      <td>0.000000</td>\n",
       "      <td>4</td>\n",
       "    </tr>\n",
       "    <tr>\n",
       "      <th>...</th>\n",
       "      <td>...</td>\n",
       "      <td>...</td>\n",
       "      <td>...</td>\n",
       "      <td>...</td>\n",
       "      <td>...</td>\n",
       "      <td>...</td>\n",
       "      <td>...</td>\n",
       "      <td>...</td>\n",
       "      <td>...</td>\n",
       "      <td>...</td>\n",
       "      <td>...</td>\n",
       "      <td>...</td>\n",
       "      <td>...</td>\n",
       "      <td>...</td>\n",
       "      <td>...</td>\n",
       "      <td>...</td>\n",
       "      <td>...</td>\n",
       "      <td>...</td>\n",
       "      <td>...</td>\n",
       "      <td>...</td>\n",
       "      <td>...</td>\n",
       "    </tr>\n",
       "    <tr>\n",
       "      <th>95</th>\n",
       "      <td>0.603216</td>\n",
       "      <td>13.526805</td>\n",
       "      <td>108.848323</td>\n",
       "      <td>448.666916</td>\n",
       "      <td>1076.309350</td>\n",
       "      <td>1565.133059</td>\n",
       "      <td>1474.631038</td>\n",
       "      <td>1106.349406</td>\n",
       "      <td>980.051427</td>\n",
       "      <td>1063.748209</td>\n",
       "      <td>...</td>\n",
       "      <td>1043.158112</td>\n",
       "      <td>1040.112491</td>\n",
       "      <td>1045.659239</td>\n",
       "      <td>1032.279447</td>\n",
       "      <td>979.876056</td>\n",
       "      <td>887.978732</td>\n",
       "      <td>7.363844e+02</td>\n",
       "      <td>5.158455e+02</td>\n",
       "      <td>256.894729</td>\n",
       "      <td>95</td>\n",
       "    </tr>\n",
       "    <tr>\n",
       "      <th>96</th>\n",
       "      <td>0.120071</td>\n",
       "      <td>5.725589</td>\n",
       "      <td>52.976990</td>\n",
       "      <td>254.214489</td>\n",
       "      <td>723.069569</td>\n",
       "      <td>1286.103262</td>\n",
       "      <td>1504.796805</td>\n",
       "      <td>1288.599869</td>\n",
       "      <td>1053.087132</td>\n",
       "      <td>1042.834959</td>\n",
       "      <td>...</td>\n",
       "      <td>1060.519827</td>\n",
       "      <td>1049.878683</td>\n",
       "      <td>1043.898844</td>\n",
       "      <td>1035.045673</td>\n",
       "      <td>991.953492</td>\n",
       "      <td>900.495565</td>\n",
       "      <td>7.461023e+02</td>\n",
       "      <td>5.228896e+02</td>\n",
       "      <td>260.222872</td>\n",
       "      <td>96</td>\n",
       "    </tr>\n",
       "    <tr>\n",
       "      <th>97</th>\n",
       "      <td>0.046241</td>\n",
       "      <td>2.276222</td>\n",
       "      <td>23.899872</td>\n",
       "      <td>137.520553</td>\n",
       "      <td>460.439961</td>\n",
       "      <td>973.282811</td>\n",
       "      <td>1376.883615</td>\n",
       "      <td>1393.093290</td>\n",
       "      <td>1177.046061</td>\n",
       "      <td>1063.848388</td>\n",
       "      <td>...</td>\n",
       "      <td>1081.009215</td>\n",
       "      <td>1054.777336</td>\n",
       "      <td>1050.744737</td>\n",
       "      <td>1039.674510</td>\n",
       "      <td>1004.482702</td>\n",
       "      <td>910.520321</td>\n",
       "      <td>7.433540e+02</td>\n",
       "      <td>5.239794e+02</td>\n",
       "      <td>263.475046</td>\n",
       "      <td>97</td>\n",
       "    </tr>\n",
       "    <tr>\n",
       "      <th>98</th>\n",
       "      <td>2.683571</td>\n",
       "      <td>3126.581944</td>\n",
       "      <td>3141.581944</td>\n",
       "      <td>105.683571</td>\n",
       "      <td>381.000000</td>\n",
       "      <td>815.000000</td>\n",
       "      <td>1151.000000</td>\n",
       "      <td>1212.000000</td>\n",
       "      <td>1040.000000</td>\n",
       "      <td>932.000000</td>\n",
       "      <td>...</td>\n",
       "      <td>982.000000</td>\n",
       "      <td>954.000000</td>\n",
       "      <td>963.000000</td>\n",
       "      <td>962.000000</td>\n",
       "      <td>922.000000</td>\n",
       "      <td>843.000000</td>\n",
       "      <td>6.860000e+02</td>\n",
       "      <td>4.840000e+02</td>\n",
       "      <td>242.000000</td>\n",
       "      <td>98</td>\n",
       "    </tr>\n",
       "    <tr>\n",
       "      <th>99</th>\n",
       "      <td>29.554636</td>\n",
       "      <td>1132.994047</td>\n",
       "      <td>3025.043126</td>\n",
       "      <td>1996.008657</td>\n",
       "      <td>372.217601</td>\n",
       "      <td>597.764668</td>\n",
       "      <td>1001.182452</td>\n",
       "      <td>1211.206970</td>\n",
       "      <td>1155.207467</td>\n",
       "      <td>1019.538462</td>\n",
       "      <td>...</td>\n",
       "      <td>1021.235796</td>\n",
       "      <td>999.186157</td>\n",
       "      <td>995.371356</td>\n",
       "      <td>993.299809</td>\n",
       "      <td>957.370780</td>\n",
       "      <td>873.463282</td>\n",
       "      <td>7.178063e+02</td>\n",
       "      <td>5.050119e+02</td>\n",
       "      <td>253.859686</td>\n",
       "      <td>99</td>\n",
       "    </tr>\n",
       "  </tbody>\n",
       "</table>\n",
       "<p>100 rows × 22 columns</p>\n",
       "</div>"
      ],
      "text/plain": [
       "    crab_pop_0   crab_pop_1   crab_pop_2   crab_pop_3   crab_pop_4  \\\n",
       "0     0.000000     0.000000     0.000000     0.000000     0.000000   \n",
       "1    10.132375   225.856758   921.340346  1307.743958   727.289201   \n",
       "2     4.970467    92.871640   482.985623  1038.319372  1041.037389   \n",
       "3     2.134437    39.238937   244.246037   691.729281  1008.716881   \n",
       "4     0.993924    16.832227   120.305116   424.020491   809.261890   \n",
       "..         ...          ...          ...          ...          ...   \n",
       "95    0.603216    13.526805   108.848323   448.666916  1076.309350   \n",
       "96    0.120071     5.725589    52.976990   254.214489   723.069569   \n",
       "97    0.046241     2.276222    23.899872   137.520553   460.439961   \n",
       "98    2.683571  3126.581944  3141.581944   105.683571   381.000000   \n",
       "99   29.554636  1132.994047  3025.043126  1996.008657   372.217601   \n",
       "\n",
       "     crab_pop_5   crab_pop_6   crab_pop_7   crab_pop_8   crab_pop_9  ...  \\\n",
       "0      0.000000     0.000000     0.000000     0.000000     0.000000  ...   \n",
       "1    337.958230   513.815628   650.805013   538.050540   300.614729  ...   \n",
       "2    577.745141   440.282561   576.059157   576.145887   398.914507  ...   \n",
       "3    825.375195   530.575853   519.087865   571.060257   467.147712  ...   \n",
       "4    905.563490   688.215214   535.515007   548.152065   508.049891  ...   \n",
       "..          ...          ...          ...          ...          ...  ...   \n",
       "95  1565.133059  1474.631038  1106.349406   980.051427  1063.748209  ...   \n",
       "96  1286.103262  1504.796805  1288.599869  1053.087132  1042.834959  ...   \n",
       "97   973.282811  1376.883615  1393.093290  1177.046061  1063.848388  ...   \n",
       "98   815.000000  1151.000000  1212.000000  1040.000000   932.000000  ...   \n",
       "99   597.764668  1001.182452  1211.206970  1155.207467  1019.538462  ...   \n",
       "\n",
       "    crab_pop_12  crab_pop_13  crab_pop_14  crab_pop_15  crab_pop_16  \\\n",
       "0      0.000000     0.000000     0.000000     0.000000     0.000000   \n",
       "1     20.465621     9.418167     3.532266     0.612549     0.010593   \n",
       "2     31.871131    12.911575     4.830099     0.909137     0.015885   \n",
       "3     49.394828    18.136000     6.167224     1.205751     0.021176   \n",
       "4     76.365250    28.358920     9.799777     2.468085     0.292826   \n",
       "..          ...          ...          ...          ...          ...   \n",
       "95  1043.158112  1040.112491  1045.659239  1032.279447   979.876056   \n",
       "96  1060.519827  1049.878683  1043.898844  1035.045673   991.953492   \n",
       "97  1081.009215  1054.777336  1050.744737  1039.674510  1004.482702   \n",
       "98   982.000000   954.000000   963.000000   962.000000   922.000000   \n",
       "99  1021.235796   999.186157   995.371356   993.299809   957.370780   \n",
       "\n",
       "    crab_pop_17   crab_pop_18   crab_pop_19  crab_pop_20   t  \n",
       "0      0.000000  0.000000e+00  0.000000e+00     0.000000   0  \n",
       "1      0.000005  5.508771e-11  0.000000e+00     0.000000   1  \n",
       "2      0.000008  8.263157e-11  0.000000e+00     0.000000   2  \n",
       "3      0.000010  1.101754e-10  0.000000e+00     0.000000   3  \n",
       "4      0.004322  1.856123e-06  1.714151e-11     0.000000   4  \n",
       "..          ...           ...           ...          ...  ..  \n",
       "95   887.978732  7.363844e+02  5.158455e+02   256.894729  95  \n",
       "96   900.495565  7.461023e+02  5.228896e+02   260.222872  96  \n",
       "97   910.520321  7.433540e+02  5.239794e+02   263.475046  97  \n",
       "98   843.000000  6.860000e+02  4.840000e+02   242.000000  98  \n",
       "99   873.463282  7.178063e+02  5.050119e+02   253.859686  99  \n",
       "\n",
       "[100 rows x 22 columns]"
      ]
     },
     "execution_count": 8,
     "metadata": {},
     "output_type": "execute_result"
    }
   ],
   "source": [
    "crab_pop_df = pd.DataFrame(constantDataDF[constantDataDF['rep']==0]['crab_pop'].tolist(), columns=[f'crab_pop_{i}' for i in range(len(constantDataDF['crab_pop'][0]))])\n",
    "crab_pop_df['t'] = constantDataDF['t']\n",
    "crab_pop_df"
   ]
  },
  {
   "cell_type": "code",
   "execution_count": 9,
   "id": "71601a25-44e0-4f86-8aef-efc26575fb16",
   "metadata": {},
   "outputs": [
    {
     "data": {
      "application/vnd.jupyter.widget-view+json": {
       "model_id": "6f6756732f2d4745b025654939a8ab1f",
       "version_major": 2,
       "version_minor": 0
      },
      "text/plain": [
       "interactive(children=(SelectMultiple(description='Sizes', index=(0,), options=('crab_pop_0', 'crab_pop_1', 'cr…"
      ]
     },
     "metadata": {},
     "output_type": "display_data"
    }
   ],
   "source": [
    "def plot_selected_sizes(expanded_df:pd.DataFrame, selected_sizes):\n",
    "    plt.figure(figsize=(12, 8))\n",
    "    time = expanded_df['t']  # Time column\n",
    "\n",
    "    # If no sizes selected, show a placeholder message\n",
    "    if not selected_sizes:\n",
    "        plt.text(0.5, 0.5, 'No sizes selected', fontsize=20, ha='center', va='center')\n",
    "        plt.axis('off')\n",
    "        plt.show()\n",
    "        return\n",
    "\n",
    "    # Plot each selected size\n",
    "    for col in selected_sizes:\n",
    "        plt.plot(time, expanded_df[col], label=col)\n",
    "\n",
    "    # Customize the plot\n",
    "    plt.title(\"Green Crab Population Change Over Time\", fontsize=16)\n",
    "    plt.xlabel(\"Time (t)\", fontsize=14)\n",
    "    plt.ylabel(\"Population\", fontsize=14)\n",
    "    plt.legend(title=\"Crab Sizes\", bbox_to_anchor=(1.05, 1), loc='upper left')\n",
    "    plt.grid()\n",
    "    plt.tight_layout()\n",
    "\n",
    "    # Show the plot\n",
    "    plt.show()\n",
    "\n",
    "# Create a multi-select widget for crab size columns\n",
    "crab_pop_columns = [col for col in crab_pop_df.columns if col.startswith('crab_pop_')]\n",
    "size_selector = widgets.SelectMultiple(\n",
    "    options=crab_pop_columns,\n",
    "    value=[crab_pop_columns[0]],  # Default selection\n",
    "    description='Sizes',\n",
    "    disabled=False\n",
    ")\n",
    "# Create an interactive plot\n",
    "interact(lambda selected_sizes: plot_selected_sizes(crab_pop_df, selected_sizes), selected_sizes=size_selector);"
   ]
  },
  {
   "cell_type": "markdown",
   "id": "c0852a14-2acc-4afc-8079-46626f92894a",
   "metadata": {},
   "source": [
    "### normalized environment"
   ]
  },
  {
   "cell_type": "code",
   "execution_count": 2,
   "id": "b49d5502-9f0e-44de-a700-7d7aaa64ea87",
   "metadata": {},
   "outputs": [],
   "source": [
    "env = greenCrabMonthEnvNormalized()\n",
    "agent = multiConstAction(env=env, action=np.array([-0.22713126, -0.21056502, -0.16036674]))"
   ]
  },
  {
   "cell_type": "code",
   "execution_count": 5,
   "id": "e30e40ed-741b-49de-8a75-4de586b300f0",
   "metadata": {},
   "outputs": [
    {
     "name": "stderr",
     "output_type": "stream",
     "text": [
      "2025-01-09 05:28:52,049\tINFO worker.py:1821 -- Started a local Ray instance.\n"
     ]
    },
    {
     "data": {
      "text/plain": [
       "1.4855454771582828"
      ]
     },
     "execution_count": 5,
     "metadata": {},
     "output_type": "execute_result"
    }
   ],
   "source": [
    "evaluateConstAct([-0.22713126, -0.21056502, -0.16036674])"
   ]
  },
  {
   "cell_type": "code",
   "execution_count": 6,
   "id": "17163dae-c66a-4b3f-a90d-16db535ac136",
   "metadata": {},
   "outputs": [],
   "source": [
    "import ray\n",
    "ray.shutdown()"
   ]
  },
  {
   "cell_type": "code",
   "execution_count": 7,
   "id": "5807d82e-931c-4d45-866c-91c7da308dd9",
   "metadata": {},
   "outputs": [
    {
     "data": {
      "text/html": [
       "<div>\n",
       "<style scoped>\n",
       "    .dataframe tbody tr th:only-of-type {\n",
       "        vertical-align: middle;\n",
       "    }\n",
       "\n",
       "    .dataframe tbody tr th {\n",
       "        vertical-align: top;\n",
       "    }\n",
       "\n",
       "    .dataframe thead th {\n",
       "        text-align: right;\n",
       "    }\n",
       "</style>\n",
       "<table border=\"1\" class=\"dataframe\">\n",
       "  <thead>\n",
       "    <tr style=\"text-align: right;\">\n",
       "      <th></th>\n",
       "      <th>t</th>\n",
       "      <th>obs0</th>\n",
       "      <th>act0</th>\n",
       "      <th>act1</th>\n",
       "      <th>act2</th>\n",
       "      <th>rew</th>\n",
       "      <th>rep</th>\n",
       "    </tr>\n",
       "  </thead>\n",
       "  <tbody>\n",
       "    <tr>\n",
       "      <th>0</th>\n",
       "      <td>0</td>\n",
       "      <td>-1.0</td>\n",
       "      <td>-0.227131</td>\n",
       "      <td>-0.210565</td>\n",
       "      <td>-0.160367</td>\n",
       "      <td>0.000000</td>\n",
       "      <td>0</td>\n",
       "    </tr>\n",
       "    <tr>\n",
       "      <th>1</th>\n",
       "      <td>1</td>\n",
       "      <td>-1.0</td>\n",
       "      <td>-0.227131</td>\n",
       "      <td>-0.210565</td>\n",
       "      <td>-0.160367</td>\n",
       "      <td>-0.001426</td>\n",
       "      <td>0</td>\n",
       "    </tr>\n",
       "    <tr>\n",
       "      <th>2</th>\n",
       "      <td>2</td>\n",
       "      <td>-1.0</td>\n",
       "      <td>-0.227131</td>\n",
       "      <td>-0.210565</td>\n",
       "      <td>-0.160367</td>\n",
       "      <td>-0.002852</td>\n",
       "      <td>0</td>\n",
       "    </tr>\n",
       "    <tr>\n",
       "      <th>3</th>\n",
       "      <td>3</td>\n",
       "      <td>-1.0</td>\n",
       "      <td>-0.227131</td>\n",
       "      <td>-0.210565</td>\n",
       "      <td>-0.160367</td>\n",
       "      <td>-0.004277</td>\n",
       "      <td>0</td>\n",
       "    </tr>\n",
       "    <tr>\n",
       "      <th>4</th>\n",
       "      <td>4</td>\n",
       "      <td>-1.0</td>\n",
       "      <td>-0.227131</td>\n",
       "      <td>-0.210565</td>\n",
       "      <td>-0.160367</td>\n",
       "      <td>-0.005703</td>\n",
       "      <td>0</td>\n",
       "    </tr>\n",
       "  </tbody>\n",
       "</table>\n",
       "</div>"
      ],
      "text/plain": [
       "   t  obs0      act0      act1      act2       rew  rep\n",
       "0  0  -1.0 -0.227131 -0.210565 -0.160367  0.000000    0\n",
       "1  1  -1.0 -0.227131 -0.210565 -0.160367 -0.001426    0\n",
       "2  2  -1.0 -0.227131 -0.210565 -0.160367 -0.002852    0\n",
       "3  3  -1.0 -0.227131 -0.210565 -0.160367 -0.004277    0\n",
       "4  4  -1.0 -0.227131 -0.210565 -0.160367 -0.005703    0"
      ]
     },
     "execution_count": 7,
     "metadata": {},
     "output_type": "execute_result"
    }
   ],
   "source": [
    "constantData = simulator(env = env, agent = agent).simulate_full_named_obs_acts()\n",
    "constantDataDF = pd.DataFrame(constantData)\n",
    "constantDataDF.head()"
   ]
  },
  {
   "cell_type": "code",
   "execution_count": 8,
   "id": "e56118ac-3163-4e9b-9f28-f3689dd5477d",
   "metadata": {},
   "outputs": [
    {
     "data": {
      "text/plain": [
       "<Axes: xlabel='t'>"
      ]
     },
     "execution_count": 8,
     "metadata": {},
     "output_type": "execute_result"
    },
    {
     "data": {
      "image/png": "[encoded data removed]",
      "text/plain": [
       "<Figure size 640x480 with 1 Axes>"
      ]
     },
     "metadata": {},
     "output_type": "display_data"
    }
   ],
   "source": [
    "constantDataDF[constantDataDF.rep == 0].plot(x='t', y =['obs0'])"
   ]
  },
  {
   "cell_type": "markdown",
   "id": "c5b194bd-ffd2-441e-acda-66f1a2dfc923",
   "metadata": {},
   "source": [
    "## Loading and evaluating trained models"
   ]
  },
  {
   "cell_type": "code",
   "execution_count": 11,
   "id": "740a90b6-afa1-40de-969c-60c5f6279788",
   "metadata": {},
   "outputs": [
    {
     "data": {
      "application/vnd.jupyter.widget-view+json": {
       "model_id": "f10c757360e54cb8a195389a4d11f830",
       "version_major": 2,
       "version_minor": 0
      },
      "text/plain": [
       "PPO_gcmenorm.zip:   0%|          | 0.00/140k [00:00<?, ?B/s]"
      ]
     },
     "metadata": {},
     "output_type": "display_data"
    },
    {
     "data": {
      "application/vnd.jupyter.widget-view+json": {
       "model_id": "4e7219abcdbc47148a487066ee114541",
       "version_major": 2,
       "version_minor": 0
      },
      "text/plain": [
       "RecurrentPPO_gcmenorm.zip:   0%|          | 0.00/6.90M [00:00<?, ?B/s]"
      ]
     },
     "metadata": {},
     "output_type": "display_data"
    },
    {
     "data": {
      "application/vnd.jupyter.widget-view+json": {
       "model_id": "027420e6b16344fea2d750dd06b5d719",
       "version_major": 2,
       "version_minor": 0
      },
      "text/plain": [
       "TQC_gcmenorm.zip:   0%|          | 0.00/3.21M [00:00<?, ?B/s]"
      ]
     },
     "metadata": {},
     "output_type": "display_data"
    }
   ],
   "source": [
    "repo_id = \"jimjiang203/greencrabPPO\"\n",
    "td3_path = hf_hub_download(repo_id=repo_id, filename='td3_gcmonthnorm.zip')\n",
    "ppo_path = hf_hub_download(repo_id=repo_id, filename='PPO_gcmenorm.zip')\n",
    "reppo_path = hf_hub_download(repo_id=repo_id, filename='RecurrentPPO_gcmenorm.zip')\n",
    "tqc_path = hf_hub_download(repo_id=repo_id, filename='TQC_gcmenorm.zip')"
   ]
  },
  {
   "cell_type": "code",
   "execution_count": 4,
   "id": "a05fa17f-1c54-48bf-84bf-3c3ae573df7e",
   "metadata": {},
   "outputs": [],
   "source": [
    "evalEnv = greenCrabMonthEnvNormalized()"
   ]
  },
  {
   "cell_type": "code",
   "execution_count": 6,
   "id": "d7e69073-702f-4cc3-a73b-b6d32c3d2494",
   "metadata": {},
   "outputs": [],
   "source": [
    "td3Agent = TD3.load(\"study_results/tunning_best_gcmonthnorm_TD3\", device=\"cpu\")\n",
    "ppoAgent = PPO.load(\"PPO_gcmenorm\", device=\"cpu\")\n",
    "tqcAgent = TQC.load(\"TQC_gcmenorm\", device=\"cpu\")\n",
    "recurrentPPOAgent = RecurrentPPO.load(\"RecurrentPPO_gcmenorm\", device=\"cpu\")"
   ]
  },
  {
   "cell_type": "code",
   "execution_count": 11,
   "id": "835a9162-9cb4-4112-9005-9f88a5d142c6",
   "metadata": {},
   "outputs": [],
   "source": [
    "N_EPS = 200\n",
    "\n",
    "ppo_rew = evaluate_agent(agent=ppoAgent, env=evalEnv, ray_remote=True).evaluate(n_eval_episodes=N_EPS)\n",
    "td3_rew = evaluate_agent(agent=td3Agent, env=evalEnv, ray_remote=True).evaluate(n_eval_episodes=N_EPS)\n",
    "tqc_rew = evaluate_agent(agent=tqcAgent, env=evalEnv, ray_remote=True).evaluate(n_eval_episodes=N_EPS)\n",
    "reppo_rew = evaluate_agent(agent=recurrentPPOAgent, env=evalEnv, ray_remote=True).evaluate(n_eval_episodes=N_EPS)"
   ]
  },
  {
   "cell_type": "code",
   "execution_count": 13,
   "id": "8732b206-528c-4a87-89f9-cffadebbaa18",
   "metadata": {},
   "outputs": [],
   "source": [
    "import ray\n",
    "ray.shutdown()"
   ]
  },
  {
   "cell_type": "code",
   "execution_count": 12,
   "id": "6500edbb-55e0-42d9-93cd-8f613827551c",
   "metadata": {},
   "outputs": [
    {
     "name": "stdout",
     "output_type": "stream",
     "text": [
      "\n",
      "PPO mean rew = -1.4695712653836006\n",
      "TQC mean rew = -1.403712970434758\n",
      "TD3 mean rew = -1.6545957414496935\n",
      "RecurrentPPO mean rew = -1.4117802084892432\n",
      "\n"
     ]
    }
   ],
   "source": [
    "print(f\"\"\"\n",
    "PPO mean rew = {ppo_rew}\n",
    "TQC mean rew = {tqc_rew}\n",
    "TD3 mean rew = {td3_rew}\n",
    "RecurrentPPO mean rew = {reppo_rew}\n",
    "\"\"\")"
   ]
  }
 ],
 "metadata": {
  "kernelspec": {
   "display_name": "Python 3 (ipykernel)",
   "language": "python",
   "name": "python3"
  },
  "language_info": {
   "codemirror_mode": {
    "name": "ipython",
    "version": 3
   },
   "file_extension": ".py",
   "mimetype": "text/x-python",
   "name": "python",
   "nbconvert_exporter": "python",
   "pygments_lexer": "ipython3",
   "version": "3.12.8"
  }
 },
 "nbformat": 4,
 "nbformat_minor": 5
}
