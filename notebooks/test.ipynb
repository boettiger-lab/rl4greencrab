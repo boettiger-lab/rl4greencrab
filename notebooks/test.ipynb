{
 "cells": [
  {
   "cell_type": "code",
   "execution_count": 7,
   "id": "a0e40a20-47ce-40da-bab0-ae9d78bdb326",
   "metadata": {},
   "outputs": [],
   "source": [
    "from rl4greencrab.envs.simple_env import SimpleEnv\n",
    "from stable_baselines3 import PPO, TD3\n",
    "from sb3_contrib import TQC, RecurrentPPO\n",
    "from stable_baselines3.common.env_util import make_vec_env\n",
    "from rl4greencrab import evaluate_agent, multiConstAction, simulator\n",
    "import pandas as pd\n",
    "import numpy as np"
   ]
  },
  {
   "cell_type": "code",
   "execution_count": 12,
   "id": "5bbd6894-8536-4d00-be48-58833b5fc532",
   "metadata": {},
   "outputs": [
    {
     "name": "stderr",
     "output_type": "stream",
     "text": [
      "/opt/conda/lib/python3.12/site-packages/gymnasium/spaces/box.py:305: UserWarning: \u001b[33mWARN: Box high's precision lowered by casting to float32, current high.dtype=float64\u001b[0m\n",
      "  gym.logger.warn(\n"
     ]
    }
   ],
   "source": [
    "config = {'r': 0.8, 'init_pop':20, \"randomize\": True}\n",
    "env = SimpleEnv(config)\n",
    "vec_env = make_vec_env(SimpleEnv, n_envs=12)"
   ]
  },
  {
   "cell_type": "code",
   "execution_count": 4,
   "id": "a515f749-3220-4f62-bbce-b8741756270b",
   "metadata": {},
   "outputs": [
    {
     "data": {
      "application/vnd.jupyter.widget-view+json": {
       "model_id": "00d17b02ac0e45b69a8b68d43557aceb",
       "version_major": 2,
       "version_minor": 0
      },
      "text/plain": [
       "Output()"
      ]
     },
     "metadata": {},
     "output_type": "display_data"
    },
    {
     "data": {
      "text/html": [
       "<pre style=\"white-space:pre;overflow-x:auto;line-height:normal;font-family:Menlo,'DejaVu Sans Mono',consolas,'Courier New',monospace\"></pre>\n"
      ],
      "text/plain": []
     },
     "metadata": {},
     "output_type": "display_data"
    }
   ],
   "source": [
    "model = PPO(\"MlpPolicy\", env , verbose=0, tensorboard_log=\"/home/rstudio/logs\")\n",
    "model.learn(\n",
    "\ttotal_timesteps=400_000,\n",
    "\tprogress_bar=True,\n",
    ")\n",
    "model.save(\"ppo_simple_env\")"
   ]
  },
  {
   "cell_type": "code",
   "execution_count": 14,
   "id": "ce193fb3-1d70-4b46-b957-3c0d0910f09c",
   "metadata": {},
   "outputs": [
    {
     "data": {
      "application/vnd.jupyter.widget-view+json": {
       "model_id": "6ee2b0c1f5054b9b8c4bb7f96ecf908f",
       "version_major": 2,
       "version_minor": 0
      },
      "text/plain": [
       "Output()"
      ]
     },
     "metadata": {},
     "output_type": "display_data"
    },
    {
     "name": "stderr",
     "output_type": "stream",
     "text": [
      "IOPub message rate exceeded.\n",
      "The Jupyter server will temporarily stop sending output\n",
      "to the client in order to avoid crashing it.\n",
      "To change this limit, set the config variable\n",
      "`--ServerApp.iopub_msg_rate_limit`.\n",
      "\n",
      "Current values:\n",
      "ServerApp.iopub_msg_rate_limit=1000.0 (msgs/sec)\n",
      "ServerApp.rate_limit_window=3.0 (secs)\n",
      "\n",
      "IOPub message rate exceeded.\n",
      "The Jupyter server will temporarily stop sending output\n",
      "to the client in order to avoid crashing it.\n",
      "To change this limit, set the config variable\n",
      "`--ServerApp.iopub_msg_rate_limit`.\n",
      "\n",
      "Current values:\n",
      "ServerApp.iopub_msg_rate_limit=1000.0 (msgs/sec)\n",
      "ServerApp.rate_limit_window=3.0 (secs)\n",
      "\n"
     ]
    },
    {
     "data": {
      "text/html": [
       "<pre style=\"white-space:pre;overflow-x:auto;line-height:normal;font-family:Menlo,'DejaVu Sans Mono',consolas,'Courier New',monospace\"></pre>\n"
      ],
      "text/plain": []
     },
     "metadata": {},
     "output_type": "display_data"
    }
   ],
   "source": [
    "model = RecurrentPPO(\"MlpLstmPolicy\", env , verbose=0, tensorboard_log=\"/home/rstudio/logs\")\n",
    "model.learn(\n",
    "\ttotal_timesteps=400_000,\n",
    "\tprogress_bar=True,\n",
    ")\n",
    "model.save(\"recurrentPPO_simple_env\")"
   ]
  },
  {
   "cell_type": "code",
   "execution_count": 15,
   "id": "8257e16b-d83d-4f3c-8530-04d8590f96cc",
   "metadata": {},
   "outputs": [],
   "source": [
    "recurrentPPOAgent = RecurrentPPO.load(\"recurrentPPO_simple_env\")"
   ]
  },
  {
   "cell_type": "code",
   "execution_count": 38,
   "id": "e7ae8cca-2972-42ba-9f63-aaf576426d89",
   "metadata": {},
   "outputs": [],
   "source": [
    "ppoAgent = PPO.load(\"../saved_agents/PPO-simpleEnv-3.zip\")"
   ]
  },
  {
   "cell_type": "code",
   "execution_count": 22,
   "id": "3263cbfe-5abd-4731-9e75-76384cfc8c52",
   "metadata": {},
   "outputs": [],
   "source": [
    "tqcAgent = TQC.load(\"../saved_agents/TQC-simpleEnv-1.zip\")"
   ]
  },
  {
   "cell_type": "code",
   "execution_count": 16,
   "id": "b12d6fa8-c7a8-40d4-935c-bfdae8136da5",
   "metadata": {},
   "outputs": [],
   "source": [
    "ppoData_one = simulator(env = env, agent = recurrentPPOAgent).simulate_full_named_obs_acts()"
   ]
  },
  {
   "cell_type": "code",
   "execution_count": 17,
   "id": "c75ff3b6-d27a-4f2d-a428-eebf8e00d475",
   "metadata": {},
   "outputs": [
    {
     "data": {
      "text/html": [
       "<div>\n",
       "<style scoped>\n",
       "    .dataframe tbody tr th:only-of-type {\n",
       "        vertical-align: middle;\n",
       "    }\n",
       "\n",
       "    .dataframe tbody tr th {\n",
       "        vertical-align: top;\n",
       "    }\n",
       "\n",
       "    .dataframe thead th {\n",
       "        text-align: right;\n",
       "    }\n",
       "</style>\n",
       "<table border=\"1\" class=\"dataframe\">\n",
       "  <thead>\n",
       "    <tr style=\"text-align: right;\">\n",
       "      <th></th>\n",
       "      <th>t</th>\n",
       "      <th>obs0</th>\n",
       "      <th>act0</th>\n",
       "      <th>rew</th>\n",
       "      <th>rep</th>\n",
       "    </tr>\n",
       "  </thead>\n",
       "  <tbody>\n",
       "    <tr>\n",
       "      <th>0</th>\n",
       "      <td>0</td>\n",
       "      <td>20.000000</td>\n",
       "      <td>0.000000</td>\n",
       "      <td>0.000000</td>\n",
       "      <td>0</td>\n",
       "    </tr>\n",
       "    <tr>\n",
       "      <th>1</th>\n",
       "      <td>1</td>\n",
       "      <td>24.565525</td>\n",
       "      <td>0.000000</td>\n",
       "      <td>0.000000</td>\n",
       "      <td>0</td>\n",
       "    </tr>\n",
       "    <tr>\n",
       "      <th>2</th>\n",
       "      <td>2</td>\n",
       "      <td>29.853224</td>\n",
       "      <td>0.000000</td>\n",
       "      <td>0.000000</td>\n",
       "      <td>0</td>\n",
       "    </tr>\n",
       "    <tr>\n",
       "      <th>3</th>\n",
       "      <td>3</td>\n",
       "      <td>35.828663</td>\n",
       "      <td>0.338978</td>\n",
       "      <td>0.000000</td>\n",
       "      <td>0</td>\n",
       "    </tr>\n",
       "    <tr>\n",
       "      <th>4</th>\n",
       "      <td>4</td>\n",
       "      <td>30.244133</td>\n",
       "      <td>0.000000</td>\n",
       "      <td>12.145113</td>\n",
       "      <td>0</td>\n",
       "    </tr>\n",
       "    <tr>\n",
       "      <th>...</th>\n",
       "      <td>...</td>\n",
       "      <td>...</td>\n",
       "      <td>...</td>\n",
       "      <td>...</td>\n",
       "      <td>...</td>\n",
       "    </tr>\n",
       "    <tr>\n",
       "      <th>14995</th>\n",
       "      <td>14995</td>\n",
       "      <td>28.292259</td>\n",
       "      <td>0.000000</td>\n",
       "      <td>94508.153869</td>\n",
       "      <td>0</td>\n",
       "    </tr>\n",
       "    <tr>\n",
       "      <th>14996</th>\n",
       "      <td>14996</td>\n",
       "      <td>34.081272</td>\n",
       "      <td>0.219263</td>\n",
       "      <td>94508.153869</td>\n",
       "      <td>0</td>\n",
       "    </tr>\n",
       "    <tr>\n",
       "      <th>14997</th>\n",
       "      <td>14997</td>\n",
       "      <td>33.019070</td>\n",
       "      <td>0.138633</td>\n",
       "      <td>94515.626621</td>\n",
       "      <td>0</td>\n",
       "    </tr>\n",
       "    <tr>\n",
       "      <th>14998</th>\n",
       "      <td>14998</td>\n",
       "      <td>34.752380</td>\n",
       "      <td>0.267083</td>\n",
       "      <td>94520.204147</td>\n",
       "      <td>0</td>\n",
       "    </tr>\n",
       "    <tr>\n",
       "      <th>14999</th>\n",
       "      <td>14999</td>\n",
       "      <td>31.940849</td>\n",
       "      <td>0.050356</td>\n",
       "      <td>94529.485912</td>\n",
       "      <td>0</td>\n",
       "    </tr>\n",
       "  </tbody>\n",
       "</table>\n",
       "<p>15000 rows × 5 columns</p>\n",
       "</div>"
      ],
      "text/plain": [
       "           t       obs0      act0           rew  rep\n",
       "0          0  20.000000  0.000000      0.000000    0\n",
       "1          1  24.565525  0.000000      0.000000    0\n",
       "2          2  29.853224  0.000000      0.000000    0\n",
       "3          3  35.828663  0.338978      0.000000    0\n",
       "4          4  30.244133  0.000000     12.145113    0\n",
       "...      ...        ...       ...           ...  ...\n",
       "14995  14995  28.292259  0.000000  94508.153869    0\n",
       "14996  14996  34.081272  0.219263  94508.153869    0\n",
       "14997  14997  33.019070  0.138633  94515.626621    0\n",
       "14998  14998  34.752380  0.267083  94520.204147    0\n",
       "14999  14999  31.940849  0.050356  94529.485912    0\n",
       "\n",
       "[15000 rows x 5 columns]"
      ]
     },
     "execution_count": 17,
     "metadata": {},
     "output_type": "execute_result"
    }
   ],
   "source": [
    "ppoDataDF = pd.DataFrame(ppoData_one)\n",
    "ppoDataDF.head(15000)"
   ]
  },
  {
   "cell_type": "code",
   "execution_count": 18,
   "id": "13ffa03b-49cb-43f6-82ff-743fceb4038a",
   "metadata": {},
   "outputs": [
    {
     "data": {
      "text/plain": [
       "<Axes: xlabel='t'>"
      ]
     },
     "execution_count": 18,
     "metadata": {},
     "output_type": "execute_result"
    },
    {
     "data": {
      "image/png": "[encoded data removed]",
      "text/plain": [
       "<Figure size 640x480 with 1 Axes>"
      ]
     },
     "metadata": {},
     "output_type": "display_data"
    }
   ],
   "source": [
    "ppoDataDF[(ppoDataDF.rep == 0) & (ppoDataDF.t <= 100)].plot(x='t', y ='act0')"
   ]
  },
  {
   "cell_type": "code",
   "execution_count": 1,
   "id": "7dbe6476-5719-4ddb-8c3b-9b030fd77a6e",
   "metadata": {},
   "outputs": [
    {
     "name": "stderr",
     "output_type": "stream",
     "text": [
      "2025-06-13 05:36:54,914\tINFO util.py:154 -- Outdated packages:\n",
      "  ipywidgets==7.8.5 found, needs ipywidgets>=8\n",
      "Run `pip install -U ipywidgets`, then restart the notebook server for rich notebook output.\n"
     ]
    }
   ],
   "source": [
    "from ensemble_ppo import *"
   ]
  },
  {
   "cell_type": "code",
   "execution_count": 4,
   "id": "875e4550-5dd1-44d8-b66c-a9d124d8d2ea",
   "metadata": {},
   "outputs": [
    {
     "name": "stderr",
     "output_type": "stream",
     "text": [
      "[I 2025-06-13 05:28:52,541] A new study created in memory with name: no-name-98d1b0c0-17ad-4fb5-9daf-851ba77280ef\n",
      "[I 2025-06-13 05:28:54,316] A new study created in memory with name: no-name-cf377122-126e-4150-9931-7479cd33938a\n",
      "[I 2025-06-13 05:28:54,319] A new study created in memory with name: no-name-a8f6483f-3276-41c4-a880-41086710d0b0\n"
     ]
    }
   ],
   "source": [
    "eppo = EnsemblePPO('MultiInputPolicy', vec_env, n_agents=3, verbose=0, tensorboard_log=\"/home/rstudio/logs\")"
   ]
  },
  {
   "cell_type": "code",
   "execution_count": 5,
   "id": "82ba936b-42db-4ba6-9b58-1166c0a6d63e",
   "metadata": {},
   "outputs": [
    {
     "data": {
      "application/vnd.jupyter.widget-view+json": {
       "model_id": "c31b725aaf044d8a8aca5b067958c514",
       "version_major": 2,
       "version_minor": 0
      },
      "text/plain": [
       "Output()"
      ]
     },
     "metadata": {},
     "output_type": "display_data"
    },
    {
     "data": {
      "text/html": [
       "<pre style=\"white-space:pre;overflow-x:auto;line-height:normal;font-family:Menlo,'DejaVu Sans Mono',consolas,'Courier New',monospace\"></pre>\n"
      ],
      "text/plain": []
     },
     "metadata": {},
     "output_type": "display_data"
    },
    {
     "data": {
      "application/vnd.jupyter.widget-view+json": {
       "model_id": "0d51fc8a042f416aad7b2f784d3391ff",
       "version_major": 2,
       "version_minor": 0
      },
      "text/plain": [
       "Output()"
      ]
     },
     "metadata": {},
     "output_type": "display_data"
    },
    {
     "data": {
      "text/html": [
       "<pre style=\"white-space:pre;overflow-x:auto;line-height:normal;font-family:Menlo,'DejaVu Sans Mono',consolas,'Courier New',monospace\"></pre>\n"
      ],
      "text/plain": []
     },
     "metadata": {},
     "output_type": "display_data"
    },
    {
     "data": {
      "application/vnd.jupyter.widget-view+json": {
       "model_id": "8aa13a4c575a4efd8b7e295ffab776d1",
       "version_major": 2,
       "version_minor": 0
      },
      "text/plain": [
       "Output()"
      ]
     },
     "metadata": {},
     "output_type": "display_data"
    },
    {
     "data": {
      "text/html": [
       "<pre style=\"white-space:pre;overflow-x:auto;line-height:normal;font-family:Menlo,'DejaVu Sans Mono',consolas,'Courier New',monospace\"></pre>\n"
      ],
      "text/plain": []
     },
     "metadata": {},
     "output_type": "display_data"
    }
   ],
   "source": [
    "eppo.learn(1000, progress_bar=True)"
   ]
  },
  {
   "cell_type": "code",
   "execution_count": 6,
   "id": "6d68e435-dffc-4ebe-96f5-6bfe4b5b5d67",
   "metadata": {},
   "outputs": [],
   "source": [
    "eppo.save('../saved_agents/eppo')"
   ]
  },
  {
   "cell_type": "code",
   "execution_count": 2,
   "id": "27db8e3b-51f1-4e78-a787-fa04d7a5a950",
   "metadata": {},
   "outputs": [
    {
     "name": "stdout",
     "output_type": "stream",
     "text": [
      "Loading ../saved_agents/eppo/model_2.zip …\n",
      "Loading ../saved_agents/eppo/model_0.zip …\n",
      "Loading ../saved_agents/eppo/model_1.zip …\n"
     ]
    }
   ],
   "source": [
    "eppo2 = EnsemblePPO.load('../saved_agents/eppo')"
   ]
  },
  {
   "cell_type": "code",
   "execution_count": 4,
   "id": "20f1ed4e-7626-4971-bdab-5a49ea58776c",
   "metadata": {},
   "outputs": [
    {
     "data": {
      "text/plain": [
       "(array([0.01353079], dtype=float32), None)"
      ]
     },
     "execution_count": 4,
     "metadata": {},
     "output_type": "execute_result"
    }
   ],
   "source": [
    "eppo2.predict(np.array([40]))"
   ]
  },
  {
   "cell_type": "code",
   "execution_count": 9,
   "id": "8446c4a7-f20d-4d98-ae0d-c800a63e3231",
   "metadata": {},
   "outputs": [],
   "source": [
    "ppoData = simulator(env = env, agent = eppo2).simulate_full_named_obs_acts()"
   ]
  },
  {
   "cell_type": "code",
   "execution_count": 10,
   "id": "e2dc465c-94ef-40f9-a86a-726e2ababf8e",
   "metadata": {},
   "outputs": [
    {
     "data": {
      "text/html": [
       "<div>\n",
       "<style scoped>\n",
       "    .dataframe tbody tr th:only-of-type {\n",
       "        vertical-align: middle;\n",
       "    }\n",
       "\n",
       "    .dataframe tbody tr th {\n",
       "        vertical-align: top;\n",
       "    }\n",
       "\n",
       "    .dataframe thead th {\n",
       "        text-align: right;\n",
       "    }\n",
       "</style>\n",
       "<table border=\"1\" class=\"dataframe\">\n",
       "  <thead>\n",
       "    <tr style=\"text-align: right;\">\n",
       "      <th></th>\n",
       "      <th>t</th>\n",
       "      <th>obs0</th>\n",
       "      <th>act0</th>\n",
       "      <th>rew</th>\n",
       "      <th>rep</th>\n",
       "    </tr>\n",
       "  </thead>\n",
       "  <tbody>\n",
       "    <tr>\n",
       "      <th>0</th>\n",
       "      <td>0</td>\n",
       "      <td>20.000000</td>\n",
       "      <td>0.012062</td>\n",
       "      <td>0.000000</td>\n",
       "      <td>0</td>\n",
       "    </tr>\n",
       "    <tr>\n",
       "      <th>1</th>\n",
       "      <td>1</td>\n",
       "      <td>32.558762</td>\n",
       "      <td>0.013177</td>\n",
       "      <td>0.241238</td>\n",
       "      <td>0</td>\n",
       "    </tr>\n",
       "    <tr>\n",
       "      <th>2</th>\n",
       "      <td>2</td>\n",
       "      <td>49.696152</td>\n",
       "      <td>0.013818</td>\n",
       "      <td>0.670272</td>\n",
       "      <td>0</td>\n",
       "    </tr>\n",
       "    <tr>\n",
       "      <th>3</th>\n",
       "      <td>3</td>\n",
       "      <td>69.008713</td>\n",
       "      <td>0.014087</td>\n",
       "      <td>1.356971</td>\n",
       "      <td>0</td>\n",
       "    </tr>\n",
       "    <tr>\n",
       "      <th>4</th>\n",
       "      <td>4</td>\n",
       "      <td>85.145973</td>\n",
       "      <td>0.014176</td>\n",
       "      <td>2.329064</td>\n",
       "      <td>0</td>\n",
       "    </tr>\n",
       "    <tr>\n",
       "      <th>...</th>\n",
       "      <td>...</td>\n",
       "      <td>...</td>\n",
       "      <td>...</td>\n",
       "      <td>...</td>\n",
       "      <td>...</td>\n",
       "    </tr>\n",
       "    <tr>\n",
       "      <th>14995</th>\n",
       "      <td>14995</td>\n",
       "      <td>98.223396</td>\n",
       "      <td>0.014213</td>\n",
       "      <td>20930.008598</td>\n",
       "      <td>0</td>\n",
       "    </tr>\n",
       "    <tr>\n",
       "      <th>14996</th>\n",
       "      <td>14996</td>\n",
       "      <td>98.223396</td>\n",
       "      <td>0.014213</td>\n",
       "      <td>20931.404632</td>\n",
       "      <td>0</td>\n",
       "    </tr>\n",
       "    <tr>\n",
       "      <th>14997</th>\n",
       "      <td>14997</td>\n",
       "      <td>98.223396</td>\n",
       "      <td>0.014213</td>\n",
       "      <td>20932.800666</td>\n",
       "      <td>0</td>\n",
       "    </tr>\n",
       "    <tr>\n",
       "      <th>14998</th>\n",
       "      <td>14998</td>\n",
       "      <td>98.223396</td>\n",
       "      <td>0.014213</td>\n",
       "      <td>20934.196700</td>\n",
       "      <td>0</td>\n",
       "    </tr>\n",
       "    <tr>\n",
       "      <th>14999</th>\n",
       "      <td>14999</td>\n",
       "      <td>98.223396</td>\n",
       "      <td>0.014213</td>\n",
       "      <td>20935.592734</td>\n",
       "      <td>0</td>\n",
       "    </tr>\n",
       "  </tbody>\n",
       "</table>\n",
       "<p>15000 rows × 5 columns</p>\n",
       "</div>"
      ],
      "text/plain": [
       "           t       obs0      act0           rew  rep\n",
       "0          0  20.000000  0.012062      0.000000    0\n",
       "1          1  32.558762  0.013177      0.241238    0\n",
       "2          2  49.696152  0.013818      0.670272    0\n",
       "3          3  69.008713  0.014087      1.356971    0\n",
       "4          4  85.145973  0.014176      2.329064    0\n",
       "...      ...        ...       ...           ...  ...\n",
       "14995  14995  98.223396  0.014213  20930.008598    0\n",
       "14996  14996  98.223396  0.014213  20931.404632    0\n",
       "14997  14997  98.223396  0.014213  20932.800666    0\n",
       "14998  14998  98.223396  0.014213  20934.196700    0\n",
       "14999  14999  98.223396  0.014213  20935.592734    0\n",
       "\n",
       "[15000 rows x 5 columns]"
      ]
     },
     "execution_count": 10,
     "metadata": {},
     "output_type": "execute_result"
    }
   ],
   "source": [
    "ppoDataDF = pd.DataFrame(ppoData)\n",
    "ppoDataDF.head(15000)"
   ]
  },
  {
   "cell_type": "code",
   "execution_count": 11,
   "id": "653489c1-7949-4f58-82b0-47a075913195",
   "metadata": {},
   "outputs": [
    {
     "data": {
      "text/plain": [
       "<Axes: xlabel='t'>"
      ]
     },
     "execution_count": 11,
     "metadata": {},
     "output_type": "execute_result"
    },
    {
     "data": {
      "image/png": "[encoded data removed]",
      "text/plain": [
       "<Figure size 640x480 with 1 Axes>"
      ]
     },
     "metadata": {},
     "output_type": "display_data"
    }
   ],
   "source": [
    "ppoDataDF[ppoDataDF.rep == 0].plot(x='t', y ='act0')"
   ]
  }
 ],
 "metadata": {
  "kernelspec": {
   "display_name": "Python 3 (ipykernel)",
   "language": "python",
   "name": "python3"
  },
  "language_info": {
   "codemirror_mode": {
    "name": "ipython",
    "version": 3
   },
   "file_extension": ".py",
   "mimetype": "text/x-python",
   "name": "python",
   "nbconvert_exporter": "python",
   "pygments_lexer": "ipython3",
   "version": "3.12.10"
  }
 },
 "nbformat": 4,
 "nbformat_minor": 5
}
