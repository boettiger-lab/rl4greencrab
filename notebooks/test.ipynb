{
 "cells": [
  {
   "cell_type": "code",
   "execution_count": 1,
   "id": "a0e40a20-47ce-40da-bab0-ae9d78bdb326",
   "metadata": {},
   "outputs": [
    {
     "name": "stderr",
     "output_type": "stream",
     "text": [
      "INFO: Note: detected 128 virtual cores but NumExpr set to maximum of 64, check \"NUMEXPR_MAX_THREADS\" environment variable.\n",
      "INFO: Note: NumExpr detected 128 cores but \"NUMEXPR_MAX_THREADS\" not set, so enforcing safe limit of 16.\n",
      "INFO: NumExpr defaulting to 16 threads.\n",
      "2025-08-04 23:47:39,013\tINFO util.py:154 -- Outdated packages:\n",
      "  ipywidgets==7.8.5 found, needs ipywidgets>=8\n",
      "Run `pip install -U ipywidgets`, then restart the notebook server for rich notebook output.\n",
      "/opt/conda/lib/python3.12/site-packages/gymnasium/spaces/box.py:305: UserWarning: \u001b[33mWARN: Box high's precision lowered by casting to float32, current high.dtype=float64\u001b[0m\n",
      "  gym.logger.warn(\n"
     ]
    }
   ],
   "source": [
    "from rl4greencrab.envs.simple_env import SimpleEnv\n",
    "from stable_baselines3 import PPO, TD3\n",
    "from sb3_contrib import TQC, RecurrentPPO\n",
    "from stable_baselines3.common.env_util import make_vec_env\n",
    "from rl4greencrab.envs.green_crab_monthly_env_norm import greenCrabMonthEnvNormalized\n",
    "from rl4greencrab import evaluate_agent, multiConstAction, simulator\n",
    "import pandas as pd\n",
    "import numpy as np\n",
    "from rl4greencrab import plot_agent\n",
    "import ray"
   ]
  },
  {
   "cell_type": "code",
   "execution_count": 2,
   "id": "0f1c93dc-830d-4dbf-9a70-71cf4d3dda83",
   "metadata": {},
   "outputs": [],
   "source": [
    "from rl4greencrab import greenCrabMonthEnvSimple, greenCrabMonthEnvSimpleNormalized, greenCrabMonthEnvSize, greenCrabMonthEnvSizeNormalized"
   ]
  },
  {
   "cell_type": "code",
   "execution_count": 3,
   "id": "456aecc6-cd39-4dc8-917d-fb40ae56ca3d",
   "metadata": {},
   "outputs": [],
   "source": [
    "config = {\n",
    "    \"w_mort_scale\" : 600,\n",
    "    \"growth_k\": 0.70,\n",
    "    'random_start':True,\n",
    "    'var_penalty_const': 0\n",
    "    # \"curriculum\": True\n",
    "}"
   ]
  },
  {
   "cell_type": "code",
   "execution_count": 4,
   "id": "297a27dc-5274-4628-be69-1da488ca15ce",
   "metadata": {},
   "outputs": [],
   "source": [
    "# normalized constant action\n",
    "def normalized_action(act, max_act):\n",
    "    max_action = max_act\n",
    "    constant_act = np.array(act)\n",
    "    return constant_act * 2 / max_action - 1 "
   ]
  },
  {
   "cell_type": "code",
   "execution_count": 5,
   "id": "cad2b6d7-4e64-4ba4-ab2a-9cdea66dd82e",
   "metadata": {},
   "outputs": [],
   "source": [
    "act = np.array([100,1,1])\n",
    "env = greenCrabMonthEnvSimple(config)"
   ]
  },
  {
   "cell_type": "code",
   "execution_count": 6,
   "id": "14602a39-6e4a-4af8-b9ca-d9b838ec5a80",
   "metadata": {},
   "outputs": [
    {
     "data": {
      "text/plain": [
       "array([-0.93333333, -0.99933333, -0.99933333])"
      ]
     },
     "execution_count": 6,
     "metadata": {},
     "output_type": "execute_result"
    }
   ],
   "source": [
    "normalized_action(act, 3000)"
   ]
  },
  {
   "cell_type": "code",
   "execution_count": 12,
   "id": "157798c4-b412-41a3-8272-6eda5291da29",
   "metadata": {},
   "outputs": [],
   "source": [
    "act = np.array([-0.93333333, -0.99933333, -0.99933333])\n",
    "env = greenCrabMonthEnvSimpleNormalized(config)"
   ]
  },
  {
   "cell_type": "code",
   "execution_count": 13,
   "id": "be97399d-5db5-41fd-bc0d-41f5a01db865",
   "metadata": {},
   "outputs": [
    {
     "data": {
      "text/plain": [
       "({'crabs': array([-1.], dtype=float32)},\n",
       " -0.00288793543809862,\n",
       " False,\n",
       " False,\n",
       " {})"
      ]
     },
     "execution_count": 13,
     "metadata": {},
     "output_type": "execute_result"
    }
   ],
   "source": [
    "env.step(act)"
   ]
  },
  {
   "cell_type": "code",
   "execution_count": 8,
   "id": "47726c9b-0777-43c3-a62a-0170d5a93658",
   "metadata": {},
   "outputs": [],
   "source": [
    "act = np.array([100,1,1])\n",
    "env = greenCrabMonthEnvSize(config)"
   ]
  },
  {
   "cell_type": "code",
   "execution_count": 583,
   "id": "b8b68d1b-31a3-4b1b-ae47-223ca0a988a6",
   "metadata": {},
   "outputs": [],
   "source": [
    "act = np.array([0,0,1000])\n",
    "env = greenCrabMonthEnvSizeNormalized(config)"
   ]
  },
  {
   "cell_type": "code",
   "execution_count": 652,
   "id": "aee9ad94-a60c-4db5-ab84-2ebab3a2c87e",
   "metadata": {},
   "outputs": [
    {
     "data": {
      "text/plain": [
       "({'crabs': array([[-1.        , -1.        , -0.99999994, -0.9999995 , -0.9999997 ,\n",
       "          -0.99999994, -1.        , -1.        , -1.        , -1.        ,\n",
       "          -1.        , -1.        , -1.        , -1.        , -1.        ,\n",
       "          -1.        , -1.        , -1.        , -1.        , -1.        ,\n",
       "          -1.        ]], dtype=float32)},\n",
       " -200.28006129272586,\n",
       " False,\n",
       " False,\n",
       " {})"
      ]
     },
     "execution_count": 652,
     "metadata": {},
     "output_type": "execute_result"
    }
   ],
   "source": [
    "env.step(act)"
   ]
  }
 ],
 "metadata": {
  "kernelspec": {
   "display_name": "Python 3 (ipykernel)",
   "language": "python",
   "name": "python3"
  },
  "language_info": {
   "codemirror_mode": {
    "name": "ipython",
    "version": 3
   },
   "file_extension": ".py",
   "mimetype": "text/x-python",
   "name": "python",
   "nbconvert_exporter": "python",
   "pygments_lexer": "ipython3",
   "version": "3.12.10"
  }
 },
 "nbformat": 4,
 "nbformat_minor": 5
}
