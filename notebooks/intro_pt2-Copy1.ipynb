{
 "cells": [
  {
   "cell_type": "markdown",
   "id": "d69cb1fc-5356-445e-a205-077fdd984f50",
   "metadata": {},
   "source": [
    "# Part 2: other environments and RL training\n",
    "---\n",
    "\n",
    "In this notebook we will go over some of the variations of `greenCrabEnv` available in this package, and over the syntax for training RL algorithms on instances of these environments."
   ]
  },
  {
   "cell_type": "markdown",
   "id": "34021e99-0010-4743-8796-48f251a39408",
   "metadata": {},
   "source": [
    "## 0. Setup\n",
    "---\n",
    "As with Part 1 of this series, uncomment the following cell in order to install our package if you haven't done so already. After that restart the jupyter kernel."
   ]
  },
  {
   "cell_type": "code",
   "execution_count": 1,
   "id": "99f5d63e-bc09-4eb8-97e7-eb08d52d45cc",
   "metadata": {
    "scrolled": true
   },
   "outputs": [
    {
     "name": "stdout",
     "output_type": "stream",
     "text": [
      "Obtaining file:///home/rstudio/rl4greencrab\n",
      "  Installing build dependencies ... \u001b[?25ldone\n",
      "\u001b[?25h  Checking if build backend supports build_editable ... \u001b[?25ldone\n",
      "\u001b[?25h  Getting requirements to build editable ... \u001b[?25ldone\n",
      "\u001b[?25h  Installing backend dependencies ... \u001b[?25ldone\n",
      "\u001b[?25h  Preparing editable metadata (pyproject.toml) ... \u001b[?25ldone\n",
      "\u001b[?25hRequirement already satisfied: gymnasium in /opt/venv/lib/python3.10/site-packages (from rl4greencrab==1.0.0) (0.28.1)\n",
      "Requirement already satisfied: matplotlib in /opt/venv/lib/python3.10/site-packages (from rl4greencrab==1.0.0) (3.9.1.post1)\n",
      "Requirement already satisfied: numpy in /opt/venv/lib/python3.10/site-packages (from rl4greencrab==1.0.0) (1.26.4)\n",
      "Requirement already satisfied: pandas in /opt/venv/lib/python3.10/site-packages (from rl4greencrab==1.0.0) (2.2.2)\n",
      "Requirement already satisfied: pyyaml in /opt/venv/lib/python3.10/site-packages (from rl4greencrab==1.0.0) (6.0.2)\n",
      "Requirement already satisfied: scipy in /opt/venv/lib/python3.10/site-packages (from rl4greencrab==1.0.0) (1.14.0)\n",
      "Collecting typing (from rl4greencrab==1.0.0)\n",
      "  Using cached typing-3.7.4.3-py3-none-any.whl\n",
      "Requirement already satisfied: jax-jumpy>=1.0.0 in /opt/venv/lib/python3.10/site-packages (from gymnasium->rl4greencrab==1.0.0) (1.0.0)\n",
      "Requirement already satisfied: cloudpickle>=1.2.0 in /opt/venv/lib/python3.10/site-packages (from gymnasium->rl4greencrab==1.0.0) (3.0.0)\n",
      "Requirement already satisfied: typing-extensions>=4.3.0 in /opt/venv/lib/python3.10/site-packages (from gymnasium->rl4greencrab==1.0.0) (4.12.2)\n",
      "Requirement already satisfied: farama-notifications>=0.0.1 in /opt/venv/lib/python3.10/site-packages (from gymnasium->rl4greencrab==1.0.0) (0.0.4)\n",
      "Requirement already satisfied: contourpy>=1.0.1 in /opt/venv/lib/python3.10/site-packages (from matplotlib->rl4greencrab==1.0.0) (1.2.1)\n",
      "Requirement already satisfied: cycler>=0.10 in /opt/venv/lib/python3.10/site-packages (from matplotlib->rl4greencrab==1.0.0) (0.12.1)\n",
      "Requirement already satisfied: fonttools>=4.22.0 in /opt/venv/lib/python3.10/site-packages (from matplotlib->rl4greencrab==1.0.0) (4.53.1)\n",
      "Requirement already satisfied: kiwisolver>=1.3.1 in /opt/venv/lib/python3.10/site-packages (from matplotlib->rl4greencrab==1.0.0) (1.4.5)\n",
      "Requirement already satisfied: packaging>=20.0 in /opt/venv/lib/python3.10/site-packages (from matplotlib->rl4greencrab==1.0.0) (24.1)\n",
      "Requirement already satisfied: pillow>=8 in /opt/venv/lib/python3.10/site-packages (from matplotlib->rl4greencrab==1.0.0) (10.4.0)\n",
      "Requirement already satisfied: pyparsing>=2.3.1 in /opt/venv/lib/python3.10/site-packages (from matplotlib->rl4greencrab==1.0.0) (3.1.2)\n",
      "Requirement already satisfied: python-dateutil>=2.7 in /opt/venv/lib/python3.10/site-packages (from matplotlib->rl4greencrab==1.0.0) (2.9.0.post0)\n",
      "Requirement already satisfied: pytz>=2020.1 in /opt/venv/lib/python3.10/site-packages (from pandas->rl4greencrab==1.0.0) (2024.1)\n",
      "Requirement already satisfied: tzdata>=2022.7 in /opt/venv/lib/python3.10/site-packages (from pandas->rl4greencrab==1.0.0) (2024.1)\n",
      "Requirement already satisfied: six>=1.5 in /opt/venv/lib/python3.10/site-packages (from python-dateutil>=2.7->matplotlib->rl4greencrab==1.0.0) (1.16.0)\n",
      "Building wheels for collected packages: rl4greencrab\n",
      "  Building editable for rl4greencrab (pyproject.toml) ... \u001b[?25ldone\n",
      "\u001b[?25h  Created wheel for rl4greencrab: filename=rl4greencrab-1.0.0-py2.py3-none-any.whl size=1073 sha256=b125839fccc41947614acd0fb477a4cd383c45dfc4c4d3f62424b7ba0fe2f36b\n",
      "  Stored in directory: /tmp/pip-ephem-wheel-cache-47htzc17/wheels/e9/7e/e6/00c4b11a2574abd59d64425d537139e25fadbde37f002c4dba\n",
      "Successfully built rl4greencrab\n",
      "Installing collected packages: typing, rl4greencrab\n",
      "Successfully installed rl4greencrab-1.0.0 typing-3.7.4.3\n",
      "Note: you may need to restart the kernel to use updated packages.\n"
     ]
    }
   ],
   "source": [
    "%pip install -e .."
   ]
  },
  {
   "cell_type": "code",
   "execution_count": null,
   "id": "6b0dc91f-d407-416c-bf87-40bda20db86d",
   "metadata": {
    "scrolled": true
   },
   "outputs": [
    {
     "name": "stdout",
     "output_type": "stream",
     "text": [
      "Collecting gym\n",
      "  Using cached gym-0.26.2-py3-none-any.whl\n",
      "Requirement already satisfied: numpy>=1.18.0 in /opt/venv/lib/python3.10/site-packages (from gym) (1.26.4)\n",
      "Requirement already satisfied: cloudpickle>=1.2.0 in /opt/venv/lib/python3.10/site-packages (from gym) (3.0.0)\n",
      "Collecting gym-notices>=0.0.4 (from gym)\n",
      "  Using cached gym_notices-0.0.8-py3-none-any.whl.metadata (1.0 kB)\n",
      "Using cached gym_notices-0.0.8-py3-none-any.whl (3.0 kB)\n",
      "Installing collected packages: gym-notices, gym\n",
      "Successfully installed gym-0.26.2 gym-notices-0.0.8\n",
      "Note: you may need to restart the kernel to use updated packages.\n",
      "Collecting optuna\n",
      "  Using cached optuna-3.6.1-py3-none-any.whl.metadata (17 kB)\n",
      "Requirement already satisfied: alembic>=1.5.0 in /opt/venv/lib/python3.10/site-packages (from optuna) (1.13.2)\n",
      "Requirement already satisfied: colorlog in /opt/venv/lib/python3.10/site-packages (from optuna) (6.8.2)\n",
      "Requirement already satisfied: numpy in /opt/venv/lib/python3.10/site-packages (from optuna) (1.26.4)\n",
      "Requirement already satisfied: packaging>=20.0 in /opt/venv/lib/python3.10/site-packages (from optuna) (24.1)\n",
      "Requirement already satisfied: sqlalchemy>=1.3.0 in /opt/venv/lib/python3.10/site-packages (from optuna) (2.0.32)\n",
      "Requirement already satisfied: tqdm in /opt/venv/lib/python3.10/site-packages (from optuna) (4.66.5)\n",
      "Requirement already satisfied: PyYAML in /opt/venv/lib/python3.10/site-packages (from optuna) (6.0.2)\n",
      "Requirement already satisfied: Mako in /opt/venv/lib/python3.10/site-packages (from alembic>=1.5.0->optuna) (1.3.5)\n",
      "Requirement already satisfied: typing-extensions>=4 in /opt/venv/lib/python3.10/site-packages (from alembic>=1.5.0->optuna) (4.12.2)\n",
      "Requirement already satisfied: greenlet!=0.4.17 in /opt/venv/lib/python3.10/site-packages (from sqlalchemy>=1.3.0->optuna) (3.0.3)\n",
      "Requirement already satisfied: MarkupSafe>=0.9.2 in /opt/venv/lib/python3.10/site-packages (from Mako->alembic>=1.5.0->optuna) (2.1.5)\n",
      "Using cached optuna-3.6.1-py3-none-any.whl (380 kB)\n",
      "Installing collected packages: optuna\n",
      "Successfully installed optuna-3.6.1\n",
      "Note: you may need to restart the kernel to use updated packages.\n",
      "Collecting logging\n",
      "  Using cached logging-0.4.9.6-py3-none-any.whl\n",
      "Installing collected packages: logging\n",
      "Successfully installed logging-0.4.9.6\n",
      "Note: you may need to restart the kernel to use updated packages.\n",
      "Requirement already satisfied: jupyterlab in /opt/venv/lib/python3.10/site-packages (4.2.4)\n",
      "Collecting jupyterlab-optuna\n",
      "  Using cached jupyterlab_optuna-0.1.0-py3-none-any.whl\n",
      "Requirement already satisfied: async-lru>=1.0.0 in /opt/venv/lib/python3.10/site-packages (from jupyterlab) (2.0.4)\n",
      "Requirement already satisfied: httpx>=0.25.0 in /opt/venv/lib/python3.10/site-packages (from jupyterlab) (0.27.0)\n",
      "Requirement already satisfied: ipykernel>=6.5.0 in /opt/venv/lib/python3.10/site-packages (from jupyterlab) (6.29.5)\n",
      "Requirement already satisfied: jinja2>=3.0.3 in /opt/venv/lib/python3.10/site-packages (from jupyterlab) (3.1.4)\n",
      "Requirement already satisfied: jupyter-core in /opt/venv/lib/python3.10/site-packages (from jupyterlab) (5.7.2)\n",
      "Requirement already satisfied: jupyter-lsp>=2.0.0 in /opt/venv/lib/python3.10/site-packages (from jupyterlab) (2.2.5)\n",
      "Requirement already satisfied: jupyter-server<3,>=2.4.0 in /opt/venv/lib/python3.10/site-packages (from jupyterlab) (2.14.2)\n",
      "Requirement already satisfied: jupyterlab-server<3,>=2.27.1 in /opt/venv/lib/python3.10/site-packages (from jupyterlab) (2.27.3)\n",
      "Requirement already satisfied: notebook-shim>=0.2 in /opt/venv/lib/python3.10/site-packages (from jupyterlab) (0.2.4)\n",
      "Requirement already satisfied: packaging in /opt/venv/lib/python3.10/site-packages (from jupyterlab) (24.1)\n",
      "Requirement already satisfied: setuptools>=40.1.0 in /opt/venv/lib/python3.10/site-packages (from jupyterlab) (59.6.0)\n",
      "Requirement already satisfied: tomli>=1.2.2 in /opt/venv/lib/python3.10/site-packages (from jupyterlab) (2.0.1)\n",
      "Requirement already satisfied: tornado>=6.2.0 in /opt/venv/lib/python3.10/site-packages (from jupyterlab) (6.4.1)\n",
      "Requirement already satisfied: traitlets in /opt/venv/lib/python3.10/site-packages (from jupyterlab) (5.14.3)\n",
      "Collecting optuna-dashboard (from jupyterlab-optuna)\n",
      "  Using cached optuna_dashboard-0.16.1-py3-none-any.whl.metadata (7.0 kB)\n",
      "Requirement already satisfied: typing-extensions>=4.0.0 in /opt/venv/lib/python3.10/site-packages (from async-lru>=1.0.0->jupyterlab) (4.12.2)\n",
      "Requirement already satisfied: anyio in /opt/venv/lib/python3.10/site-packages (from httpx>=0.25.0->jupyterlab) (4.4.0)\n",
      "Requirement already satisfied: certifi in /opt/venv/lib/python3.10/site-packages (from httpx>=0.25.0->jupyterlab) (2024.7.4)\n",
      "Requirement already satisfied: httpcore==1.* in /opt/venv/lib/python3.10/site-packages (from httpx>=0.25.0->jupyterlab) (1.0.5)\n",
      "Requirement already satisfied: idna in /opt/venv/lib/python3.10/site-packages (from httpx>=0.25.0->jupyterlab) (3.7)\n",
      "Requirement already satisfied: sniffio in /opt/venv/lib/python3.10/site-packages (from httpx>=0.25.0->jupyterlab) (1.3.1)\n",
      "Requirement already satisfied: h11<0.15,>=0.13 in /opt/venv/lib/python3.10/site-packages (from httpcore==1.*->httpx>=0.25.0->jupyterlab) (0.14.0)\n",
      "Requirement already satisfied: comm>=0.1.1 in /opt/venv/lib/python3.10/site-packages (from ipykernel>=6.5.0->jupyterlab) (0.2.2)\n",
      "Requirement already satisfied: debugpy>=1.6.5 in /opt/venv/lib/python3.10/site-packages (from ipykernel>=6.5.0->jupyterlab) (1.8.5)\n",
      "Requirement already satisfied: ipython>=7.23.1 in /opt/venv/lib/python3.10/site-packages (from ipykernel>=6.5.0->jupyterlab) (8.18.0)\n",
      "Requirement already satisfied: jupyter-client>=6.1.12 in /opt/venv/lib/python3.10/site-packages (from ipykernel>=6.5.0->jupyterlab) (8.6.2)\n",
      "Requirement already satisfied: matplotlib-inline>=0.1 in /opt/venv/lib/python3.10/site-packages (from ipykernel>=6.5.0->jupyterlab) (0.1.7)\n",
      "Requirement already satisfied: nest-asyncio in /opt/venv/lib/python3.10/site-packages (from ipykernel>=6.5.0->jupyterlab) (1.6.0)\n",
      "Requirement already satisfied: psutil in /opt/venv/lib/python3.10/site-packages (from ipykernel>=6.5.0->jupyterlab) (5.9.8)\n",
      "Requirement already satisfied: pyzmq>=24 in /opt/venv/lib/python3.10/site-packages (from ipykernel>=6.5.0->jupyterlab) (26.1.0)\n",
      "Requirement already satisfied: MarkupSafe>=2.0 in /opt/venv/lib/python3.10/site-packages (from jinja2>=3.0.3->jupyterlab) (2.1.5)\n",
      "Requirement already satisfied: platformdirs>=2.5 in /opt/venv/lib/python3.10/site-packages (from jupyter-core->jupyterlab) (4.2.2)\n",
      "Requirement already satisfied: argon2-cffi>=21.1 in /opt/venv/lib/python3.10/site-packages (from jupyter-server<3,>=2.4.0->jupyterlab) (23.1.0)\n",
      "Requirement already satisfied: jupyter-events>=0.9.0 in /opt/venv/lib/python3.10/site-packages (from jupyter-server<3,>=2.4.0->jupyterlab) (0.10.0)\n",
      "Requirement already satisfied: jupyter-server-terminals>=0.4.4 in /opt/venv/lib/python3.10/site-packages (from jupyter-server<3,>=2.4.0->jupyterlab) (0.5.3)\n",
      "Requirement already satisfied: nbconvert>=6.4.4 in /opt/venv/lib/python3.10/site-packages (from jupyter-server<3,>=2.4.0->jupyterlab) (7.16.4)\n",
      "Requirement already satisfied: nbformat>=5.3.0 in /opt/venv/lib/python3.10/site-packages (from jupyter-server<3,>=2.4.0->jupyterlab) (5.10.4)\n",
      "Requirement already satisfied: overrides>=5.0 in /opt/venv/lib/python3.10/site-packages (from jupyter-server<3,>=2.4.0->jupyterlab) (7.7.0)\n",
      "Requirement already satisfied: prometheus-client>=0.9 in /opt/venv/lib/python3.10/site-packages (from jupyter-server<3,>=2.4.0->jupyterlab) (0.20.0)\n",
      "Requirement already satisfied: send2trash>=1.8.2 in /opt/venv/lib/python3.10/site-packages (from jupyter-server<3,>=2.4.0->jupyterlab) (1.8.3)\n",
      "Requirement already satisfied: terminado>=0.8.3 in /opt/venv/lib/python3.10/site-packages (from jupyter-server<3,>=2.4.0->jupyterlab) (0.18.1)\n",
      "Requirement already satisfied: websocket-client>=1.7 in /opt/venv/lib/python3.10/site-packages (from jupyter-server<3,>=2.4.0->jupyterlab) (1.8.0)\n",
      "Requirement already satisfied: babel>=2.10 in /opt/venv/lib/python3.10/site-packages (from jupyterlab-server<3,>=2.27.1->jupyterlab) (2.15.0)\n",
      "Requirement already satisfied: json5>=0.9.0 in /opt/venv/lib/python3.10/site-packages (from jupyterlab-server<3,>=2.27.1->jupyterlab) (0.9.25)\n",
      "Requirement already satisfied: jsonschema>=4.18.0 in /opt/venv/lib/python3.10/site-packages (from jupyterlab-server<3,>=2.27.1->jupyterlab) (4.23.0)\n",
      "Requirement already satisfied: requests>=2.31 in /opt/venv/lib/python3.10/site-packages (from jupyterlab-server<3,>=2.27.1->jupyterlab) (2.32.3)\n",
      "Collecting bottle (from optuna-dashboard->jupyterlab-optuna)\n",
      "  Using cached bottle-0.12.25-py3-none-any.whl.metadata (1.8 kB)\n",
      "Requirement already satisfied: optuna>=3.1.0 in /opt/venv/lib/python3.10/site-packages (from optuna-dashboard->jupyterlab-optuna) (3.6.1)\n",
      "Requirement already satisfied: scikit-learn in /opt/venv/lib/python3.10/site-packages (from optuna-dashboard->jupyterlab-optuna) (1.5.1)\n",
      "Requirement already satisfied: exceptiongroup>=1.0.2 in /opt/venv/lib/python3.10/site-packages (from anyio->httpx>=0.25.0->jupyterlab) (1.2.2)\n",
      "Requirement already satisfied: argon2-cffi-bindings in /opt/venv/lib/python3.10/site-packages (from argon2-cffi>=21.1->jupyter-server<3,>=2.4.0->jupyterlab) (21.2.0)\n",
      "Requirement already satisfied: decorator in /opt/venv/lib/python3.10/site-packages (from ipython>=7.23.1->ipykernel>=6.5.0->jupyterlab) (5.1.1)\n",
      "Requirement already satisfied: jedi>=0.16 in /opt/venv/lib/python3.10/site-packages (from ipython>=7.23.1->ipykernel>=6.5.0->jupyterlab) (0.19.1)\n",
      "Requirement already satisfied: prompt-toolkit!=3.0.37,<3.1.0,>=3.0.30 in /opt/venv/lib/python3.10/site-packages (from ipython>=7.23.1->ipykernel>=6.5.0->jupyterlab) (3.0.36)\n",
      "Requirement already satisfied: pygments>=2.4.0 in /opt/venv/lib/python3.10/site-packages (from ipython>=7.23.1->ipykernel>=6.5.0->jupyterlab) (2.18.0)\n",
      "Requirement already satisfied: stack-data in /opt/venv/lib/python3.10/site-packages (from ipython>=7.23.1->ipykernel>=6.5.0->jupyterlab) (0.6.3)\n",
      "Requirement already satisfied: pexpect>4.3 in /opt/venv/lib/python3.10/site-packages (from ipython>=7.23.1->ipykernel>=6.5.0->jupyterlab) (4.9.0)\n",
      "Requirement already satisfied: attrs>=22.2.0 in /opt/venv/lib/python3.10/site-packages (from jsonschema>=4.18.0->jupyterlab-server<3,>=2.27.1->jupyterlab) (24.2.0)\n",
      "Requirement already satisfied: jsonschema-specifications>=2023.03.6 in /opt/venv/lib/python3.10/site-packages (from jsonschema>=4.18.0->jupyterlab-server<3,>=2.27.1->jupyterlab) (2023.12.1)\n",
      "Requirement already satisfied: referencing>=0.28.4 in /opt/venv/lib/python3.10/site-packages (from jsonschema>=4.18.0->jupyterlab-server<3,>=2.27.1->jupyterlab) (0.35.1)\n",
      "Requirement already satisfied: rpds-py>=0.7.1 in /opt/venv/lib/python3.10/site-packages (from jsonschema>=4.18.0->jupyterlab-server<3,>=2.27.1->jupyterlab) (0.20.0)\n",
      "Requirement already satisfied: python-dateutil>=2.8.2 in /opt/venv/lib/python3.10/site-packages (from jupyter-client>=6.1.12->ipykernel>=6.5.0->jupyterlab) (2.9.0.post0)\n",
      "Requirement already satisfied: python-json-logger>=2.0.4 in /opt/venv/lib/python3.10/site-packages (from jupyter-events>=0.9.0->jupyter-server<3,>=2.4.0->jupyterlab) (2.0.7)\n",
      "Requirement already satisfied: pyyaml>=5.3 in /opt/venv/lib/python3.10/site-packages (from jupyter-events>=0.9.0->jupyter-server<3,>=2.4.0->jupyterlab) (6.0.2)\n",
      "Requirement already satisfied: rfc3339-validator in /opt/venv/lib/python3.10/site-packages (from jupyter-events>=0.9.0->jupyter-server<3,>=2.4.0->jupyterlab) (0.1.4)\n",
      "Requirement already satisfied: rfc3986-validator>=0.1.1 in /opt/venv/lib/python3.10/site-packages (from jupyter-events>=0.9.0->jupyter-server<3,>=2.4.0->jupyterlab) (0.1.1)\n",
      "Requirement already satisfied: beautifulsoup4 in /opt/venv/lib/python3.10/site-packages (from nbconvert>=6.4.4->jupyter-server<3,>=2.4.0->jupyterlab) (4.12.3)\n",
      "Requirement already satisfied: bleach!=5.0.0 in /opt/venv/lib/python3.10/site-packages (from nbconvert>=6.4.4->jupyter-server<3,>=2.4.0->jupyterlab) (6.1.0)\n",
      "Requirement already satisfied: defusedxml in /opt/venv/lib/python3.10/site-packages (from nbconvert>=6.4.4->jupyter-server<3,>=2.4.0->jupyterlab) (0.7.1)\n",
      "Requirement already satisfied: jupyterlab-pygments in /opt/venv/lib/python3.10/site-packages (from nbconvert>=6.4.4->jupyter-server<3,>=2.4.0->jupyterlab) (0.3.0)\n",
      "Requirement already satisfied: mistune<4,>=2.0.3 in /opt/venv/lib/python3.10/site-packages (from nbconvert>=6.4.4->jupyter-server<3,>=2.4.0->jupyterlab) (3.0.2)\n",
      "Requirement already satisfied: nbclient>=0.5.0 in /opt/venv/lib/python3.10/site-packages (from nbconvert>=6.4.4->jupyter-server<3,>=2.4.0->jupyterlab) (0.10.0)\n",
      "Requirement already satisfied: pandocfilters>=1.4.1 in /opt/venv/lib/python3.10/site-packages (from nbconvert>=6.4.4->jupyter-server<3,>=2.4.0->jupyterlab) (1.5.1)\n",
      "Requirement already satisfied: tinycss2 in /opt/venv/lib/python3.10/site-packages (from nbconvert>=6.4.4->jupyter-server<3,>=2.4.0->jupyterlab) (1.3.0)\n",
      "Requirement already satisfied: fastjsonschema>=2.15 in /opt/venv/lib/python3.10/site-packages (from nbformat>=5.3.0->jupyter-server<3,>=2.4.0->jupyterlab) (2.20.0)\n",
      "Requirement already satisfied: alembic>=1.5.0 in /opt/venv/lib/python3.10/site-packages (from optuna>=3.1.0->optuna-dashboard->jupyterlab-optuna) (1.13.2)\n",
      "Requirement already satisfied: colorlog in /opt/venv/lib/python3.10/site-packages (from optuna>=3.1.0->optuna-dashboard->jupyterlab-optuna) (6.8.2)\n",
      "Requirement already satisfied: numpy in /opt/venv/lib/python3.10/site-packages (from optuna>=3.1.0->optuna-dashboard->jupyterlab-optuna) (1.26.4)\n",
      "Requirement already satisfied: sqlalchemy>=1.3.0 in /opt/venv/lib/python3.10/site-packages (from optuna>=3.1.0->optuna-dashboard->jupyterlab-optuna) (2.0.32)\n",
      "Requirement already satisfied: tqdm in /opt/venv/lib/python3.10/site-packages (from optuna>=3.1.0->optuna-dashboard->jupyterlab-optuna) (4.66.5)\n",
      "Requirement already satisfied: charset-normalizer<4,>=2 in /opt/venv/lib/python3.10/site-packages (from requests>=2.31->jupyterlab-server<3,>=2.27.1->jupyterlab) (3.3.2)\n",
      "Requirement already satisfied: urllib3<3,>=1.21.1 in /opt/venv/lib/python3.10/site-packages (from requests>=2.31->jupyterlab-server<3,>=2.27.1->jupyterlab) (2.2.2)\n",
      "Requirement already satisfied: ptyprocess in /opt/venv/lib/python3.10/site-packages (from terminado>=0.8.3->jupyter-server<3,>=2.4.0->jupyterlab) (0.7.0)\n",
      "Requirement already satisfied: scipy>=1.6.0 in /opt/venv/lib/python3.10/site-packages (from scikit-learn->optuna-dashboard->jupyterlab-optuna) (1.14.0)\n",
      "Requirement already satisfied: joblib>=1.2.0 in /opt/venv/lib/python3.10/site-packages (from scikit-learn->optuna-dashboard->jupyterlab-optuna) (1.4.2)\n",
      "Requirement already satisfied: threadpoolctl>=3.1.0 in /opt/venv/lib/python3.10/site-packages (from scikit-learn->optuna-dashboard->jupyterlab-optuna) (3.5.0)\n",
      "Requirement already satisfied: Mako in /opt/venv/lib/python3.10/site-packages (from alembic>=1.5.0->optuna>=3.1.0->optuna-dashboard->jupyterlab-optuna) (1.3.5)\n",
      "Requirement already satisfied: six>=1.9.0 in /opt/venv/lib/python3.10/site-packages (from bleach!=5.0.0->nbconvert>=6.4.4->jupyter-server<3,>=2.4.0->jupyterlab) (1.16.0)\n",
      "Requirement already satisfied: webencodings in /opt/venv/lib/python3.10/site-packages (from bleach!=5.0.0->nbconvert>=6.4.4->jupyter-server<3,>=2.4.0->jupyterlab) (0.5.1)\n",
      "Requirement already satisfied: parso<0.9.0,>=0.8.3 in /opt/venv/lib/python3.10/site-packages (from jedi>=0.16->ipython>=7.23.1->ipykernel>=6.5.0->jupyterlab) (0.8.4)\n",
      "Requirement already satisfied: fqdn in /opt/venv/lib/python3.10/site-packages (from jsonschema[format-nongpl]>=4.18.0->jupyter-events>=0.9.0->jupyter-server<3,>=2.4.0->jupyterlab) (1.5.1)\n",
      "Requirement already satisfied: isoduration in /opt/venv/lib/python3.10/site-packages (from jsonschema[format-nongpl]>=4.18.0->jupyter-events>=0.9.0->jupyter-server<3,>=2.4.0->jupyterlab) (20.11.0)\n",
      "Requirement already satisfied: jsonpointer>1.13 in /opt/venv/lib/python3.10/site-packages (from jsonschema[format-nongpl]>=4.18.0->jupyter-events>=0.9.0->jupyter-server<3,>=2.4.0->jupyterlab) (3.0.0)\n",
      "Requirement already satisfied: uri-template in /opt/venv/lib/python3.10/site-packages (from jsonschema[format-nongpl]>=4.18.0->jupyter-events>=0.9.0->jupyter-server<3,>=2.4.0->jupyterlab) (1.3.0)\n",
      "Requirement already satisfied: webcolors>=24.6.0 in /opt/venv/lib/python3.10/site-packages (from jsonschema[format-nongpl]>=4.18.0->jupyter-events>=0.9.0->jupyter-server<3,>=2.4.0->jupyterlab) (24.6.0)\n",
      "Requirement already satisfied: wcwidth in /opt/venv/lib/python3.10/site-packages (from prompt-toolkit!=3.0.37,<3.1.0,>=3.0.30->ipython>=7.23.1->ipykernel>=6.5.0->jupyterlab) (0.2.13)\n",
      "Requirement already satisfied: greenlet!=0.4.17 in /opt/venv/lib/python3.10/site-packages (from sqlalchemy>=1.3.0->optuna>=3.1.0->optuna-dashboard->jupyterlab-optuna) (3.0.3)\n",
      "Requirement already satisfied: cffi>=1.0.1 in /opt/venv/lib/python3.10/site-packages (from argon2-cffi-bindings->argon2-cffi>=21.1->jupyter-server<3,>=2.4.0->jupyterlab) (1.17.0)\n",
      "Requirement already satisfied: soupsieve>1.2 in /opt/venv/lib/python3.10/site-packages (from beautifulsoup4->nbconvert>=6.4.4->jupyter-server<3,>=2.4.0->jupyterlab) (2.5)\n",
      "Requirement already satisfied: executing>=1.2.0 in /opt/venv/lib/python3.10/site-packages (from stack-data->ipython>=7.23.1->ipykernel>=6.5.0->jupyterlab) (2.0.1)\n",
      "Requirement already satisfied: asttokens>=2.1.0 in /opt/venv/lib/python3.10/site-packages (from stack-data->ipython>=7.23.1->ipykernel>=6.5.0->jupyterlab) (2.4.1)\n",
      "Requirement already satisfied: pure-eval in /opt/venv/lib/python3.10/site-packages (from stack-data->ipython>=7.23.1->ipykernel>=6.5.0->jupyterlab) (0.2.3)\n",
      "Requirement already satisfied: pycparser in /opt/venv/lib/python3.10/site-packages (from cffi>=1.0.1->argon2-cffi-bindings->argon2-cffi>=21.1->jupyter-server<3,>=2.4.0->jupyterlab) (2.22)\n",
      "Requirement already satisfied: arrow>=0.15.0 in /opt/venv/lib/python3.10/site-packages (from isoduration->jsonschema[format-nongpl]>=4.18.0->jupyter-events>=0.9.0->jupyter-server<3,>=2.4.0->jupyterlab) (1.3.0)\n",
      "Requirement already satisfied: types-python-dateutil>=2.8.10 in /opt/venv/lib/python3.10/site-packages (from arrow>=0.15.0->isoduration->jsonschema[format-nongpl]>=4.18.0->jupyter-events>=0.9.0->jupyter-server<3,>=2.4.0->jupyterlab) (2.9.0.20240316)\n",
      "Using cached optuna_dashboard-0.16.1-py3-none-any.whl (8.4 MB)\n",
      "Using cached bottle-0.12.25-py3-none-any.whl (90 kB)\n",
      "Installing collected packages: bottle, optuna-dashboard, jupyterlab-optuna\n",
      "Successfully installed bottle-0.12.25 jupyterlab-optuna-0.1.0 optuna-dashboard-0.16.1\n",
      "Note: you may need to restart the kernel to use updated packages.\n",
      "Collecting rl_zoo3\n",
      "  Using cached rl_zoo3-2.3.0-py3-none-any.whl.metadata (1.8 kB)\n",
      "Requirement already satisfied: sb3-contrib<3.0,>=2.3.0 in /opt/venv/lib/python3.10/site-packages (from rl_zoo3) (2.3.0)\n",
      "Collecting gymnasium~=0.29.1 (from rl_zoo3)\n",
      "  Using cached gymnasium-0.29.1-py3-none-any.whl.metadata (10 kB)\n",
      "Requirement already satisfied: huggingface-sb3<4.0,>=3.0 in /opt/venv/lib/python3.10/site-packages (from rl_zoo3) (3.0)\n",
      "Requirement already satisfied: tqdm in /opt/venv/lib/python3.10/site-packages (from rl_zoo3) (4.66.5)\n",
      "Requirement already satisfied: rich in /opt/venv/lib/python3.10/site-packages (from rl_zoo3) (13.7.1)\n",
      "Requirement already satisfied: optuna>=3.0 in /opt/venv/lib/python3.10/site-packages (from rl_zoo3) (3.6.1)\n",
      "Requirement already satisfied: pyyaml>=5.1 in /opt/venv/lib/python3.10/site-packages (from rl_zoo3) (6.0.2)\n",
      "Collecting pytablewriter~=1.2 (from rl_zoo3)\n",
      "  Using cached pytablewriter-1.2.0-py3-none-any.whl.metadata (37 kB)\n",
      "Requirement already satisfied: numpy>=1.21.0 in /opt/venv/lib/python3.10/site-packages (from gymnasium~=0.29.1->rl_zoo3) (1.26.4)\n",
      "Requirement already satisfied: cloudpickle>=1.2.0 in /opt/venv/lib/python3.10/site-packages (from gymnasium~=0.29.1->rl_zoo3) (3.0.0)\n",
      "Requirement already satisfied: typing-extensions>=4.3.0 in /opt/venv/lib/python3.10/site-packages (from gymnasium~=0.29.1->rl_zoo3) (4.12.2)\n",
      "Requirement already satisfied: farama-notifications>=0.0.1 in /opt/venv/lib/python3.10/site-packages (from gymnasium~=0.29.1->rl_zoo3) (0.0.4)\n",
      "Requirement already satisfied: huggingface-hub~=0.8 in /opt/venv/lib/python3.10/site-packages (from huggingface-sb3<4.0,>=3.0->rl_zoo3) (0.24.5)\n",
      "Requirement already satisfied: wasabi in /opt/venv/lib/python3.10/site-packages (from huggingface-sb3<4.0,>=3.0->rl_zoo3) (1.1.3)\n",
      "Requirement already satisfied: alembic>=1.5.0 in /opt/venv/lib/python3.10/site-packages (from optuna>=3.0->rl_zoo3) (1.13.2)\n",
      "Requirement already satisfied: colorlog in /opt/venv/lib/python3.10/site-packages (from optuna>=3.0->rl_zoo3) (6.8.2)\n",
      "Requirement already satisfied: packaging>=20.0 in /opt/venv/lib/python3.10/site-packages (from optuna>=3.0->rl_zoo3) (24.1)\n",
      "Requirement already satisfied: sqlalchemy>=1.3.0 in /opt/venv/lib/python3.10/site-packages (from optuna>=3.0->rl_zoo3) (2.0.32)\n",
      "Requirement already satisfied: setuptools>=38.3.0 in /opt/venv/lib/python3.10/site-packages (from pytablewriter~=1.2->rl_zoo3) (59.6.0)\n",
      "Collecting DataProperty<2,>=1.0.1 (from pytablewriter~=1.2->rl_zoo3)\n",
      "  Using cached DataProperty-1.0.1-py3-none-any.whl.metadata (11 kB)\n",
      "Collecting mbstrdecoder<2,>=1.0.0 (from pytablewriter~=1.2->rl_zoo3)\n",
      "  Using cached mbstrdecoder-1.1.3-py3-none-any.whl.metadata (4.0 kB)\n",
      "Collecting pathvalidate<4,>=2.3.0 (from pytablewriter~=1.2->rl_zoo3)\n",
      "  Using cached pathvalidate-3.2.1-py3-none-any.whl.metadata (12 kB)\n",
      "Collecting tabledata<2,>=1.3.1 (from pytablewriter~=1.2->rl_zoo3)\n",
      "  Using cached tabledata-1.3.3-py3-none-any.whl.metadata (3.7 kB)\n",
      "Collecting tcolorpy<1,>=0.0.5 (from pytablewriter~=1.2->rl_zoo3)\n",
      "  Using cached tcolorpy-0.1.6-py3-none-any.whl.metadata (6.4 kB)\n",
      "Collecting typepy<2,>=1.3.2 (from typepy[datetime]<2,>=1.3.2->pytablewriter~=1.2->rl_zoo3)\n",
      "  Using cached typepy-1.3.2-py3-none-any.whl.metadata (9.3 kB)\n",
      "Requirement already satisfied: stable-baselines3<3.0,>=2.3.0 in /opt/venv/lib/python3.10/site-packages (from sb3-contrib<3.0,>=2.3.0->rl_zoo3) (2.3.2)\n",
      "Requirement already satisfied: markdown-it-py>=2.2.0 in /opt/venv/lib/python3.10/site-packages (from rich->rl_zoo3) (3.0.0)\n",
      "Requirement already satisfied: pygments<3.0.0,>=2.13.0 in /opt/venv/lib/python3.10/site-packages (from rich->rl_zoo3) (2.18.0)\n",
      "Requirement already satisfied: Mako in /opt/venv/lib/python3.10/site-packages (from alembic>=1.5.0->optuna>=3.0->rl_zoo3) (1.3.5)\n",
      "Requirement already satisfied: filelock in /opt/venv/lib/python3.10/site-packages (from huggingface-hub~=0.8->huggingface-sb3<4.0,>=3.0->rl_zoo3) (3.15.4)\n",
      "Requirement already satisfied: fsspec>=2023.5.0 in /opt/venv/lib/python3.10/site-packages (from huggingface-hub~=0.8->huggingface-sb3<4.0,>=3.0->rl_zoo3) (2024.6.1)\n",
      "Requirement already satisfied: requests in /opt/venv/lib/python3.10/site-packages (from huggingface-hub~=0.8->huggingface-sb3<4.0,>=3.0->rl_zoo3) (2.32.3)\n",
      "Requirement already satisfied: mdurl~=0.1 in /opt/venv/lib/python3.10/site-packages (from markdown-it-py>=2.2.0->rich->rl_zoo3) (0.1.2)\n",
      "Collecting chardet<6,>=3.0.4 (from mbstrdecoder<2,>=1.0.0->pytablewriter~=1.2->rl_zoo3)\n",
      "  Using cached chardet-5.2.0-py3-none-any.whl.metadata (3.4 kB)\n",
      "Requirement already satisfied: greenlet!=0.4.17 in /opt/venv/lib/python3.10/site-packages (from sqlalchemy>=1.3.0->optuna>=3.0->rl_zoo3) (3.0.3)\n",
      "Requirement already satisfied: torch>=1.13 in /opt/venv/lib/python3.10/site-packages (from stable-baselines3<3.0,>=2.3.0->sb3-contrib<3.0,>=2.3.0->rl_zoo3) (2.4.0)\n",
      "Requirement already satisfied: pandas in /opt/venv/lib/python3.10/site-packages (from stable-baselines3<3.0,>=2.3.0->sb3-contrib<3.0,>=2.3.0->rl_zoo3) (2.2.2)\n",
      "Requirement already satisfied: matplotlib in /opt/venv/lib/python3.10/site-packages (from stable-baselines3<3.0,>=2.3.0->sb3-contrib<3.0,>=2.3.0->rl_zoo3) (3.9.1.post1)\n",
      "Requirement already satisfied: python-dateutil<3.0.0,>=2.8.0 in /opt/venv/lib/python3.10/site-packages (from typepy[datetime]<2,>=1.3.2->pytablewriter~=1.2->rl_zoo3) (2.9.0.post0)\n",
      "Requirement already satisfied: pytz>=2018.9 in /opt/venv/lib/python3.10/site-packages (from typepy[datetime]<2,>=1.3.2->pytablewriter~=1.2->rl_zoo3) (2024.1)\n",
      "Requirement already satisfied: six>=1.5 in /opt/venv/lib/python3.10/site-packages (from python-dateutil<3.0.0,>=2.8.0->typepy[datetime]<2,>=1.3.2->pytablewriter~=1.2->rl_zoo3) (1.16.0)\n",
      "Requirement already satisfied: sympy in /opt/venv/lib/python3.10/site-packages (from torch>=1.13->stable-baselines3<3.0,>=2.3.0->sb3-contrib<3.0,>=2.3.0->rl_zoo3) (1.13.1)\n",
      "Requirement already satisfied: networkx in /opt/venv/lib/python3.10/site-packages (from torch>=1.13->stable-baselines3<3.0,>=2.3.0->sb3-contrib<3.0,>=2.3.0->rl_zoo3) (3.3)\n",
      "Requirement already satisfied: jinja2 in /opt/venv/lib/python3.10/site-packages (from torch>=1.13->stable-baselines3<3.0,>=2.3.0->sb3-contrib<3.0,>=2.3.0->rl_zoo3) (3.1.4)\n",
      "Requirement already satisfied: nvidia-cuda-nvrtc-cu12==12.1.105 in /opt/venv/lib/python3.10/site-packages (from torch>=1.13->stable-baselines3<3.0,>=2.3.0->sb3-contrib<3.0,>=2.3.0->rl_zoo3) (12.1.105)\n",
      "Requirement already satisfied: nvidia-cuda-runtime-cu12==12.1.105 in /opt/venv/lib/python3.10/site-packages (from torch>=1.13->stable-baselines3<3.0,>=2.3.0->sb3-contrib<3.0,>=2.3.0->rl_zoo3) (12.1.105)\n",
      "Requirement already satisfied: nvidia-cuda-cupti-cu12==12.1.105 in /opt/venv/lib/python3.10/site-packages (from torch>=1.13->stable-baselines3<3.0,>=2.3.0->sb3-contrib<3.0,>=2.3.0->rl_zoo3) (12.1.105)\n",
      "Requirement already satisfied: nvidia-cudnn-cu12==9.1.0.70 in /opt/venv/lib/python3.10/site-packages (from torch>=1.13->stable-baselines3<3.0,>=2.3.0->sb3-contrib<3.0,>=2.3.0->rl_zoo3) (9.1.0.70)\n",
      "Requirement already satisfied: nvidia-cublas-cu12==12.1.3.1 in /opt/venv/lib/python3.10/site-packages (from torch>=1.13->stable-baselines3<3.0,>=2.3.0->sb3-contrib<3.0,>=2.3.0->rl_zoo3) (12.1.3.1)\n",
      "Requirement already satisfied: nvidia-cufft-cu12==11.0.2.54 in /opt/venv/lib/python3.10/site-packages (from torch>=1.13->stable-baselines3<3.0,>=2.3.0->sb3-contrib<3.0,>=2.3.0->rl_zoo3) (11.0.2.54)\n",
      "Requirement already satisfied: nvidia-curand-cu12==10.3.2.106 in /opt/venv/lib/python3.10/site-packages (from torch>=1.13->stable-baselines3<3.0,>=2.3.0->sb3-contrib<3.0,>=2.3.0->rl_zoo3) (10.3.2.106)\n",
      "Requirement already satisfied: nvidia-cusolver-cu12==11.4.5.107 in /opt/venv/lib/python3.10/site-packages (from torch>=1.13->stable-baselines3<3.0,>=2.3.0->sb3-contrib<3.0,>=2.3.0->rl_zoo3) (11.4.5.107)\n",
      "Requirement already satisfied: nvidia-cusparse-cu12==12.1.0.106 in /opt/venv/lib/python3.10/site-packages (from torch>=1.13->stable-baselines3<3.0,>=2.3.0->sb3-contrib<3.0,>=2.3.0->rl_zoo3) (12.1.0.106)\n",
      "Requirement already satisfied: nvidia-nccl-cu12==2.20.5 in /opt/venv/lib/python3.10/site-packages (from torch>=1.13->stable-baselines3<3.0,>=2.3.0->sb3-contrib<3.0,>=2.3.0->rl_zoo3) (2.20.5)\n",
      "Requirement already satisfied: nvidia-nvtx-cu12==12.1.105 in /opt/venv/lib/python3.10/site-packages (from torch>=1.13->stable-baselines3<3.0,>=2.3.0->sb3-contrib<3.0,>=2.3.0->rl_zoo3) (12.1.105)\n",
      "Requirement already satisfied: triton==3.0.0 in /opt/venv/lib/python3.10/site-packages (from torch>=1.13->stable-baselines3<3.0,>=2.3.0->sb3-contrib<3.0,>=2.3.0->rl_zoo3) (3.0.0)\n",
      "Requirement already satisfied: nvidia-nvjitlink-cu12 in /opt/venv/lib/python3.10/site-packages (from nvidia-cusolver-cu12==11.4.5.107->torch>=1.13->stable-baselines3<3.0,>=2.3.0->sb3-contrib<3.0,>=2.3.0->rl_zoo3) (12.6.20)\n",
      "Requirement already satisfied: MarkupSafe>=0.9.2 in /opt/venv/lib/python3.10/site-packages (from Mako->alembic>=1.5.0->optuna>=3.0->rl_zoo3) (2.1.5)\n",
      "Requirement already satisfied: contourpy>=1.0.1 in /opt/venv/lib/python3.10/site-packages (from matplotlib->stable-baselines3<3.0,>=2.3.0->sb3-contrib<3.0,>=2.3.0->rl_zoo3) (1.2.1)\n",
      "Requirement already satisfied: cycler>=0.10 in /opt/venv/lib/python3.10/site-packages (from matplotlib->stable-baselines3<3.0,>=2.3.0->sb3-contrib<3.0,>=2.3.0->rl_zoo3) (0.12.1)\n",
      "Requirement already satisfied: fonttools>=4.22.0 in /opt/venv/lib/python3.10/site-packages (from matplotlib->stable-baselines3<3.0,>=2.3.0->sb3-contrib<3.0,>=2.3.0->rl_zoo3) (4.53.1)\n",
      "Requirement already satisfied: kiwisolver>=1.3.1 in /opt/venv/lib/python3.10/site-packages (from matplotlib->stable-baselines3<3.0,>=2.3.0->sb3-contrib<3.0,>=2.3.0->rl_zoo3) (1.4.5)\n",
      "Requirement already satisfied: pillow>=8 in /opt/venv/lib/python3.10/site-packages (from matplotlib->stable-baselines3<3.0,>=2.3.0->sb3-contrib<3.0,>=2.3.0->rl_zoo3) (10.4.0)\n",
      "Requirement already satisfied: pyparsing>=2.3.1 in /opt/venv/lib/python3.10/site-packages (from matplotlib->stable-baselines3<3.0,>=2.3.0->sb3-contrib<3.0,>=2.3.0->rl_zoo3) (3.1.2)\n",
      "Requirement already satisfied: tzdata>=2022.7 in /opt/venv/lib/python3.10/site-packages (from pandas->stable-baselines3<3.0,>=2.3.0->sb3-contrib<3.0,>=2.3.0->rl_zoo3) (2024.1)\n",
      "Requirement already satisfied: charset-normalizer<4,>=2 in /opt/venv/lib/python3.10/site-packages (from requests->huggingface-hub~=0.8->huggingface-sb3<4.0,>=3.0->rl_zoo3) (3.3.2)\n",
      "Requirement already satisfied: idna<4,>=2.5 in /opt/venv/lib/python3.10/site-packages (from requests->huggingface-hub~=0.8->huggingface-sb3<4.0,>=3.0->rl_zoo3) (3.7)\n",
      "Requirement already satisfied: urllib3<3,>=1.21.1 in /opt/venv/lib/python3.10/site-packages (from requests->huggingface-hub~=0.8->huggingface-sb3<4.0,>=3.0->rl_zoo3) (2.2.2)\n",
      "Requirement already satisfied: certifi>=2017.4.17 in /opt/venv/lib/python3.10/site-packages (from requests->huggingface-hub~=0.8->huggingface-sb3<4.0,>=3.0->rl_zoo3) (2024.7.4)\n",
      "Requirement already satisfied: mpmath<1.4,>=1.1.0 in /opt/venv/lib/python3.10/site-packages (from sympy->torch>=1.13->stable-baselines3<3.0,>=2.3.0->sb3-contrib<3.0,>=2.3.0->rl_zoo3) (1.3.0)\n",
      "Using cached rl_zoo3-2.3.0-py3-none-any.whl (76 kB)\n",
      "Using cached gymnasium-0.29.1-py3-none-any.whl (953 kB)\n",
      "Using cached pytablewriter-1.2.0-py3-none-any.whl (111 kB)\n",
      "Using cached DataProperty-1.0.1-py3-none-any.whl (27 kB)\n",
      "Using cached mbstrdecoder-1.1.3-py3-none-any.whl (7.8 kB)\n",
      "Using cached pathvalidate-3.2.1-py3-none-any.whl (23 kB)\n",
      "Using cached tabledata-1.3.3-py3-none-any.whl (11 kB)\n",
      "Using cached tcolorpy-0.1.6-py3-none-any.whl (8.1 kB)\n",
      "Using cached typepy-1.3.2-py3-none-any.whl (31 kB)\n",
      "Using cached chardet-5.2.0-py3-none-any.whl (199 kB)\n",
      "Installing collected packages: tcolorpy, pathvalidate, gymnasium, chardet, mbstrdecoder, typepy, DataProperty, tabledata, pytablewriter, rl_zoo3\n",
      "  Attempting uninstall: gymnasium\n",
      "    Found existing installation: gymnasium 0.28.1\n",
      "    Uninstalling gymnasium-0.28.1:\n",
      "      Successfully uninstalled gymnasium-0.28.1\n",
      "Successfully installed DataProperty-1.0.1 chardet-5.2.0 gymnasium-0.29.1 mbstrdecoder-1.1.3 pathvalidate-3.2.1 pytablewriter-1.2.0 rl_zoo3-2.3.0 tabledata-1.3.3 tcolorpy-0.1.6 typepy-1.3.2\n",
      "Note: you may need to restart the kernel to use updated packages.\n",
      "Collecting tensorflow\n",
      "  Using cached tensorflow-2.17.0-cp310-cp310-manylinux_2_17_x86_64.manylinux2014_x86_64.whl.metadata (4.2 kB)\n",
      "Requirement already satisfied: absl-py>=1.0.0 in /opt/venv/lib/python3.10/site-packages (from tensorflow) (2.1.0)\n",
      "Collecting astunparse>=1.6.0 (from tensorflow)\n",
      "  Using cached astunparse-1.6.3-py2.py3-none-any.whl.metadata (4.4 kB)\n",
      "Collecting flatbuffers>=24.3.25 (from tensorflow)\n",
      "  Using cached flatbuffers-24.3.25-py2.py3-none-any.whl.metadata (850 bytes)\n",
      "Collecting gast!=0.5.0,!=0.5.1,!=0.5.2,>=0.2.1 (from tensorflow)\n",
      "  Using cached gast-0.6.0-py3-none-any.whl.metadata (1.3 kB)\n",
      "Collecting google-pasta>=0.1.1 (from tensorflow)\n",
      "  Using cached google_pasta-0.2.0-py3-none-any.whl.metadata (814 bytes)\n",
      "Collecting h5py>=3.10.0 (from tensorflow)\n",
      "  Using cached h5py-3.11.0-cp310-cp310-manylinux_2_17_x86_64.manylinux2014_x86_64.whl.metadata (2.5 kB)\n",
      "Collecting libclang>=13.0.0 (from tensorflow)\n",
      "  Using cached libclang-18.1.1-py2.py3-none-manylinux2010_x86_64.whl.metadata (5.2 kB)\n",
      "Collecting ml-dtypes<0.5.0,>=0.3.1 (from tensorflow)\n",
      "  Using cached ml_dtypes-0.4.0-cp310-cp310-manylinux_2_17_x86_64.manylinux2014_x86_64.whl.metadata (20 kB)\n",
      "Collecting opt-einsum>=2.3.2 (from tensorflow)\n",
      "  Using cached opt_einsum-3.3.0-py3-none-any.whl.metadata (6.5 kB)\n",
      "Requirement already satisfied: packaging in /opt/venv/lib/python3.10/site-packages (from tensorflow) (24.1)\n",
      "Requirement already satisfied: protobuf!=4.21.0,!=4.21.1,!=4.21.2,!=4.21.3,!=4.21.4,!=4.21.5,<5.0.0dev,>=3.20.3 in /opt/venv/lib/python3.10/site-packages (from tensorflow) (4.25.4)\n",
      "Requirement already satisfied: requests<3,>=2.21.0 in /opt/venv/lib/python3.10/site-packages (from tensorflow) (2.32.3)\n",
      "Requirement already satisfied: setuptools in /opt/venv/lib/python3.10/site-packages (from tensorflow) (59.6.0)\n",
      "Requirement already satisfied: six>=1.12.0 in /opt/venv/lib/python3.10/site-packages (from tensorflow) (1.16.0)\n",
      "Collecting termcolor>=1.1.0 (from tensorflow)\n",
      "  Using cached termcolor-2.4.0-py3-none-any.whl.metadata (6.1 kB)\n",
      "Requirement already satisfied: typing-extensions>=3.6.6 in /opt/venv/lib/python3.10/site-packages (from tensorflow) (4.12.2)\n",
      "Requirement already satisfied: wrapt>=1.11.0 in /opt/venv/lib/python3.10/site-packages (from tensorflow) (1.16.0)\n",
      "Requirement already satisfied: grpcio<2.0,>=1.24.3 in /opt/venv/lib/python3.10/site-packages (from tensorflow) (1.65.4)\n",
      "Requirement already satisfied: tensorboard<2.18,>=2.17 in /opt/venv/lib/python3.10/site-packages (from tensorflow) (2.17.0)\n",
      "Collecting keras>=3.2.0 (from tensorflow)\n",
      "  Using cached keras-3.5.0-py3-none-any.whl.metadata (5.8 kB)\n",
      "Collecting tensorflow-io-gcs-filesystem>=0.23.1 (from tensorflow)\n",
      "  Using cached tensorflow_io_gcs_filesystem-0.37.1-cp310-cp310-manylinux_2_17_x86_64.manylinux2014_x86_64.whl.metadata (14 kB)\n",
      "Requirement already satisfied: numpy<2.0.0,>=1.23.5 in /opt/venv/lib/python3.10/site-packages (from tensorflow) (1.26.4)\n",
      "Requirement already satisfied: wheel<1.0,>=0.23.0 in /opt/venv/lib/python3.10/site-packages (from astunparse>=1.6.0->tensorflow) (0.44.0)\n",
      "Requirement already satisfied: rich in /opt/venv/lib/python3.10/site-packages (from keras>=3.2.0->tensorflow) (13.7.1)\n",
      "Collecting namex (from keras>=3.2.0->tensorflow)\n",
      "  Using cached namex-0.0.8-py3-none-any.whl.metadata (246 bytes)\n",
      "Collecting optree (from keras>=3.2.0->tensorflow)\n",
      "  Using cached optree-0.12.1-cp310-cp310-manylinux_2_17_x86_64.manylinux2014_x86_64.whl.metadata (47 kB)\n",
      "Requirement already satisfied: charset-normalizer<4,>=2 in /opt/venv/lib/python3.10/site-packages (from requests<3,>=2.21.0->tensorflow) (3.3.2)\n",
      "Requirement already satisfied: idna<4,>=2.5 in /opt/venv/lib/python3.10/site-packages (from requests<3,>=2.21.0->tensorflow) (3.7)\n",
      "Requirement already satisfied: urllib3<3,>=1.21.1 in /opt/venv/lib/python3.10/site-packages (from requests<3,>=2.21.0->tensorflow) (2.2.2)\n",
      "Requirement already satisfied: certifi>=2017.4.17 in /opt/venv/lib/python3.10/site-packages (from requests<3,>=2.21.0->tensorflow) (2024.7.4)\n",
      "Requirement already satisfied: markdown>=2.6.8 in /opt/venv/lib/python3.10/site-packages (from tensorboard<2.18,>=2.17->tensorflow) (3.6)\n",
      "Requirement already satisfied: tensorboard-data-server<0.8.0,>=0.7.0 in /opt/venv/lib/python3.10/site-packages (from tensorboard<2.18,>=2.17->tensorflow) (0.7.2)\n",
      "Requirement already satisfied: werkzeug>=1.0.1 in /opt/venv/lib/python3.10/site-packages (from tensorboard<2.18,>=2.17->tensorflow) (3.0.3)\n",
      "Requirement already satisfied: MarkupSafe>=2.1.1 in /opt/venv/lib/python3.10/site-packages (from werkzeug>=1.0.1->tensorboard<2.18,>=2.17->tensorflow) (2.1.5)\n",
      "Requirement already satisfied: markdown-it-py>=2.2.0 in /opt/venv/lib/python3.10/site-packages (from rich->keras>=3.2.0->tensorflow) (3.0.0)\n",
      "Requirement already satisfied: pygments<3.0.0,>=2.13.0 in /opt/venv/lib/python3.10/site-packages (from rich->keras>=3.2.0->tensorflow) (2.18.0)\n",
      "Requirement already satisfied: mdurl~=0.1 in /opt/venv/lib/python3.10/site-packages (from markdown-it-py>=2.2.0->rich->keras>=3.2.0->tensorflow) (0.1.2)\n",
      "Using cached tensorflow-2.17.0-cp310-cp310-manylinux_2_17_x86_64.manylinux2014_x86_64.whl (601.3 MB)\n",
      "Using cached astunparse-1.6.3-py2.py3-none-any.whl (12 kB)\n",
      "Using cached flatbuffers-24.3.25-py2.py3-none-any.whl (26 kB)\n",
      "Using cached gast-0.6.0-py3-none-any.whl (21 kB)\n",
      "Using cached google_pasta-0.2.0-py3-none-any.whl (57 kB)\n",
      "Using cached h5py-3.11.0-cp310-cp310-manylinux_2_17_x86_64.manylinux2014_x86_64.whl (5.3 MB)\n",
      "Using cached keras-3.5.0-py3-none-any.whl (1.1 MB)\n",
      "Using cached libclang-18.1.1-py2.py3-none-manylinux2010_x86_64.whl (24.5 MB)\n",
      "Using cached ml_dtypes-0.4.0-cp310-cp310-manylinux_2_17_x86_64.manylinux2014_x86_64.whl (2.2 MB)\n",
      "Using cached opt_einsum-3.3.0-py3-none-any.whl (65 kB)\n",
      "Using cached tensorflow_io_gcs_filesystem-0.37.1-cp310-cp310-manylinux_2_17_x86_64.manylinux2014_x86_64.whl (5.1 MB)\n",
      "Using cached termcolor-2.4.0-py3-none-any.whl (7.7 kB)\n",
      "Using cached namex-0.0.8-py3-none-any.whl (5.8 kB)\n",
      "Using cached optree-0.12.1-cp310-cp310-manylinux_2_17_x86_64.manylinux2014_x86_64.whl (347 kB)\n",
      "Installing collected packages: namex, libclang, flatbuffers, termcolor, tensorflow-io-gcs-filesystem, optree, opt-einsum, ml-dtypes, h5py, google-pasta, gast, astunparse, keras, tensorflow\n"
     ]
    }
   ],
   "source": [
    "%pip install gym\n",
    "%pip install optuna\n",
    "%pip install logging\n",
    "%pip install jupyterlab jupyterlab-optuna\n",
    "%pip install rl_zoo3\n",
    "%pip install tensorflow"
   ]
  },
  {
   "cell_type": "code",
   "execution_count": 5,
   "id": "d74e5a85-5c49-423d-8da9-6dfc0615ac70",
   "metadata": {},
   "outputs": [
    {
     "name": "stdout",
     "output_type": "stream",
     "text": [
      "Requirement already satisfied: tensorboard in /opt/venv/lib/python3.10/site-packages (2.17.0)\n",
      "Requirement already satisfied: absl-py>=0.4 in /opt/venv/lib/python3.10/site-packages (from tensorboard) (2.1.0)\n",
      "Requirement already satisfied: grpcio>=1.48.2 in /opt/venv/lib/python3.10/site-packages (from tensorboard) (1.65.4)\n",
      "Requirement already satisfied: markdown>=2.6.8 in /opt/venv/lib/python3.10/site-packages (from tensorboard) (3.6)\n",
      "Requirement already satisfied: numpy>=1.12.0 in /opt/venv/lib/python3.10/site-packages (from tensorboard) (1.26.4)\n",
      "Requirement already satisfied: protobuf!=4.24.0,<5.0.0,>=3.19.6 in /opt/venv/lib/python3.10/site-packages (from tensorboard) (4.25.4)\n",
      "Requirement already satisfied: setuptools>=41.0.0 in /opt/venv/lib/python3.10/site-packages (from tensorboard) (59.6.0)\n",
      "Requirement already satisfied: six>1.9 in /opt/venv/lib/python3.10/site-packages (from tensorboard) (1.16.0)\n",
      "Requirement already satisfied: tensorboard-data-server<0.8.0,>=0.7.0 in /opt/venv/lib/python3.10/site-packages (from tensorboard) (0.7.2)\n",
      "Requirement already satisfied: werkzeug>=1.0.1 in /opt/venv/lib/python3.10/site-packages (from tensorboard) (3.0.3)\n",
      "Requirement already satisfied: MarkupSafe>=2.1.1 in /opt/venv/lib/python3.10/site-packages (from werkzeug>=1.0.1->tensorboard) (2.1.5)\n",
      "Note: you may need to restart the kernel to use updated packages.\n"
     ]
    }
   ],
   "source": [
    "%pip install tensorboard"
   ]
  },
  {
   "cell_type": "code",
   "execution_count": 1,
   "id": "9b782d73-40ad-4de9-b1ab-f3c52461b8c2",
   "metadata": {},
   "outputs": [],
   "source": [
    "import numpy as np\n",
    "import pandas as pd \n",
    "from plotnine import ggplot, aes, geom_density, geom_line, geom_point, geom_violin, facet_grid, labs, theme, facet_wrap\n",
    "\n",
    "from stable_baselines3 import PPO, TD3\n",
    "from sb3_contrib import TQC\n",
    "from stable_baselines3.common.env_util import make_vec_env\n",
    "\n",
    "from rl4greencrab import greenCrabSimplifiedEnv, simulator\n",
    "\n",
    "import gym\n",
    "\n",
    "import optuna\n",
    "from optuna.pruners import MedianPruner\n",
    "from optuna.samplers import TPESampler\n",
    "from optuna.visualization import plot_optimization_history, plot_param_importances\n",
    "import logging\n",
    "import inspect"
   ]
  },
  {
   "cell_type": "code",
   "execution_count": 301,
   "id": "99bb8c63-83d8-416b-b66f-ddd43a43c85b",
   "metadata": {},
   "outputs": [],
   "source": [
    "logging.basicConfig(filename=\"/home/rstudio/env_log.txt\" , format='%(levelname)s: %(message)s', level=logging.DEBUG)"
   ]
  },
  {
   "cell_type": "markdown",
   "id": "de83ecef-a327-4ba5-9886-e4df5b87a5b4",
   "metadata": {},
   "source": [
    "## 1. Other envs\n",
    "---\n",
    "\n",
    "We will go over two other envs provided by our package: `greenCrabSimplifiedEnv` and `timeSeriesEnv`.\n",
    "Let's focus on the first one of these envs.\n",
    "\n",
    "### greenCrabSimplifiedEnv\n",
    "\n",
    "`greenCrabSimplifiedEnv` is closely related to `greenCrabEnv` and only varies in small aspects.\n",
    "Let's examine these aspecs one by one.\n",
    "The first aspect is its action space:"
   ]
  },
  {
   "cell_type": "code",
   "execution_count": 50,
   "id": "c05ebeea-5c6c-4be6-a45f-4461f7ebcfb2",
   "metadata": {},
   "outputs": [
    {
     "data": {
      "text/plain": [
       "Box(-1.0, 1.0, (3,), float32)"
      ]
     },
     "execution_count": 50,
     "metadata": {},
     "output_type": "execute_result"
    }
   ],
   "source": [
    "gcse = greenCrabSimplifiedEnv()\n",
    "gcse.action_space"
   ]
  },
  {
   "cell_type": "markdown",
   "id": "248dfd31-ac90-4256-bfc9-8df2cb54ad1a",
   "metadata": {},
   "source": [
    "Actions in this `greenCrabSimplifiedEnv` are between -1 and +1 (in contrast to `greenCrabEnv` where they were in [0, 2000]). \n",
    "This difference in action space is purely conceptual: we linearly associate the segment [-1, 1] to the segment [0, 2000] so that, e.g., an action of -1 corresponds to 0 traps laid, an action of 0 corresponds to 1000 traps laid, and an action of +1 corresponds to 2000 traps laid.\n",
    "Mathematically, this transformation is:\n",
    "$$a = A / 1000 - 1$$,\n",
    "where $A\\in[0,2000]$ and $a\\in[-1,1]$.\n",
    "This transformation of action space is performed because of purely computational reasons related to hyperparameter tuning of RL algorithms.\n",
    "\n",
    "A second difference of `greenCrabSimplifiedEnv` with respect to `greenCrabEnv` is in its observation space."
   ]
  },
  {
   "cell_type": "code",
   "execution_count": 22,
   "id": "41a623c2-25fe-4d23-a152-b6af91a49877",
   "metadata": {},
   "outputs": [
    {
     "data": {
      "text/plain": [
       "Box(-1.0, 1.0, (2,), float32)"
      ]
     },
     "execution_count": 22,
     "metadata": {},
     "output_type": "execute_result"
    }
   ],
   "source": [
    "gcse.observation_space"
   ]
  },
  {
   "cell_type": "code",
   "execution_count": 23,
   "id": "013af299-2b80-4066-bf64-507e4f89c04b",
   "metadata": {},
   "outputs": [
    {
     "data": {
      "text/plain": [
       "(array([-1., -1.], dtype=float32), {})"
      ]
     },
     "execution_count": 23,
     "metadata": {},
     "output_type": "execute_result"
    }
   ],
   "source": [
    "gcse.reset()"
   ]
  },
  {
   "cell_type": "markdown",
   "id": "650cbc8a-e37d-4fd1-a496-72771915c21a",
   "metadata": {},
   "source": [
    "Here, observations are vectors with *three* components instead of nine, and they are [-1, 1] valued.\n",
    "E.g., consider the following observation after a second time-step:"
   ]
  },
  {
   "cell_type": "code",
   "execution_count": 51,
   "id": "b076834b-12e7-4bec-9233-1ee40a6975cc",
   "metadata": {},
   "outputs": [
    {
     "data": {
      "text/plain": [
       "(array([-1., -1.], dtype=float32),\n",
       " array([-1.        , -0.99994665], dtype=float32),\n",
       " array([-0.9997333, -0.9994533], dtype=float32))"
      ]
     },
     "execution_count": 51,
     "metadata": {},
     "output_type": "execute_result"
    }
   ],
   "source": [
    "gcse.step(np.float32([-0.5, -0.5, -0.5]))[0], gcse.step(np.float32([-0.5, -0.5, -0.5]))[0], gcse.step(np.float32([-0.5, -0.5, -0.5]))[0]"
   ]
  },
  {
   "cell_type": "markdown",
   "id": "73e153c9-ed93-435a-98ec-d06ea0724e5f",
   "metadata": {},
   "source": [
    "These three numbers correspond to: 1. the catch per 100 traps in the first five months of the year, 2. the catch per 100 traps in the later four months of the year, 3. the number of traps.\n",
    "These three numbers are transformed to [-1, 1] in a similar fashion to eq. (1).\n",
    "\n",
    "This simplifies the observations, making it easier for RL algorithms to exploit the information they provide.\n",
    "Because of this, we will train our algorithms on `greenCrabSimplifiedEnv` rather than `greenCrabEnv`."
   ]
  },
  {
   "cell_type": "markdown",
   "id": "58d37c1e-b344-4058-820a-c59cbee7fa8e",
   "metadata": {},
   "source": [
    "### timeSeriesEnv\n",
    "\n",
    "TBD."
   ]
  },
  {
   "cell_type": "markdown",
   "id": "9098d67f-f9c1-460d-b505-91ccb8df444d",
   "metadata": {},
   "source": [
    "## 2. Training and evaluating RL algos\n",
    "---\n",
    "\n",
    "Here we cover some basic syntax for training RL algorithms on our envs.\n",
    "We use short train times for the sake of brevity in this example.\n",
    "Typical run-times might need upwards of 1 million time-steps, or possibly up to 10 million time-steps to converge.\n",
    "This number will, however, depend on the particular algorithm used.\n",
    "\n",
    "**Note:** This package also provides a more ergonomic syntax for training through the `train.py` script. \n",
    "To train models this way, run the following command on the terminal:\n",
    "\n",
    "`python scripts/train.py -f hyperpars/ppo-gcse.yml`\n",
    "\n",
    "There, we encode the input to the training algorithm as a YAML file."
   ]
  },
  {
   "cell_type": "code",
   "execution_count": 2,
   "id": "beaed50d-4ecb-4fbb-a40e-64488ca09445",
   "metadata": {},
   "outputs": [],
   "source": [
    "config = {\n",
    "        'action_reward_scale': np.array([0.08, 0.08, 0.4]),\n",
    "        'max_action': 3000,\n",
    "        # 'env_stoch': 0.,\n",
    "        'trapm_pmax': 10 * 0.1 * 2.75e-5, #2.26e-6,\n",
    "        'trapf_pmax': 10 * 0.03 * 2.75e-5, #8.3e-7,\n",
    "        'traps_pmax': 10 * 2.75e-5, #2.75e-5,\n",
    "\n",
    "        'loss_a': 0.2,\n",
    "        'loss_b': 5,\n",
    "        'loss_c': 5,\n",
    "        \n",
    "        'action_reward_exponent': 10,\n",
    "    }"
   ]
  },
  {
   "cell_type": "code",
   "execution_count": 3,
   "id": "7254fbbd-dd2b-4598-afb1-c13c7ccbae88",
   "metadata": {},
   "outputs": [],
   "source": [
    "gcse = greenCrabSimplifiedEnv(config=config)\n",
    "vec_env = make_vec_env(greenCrabSimplifiedEnv, n_envs=12)\n",
    "eval_envs = vec_env"
   ]
  },
  {
   "cell_type": "markdown",
   "id": "2860d487-467c-4b3c-b600-be62bc18394a",
   "metadata": {},
   "source": [
    "### Config"
   ]
  },
  {
   "cell_type": "code",
   "execution_count": 4,
   "id": "f75bc45e-917e-4853-98bb-c0e7df73ae2b",
   "metadata": {},
   "outputs": [],
   "source": [
    "N_TRIALS = 15  # Maximum number of trials\n",
    "N_JOBS = 1 # Number of jobs to run in parallel\n",
    "N_STARTUP_TRIALS = 5  # Stop random sampling after N_STARTUP_TRIALS\n",
    "N_EVALUATIONS = 2  # Number of evaluations during the training\n",
    "N_TIMESTEPS = 2000  # Training budget\n",
    "EVAL_FREQ = int(N_TIMESTEPS / N_EVALUATIONS)\n",
    "N_EVAL_ENVS = 12\n",
    "N_EVAL_EPISODES = 10\n",
    "TIMEOUT = int(30 * 100)  # 120 minutes\n",
    "\n",
    "DEFAULT_HYPERPARAMS = {\n",
    "    \"policy\": \"MlpPolicy\",\n",
    "    \"env\": gcse,\n",
    "    \"tensorboard_log\": \"/home/rstudio/logs\"\n",
    "}"
   ]
  },
  {
   "cell_type": "markdown",
   "id": "1e1620fb-1ff0-4002-af8d-83b001ecad57",
   "metadata": {},
   "source": [
    "### Define Search Space"
   ]
  },
  {
   "cell_type": "code",
   "execution_count": 5,
   "id": "22e39ca4-6c33-4903-af89-d6f3b8968ffa",
   "metadata": {},
   "outputs": [],
   "source": [
    "from typing import Any, Dict\n",
    "\n",
    "import optuna\n",
    "from stable_baselines3.common.noise import NormalActionNoise, OrnsteinUhlenbeckActionNoise\n",
    "from torch import nn as nn\n",
    "import gym\n",
    "from rl_zoo3 import linear_schedule\n",
    "from collections.abc import Callable\n",
    "\n",
    "def sample_ppo_params(trial: optuna.Trial, n_actions: int, n_envs: int, additional_args: dict) -> Dict[str, Any]:\n",
    "    \"\"\"\n",
    "    Sampler for PPO hyperparams.\n",
    "\n",
    "    :param trial:\n",
    "    :return:\n",
    "    \"\"\"\n",
    "    batch_size = trial.suggest_categorical(\"batch_size\", [8, 16, 32, 64, 128, 256, 512])\n",
    "    n_steps = trial.suggest_categorical(\"n_steps\", [8, 16, 32, 64, 128, 256, 512, 1024, 2048])\n",
    "    gamma = trial.suggest_categorical(\"gamma\", [0.9, 0.95, 0.98, 0.99, 0.995, 0.999, 0.9999])\n",
    "    learning_rate = trial.suggest_float(\"learning_rate\", 1e-5, 0.1, log=True)\n",
    "    ent_coef = trial.suggest_float(\"ent_coef\", 0.00000001, 0.1, log=True)\n",
    "    clip_range = trial.suggest_categorical(\"clip_range\", [0.1, 0.2, 0.3, 0.4])\n",
    "    n_epochs = trial.suggest_categorical(\"n_epochs\", [1, 5, 10, 20])\n",
    "    gae_lambda = trial.suggest_categorical(\"gae_lambda\", [0.8, 0.9, 0.92, 0.95, 0.98, 0.99, 1.0])\n",
    "    max_grad_norm = trial.suggest_categorical(\"max_grad_norm\", [0.3, 0.5, 0.6, 0.7, 0.8, 0.9, 1, 2, 5])\n",
    "    vf_coef = trial.suggest_float(\"vf_coef\", 0, 1)\n",
    "    net_arch_type = trial.suggest_categorical(\"net_arch\", [\"tiny\", \"small\", \"medium\"])\n",
    "    # Uncomment for gSDE (continuous actions)\n",
    "    # log_std_init = trial.suggest_float(\"log_std_init\", -4, 1)\n",
    "    # Uncomment for gSDE (continuous action)\n",
    "    # sde_sample_freq = trial.suggest_categorical(\"sde_sample_freq\", [-1, 8, 16, 32, 64, 128, 256])\n",
    "    # Orthogonal initialization\n",
    "    ortho_init = False\n",
    "    # ortho_init = trial.suggest_categorical('ortho_init', [False, True])\n",
    "    # activation_fn = trial.suggest_categorical('activation_fn', ['tanh', 'relu', 'elu', 'leaky_relu'])\n",
    "    activation_fn_name = trial.suggest_categorical(\"activation_fn\", [\"tanh\", \"relu\"])\n",
    "    # lr_schedule = \"constant\"\n",
    "    # Uncomment to enable learning rate schedule\n",
    "    # lr_schedule = trial.suggest_categorical('lr_schedule', ['linear', 'constant'])\n",
    "    # if lr_schedule == \"linear\":\n",
    "    #     learning_rate = linear_schedule(learning_rate)\n",
    "\n",
    "    # TODO: account when using multiple envs\n",
    "    if batch_size > n_steps:\n",
    "        batch_size = n_steps\n",
    "\n",
    "    # Independent networks usually work best\n",
    "    # when not working with images\n",
    "    net_arch = {\n",
    "        \"tiny\": dict(pi=[64], vf=[64]),\n",
    "        \"small\": dict(pi=[64, 64], vf=[64, 64]),\n",
    "        \"medium\": dict(pi=[256, 256], vf=[256, 256]),\n",
    "    }[net_arch_type]\n",
    "\n",
    "    activation_fn = {\"tanh\": nn.Tanh, \"relu\": nn.ReLU, \"elu\": nn.ELU, \"leaky_relu\": nn.LeakyReLU}[activation_fn_name]\n",
    "    return {\n",
    "        \"n_steps\": n_steps,\n",
    "        \"batch_size\": batch_size,\n",
    "        \"gamma\": gamma,\n",
    "        \"learning_rate\": learning_rate,\n",
    "        \"ent_coef\": ent_coef,\n",
    "        \"clip_range\": clip_range,\n",
    "        \"n_epochs\": n_epochs,\n",
    "        \"gae_lambda\": gae_lambda,\n",
    "        \"max_grad_norm\": max_grad_norm,\n",
    "        \"vf_coef\": vf_coef,\n",
    "        # \"sde_sample_freq\": sde_sample_freq,\n",
    "        \"policy_kwargs\": dict(\n",
    "            # log_std_init=log_std_init,\n",
    "            net_arch=net_arch,\n",
    "            activation_fn=activation_fn,\n",
    "            ortho_init=ortho_init,\n",
    "        ),\n",
    "    }"
   ]
  },
  {
   "cell_type": "markdown",
   "id": "26718558-3129-4707-b2ab-07b4133743e8",
   "metadata": {},
   "source": [
    "### TD3 parameter"
   ]
  },
  {
   "cell_type": "code",
   "execution_count": 327,
   "id": "434300f1-4aa3-4bd3-8342-0e23a895da43",
   "metadata": {},
   "outputs": [],
   "source": [
    "def sample_td3_params(trial: optuna.Trial, n_actions: int, n_envs: int, additional_args: dict) -> Dict[str, Any]:\n",
    "    \"\"\"\n",
    "    Sampler for TD3 hyperparams.\n",
    "\n",
    "    :param trial:\n",
    "    :return:\n",
    "    \"\"\"\n",
    "    gamma = trial.suggest_categorical(\"gamma\", [0.9, 0.95, 0.98, 0.99, 0.995, 0.999, 0.9999])\n",
    "    #learning_rate = trial.suggest_float(\"learning_rate\", 1e-5, 1, log=True)\n",
    "    learning_rate = trial.suggest_float(\"learning_rate\", 1e-5, 0.1, log=True)\n",
    "    batch_size = trial.suggest_categorical(\"batch_size\", [16, 32, 64, 100, 128, 256, 512, 1024, 2048])\n",
    "    buffer_size = trial.suggest_categorical(\"buffer_size\", [int(1e4), int(1e5), int(1e6)])\n",
    "    # Polyak coeff\n",
    "    tau = trial.suggest_categorical(\"tau\", [0.001, 0.005, 0.01, 0.02, 0.05, 0.08])\n",
    "\n",
    "    train_freq = trial.suggest_categorical(\"train_freq\", [1, 4, 8, 16, 32, 64, 128, 256, 512])\n",
    "    gradient_steps = train_freq\n",
    "\n",
    "    noise_type = trial.suggest_categorical(\"noise_type\", [\"ornstein-uhlenbeck\", \"normal\", None])\n",
    "    noise_std = trial.suggest_float(\"noise_std\", 0, 1)\n",
    "\n",
    "    # NOTE: Add \"verybig\" to net_arch when tuning HER\n",
    "    net_arch_type = trial.suggest_categorical(\"net_arch\", [\"small\", \"medium\", \"big\"])\n",
    "    # activation_fn = trial.suggest_categorical('activation_fn', [nn.Tanh, nn.ReLU, nn.ELU, nn.LeakyReLU])\n",
    "\n",
    "    net_arch = {\n",
    "        \"small\": [64, 64],\n",
    "        \"medium\": [256, 256],\n",
    "        \"big\": [400, 300],\n",
    "        # Uncomment for tuning HER\n",
    "        # \"verybig\": [256, 256, 256],\n",
    "    }[net_arch_type]\n",
    "\n",
    "    hyperparams = {\n",
    "        \"gamma\": gamma,\n",
    "        \"learning_rate\": learning_rate,\n",
    "        \"batch_size\": batch_size,\n",
    "        \"buffer_size\": buffer_size,\n",
    "        \"train_freq\": train_freq,\n",
    "        \"gradient_steps\": gradient_steps,\n",
    "        \"policy_kwargs\": dict(net_arch=net_arch),\n",
    "        \"tau\": tau,\n",
    "    }\n",
    "\n",
    "    \"\"\"if noise_type == \"normal\":\n",
    "        hyperparams[\"action_noise\"] = NormalActionNoise(mean=np.zeros(n_actions), sigma=noise_std * np.ones(n_actions))\n",
    "    elif noise_type == \"ornstein-uhlenbeck\":\n",
    "        hyperparams[\"action_noise\"] = OrnsteinUhlenbeckActionNoise(\n",
    "            mean=np.zeros(n_actions), sigma=noise_std * np.ones(n_actions)\n",
    "        )\"\"\"\n",
    "\n",
    "    \"\"\"if additional_args[\"using_her_replay_buffer\"]:\n",
    "        hyperparams = sample_her_params(trial, hyperparams, additional_args[\"her_kwargs\"])\"\"\"\n",
    "\n",
    "    return hyperparams"
   ]
  },
  {
   "cell_type": "markdown",
   "id": "8ec54bc7-7f69-4072-9f48-e841a75957a9",
   "metadata": {},
   "source": [
    "### TQC parameter"
   ]
  },
  {
   "cell_type": "code",
   "execution_count": 326,
   "id": "a665729c-8497-4f4b-813f-382a3f5c51c7",
   "metadata": {},
   "outputs": [],
   "source": [
    "def sample_sac_params(trial: optuna.Trial, n_actions: int, n_envs: int, additional_args: dict) -> Dict[str, Any]:\n",
    "    \"\"\"\n",
    "    Sampler for SAC hyperparams.\n",
    "\n",
    "    :param trial:\n",
    "    :return:\n",
    "    \"\"\"\n",
    "    gamma = trial.suggest_categorical(\"gamma\", [0.9, 0.95, 0.98, 0.99, 0.995, 0.999, 0.9999])\n",
    "    #learning_rate = trial.suggest_float(\"learning_rate\", 1e-5, 1, log=True)\n",
    "    learning_rate = trial.suggest_float(\"learning_rate\", 1e-5, 0.1, log=True)\n",
    "    batch_size = trial.suggest_categorical(\"batch_size\", [16, 32, 64, 128, 256, 512, 1024, 2048])\n",
    "    buffer_size = trial.suggest_categorical(\"buffer_size\", [int(1e4), int(1e5), int(1e6)])\n",
    "    learning_starts = trial.suggest_categorical(\"learning_starts\", [0, 1000, 10000, 20000])\n",
    "    # train_freq = trial.suggest_categorical('train_freq', [1, 10, 100, 300])\n",
    "    train_freq = trial.suggest_categorical(\"train_freq\", [1, 4, 8, 16, 32, 64, 128, 256, 512])\n",
    "    # Polyak coeff\n",
    "    tau = trial.suggest_categorical(\"tau\", [0.001, 0.005, 0.01, 0.02, 0.05, 0.08])\n",
    "    # gradient_steps takes too much time\n",
    "    # gradient_steps = trial.suggest_categorical('gradient_steps', [1, 100, 300])\n",
    "    gradient_steps = train_freq\n",
    "    # ent_coef = trial.suggest_categorical('ent_coef', ['auto', 0.5, 0.1, 0.05, 0.01, 0.0001])\n",
    "    ent_coef = \"auto\"\n",
    "    # You can comment that out when not using gSDE\n",
    "    log_std_init = trial.suggest_float(\"log_std_init\", -4, 1)\n",
    "    # NOTE: Add \"verybig\" to net_arch when tuning HER\n",
    "    net_arch_type = trial.suggest_categorical(\"net_arch\", [\"small\", \"medium\", \"big\"])\n",
    "    # activation_fn = trial.suggest_categorical('activation_fn', [nn.Tanh, nn.ReLU, nn.ELU, nn.LeakyReLU])\n",
    "\n",
    "    net_arch = {\n",
    "        \"small\": [64, 64],\n",
    "        \"medium\": [256, 256],\n",
    "        \"big\": [400, 300],\n",
    "        # Uncomment for tuning HER\n",
    "        # \"large\": [256, 256, 256],\n",
    "        # \"verybig\": [512, 512, 512],\n",
    "    }[net_arch_type]\n",
    "\n",
    "    target_entropy = \"auto\"\n",
    "    # if ent_coef == 'auto':\n",
    "    #     # target_entropy = trial.suggest_categorical('target_entropy', ['auto', 5, 1, 0, -1, -5, -10, -20, -50])\n",
    "    #     target_entropy = trial.suggest_float('target_entropy', -10, 10)\n",
    "\n",
    "    hyperparams = {\n",
    "        \"gamma\": gamma,\n",
    "        \"learning_rate\": learning_rate,\n",
    "        \"batch_size\": batch_size,\n",
    "        \"buffer_size\": buffer_size,\n",
    "        \"learning_starts\": learning_starts,\n",
    "        \"train_freq\": train_freq,\n",
    "        \"gradient_steps\": gradient_steps,\n",
    "        \"ent_coef\": ent_coef,\n",
    "        \"tau\": tau,\n",
    "        \"target_entropy\": target_entropy,\n",
    "        \"policy_kwargs\": dict(log_std_init=log_std_init, net_arch=net_arch),\n",
    "    }\n",
    "\n",
    "    \"\"\"if additional_args[\"using_her_replay_buffer\"]:\n",
    "        hyperparams = sample_her_params(trial, hyperparams, additional_args[\"her_kwargs\"])\"\"\"\n",
    "\n",
    "    return hyperparams"
   ]
  },
  {
   "cell_type": "code",
   "execution_count": 252,
   "id": "bd6a87c9-661c-44ea-8b9b-923a1993a62f",
   "metadata": {},
   "outputs": [],
   "source": [
    "def sample_tqc_params(trial: optuna.Trial, n_actions: int, n_envs: int, additional_args: dict) -> Dict[str, Any]:\n",
    "    \"\"\"\n",
    "    Sampler for TQC hyperparams.\n",
    "\n",
    "    :param trial:\n",
    "    :return:\n",
    "    \"\"\"\n",
    "    # TQC is SAC + Distributional RL\n",
    "    hyperparams = sample_sac_params(trial, n_actions, n_envs, additional_args)\n",
    "\n",
    "    n_quantiles = trial.suggest_int(\"n_quantiles\", 5, 50)\n",
    "    top_quantiles_to_drop_per_net = trial.suggest_int(\"top_quantiles_to_drop_per_net\", 0, n_quantiles - 1)\n",
    "\n",
    "    hyperparams[\"policy_kwargs\"].update({\"n_quantiles\": n_quantiles})\n",
    "    hyperparams[\"top_quantiles_to_drop_per_net\"] = top_quantiles_to_drop_per_net\n",
    "\n",
    "    return hyperparams"
   ]
  },
  {
   "cell_type": "markdown",
   "id": "8a5e27c7-c218-4c76-9745-37bff06fb6ba",
   "metadata": {},
   "source": [
    "### define objective function"
   ]
  },
  {
   "cell_type": "code",
   "execution_count": 325,
   "id": "90558335-7048-4674-a0e1-30c5eb6d8a43",
   "metadata": {},
   "outputs": [],
   "source": [
    "from stable_baselines3.common.callbacks import EvalCallback\n",
    "\n",
    "class TrialEvalCallback(EvalCallback):\n",
    "    \"\"\"\n",
    "    Callback used for evaluating and reporting a trial.\n",
    "    \n",
    "    :param eval_env: Evaluation environement\n",
    "    :param trial: Optuna trial object\n",
    "    :param n_eval_episodes: Number of evaluation episodes\n",
    "    :param eval_freq:   Evaluate the agent every ``eval_freq`` call of the callback.\n",
    "    :param deterministic: Whether the evaluation should\n",
    "        use a stochastic or deterministic policy.\n",
    "    :param verbose:\n",
    "    \"\"\"\n",
    "\n",
    "    def __init__(\n",
    "        self,\n",
    "        eval_env: gym.Env,\n",
    "        trial: optuna.Trial,\n",
    "        n_eval_episodes: int = 5,\n",
    "        eval_freq: int = 10000,\n",
    "        deterministic: bool = True,\n",
    "        verbose: int = 0,\n",
    "    ):\n",
    "\n",
    "        super().__init__(\n",
    "            eval_env=eval_env,\n",
    "            n_eval_episodes=n_eval_episodes,\n",
    "            eval_freq=eval_freq,\n",
    "            deterministic=deterministic,\n",
    "            verbose=verbose,\n",
    "        )\n",
    "        self.trial = trial\n",
    "        self.eval_idx = 0\n",
    "        self.is_pruned = False\n",
    "\n",
    "    def _on_step(self) -> bool:\n",
    "        if self.eval_freq > 0 and self.n_calls % self.eval_freq == 0:\n",
    "            # Evaluate policy (done in the parent class)\n",
    "            super()._on_step()\n",
    "            self.eval_idx += 1\n",
    "            # Send report to Optuna\n",
    "            self.trial.report(self.last_mean_reward, self.eval_idx)\n",
    "            # Prune trial if need\n",
    "            if self.trial.should_prune():\n",
    "                self.is_pruned = True\n",
    "                return False\n",
    "        return True"
   ]
  },
  {
   "cell_type": "code",
   "execution_count": 254,
   "id": "e78b801f-babb-482a-899e-b91421baa2e9",
   "metadata": {},
   "outputs": [],
   "source": [
    "# objective function for PPO only\n",
    "def objective(trial: optuna.Trial) -> float:\n",
    "    \"\"\"\n",
    "    Objective function using by Optuna to evaluate\n",
    "    one configuration (i.e., one set of hyperparameters).\n",
    "\n",
    "    Given a trial object, it will sample hyperparameters,\n",
    "    evaluate it and report the result (mean episodic reward after training)\n",
    "\n",
    "    :param trial: Optuna trial object\n",
    "    :return: Mean episodic reward after training\n",
    "    \"\"\"\n",
    "\n",
    "    kwargs = DEFAULT_HYPERPARAMS.copy() \n",
    "    ### YOUR CODE HERE\n",
    "    # TODO: \n",
    "    # 1. Sample hyperparameters and update the default keyword arguments: `kwargs.update(other_params)`\n",
    "    # 2. Create the evaluation envs\n",
    "    # 3. Create the `TrialEvalCallback`\n",
    "\n",
    "    # 1. Sample hyperparameters and update the keyword arguments\n",
    "    kwargs.update(sample_ppo_params(trial,N_EVAL_ENVS))\n",
    "    # Create the RL model\n",
    "    model = PPO(**kwargs)\n",
    "\n",
    "    # 2. Create envs used for evaluation using `make_vec_env`, `ENV_ID` and `N_EVAL_ENVS`\n",
    "    eval_env = greenCrabSimplifiedEnv()\n",
    "    # 3. Create the `TrialEvalCallback` callback defined above that will periodically evaluate\n",
    "    # and report the performance using `N_EVAL_EPISODES` every `EVAL_FREQ`\n",
    "    # TrialEvalCallback signature:\n",
    "    # TrialEvalCallback(eval_env, trial, n_eval_episodes, eval_freq, deterministic, verbose)\n",
    "    eval_callback = TrialEvalCallback(eval_env, trial, N_EVAL_EPISODES, EVAL_FREQ, deterministic=True)\n",
    "\n",
    "    ### END OF YOUR CODE\n",
    "\n",
    "    nan_encountered = False\n",
    "    try:\n",
    "        # Train the model\n",
    "        model.learn(N_TIMESTEPS, callback=eval_callback)\n",
    "    except AssertionError as e:\n",
    "        # Sometimes, random hyperparams can generate NaN\n",
    "        print(e)\n",
    "        nan_encountered = True\n",
    "    finally:\n",
    "        # Free memory\n",
    "        model.env.close()\n",
    "        vec_env.close()\n",
    "\n",
    "    # Tell the optimizer that the trial failed\n",
    "    if nan_encountered:\n",
    "        return float(\"nan\")\n",
    "\n",
    "    if eval_callback.is_pruned:\n",
    "        raise optuna.exceptions.TrialPruned()\n",
    "\n",
    "    return eval_callback.last_mean_reward"
   ]
  },
  {
   "cell_type": "code",
   "execution_count": 334,
   "id": "d4adf0ec-5464-4921-b134-01f2d96df3ac",
   "metadata": {},
   "outputs": [],
   "source": [
    "# objective all models\n",
    "def objective_flex(model_parameter, model_train):\n",
    "    \"\"\"\n",
    "    Objective function using by Optuna to evaluate\n",
    "    one configuration (i.e., one set of hyperparameters).\n",
    "\n",
    "    Given a trial object, it will sample hyperparameters,\n",
    "    evaluate it and report the result (mean episodic reward after training)\n",
    "\n",
    "    :param trial: Optuna trial object\n",
    "    :return: Mean episodic reward after training\n",
    "    \"\"\"\n",
    "    def objective_final(trial: optuna.Trial)->float:\n",
    "        kwargs = DEFAULT_HYPERPARAMS.copy() \n",
    "        ### YOUR CODE HERE\n",
    "        # TODO: \n",
    "        # 1. Sample hyperparameters and update the default keyword arguments: `kwargs.update(other_params)`\n",
    "        # 2. Create the evaluation envs\n",
    "        # 3. Create the `TrialEvalCallback`\n",
    "    \n",
    "        # 1. Sample hyperparameters and update the keyword arguments\n",
    "        kwargs.update(model_parameter(trial,N_EVAL_ENVS,1,None))\n",
    "        # Create the RL model\n",
    "        model = model_train(**kwargs)\n",
    "    \n",
    "        # 2. Create envs used for evaluation using `make_vec_env`, `ENV_ID` and `N_EVAL_ENVS`\n",
    "        eval_env = greenCrabSimplifiedEnv()\n",
    "        # 3. Create the `TrialEvalCallback` callback defined above that will periodically evaluate\n",
    "        # and report the performance using `N_EVAL_EPISODES` every `EVAL_FREQ`\n",
    "        # TrialEvalCallback signature:\n",
    "        # TrialEvalCallback(eval_env, trial, n_eval_episodes, eval_freq, deterministic, verbose)\n",
    "        eval_callback = TrialEvalCallback(eval_env, trial, N_EVAL_EPISODES, EVAL_FREQ, deterministic=True)\n",
    "    \n",
    "        ### END OF YOUR CODE\n",
    "    \n",
    "        nan_encountered = False\n",
    "        try:\n",
    "            # Train the model\n",
    "            model.learn(N_TIMESTEPS, callback=eval_callback)\n",
    "        except (AssertionError,ValueError) as e:\n",
    "            # Sometimes, random hyperparams can generate NaN\n",
    "            print(e)\n",
    "            nan_encountered = True\n",
    "        finally:\n",
    "            # Check if the current trial has the best accuracy\n",
    "            if trial.number >= 2:\n",
    "                if eval_callback.last_mean_reward > study.best_trial.value:\n",
    "                    print(\"save the current best model\")\n",
    "                    # model.save(\"tunning_best_gcse\") # save the trained best model\n",
    "            # Free memory\n",
    "            model.env.close()\n",
    "            vec_env.close()\n",
    "    \n",
    "        # Tell the optimizer that the trial failed\n",
    "        if nan_encountered:\n",
    "            return optuna.exceptions.TrialPruned()\n",
    "    \n",
    "        if eval_callback.is_pruned:\n",
    "            raise optuna.exceptions.TrialPruned()\n",
    "            \n",
    "        return eval_callback.last_mean_reward\n",
    "    return objective_final"
   ]
  },
  {
   "cell_type": "code",
   "execution_count": 335,
   "id": "34054bac-0b9d-4ebc-95e6-b9622668f035",
   "metadata": {},
   "outputs": [],
   "source": [
    "objective_PPO = objective_flex(sample_ppo_params, PPO)\n",
    "objective_TD3 = objective_flex(sample_td3_params, TD3)\n",
    "objective_TQC = objective_flex(sample_tqc_params, TQC)"
   ]
  },
  {
   "cell_type": "code",
   "execution_count": 336,
   "id": "7e9b49ce-91f6-41fc-8fee-75210fa161e2",
   "metadata": {},
   "outputs": [
    {
     "name": "stderr",
     "output_type": "stream",
     "text": [
      "[I 2024-06-27 08:11:59,450] A new study created in memory with name: no-name-94593a38-5fb9-46bb-b675-80bbcc3c119f\n",
      "[I 2024-06-27 08:12:12,349] Trial 0 finished with value: -3275.1096488952635 and parameters: {'gamma': 0.98, 'learning_rate': 2.4272462242392767e-05, 'batch_size': 100, 'buffer_size': 100000, 'tau': 0.005, 'train_freq': 64, 'noise_type': None, 'noise_std': 0.018733588504100895, 'net_arch': 'small'}. Best is trial 0 with value: -3275.1096488952635.\n",
      "[I 2024-06-27 08:12:26,177] Trial 1 finished with value: -345.6443332731724 and parameters: {'gamma': 0.995, 'learning_rate': 0.00026328047134950084, 'batch_size': 1024, 'buffer_size': 100000, 'tau': 0.005, 'train_freq': 1, 'noise_type': 'ornstein-uhlenbeck', 'noise_std': 0.43020164664616944, 'net_arch': 'medium'}. Best is trial 1 with value: -345.6443332731724.\n",
      "[I 2024-06-27 08:12:37,561] Trial 2 finished with value: -253.90891904020683 and parameters: {'gamma': 0.9999, 'learning_rate': 0.00022704343271217207, 'batch_size': 16, 'buffer_size': 100000, 'tau': 0.08, 'train_freq': 8, 'noise_type': None, 'noise_std': 0.84112262317676, 'net_arch': 'small'}. Best is trial 2 with value: -253.90891904020683.\n"
     ]
    },
    {
     "name": "stdout",
     "output_type": "stream",
     "text": [
      "save the current best model\n"
     ]
    },
    {
     "name": "stderr",
     "output_type": "stream",
     "text": [
      "[I 2024-06-27 08:12:50,373] Trial 3 finished with value: -4997.853528594971 and parameters: {'gamma': 0.995, 'learning_rate': 2.3168748830889226e-05, 'batch_size': 1024, 'buffer_size': 10000, 'tau': 0.08, 'train_freq': 256, 'noise_type': 'normal', 'noise_std': 0.33376209655776845, 'net_arch': 'big'}. Best is trial 2 with value: -253.90891904020683.\n",
      "[I 2024-06-27 08:13:01,544] Trial 4 finished with value: -345.06874655485154 and parameters: {'gamma': 0.9999, 'learning_rate': 0.0019358888408996398, 'batch_size': 64, 'buffer_size': 1000000, 'tau': 0.01, 'train_freq': 4, 'noise_type': 'ornstein-uhlenbeck', 'noise_std': 0.5864589918418349, 'net_arch': 'medium'}. Best is trial 2 with value: -253.90891904020683.\n",
      "[I 2024-06-27 08:13:13,801] Trial 5 pruned. \n",
      "[I 2024-06-27 08:13:20,024] Trial 6 pruned. \n",
      "[I 2024-06-27 08:13:33,485] Trial 7 finished with value: -252.83541314793985 and parameters: {'gamma': 0.9, 'learning_rate': 0.066005864227354, 'batch_size': 512, 'buffer_size': 1000000, 'tau': 0.02, 'train_freq': 128, 'noise_type': 'normal', 'noise_std': 0.7322559894173697, 'net_arch': 'big'}. Best is trial 7 with value: -252.83541314793985.\n"
     ]
    },
    {
     "name": "stdout",
     "output_type": "stream",
     "text": [
      "save the current best model\n"
     ]
    },
    {
     "name": "stderr",
     "output_type": "stream",
     "text": [
      "[I 2024-06-27 08:13:39,744] Trial 8 pruned. \n",
      "[I 2024-06-27 08:13:52,616] Trial 9 finished with value: -252.85110940700397 and parameters: {'gamma': 0.9, 'learning_rate': 0.007404516938672579, 'batch_size': 512, 'buffer_size': 1000000, 'tau': 0.02, 'train_freq': 32, 'noise_type': 'normal', 'noise_std': 0.15667996421110852, 'net_arch': 'big'}. Best is trial 7 with value: -252.83541314793985.\n",
      "[I 2024-06-27 08:13:57,177] Trial 10 pruned. \n",
      "[I 2024-06-27 08:14:03,349] Trial 11 pruned. \n",
      "[I 2024-06-27 08:14:15,795] Trial 12 finished with value: -252.90281955052632 and parameters: {'gamma': 0.9, 'learning_rate': 0.01446185808444912, 'batch_size': 512, 'buffer_size': 1000000, 'tau': 0.001, 'train_freq': 128, 'noise_type': 'normal', 'noise_std': 0.27046678279021413, 'net_arch': 'big'}. Best is trial 7 with value: -252.83541314793985.\n",
      "[I 2024-06-27 08:14:21,901] Trial 13 pruned. \n",
      "[I 2024-06-27 08:14:27,968] Trial 14 pruned. \n"
     ]
    },
    {
     "name": "stdout",
     "output_type": "stream",
     "text": [
      "Number of finished trials:  15\n",
      "Best trial:\n",
      "  Value: -252.83541314793985\n",
      "  Params: \n",
      "    gamma: 0.9\n",
      "    learning_rate: 0.066005864227354\n",
      "    batch_size: 512\n",
      "    buffer_size: 1000000\n",
      "    tau: 0.02\n",
      "    train_freq: 128\n",
      "    noise_type: normal\n",
      "    noise_std: 0.7322559894173697\n",
      "    net_arch: big\n",
      "  User attrs:\n"
     ]
    },
    {
     "data": {
      "application/vnd.plotly.v1+json": {
       "config": {
        "plotlyServerURL": "https://plot.ly"
       },
       "data": [
        {
         "mode": "markers",
         "name": "Objective Value",
         "type": "scatter",
         "x": [
          0,
          1,
          2,
          3,
          4,
          7,
          9,
          12
         ],
         "y": [
          -3275.1096488952635,
          -345.6443332731724,
          -253.90891904020683,
          -4997.853528594971,
          -345.06874655485154,
          -252.83541314793985,
          -252.85110940700397,
          -252.90281955052632
         ]
        },
        {
         "mode": "lines",
         "name": "Best Value",
         "type": "scatter",
         "x": [
          0,
          1,
          2,
          3,
          4,
          5,
          6,
          7,
          8,
          9,
          10,
          11,
          12,
          13,
          14
         ],
         "y": [
          -3275.1096488952635,
          -345.6443332731724,
          -253.90891904020683,
          -253.90891904020683,
          -253.90891904020683,
          -253.90891904020683,
          -253.90891904020683,
          -252.83541314793985,
          -252.83541314793985,
          -252.83541314793985,
          -252.83541314793985,
          -252.83541314793985,
          -252.83541314793985,
          -252.83541314793985,
          -252.83541314793985
         ]
        },
        {
         "marker": {
          "color": "#cccccc"
         },
         "mode": "markers",
         "name": "Infeasible Trial",
         "showlegend": false,
         "type": "scatter",
         "x": [],
         "y": []
        }
       ],
       "layout": {
        "autosize": true,
        "template": {
         "data": {
          "bar": [
           {
            "error_x": {
             "color": "#2a3f5f"
            },
            "error_y": {
             "color": "#2a3f5f"
            },
            "marker": {
             "line": {
              "color": "#E5ECF6",
              "width": 0.5
             },
             "pattern": {
              "fillmode": "overlay",
              "size": 10,
              "solidity": 0.2
             }
            },
            "type": "bar"
           }
          ],
          "barpolar": [
           {
            "marker": {
             "line": {
              "color": "#E5ECF6",
              "width": 0.5
             },
             "pattern": {
              "fillmode": "overlay",
              "size": 10,
              "solidity": 0.2
             }
            },
            "type": "barpolar"
           }
          ],
          "carpet": [
           {
            "aaxis": {
             "endlinecolor": "#2a3f5f",
             "gridcolor": "white",
             "linecolor": "white",
             "minorgridcolor": "white",
             "startlinecolor": "#2a3f5f"
            },
            "baxis": {
             "endlinecolor": "#2a3f5f",
             "gridcolor": "white",
             "linecolor": "white",
             "minorgridcolor": "white",
             "startlinecolor": "#2a3f5f"
            },
            "type": "carpet"
           }
          ],
          "choropleth": [
           {
            "colorbar": {
             "outlinewidth": 0,
             "ticks": ""
            },
            "type": "choropleth"
           }
          ],
          "contour": [
           {
            "colorbar": {
             "outlinewidth": 0,
             "ticks": ""
            },
            "colorscale": [
             [
              0,
              "#0d0887"
             ],
             [
              0.1111111111111111,
              "#46039f"
             ],
             [
              0.2222222222222222,
              "#7201a8"
             ],
             [
              0.3333333333333333,
              "#9c179e"
             ],
             [
              0.4444444444444444,
              "#bd3786"
             ],
             [
              0.5555555555555556,
              "#d8576b"
             ],
             [
              0.6666666666666666,
              "#ed7953"
             ],
             [
              0.7777777777777778,
              "#fb9f3a"
             ],
             [
              0.8888888888888888,
              "#fdca26"
             ],
             [
              1,
              "#f0f921"
             ]
            ],
            "type": "contour"
           }
          ],
          "contourcarpet": [
           {
            "colorbar": {
             "outlinewidth": 0,
             "ticks": ""
            },
            "type": "contourcarpet"
           }
          ],
          "heatmap": [
           {
            "colorbar": {
             "outlinewidth": 0,
             "ticks": ""
            },
            "colorscale": [
             [
              0,
              "#0d0887"
             ],
             [
              0.1111111111111111,
              "#46039f"
             ],
             [
              0.2222222222222222,
              "#7201a8"
             ],
             [
              0.3333333333333333,
              "#9c179e"
             ],
             [
              0.4444444444444444,
              "#bd3786"
             ],
             [
              0.5555555555555556,
              "#d8576b"
             ],
             [
              0.6666666666666666,
              "#ed7953"
             ],
             [
              0.7777777777777778,
              "#fb9f3a"
             ],
             [
              0.8888888888888888,
              "#fdca26"
             ],
             [
              1,
              "#f0f921"
             ]
            ],
            "type": "heatmap"
           }
          ],
          "heatmapgl": [
           {
            "colorbar": {
             "outlinewidth": 0,
             "ticks": ""
            },
            "colorscale": [
             [
              0,
              "#0d0887"
             ],
             [
              0.1111111111111111,
              "#46039f"
             ],
             [
              0.2222222222222222,
              "#7201a8"
             ],
             [
              0.3333333333333333,
              "#9c179e"
             ],
             [
              0.4444444444444444,
              "#bd3786"
             ],
             [
              0.5555555555555556,
              "#d8576b"
             ],
             [
              0.6666666666666666,
              "#ed7953"
             ],
             [
              0.7777777777777778,
              "#fb9f3a"
             ],
             [
              0.8888888888888888,
              "#fdca26"
             ],
             [
              1,
              "#f0f921"
             ]
            ],
            "type": "heatmapgl"
           }
          ],
          "histogram": [
           {
            "marker": {
             "pattern": {
              "fillmode": "overlay",
              "size": 10,
              "solidity": 0.2
             }
            },
            "type": "histogram"
           }
          ],
          "histogram2d": [
           {
            "colorbar": {
             "outlinewidth": 0,
             "ticks": ""
            },
            "colorscale": [
             [
              0,
              "#0d0887"
             ],
             [
              0.1111111111111111,
              "#46039f"
             ],
             [
              0.2222222222222222,
              "#7201a8"
             ],
             [
              0.3333333333333333,
              "#9c179e"
             ],
             [
              0.4444444444444444,
              "#bd3786"
             ],
             [
              0.5555555555555556,
              "#d8576b"
             ],
             [
              0.6666666666666666,
              "#ed7953"
             ],
             [
              0.7777777777777778,
              "#fb9f3a"
             ],
             [
              0.8888888888888888,
              "#fdca26"
             ],
             [
              1,
              "#f0f921"
             ]
            ],
            "type": "histogram2d"
           }
          ],
          "histogram2dcontour": [
           {
            "colorbar": {
             "outlinewidth": 0,
             "ticks": ""
            },
            "colorscale": [
             [
              0,
              "#0d0887"
             ],
             [
              0.1111111111111111,
              "#46039f"
             ],
             [
              0.2222222222222222,
              "#7201a8"
             ],
             [
              0.3333333333333333,
              "#9c179e"
             ],
             [
              0.4444444444444444,
              "#bd3786"
             ],
             [
              0.5555555555555556,
              "#d8576b"
             ],
             [
              0.6666666666666666,
              "#ed7953"
             ],
             [
              0.7777777777777778,
              "#fb9f3a"
             ],
             [
              0.8888888888888888,
              "#fdca26"
             ],
             [
              1,
              "#f0f921"
             ]
            ],
            "type": "histogram2dcontour"
           }
          ],
          "mesh3d": [
           {
            "colorbar": {
             "outlinewidth": 0,
             "ticks": ""
            },
            "type": "mesh3d"
           }
          ],
          "parcoords": [
           {
            "line": {
             "colorbar": {
              "outlinewidth": 0,
              "ticks": ""
             }
            },
            "type": "parcoords"
           }
          ],
          "pie": [
           {
            "automargin": true,
            "type": "pie"
           }
          ],
          "scatter": [
           {
            "fillpattern": {
             "fillmode": "overlay",
             "size": 10,
             "solidity": 0.2
            },
            "type": "scatter"
           }
          ],
          "scatter3d": [
           {
            "line": {
             "colorbar": {
              "outlinewidth": 0,
              "ticks": ""
             }
            },
            "marker": {
             "colorbar": {
              "outlinewidth": 0,
              "ticks": ""
             }
            },
            "type": "scatter3d"
           }
          ],
          "scattercarpet": [
           {
            "marker": {
             "colorbar": {
              "outlinewidth": 0,
              "ticks": ""
             }
            },
            "type": "scattercarpet"
           }
          ],
          "scattergeo": [
           {
            "marker": {
             "colorbar": {
              "outlinewidth": 0,
              "ticks": ""
             }
            },
            "type": "scattergeo"
           }
          ],
          "scattergl": [
           {
            "marker": {
             "colorbar": {
              "outlinewidth": 0,
              "ticks": ""
             }
            },
            "type": "scattergl"
           }
          ],
          "scattermapbox": [
           {
            "marker": {
             "colorbar": {
              "outlinewidth": 0,
              "ticks": ""
             }
            },
            "type": "scattermapbox"
           }
          ],
          "scatterpolar": [
           {
            "marker": {
             "colorbar": {
              "outlinewidth": 0,
              "ticks": ""
             }
            },
            "type": "scatterpolar"
           }
          ],
          "scatterpolargl": [
           {
            "marker": {
             "colorbar": {
              "outlinewidth": 0,
              "ticks": ""
             }
            },
            "type": "scatterpolargl"
           }
          ],
          "scatterternary": [
           {
            "marker": {
             "colorbar": {
              "outlinewidth": 0,
              "ticks": ""
             }
            },
            "type": "scatterternary"
           }
          ],
          "surface": [
           {
            "colorbar": {
             "outlinewidth": 0,
             "ticks": ""
            },
            "colorscale": [
             [
              0,
              "#0d0887"
             ],
             [
              0.1111111111111111,
              "#46039f"
             ],
             [
              0.2222222222222222,
              "#7201a8"
             ],
             [
              0.3333333333333333,
              "#9c179e"
             ],
             [
              0.4444444444444444,
              "#bd3786"
             ],
             [
              0.5555555555555556,
              "#d8576b"
             ],
             [
              0.6666666666666666,
              "#ed7953"
             ],
             [
              0.7777777777777778,
              "#fb9f3a"
             ],
             [
              0.8888888888888888,
              "#fdca26"
             ],
             [
              1,
              "#f0f921"
             ]
            ],
            "type": "surface"
           }
          ],
          "table": [
           {
            "cells": {
             "fill": {
              "color": "#EBF0F8"
             },
             "line": {
              "color": "white"
             }
            },
            "header": {
             "fill": {
              "color": "#C8D4E3"
             },
             "line": {
              "color": "white"
             }
            },
            "type": "table"
           }
          ]
         },
         "layout": {
          "annotationdefaults": {
           "arrowcolor": "#2a3f5f",
           "arrowhead": 0,
           "arrowwidth": 1
          },
          "autotypenumbers": "strict",
          "coloraxis": {
           "colorbar": {
            "outlinewidth": 0,
            "ticks": ""
           }
          },
          "colorscale": {
           "diverging": [
            [
             0,
             "#8e0152"
            ],
            [
             0.1,
             "#c51b7d"
            ],
            [
             0.2,
             "#de77ae"
            ],
            [
             0.3,
             "#f1b6da"
            ],
            [
             0.4,
             "#fde0ef"
            ],
            [
             0.5,
             "#f7f7f7"
            ],
            [
             0.6,
             "#e6f5d0"
            ],
            [
             0.7,
             "#b8e186"
            ],
            [
             0.8,
             "#7fbc41"
            ],
            [
             0.9,
             "#4d9221"
            ],
            [
             1,
             "#276419"
            ]
           ],
           "sequential": [
            [
             0,
             "#0d0887"
            ],
            [
             0.1111111111111111,
             "#46039f"
            ],
            [
             0.2222222222222222,
             "#7201a8"
            ],
            [
             0.3333333333333333,
             "#9c179e"
            ],
            [
             0.4444444444444444,
             "#bd3786"
            ],
            [
             0.5555555555555556,
             "#d8576b"
            ],
            [
             0.6666666666666666,
             "#ed7953"
            ],
            [
             0.7777777777777778,
             "#fb9f3a"
            ],
            [
             0.8888888888888888,
             "#fdca26"
            ],
            [
             1,
             "#f0f921"
            ]
           ],
           "sequentialminus": [
            [
             0,
             "#0d0887"
            ],
            [
             0.1111111111111111,
             "#46039f"
            ],
            [
             0.2222222222222222,
             "#7201a8"
            ],
            [
             0.3333333333333333,
             "#9c179e"
            ],
            [
             0.4444444444444444,
             "#bd3786"
            ],
            [
             0.5555555555555556,
             "#d8576b"
            ],
            [
             0.6666666666666666,
             "#ed7953"
            ],
            [
             0.7777777777777778,
             "#fb9f3a"
            ],
            [
             0.8888888888888888,
             "#fdca26"
            ],
            [
             1,
             "#f0f921"
            ]
           ]
          },
          "colorway": [
           "#636efa",
           "#EF553B",
           "#00cc96",
           "#ab63fa",
           "#FFA15A",
           "#19d3f3",
           "#FF6692",
           "#B6E880",
           "#FF97FF",
           "#FECB52"
          ],
          "font": {
           "color": "#2a3f5f"
          },
          "geo": {
           "bgcolor": "white",
           "lakecolor": "white",
           "landcolor": "#E5ECF6",
           "showlakes": true,
           "showland": true,
           "subunitcolor": "white"
          },
          "hoverlabel": {
           "align": "left"
          },
          "hovermode": "closest",
          "mapbox": {
           "style": "light"
          },
          "paper_bgcolor": "white",
          "plot_bgcolor": "#E5ECF6",
          "polar": {
           "angularaxis": {
            "gridcolor": "white",
            "linecolor": "white",
            "ticks": ""
           },
           "bgcolor": "#E5ECF6",
           "radialaxis": {
            "gridcolor": "white",
            "linecolor": "white",
            "ticks": ""
           }
          },
          "scene": {
           "xaxis": {
            "backgroundcolor": "#E5ECF6",
            "gridcolor": "white",
            "gridwidth": 2,
            "linecolor": "white",
            "showbackground": true,
            "ticks": "",
            "zerolinecolor": "white"
           },
           "yaxis": {
            "backgroundcolor": "#E5ECF6",
            "gridcolor": "white",
            "gridwidth": 2,
            "linecolor": "white",
            "showbackground": true,
            "ticks": "",
            "zerolinecolor": "white"
           },
           "zaxis": {
            "backgroundcolor": "#E5ECF6",
            "gridcolor": "white",
            "gridwidth": 2,
            "linecolor": "white",
            "showbackground": true,
            "ticks": "",
            "zerolinecolor": "white"
           }
          },
          "shapedefaults": {
           "line": {
            "color": "#2a3f5f"
           }
          },
          "ternary": {
           "aaxis": {
            "gridcolor": "white",
            "linecolor": "white",
            "ticks": ""
           },
           "baxis": {
            "gridcolor": "white",
            "linecolor": "white",
            "ticks": ""
           },
           "bgcolor": "#E5ECF6",
           "caxis": {
            "gridcolor": "white",
            "linecolor": "white",
            "ticks": ""
           }
          },
          "title": {
           "x": 0.05
          },
          "xaxis": {
           "automargin": true,
           "gridcolor": "white",
           "linecolor": "white",
           "ticks": "",
           "title": {
            "standoff": 15
           },
           "zerolinecolor": "white",
           "zerolinewidth": 2
          },
          "yaxis": {
           "automargin": true,
           "gridcolor": "white",
           "linecolor": "white",
           "ticks": "",
           "title": {
            "standoff": 15
           },
           "zerolinecolor": "white",
           "zerolinewidth": 2
          }
         }
        },
        "title": {
         "text": "Optimization History Plot"
        },
        "xaxis": {
         "autorange": true,
         "range": [
          -0.8107529757924302,
          14
         ],
         "title": {
          "text": "Trial"
         },
         "type": "linear"
        },
        "yaxis": {
         "autorange": true,
         "range": [
          -5389.432693461959,
          138.74375171904813
         ],
         "title": {
          "text": "Objective Value"
         },
         "type": "linear"
        }
       }
      },
      "image/png": "[encoded data removed]",
      "text/html": [
       "<div>                            <div id=\"b22e7261-6e57-4ec5-b800-bf74ec9b339b\" class=\"plotly-graph-div\" style=\"height:525px; width:100%;\"></div>            <script type=\"text/javascript\">                require([\"plotly\"], function(Plotly) {                    window.PLOTLYENV=window.PLOTLYENV || {};                                    if (document.getElementById(\"b22e7261-6e57-4ec5-b800-bf74ec9b339b\")) {                    Plotly.newPlot(                        \"b22e7261-6e57-4ec5-b800-bf74ec9b339b\",                        [{\"mode\":\"markers\",\"name\":\"Objective Value\",\"x\":[0,1,2,3,4,7,9,12],\"y\":[-3275.1096488952635,-345.6443332731724,-253.90891904020683,-4997.853528594971,-345.06874655485154,-252.83541314793985,-252.85110940700397,-252.90281955052632],\"type\":\"scatter\"},{\"mode\":\"lines\",\"name\":\"Best Value\",\"x\":[0,1,2,3,4,5,6,7,8,9,10,11,12,13,14],\"y\":[-3275.1096488952635,-345.6443332731724,-253.90891904020683,-253.90891904020683,-253.90891904020683,-253.90891904020683,-253.90891904020683,-252.83541314793985,-252.83541314793985,-252.83541314793985,-252.83541314793985,-252.83541314793985,-252.83541314793985,-252.83541314793985,-252.83541314793985],\"type\":\"scatter\"},{\"marker\":{\"color\":\"#cccccc\"},\"mode\":\"markers\",\"name\":\"Infeasible Trial\",\"showlegend\":false,\"x\":[],\"y\":[],\"type\":\"scatter\"}],                        {\"title\":{\"text\":\"Optimization History Plot\"},\"xaxis\":{\"title\":{\"text\":\"Trial\"}},\"yaxis\":{\"title\":{\"text\":\"Objective Value\"}},\"template\":{\"data\":{\"histogram2dcontour\":[{\"type\":\"histogram2dcontour\",\"colorbar\":{\"outlinewidth\":0,\"ticks\":\"\"},\"colorscale\":[[0.0,\"#0d0887\"],[0.1111111111111111,\"#46039f\"],[0.2222222222222222,\"#7201a8\"],[0.3333333333333333,\"#9c179e\"],[0.4444444444444444,\"#bd3786\"],[0.5555555555555556,\"#d8576b\"],[0.6666666666666666,\"#ed7953\"],[0.7777777777777778,\"#fb9f3a\"],[0.8888888888888888,\"#fdca26\"],[1.0,\"#f0f921\"]]}],\"choropleth\":[{\"type\":\"choropleth\",\"colorbar\":{\"outlinewidth\":0,\"ticks\":\"\"}}],\"histogram2d\":[{\"type\":\"histogram2d\",\"colorbar\":{\"outlinewidth\":0,\"ticks\":\"\"},\"colorscale\":[[0.0,\"#0d0887\"],[0.1111111111111111,\"#46039f\"],[0.2222222222222222,\"#7201a8\"],[0.3333333333333333,\"#9c179e\"],[0.4444444444444444,\"#bd3786\"],[0.5555555555555556,\"#d8576b\"],[0.6666666666666666,\"#ed7953\"],[0.7777777777777778,\"#fb9f3a\"],[0.8888888888888888,\"#fdca26\"],[1.0,\"#f0f921\"]]}],\"heatmap\":[{\"type\":\"heatmap\",\"colorbar\":{\"outlinewidth\":0,\"ticks\":\"\"},\"colorscale\":[[0.0,\"#0d0887\"],[0.1111111111111111,\"#46039f\"],[0.2222222222222222,\"#7201a8\"],[0.3333333333333333,\"#9c179e\"],[0.4444444444444444,\"#bd3786\"],[0.5555555555555556,\"#d8576b\"],[0.6666666666666666,\"#ed7953\"],[0.7777777777777778,\"#fb9f3a\"],[0.8888888888888888,\"#fdca26\"],[1.0,\"#f0f921\"]]}],\"heatmapgl\":[{\"type\":\"heatmapgl\",\"colorbar\":{\"outlinewidth\":0,\"ticks\":\"\"},\"colorscale\":[[0.0,\"#0d0887\"],[0.1111111111111111,\"#46039f\"],[0.2222222222222222,\"#7201a8\"],[0.3333333333333333,\"#9c179e\"],[0.4444444444444444,\"#bd3786\"],[0.5555555555555556,\"#d8576b\"],[0.6666666666666666,\"#ed7953\"],[0.7777777777777778,\"#fb9f3a\"],[0.8888888888888888,\"#fdca26\"],[1.0,\"#f0f921\"]]}],\"contourcarpet\":[{\"type\":\"contourcarpet\",\"colorbar\":{\"outlinewidth\":0,\"ticks\":\"\"}}],\"contour\":[{\"type\":\"contour\",\"colorbar\":{\"outlinewidth\":0,\"ticks\":\"\"},\"colorscale\":[[0.0,\"#0d0887\"],[0.1111111111111111,\"#46039f\"],[0.2222222222222222,\"#7201a8\"],[0.3333333333333333,\"#9c179e\"],[0.4444444444444444,\"#bd3786\"],[0.5555555555555556,\"#d8576b\"],[0.6666666666666666,\"#ed7953\"],[0.7777777777777778,\"#fb9f3a\"],[0.8888888888888888,\"#fdca26\"],[1.0,\"#f0f921\"]]}],\"surface\":[{\"type\":\"surface\",\"colorbar\":{\"outlinewidth\":0,\"ticks\":\"\"},\"colorscale\":[[0.0,\"#0d0887\"],[0.1111111111111111,\"#46039f\"],[0.2222222222222222,\"#7201a8\"],[0.3333333333333333,\"#9c179e\"],[0.4444444444444444,\"#bd3786\"],[0.5555555555555556,\"#d8576b\"],[0.6666666666666666,\"#ed7953\"],[0.7777777777777778,\"#fb9f3a\"],[0.8888888888888888,\"#fdca26\"],[1.0,\"#f0f921\"]]}],\"mesh3d\":[{\"type\":\"mesh3d\",\"colorbar\":{\"outlinewidth\":0,\"ticks\":\"\"}}],\"scatter\":[{\"fillpattern\":{\"fillmode\":\"overlay\",\"size\":10,\"solidity\":0.2},\"type\":\"scatter\"}],\"parcoords\":[{\"type\":\"parcoords\",\"line\":{\"colorbar\":{\"outlinewidth\":0,\"ticks\":\"\"}}}],\"scatterpolargl\":[{\"type\":\"scatterpolargl\",\"marker\":{\"colorbar\":{\"outlinewidth\":0,\"ticks\":\"\"}}}],\"bar\":[{\"error_x\":{\"color\":\"#2a3f5f\"},\"error_y\":{\"color\":\"#2a3f5f\"},\"marker\":{\"line\":{\"color\":\"#E5ECF6\",\"width\":0.5},\"pattern\":{\"fillmode\":\"overlay\",\"size\":10,\"solidity\":0.2}},\"type\":\"bar\"}],\"scattergeo\":[{\"type\":\"scattergeo\",\"marker\":{\"colorbar\":{\"outlinewidth\":0,\"ticks\":\"\"}}}],\"scatterpolar\":[{\"type\":\"scatterpolar\",\"marker\":{\"colorbar\":{\"outlinewidth\":0,\"ticks\":\"\"}}}],\"histogram\":[{\"marker\":{\"pattern\":{\"fillmode\":\"overlay\",\"size\":10,\"solidity\":0.2}},\"type\":\"histogram\"}],\"scattergl\":[{\"type\":\"scattergl\",\"marker\":{\"colorbar\":{\"outlinewidth\":0,\"ticks\":\"\"}}}],\"scatter3d\":[{\"type\":\"scatter3d\",\"line\":{\"colorbar\":{\"outlinewidth\":0,\"ticks\":\"\"}},\"marker\":{\"colorbar\":{\"outlinewidth\":0,\"ticks\":\"\"}}}],\"scattermapbox\":[{\"type\":\"scattermapbox\",\"marker\":{\"colorbar\":{\"outlinewidth\":0,\"ticks\":\"\"}}}],\"scatterternary\":[{\"type\":\"scatterternary\",\"marker\":{\"colorbar\":{\"outlinewidth\":0,\"ticks\":\"\"}}}],\"scattercarpet\":[{\"type\":\"scattercarpet\",\"marker\":{\"colorbar\":{\"outlinewidth\":0,\"ticks\":\"\"}}}],\"carpet\":[{\"aaxis\":{\"endlinecolor\":\"#2a3f5f\",\"gridcolor\":\"white\",\"linecolor\":\"white\",\"minorgridcolor\":\"white\",\"startlinecolor\":\"#2a3f5f\"},\"baxis\":{\"endlinecolor\":\"#2a3f5f\",\"gridcolor\":\"white\",\"linecolor\":\"white\",\"minorgridcolor\":\"white\",\"startlinecolor\":\"#2a3f5f\"},\"type\":\"carpet\"}],\"table\":[{\"cells\":{\"fill\":{\"color\":\"#EBF0F8\"},\"line\":{\"color\":\"white\"}},\"header\":{\"fill\":{\"color\":\"#C8D4E3\"},\"line\":{\"color\":\"white\"}},\"type\":\"table\"}],\"barpolar\":[{\"marker\":{\"line\":{\"color\":\"#E5ECF6\",\"width\":0.5},\"pattern\":{\"fillmode\":\"overlay\",\"size\":10,\"solidity\":0.2}},\"type\":\"barpolar\"}],\"pie\":[{\"automargin\":true,\"type\":\"pie\"}]},\"layout\":{\"autotypenumbers\":\"strict\",\"colorway\":[\"#636efa\",\"#EF553B\",\"#00cc96\",\"#ab63fa\",\"#FFA15A\",\"#19d3f3\",\"#FF6692\",\"#B6E880\",\"#FF97FF\",\"#FECB52\"],\"font\":{\"color\":\"#2a3f5f\"},\"hovermode\":\"closest\",\"hoverlabel\":{\"align\":\"left\"},\"paper_bgcolor\":\"white\",\"plot_bgcolor\":\"#E5ECF6\",\"polar\":{\"bgcolor\":\"#E5ECF6\",\"angularaxis\":{\"gridcolor\":\"white\",\"linecolor\":\"white\",\"ticks\":\"\"},\"radialaxis\":{\"gridcolor\":\"white\",\"linecolor\":\"white\",\"ticks\":\"\"}},\"ternary\":{\"bgcolor\":\"#E5ECF6\",\"aaxis\":{\"gridcolor\":\"white\",\"linecolor\":\"white\",\"ticks\":\"\"},\"baxis\":{\"gridcolor\":\"white\",\"linecolor\":\"white\",\"ticks\":\"\"},\"caxis\":{\"gridcolor\":\"white\",\"linecolor\":\"white\",\"ticks\":\"\"}},\"coloraxis\":{\"colorbar\":{\"outlinewidth\":0,\"ticks\":\"\"}},\"colorscale\":{\"sequential\":[[0.0,\"#0d0887\"],[0.1111111111111111,\"#46039f\"],[0.2222222222222222,\"#7201a8\"],[0.3333333333333333,\"#9c179e\"],[0.4444444444444444,\"#bd3786\"],[0.5555555555555556,\"#d8576b\"],[0.6666666666666666,\"#ed7953\"],[0.7777777777777778,\"#fb9f3a\"],[0.8888888888888888,\"#fdca26\"],[1.0,\"#f0f921\"]],\"sequentialminus\":[[0.0,\"#0d0887\"],[0.1111111111111111,\"#46039f\"],[0.2222222222222222,\"#7201a8\"],[0.3333333333333333,\"#9c179e\"],[0.4444444444444444,\"#bd3786\"],[0.5555555555555556,\"#d8576b\"],[0.6666666666666666,\"#ed7953\"],[0.7777777777777778,\"#fb9f3a\"],[0.8888888888888888,\"#fdca26\"],[1.0,\"#f0f921\"]],\"diverging\":[[0,\"#8e0152\"],[0.1,\"#c51b7d\"],[0.2,\"#de77ae\"],[0.3,\"#f1b6da\"],[0.4,\"#fde0ef\"],[0.5,\"#f7f7f7\"],[0.6,\"#e6f5d0\"],[0.7,\"#b8e186\"],[0.8,\"#7fbc41\"],[0.9,\"#4d9221\"],[1,\"#276419\"]]},\"xaxis\":{\"gridcolor\":\"white\",\"linecolor\":\"white\",\"ticks\":\"\",\"title\":{\"standoff\":15},\"zerolinecolor\":\"white\",\"automargin\":true,\"zerolinewidth\":2},\"yaxis\":{\"gridcolor\":\"white\",\"linecolor\":\"white\",\"ticks\":\"\",\"title\":{\"standoff\":15},\"zerolinecolor\":\"white\",\"automargin\":true,\"zerolinewidth\":2},\"scene\":{\"xaxis\":{\"backgroundcolor\":\"#E5ECF6\",\"gridcolor\":\"white\",\"linecolor\":\"white\",\"showbackground\":true,\"ticks\":\"\",\"zerolinecolor\":\"white\",\"gridwidth\":2},\"yaxis\":{\"backgroundcolor\":\"#E5ECF6\",\"gridcolor\":\"white\",\"linecolor\":\"white\",\"showbackground\":true,\"ticks\":\"\",\"zerolinecolor\":\"white\",\"gridwidth\":2},\"zaxis\":{\"backgroundcolor\":\"#E5ECF6\",\"gridcolor\":\"white\",\"linecolor\":\"white\",\"showbackground\":true,\"ticks\":\"\",\"zerolinecolor\":\"white\",\"gridwidth\":2}},\"shapedefaults\":{\"line\":{\"color\":\"#2a3f5f\"}},\"annotationdefaults\":{\"arrowcolor\":\"#2a3f5f\",\"arrowhead\":0,\"arrowwidth\":1},\"geo\":{\"bgcolor\":\"white\",\"landcolor\":\"#E5ECF6\",\"subunitcolor\":\"white\",\"showland\":true,\"showlakes\":true,\"lakecolor\":\"white\"},\"title\":{\"x\":0.05},\"mapbox\":{\"style\":\"light\"}}}},                        {\"responsive\": true}                    ).then(function(){\n",
       "                            \n",
       "var gd = document.getElementById('b22e7261-6e57-4ec5-b800-bf74ec9b339b');\n",
       "var x = new MutationObserver(function (mutations, observer) {{\n",
       "        var display = window.getComputedStyle(gd).display;\n",
       "        if (!display || display === 'none') {{\n",
       "            console.log([gd, 'removed!']);\n",
       "            Plotly.purge(gd);\n",
       "            observer.disconnect();\n",
       "        }}\n",
       "}});\n",
       "\n",
       "// Listen for the removal of the full notebook cells\n",
       "var notebookContainer = gd.closest('#notebook-container');\n",
       "if (notebookContainer) {{\n",
       "    x.observe(notebookContainer, {childList: true});\n",
       "}}\n",
       "\n",
       "// Listen for the clearing of the current output cell\n",
       "var outputEl = gd.closest('.output');\n",
       "if (outputEl) {{\n",
       "    x.observe(outputEl, {childList: true});\n",
       "}}\n",
       "\n",
       "                        })                };                });            </script>        </div>"
      ]
     },
     "metadata": {},
     "output_type": "display_data"
    },
    {
     "data": {
      "application/vnd.plotly.v1+json": {
       "config": {
        "plotlyServerURL": "https://plot.ly"
       },
       "data": [
        {
         "cliponaxis": false,
         "hovertemplate": [
          "noise_std (FloatDistribution): 0.03323376509434894<extra></extra>",
          "tau (CategoricalDistribution): 0.03650294379397191<extra></extra>",
          "gamma (CategoricalDistribution): 0.04906198375674022<extra></extra>",
          "noise_type (CategoricalDistribution): 0.05581927405457456<extra></extra>",
          "batch_size (CategoricalDistribution): 0.058104651513104254<extra></extra>",
          "buffer_size (CategoricalDistribution): 0.0911645223147173<extra></extra>",
          "net_arch (CategoricalDistribution): 0.11008999441555166<extra></extra>",
          "train_freq (CategoricalDistribution): 0.12073594613519584<extra></extra>",
          "learning_rate (FloatDistribution): 0.4452869189217953<extra></extra>"
         ],
         "name": "Objective Value",
         "orientation": "h",
         "text": [
          "0.03",
          "0.04",
          "0.05",
          "0.06",
          "0.06",
          "0.09",
          "0.11",
          "0.12",
          "0.45"
         ],
         "textposition": "outside",
         "type": "bar",
         "x": [
          0.03323376509434894,
          0.03650294379397191,
          0.04906198375674022,
          0.05581927405457456,
          0.058104651513104254,
          0.0911645223147173,
          0.11008999441555166,
          0.12073594613519584,
          0.4452869189217953
         ],
         "y": [
          "noise_std",
          "tau",
          "gamma",
          "noise_type",
          "batch_size",
          "buffer_size",
          "net_arch",
          "train_freq",
          "learning_rate"
         ]
        }
       ],
       "layout": {
        "autosize": true,
        "template": {
         "data": {
          "bar": [
           {
            "error_x": {
             "color": "#2a3f5f"
            },
            "error_y": {
             "color": "#2a3f5f"
            },
            "marker": {
             "line": {
              "color": "#E5ECF6",
              "width": 0.5
             },
             "pattern": {
              "fillmode": "overlay",
              "size": 10,
              "solidity": 0.2
             }
            },
            "type": "bar"
           }
          ],
          "barpolar": [
           {
            "marker": {
             "line": {
              "color": "#E5ECF6",
              "width": 0.5
             },
             "pattern": {
              "fillmode": "overlay",
              "size": 10,
              "solidity": 0.2
             }
            },
            "type": "barpolar"
           }
          ],
          "carpet": [
           {
            "aaxis": {
             "endlinecolor": "#2a3f5f",
             "gridcolor": "white",
             "linecolor": "white",
             "minorgridcolor": "white",
             "startlinecolor": "#2a3f5f"
            },
            "baxis": {
             "endlinecolor": "#2a3f5f",
             "gridcolor": "white",
             "linecolor": "white",
             "minorgridcolor": "white",
             "startlinecolor": "#2a3f5f"
            },
            "type": "carpet"
           }
          ],
          "choropleth": [
           {
            "colorbar": {
             "outlinewidth": 0,
             "ticks": ""
            },
            "type": "choropleth"
           }
          ],
          "contour": [
           {
            "colorbar": {
             "outlinewidth": 0,
             "ticks": ""
            },
            "colorscale": [
             [
              0,
              "#0d0887"
             ],
             [
              0.1111111111111111,
              "#46039f"
             ],
             [
              0.2222222222222222,
              "#7201a8"
             ],
             [
              0.3333333333333333,
              "#9c179e"
             ],
             [
              0.4444444444444444,
              "#bd3786"
             ],
             [
              0.5555555555555556,
              "#d8576b"
             ],
             [
              0.6666666666666666,
              "#ed7953"
             ],
             [
              0.7777777777777778,
              "#fb9f3a"
             ],
             [
              0.8888888888888888,
              "#fdca26"
             ],
             [
              1,
              "#f0f921"
             ]
            ],
            "type": "contour"
           }
          ],
          "contourcarpet": [
           {
            "colorbar": {
             "outlinewidth": 0,
             "ticks": ""
            },
            "type": "contourcarpet"
           }
          ],
          "heatmap": [
           {
            "colorbar": {
             "outlinewidth": 0,
             "ticks": ""
            },
            "colorscale": [
             [
              0,
              "#0d0887"
             ],
             [
              0.1111111111111111,
              "#46039f"
             ],
             [
              0.2222222222222222,
              "#7201a8"
             ],
             [
              0.3333333333333333,
              "#9c179e"
             ],
             [
              0.4444444444444444,
              "#bd3786"
             ],
             [
              0.5555555555555556,
              "#d8576b"
             ],
             [
              0.6666666666666666,
              "#ed7953"
             ],
             [
              0.7777777777777778,
              "#fb9f3a"
             ],
             [
              0.8888888888888888,
              "#fdca26"
             ],
             [
              1,
              "#f0f921"
             ]
            ],
            "type": "heatmap"
           }
          ],
          "heatmapgl": [
           {
            "colorbar": {
             "outlinewidth": 0,
             "ticks": ""
            },
            "colorscale": [
             [
              0,
              "#0d0887"
             ],
             [
              0.1111111111111111,
              "#46039f"
             ],
             [
              0.2222222222222222,
              "#7201a8"
             ],
             [
              0.3333333333333333,
              "#9c179e"
             ],
             [
              0.4444444444444444,
              "#bd3786"
             ],
             [
              0.5555555555555556,
              "#d8576b"
             ],
             [
              0.6666666666666666,
              "#ed7953"
             ],
             [
              0.7777777777777778,
              "#fb9f3a"
             ],
             [
              0.8888888888888888,
              "#fdca26"
             ],
             [
              1,
              "#f0f921"
             ]
            ],
            "type": "heatmapgl"
           }
          ],
          "histogram": [
           {
            "marker": {
             "pattern": {
              "fillmode": "overlay",
              "size": 10,
              "solidity": 0.2
             }
            },
            "type": "histogram"
           }
          ],
          "histogram2d": [
           {
            "colorbar": {
             "outlinewidth": 0,
             "ticks": ""
            },
            "colorscale": [
             [
              0,
              "#0d0887"
             ],
             [
              0.1111111111111111,
              "#46039f"
             ],
             [
              0.2222222222222222,
              "#7201a8"
             ],
             [
              0.3333333333333333,
              "#9c179e"
             ],
             [
              0.4444444444444444,
              "#bd3786"
             ],
             [
              0.5555555555555556,
              "#d8576b"
             ],
             [
              0.6666666666666666,
              "#ed7953"
             ],
             [
              0.7777777777777778,
              "#fb9f3a"
             ],
             [
              0.8888888888888888,
              "#fdca26"
             ],
             [
              1,
              "#f0f921"
             ]
            ],
            "type": "histogram2d"
           }
          ],
          "histogram2dcontour": [
           {
            "colorbar": {
             "outlinewidth": 0,
             "ticks": ""
            },
            "colorscale": [
             [
              0,
              "#0d0887"
             ],
             [
              0.1111111111111111,
              "#46039f"
             ],
             [
              0.2222222222222222,
              "#7201a8"
             ],
             [
              0.3333333333333333,
              "#9c179e"
             ],
             [
              0.4444444444444444,
              "#bd3786"
             ],
             [
              0.5555555555555556,
              "#d8576b"
             ],
             [
              0.6666666666666666,
              "#ed7953"
             ],
             [
              0.7777777777777778,
              "#fb9f3a"
             ],
             [
              0.8888888888888888,
              "#fdca26"
             ],
             [
              1,
              "#f0f921"
             ]
            ],
            "type": "histogram2dcontour"
           }
          ],
          "mesh3d": [
           {
            "colorbar": {
             "outlinewidth": 0,
             "ticks": ""
            },
            "type": "mesh3d"
           }
          ],
          "parcoords": [
           {
            "line": {
             "colorbar": {
              "outlinewidth": 0,
              "ticks": ""
             }
            },
            "type": "parcoords"
           }
          ],
          "pie": [
           {
            "automargin": true,
            "type": "pie"
           }
          ],
          "scatter": [
           {
            "fillpattern": {
             "fillmode": "overlay",
             "size": 10,
             "solidity": 0.2
            },
            "type": "scatter"
           }
          ],
          "scatter3d": [
           {
            "line": {
             "colorbar": {
              "outlinewidth": 0,
              "ticks": ""
             }
            },
            "marker": {
             "colorbar": {
              "outlinewidth": 0,
              "ticks": ""
             }
            },
            "type": "scatter3d"
           }
          ],
          "scattercarpet": [
           {
            "marker": {
             "colorbar": {
              "outlinewidth": 0,
              "ticks": ""
             }
            },
            "type": "scattercarpet"
           }
          ],
          "scattergeo": [
           {
            "marker": {
             "colorbar": {
              "outlinewidth": 0,
              "ticks": ""
             }
            },
            "type": "scattergeo"
           }
          ],
          "scattergl": [
           {
            "marker": {
             "colorbar": {
              "outlinewidth": 0,
              "ticks": ""
             }
            },
            "type": "scattergl"
           }
          ],
          "scattermapbox": [
           {
            "marker": {
             "colorbar": {
              "outlinewidth": 0,
              "ticks": ""
             }
            },
            "type": "scattermapbox"
           }
          ],
          "scatterpolar": [
           {
            "marker": {
             "colorbar": {
              "outlinewidth": 0,
              "ticks": ""
             }
            },
            "type": "scatterpolar"
           }
          ],
          "scatterpolargl": [
           {
            "marker": {
             "colorbar": {
              "outlinewidth": 0,
              "ticks": ""
             }
            },
            "type": "scatterpolargl"
           }
          ],
          "scatterternary": [
           {
            "marker": {
             "colorbar": {
              "outlinewidth": 0,
              "ticks": ""
             }
            },
            "type": "scatterternary"
           }
          ],
          "surface": [
           {
            "colorbar": {
             "outlinewidth": 0,
             "ticks": ""
            },
            "colorscale": [
             [
              0,
              "#0d0887"
             ],
             [
              0.1111111111111111,
              "#46039f"
             ],
             [
              0.2222222222222222,
              "#7201a8"
             ],
             [
              0.3333333333333333,
              "#9c179e"
             ],
             [
              0.4444444444444444,
              "#bd3786"
             ],
             [
              0.5555555555555556,
              "#d8576b"
             ],
             [
              0.6666666666666666,
              "#ed7953"
             ],
             [
              0.7777777777777778,
              "#fb9f3a"
             ],
             [
              0.8888888888888888,
              "#fdca26"
             ],
             [
              1,
              "#f0f921"
             ]
            ],
            "type": "surface"
           }
          ],
          "table": [
           {
            "cells": {
             "fill": {
              "color": "#EBF0F8"
             },
             "line": {
              "color": "white"
             }
            },
            "header": {
             "fill": {
              "color": "#C8D4E3"
             },
             "line": {
              "color": "white"
             }
            },
            "type": "table"
           }
          ]
         },
         "layout": {
          "annotationdefaults": {
           "arrowcolor": "#2a3f5f",
           "arrowhead": 0,
           "arrowwidth": 1
          },
          "autotypenumbers": "strict",
          "coloraxis": {
           "colorbar": {
            "outlinewidth": 0,
            "ticks": ""
           }
          },
          "colorscale": {
           "diverging": [
            [
             0,
             "#8e0152"
            ],
            [
             0.1,
             "#c51b7d"
            ],
            [
             0.2,
             "#de77ae"
            ],
            [
             0.3,
             "#f1b6da"
            ],
            [
             0.4,
             "#fde0ef"
            ],
            [
             0.5,
             "#f7f7f7"
            ],
            [
             0.6,
             "#e6f5d0"
            ],
            [
             0.7,
             "#b8e186"
            ],
            [
             0.8,
             "#7fbc41"
            ],
            [
             0.9,
             "#4d9221"
            ],
            [
             1,
             "#276419"
            ]
           ],
           "sequential": [
            [
             0,
             "#0d0887"
            ],
            [
             0.1111111111111111,
             "#46039f"
            ],
            [
             0.2222222222222222,
             "#7201a8"
            ],
            [
             0.3333333333333333,
             "#9c179e"
            ],
            [
             0.4444444444444444,
             "#bd3786"
            ],
            [
             0.5555555555555556,
             "#d8576b"
            ],
            [
             0.6666666666666666,
             "#ed7953"
            ],
            [
             0.7777777777777778,
             "#fb9f3a"
            ],
            [
             0.8888888888888888,
             "#fdca26"
            ],
            [
             1,
             "#f0f921"
            ]
           ],
           "sequentialminus": [
            [
             0,
             "#0d0887"
            ],
            [
             0.1111111111111111,
             "#46039f"
            ],
            [
             0.2222222222222222,
             "#7201a8"
            ],
            [
             0.3333333333333333,
             "#9c179e"
            ],
            [
             0.4444444444444444,
             "#bd3786"
            ],
            [
             0.5555555555555556,
             "#d8576b"
            ],
            [
             0.6666666666666666,
             "#ed7953"
            ],
            [
             0.7777777777777778,
             "#fb9f3a"
            ],
            [
             0.8888888888888888,
             "#fdca26"
            ],
            [
             1,
             "#f0f921"
            ]
           ]
          },
          "colorway": [
           "#636efa",
           "#EF553B",
           "#00cc96",
           "#ab63fa",
           "#FFA15A",
           "#19d3f3",
           "#FF6692",
           "#B6E880",
           "#FF97FF",
           "#FECB52"
          ],
          "font": {
           "color": "#2a3f5f"
          },
          "geo": {
           "bgcolor": "white",
           "lakecolor": "white",
           "landcolor": "#E5ECF6",
           "showlakes": true,
           "showland": true,
           "subunitcolor": "white"
          },
          "hoverlabel": {
           "align": "left"
          },
          "hovermode": "closest",
          "mapbox": {
           "style": "light"
          },
          "paper_bgcolor": "white",
          "plot_bgcolor": "#E5ECF6",
          "polar": {
           "angularaxis": {
            "gridcolor": "white",
            "linecolor": "white",
            "ticks": ""
           },
           "bgcolor": "#E5ECF6",
           "radialaxis": {
            "gridcolor": "white",
            "linecolor": "white",
            "ticks": ""
           }
          },
          "scene": {
           "xaxis": {
            "backgroundcolor": "#E5ECF6",
            "gridcolor": "white",
            "gridwidth": 2,
            "linecolor": "white",
            "showbackground": true,
            "ticks": "",
            "zerolinecolor": "white"
           },
           "yaxis": {
            "backgroundcolor": "#E5ECF6",
            "gridcolor": "white",
            "gridwidth": 2,
            "linecolor": "white",
            "showbackground": true,
            "ticks": "",
            "zerolinecolor": "white"
           },
           "zaxis": {
            "backgroundcolor": "#E5ECF6",
            "gridcolor": "white",
            "gridwidth": 2,
            "linecolor": "white",
            "showbackground": true,
            "ticks": "",
            "zerolinecolor": "white"
           }
          },
          "shapedefaults": {
           "line": {
            "color": "#2a3f5f"
           }
          },
          "ternary": {
           "aaxis": {
            "gridcolor": "white",
            "linecolor": "white",
            "ticks": ""
           },
           "baxis": {
            "gridcolor": "white",
            "linecolor": "white",
            "ticks": ""
           },
           "bgcolor": "#E5ECF6",
           "caxis": {
            "gridcolor": "white",
            "linecolor": "white",
            "ticks": ""
           }
          },
          "title": {
           "x": 0.05
          },
          "xaxis": {
           "automargin": true,
           "gridcolor": "white",
           "linecolor": "white",
           "ticks": "",
           "title": {
            "standoff": 15
           },
           "zerolinecolor": "white",
           "zerolinewidth": 2
          },
          "yaxis": {
           "automargin": true,
           "gridcolor": "white",
           "linecolor": "white",
           "ticks": "",
           "title": {
            "standoff": 15
           },
           "zerolinecolor": "white",
           "zerolinewidth": 2
          }
         }
        },
        "title": {
         "text": "Hyperparameter Importances"
        },
        "xaxis": {
         "autorange": true,
         "range": [
          0,
          0.4687230725492582
         ],
         "title": {
          "text": "Hyperparameter Importance"
         },
         "type": "linear"
        },
        "yaxis": {
         "autorange": true,
         "range": [
          -0.5,
          8.5
         ],
         "title": {
          "text": "Hyperparameter"
         },
         "type": "category"
        }
       }
      },
      "image/png": "[encoded data removed]",
      "text/html": [
       "<div>                            <div id=\"9c3fc7dc-e320-4dec-b75a-7728204414ab\" class=\"plotly-graph-div\" style=\"height:525px; width:100%;\"></div>            <script type=\"text/javascript\">                require([\"plotly\"], function(Plotly) {                    window.PLOTLYENV=window.PLOTLYENV || {};                                    if (document.getElementById(\"9c3fc7dc-e320-4dec-b75a-7728204414ab\")) {                    Plotly.newPlot(                        \"9c3fc7dc-e320-4dec-b75a-7728204414ab\",                        [{\"cliponaxis\":false,\"hovertemplate\":[\"noise_std (FloatDistribution): 0.03323376509434894\\u003cextra\\u003e\\u003c\\u002fextra\\u003e\",\"tau (CategoricalDistribution): 0.03650294379397191\\u003cextra\\u003e\\u003c\\u002fextra\\u003e\",\"gamma (CategoricalDistribution): 0.04906198375674022\\u003cextra\\u003e\\u003c\\u002fextra\\u003e\",\"noise_type (CategoricalDistribution): 0.05581927405457456\\u003cextra\\u003e\\u003c\\u002fextra\\u003e\",\"batch_size (CategoricalDistribution): 0.058104651513104254\\u003cextra\\u003e\\u003c\\u002fextra\\u003e\",\"buffer_size (CategoricalDistribution): 0.0911645223147173\\u003cextra\\u003e\\u003c\\u002fextra\\u003e\",\"net_arch (CategoricalDistribution): 0.11008999441555166\\u003cextra\\u003e\\u003c\\u002fextra\\u003e\",\"train_freq (CategoricalDistribution): 0.12073594613519584\\u003cextra\\u003e\\u003c\\u002fextra\\u003e\",\"learning_rate (FloatDistribution): 0.4452869189217953\\u003cextra\\u003e\\u003c\\u002fextra\\u003e\"],\"name\":\"Objective Value\",\"orientation\":\"h\",\"text\":[\"0.03\",\"0.04\",\"0.05\",\"0.06\",\"0.06\",\"0.09\",\"0.11\",\"0.12\",\"0.45\"],\"textposition\":\"outside\",\"x\":[0.03323376509434894,0.03650294379397191,0.04906198375674022,0.05581927405457456,0.058104651513104254,0.0911645223147173,0.11008999441555166,0.12073594613519584,0.4452869189217953],\"y\":[\"noise_std\",\"tau\",\"gamma\",\"noise_type\",\"batch_size\",\"buffer_size\",\"net_arch\",\"train_freq\",\"learning_rate\"],\"type\":\"bar\"}],                        {\"title\":{\"text\":\"Hyperparameter Importances\"},\"xaxis\":{\"title\":{\"text\":\"Hyperparameter Importance\"}},\"yaxis\":{\"title\":{\"text\":\"Hyperparameter\"}},\"template\":{\"data\":{\"histogram2dcontour\":[{\"type\":\"histogram2dcontour\",\"colorbar\":{\"outlinewidth\":0,\"ticks\":\"\"},\"colorscale\":[[0.0,\"#0d0887\"],[0.1111111111111111,\"#46039f\"],[0.2222222222222222,\"#7201a8\"],[0.3333333333333333,\"#9c179e\"],[0.4444444444444444,\"#bd3786\"],[0.5555555555555556,\"#d8576b\"],[0.6666666666666666,\"#ed7953\"],[0.7777777777777778,\"#fb9f3a\"],[0.8888888888888888,\"#fdca26\"],[1.0,\"#f0f921\"]]}],\"choropleth\":[{\"type\":\"choropleth\",\"colorbar\":{\"outlinewidth\":0,\"ticks\":\"\"}}],\"histogram2d\":[{\"type\":\"histogram2d\",\"colorbar\":{\"outlinewidth\":0,\"ticks\":\"\"},\"colorscale\":[[0.0,\"#0d0887\"],[0.1111111111111111,\"#46039f\"],[0.2222222222222222,\"#7201a8\"],[0.3333333333333333,\"#9c179e\"],[0.4444444444444444,\"#bd3786\"],[0.5555555555555556,\"#d8576b\"],[0.6666666666666666,\"#ed7953\"],[0.7777777777777778,\"#fb9f3a\"],[0.8888888888888888,\"#fdca26\"],[1.0,\"#f0f921\"]]}],\"heatmap\":[{\"type\":\"heatmap\",\"colorbar\":{\"outlinewidth\":0,\"ticks\":\"\"},\"colorscale\":[[0.0,\"#0d0887\"],[0.1111111111111111,\"#46039f\"],[0.2222222222222222,\"#7201a8\"],[0.3333333333333333,\"#9c179e\"],[0.4444444444444444,\"#bd3786\"],[0.5555555555555556,\"#d8576b\"],[0.6666666666666666,\"#ed7953\"],[0.7777777777777778,\"#fb9f3a\"],[0.8888888888888888,\"#fdca26\"],[1.0,\"#f0f921\"]]}],\"heatmapgl\":[{\"type\":\"heatmapgl\",\"colorbar\":{\"outlinewidth\":0,\"ticks\":\"\"},\"colorscale\":[[0.0,\"#0d0887\"],[0.1111111111111111,\"#46039f\"],[0.2222222222222222,\"#7201a8\"],[0.3333333333333333,\"#9c179e\"],[0.4444444444444444,\"#bd3786\"],[0.5555555555555556,\"#d8576b\"],[0.6666666666666666,\"#ed7953\"],[0.7777777777777778,\"#fb9f3a\"],[0.8888888888888888,\"#fdca26\"],[1.0,\"#f0f921\"]]}],\"contourcarpet\":[{\"type\":\"contourcarpet\",\"colorbar\":{\"outlinewidth\":0,\"ticks\":\"\"}}],\"contour\":[{\"type\":\"contour\",\"colorbar\":{\"outlinewidth\":0,\"ticks\":\"\"},\"colorscale\":[[0.0,\"#0d0887\"],[0.1111111111111111,\"#46039f\"],[0.2222222222222222,\"#7201a8\"],[0.3333333333333333,\"#9c179e\"],[0.4444444444444444,\"#bd3786\"],[0.5555555555555556,\"#d8576b\"],[0.6666666666666666,\"#ed7953\"],[0.7777777777777778,\"#fb9f3a\"],[0.8888888888888888,\"#fdca26\"],[1.0,\"#f0f921\"]]}],\"surface\":[{\"type\":\"surface\",\"colorbar\":{\"outlinewidth\":0,\"ticks\":\"\"},\"colorscale\":[[0.0,\"#0d0887\"],[0.1111111111111111,\"#46039f\"],[0.2222222222222222,\"#7201a8\"],[0.3333333333333333,\"#9c179e\"],[0.4444444444444444,\"#bd3786\"],[0.5555555555555556,\"#d8576b\"],[0.6666666666666666,\"#ed7953\"],[0.7777777777777778,\"#fb9f3a\"],[0.8888888888888888,\"#fdca26\"],[1.0,\"#f0f921\"]]}],\"mesh3d\":[{\"type\":\"mesh3d\",\"colorbar\":{\"outlinewidth\":0,\"ticks\":\"\"}}],\"scatter\":[{\"fillpattern\":{\"fillmode\":\"overlay\",\"size\":10,\"solidity\":0.2},\"type\":\"scatter\"}],\"parcoords\":[{\"type\":\"parcoords\",\"line\":{\"colorbar\":{\"outlinewidth\":0,\"ticks\":\"\"}}}],\"scatterpolargl\":[{\"type\":\"scatterpolargl\",\"marker\":{\"colorbar\":{\"outlinewidth\":0,\"ticks\":\"\"}}}],\"bar\":[{\"error_x\":{\"color\":\"#2a3f5f\"},\"error_y\":{\"color\":\"#2a3f5f\"},\"marker\":{\"line\":{\"color\":\"#E5ECF6\",\"width\":0.5},\"pattern\":{\"fillmode\":\"overlay\",\"size\":10,\"solidity\":0.2}},\"type\":\"bar\"}],\"scattergeo\":[{\"type\":\"scattergeo\",\"marker\":{\"colorbar\":{\"outlinewidth\":0,\"ticks\":\"\"}}}],\"scatterpolar\":[{\"type\":\"scatterpolar\",\"marker\":{\"colorbar\":{\"outlinewidth\":0,\"ticks\":\"\"}}}],\"histogram\":[{\"marker\":{\"pattern\":{\"fillmode\":\"overlay\",\"size\":10,\"solidity\":0.2}},\"type\":\"histogram\"}],\"scattergl\":[{\"type\":\"scattergl\",\"marker\":{\"colorbar\":{\"outlinewidth\":0,\"ticks\":\"\"}}}],\"scatter3d\":[{\"type\":\"scatter3d\",\"line\":{\"colorbar\":{\"outlinewidth\":0,\"ticks\":\"\"}},\"marker\":{\"colorbar\":{\"outlinewidth\":0,\"ticks\":\"\"}}}],\"scattermapbox\":[{\"type\":\"scattermapbox\",\"marker\":{\"colorbar\":{\"outlinewidth\":0,\"ticks\":\"\"}}}],\"scatterternary\":[{\"type\":\"scatterternary\",\"marker\":{\"colorbar\":{\"outlinewidth\":0,\"ticks\":\"\"}}}],\"scattercarpet\":[{\"type\":\"scattercarpet\",\"marker\":{\"colorbar\":{\"outlinewidth\":0,\"ticks\":\"\"}}}],\"carpet\":[{\"aaxis\":{\"endlinecolor\":\"#2a3f5f\",\"gridcolor\":\"white\",\"linecolor\":\"white\",\"minorgridcolor\":\"white\",\"startlinecolor\":\"#2a3f5f\"},\"baxis\":{\"endlinecolor\":\"#2a3f5f\",\"gridcolor\":\"white\",\"linecolor\":\"white\",\"minorgridcolor\":\"white\",\"startlinecolor\":\"#2a3f5f\"},\"type\":\"carpet\"}],\"table\":[{\"cells\":{\"fill\":{\"color\":\"#EBF0F8\"},\"line\":{\"color\":\"white\"}},\"header\":{\"fill\":{\"color\":\"#C8D4E3\"},\"line\":{\"color\":\"white\"}},\"type\":\"table\"}],\"barpolar\":[{\"marker\":{\"line\":{\"color\":\"#E5ECF6\",\"width\":0.5},\"pattern\":{\"fillmode\":\"overlay\",\"size\":10,\"solidity\":0.2}},\"type\":\"barpolar\"}],\"pie\":[{\"automargin\":true,\"type\":\"pie\"}]},\"layout\":{\"autotypenumbers\":\"strict\",\"colorway\":[\"#636efa\",\"#EF553B\",\"#00cc96\",\"#ab63fa\",\"#FFA15A\",\"#19d3f3\",\"#FF6692\",\"#B6E880\",\"#FF97FF\",\"#FECB52\"],\"font\":{\"color\":\"#2a3f5f\"},\"hovermode\":\"closest\",\"hoverlabel\":{\"align\":\"left\"},\"paper_bgcolor\":\"white\",\"plot_bgcolor\":\"#E5ECF6\",\"polar\":{\"bgcolor\":\"#E5ECF6\",\"angularaxis\":{\"gridcolor\":\"white\",\"linecolor\":\"white\",\"ticks\":\"\"},\"radialaxis\":{\"gridcolor\":\"white\",\"linecolor\":\"white\",\"ticks\":\"\"}},\"ternary\":{\"bgcolor\":\"#E5ECF6\",\"aaxis\":{\"gridcolor\":\"white\",\"linecolor\":\"white\",\"ticks\":\"\"},\"baxis\":{\"gridcolor\":\"white\",\"linecolor\":\"white\",\"ticks\":\"\"},\"caxis\":{\"gridcolor\":\"white\",\"linecolor\":\"white\",\"ticks\":\"\"}},\"coloraxis\":{\"colorbar\":{\"outlinewidth\":0,\"ticks\":\"\"}},\"colorscale\":{\"sequential\":[[0.0,\"#0d0887\"],[0.1111111111111111,\"#46039f\"],[0.2222222222222222,\"#7201a8\"],[0.3333333333333333,\"#9c179e\"],[0.4444444444444444,\"#bd3786\"],[0.5555555555555556,\"#d8576b\"],[0.6666666666666666,\"#ed7953\"],[0.7777777777777778,\"#fb9f3a\"],[0.8888888888888888,\"#fdca26\"],[1.0,\"#f0f921\"]],\"sequentialminus\":[[0.0,\"#0d0887\"],[0.1111111111111111,\"#46039f\"],[0.2222222222222222,\"#7201a8\"],[0.3333333333333333,\"#9c179e\"],[0.4444444444444444,\"#bd3786\"],[0.5555555555555556,\"#d8576b\"],[0.6666666666666666,\"#ed7953\"],[0.7777777777777778,\"#fb9f3a\"],[0.8888888888888888,\"#fdca26\"],[1.0,\"#f0f921\"]],\"diverging\":[[0,\"#8e0152\"],[0.1,\"#c51b7d\"],[0.2,\"#de77ae\"],[0.3,\"#f1b6da\"],[0.4,\"#fde0ef\"],[0.5,\"#f7f7f7\"],[0.6,\"#e6f5d0\"],[0.7,\"#b8e186\"],[0.8,\"#7fbc41\"],[0.9,\"#4d9221\"],[1,\"#276419\"]]},\"xaxis\":{\"gridcolor\":\"white\",\"linecolor\":\"white\",\"ticks\":\"\",\"title\":{\"standoff\":15},\"zerolinecolor\":\"white\",\"automargin\":true,\"zerolinewidth\":2},\"yaxis\":{\"gridcolor\":\"white\",\"linecolor\":\"white\",\"ticks\":\"\",\"title\":{\"standoff\":15},\"zerolinecolor\":\"white\",\"automargin\":true,\"zerolinewidth\":2},\"scene\":{\"xaxis\":{\"backgroundcolor\":\"#E5ECF6\",\"gridcolor\":\"white\",\"linecolor\":\"white\",\"showbackground\":true,\"ticks\":\"\",\"zerolinecolor\":\"white\",\"gridwidth\":2},\"yaxis\":{\"backgroundcolor\":\"#E5ECF6\",\"gridcolor\":\"white\",\"linecolor\":\"white\",\"showbackground\":true,\"ticks\":\"\",\"zerolinecolor\":\"white\",\"gridwidth\":2},\"zaxis\":{\"backgroundcolor\":\"#E5ECF6\",\"gridcolor\":\"white\",\"linecolor\":\"white\",\"showbackground\":true,\"ticks\":\"\",\"zerolinecolor\":\"white\",\"gridwidth\":2}},\"shapedefaults\":{\"line\":{\"color\":\"#2a3f5f\"}},\"annotationdefaults\":{\"arrowcolor\":\"#2a3f5f\",\"arrowhead\":0,\"arrowwidth\":1},\"geo\":{\"bgcolor\":\"white\",\"landcolor\":\"#E5ECF6\",\"subunitcolor\":\"white\",\"showland\":true,\"showlakes\":true,\"lakecolor\":\"white\"},\"title\":{\"x\":0.05},\"mapbox\":{\"style\":\"light\"}}}},                        {\"responsive\": true}                    ).then(function(){\n",
       "                            \n",
       "var gd = document.getElementById('9c3fc7dc-e320-4dec-b75a-7728204414ab');\n",
       "var x = new MutationObserver(function (mutations, observer) {{\n",
       "        var display = window.getComputedStyle(gd).display;\n",
       "        if (!display || display === 'none') {{\n",
       "            console.log([gd, 'removed!']);\n",
       "            Plotly.purge(gd);\n",
       "            observer.disconnect();\n",
       "        }}\n",
       "}});\n",
       "\n",
       "// Listen for the removal of the full notebook cells\n",
       "var notebookContainer = gd.closest('#notebook-container');\n",
       "if (notebookContainer) {{\n",
       "    x.observe(notebookContainer, {childList: true});\n",
       "}}\n",
       "\n",
       "// Listen for the clearing of the current output cell\n",
       "var outputEl = gd.closest('.output');\n",
       "if (outputEl) {{\n",
       "    x.observe(outputEl, {childList: true});\n",
       "}}\n",
       "\n",
       "                        })                };                });            </script>        </div>"
      ]
     },
     "metadata": {},
     "output_type": "display_data"
    }
   ],
   "source": [
    "import torch as th\n",
    "\n",
    "# Set pytorch num threads to 1 for faster training\n",
    "th.set_num_threads(1)\n",
    "# Select the sampler, can be random, TPESampler, CMAES, ...\n",
    "sampler = TPESampler(n_startup_trials=N_STARTUP_TRIALS)\n",
    "# Do not prune before 1/3 of the max budget is used\n",
    "pruner = MedianPruner(\n",
    "    n_startup_trials=N_STARTUP_TRIALS, n_warmup_steps=N_EVALUATIONS // 3\n",
    ")\n",
    "# Create the study and start the hyperparameter optimization\n",
    "study = optuna.create_study(sampler=sampler, pruner=pruner, direction=\"maximize\")\n",
    "\n",
    "try:\n",
    "    study.optimize(objective_TD3, n_trials=N_TRIALS, n_jobs=N_JOBS, timeout=TIMEOUT)\n",
    "except KeyboardInterrupt:\n",
    "    pass\n",
    "\n",
    "print(\"Number of finished trials: \", len(study.trials))\n",
    "\n",
    "print(\"Best trial:\")\n",
    "trial = study.best_trial\n",
    "\n",
    "print(f\"  Value: {trial.value}\")\n",
    "\n",
    "print(\"  Params: \")\n",
    "for key, value in trial.params.items():\n",
    "    print(f\"    {key}: {value}\")\n",
    "\n",
    "print(\"  User attrs:\")\n",
    "for key, value in trial.user_attrs.items():\n",
    "    print(f\"    {key}: {value}\")\n",
    "\n",
    "# Write report\n",
    "study.trials_dataframe().to_csv(\"study_results_a2c_cartpole.csv\")\n",
    "\n",
    "fig1 = plot_optimization_history(study)\n",
    "fig2 = plot_param_importances(study)\n",
    "\n",
    "fig1.show()\n",
    "fig2.show()"
   ]
  },
  {
   "cell_type": "markdown",
   "id": "8f1683f6-f8c0-4742-9343-bcbada85c9d1",
   "metadata": {},
   "source": [
    "### PPO"
   ]
  },
  {
   "cell_type": "code",
   "execution_count": 28,
   "id": "55fd8b5d-2391-4ced-bb33-7dd584b1b57f",
   "metadata": {},
   "outputs": [],
   "source": [
    "gcse = greenCrabSimplifiedEnv(config=config)\n",
    "vec_env = make_vec_env(greenCrabSimplifiedEnv, n_envs=12)"
   ]
  },
  {
   "cell_type": "code",
   "execution_count": 36,
   "id": "e7d2998a-b6a4-46c5-81c6-0bdfbd9f8aea",
   "metadata": {
    "scrolled": true
   },
   "outputs": [
    {
     "data": {
      "application/vnd.jupyter.widget-view+json": {
       "model_id": "53c208281e8c49bf946728ba5164e7cb",
       "version_major": 2,
       "version_minor": 0
      },
      "text/plain": [
       "Output()"
      ]
     },
     "metadata": {},
     "output_type": "display_data"
    },
    {
     "data": {
      "text/html": [
       "<pre style=\"white-space:pre;overflow-x:auto;line-height:normal;font-family:Menlo,'DejaVu Sans Mono',consolas,'Courier New',monospace\"></pre>\n"
      ],
      "text/plain": []
     },
     "metadata": {},
     "output_type": "display_data"
    },
    {
     "data": {
      "text/html": [
       "<pre style=\"white-space:pre;overflow-x:auto;line-height:normal;font-family:Menlo,'DejaVu Sans Mono',consolas,'Courier New',monospace\">\n",
       "</pre>\n"
      ],
      "text/plain": [
       "\n"
      ]
     },
     "metadata": {},
     "output_type": "display_data"
    }
   ],
   "source": [
    "#{'batch_size': 64, 'n_steps': 512, 'gamma': 0.9, 'learning_rate': 1.7981161785233295e-05, 'ent_coef': 1.706637615300967e-08, 'clip_range': 0.4, 'n_epochs': 20, 'gae_lambda': 0.8, 'max_grad_norm': 5, 'vf_coef': 0.7807332338047879, 'net_arch': 'tiny', 'activation_fn': 'tanh'}\n",
    "model = PPO(\"MlpPolicy\", vec_env, verbose=0, \n",
    "            batch_size =  64, \n",
    "            n_steps = 32, \n",
    "            gamma = 0.95, \n",
    "            learning_rate = 0.1447561168646137, \n",
    "            ent_coef = 7.676877009214456e-07, \n",
    "            clip_range =  0.1, \n",
    "            n_epochs = 20, \n",
    "            gae_lambda = 0.9, \n",
    "            max_grad_norm = 5, \n",
    "            vf_coef = 0.9694540149524578, \n",
    "            tensorboard_log=\"/home/rstudio/logs\")\n",
    "model.learn(\n",
    "\ttotal_timesteps=50000, \n",
    "\tprogress_bar=True,\n",
    ")\n",
    "model.save(\"ppo_gcse_short\")"
   ]
  },
  {
   "cell_type": "markdown",
   "id": "5dafd076-e6ca-425a-8e80-e92a572a66c9",
   "metadata": {},
   "source": [
    "### TD3"
   ]
  },
  {
   "cell_type": "code",
   "execution_count": 304,
   "id": "0ea4b4ce-89d9-4bfd-af99-615adec6f450",
   "metadata": {},
   "outputs": [
    {
     "data": {
      "application/vnd.jupyter.widget-view+json": {
       "model_id": "959b92b1c4d44ecdbc267463871d6f40",
       "version_major": 2,
       "version_minor": 0
      },
      "text/plain": [
       "Output()"
      ]
     },
     "metadata": {},
     "output_type": "display_data"
    },
    {
     "data": {
      "text/html": [
       "<pre style=\"white-space:pre;overflow-x:auto;line-height:normal;font-family:Menlo,'DejaVu Sans Mono',consolas,'Courier New',monospace\"></pre>\n"
      ],
      "text/plain": []
     },
     "metadata": {},
     "output_type": "display_data"
    },
    {
     "data": {
      "text/html": [
       "<pre style=\"white-space:pre;overflow-x:auto;line-height:normal;font-family:Menlo,'DejaVu Sans Mono',consolas,'Courier New',monospace\">\n",
       "</pre>\n"
      ],
      "text/plain": [
       "\n"
      ]
     },
     "metadata": {},
     "output_type": "display_data"
    }
   ],
   "source": [
    "model = TD3(\"MlpPolicy\", gcse, verbose=0, tensorboard_log=\"/home/rstudio/logs\")\n",
    "model.learn(\n",
    "\ttotal_timesteps=250_000, \n",
    "\tprogress_bar=True,\n",
    ")\n",
    "model.save(\"td3_gcse\")"
   ]
  },
  {
   "cell_type": "markdown",
   "id": "e2a535f2-9d6d-435d-9208-18270e97e6c4",
   "metadata": {},
   "source": [
    "### TQC"
   ]
  },
  {
   "cell_type": "code",
   "execution_count": 305,
   "id": "045e56c5-430c-4636-8ead-d18b76734d98",
   "metadata": {},
   "outputs": [
    {
     "data": {
      "application/vnd.jupyter.widget-view+json": {
       "model_id": "462e598444de4ee28fcabe9d9f18df8d",
       "version_major": 2,
       "version_minor": 0
      },
      "text/plain": [
       "Output()"
      ]
     },
     "metadata": {},
     "output_type": "display_data"
    },
    {
     "data": {
      "text/html": [
       "<pre style=\"white-space:pre;overflow-x:auto;line-height:normal;font-family:Menlo,'DejaVu Sans Mono',consolas,'Courier New',monospace\"></pre>\n"
      ],
      "text/plain": []
     },
     "metadata": {},
     "output_type": "display_data"
    },
    {
     "data": {
      "text/html": [
       "<pre style=\"white-space:pre;overflow-x:auto;line-height:normal;font-family:Menlo,'DejaVu Sans Mono',consolas,'Courier New',monospace\">\n",
       "</pre>\n"
      ],
      "text/plain": [
       "\n"
      ]
     },
     "metadata": {},
     "output_type": "display_data"
    }
   ],
   "source": [
    "model = TQC(\"MlpPolicy\", vec_env, verbose=0, tensorboard_log=\"/home/rstudio/logs\")\n",
    "model.learn(\n",
    "\ttotal_timesteps=250_000, \n",
    "\tprogress_bar=True,\n",
    ")\n",
    "model.save(\"tqc_gcse\")"
   ]
  },
  {
   "cell_type": "markdown",
   "id": "3e718653-7eb6-4143-9bf1-c027e157c777",
   "metadata": {},
   "source": [
    "## 3. Loading and evaluating RL algos\n",
    "---"
   ]
  },
  {
   "cell_type": "code",
   "execution_count": 27,
   "id": "c05df193-0c95-4cba-a983-b283a11c40dd",
   "metadata": {},
   "outputs": [],
   "source": [
    "# ppoAgent = PPO.load(\"tunning_best_gcse_ppo_config_1\")\n",
    "ppoAgent = PPO.load(\"ppo_gcse_short\")\n",
    "td3Agent = TD3.load(\"td3_gcse\")\n",
    "tqcAgent = TQC.load(\"./study_results/tunning_best_gcse_tqc_config_2\")\n",
    "tunningAgent_tqc = TQC.load(\"./study_results/tunning_best_gcse_tqc\")\n",
    "tunningAgent = TD3.load(\"./study_results/tunning_best_gcse\")\n",
    "evalEnv = greenCrabSimplifiedEnv(config=config)"
   ]
  },
  {
   "cell_type": "code",
   "execution_count": 25,
   "id": "69193b84-77f7-4a30-90f8-9dc8e7bc0587",
   "metadata": {},
   "outputs": [],
   "source": [
    "from stable_baselines3.common.evaluation import evaluate_policy"
   ]
  },
  {
   "cell_type": "markdown",
   "id": "df1fe7bb-c13f-49f6-b6aa-7384c3cc6523",
   "metadata": {},
   "source": [
    "### PPO"
   ]
  },
  {
   "cell_type": "code",
   "execution_count": 26,
   "id": "929ef021-264c-40d0-bcbb-ea4ddd5d8665",
   "metadata": {},
   "outputs": [
    {
     "name": "stdout",
     "output_type": "stream",
     "text": [
      "PPO reward = -252.93415 +/- 0.11315\n"
     ]
    }
   ],
   "source": [
    "mean_rew, std_rew = evaluate_policy(ppoAgent, evalEnv)\n",
    "print(f\"PPO reward = {mean_rew:.5f} +/- {std_rew:.5f}\")"
   ]
  },
  {
   "cell_type": "markdown",
   "id": "8c7fd846-3b10-47a4-8b66-a1a8f1e94386",
   "metadata": {},
   "source": [
    "### TD3"
   ]
  },
  {
   "cell_type": "code",
   "execution_count": 20,
   "id": "1e70e461-28ff-4eb2-aa3e-56cb2b1d2a41",
   "metadata": {},
   "outputs": [
    {
     "name": "stdout",
     "output_type": "stream",
     "text": [
      "TD3 reward = -97.85113 +/- 0.25894\n"
     ]
    }
   ],
   "source": [
    "mean_rew, std_rew = evaluate_policy(td3Agent, evalEnv)\n",
    "print(f\"TD3 reward = {mean_rew:.5f} +/- {std_rew:.5f}\")"
   ]
  },
  {
   "cell_type": "markdown",
   "id": "2888869e-f44a-4853-8ee5-0ddd41e319b9",
   "metadata": {},
   "source": [
    "### TQC"
   ]
  },
  {
   "cell_type": "code",
   "execution_count": 21,
   "id": "5e28caca-5d00-416f-86e6-b029a48bfe52",
   "metadata": {},
   "outputs": [
    {
     "name": "stdout",
     "output_type": "stream",
     "text": [
      "TQC reward = -0.00460 +/- 0.00010\n"
     ]
    }
   ],
   "source": [
    "mean_rew, std_rew = evaluate_policy(tqcAgent, evalEnv)\n",
    "print(f\"TQC reward = {mean_rew:.5f} +/- {std_rew:.5f}\")"
   ]
  },
  {
   "cell_type": "code",
   "execution_count": 22,
   "id": "22a36de6-7049-4669-a183-2130b36a8d3a",
   "metadata": {},
   "outputs": [
    {
     "name": "stdout",
     "output_type": "stream",
     "text": [
      "TD3 reward = -127.76286 +/- 0.49436\n"
     ]
    }
   ],
   "source": [
    "mean_rew, std_rew = evaluate_policy(tunningAgent, evalEnv)\n",
    "print(f\"TD3 reward = {mean_rew:.5f} +/- {std_rew:.5f}\")"
   ]
  },
  {
   "cell_type": "markdown",
   "id": "f20987ab-5214-4b57-ab25-99204ac78192",
   "metadata": {},
   "source": [
    "## 4. Timeseries of episodes\n",
    "---\n",
    "\n",
    "### PPO"
   ]
  },
  {
   "cell_type": "code",
   "execution_count": null,
   "id": "a2d99d64-fbd1-4b0a-8dfb-9579dd88e177",
   "metadata": {},
   "outputs": [],
   "source": [
    "??greenCrabSimplifiedEnv"
   ]
  },
  {
   "cell_type": "code",
   "execution_count": 40,
   "id": "26ee23da-3922-45ae-be32-3c65b97b2cf2",
   "metadata": {},
   "outputs": [
    {
     "data": {
      "text/plain": [
       "(array([-1., -1.], dtype=float32), -0.0012105823637123649, False, False, {})"
      ]
     },
     "execution_count": 40,
     "metadata": {},
     "output_type": "execute_result"
    }
   ],
   "source": [
    "evalEnv.init_n_adult = 100\n",
    "# evalEnv.reset()\n",
    "evalEnv.step(np.array([-1,-1,-1]))"
   ]
  },
  {
   "cell_type": "code",
   "execution_count": 7,
   "id": "1a03fd4a-1d84-4f77-9176-7aae151b7748",
   "metadata": {},
   "outputs": [
    {
     "data": {
      "text/plain": [
       "array([0., 0., 0., 0., 0., 0., 0., 0., 0., 0., 0., 0., 0., 0., 0., 0., 0.,\n",
       "       0., 0., 0., 0.])"
      ]
     },
     "execution_count": 7,
     "metadata": {},
     "output_type": "execute_result"
    }
   ],
   "source": [
    "evalEnv.state"
   ]
  },
  {
   "cell_type": "code",
   "execution_count": 23,
   "id": "ab8fafd8-02c9-49f1-af6a-35946648c848",
   "metadata": {},
   "outputs": [
    {
     "data": {
      "text/html": [
       "<div>\n",
       "<style scoped>\n",
       "    .dataframe tbody tr th:only-of-type {\n",
       "        vertical-align: middle;\n",
       "    }\n",
       "\n",
       "    .dataframe tbody tr th {\n",
       "        vertical-align: top;\n",
       "    }\n",
       "\n",
       "    .dataframe thead th {\n",
       "        text-align: right;\n",
       "    }\n",
       "</style>\n",
       "<table border=\"1\" class=\"dataframe\">\n",
       "  <thead>\n",
       "    <tr style=\"text-align: right;\">\n",
       "      <th></th>\n",
       "      <th>t</th>\n",
       "      <th>obs0</th>\n",
       "      <th>obs1</th>\n",
       "      <th>act0</th>\n",
       "      <th>act1</th>\n",
       "      <th>act2</th>\n",
       "      <th>rew</th>\n",
       "      <th>rep</th>\n",
       "    </tr>\n",
       "  </thead>\n",
       "  <tbody>\n",
       "    <tr>\n",
       "      <th>0</th>\n",
       "      <td>0</td>\n",
       "      <td>-1.0</td>\n",
       "      <td>-1.0</td>\n",
       "      <td>-1.0</td>\n",
       "      <td>-1.0</td>\n",
       "      <td>-1.0</td>\n",
       "      <td>0.000000e+00</td>\n",
       "      <td>0</td>\n",
       "    </tr>\n",
       "    <tr>\n",
       "      <th>1</th>\n",
       "      <td>1</td>\n",
       "      <td>-1.0</td>\n",
       "      <td>-1.0</td>\n",
       "      <td>-1.0</td>\n",
       "      <td>-1.0</td>\n",
       "      <td>-1.0</td>\n",
       "      <td>-1.010376e-10</td>\n",
       "      <td>0</td>\n",
       "    </tr>\n",
       "    <tr>\n",
       "      <th>2</th>\n",
       "      <td>2</td>\n",
       "      <td>-1.0</td>\n",
       "      <td>-1.0</td>\n",
       "      <td>-1.0</td>\n",
       "      <td>-1.0</td>\n",
       "      <td>-1.0</td>\n",
       "      <td>-6.997695e-10</td>\n",
       "      <td>0</td>\n",
       "    </tr>\n",
       "    <tr>\n",
       "      <th>3</th>\n",
       "      <td>3</td>\n",
       "      <td>-1.0</td>\n",
       "      <td>-1.0</td>\n",
       "      <td>-1.0</td>\n",
       "      <td>-1.0</td>\n",
       "      <td>-1.0</td>\n",
       "      <td>-7.173941e-09</td>\n",
       "      <td>0</td>\n",
       "    </tr>\n",
       "    <tr>\n",
       "      <th>4</th>\n",
       "      <td>4</td>\n",
       "      <td>-1.0</td>\n",
       "      <td>-1.0</td>\n",
       "      <td>-1.0</td>\n",
       "      <td>-1.0</td>\n",
       "      <td>-1.0</td>\n",
       "      <td>-1.469419e-07</td>\n",
       "      <td>0</td>\n",
       "    </tr>\n",
       "  </tbody>\n",
       "</table>\n",
       "</div>"
      ],
      "text/plain": [
       "   t  obs0  obs1  act0  act1  act2           rew  rep\n",
       "0  0  -1.0  -1.0  -1.0  -1.0  -1.0  0.000000e+00    0\n",
       "1  1  -1.0  -1.0  -1.0  -1.0  -1.0 -1.010376e-10    0\n",
       "2  2  -1.0  -1.0  -1.0  -1.0  -1.0 -6.997695e-10    0\n",
       "3  3  -1.0  -1.0  -1.0  -1.0  -1.0 -7.173941e-09    0\n",
       "4  4  -1.0  -1.0  -1.0  -1.0  -1.0 -1.469419e-07    0"
      ]
     },
     "execution_count": 23,
     "metadata": {},
     "output_type": "execute_result"
    }
   ],
   "source": [
    "ppoData = simulator(env = evalEnv, agent = ppoAgent).simulate_full_named_obs_acts()\n",
    "ppoDataDF = pd.DataFrame(ppoData)\n",
    "ppoDataDF.head()"
   ]
  },
  {
   "cell_type": "code",
   "execution_count": 399,
   "id": "5e1d7aa0-f331-4c09-b330-0eb6ed4ab884",
   "metadata": {},
   "outputs": [
    {
     "data": {
      "text/plain": [
       "1000"
      ]
     },
     "execution_count": 399,
     "metadata": {},
     "output_type": "execute_result"
    }
   ],
   "source": [
    "evalEvn"
   ]
  },
  {
   "cell_type": "code",
   "execution_count": 58,
   "id": "c27b2609-e98b-43b2-8370-3bef4982a3e4",
   "metadata": {},
   "outputs": [
    {
     "data": {
      "text/plain": [
       "<Axes: xlabel='t'>"
      ]
     },
     "execution_count": 58,
     "metadata": {},
     "output_type": "execute_result"
    },
    {
     "data": {
      "image/png": "[encoded data removed]",
      "text/plain": [
       "<Figure size 640x480 with 1 Axes>"
      ]
     },
     "metadata": {},
     "output_type": "display_data"
    }
   ],
   "source": [
    "ppoDataDF[ppoDataDF.rep == 0].plot(x='t', y =['obs0', 'obs1'])"
   ]
  },
  {
   "cell_type": "code",
   "execution_count": 59,
   "id": "56442cd3-f41d-4f4b-8c96-44e9e73ef0cb",
   "metadata": {},
   "outputs": [
    {
     "data": {
      "text/plain": [
       "<Axes: xlabel='t'>"
      ]
     },
     "execution_count": 59,
     "metadata": {},
     "output_type": "execute_result"
    },
    {
     "data": {
      "image/png": "[encoded data removed]",
      "text/plain": [
       "<Figure size 640x480 with 1 Axes>"
      ]
     },
     "metadata": {},
     "output_type": "display_data"
    }
   ],
   "source": [
    "ppoDataDF[ppoDataDF.rep == 0].plot(x='t', y =['act0', 'act1', 'act2'])"
   ]
  },
  {
   "cell_type": "markdown",
   "id": "8b883166-7471-41b1-9d09-c7bf69eebcfa",
   "metadata": {},
   "source": [
    "### TD3"
   ]
  },
  {
   "cell_type": "code",
   "execution_count": 13,
   "id": "d7b0bb92-d6ed-410c-99d0-73e22ec58acc",
   "metadata": {},
   "outputs": [
    {
     "data": {
      "text/html": [
       "<div>\n",
       "<style scoped>\n",
       "    .dataframe tbody tr th:only-of-type {\n",
       "        vertical-align: middle;\n",
       "    }\n",
       "\n",
       "    .dataframe tbody tr th {\n",
       "        vertical-align: top;\n",
       "    }\n",
       "\n",
       "    .dataframe thead th {\n",
       "        text-align: right;\n",
       "    }\n",
       "</style>\n",
       "<table border=\"1\" class=\"dataframe\">\n",
       "  <thead>\n",
       "    <tr style=\"text-align: right;\">\n",
       "      <th></th>\n",
       "      <th>t</th>\n",
       "      <th>obs0</th>\n",
       "      <th>obs1</th>\n",
       "      <th>act0</th>\n",
       "      <th>act1</th>\n",
       "      <th>act2</th>\n",
       "      <th>rew</th>\n",
       "      <th>rep</th>\n",
       "    </tr>\n",
       "  </thead>\n",
       "  <tbody>\n",
       "    <tr>\n",
       "      <th>0</th>\n",
       "      <td>0</td>\n",
       "      <td>-1.0</td>\n",
       "      <td>-1.0</td>\n",
       "      <td>-0.999901</td>\n",
       "      <td>-0.999737</td>\n",
       "      <td>-1.0</td>\n",
       "      <td>0.000000</td>\n",
       "      <td>0</td>\n",
       "    </tr>\n",
       "    <tr>\n",
       "      <th>1</th>\n",
       "      <td>1</td>\n",
       "      <td>-1.0</td>\n",
       "      <td>-1.0</td>\n",
       "      <td>-0.999901</td>\n",
       "      <td>-0.999737</td>\n",
       "      <td>-1.0</td>\n",
       "      <td>-0.001380</td>\n",
       "      <td>0</td>\n",
       "    </tr>\n",
       "    <tr>\n",
       "      <th>2</th>\n",
       "      <td>2</td>\n",
       "      <td>-1.0</td>\n",
       "      <td>-1.0</td>\n",
       "      <td>-0.999901</td>\n",
       "      <td>-0.999737</td>\n",
       "      <td>-1.0</td>\n",
       "      <td>-0.004526</td>\n",
       "      <td>0</td>\n",
       "    </tr>\n",
       "    <tr>\n",
       "      <th>3</th>\n",
       "      <td>3</td>\n",
       "      <td>-1.0</td>\n",
       "      <td>-1.0</td>\n",
       "      <td>-0.999901</td>\n",
       "      <td>-0.999737</td>\n",
       "      <td>-1.0</td>\n",
       "      <td>-0.014796</td>\n",
       "      <td>0</td>\n",
       "    </tr>\n",
       "    <tr>\n",
       "      <th>4</th>\n",
       "      <td>4</td>\n",
       "      <td>-1.0</td>\n",
       "      <td>-1.0</td>\n",
       "      <td>-0.999901</td>\n",
       "      <td>-0.999737</td>\n",
       "      <td>-1.0</td>\n",
       "      <td>-0.063516</td>\n",
       "      <td>0</td>\n",
       "    </tr>\n",
       "  </tbody>\n",
       "</table>\n",
       "</div>"
      ],
      "text/plain": [
       "   t  obs0  obs1      act0      act1  act2       rew  rep\n",
       "0  0  -1.0  -1.0 -0.999901 -0.999737  -1.0  0.000000    0\n",
       "1  1  -1.0  -1.0 -0.999901 -0.999737  -1.0 -0.001380    0\n",
       "2  2  -1.0  -1.0 -0.999901 -0.999737  -1.0 -0.004526    0\n",
       "3  3  -1.0  -1.0 -0.999901 -0.999737  -1.0 -0.014796    0\n",
       "4  4  -1.0  -1.0 -0.999901 -0.999737  -1.0 -0.063516    0"
      ]
     },
     "execution_count": 13,
     "metadata": {},
     "output_type": "execute_result"
    },
    {
     "data": {
      "image/png": "[encoded data removed]",
      "text/plain": [
       "<Figure size 640x480 with 1 Axes>"
      ]
     },
     "metadata": {},
     "output_type": "display_data"
    },
    {
     "data": {
      "image/png": "[encoded data removed]",
      "text/plain": [
       "<Figure size 640x480 with 1 Axes>"
      ]
     },
     "metadata": {},
     "output_type": "display_data"
    }
   ],
   "source": [
    "td3Data = simulator(env = evalEnv, agent = tunningAgent).simulate_full_named_obs_acts()\n",
    "td3DataDF = pd.DataFrame(td3Data)\n",
    "(\n",
    "    td3DataDF[td3DataDF.rep == 0].plot(x='t', y =['obs0', 'obs1']),\n",
    "    td3DataDF[td3DataDF.rep == 0].plot(x='t', y =['act0','act1','act2']),\n",
    ")\n",
    "td3DataDF.head()"
   ]
  },
  {
   "cell_type": "code",
   "execution_count": 14,
   "id": "00b2968c-3e62-4ee6-8873-4e448f5a2b83",
   "metadata": {},
   "outputs": [
    {
     "data": {
      "text/plain": [
       "(<Axes: xlabel='t'>, <Axes: xlabel='t'>)"
      ]
     },
     "execution_count": 14,
     "metadata": {},
     "output_type": "execute_result"
    },
    {
     "data": {
      "image/png": "[encoded data removed]",
      "text/plain": [
       "<Figure size 640x480 with 1 Axes>"
      ]
     },
     "metadata": {},
     "output_type": "display_data"
    },
    {
     "data": {
      "image/png": "[encoded data removed]",
      "text/plain": [
       "<Figure size 640x480 with 1 Axes>"
      ]
     },
     "metadata": {},
     "output_type": "display_data"
    }
   ],
   "source": [
    "tqcData = simulator(env = evalEnv, agent = tqcAgent).simulate_full_named_obs_acts()\n",
    "tqcDataDF = pd.DataFrame(tqcData)\n",
    "(\n",
    "    tqcDataDF[tqcDataDF.rep == 0].plot(x='t', y =['obs0', 'obs1']),\n",
    "    tqcDataDF[tqcDataDF.rep == 0].plot(x='t', y =['act0','act1','act2']),\n",
    ")"
   ]
  },
  {
   "cell_type": "code",
   "execution_count": 15,
   "id": "8d5a96a9-b2e8-4d0a-b202-84fffdcbb84b",
   "metadata": {},
   "outputs": [
    {
     "data": {
      "text/html": [
       "<div>\n",
       "<style scoped>\n",
       "    .dataframe tbody tr th:only-of-type {\n",
       "        vertical-align: middle;\n",
       "    }\n",
       "\n",
       "    .dataframe tbody tr th {\n",
       "        vertical-align: top;\n",
       "    }\n",
       "\n",
       "    .dataframe thead th {\n",
       "        text-align: right;\n",
       "    }\n",
       "</style>\n",
       "<table border=\"1\" class=\"dataframe\">\n",
       "  <thead>\n",
       "    <tr style=\"text-align: right;\">\n",
       "      <th></th>\n",
       "      <th>t</th>\n",
       "      <th>obs0</th>\n",
       "      <th>obs1</th>\n",
       "      <th>act0</th>\n",
       "      <th>act1</th>\n",
       "      <th>act2</th>\n",
       "      <th>rew</th>\n",
       "      <th>rep</th>\n",
       "    </tr>\n",
       "  </thead>\n",
       "  <tbody>\n",
       "    <tr>\n",
       "      <th>0</th>\n",
       "      <td>0</td>\n",
       "      <td>-1.000000</td>\n",
       "      <td>-1.000000</td>\n",
       "      <td>-0.729967</td>\n",
       "      <td>-0.564515</td>\n",
       "      <td>-0.739773</td>\n",
       "      <td>0.000000</td>\n",
       "      <td>0</td>\n",
       "    </tr>\n",
       "    <tr>\n",
       "      <th>1</th>\n",
       "      <td>1</td>\n",
       "      <td>-1.000000</td>\n",
       "      <td>-1.000000</td>\n",
       "      <td>-0.729967</td>\n",
       "      <td>-0.564515</td>\n",
       "      <td>-0.739773</td>\n",
       "      <td>-13.365323</td>\n",
       "      <td>0</td>\n",
       "    </tr>\n",
       "    <tr>\n",
       "      <th>2</th>\n",
       "      <td>2</td>\n",
       "      <td>-1.000000</td>\n",
       "      <td>-1.000000</td>\n",
       "      <td>-0.729967</td>\n",
       "      <td>-0.564515</td>\n",
       "      <td>-0.739773</td>\n",
       "      <td>-26.732564</td>\n",
       "      <td>0</td>\n",
       "    </tr>\n",
       "    <tr>\n",
       "      <th>3</th>\n",
       "      <td>3</td>\n",
       "      <td>-0.999689</td>\n",
       "      <td>-0.999689</td>\n",
       "      <td>-0.729882</td>\n",
       "      <td>-0.564445</td>\n",
       "      <td>-0.739707</td>\n",
       "      <td>-40.107972</td>\n",
       "      <td>0</td>\n",
       "    </tr>\n",
       "    <tr>\n",
       "      <th>4</th>\n",
       "      <td>4</td>\n",
       "      <td>-0.999358</td>\n",
       "      <td>-0.999089</td>\n",
       "      <td>-0.729750</td>\n",
       "      <td>-0.564335</td>\n",
       "      <td>-0.739603</td>\n",
       "      <td>-53.530137</td>\n",
       "      <td>0</td>\n",
       "    </tr>\n",
       "  </tbody>\n",
       "</table>\n",
       "</div>"
      ],
      "text/plain": [
       "   t      obs0      obs1      act0      act1      act2        rew  rep\n",
       "0  0 -1.000000 -1.000000 -0.729967 -0.564515 -0.739773   0.000000    0\n",
       "1  1 -1.000000 -1.000000 -0.729967 -0.564515 -0.739773 -13.365323    0\n",
       "2  2 -1.000000 -1.000000 -0.729967 -0.564515 -0.739773 -26.732564    0\n",
       "3  3 -0.999689 -0.999689 -0.729882 -0.564445 -0.739707 -40.107972    0\n",
       "4  4 -0.999358 -0.999089 -0.729750 -0.564335 -0.739603 -53.530137    0"
      ]
     },
     "execution_count": 15,
     "metadata": {},
     "output_type": "execute_result"
    }
   ],
   "source": [
    "tqcDataDF.head()"
   ]
  }
 ],
 "metadata": {
  "kernelspec": {
   "display_name": "Python 3 (ipykernel)",
   "language": "python",
   "name": "python3"
  },
  "language_info": {
   "codemirror_mode": {
    "name": "ipython",
    "version": 3
   },
   "file_extension": ".py",
   "mimetype": "text/x-python",
   "name": "python",
   "nbconvert_exporter": "python",
   "pygments_lexer": "ipython3",
   "version": "3.11.10"
  }
 },
 "nbformat": 4,
 "nbformat_minor": 5
}
