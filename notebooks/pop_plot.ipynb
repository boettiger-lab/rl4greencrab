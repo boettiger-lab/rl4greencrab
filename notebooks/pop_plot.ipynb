{
 "cells": [
  {
   "cell_type": "code",
   "execution_count": 2,
   "id": "c8047aae-9ea6-43f0-98e4-06040589defe",
   "metadata": {},
   "outputs": [],
   "source": [
    "import numpy as np\n",
    "import pandas as pd\n",
    "from skopt import gp_minimize, gbrt_minimize \n",
    "from skopt.plots import plot_convergence, plot_objective\n",
    "from rl4greencrab.envs.green_crab_monthly_env import greenCrabMonthEnv\n",
    "from rl4greencrab.envs.green_crab_monthly_env_norm import greenCrabMonthEnvNormalized\n",
    "from rl4greencrab import evaluate_agent, multiConstAction, simulator\n",
    "import matplotlib.pyplot as plt\n",
    "from ipywidgets import interact, widgets, FloatSlider"
   ]
  },
  {
   "cell_type": "code",
   "execution_count": 12,
   "id": "98167245-ca16-47a9-9835-a8ee6d512e17",
   "metadata": {},
   "outputs": [],
   "source": [
    "config = {\n",
    "    \"Tmax\" : 200\n",
    "}"
   ]
  },
  {
   "cell_type": "code",
   "execution_count": 13,
   "id": "530e3f34-8ea5-49ee-9f1b-ead2d2aa963f",
   "metadata": {},
   "outputs": [],
   "source": [
    "env = greenCrabMonthEnv(config)"
   ]
  },
  {
   "cell_type": "code",
   "execution_count": 14,
   "id": "3ec298c4-8fd4-435a-a880-8d442c797cb1",
   "metadata": {},
   "outputs": [],
   "source": [
    "def environment_simulation(env, agent, reps=1, obs_names = None, acts_names = None):\n",
    "    num_obs = np.prod(env.observation_space.shape)\n",
    "    num_acts = np.prod(env.action_space.shape)\n",
    "    obs_names = obs_names or [f'obs{i}' for i in range(num_obs)]\n",
    "    acts_names = acts_names or [f'act{i}' for i in range(num_acts)]\n",
    "    #\n",
    "    data = {\n",
    "        't': [],\n",
    "        **{obsn: [] for obsn in obs_names},\n",
    "        **{actn: [] for actn in acts_names},\n",
    "        'rew': [],\n",
    "        'rep': [],\n",
    "        'crab_pop':[]\n",
    "    }\n",
    "    env = env\n",
    "    agent = agent\n",
    "    for rep in range(reps): # try score as average of 100 replicates, still a noisy measure\n",
    "        episode_reward = 0.0\n",
    "        observation, _ = env.reset()\n",
    "        for t in range(env.Tmax):\n",
    "            action, _ = agent.predict(observation, deterministic=True)\n",
    "            #\n",
    "            data['rew'].append(episode_reward)\n",
    "            data['rep'].append(rep)\n",
    "            data['t'].append(t)\n",
    "            data['crab_pop'].append(env.state)\n",
    "            for idx, obs_name in enumerate(obs_names):\n",
    "                data[obs_name].append(observation[idx])\n",
    "            for idx, act_name in enumerate(acts_names):\n",
    "                data[act_name].append(action[idx])\n",
    "            #\n",
    "            observation, reward, terminated, done, info = env.step(action)\n",
    "            episode_reward += reward\n",
    "            #\n",
    "            if terminated or done:\n",
    "                break\n",
    "    return data"
   ]
  },
  {
   "cell_type": "code",
   "execution_count": 15,
   "id": "c2d3c98f-3165-48c1-a069-a71fd91d7181",
   "metadata": {},
   "outputs": [
    {
     "data": {
      "text/html": [
       "<div>\n",
       "<style scoped>\n",
       "    .dataframe tbody tr th:only-of-type {\n",
       "        vertical-align: middle;\n",
       "    }\n",
       "\n",
       "    .dataframe tbody tr th {\n",
       "        vertical-align: top;\n",
       "    }\n",
       "\n",
       "    .dataframe thead th {\n",
       "        text-align: right;\n",
       "    }\n",
       "</style>\n",
       "<table border=\"1\" class=\"dataframe\">\n",
       "  <thead>\n",
       "    <tr style=\"text-align: right;\">\n",
       "      <th></th>\n",
       "      <th>t</th>\n",
       "      <th>obs0</th>\n",
       "      <th>act0</th>\n",
       "      <th>act1</th>\n",
       "      <th>act2</th>\n",
       "      <th>rew</th>\n",
       "      <th>rep</th>\n",
       "      <th>crab_pop</th>\n",
       "    </tr>\n",
       "  </thead>\n",
       "  <tbody>\n",
       "    <tr>\n",
       "      <th>0</th>\n",
       "      <td>0</td>\n",
       "      <td>0.0</td>\n",
       "      <td>0.0</td>\n",
       "      <td>0.0</td>\n",
       "      <td>0.0</td>\n",
       "      <td>0.000000</td>\n",
       "      <td>0</td>\n",
       "      <td>[0.0, 0.0, 0.0, 0.0, 0.0, 0.0, 0.0, 0.0, 0.0, ...</td>\n",
       "    </tr>\n",
       "    <tr>\n",
       "      <th>1</th>\n",
       "      <td>1</td>\n",
       "      <td>0.0</td>\n",
       "      <td>0.0</td>\n",
       "      <td>0.0</td>\n",
       "      <td>0.0</td>\n",
       "      <td>-0.000061</td>\n",
       "      <td>0</td>\n",
       "      <td>[0.0, 0.0, 0.0, 0.0, 0.0, 0.0, 0.0, 0.0, 0.0, ...</td>\n",
       "    </tr>\n",
       "    <tr>\n",
       "      <th>2</th>\n",
       "      <td>2</td>\n",
       "      <td>0.0</td>\n",
       "      <td>0.0</td>\n",
       "      <td>0.0</td>\n",
       "      <td>0.0</td>\n",
       "      <td>-0.000123</td>\n",
       "      <td>0</td>\n",
       "      <td>[0.0, 0.0, 0.0, 0.0, 0.0, 0.0, 0.0, 0.0, 0.0, ...</td>\n",
       "    </tr>\n",
       "    <tr>\n",
       "      <th>3</th>\n",
       "      <td>3</td>\n",
       "      <td>0.0</td>\n",
       "      <td>0.0</td>\n",
       "      <td>0.0</td>\n",
       "      <td>0.0</td>\n",
       "      <td>-0.000184</td>\n",
       "      <td>0</td>\n",
       "      <td>[0.0, 0.0, 0.0, 0.0, 0.0, 0.0, 0.0, 0.0, 0.0, ...</td>\n",
       "    </tr>\n",
       "    <tr>\n",
       "      <th>4</th>\n",
       "      <td>4</td>\n",
       "      <td>0.0</td>\n",
       "      <td>0.0</td>\n",
       "      <td>0.0</td>\n",
       "      <td>0.0</td>\n",
       "      <td>-0.000245</td>\n",
       "      <td>0</td>\n",
       "      <td>[0.0, 0.0, 0.0, 0.0, 0.0, 0.0, 0.0, 0.0, 0.0, ...</td>\n",
       "    </tr>\n",
       "  </tbody>\n",
       "</table>\n",
       "</div>"
      ],
      "text/plain": [
       "   t  obs0  act0  act1  act2       rew  rep  \\\n",
       "0  0   0.0   0.0   0.0   0.0  0.000000    0   \n",
       "1  1   0.0   0.0   0.0   0.0 -0.000061    0   \n",
       "2  2   0.0   0.0   0.0   0.0 -0.000123    0   \n",
       "3  3   0.0   0.0   0.0   0.0 -0.000184    0   \n",
       "4  4   0.0   0.0   0.0   0.0 -0.000245    0   \n",
       "\n",
       "                                            crab_pop  \n",
       "0  [0.0, 0.0, 0.0, 0.0, 0.0, 0.0, 0.0, 0.0, 0.0, ...  \n",
       "1  [0.0, 0.0, 0.0, 0.0, 0.0, 0.0, 0.0, 0.0, 0.0, ...  \n",
       "2  [0.0, 0.0, 0.0, 0.0, 0.0, 0.0, 0.0, 0.0, 0.0, ...  \n",
       "3  [0.0, 0.0, 0.0, 0.0, 0.0, 0.0, 0.0, 0.0, 0.0, ...  \n",
       "4  [0.0, 0.0, 0.0, 0.0, 0.0, 0.0, 0.0, 0.0, 0.0, ...  "
      ]
     },
     "execution_count": 15,
     "metadata": {},
     "output_type": "execute_result"
    }
   ],
   "source": [
    "agent = multiConstAction(env=env, action=np.array([0.0, 0, 0.0]))\n",
    "constantData = environment_simulation(env, agent)\n",
    "constantDataDF = pd.DataFrame(constantData)\n",
    "constantDataDF.head()"
   ]
  },
  {
   "cell_type": "code",
   "execution_count": 16,
   "id": "04e08dab-700e-46b0-8846-268dc08ca84f",
   "metadata": {},
   "outputs": [],
   "source": [
    "crab_pop_df = pd.DataFrame(constantDataDF[constantDataDF['rep']==0]['crab_pop'].tolist(), columns=[f'crab_pop_{i}' for i in range(len(constantDataDF['crab_pop'][0]))])"
   ]
  },
  {
   "cell_type": "code",
   "execution_count": 17,
   "id": "d3962e43-b6a5-42bb-ab60-bf1767873297",
   "metadata": {},
   "outputs": [],
   "source": [
    "new_column_names = [i for i in range(len(crab_pop_df.columns))]\n",
    "crab_pop_df.columns = new_column_names"
   ]
  },
  {
   "cell_type": "code",
   "execution_count": 21,
   "id": "4d521db4-bc58-4ce8-9d99-e170ba665278",
   "metadata": {},
   "outputs": [],
   "source": [
    "def change_config(w_mort, nmort, growth_k):\n",
    "    config = {\n",
    "        \"w_mort_scale\" : w_mort,\n",
    "        \"nmortality\" : nmort,\n",
    "        \"growth_k\": growth_k,\n",
    "        \"Tmax\": 200\n",
    "    }\n",
    "    env = greenCrabMonthEnv(config)\n",
    "    agent = multiConstAction(env=env, action=np.array([0.0, 0, 0.0]))\n",
    "    constantData = environment_simulation(env, agent)\n",
    "    constantDataDF = pd.DataFrame(constantData)\n",
    "    crab_pop_df = pd.DataFrame(constantDataDF[constantDataDF['rep']==0]['crab_pop'].tolist(), \n",
    "                               columns=[f'crab_pop_{i}' for i in range(len(constantDataDF['crab_pop'][0]))])\n",
    "    new_column_names = [i for i in range(len(crab_pop_df.columns))]\n",
    "    crab_pop_df.columns = new_column_names\n",
    "    return crab_pop_df"
   ]
  },
  {
   "cell_type": "code",
   "execution_count": 22,
   "id": "0a8c6492-c9fa-47f1-a2dc-a11ef7fb6d69",
   "metadata": {},
   "outputs": [],
   "source": [
    "# Interactive plot function\n",
    "def plot_size_distribution(time_step, w_mort_scale, nmort, growth_k):\n",
    "    crab_pop_df = change_config(w_mort_scale, nmort, growth_k)\n",
    "    plt.figure(figsize=(8, 5))\n",
    "    plt.bar(crab_pop_df.columns, crab_pop_df.loc[time_step], color='blue', alpha=0.7)\n",
    "    plt.title(f'Crab Size Distribution at {time_step}')\n",
    "    plt.xlabel('Crab Size')\n",
    "    plt.ylabel('Density')\n",
    "    plt.grid(True)\n",
    "    plt.show()"
   ]
  },
  {
   "cell_type": "code",
   "execution_count": 24,
   "id": "a064c5df-1d3c-457c-a597-60a9a1f6d5a3",
   "metadata": {},
   "outputs": [
    {
     "data": {
      "application/vnd.jupyter.widget-view+json": {
       "model_id": "a2835d3cffc34f08ab52e8538b888b43",
       "version_major": 2,
       "version_minor": 0
      },
      "text/plain": [
       "interactive(children=(Dropdown(description='time_step', options=(0, 1, 2, 3, 4, 5, 6, 7, 8, 9, 10, 11, 12, 13,…"
      ]
     },
     "metadata": {},
     "output_type": "display_data"
    }
   ],
   "source": [
    "interact(plot_size_distribution, time_step=crab_pop_df.index, \n",
    "         w_mort_scale=FloatSlider(min=0, max=2000, step=50, value=600), \n",
    "         nmort = FloatSlider(min=0, max=1, step=0.01, value=0.03),\n",
    "        growth_k = FloatSlider(min=0, max=1, step=0.01, value=0.7),);"
   ]
  }
 ],
 "metadata": {
  "kernelspec": {
   "display_name": "Python 3 (ipykernel)",
   "language": "python",
   "name": "python3"
  },
  "language_info": {
   "codemirror_mode": {
    "name": "ipython",
    "version": 3
   },
   "file_extension": ".py",
   "mimetype": "text/x-python",
   "name": "python",
   "nbconvert_exporter": "python",
   "pygments_lexer": "ipython3",
   "version": "3.12.8"
  }
 },
 "nbformat": 4,
 "nbformat_minor": 5
}
