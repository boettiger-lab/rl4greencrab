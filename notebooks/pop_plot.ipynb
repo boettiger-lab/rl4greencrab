{
 "cells": [
  {
   "cell_type": "code",
   "execution_count": 1,
   "id": "c8047aae-9ea6-43f0-98e4-06040589defe",
   "metadata": {},
   "outputs": [],
   "source": [
    "import numpy as np\n",
    "import pandas as pd\n",
    "from skopt import gp_minimize, gbrt_minimize \n",
    "from skopt.plots import plot_convergence, plot_objective\n",
    "from rl4greencrab.envs.green_crab_monthly_env import greenCrabMonthEnv\n",
    "from rl4greencrab.envs.green_crab_monthly_env_norm import greenCrabMonthEnvNormalized\n",
    "from rl4greencrab import evaluate_agent, multiConstAction, simulator, environment_simulation, plot_selected_sizes\n",
    "import matplotlib.pyplot as plt\n",
    "from ipywidgets import interact, widgets, FloatSlider\n",
    "from stable_baselines3 import PPO, TD3"
   ]
  },
  {
   "cell_type": "code",
   "execution_count": 2,
   "id": "98167245-ca16-47a9-9835-a8ee6d512e17",
   "metadata": {},
   "outputs": [],
   "source": [
    "config = {\n",
    "    \"Tmax\" : 200\n",
    "}"
   ]
  },
  {
   "cell_type": "code",
   "execution_count": 3,
   "id": "530e3f34-8ea5-49ee-9f1b-ead2d2aa963f",
   "metadata": {},
   "outputs": [
    {
     "name": "stderr",
     "output_type": "stream",
     "text": [
      "/opt/conda/lib/python3.12/site-packages/gymnasium/spaces/box.py:305: UserWarning: \u001b[33mWARN: Box high's precision lowered by casting to float32, current high.dtype=float64\u001b[0m\n",
      "  gym.logger.warn(\n"
     ]
    }
   ],
   "source": [
    "env = greenCrabMonthEnv(config)"
   ]
  },
  {
   "cell_type": "code",
   "execution_count": 4,
   "id": "c2d3c98f-3165-48c1-a069-a71fd91d7181",
   "metadata": {},
   "outputs": [
    {
     "data": {
      "text/html": [
       "<div>\n",
       "<style scoped>\n",
       "    .dataframe tbody tr th:only-of-type {\n",
       "        vertical-align: middle;\n",
       "    }\n",
       "\n",
       "    .dataframe tbody tr th {\n",
       "        vertical-align: top;\n",
       "    }\n",
       "\n",
       "    .dataframe thead th {\n",
       "        text-align: right;\n",
       "    }\n",
       "</style>\n",
       "<table border=\"1\" class=\"dataframe\">\n",
       "  <thead>\n",
       "    <tr style=\"text-align: right;\">\n",
       "      <th></th>\n",
       "      <th>t</th>\n",
       "      <th>obs0</th>\n",
       "      <th>obs1</th>\n",
       "      <th>act0</th>\n",
       "      <th>act1</th>\n",
       "      <th>act2</th>\n",
       "      <th>rew</th>\n",
       "      <th>rep</th>\n",
       "      <th>crab_pop</th>\n",
       "    </tr>\n",
       "  </thead>\n",
       "  <tbody>\n",
       "    <tr>\n",
       "      <th>0</th>\n",
       "      <td>0</td>\n",
       "      <td>0.0</td>\n",
       "      <td>0.0</td>\n",
       "      <td>0.0</td>\n",
       "      <td>0.0</td>\n",
       "      <td>0.0</td>\n",
       "      <td>0.000000</td>\n",
       "      <td>0</td>\n",
       "      <td>[0.0, 0.0, 0.0, 0.0, 0.0, 0.0, 0.0, 0.0, 0.0, ...</td>\n",
       "    </tr>\n",
       "    <tr>\n",
       "      <th>1</th>\n",
       "      <td>1</td>\n",
       "      <td>0.0</td>\n",
       "      <td>0.0</td>\n",
       "      <td>0.0</td>\n",
       "      <td>0.0</td>\n",
       "      <td>0.0</td>\n",
       "      <td>-0.000061</td>\n",
       "      <td>0</td>\n",
       "      <td>[0.0, 0.0, 0.0, 0.0, 0.0, 0.0, 0.0, 0.0, 0.0, ...</td>\n",
       "    </tr>\n",
       "    <tr>\n",
       "      <th>2</th>\n",
       "      <td>2</td>\n",
       "      <td>0.0</td>\n",
       "      <td>0.0</td>\n",
       "      <td>0.0</td>\n",
       "      <td>0.0</td>\n",
       "      <td>0.0</td>\n",
       "      <td>-0.000123</td>\n",
       "      <td>0</td>\n",
       "      <td>[0.0, 0.0, 0.0, 0.0, 0.0, 0.0, 0.0, 0.0, 0.0, ...</td>\n",
       "    </tr>\n",
       "    <tr>\n",
       "      <th>3</th>\n",
       "      <td>3</td>\n",
       "      <td>0.0</td>\n",
       "      <td>0.0</td>\n",
       "      <td>0.0</td>\n",
       "      <td>0.0</td>\n",
       "      <td>0.0</td>\n",
       "      <td>-0.000184</td>\n",
       "      <td>0</td>\n",
       "      <td>[0.0, 0.0, 0.0, 0.0, 0.0, 0.0, 0.0, 0.0, 0.0, ...</td>\n",
       "    </tr>\n",
       "    <tr>\n",
       "      <th>4</th>\n",
       "      <td>4</td>\n",
       "      <td>0.0</td>\n",
       "      <td>0.0</td>\n",
       "      <td>0.0</td>\n",
       "      <td>0.0</td>\n",
       "      <td>0.0</td>\n",
       "      <td>-0.000245</td>\n",
       "      <td>0</td>\n",
       "      <td>[0.0, 0.0, 0.0, 0.0, 0.0, 0.0, 0.0, 0.0, 0.0, ...</td>\n",
       "    </tr>\n",
       "  </tbody>\n",
       "</table>\n",
       "</div>"
      ],
      "text/plain": [
       "   t  obs0  obs1  act0  act1  act2       rew  rep  \\\n",
       "0  0   0.0   0.0   0.0   0.0   0.0  0.000000    0   \n",
       "1  1   0.0   0.0   0.0   0.0   0.0 -0.000061    0   \n",
       "2  2   0.0   0.0   0.0   0.0   0.0 -0.000123    0   \n",
       "3  3   0.0   0.0   0.0   0.0   0.0 -0.000184    0   \n",
       "4  4   0.0   0.0   0.0   0.0   0.0 -0.000245    0   \n",
       "\n",
       "                                            crab_pop  \n",
       "0  [0.0, 0.0, 0.0, 0.0, 0.0, 0.0, 0.0, 0.0, 0.0, ...  \n",
       "1  [0.0, 0.0, 0.0, 0.0, 0.0, 0.0, 0.0, 0.0, 0.0, ...  \n",
       "2  [0.0, 0.0, 0.0, 0.0, 0.0, 0.0, 0.0, 0.0, 0.0, ...  \n",
       "3  [0.0, 0.0, 0.0, 0.0, 0.0, 0.0, 0.0, 0.0, 0.0, ...  \n",
       "4  [0.0, 0.0, 0.0, 0.0, 0.0, 0.0, 0.0, 0.0, 0.0, ...  "
      ]
     },
     "execution_count": 4,
     "metadata": {},
     "output_type": "execute_result"
    }
   ],
   "source": [
    "agent = multiConstAction(env=env, action=np.array([0.0, 0, 0.0]))\n",
    "constantData = environment_simulation(env, agent)\n",
    "constantDataDF = pd.DataFrame(constantData)\n",
    "constantDataDF.head()"
   ]
  },
  {
   "cell_type": "code",
   "execution_count": 5,
   "id": "04e08dab-700e-46b0-8846-268dc08ca84f",
   "metadata": {},
   "outputs": [],
   "source": [
    "crab_pop_df = pd.DataFrame(constantDataDF[constantDataDF['rep']==0]['crab_pop'].tolist(), columns=[f'crab_pop_{i}' for i in range(len(constantDataDF['crab_pop'][0]))])"
   ]
  },
  {
   "cell_type": "code",
   "execution_count": 6,
   "id": "d3962e43-b6a5-42bb-ab60-bf1767873297",
   "metadata": {},
   "outputs": [],
   "source": [
    "new_column_names = [i for i in range(len(crab_pop_df.columns))]\n",
    "crab_pop_df.columns = new_column_names"
   ]
  },
  {
   "cell_type": "code",
   "execution_count": 7,
   "id": "4d521db4-bc58-4ce8-9d99-e170ba665278",
   "metadata": {},
   "outputs": [],
   "source": [
    "def change_config(w_mort, nmort, growth_k):\n",
    "    config = {\n",
    "        \"w_mort_scale\" : w_mort,\n",
    "        \"nmortality\" : nmort,\n",
    "        \"growth_k\": growth_k,\n",
    "        \"Tmax\": 200\n",
    "    }\n",
    "    env = greenCrabMonthEnv(config)\n",
    "    agent = multiConstAction(env=env, action=np.array([0.0, 0, 0.0]))\n",
    "    constantData = environment_simulation(env, agent)\n",
    "    constantDataDF = pd.DataFrame(constantData)\n",
    "    crab_pop_df = pd.DataFrame(constantDataDF[constantDataDF['rep']==0]['crab_pop'].tolist(), \n",
    "                               columns=[f'crab_pop_{i}' for i in range(len(constantDataDF['crab_pop'][0]))])\n",
    "    new_column_names = [i for i in range(len(crab_pop_df.columns))]\n",
    "    crab_pop_df.columns = new_column_names\n",
    "    return crab_pop_df"
   ]
  },
  {
   "cell_type": "code",
   "execution_count": 8,
   "id": "0a8c6492-c9fa-47f1-a2dc-a11ef7fb6d69",
   "metadata": {},
   "outputs": [],
   "source": [
    "# Interactive plot function\n",
    "def plot_size_distribution(time_step, w_mort_scale, nmort, growth_k):\n",
    "    crab_pop_df = change_config(w_mort_scale, nmort, growth_k)\n",
    "    plt.figure(figsize=(8, 5))\n",
    "    plt.bar(crab_pop_df.columns, crab_pop_df.loc[time_step], color='blue', alpha=0.7)\n",
    "    plt.title(f'Crab Size Distribution at {time_step}')\n",
    "    plt.xlabel('Crab Size')\n",
    "    plt.ylabel('Density')\n",
    "    plt.grid(True)\n",
    "    plt.show()"
   ]
  },
  {
   "cell_type": "code",
   "execution_count": 9,
   "id": "a064c5df-1d3c-457c-a597-60a9a1f6d5a3",
   "metadata": {},
   "outputs": [
    {
     "data": {
      "application/vnd.jupyter.widget-view+json": {
       "model_id": "0a0dd6b2b0fa4058af589574fbd54d20",
       "version_major": 2,
       "version_minor": 0
      },
      "text/plain": [
       "interactive(children=(Dropdown(description='time_step', options=(0, 1, 2, 3, 4, 5, 6, 7, 8, 9, 10, 11, 12, 13,…"
      ]
     },
     "metadata": {},
     "output_type": "display_data"
    }
   ],
   "source": [
    "interact(plot_size_distribution, time_step=crab_pop_df.index, \n",
    "         w_mort_scale=FloatSlider(min=0, max=2000, step=50, value=600), \n",
    "         nmort = FloatSlider(min=0, max=1, step=0.01, value=0.03),\n",
    "        growth_k = FloatSlider(min=0, max=1, step=0.01, value=0.7),);"
   ]
  },
  {
   "cell_type": "markdown",
   "id": "bdf03f7b-4173-4e42-bfd6-787b9cd9f36c",
   "metadata": {},
   "source": [
    "### Size distribution with no internvention"
   ]
  },
  {
   "cell_type": "code",
   "execution_count": 75,
   "id": "11105f75-e832-4f56-8e21-0fbe3b3b23a2",
   "metadata": {},
   "outputs": [
    {
     "name": "stderr",
     "output_type": "stream",
     "text": [
      "/opt/conda/lib/python3.12/site-packages/gymnasium/spaces/box.py:305: UserWarning: \u001b[33mWARN: Box high's precision lowered by casting to float32, current high.dtype=float64\u001b[0m\n",
      "  gym.logger.warn(\n"
     ]
    }
   ],
   "source": [
    "config = {\n",
    "        \"w_mort_scale\" : 600,\n",
    "        \"growth_k\": 0.70,\n",
    "    }\n",
    "env = greenCrabMonthEnv(config)\n",
    "eval_env = greenCrabMonthEnvNormalized(config)"
   ]
  },
  {
   "cell_type": "code",
   "execution_count": 88,
   "id": "36c50ec7-6368-4534-ac05-26fb5ca492de",
   "metadata": {},
   "outputs": [],
   "source": [
    "agent = multiConstAction(env=env, action=np.array([0.0, 0, 0.0]))\n",
    "noInterventionData = environment_simulation(env, agent)\n",
    "noInterventionDataDF = pd.DataFrame(constantData)"
   ]
  },
  {
   "cell_type": "code",
   "execution_count": 87,
   "id": "71659c54-1585-4e16-a736-90a153188878",
   "metadata": {},
   "outputs": [],
   "source": [
    "def pop_df_gen(dataDF):\n",
    "    df = pd.DataFrame(dataDF[dataDF['rep']==0]['crab_pop'].tolist(), \n",
    "                      columns=[f'crab_pop_{i}' for i in range(len(dataDF['crab_pop'][0]))])\n",
    "    df.columns = [i for i in range(len(df.columns))]\n",
    "    return df"
   ]
  },
  {
   "cell_type": "code",
   "execution_count": 89,
   "id": "97856617-e86a-47c6-a325-9b83eae45ed8",
   "metadata": {},
   "outputs": [],
   "source": [
    "def plot_size_distribution(dataDF, time_step):\n",
    "    crab_pop_df = pop_df_gen(dataDF)\n",
    "    plt.figure(figsize=(8, 5))\n",
    "    plt.bar(crab_pop_df.columns, crab_pop_df.loc[time_step], color='blue', alpha=0.7)\n",
    "    plt.title(f'Crab Size Distribution at {time_step}')\n",
    "    plt.xlabel('Crab Size')\n",
    "    plt.ylabel('Density')\n",
    "    plt.grid(True)\n",
    "    plt.show()"
   ]
  },
  {
   "cell_type": "code",
   "execution_count": 107,
   "id": "18066771-292b-4a19-b7b5-8550d6418da5",
   "metadata": {},
   "outputs": [],
   "source": [
    "def interact_size_plot(dataDF):\n",
    "    return interact(\n",
    "        lambda time_step: plot_size_distribution(dataDF, time_step),\n",
    "         time_step=dataDF.index\n",
    "    );"
   ]
  },
  {
   "cell_type": "code",
   "execution_count": 91,
   "id": "a2e854e2-c3f7-49e4-aa0b-d0d3646d1ffc",
   "metadata": {},
   "outputs": [
    {
     "data": {
      "application/vnd.jupyter.widget-view+json": {
       "model_id": "d777b035664145b0b2e0d4ad4289d566",
       "version_major": 2,
       "version_minor": 0
      },
      "text/plain": [
       "interactive(children=(Dropdown(description='time_step', options=(0, 1, 2, 3, 4, 5, 6, 7, 8, 9, 10, 11, 12, 13,…"
      ]
     },
     "metadata": {},
     "output_type": "display_data"
    },
    {
     "data": {
      "text/plain": [
       "<function __main__.interact_size_plot.<locals>.<lambda>(time_step)>"
      ]
     },
     "execution_count": 91,
     "metadata": {},
     "output_type": "execute_result"
    }
   ],
   "source": [
    "interact_size_plot(noInterventionDataDF)"
   ]
  },
  {
   "cell_type": "code",
   "execution_count": 92,
   "id": "fddb485a-35f4-4dfe-8938-1043549f7023",
   "metadata": {},
   "outputs": [],
   "source": [
    "agent = multiConstAction(env=env, action=np.array([83.87232800633504, 596.3225575635984, 14.882297944474463]))\n",
    "constantData = environment_simulation(env, agent)\n",
    "constantDataDF = pd.DataFrame(constantData)"
   ]
  },
  {
   "cell_type": "code",
   "execution_count": 93,
   "id": "521d12d8-7e51-4151-a8b6-89c5acaf9620",
   "metadata": {},
   "outputs": [
    {
     "data": {
      "application/vnd.jupyter.widget-view+json": {
       "model_id": "f2630d5f5f244098af46b4e03ca9168a",
       "version_major": 2,
       "version_minor": 0
      },
      "text/plain": [
       "interactive(children=(Dropdown(description='time_step', options=(0, 1, 2, 3, 4, 5, 6, 7, 8, 9, 10, 11, 12, 13,…"
      ]
     },
     "metadata": {},
     "output_type": "display_data"
    },
    {
     "data": {
      "text/plain": [
       "<function __main__.interact_size_plot.<locals>.<lambda>(time_step)>"
      ]
     },
     "execution_count": 93,
     "metadata": {},
     "output_type": "execute_result"
    }
   ],
   "source": [
    "interact_size_plot(constantDataDF)"
   ]
  },
  {
   "cell_type": "code",
   "execution_count": 96,
   "id": "29608f92-4d6f-45b0-8b88-54d4aaba5bd6",
   "metadata": {},
   "outputs": [],
   "source": [
    "ppoAgent = PPO.load(\"../saved_agents/PPO_gcmenorm\", device=\"cpu\")\n",
    "td3Agent = TD3.load(\"../saved_agents/TD3_gcmenorm_curriculumn\", device=\"cpu\")"
   ]
  },
  {
   "cell_type": "code",
   "execution_count": 97,
   "id": "7089e47c-c1ee-463d-b597-6021a7b9c0a0",
   "metadata": {},
   "outputs": [],
   "source": [
    "ppoDataDF = pd.DataFrame(environment_simulation(eval_env, ppoAgent))"
   ]
  },
  {
   "cell_type": "code",
   "execution_count": 98,
   "id": "e893932c-a85f-442f-b4c7-89a0371a0a63",
   "metadata": {},
   "outputs": [
    {
     "data": {
      "application/vnd.jupyter.widget-view+json": {
       "model_id": "21e8df772a6542ecb6d980efcd51a6d5",
       "version_major": 2,
       "version_minor": 0
      },
      "text/plain": [
       "interactive(children=(Dropdown(description='time_step', options=(0, 1, 2, 3, 4, 5, 6, 7, 8, 9, 10, 11, 12, 13,…"
      ]
     },
     "metadata": {},
     "output_type": "display_data"
    },
    {
     "data": {
      "text/plain": [
       "<function __main__.interact_size_plot.<locals>.<lambda>(time_step)>"
      ]
     },
     "execution_count": 98,
     "metadata": {},
     "output_type": "execute_result"
    }
   ],
   "source": [
    "interact_size_plot(ppoDataDF)"
   ]
  },
  {
   "cell_type": "code",
   "execution_count": 131,
   "id": "b8718e78-6b9f-41b5-8cd9-e59081a40299",
   "metadata": {},
   "outputs": [],
   "source": [
    "dataDF_list = [noInterventionDataDF, constantDataDF, ppoDataDF]"
   ]
  },
  {
   "cell_type": "code",
   "execution_count": 138,
   "id": "a88518fd-5680-4e37-b227-25efa6292284",
   "metadata": {},
   "outputs": [],
   "source": [
    "def plot_size_distr_overlap(dataDF_list, time_step):\n",
    "    plt.figure(figsize=(8, 5))\n",
    "    for i, df in enumerate(dataDF_list):\n",
    "        crab_pop_df = pop_df_gen(df)\n",
    "        plt.bar(\n",
    "            crab_pop_df.columns,\n",
    "            crab_pop_df.loc[time_step],\n",
    "            alpha=0.5,\n",
    "            label=f\"DataFrame {i+1}\"\n",
    "        )\n",
    "    plt.legend()\n",
    "    plt.title(f'Crab Size Distribution at {time_step}')\n",
    "    plt.xlabel('Crab Size')\n",
    "    plt.ylabel('Density')\n",
    "    plt.grid(True)\n",
    "    plt.show()\n",
    "\n",
    "def interact_size_plot(dataDF_list):\n",
    "    return interact(\n",
    "        lambda time_step: plot_size_distr_overlap(dataDF_list, time_step),\n",
    "         time_step=pd.DataFrame(dataDF_list[0]).index\n",
    "    );"
   ]
  },
  {
   "cell_type": "code",
   "execution_count": 139,
   "id": "ec958dcc-97db-42f5-b608-70e0dcb6a942",
   "metadata": {},
   "outputs": [
    {
     "data": {
      "application/vnd.jupyter.widget-view+json": {
       "model_id": "2c2f5d5c4f9c452698878d559d67d347",
       "version_major": 2,
       "version_minor": 0
      },
      "text/plain": [
       "interactive(children=(Dropdown(description='time_step', options=(0, 1, 2, 3, 4, 5, 6, 7, 8, 9, 10, 11, 12, 13,…"
      ]
     },
     "metadata": {},
     "output_type": "display_data"
    },
    {
     "data": {
      "text/plain": [
       "<function __main__.interact_size_plot.<locals>.<lambda>(time_step)>"
      ]
     },
     "execution_count": 139,
     "metadata": {},
     "output_type": "execute_result"
    }
   ],
   "source": [
    "interact_size_plot(dataDF_list)"
   ]
  }
 ],
 "metadata": {
  "kernelspec": {
   "display_name": "Python 3 (ipykernel)",
   "language": "python",
   "name": "python3"
  },
  "language_info": {
   "codemirror_mode": {
    "name": "ipython",
    "version": 3
   },
   "file_extension": ".py",
   "mimetype": "text/x-python",
   "name": "python",
   "nbconvert_exporter": "python",
   "pygments_lexer": "ipython3",
   "version": "3.12.10"
  }
 },
 "nbformat": 4,
 "nbformat_minor": 5
}
