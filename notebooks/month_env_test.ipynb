{
 "cells": [
  {
   "cell_type": "code",
   "execution_count": 4,
   "id": "5c99d154-bbb9-4ea0-bf7f-eda80de7f58e",
   "metadata": {},
   "outputs": [],
   "source": [
    "import numpy as np\n",
    "import pandas as pd\n",
    "from plotnine import (\n",
    "    ggplot, aes, geom_density, geom_line, geom_point, \n",
    "    geom_violin, facet_grid, labs, theme, facet_wrap,\n",
    ")\n",
    "\n",
    "# for rl training\n",
    "from stable_baselines3 import PPO, TD3\n",
    "from sb3_contrib import TQC\n",
    "from stable_baselines3.common.env_util import make_vec_env\n",
    "\n",
    "# the rl environment\n",
    "from rl4greencrab.envs.green_crab_monthly_env import greenCrabMonthEnv\n",
    "\n",
    "# helper that paralelizes episode simulations for evaluation purposes (agent -> reward)\n",
    "from rl4greencrab import evaluate_agent\n",
    "\n",
    "# helper that creates a single episode simulation keeping track of many variables\n",
    "# of the internal env state\n",
    "from rl4greencrab import simulator"
   ]
  },
  {
   "cell_type": "code",
   "execution_count": 5,
   "id": "06c34676-e7ce-46e6-920b-52a8636c70b5",
   "metadata": {},
   "outputs": [],
   "source": [
    "config = {\"init_n_adult\": 0}\n",
    "gmonth = greenCrabMonthEnv(config)\n",
    "vec_env = make_vec_env(greenCrabMonthEnv, n_envs=12)"
   ]
  },
  {
   "cell_type": "code",
   "execution_count": 3,
   "id": "8c2831a9-02a1-4e45-9a5d-083dc4425131",
   "metadata": {},
   "outputs": [
    {
     "data": {
      "application/vnd.jupyter.widget-view+json": {
       "model_id": "3ecd6d9806e4461db1ffebec87688fad",
       "version_major": 2,
       "version_minor": 0
      },
      "text/plain": [
       "Output()"
      ]
     },
     "metadata": {},
     "output_type": "display_data"
    },
    {
     "data": {
      "text/html": [
       "<pre style=\"white-space:pre;overflow-x:auto;line-height:normal;font-family:Menlo,'DejaVu Sans Mono',consolas,'Courier New',monospace\"></pre>\n"
      ],
      "text/plain": []
     },
     "metadata": {},
     "output_type": "display_data"
    }
   ],
   "source": [
    "model = PPO(\"MlpPolicy\", vec_env, verbose=0, tensorboard_log=\"/home/rstudio/logs\")\n",
    "model.learn(\n",
    "\ttotal_timesteps=250_000, \n",
    "\tprogress_bar=True,\n",
    ")\n",
    "model.save(\"ppo_gcse_month\")"
   ]
  },
  {
   "cell_type": "code",
   "execution_count": 31,
   "id": "8e86e251-61f4-432d-af6d-6e86e1c123f7",
   "metadata": {},
   "outputs": [
    {
     "data": {
      "text/plain": [
       "Box(0.0, 3000.0, (3,), float32)"
      ]
     },
     "execution_count": 31,
     "metadata": {},
     "output_type": "execute_result"
    }
   ],
   "source": [
    "gmonth.action_space"
   ]
  },
  {
   "cell_type": "code",
   "execution_count": 32,
   "id": "87c6a469-4945-48a1-b312-b6ff2d88a234",
   "metadata": {},
   "outputs": [
    {
     "data": {
      "text/plain": [
       "Box(0.0, 2000.0, (1,), float32)"
      ]
     },
     "execution_count": 32,
     "metadata": {},
     "output_type": "execute_result"
    }
   ],
   "source": [
    "gmonth.observation_space"
   ]
  },
  {
   "cell_type": "code",
   "execution_count": 122,
   "id": "f492e21b-6ee5-4cfd-a080-413e512dc68b",
   "metadata": {},
   "outputs": [
    {
     "data": {
      "text/plain": [
       "(array([0.], dtype=float32), {})"
      ]
     },
     "execution_count": 122,
     "metadata": {},
     "output_type": "execute_result"
    }
   ],
   "source": [
    "gmonth.reset()"
   ]
  },
  {
   "cell_type": "code",
   "execution_count": 41,
   "id": "077cf0cc-60f0-4701-81f7-520e1e8ac481",
   "metadata": {},
   "outputs": [
    {
     "data": {
      "text/plain": [
       "[array([0]), array([0]), array([0]), array([0]), array([0])]"
      ]
     },
     "execution_count": 41,
     "metadata": {},
     "output_type": "execute_result"
    }
   ],
   "source": [
    "n_j = [[0.0],[0.0],[0.0],[0.0],[0.0]]\n",
    "[np.random.binomial(n=n_j[k], p=np.exp(-0.03)) for k in range(5)]"
   ]
  },
  {
   "cell_type": "code",
   "execution_count": null,
   "id": "828c0b6a-a26d-4697-a4a2-84027ebd60f6",
   "metadata": {},
   "outputs": [],
   "source": [
    "gmonth.step(np.float32([10, 0, 0]))"
   ]
  }
 ],
 "metadata": {
  "kernelspec": {
   "display_name": "Python 3 (ipykernel)",
   "language": "python",
   "name": "python3"
  },
  "language_info": {
   "codemirror_mode": {
    "name": "ipython",
    "version": 3
   },
   "file_extension": ".py",
   "mimetype": "text/x-python",
   "name": "python",
   "nbconvert_exporter": "python",
   "pygments_lexer": "ipython3",
   "version": "3.11.10"
  }
 },
 "nbformat": 4,
 "nbformat_minor": 5
}
