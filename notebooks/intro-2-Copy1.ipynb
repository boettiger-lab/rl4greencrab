{
 "cells": [
  {
   "cell_type": "markdown",
   "id": "a20c1cfd-cdbc-4286-997d-d740c609b514",
   "metadata": {},
   "source": [
    "# RL training on the env"
   ]
  },
  {
   "cell_type": "code",
   "execution_count": 1,
   "id": "1862e7b1-b0ba-44e9-ac4d-767ee4780a2a",
   "metadata": {},
   "outputs": [],
   "source": [
    "import numpy as np\n",
    "import pandas as pd\n",
    "from plotnine import (\n",
    "    ggplot, aes, geom_density, geom_line, geom_point, \n",
    "    geom_violin, facet_grid, labs, theme, facet_wrap,\n",
    ")\n",
    "\n",
    "# for rl training\n",
    "from stable_baselines3 import PPO, TD3\n",
    "from sb3_contrib import TQC\n",
    "from stable_baselines3.common.env_util import make_vec_env\n",
    "\n",
    "# the rl environment\n",
    "from rl4greencrab import greenCrabSimplifiedEnv as gcse\n",
    "\n",
    "# helper that paralelizes episode simulations for evaluation purposes (agent -> reward)\n",
    "from rl4greencrab import evaluate_agent\n",
    "\n",
    "# helper that creates a single episode simulation keeping track of many variables\n",
    "# of the internal env state\n",
    "from rl4greencrab import simulator\n",
    "from stable_baselines3.common.evaluation import evaluate_policy"
   ]
  },
  {
   "cell_type": "code",
   "execution_count": 2,
   "id": "0f093331-3c48-441a-8803-575878c35f99",
   "metadata": {},
   "outputs": [],
   "source": [
    "# using 'vectorized environments' helps paralelize RL training\n",
    "# (the RL agent collects data by simultaneously interacting with\n",
    "# n_envs different environments, rather than doing it one envir.\n",
    "# at a time.\n",
    "vec_env = make_vec_env(gcse, n_envs=12)"
   ]
  },
  {
   "cell_type": "markdown",
   "id": "8687dbfd-3478-4d46-b8be-ad9a51d65394",
   "metadata": {},
   "source": [
    "## Algo 1: PPO\n",
    "\n",
    "see docs here: https://stable-baselines3.readthedocs.io/en/master/modules/ppo.html"
   ]
  },
  {
   "cell_type": "code",
   "execution_count": 3,
   "id": "e1e854f5-5ac2-4d60-b2ed-47663a6ed86f",
   "metadata": {},
   "outputs": [
    {
     "data": {
      "application/vnd.jupyter.widget-view+json": {
       "model_id": "22b50e814506483a8bb14d2c645e1703",
       "version_major": 2,
       "version_minor": 0
      },
      "text/plain": [
       "Output()"
      ]
     },
     "metadata": {},
     "output_type": "display_data"
    },
    {
     "data": {
      "text/html": [
       "<pre style=\"white-space:pre;overflow-x:auto;line-height:normal;font-family:Menlo,'DejaVu Sans Mono',consolas,'Courier New',monospace\"></pre>\n"
      ],
      "text/plain": []
     },
     "metadata": {},
     "output_type": "display_data"
    }
   ],
   "source": [
    "model = PPO(\"MlpPolicy\", vec_env, verbose=0, tensorboard_log=\"/home/rstudio/logs\")\n",
    "model.learn(\n",
    "\ttotal_timesteps=250_000, \n",
    "\tprogress_bar=True,\n",
    ")\n",
    "model.save(\"ppo_gcse\")"
   ]
  },
  {
   "cell_type": "markdown",
   "id": "b6cc330f-7cfb-4fa7-94f0-9ad91e680d6d",
   "metadata": {},
   "source": [
    "## Algo 2: TD3"
   ]
  },
  {
   "cell_type": "code",
   "execution_count": null,
   "id": "69c91e15-d69f-445b-8468-eb7e2adee387",
   "metadata": {
    "scrolled": true
   },
   "outputs": [],
   "source": [
    "model = TD3(\"MlpPolicy\", gcse, verbose=0, tensorboard_log=\"/home/rstudio/logs\")\n",
    "model.learn(\n",
    "\ttotal_timesteps=250_000, \n",
    "\tprogress_bar=True,\n",
    ")\n",
    "model.save(\"td3_gcse\")"
   ]
  },
  {
   "cell_type": "markdown",
   "id": "d4af2e35-266a-499b-b953-be61fc492a63",
   "metadata": {},
   "source": [
    "## Algo 3: TQC"
   ]
  },
  {
   "cell_type": "code",
   "execution_count": 7,
   "id": "5449d3e9-610a-4bfd-9d3b-554117e04eb3",
   "metadata": {},
   "outputs": [
    {
     "data": {
      "application/vnd.jupyter.widget-view+json": {
       "model_id": "c069130cc5ad4ef29d3f99677004484a",
       "version_major": 2,
       "version_minor": 0
      },
      "text/plain": [
       "Output()"
      ]
     },
     "metadata": {},
     "output_type": "display_data"
    },
    {
     "data": {
      "text/html": [
       "<pre style=\"white-space:pre;overflow-x:auto;line-height:normal;font-family:Menlo,'DejaVu Sans Mono',consolas,'Courier New',monospace\"></pre>\n"
      ],
      "text/plain": []
     },
     "metadata": {},
     "output_type": "display_data"
    }
   ],
   "source": [
    "model = TQC(\"MlpPolicy\", vec_env, verbose=0, tensorboard_log=\"/home/rstudio/logs\")\n",
    "model.learn(\n",
    "\ttotal_timesteps=250_000, \n",
    "\tprogress_bar=True,\n",
    ")\n",
    "model.save(\"tqc_gcse\")"
   ]
  },
  {
   "cell_type": "markdown",
   "id": "38b00055-d019-41f9-93f2-9514f11e5a1a",
   "metadata": {},
   "source": [
    "## Loading and evaluating trained models"
   ]
  },
  {
   "cell_type": "code",
   "execution_count": 4,
   "id": "1fce88ff-4c74-4eb6-ae01-475955ab0584",
   "metadata": {},
   "outputs": [
    {
     "name": "stderr",
     "output_type": "stream",
     "text": [
      "/opt/conda/lib/python3.11/site-packages/stable_baselines3/common/save_util.py:167: UserWarning: Could not deserialize object lr_schedule. Consider using `custom_objects` argument to replace this object.\n",
      "Exception: code() argument 13 must be str, not int\n"
     ]
    }
   ],
   "source": [
    "# load agents into the CPU (rather than the GPU - the default)\n",
    "# since the paralelization we use to evaluate agents works with\n",
    "# CPU\n",
    "\n",
    "ppoAgent = PPO.load(\"ppo_gcse\", device=\"cpu\")\n",
    "# td3Agent = TD3.load(\"td3_gcse\", device=\"cpu\")\n",
    "tqcAgent = TQC.load(\"tqc_gcse\", device=\"cpu\")\n",
    "evalEnv = gcse()"
   ]
  },
  {
   "cell_type": "code",
   "execution_count": 5,
   "id": "8c35cf8f-054a-4ea5-a98f-c4f6383e25d5",
   "metadata": {},
   "outputs": [
    {
     "name": "stderr",
     "output_type": "stream",
     "text": [
      "/opt/conda/lib/python3.11/site-packages/stable_baselines3/common/evaluation.py:67: UserWarning: Evaluation environment is not wrapped with a ``Monitor`` wrapper. This may result in reporting modified episode lengths and rewards, if other wrappers happen to modify these. Consider wrapping environment first with ``Monitor`` wrapper.\n"
     ]
    },
    {
     "name": "stdout",
     "output_type": "stream",
     "text": [
      "PPO reward = -12.12830 +/- 1.54197\n"
     ]
    }
   ],
   "source": [
    "mean_rew, std_rew = evaluate_policy(ppoAgent, evalEnv)\n",
    "print(f\"PPO reward = {mean_rew:.5f} +/- {std_rew:.5f}\")"
   ]
  },
  {
   "cell_type": "code",
   "execution_count": 6,
   "id": "663ec726-e40f-47bb-9603-7512eaf452f6",
   "metadata": {},
   "outputs": [
    {
     "data": {
      "text/html": [
       "<div>\n",
       "<style scoped>\n",
       "    .dataframe tbody tr th:only-of-type {\n",
       "        vertical-align: middle;\n",
       "    }\n",
       "\n",
       "    .dataframe tbody tr th {\n",
       "        vertical-align: top;\n",
       "    }\n",
       "\n",
       "    .dataframe thead th {\n",
       "        text-align: right;\n",
       "    }\n",
       "</style>\n",
       "<table border=\"1\" class=\"dataframe\">\n",
       "  <thead>\n",
       "    <tr style=\"text-align: right;\">\n",
       "      <th></th>\n",
       "      <th>t</th>\n",
       "      <th>obs0</th>\n",
       "      <th>obs1</th>\n",
       "      <th>act0</th>\n",
       "      <th>act1</th>\n",
       "      <th>act2</th>\n",
       "      <th>rew</th>\n",
       "      <th>rep</th>\n",
       "    </tr>\n",
       "  </thead>\n",
       "  <tbody>\n",
       "    <tr>\n",
       "      <th>0</th>\n",
       "      <td>0</td>\n",
       "      <td>-1.000000</td>\n",
       "      <td>-1.000000</td>\n",
       "      <td>-0.293893</td>\n",
       "      <td>-0.200729</td>\n",
       "      <td>-0.139028</td>\n",
       "      <td>0.000000</td>\n",
       "      <td>0</td>\n",
       "    </tr>\n",
       "    <tr>\n",
       "      <th>1</th>\n",
       "      <td>1</td>\n",
       "      <td>-1.000000</td>\n",
       "      <td>-1.000000</td>\n",
       "      <td>-0.293893</td>\n",
       "      <td>-0.200729</td>\n",
       "      <td>-0.139028</td>\n",
       "      <td>-0.003313</td>\n",
       "      <td>0</td>\n",
       "    </tr>\n",
       "    <tr>\n",
       "      <th>2</th>\n",
       "      <td>2</td>\n",
       "      <td>-0.999949</td>\n",
       "      <td>-0.998631</td>\n",
       "      <td>-0.293828</td>\n",
       "      <td>-0.200681</td>\n",
       "      <td>-0.139004</td>\n",
       "      <td>-0.011676</td>\n",
       "      <td>0</td>\n",
       "    </tr>\n",
       "    <tr>\n",
       "      <th>3</th>\n",
       "      <td>3</td>\n",
       "      <td>-0.996459</td>\n",
       "      <td>-0.995690</td>\n",
       "      <td>-0.293370</td>\n",
       "      <td>-0.200386</td>\n",
       "      <td>-0.138839</td>\n",
       "      <td>-0.028878</td>\n",
       "      <td>0</td>\n",
       "    </tr>\n",
       "    <tr>\n",
       "      <th>4</th>\n",
       "      <td>4</td>\n",
       "      <td>-0.994019</td>\n",
       "      <td>-0.994027</td>\n",
       "      <td>-0.293066</td>\n",
       "      <td>-0.200193</td>\n",
       "      <td>-0.138730</td>\n",
       "      <td>-0.084550</td>\n",
       "      <td>0</td>\n",
       "    </tr>\n",
       "  </tbody>\n",
       "</table>\n",
       "</div>"
      ],
      "text/plain": [
       "   t      obs0      obs1      act0      act1      act2       rew  rep\n",
       "0  0 -1.000000 -1.000000 -0.293893 -0.200729 -0.139028  0.000000    0\n",
       "1  1 -1.000000 -1.000000 -0.293893 -0.200729 -0.139028 -0.003313    0\n",
       "2  2 -0.999949 -0.998631 -0.293828 -0.200681 -0.139004 -0.011676    0\n",
       "3  3 -0.996459 -0.995690 -0.293370 -0.200386 -0.138839 -0.028878    0\n",
       "4  4 -0.994019 -0.994027 -0.293066 -0.200193 -0.138730 -0.084550    0"
      ]
     },
     "execution_count": 6,
     "metadata": {},
     "output_type": "execute_result"
    }
   ],
   "source": [
    "ppoData = simulator(env = evalEnv, agent = ppoAgent).simulate_full_named_obs_acts()\n",
    "ppoDataDF = pd.DataFrame(ppoData)\n",
    "ppoDataDF.head()"
   ]
  },
  {
   "cell_type": "code",
   "execution_count": 7,
   "id": "525799d5-ff58-4add-b936-9286c6db56e4",
   "metadata": {},
   "outputs": [
    {
     "data": {
      "text/plain": [
       "<Axes: xlabel='t'>"
      ]
     },
     "execution_count": 7,
     "metadata": {},
     "output_type": "execute_result"
    },
    {
     "data": {
      "image/png": "[encoded data removed]",
      "text/plain": [
       "<Figure size 640x480 with 1 Axes>"
      ]
     },
     "metadata": {},
     "output_type": "display_data"
    }
   ],
   "source": [
    "ppoDataDF[ppoDataDF.rep == 0].plot(x='t', y =['obs0', 'obs1'])"
   ]
  },
  {
   "cell_type": "code",
   "execution_count": 13,
   "id": "43994123-2295-4aa3-a0c2-e2ed42cf7c4c",
   "metadata": {},
   "outputs": [],
   "source": [
    "N_EPS = 30\n",
    "\n",
    "ppo_rew = evaluate_agent(agent=ppoAgent, env=evalEnv, ray_remote=True).evaluate(n_eval_episodes=N_EPS)\n",
    "# td3_rew = evaluate_agent(agent=td3Agent, ray_remote=True).evaluate(n_eval_episodes=N_EPS)\n",
    "tqc_rew = evaluate_agent(agent=tqcAgent, env=evalEnv, ray_remote=True).evaluate(n_eval_episodes=N_EPS)"
   ]
  },
  {
   "cell_type": "code",
   "execution_count": 15,
   "id": "6b2be83f-cf60-45e8-b5d5-764a4337b5cc",
   "metadata": {},
   "outputs": [],
   "source": [
    "import ray\n",
    "ray.shutdown()"
   ]
  },
  {
   "cell_type": "code",
   "execution_count": 16,
   "id": "fbbe4ab0-7131-4c52-b180-dbe43f00896a",
   "metadata": {},
   "outputs": [
    {
     "name": "stdout",
     "output_type": "stream",
     "text": [
      "\n",
      "PPO mean rew = -9.576186668916746\n",
      "TQC mean rew = -6.698807471424942\n",
      "\n"
     ]
    }
   ],
   "source": [
    "print(f\"\"\"\n",
    "PPO mean rew = {ppo_rew}\n",
    "TQC mean rew = {tqc_rew}\n",
    "\"\"\")"
   ]
  },
  {
   "cell_type": "code",
   "execution_count": null,
   "id": "7b603baa-0bf2-4ed9-a901-86ce3a90660c",
   "metadata": {},
   "outputs": [],
   "source": []
  }
 ],
 "metadata": {
  "kernelspec": {
   "display_name": "Python 3 (ipykernel)",
   "language": "python",
   "name": "python3"
  },
  "language_info": {
   "codemirror_mode": {
    "name": "ipython",
    "version": 3
   },
   "file_extension": ".py",
   "mimetype": "text/x-python",
   "name": "python",
   "nbconvert_exporter": "python",
   "pygments_lexer": "ipython3",
   "version": "3.11.10"
  }
 },
 "nbformat": 4,
 "nbformat_minor": 5
}
