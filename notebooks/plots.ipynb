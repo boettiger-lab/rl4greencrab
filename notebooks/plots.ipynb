{
 "cells": [
  {
   "cell_type": "code",
   "execution_count": 1,
   "id": "56b25eb8-f3e6-4201-9d6a-415fb47fa6ea",
   "metadata": {},
   "outputs": [
    {
     "name": "stderr",
     "output_type": "stream",
     "text": [
      "2025-07-28 00:12:35,683\tINFO util.py:154 -- Outdated packages:\n",
      "  ipywidgets==7.8.5 found, needs ipywidgets>=8\n",
      "Run `pip install -U ipywidgets`, then restart the notebook server for rich notebook output.\n",
      "/opt/conda/lib/python3.12/site-packages/gymnasium/spaces/box.py:305: UserWarning: \u001b[33mWARN: Box high's precision lowered by casting to float32, current high.dtype=float64\u001b[0m\n",
      "  gym.logger.warn(\n"
     ]
    }
   ],
   "source": [
    "import numpy as np\n",
    "import pandas as pd\n",
    "from skopt import gp_minimize, gbrt_minimize \n",
    "from skopt.plots import plot_convergence, plot_objective\n",
    "from rl4greencrab.envs.green_crab_monthly_env import greenCrabMonthEnv\n",
    "from rl4greencrab.envs.green_crab_monthly_env_norm import greenCrabMonthEnvNormalized\n",
    "from rl4greencrab import evaluate_agent, multiConstAction, simulator, environment_simulation, plot_selected_sizes, agent_action_plot\n",
    "import matplotlib.pyplot as plt\n",
    "from ipywidgets import interact, widgets\n",
    "from huggingface_hub import hf_hub_download\n",
    "from stable_baselines3 import PPO, TD3\n",
    "from sb3_contrib import TQC, RecurrentPPO\n",
    "from rl4greencrab import LipschitzPPO\n",
    "from rl4greencrab import plot_agent\n",
    "import ray"
   ]
  },
  {
   "cell_type": "code",
   "execution_count": 2,
   "id": "5fc09b32-8ee6-499d-a16c-d6d3b305416a",
   "metadata": {},
   "outputs": [],
   "source": [
    "config = {\n",
    "    \"w_mort_scale\" : 600,\n",
    "    \"growth_k\": 0.70,\n",
    "    'random_start':True,\n",
    "    'var_penalty_const': 0\n",
    "    # \"curriculum\": True\n",
    "}"
   ]
  },
  {
   "cell_type": "markdown",
   "id": "820a5def-6a92-4e8a-aa27-4c280825f98d",
   "metadata": {
    "jp-MarkdownHeadingCollapsed": true
   },
   "source": [
    "## greencrab population change over times for each size"
   ]
  },
  {
   "cell_type": "code",
   "execution_count": null,
   "id": "225b597a-351f-4c80-a993-4a9c31e1a3fd",
   "metadata": {},
   "outputs": [],
   "source": [
    "agent = multiConstAction(env=env, action=np.array([0, 0, 0]))\n",
    "constantData = environment_simulation(env, agent)\n",
    "constantDataDF = pd.DataFrame(constantData)"
   ]
  },
  {
   "cell_type": "code",
   "execution_count": null,
   "id": "1f59fd94-c089-4a90-8631-44723b2618ac",
   "metadata": {},
   "outputs": [],
   "source": [
    "crab_pop_df = pd.DataFrame(constantDataDF[constantDataDF['rep']==0]['crab_pop'].tolist(), columns=[f'crab_pop_{i}' for i in range(len(constantDataDF['crab_pop'][0]))])\n",
    "crab_pop_df['t'] = constantDataDF['t']"
   ]
  },
  {
   "cell_type": "code",
   "execution_count": null,
   "id": "0f2b76fb-34ef-4333-8f85-f70144b6f042",
   "metadata": {},
   "outputs": [],
   "source": [
    "# Create a multi-select widget for crab size columns\n",
    "crab_pop_columns = [col for col in crab_pop_df.columns if col.startswith('crab_pop_')]\n",
    "size_selector = widgets.SelectMultiple(\n",
    "    options=crab_pop_columns,\n",
    "    value=[crab_pop_columns[0]],  # Default selection\n",
    "    description='Sizes',\n",
    "    disabled=False\n",
    ")\n",
    "# Create an interactive plot\n",
    "interact(lambda selected_sizes: plot_selected_sizes(crab_pop_df, selected_sizes), selected_sizes=size_selector);"
   ]
  },
  {
   "cell_type": "markdown",
   "id": "7239113e-7347-4bee-b096-3ea809332df7",
   "metadata": {
    "jp-MarkdownHeadingCollapsed": true
   },
   "source": [
    "## greencrab size distribution at certain time t"
   ]
  },
  {
   "cell_type": "code",
   "execution_count": null,
   "id": "c82937f7-c7db-49a5-8cf8-5914b44a346d",
   "metadata": {},
   "outputs": [],
   "source": [
    "def pop_df_gen(dataDF):\n",
    "    df = pd.DataFrame(dataDF[dataDF['rep']==0]['crab_pop'].tolist(), \n",
    "                      columns=[f'crab_pop_{i}' for i in range(len(dataDF['crab_pop'][0]))])\n",
    "    df.columns = [i for i in range(len(df.columns))]\n",
    "    return df\n",
    "\n",
    "def plot_size_distribution(dataDF, time_step):\n",
    "    crab_pop_df = pop_df_gen(dataDF)\n",
    "    plt.figure(figsize=(8, 5))\n",
    "    plt.bar(crab_pop_df.columns, crab_pop_df.loc[time_step], color='blue', alpha=0.7)\n",
    "    plt.ylim(0, 20000)\n",
    "    plt.title(f'Crab Size Distribution at {time_step}')\n",
    "    plt.xlabel('Crab Size')\n",
    "    plt.ylabel('Density')\n",
    "    plt.grid(True)\n",
    "    plt.show()\n",
    "\n",
    "def interact_size_plot(dataDF):\n",
    "    return interact(\n",
    "        lambda time_step: plot_size_distribution(dataDF, time_step),\n",
    "         time_step=dataDF.index\n",
    "    );"
   ]
  },
  {
   "cell_type": "code",
   "execution_count": null,
   "id": "cf9aef89-0475-4555-9b25-e83df54a4816",
   "metadata": {},
   "outputs": [],
   "source": [
    "agent = multiConstAction(env=env, action=np.array([0.0, 0, 0.0]))\n",
    "noInterventionData = environment_simulation(env, agent)\n",
    "noInterventionDataDF = pd.DataFrame(constantData)\n",
    "interact_size_plot(noInterventionDataDF)"
   ]
  },
  {
   "cell_type": "code",
   "execution_count": null,
   "id": "ff51d323-c164-48f8-8ee6-dde07b0afe93",
   "metadata": {},
   "outputs": [],
   "source": [
    "agent = multiConstAction(env=env, action=np.array([83.87232800633504, 596.3225575635984, 14.882297944474463]))\n",
    "constantData = environment_simulation(env, agent)\n",
    "constantDataDF = pd.DataFrame(constantData)\n",
    "interact_size_plot(constantDataDF)"
   ]
  },
  {
   "cell_type": "code",
   "execution_count": null,
   "id": "dfb7d55c-2c36-4463-a1f0-eedad99152db",
   "metadata": {},
   "outputs": [],
   "source": [
    "eval_env = greenCrabMonthEnvNormalized(config)\n",
    "ppoAgent = PPO.load(\"../saved_agents/PPO_gcmenorm\", device=\"cpu\")\n",
    "ppoDataDF = pd.DataFrame(environment_simulation(eval_env, ppoAgent))\n",
    "interact_size_plot(ppoDataDF)"
   ]
  },
  {
   "cell_type": "code",
   "execution_count": null,
   "id": "b47a5bc3-ff52-47c0-8f49-2c91f9e87d35",
   "metadata": {},
   "outputs": [],
   "source": [
    "eval_env = greenCrabMonthEnvNormalized(config)\n",
    "tqcAgent = TQC.load(f\"varRatio0.3_new/TQC_gcmenorm\", device=\"cpu\")\n",
    "tqcDataDF = pd.DataFrame(environment_simulation(eval_env, tqcAgent))\n",
    "interact_size_plot(tqcDataDF)"
   ]
  },
  {
   "cell_type": "code",
   "execution_count": null,
   "id": "19ffc227-c106-47b7-b64c-93279f667508",
   "metadata": {},
   "outputs": [],
   "source": [
    "df = tqcDataDF\n",
    "df[df.rep == 0].iloc[:, :].plot(x='t', y=['act0', 'act1', 'act2'], title=\"Actions over Time\")"
   ]
  },
  {
   "cell_type": "code",
   "execution_count": null,
   "id": "856c4cf5-556f-4f5a-9d74-3e0ee3aed160",
   "metadata": {},
   "outputs": [],
   "source": [
    "crab_pop_df = pop_df_gen(tqcDataDF)\n",
    "crab_pop_df.iloc[:, :][8].plot()\n",
    "plt.xlabel('t')\n",
    "plt.ylabel('size_5')"
   ]
  },
  {
   "cell_type": "code",
   "execution_count": null,
   "id": "94813364-eec2-4906-90df-6c8742f6689e",
   "metadata": {},
   "outputs": [],
   "source": [
    "act_state_df = df[df.rep == 0].merge(right=crab_pop_df, left_index=True, right_index=True).drop(labels = 'crab_pop', axis=1)"
   ]
  },
  {
   "cell_type": "code",
   "execution_count": null,
   "id": "eba97e65-2af6-4990-a459-682b633937be",
   "metadata": {},
   "outputs": [],
   "source": [
    "plt.scatter(x=act_state_df[11], y=act_state_df['act1'])\n",
    "plt.xlabel('size_5')\n",
    "plt.ylabel('act0')\n",
    "# act_state_df.plot(x=5, y='act0')"
   ]
  },
  {
   "cell_type": "markdown",
   "id": "06584a4b-37e2-47c4-88ba-ecebf9f86c14",
   "metadata": {
    "jp-MarkdownHeadingCollapsed": true
   },
   "source": [
    "## Overlap Policy Size Distribution"
   ]
  },
  {
   "cell_type": "code",
   "execution_count": null,
   "id": "0e88ac47-8c46-4218-afc7-5bcc97fe118a",
   "metadata": {},
   "outputs": [],
   "source": [
    "dataDF_list = [noInterventionDataDF, constantDataDF, ppoDataDF]"
   ]
  },
  {
   "cell_type": "code",
   "execution_count": null,
   "id": "8d4b51fa-774a-4e6d-a2f7-2b016a1a14d2",
   "metadata": {},
   "outputs": [],
   "source": [
    "def plot_size_distr_overlap(dataDF_list, time_step):\n",
    "    plt.figure(figsize=(8, 5))\n",
    "    for i, df in enumerate(dataDF_list):\n",
    "        crab_pop_df = pop_df_gen(df)\n",
    "        plt.bar(\n",
    "            crab_pop_df.columns,\n",
    "            crab_pop_df.loc[time_step],\n",
    "            alpha=0.5,\n",
    "            label=f\"DataFrame {i+1}\"\n",
    "        )\n",
    "    plt.legend()\n",
    "    plt.title(f'Crab Size Distribution at {time_step}')\n",
    "    plt.xlabel('Crab Size')\n",
    "    plt.ylabel('Density')\n",
    "    plt.grid(True)\n",
    "    plt.show()\n",
    "\n",
    "def interact_size_plot(dataDF_list):\n",
    "    return interact(\n",
    "        lambda time_step: plot_size_distr_overlap(dataDF_list, time_step),\n",
    "         time_step=pd.DataFrame(dataDF_list[0]).index\n",
    "    );"
   ]
  },
  {
   "cell_type": "code",
   "execution_count": null,
   "id": "2dc1df34-1c7a-45f4-a26f-d78bea7f6ad2",
   "metadata": {},
   "outputs": [],
   "source": [
    "interact_size_plot(dataDF_list)"
   ]
  },
  {
   "cell_type": "markdown",
   "id": "91375383-13a6-460b-8cd9-d488702aa943",
   "metadata": {
    "jp-MarkdownHeadingCollapsed": true
   },
   "source": [
    "## Model Reward Distributions"
   ]
  },
  {
   "cell_type": "code",
   "execution_count": null,
   "id": "60d28aac-03d7-40d0-b6ef-034e28a270fe",
   "metadata": {},
   "outputs": [],
   "source": [
    "evalEnv =  greenCrabMonthEnvNormalized(config)"
   ]
  },
  {
   "cell_type": "code",
   "execution_count": null,
   "id": "abdb6683-5d4f-40cf-a05f-8e3240df4425",
   "metadata": {},
   "outputs": [],
   "source": [
    "path = \"../saved_agents\"\n",
    "td3Agent = TD3.load(f\"TD3_gcmenorm\", device=\"cpu\")\n",
    "ppoAgent = PPO.load(f\"PPO_gcmenorm\", device=\"cpu\")\n",
    "tqcAgent = TQC.load(f\"TQC_gcmenorm\", device=\"cpu\")\n",
    "recurrentPPOAgent = RecurrentPPO.load(\"RecurrentPPO_gcmenorm_256_1_var0\", device=\"cpu\")\n",
    "lppoAgent = LipschitzPPO.load(\"LipschitzPPO_gcmenorm_0.001_50\", device=\"cpu\")"
   ]
  },
  {
   "cell_type": "code",
   "execution_count": null,
   "id": "bb7c7678-d718-4588-b66d-e13ef99b8df3",
   "metadata": {},
   "outputs": [],
   "source": [
    "td3Agent = TD3.load(f\"varianceRatio0/TD3_gcmenorm\", device=\"cpu\")\n",
    "ppoAgent = PPO.load(f\"varianceRatio0/PPO_gcmenorm\", device=\"cpu\")\n",
    "tqcAgent = TQC.load(f\"varRatio0.3_new/TQC_gcmenorm\", device=\"cpu\")\n",
    "recurrentPPOAgent = RecurrentPPO.load(\"varianceRatio0.3/RecurrentPPO_gcmenorm_256_1_varR0.3\", device=\"cpu\")\n",
    "lppoAgent = LipschitzPPO.load(\"varRatio0.3_new/LipschitzPPO_gcmenorm_0.1_1\", device=\"cpu\")"
   ]
  },
  {
   "cell_type": "code",
   "execution_count": null,
   "id": "981eb516-a2e3-4a1f-9c9f-0b0664ac0c32",
   "metadata": {},
   "outputs": [],
   "source": [
    "def evaluateConstAct(x):\n",
    "    env = greenCrabMonthEnvNormalized(config)\n",
    "    agent = multiConstAction(env=env, action=np.array(x))\n",
    "    # rewards = simulator(env, agent).simulate()\n",
    "    # out = np.mean(rewards)\n",
    "    rewards = evaluate_agent(agent=agent, ray_remote=True, gpu=False).evaluate(n_eval_episodes=50, return_episode_rewards=True)\n",
    "    m_reward = np.mean(rewards)\n",
    "    return -m_reward, rewards\n",
    "\n",
    "# normalized constant action\n",
    "def normalized_action(act, max_act):\n",
    "    max_action = max_act\n",
    "    constant_act = np.array(act)\n",
    "    return constant_act * 2 / max_action - 1 "
   ]
  },
  {
   "cell_type": "code",
   "execution_count": null,
   "id": "8e0c1759-a875-45b4-a03d-32972dd1ca8a",
   "metadata": {},
   "outputs": [],
   "source": [
    "# normalized constant action\n",
    "def normalized_action(act, max_act):\n",
    "    max_action = max_act\n",
    "    constant_act = np.array(act)\n",
    "    return constant_act * 2 / max_action - 1 "
   ]
  },
  {
   "cell_type": "code",
   "execution_count": null,
   "id": "1a744b3e-7562-4919-922c-6b5a3e9a9294",
   "metadata": {},
   "outputs": [],
   "source": [
    "ray.init()\n",
    "norm_act = normalized_action([0.0, 0.0, 154.3889141214999], 3000)\n",
    "m_reward, const_rews = evaluateConstAct(norm_act)\n",
    "ray.shutdown()"
   ]
  },
  {
   "cell_type": "code",
   "execution_count": null,
   "id": "2a72280f-9669-4dcf-9876-3f2706dfbeba",
   "metadata": {},
   "outputs": [],
   "source": [
    "N_EPS = 30\n",
    "ray.init()\n",
    "ppo_rew = evaluate_agent(agent=ppoAgent, env=evalEnv, ray_remote=True).evaluate(n_eval_episodes=N_EPS)\n",
    "td3_rew = evaluate_agent(agent=td3Agent, env=evalEnv, ray_remote=True).evaluate(n_eval_episodes=N_EPS)\n",
    "tqc_rew = evaluate_agent(agent=tqcAgent, env=evalEnv, ray_remote=True).evaluate(n_eval_episodes=N_EPS)\n",
    "reppo_rew = evaluate_agent(agent=recurrentPPOAgent, env=evalEnv, ray_remote=True).evaluate(n_eval_episodes=N_EPS)\n",
    "lppo_rew = evaluate_agent(agent=lppoAgent, env=evalEnv, ray_remote=True).evaluate(n_eval_episodes=N_EPS)"
   ]
  },
  {
   "cell_type": "code",
   "execution_count": null,
   "id": "6f1e7170-6ceb-4694-bf06-668c9d84f5c2",
   "metadata": {},
   "outputs": [],
   "source": [
    "N_EPS = 200\n",
    "\n",
    "ppo_rews = evaluate_agent(agent=ppoAgent, env=evalEnv, ray_remote=True).evaluate(n_eval_episodes=N_EPS, return_episode_rewards=True)\n",
    "td3_rews = evaluate_agent(agent=td3Agent, env=evalEnv, ray_remote=True).evaluate(n_eval_episodes=N_EPS, return_episode_rewards=True)\n",
    "tqc_rews = evaluate_agent(agent=tqcAgent, env=evalEnv, ray_remote=True).evaluate(n_eval_episodes=N_EPS, return_episode_rewards=True)\n",
    "reppo_rews = evaluate_agent(agent=recurrentPPOAgent, env=evalEnv, ray_remote=True).evaluate(n_eval_episodes=N_EPS, return_episode_rewards=True)\n",
    "lppo_rews = evaluate_agent(agent=lppoAgent, env=evalEnv, ray_remote=True).evaluate(n_eval_episodes=N_EPS, return_episode_rewards=True)"
   ]
  },
  {
   "cell_type": "code",
   "execution_count": null,
   "id": "305e3c83-4bec-4efe-b306-e549b0bf58c9",
   "metadata": {},
   "outputs": [],
   "source": [
    "import ray\n",
    "ray.shutdown()"
   ]
  },
  {
   "cell_type": "code",
   "execution_count": null,
   "id": "8867f311-08ca-410a-a5fa-a5bf2d11bc8b",
   "metadata": {},
   "outputs": [],
   "source": [
    "plt.hist(ppo_rews, alpha=0.6, label='PPO')\n",
    "plt.hist(td3_rews, alpha=0.6, label='TD3')\n",
    "plt.hist(tqc_rews, alpha=0.6, label='TQC')\n",
    "plt.hist(reppo_rews , alpha=0.6, label='RecurentPPO')\n",
    "plt.hist(lppo_rews , alpha=0.6, label='LipschitzPPO')\n",
    "plt.hist(const_rews, alpha=0.6, label='Constant')\n",
    "\n",
    "# # Mark means with vertical lines\n",
    "plt.axvline(np.mean(ppo_rews), color='blue', linestyle='dashed', linewidth=2, label='PPO Mean')\n",
    "plt.axvline(np.mean(td3_rews), color='orange', linestyle='dashed', linewidth=2, label='TD3 Mean')\n",
    "plt.axvline(np.mean(tqc_rews), color='green', linestyle='dashed', linewidth=2, label='TQC Mean')\n",
    "plt.axvline(np.mean(const_rews), color='red', linestyle='dashed', linewidth=2, label='Constant Mean')\n",
    "\n",
    "plt.legend()\n",
    "plt.xlabel(\"Reward\")\n",
    "plt.ylabel(\"Frequency\")\n",
    "plt.title(\"Reward Distribution Comparison\")\n",
    "plt.show()"
   ]
  },
  {
   "cell_type": "code",
   "execution_count": null,
   "id": "a66a43c5-e125-473c-a47d-db01da772752",
   "metadata": {},
   "outputs": [],
   "source": [
    "from rl4greencrab import agent_rew_vs_constant_rew_plot"
   ]
  },
  {
   "cell_type": "code",
   "execution_count": null,
   "id": "090430e4-105f-49dc-aa9b-cd2dd13b3562",
   "metadata": {},
   "outputs": [],
   "source": [
    "models = {\n",
    "    'PPO': ppo_rews,\n",
    "    'TD3': td3_rews,\n",
    "    'TQC': tqc_rews,\n",
    "    'RecurrentPPO': reppo_rews,\n",
    "    'LipschitzPPO': lppo_rews\n",
    "}\n",
    "constant_rewards = const_rews\n",
    "agent_rew_vs_constant_rew_plot(models, constant_rewards)"
   ]
  },
  {
   "cell_type": "code",
   "execution_count": null,
   "id": "8d622694-fe0d-43ca-8b74-bc039053fd53",
   "metadata": {},
   "outputs": [],
   "source": [
    "np.std(ppo_rews), np.std(td3_rews), np.std(tqc_rews), np.std(reppo_rews), np.std(const_rews)"
   ]
  },
  {
   "cell_type": "code",
   "execution_count": null,
   "id": "435a32c1-2069-4781-9672-d6941bc38a17",
   "metadata": {},
   "outputs": [],
   "source": [
    "np.mean(ppo_rews), np.mean(td3_rews), np.mean(tqc_rews), np.mean(reppo_rews), np.mean(lppo_rew), -m_reward"
   ]
  },
  {
   "cell_type": "markdown",
   "id": "b677f241-360e-460f-a183-620c21218663",
   "metadata": {
    "jp-MarkdownHeadingCollapsed": true
   },
   "source": [
    "## Agent Actions Plot"
   ]
  },
  {
   "cell_type": "code",
   "execution_count": null,
   "id": "5c2b8747-b8df-4bc9-bd26-e96d3454c4ec",
   "metadata": {},
   "outputs": [],
   "source": [
    "import os"
   ]
  },
  {
   "cell_type": "code",
   "execution_count": null,
   "id": "7462f7c4-0721-4f87-be43-8f39f3d704a4",
   "metadata": {},
   "outputs": [],
   "source": [
    "config = {\n",
    "    \"w_mort_scale\" : 600,\n",
    "    \"growth_k\": 0.70,\n",
    "    'random_start':True,\n",
    "    'var_penalty_const': 0\n",
    "    # \"curriculum\": True\n",
    "}"
   ]
  },
  {
   "cell_type": "code",
   "execution_count": null,
   "id": "ec79e35d-e9d7-4194-a4c6-51777dcdf388",
   "metadata": {
    "scrolled": true
   },
   "outputs": [],
   "source": [
    "evalEnv =  greenCrabMonthEnvNormalized(config)"
   ]
  },
  {
   "cell_type": "code",
   "execution_count": null,
   "id": "a0806ea8-5f1c-481a-bb4c-00a1af1b1615",
   "metadata": {},
   "outputs": [],
   "source": [
    "td3Agent = TD3.load(f\"varianceRatio0/TD3_gcmenorm\", device=\"cpu\")\n",
    "ppoAgent = PPO.load(f\"varianceRatio0/PPO_gcmenorm\", device=\"cpu\")\n",
    "tqcAgent = TQC.load(f\"varRatio0.3_new/TQC_gcmenorm\", device=\"cpu\")\n",
    "recurrentPPOAgent = RecurrentPPO.load(\"varianceRatio0.3/RecurrentPPO_gcmenorm_256_1_varR0.3\", device=\"cpu\")\n",
    "lppoAgent = LipschitzPPO.load(\"varRatio0.3_new/LipschitzPPO_gcmenorm_0.1_1\", device=\"cpu\")"
   ]
  },
  {
   "cell_type": "code",
   "execution_count": null,
   "id": "5065a699-7a4d-4707-b08c-684324cb71f2",
   "metadata": {},
   "outputs": [],
   "source": [
    "ppoDataDF = pd.DataFrame(environment_simulation(eval_env, ppoAgent))\n",
    "DATAPATH = './rl4greencrab/data'\n",
    "ppoDataDF.to_csv(os.path.join(DATAPATH,f\"ppo_env.csv\"), index = False)"
   ]
  },
  {
   "cell_type": "code",
   "execution_count": null,
   "id": "4b3b8d62-8fc8-4a54-a64c-60a8453a0120",
   "metadata": {},
   "outputs": [],
   "source": [
    "ppoDataDF = agent_action_plot(evalEnv=evalEnv, agent=ppoAgent)"
   ]
  },
  {
   "cell_type": "code",
   "execution_count": null,
   "id": "c984aead-89f6-46ab-8dee-e063f4e33600",
   "metadata": {},
   "outputs": [],
   "source": [
    "ppoDataDF = agent_action_plot(evalEnv=evalEnv, agent=tqcAgent)"
   ]
  },
  {
   "cell_type": "markdown",
   "id": "c34ae69b-b695-403e-be5d-71d13c48bda7",
   "metadata": {},
   "source": [
    "## Generate env simulation data"
   ]
  },
  {
   "cell_type": "code",
   "execution_count": 3,
   "id": "3687b827-8a47-4e79-9424-a391f76d070a",
   "metadata": {},
   "outputs": [],
   "source": [
    "evalEnv =  greenCrabMonthEnvNormalized(config)"
   ]
  },
  {
   "cell_type": "code",
   "execution_count": 4,
   "id": "dbdc1d08-8eeb-4fd2-b8d0-6a5913333015",
   "metadata": {},
   "outputs": [],
   "source": [
    "td3Agent = TD3.load(f\"varianceRatio0/TD3_gcmenorm\", device=\"cpu\")\n",
    "ppoAgent = PPO.load(f\"varianceRatio0/PPO_gcmenorm\", device=\"cpu\")\n",
    "tqcAgent = TQC.load(f\"varRatio0.3_new/TQC_gcmenorm\", device=\"cpu\")\n",
    "recurrentPPOAgent = RecurrentPPO.load(\"varianceRatio0.3/RecurrentPPO_gcmenorm_256_1_varR0.3\", device=\"cpu\")\n",
    "lppoAgent = LipschitzPPO.load(\"varRatio0.3_new/LipschitzPPO_gcmenorm_0.1_1\", device=\"cpu\")"
   ]
  },
  {
   "cell_type": "code",
   "execution_count": 5,
   "id": "cae58195-cc52-4fe8-8014-424f368e054d",
   "metadata": {},
   "outputs": [],
   "source": [
    "# normalized constant action\n",
    "def normalized_action(act, max_act):\n",
    "    max_action = max_act\n",
    "    constant_act = np.array(act)\n",
    "    return constant_act * 2 / max_action - 1 "
   ]
  },
  {
   "cell_type": "code",
   "execution_count": 6,
   "id": "d82ed295-c456-4374-84a0-6c66652bf90e",
   "metadata": {},
   "outputs": [
    {
     "name": "stdout",
     "output_type": "stream",
     "text": [
      "[-1.         -1.         -0.89707406]\n"
     ]
    }
   ],
   "source": [
    "norm_act = normalized_action([0.0, 0.0, 154.3889141214999], 3000)\n",
    "print(norm_act)\n",
    "optimal_constant_agent = multiConstAction(env=evalEnv, action=norm_act)\n",
    "zero_constant_agent = multiConstAction(env=evalEnv, action=np.array([-1, -1, -1]))"
   ]
  },
  {
   "cell_type": "code",
   "execution_count": 7,
   "id": "ac7b0713-a29a-4e31-96b9-e5255d44a94f",
   "metadata": {
    "scrolled": true
   },
   "outputs": [
    {
     "name": "stderr",
     "output_type": "stream",
     "text": [
      "/opt/conda/lib/python3.12/site-packages/gymnasium/spaces/box.py:305: UserWarning: \u001b[33mWARN: Box high's precision lowered by casting to float32, current high.dtype=float64\u001b[0m\n",
      "  gym.logger.warn(\n"
     ]
    }
   ],
   "source": [
    "evalEnv =  greenCrabMonthEnvNormalized(config)\n",
    "td3_plot_agent = plot_agent(env_sim_df=None, \n",
    "                            agent_name='td3_agent_rep500', \n",
    "                            env=evalEnv, \n",
    "                            agent=td3Agent, \n",
    "                            save_dir='.')\n",
    "td3_plot_agent.gen_env_sim_df(rep=1)\n",
    "td3_plot_agent.save_df(td3_plot_agent.env_simulation_df, 'td3_sim_500')"
   ]
  },
  {
   "cell_type": "code",
   "execution_count": 8,
   "id": "20c420b1-69f5-47de-97f5-80af71bb19e2",
   "metadata": {
    "scrolled": true
   },
   "outputs": [],
   "source": [
    "evalEnv =  greenCrabMonthEnvNormalized(config)\n",
    "ppo_plot_agent = plot_agent(env_sim_df=None, \n",
    "                            agent_name='ppo_agent_rep500', \n",
    "                            env=evalEnv, \n",
    "                            agent=ppoAgent, \n",
    "                            save_dir='.')\n",
    "ppo_plot_agent.gen_env_sim_df(rep=1)\n",
    "ppo_plot_agent.save_df(ppo_plot_agent.env_simulation_df, 'ppo_sim_500')"
   ]
  },
  {
   "cell_type": "code",
   "execution_count": 9,
   "id": "558ce4c6-1bcc-46e0-a429-64fdc154adaf",
   "metadata": {
    "scrolled": true
   },
   "outputs": [],
   "source": [
    "evalEnv =  greenCrabMonthEnvNormalized(config)\n",
    "tqc_plot_agent = plot_agent(env_sim_df=None, \n",
    "                            agent_name='tqc_agent_rep500', \n",
    "                            env=evalEnv, \n",
    "                            agent=tqcAgent, \n",
    "                            save_dir='.')\n",
    "tqc_plot_agent.gen_env_sim_df(rep=500)\n",
    "tqc_plot_agent.save_df(tqc_plot_agent.env_simulation_df, 'tqc_sim_500')"
   ]
  },
  {
   "cell_type": "code",
   "execution_count": null,
   "id": "32ea25ca-d62f-492f-a955-6eeaf0fa36ce",
   "metadata": {},
   "outputs": [],
   "source": [
    "evalEnv =  greenCrabMonthEnvNormalized(config)\n",
    "rppo_plot_agent = plot_agent(env_sim_df=None, \n",
    "                            agent_name='rppo_agent_rep500', \n",
    "                            env=evalEnv, \n",
    "                            agent=recurrentPPOAgent, \n",
    "                            save_dir='.')\n",
    "rppo_plot_agent.gen_env_sim_df(rep=500)\n",
    "rppo_plot_agent.save_df(rppo_plot_agent.env_simulation_df, 'rppo_sim_500')"
   ]
  },
  {
   "cell_type": "code",
   "execution_count": null,
   "id": "dade0ed7-dda4-4541-932e-e2a51f82dcc8",
   "metadata": {
    "scrolled": true
   },
   "outputs": [],
   "source": [
    "evalEnv =  greenCrabMonthEnvNormalized(config)\n",
    "optimal_constant_plot_agent = plot_agent(env_sim_df=None, \n",
    "                            agent_name='optimal_constant_agent_rep500', \n",
    "                            env=evalEnv, \n",
    "                            agent=optimal_constant_agent, \n",
    "                            save_dir='.')\n",
    "optimal_constant_plot_agent.gen_env_sim_df(rep=1)\n",
    "optimal_constant_plot_agent.save_df(optimal_constant_plot_agent.env_simulation_df, 'optimal_constant_sim_500')"
   ]
  },
  {
   "cell_type": "code",
   "execution_count": null,
   "id": "3dfd4733-e98c-4276-babc-6c5815d52c0f",
   "metadata": {
    "scrolled": true
   },
   "outputs": [],
   "source": [
    "evalEnv =  greenCrabMonthEnvNormalized(config)\n",
    "zero_constant_plot_agent = plot_agent(env_sim_df=None, \n",
    "                            agent_name='zero_constant_agent_rep500', \n",
    "                            env=evalEnv, \n",
    "                            agent=zero_constant_agent, \n",
    "                            save_dir='.')\n",
    "zero_constant_plot_agent.gen_env_sim_df(rep=1)\n",
    "zero_constant_plot_agent.save_df(zero_constant_plot_agent.env_simulation_df, 'zero_constant_sim_500')"
   ]
  },
  {
   "cell_type": "markdown",
   "id": "b9780ad1-0a5a-4a8e-bb1e-ccb48bdc34bf",
   "metadata": {},
   "source": [
    "## Rewards plots"
   ]
  },
  {
   "cell_type": "code",
   "execution_count": null,
   "id": "4fd6a113-a94c-4854-b673-284d48c78c74",
   "metadata": {},
   "outputs": [],
   "source": [
    "ppo_df = pd.read_csv(\"rl4greencrab/data/ppo_env.csv\")\n",
    "rppo_df = pd.read_csv(\"rl4greencrab/data/rppo_env.csv\")\n",
    "td3_df = pd.read_csv(\"rl4greencrab/data/td3_env.csv\")\n",
    "tqc_df = pd.read_csv(\"rl4greencrab/data/tqc_env.csv\")\n",
    "constant_df =  pd.read_csv(\"rl4greencrab/data/constant_agent_env.csv\")"
   ]
  },
  {
   "cell_type": "code",
   "execution_count": null,
   "id": "5ce436f6-41f8-475f-924d-3fcb8d05cf10",
   "metadata": {},
   "outputs": [],
   "source": [
    "agent_dict = {\n",
    "    'td3Agent': td3_df,\n",
    "    'ppoAgent': ppo_df,\n",
    "    'tqcAgent': tqc_df,\n",
    "    'recurrentPPOAgent': rppo_df,\n",
    "    'constantAgent': constant_df\n",
    "}"
   ]
  },
  {
   "cell_type": "code",
   "execution_count": null,
   "id": "032e9088-ad31-4c14-8cef-7de5ad4abd18",
   "metadata": {},
   "outputs": [],
   "source": [
    "from rl4greencrab import generate_policy_rews_df_dfs\n",
    "rew_df = generate_policy_rews_df_dfs(agent_dict)"
   ]
  },
  {
   "cell_type": "code",
   "execution_count": null,
   "id": "5c523098-3d76-4b0c-b9e2-d5959ad7b3a3",
   "metadata": {},
   "outputs": [],
   "source": [
    "ppo_plot_agent = plot_agent(env_sim_df=ppo_df, agent_name='ppo_agent', save_dir = './ppo_plot')\n",
    "tqc_plot_agent = plot_agent(env_sim_df=tqc_df, agent_name='tqc_agent', save_dir = './tqc_plot')"
   ]
  },
  {
   "cell_type": "code",
   "execution_count": null,
   "id": "d2cfede6-35be-4832-9838-5a54f8603cb5",
   "metadata": {},
   "outputs": [],
   "source": [
    "tqc_plot_agent.agent_action_overtime_plots()\n",
    "tqc_plot_agent.agent_ob_overtime_plots(obs_name='obs0')"
   ]
  },
  {
   "cell_type": "code",
   "execution_count": null,
   "id": "23d6e7b0-b335-4212-bba7-2a42315203f7",
   "metadata": {},
   "outputs": [],
   "source": [
    "ppo_plot_agent.agent_action_overtime_plots()\n",
    "ppo_plot_agent.agent_ob_overtime_plots(obs_name='obs0')\n",
    "ppo_plot_agent.obs_vs_acts_plots(ob_name='obs1')\n",
    "ppo_plot_agent.gaussian_smoothing()"
   ]
  }
 ],
 "metadata": {
  "kernelspec": {
   "display_name": "Python 3 (ipykernel)",
   "language": "python",
   "name": "python3"
  },
  "language_info": {
   "codemirror_mode": {
    "name": "ipython",
    "version": 3
   },
   "file_extension": ".py",
   "mimetype": "text/x-python",
   "name": "python",
   "nbconvert_exporter": "python",
   "pygments_lexer": "ipython3",
   "version": "3.12.10"
  }
 },
 "nbformat": 4,
 "nbformat_minor": 5
}
