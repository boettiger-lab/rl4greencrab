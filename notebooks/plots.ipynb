{
 "cells": [
  {
   "cell_type": "code",
   "execution_count": 1,
   "id": "56b25eb8-f3e6-4201-9d6a-415fb47fa6ea",
   "metadata": {},
   "outputs": [],
   "source": [
    "import numpy as np\n",
    "import pandas as pd\n",
    "from skopt import gp_minimize, gbrt_minimize \n",
    "from skopt.plots import plot_convergence, plot_objective\n",
    "from rl4greencrab.envs.green_crab_monthly_env import greenCrabMonthEnv\n",
    "from rl4greencrab.envs.green_crab_monthly_env_norm import greenCrabMonthEnvNormalized\n",
    "from rl4greencrab import evaluate_agent, multiConstAction, simulator, environment_simulation, plot_selected_sizes\n",
    "import matplotlib.pyplot as plt\n",
    "from ipywidgets import interact, widgets\n",
    "from huggingface_hub import hf_hub_download\n",
    "from stable_baselines3 import PPO, TD3\n",
    "from sb3_contrib import TQC, RecurrentPPO"
   ]
  },
  {
   "cell_type": "code",
   "execution_count": 14,
   "id": "5fc09b32-8ee6-499d-a16c-d6d3b305416a",
   "metadata": {},
   "outputs": [],
   "source": [
    "config = {\n",
    "        \"w_mort_scale\" : 600,\n",
    "        \"growth_k\": 0.70,\n",
    "    }"
   ]
  },
  {
   "cell_type": "markdown",
   "id": "820a5def-6a92-4e8a-aa27-4c280825f98d",
   "metadata": {},
   "source": [
    "## greencrab population change over times for each size"
   ]
  },
  {
   "cell_type": "code",
   "execution_count": 2,
   "id": "c4287aea-3881-42f2-afe6-20e865828741",
   "metadata": {},
   "outputs": [
    {
     "name": "stderr",
     "output_type": "stream",
     "text": [
      "/opt/conda/lib/python3.12/site-packages/gymnasium/spaces/box.py:305: UserWarning: \u001b[33mWARN: Box high's precision lowered by casting to float32, current high.dtype=float64\u001b[0m\n",
      "  gym.logger.warn(\n"
     ]
    }
   ],
   "source": [
    "env = greenCrabMonthEnv()"
   ]
  },
  {
   "cell_type": "code",
   "execution_count": 3,
   "id": "225b597a-351f-4c80-a993-4a9c31e1a3fd",
   "metadata": {},
   "outputs": [
    {
     "data": {
      "text/html": [
       "<div>\n",
       "<style scoped>\n",
       "    .dataframe tbody tr th:only-of-type {\n",
       "        vertical-align: middle;\n",
       "    }\n",
       "\n",
       "    .dataframe tbody tr th {\n",
       "        vertical-align: top;\n",
       "    }\n",
       "\n",
       "    .dataframe thead th {\n",
       "        text-align: right;\n",
       "    }\n",
       "</style>\n",
       "<table border=\"1\" class=\"dataframe\">\n",
       "  <thead>\n",
       "    <tr style=\"text-align: right;\">\n",
       "      <th></th>\n",
       "      <th>t</th>\n",
       "      <th>obs0</th>\n",
       "      <th>obs1</th>\n",
       "      <th>act0</th>\n",
       "      <th>act1</th>\n",
       "      <th>act2</th>\n",
       "      <th>rew</th>\n",
       "      <th>rep</th>\n",
       "      <th>crab_pop</th>\n",
       "    </tr>\n",
       "  </thead>\n",
       "  <tbody>\n",
       "    <tr>\n",
       "      <th>0</th>\n",
       "      <td>0</td>\n",
       "      <td>0.0</td>\n",
       "      <td>0.0</td>\n",
       "      <td>0</td>\n",
       "      <td>0</td>\n",
       "      <td>0</td>\n",
       "      <td>0.000000</td>\n",
       "      <td>0</td>\n",
       "      <td>[0.0, 0.0, 0.0, 0.0, 0.0, 0.0, 0.0, 0.0, 0.0, ...</td>\n",
       "    </tr>\n",
       "    <tr>\n",
       "      <th>1</th>\n",
       "      <td>1</td>\n",
       "      <td>0.0</td>\n",
       "      <td>0.0</td>\n",
       "      <td>0</td>\n",
       "      <td>0</td>\n",
       "      <td>0</td>\n",
       "      <td>-0.000061</td>\n",
       "      <td>0</td>\n",
       "      <td>[0.0, 0.0, 0.0, 0.0, 0.0, 0.0, 0.0, 0.0, 0.0, ...</td>\n",
       "    </tr>\n",
       "    <tr>\n",
       "      <th>2</th>\n",
       "      <td>2</td>\n",
       "      <td>0.0</td>\n",
       "      <td>0.0</td>\n",
       "      <td>0</td>\n",
       "      <td>0</td>\n",
       "      <td>0</td>\n",
       "      <td>-0.000123</td>\n",
       "      <td>0</td>\n",
       "      <td>[0.0, 0.0, 0.0, 0.0, 0.0, 0.0, 0.0, 0.0, 0.0, ...</td>\n",
       "    </tr>\n",
       "    <tr>\n",
       "      <th>3</th>\n",
       "      <td>3</td>\n",
       "      <td>0.0</td>\n",
       "      <td>0.0</td>\n",
       "      <td>0</td>\n",
       "      <td>0</td>\n",
       "      <td>0</td>\n",
       "      <td>-0.000184</td>\n",
       "      <td>0</td>\n",
       "      <td>[0.0, 0.0, 0.0, 0.0, 0.0, 0.0, 0.0, 0.0, 0.0, ...</td>\n",
       "    </tr>\n",
       "    <tr>\n",
       "      <th>4</th>\n",
       "      <td>4</td>\n",
       "      <td>0.0</td>\n",
       "      <td>0.0</td>\n",
       "      <td>0</td>\n",
       "      <td>0</td>\n",
       "      <td>0</td>\n",
       "      <td>-0.000245</td>\n",
       "      <td>0</td>\n",
       "      <td>[0.0, 0.0, 0.0, 0.0, 0.0, 0.0, 0.0, 0.0, 0.0, ...</td>\n",
       "    </tr>\n",
       "  </tbody>\n",
       "</table>\n",
       "</div>"
      ],
      "text/plain": [
       "   t  obs0  obs1  act0  act1  act2       rew  rep  \\\n",
       "0  0   0.0   0.0     0     0     0  0.000000    0   \n",
       "1  1   0.0   0.0     0     0     0 -0.000061    0   \n",
       "2  2   0.0   0.0     0     0     0 -0.000123    0   \n",
       "3  3   0.0   0.0     0     0     0 -0.000184    0   \n",
       "4  4   0.0   0.0     0     0     0 -0.000245    0   \n",
       "\n",
       "                                            crab_pop  \n",
       "0  [0.0, 0.0, 0.0, 0.0, 0.0, 0.0, 0.0, 0.0, 0.0, ...  \n",
       "1  [0.0, 0.0, 0.0, 0.0, 0.0, 0.0, 0.0, 0.0, 0.0, ...  \n",
       "2  [0.0, 0.0, 0.0, 0.0, 0.0, 0.0, 0.0, 0.0, 0.0, ...  \n",
       "3  [0.0, 0.0, 0.0, 0.0, 0.0, 0.0, 0.0, 0.0, 0.0, ...  \n",
       "4  [0.0, 0.0, 0.0, 0.0, 0.0, 0.0, 0.0, 0.0, 0.0, ...  "
      ]
     },
     "execution_count": 3,
     "metadata": {},
     "output_type": "execute_result"
    }
   ],
   "source": [
    "agent = multiConstAction(env=env, action=np.array([0, 0, 0]))\n",
    "constantData = environment_simulation(env, agent)\n",
    "constantDataDF = pd.DataFrame(constantData)\n",
    "constantDataDF.head()"
   ]
  },
  {
   "cell_type": "code",
   "execution_count": 4,
   "id": "1f59fd94-c089-4a90-8631-44723b2618ac",
   "metadata": {},
   "outputs": [],
   "source": [
    "crab_pop_df = pd.DataFrame(constantDataDF[constantDataDF['rep']==0]['crab_pop'].tolist(), columns=[f'crab_pop_{i}' for i in range(len(constantDataDF['crab_pop'][0]))])\n",
    "crab_pop_df['t'] = constantDataDF['t']"
   ]
  },
  {
   "cell_type": "code",
   "execution_count": 5,
   "id": "0f2b76fb-34ef-4333-8f85-f70144b6f042",
   "metadata": {},
   "outputs": [
    {
     "data": {
      "application/vnd.jupyter.widget-view+json": {
       "model_id": "f00981cf78d3498fa8037a925fc0e6a7",
       "version_major": 2,
       "version_minor": 0
      },
      "text/plain": [
       "interactive(children=(SelectMultiple(description='Sizes', index=(0,), options=('crab_pop_0', 'crab_pop_1', 'cr…"
      ]
     },
     "metadata": {},
     "output_type": "display_data"
    }
   ],
   "source": [
    "# Create a multi-select widget for crab size columns\n",
    "crab_pop_columns = [col for col in crab_pop_df.columns if col.startswith('crab_pop_')]\n",
    "size_selector = widgets.SelectMultiple(\n",
    "    options=crab_pop_columns,\n",
    "    value=[crab_pop_columns[0]],  # Default selection\n",
    "    description='Sizes',\n",
    "    disabled=False\n",
    ")\n",
    "# Create an interactive plot\n",
    "interact(lambda selected_sizes: plot_selected_sizes(crab_pop_df, selected_sizes), selected_sizes=size_selector);"
   ]
  },
  {
   "cell_type": "markdown",
   "id": "7239113e-7347-4bee-b096-3ea809332df7",
   "metadata": {},
   "source": [
    "## greencrab size distribution at certain time t"
   ]
  },
  {
   "cell_type": "code",
   "execution_count": 6,
   "id": "c82937f7-c7db-49a5-8cf8-5914b44a346d",
   "metadata": {},
   "outputs": [],
   "source": [
    "def pop_df_gen(dataDF):\n",
    "    df = pd.DataFrame(dataDF[dataDF['rep']==0]['crab_pop'].tolist(), \n",
    "                      columns=[f'crab_pop_{i}' for i in range(len(dataDF['crab_pop'][0]))])\n",
    "    df.columns = [i for i in range(len(df.columns))]\n",
    "    return df\n",
    "\n",
    "def plot_size_distribution(dataDF, time_step):\n",
    "    crab_pop_df = pop_df_gen(dataDF)\n",
    "    plt.figure(figsize=(8, 5))\n",
    "    plt.bar(crab_pop_df.columns, crab_pop_df.loc[time_step], color='blue', alpha=0.7)\n",
    "    plt.title(f'Crab Size Distribution at {time_step}')\n",
    "    plt.xlabel('Crab Size')\n",
    "    plt.ylabel('Density')\n",
    "    plt.grid(True)\n",
    "    plt.show()\n",
    "\n",
    "def interact_size_plot(dataDF):\n",
    "    return interact(\n",
    "        lambda time_step: plot_size_distribution(dataDF, time_step),\n",
    "         time_step=dataDF.index\n",
    "    );"
   ]
  },
  {
   "cell_type": "code",
   "execution_count": 9,
   "id": "cf9aef89-0475-4555-9b25-e83df54a4816",
   "metadata": {},
   "outputs": [
    {
     "data": {
      "application/vnd.jupyter.widget-view+json": {
       "model_id": "01473153c8a041a38e7d870d59e3ecdc",
       "version_major": 2,
       "version_minor": 0
      },
      "text/plain": [
       "interactive(children=(Dropdown(description='time_step', options=(0, 1, 2, 3, 4, 5, 6, 7, 8, 9, 10, 11, 12, 13,…"
      ]
     },
     "metadata": {},
     "output_type": "display_data"
    },
    {
     "data": {
      "text/plain": [
       "<function __main__.interact_size_plot.<locals>.<lambda>(time_step)>"
      ]
     },
     "execution_count": 9,
     "metadata": {},
     "output_type": "execute_result"
    }
   ],
   "source": [
    "agent = multiConstAction(env=env, action=np.array([0.0, 0, 0.0]))\n",
    "noInterventionData = environment_simulation(env, agent)\n",
    "noInterventionDataDF = pd.DataFrame(constantData)\n",
    "interact_size_plot(noInterventionDataDF)"
   ]
  },
  {
   "cell_type": "code",
   "execution_count": 10,
   "id": "ff51d323-c164-48f8-8ee6-dde07b0afe93",
   "metadata": {},
   "outputs": [
    {
     "data": {
      "application/vnd.jupyter.widget-view+json": {
       "model_id": "1fd73aca3f1c482da0cd465264fa4397",
       "version_major": 2,
       "version_minor": 0
      },
      "text/plain": [
       "interactive(children=(Dropdown(description='time_step', options=(0, 1, 2, 3, 4, 5, 6, 7, 8, 9, 10, 11, 12, 13,…"
      ]
     },
     "metadata": {},
     "output_type": "display_data"
    },
    {
     "data": {
      "text/plain": [
       "<function __main__.interact_size_plot.<locals>.<lambda>(time_step)>"
      ]
     },
     "execution_count": 10,
     "metadata": {},
     "output_type": "execute_result"
    }
   ],
   "source": [
    "agent = multiConstAction(env=env, action=np.array([83.87232800633504, 596.3225575635984, 14.882297944474463]))\n",
    "constantData = environment_simulation(env, agent)\n",
    "constantDataDF = pd.DataFrame(constantData)\n",
    "interact_size_plot(constantDataDF)"
   ]
  },
  {
   "cell_type": "code",
   "execution_count": 15,
   "id": "dfb7d55c-2c36-4463-a1f0-eedad99152db",
   "metadata": {},
   "outputs": [
    {
     "name": "stderr",
     "output_type": "stream",
     "text": [
      "/opt/conda/lib/python3.12/site-packages/gymnasium/spaces/box.py:305: UserWarning: \u001b[33mWARN: Box high's precision lowered by casting to float32, current high.dtype=float64\u001b[0m\n",
      "  gym.logger.warn(\n"
     ]
    },
    {
     "data": {
      "application/vnd.jupyter.widget-view+json": {
       "model_id": "adf4f4c06db64073bad4bc3118a055ce",
       "version_major": 2,
       "version_minor": 0
      },
      "text/plain": [
       "interactive(children=(Dropdown(description='time_step', options=(0, 1, 2, 3, 4, 5, 6, 7, 8, 9, 10, 11, 12, 13,…"
      ]
     },
     "metadata": {},
     "output_type": "display_data"
    },
    {
     "data": {
      "text/plain": [
       "<function __main__.interact_size_plot.<locals>.<lambda>(time_step)>"
      ]
     },
     "execution_count": 15,
     "metadata": {},
     "output_type": "execute_result"
    }
   ],
   "source": [
    "eval_env = greenCrabMonthEnvNormalized(config)\n",
    "ppoAgent = PPO.load(\"../saved_agents/PPO_gcmenorm\", device=\"cpu\")\n",
    "ppoDataDF = pd.DataFrame(environment_simulation(eval_env, ppoAgent))\n",
    "interact_size_plot(ppoDataDF)"
   ]
  },
  {
   "cell_type": "markdown",
   "id": "06584a4b-37e2-47c4-88ba-ecebf9f86c14",
   "metadata": {},
   "source": [
    "## Overlap Policy Size Distribution"
   ]
  },
  {
   "cell_type": "code",
   "execution_count": 16,
   "id": "0e88ac47-8c46-4218-afc7-5bcc97fe118a",
   "metadata": {},
   "outputs": [],
   "source": [
    "dataDF_list = [noInterventionDataDF, constantDataDF, ppoDataDF]"
   ]
  },
  {
   "cell_type": "code",
   "execution_count": 17,
   "id": "8d4b51fa-774a-4e6d-a2f7-2b016a1a14d2",
   "metadata": {},
   "outputs": [],
   "source": [
    "def plot_size_distr_overlap(dataDF_list, time_step):\n",
    "    plt.figure(figsize=(8, 5))\n",
    "    for i, df in enumerate(dataDF_list):\n",
    "        crab_pop_df = pop_df_gen(df)\n",
    "        plt.bar(\n",
    "            crab_pop_df.columns,\n",
    "            crab_pop_df.loc[time_step],\n",
    "            alpha=0.5,\n",
    "            label=f\"DataFrame {i+1}\"\n",
    "        )\n",
    "    plt.legend()\n",
    "    plt.title(f'Crab Size Distribution at {time_step}')\n",
    "    plt.xlabel('Crab Size')\n",
    "    plt.ylabel('Density')\n",
    "    plt.grid(True)\n",
    "    plt.show()\n",
    "\n",
    "def interact_size_plot(dataDF_list):\n",
    "    return interact(\n",
    "        lambda time_step: plot_size_distr_overlap(dataDF_list, time_step),\n",
    "         time_step=pd.DataFrame(dataDF_list[0]).index\n",
    "    );"
   ]
  },
  {
   "cell_type": "code",
   "execution_count": 18,
   "id": "2dc1df34-1c7a-45f4-a26f-d78bea7f6ad2",
   "metadata": {},
   "outputs": [
    {
     "data": {
      "application/vnd.jupyter.widget-view+json": {
       "model_id": "e95c21a003a1415282415396d3378c75",
       "version_major": 2,
       "version_minor": 0
      },
      "text/plain": [
       "interactive(children=(Dropdown(description='time_step', options=(0, 1, 2, 3, 4, 5, 6, 7, 8, 9, 10, 11, 12, 13,…"
      ]
     },
     "metadata": {},
     "output_type": "display_data"
    },
    {
     "data": {
      "text/plain": [
       "<function __main__.interact_size_plot.<locals>.<lambda>(time_step)>"
      ]
     },
     "execution_count": 18,
     "metadata": {},
     "output_type": "execute_result"
    }
   ],
   "source": [
    "interact_size_plot(dataDF_list)"
   ]
  }
 ],
 "metadata": {
  "kernelspec": {
   "display_name": "Python 3 (ipykernel)",
   "language": "python",
   "name": "python3"
  },
  "language_info": {
   "codemirror_mode": {
    "name": "ipython",
    "version": 3
   },
   "file_extension": ".py",
   "mimetype": "text/x-python",
   "name": "python",
   "nbconvert_exporter": "python",
   "pygments_lexer": "ipython3",
   "version": "3.12.10"
  }
 },
 "nbformat": 4,
 "nbformat_minor": 5
}
